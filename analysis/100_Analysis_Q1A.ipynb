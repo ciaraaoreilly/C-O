{
 "cells": [
  {
   "cell_type": "markdown",
   "metadata": {},
   "source": [
    "# 100_Analysis_Q1A\n",
    "\n",
    "# _ Question One: Is There a Safest Time for Travel?_\n",
    "\n",
    "## _ (A): Is it Safer to Drive in the Summer than in the Winter?_\n",
    "\n",
    "\n",
    "## Purpose\n",
    "\n",
    "We will now begin to analyse and explore our newly validated and prepared datasets. In this notebook we will explore whether there is a safest time for road travel. In particular, we will analyse whether it is safer to drive in the Summer than in the Winter. To do this, we will use our date and time columns to see whether more accidents occur at certain times of the day/month/year, and how severe these respective accidents are.\n",
    "\n",
    "\n",
    "### Notebook Contents:\n",
    "\n",
    "* __1:__ Loading our Datasets\n",
    "     * __1.1:__ A Closer look at the Data\n",
    "\n",
    "* __2:__ Accidents by Season\n",
    "     * __2.1:__ Accident Severity by Season\n",
    "     * __2.2:__ Aggregate the Data\n",
    "\n",
    "* __3:__ Weather Conditions     \n",
    "     * __3.1:__ Aggregate the Data\n",
    "\n",
    "* __4:__ Saving to Pickle Files & Creating Data Dictionaries\n",
    "\n",
    "\n",
    "\n",
    "## Datasets\n",
    "\n",
    "* __Input__:\n",
    "\n",
    "* 700_Q1AB_final_prep_1.pkl (Fully prepared dataset 1 of UK Road Safety Data from 1979 - 2016, for RQ1(A) and (B))\n",
    "\n",
    "\n",
    "* 700_Q1AB_final_prep_2.pkl (Fully prepared dataset 2 of UK Road Safety Data from 1979 - 2016, for RQ1(A) and (B))\n",
    "\n",
    "\n",
    "* 700_Q1AB_final_prep_3.pkl (Fully prepared dataset 3 of UK Road Safety Data from 1979 - 2016, for RQ1(A) and (B))\n",
    "\n",
    "\n",
    "* 700_Q1AB_final_prep_4.pkl (Fully prepared dataset 4 of UK Road Safety Data from 1979 - 2016, for RQ1(A) and (B))\n",
    "\n",
    "\n",
    "* __Output__: \n",
    "\n",
    "* 100_analysis_Q1A_all_seasons_severity.pkl (All accident severity per season of UK Road Accidents from 1979 - 2016)\n",
    "\n",
    "\n",
    "* 100_analysis_Q1A_norm_seasons_severity.pkl(Normalised accident severity per season of UK Road Accidents from 1979 - 2016)\n",
    "\n",
    "\n",
    "* 100_analysis_Q1A_norm_seasons_weather.pkl (Normalised weather conditions per season of UK Road Accidents from 1979 - 2016)\n",
    "\n",
    "\n",
    "* 100_analysis_Q1A_norm_seasons_road_cond.pkl (Normalised road conditions per season of UK Road Accidents from 1979 - 2016)"
   ]
  },
  {
   "cell_type": "code",
   "execution_count": 1,
   "metadata": {
    "collapsed": true
   },
   "outputs": [],
   "source": [
    "import os\n",
    "import sys\n",
    "\n",
    "import pandas as pd\n",
    "import numpy as np\n",
    "import matplotlib.pylab as plt\n",
    "import seaborn as sns\n",
    "\n",
    "module_path = os.path.abspath(os.path.join('../../data/..'))\n",
    "if module_path not in sys.path:\n",
    "    sys.path.append(module_path)\n",
    "    \n",
    "from src.helpers import data_dictionary\n",
    "\n",
    "%matplotlib inline"
   ]
  },
  {
   "cell_type": "markdown",
   "metadata": {},
   "source": [
    "## 1. \n",
    "## Loading in the Datasets\n",
    "\n",
    "Since we have cleaned our initial dataset and saved only the columns which are relevant to this research question in separate pickle files, we will read in these cleaned datasets using the pd.read_pickly method, for the purpose of answering this research question."
   ]
  },
  {
   "cell_type": "code",
   "execution_count": 2,
   "metadata": {},
   "outputs": [
    {
     "data": {
      "text/plain": [
       "(3011743, 17)"
      ]
     },
     "execution_count": 2,
     "metadata": {},
     "output_type": "execute_result"
    }
   ],
   "source": [
    "Q1A_1 = pd.read_pickle('../../data/processed/700_Q1AB_final_prep_1.pkl')\n",
    "Q1A_1.shape"
   ]
  },
  {
   "cell_type": "code",
   "execution_count": 3,
   "metadata": {},
   "outputs": [
    {
     "data": {
      "text/plain": [
       "(3021931, 17)"
      ]
     },
     "execution_count": 3,
     "metadata": {},
     "output_type": "execute_result"
    }
   ],
   "source": [
    "Q1A_2 = pd.read_pickle('../../data/processed/700_Q1AB_final_prep_2.pkl')\n",
    "Q1A_2.shape"
   ]
  },
  {
   "cell_type": "code",
   "execution_count": 4,
   "metadata": {},
   "outputs": [
    {
     "data": {
      "text/plain": [
       "(3420640, 17)"
      ]
     },
     "execution_count": 4,
     "metadata": {},
     "output_type": "execute_result"
    }
   ],
   "source": [
    "Q1A_3 = pd.read_pickle('../../data/processed/700_Q1AB_final_prep_3.pkl')\n",
    "Q1A_3.shape"
   ]
  },
  {
   "cell_type": "code",
   "execution_count": 5,
   "metadata": {},
   "outputs": [
    {
     "data": {
      "text/plain": [
       "(3010896, 17)"
      ]
     },
     "execution_count": 5,
     "metadata": {},
     "output_type": "execute_result"
    }
   ],
   "source": [
    "Q1A_4 = pd.read_pickle('../../data/processed/700_Q1AB_final_prep_4.pkl')\n",
    "Q1A_4.shape"
   ]
  },
  {
   "cell_type": "markdown",
   "metadata": {},
   "source": [
    "## 1.1\n",
    "## A closer look at the data"
   ]
  },
  {
   "cell_type": "code",
   "execution_count": 6,
   "metadata": {},
   "outputs": [
    {
     "data": {
      "text/html": [
       "<div>\n",
       "<style scoped>\n",
       "    .dataframe tbody tr th:only-of-type {\n",
       "        vertical-align: middle;\n",
       "    }\n",
       "\n",
       "    .dataframe tbody tr th {\n",
       "        vertical-align: top;\n",
       "    }\n",
       "\n",
       "    .dataframe thead th {\n",
       "        text-align: right;\n",
       "    }\n",
       "</style>\n",
       "<table border=\"1\" class=\"dataframe\">\n",
       "  <thead>\n",
       "    <tr style=\"text-align: right;\">\n",
       "      <th></th>\n",
       "      <th>Accident_Index</th>\n",
       "      <th>Accident_Severity</th>\n",
       "      <th>Number_of_Vehicles</th>\n",
       "      <th>Number_of_Casualties</th>\n",
       "      <th>Date</th>\n",
       "      <th>Day_of_Week</th>\n",
       "      <th>Time</th>\n",
       "      <th>Local_Authority_(District)</th>\n",
       "      <th>Light_Conditions</th>\n",
       "      <th>Weather_Conditions</th>\n",
       "      <th>Road_Surface_Conditions</th>\n",
       "      <th>Vehicle_Type</th>\n",
       "      <th>Sex_of_Driver</th>\n",
       "      <th>Age_Band_of_Driver</th>\n",
       "      <th>Date_Day</th>\n",
       "      <th>Month</th>\n",
       "      <th>Year</th>\n",
       "    </tr>\n",
       "  </thead>\n",
       "  <tbody>\n",
       "    <tr>\n",
       "      <th>85587</th>\n",
       "      <td>197903A102220</td>\n",
       "      <td>serious</td>\n",
       "      <td>2</td>\n",
       "      <td>2</td>\n",
       "      <td>07/04/1979</td>\n",
       "      <td>sunday</td>\n",
       "      <td>12:30</td>\n",
       "      <td>63</td>\n",
       "      <td>daylight</td>\n",
       "      <td>fine no high winds</td>\n",
       "      <td>wet or damp</td>\n",
       "      <td>bus or coach</td>\n",
       "      <td>male</td>\n",
       "      <td>26 - 35</td>\n",
       "      <td>07</td>\n",
       "      <td>04</td>\n",
       "      <td>1979</td>\n",
       "    </tr>\n",
       "    <tr>\n",
       "      <th>85588</th>\n",
       "      <td>197903A102220</td>\n",
       "      <td>serious</td>\n",
       "      <td>2</td>\n",
       "      <td>2</td>\n",
       "      <td>07/04/1979</td>\n",
       "      <td>sunday</td>\n",
       "      <td>12:30</td>\n",
       "      <td>63</td>\n",
       "      <td>daylight</td>\n",
       "      <td>fine no high winds</td>\n",
       "      <td>wet or damp</td>\n",
       "      <td>car</td>\n",
       "      <td>male</td>\n",
       "      <td>46 - 55</td>\n",
       "      <td>07</td>\n",
       "      <td>04</td>\n",
       "      <td>1979</td>\n",
       "    </tr>\n",
       "  </tbody>\n",
       "</table>\n",
       "</div>"
      ],
      "text/plain": [
       "      Accident_Index Accident_Severity  Number_of_Vehicles  \\\n",
       "85587  197903A102220           serious                   2   \n",
       "85588  197903A102220           serious                   2   \n",
       "\n",
       "       Number_of_Casualties        Date Day_of_Week   Time  \\\n",
       "85587                     2  07/04/1979      sunday  12:30   \n",
       "85588                     2  07/04/1979      sunday  12:30   \n",
       "\n",
       "       Local_Authority_(District) Light_Conditions  Weather_Conditions  \\\n",
       "85587                          63         daylight  fine no high winds   \n",
       "85588                          63         daylight  fine no high winds   \n",
       "\n",
       "      Road_Surface_Conditions  Vehicle_Type Sex_of_Driver Age_Band_of_Driver  \\\n",
       "85587             wet or damp  bus or coach          male            26 - 35   \n",
       "85588             wet or damp           car          male            46 - 55   \n",
       "\n",
       "      Date_Day Month  Year  \n",
       "85587       07    04  1979  \n",
       "85588       07    04  1979  "
      ]
     },
     "execution_count": 6,
     "metadata": {},
     "output_type": "execute_result"
    }
   ],
   "source": [
    "Q1A_1.head(2) #print the first two lines of the first dataset"
   ]
  },
  {
   "cell_type": "code",
   "execution_count": 7,
   "metadata": {},
   "outputs": [
    {
     "data": {
      "text/html": [
       "<div>\n",
       "<style scoped>\n",
       "    .dataframe tbody tr th:only-of-type {\n",
       "        vertical-align: middle;\n",
       "    }\n",
       "\n",
       "    .dataframe tbody tr th {\n",
       "        vertical-align: top;\n",
       "    }\n",
       "\n",
       "    .dataframe thead th {\n",
       "        text-align: right;\n",
       "    }\n",
       "</style>\n",
       "<table border=\"1\" class=\"dataframe\">\n",
       "  <thead>\n",
       "    <tr style=\"text-align: right;\">\n",
       "      <th></th>\n",
       "      <th>Accident_Index</th>\n",
       "      <th>Accident_Severity</th>\n",
       "      <th>Number_of_Vehicles</th>\n",
       "      <th>Number_of_Casualties</th>\n",
       "      <th>Date</th>\n",
       "      <th>Day_of_Week</th>\n",
       "      <th>Time</th>\n",
       "      <th>Local_Authority_(District)</th>\n",
       "      <th>Light_Conditions</th>\n",
       "      <th>Weather_Conditions</th>\n",
       "      <th>Road_Surface_Conditions</th>\n",
       "      <th>Vehicle_Type</th>\n",
       "      <th>Sex_of_Driver</th>\n",
       "      <th>Age_Band_of_Driver</th>\n",
       "      <th>Date_Day</th>\n",
       "      <th>Month</th>\n",
       "      <th>Year</th>\n",
       "    </tr>\n",
       "  </thead>\n",
       "  <tbody>\n",
       "    <tr>\n",
       "      <th>479546</th>\n",
       "      <td>2016984131316</td>\n",
       "      <td>slight</td>\n",
       "      <td>1</td>\n",
       "      <td>3</td>\n",
       "      <td>29/10/2016</td>\n",
       "      <td>sunday</td>\n",
       "      <td>20:00</td>\n",
       "      <td>917</td>\n",
       "      <td>darkness - lights lit</td>\n",
       "      <td>fine no high winds</td>\n",
       "      <td>dry</td>\n",
       "      <td>car</td>\n",
       "      <td>male</td>\n",
       "      <td>16 - 20</td>\n",
       "      <td>29</td>\n",
       "      <td>10</td>\n",
       "      <td>2016</td>\n",
       "    </tr>\n",
       "    <tr>\n",
       "      <th>479547</th>\n",
       "      <td>2016984133416</td>\n",
       "      <td>slight</td>\n",
       "      <td>1</td>\n",
       "      <td>2</td>\n",
       "      <td>25/12/2016</td>\n",
       "      <td>monday</td>\n",
       "      <td>12:30</td>\n",
       "      <td>917</td>\n",
       "      <td>daylight</td>\n",
       "      <td>raining + high winds</td>\n",
       "      <td>wet or damp</td>\n",
       "      <td>car</td>\n",
       "      <td>male</td>\n",
       "      <td>46 - 55</td>\n",
       "      <td>25</td>\n",
       "      <td>12</td>\n",
       "      <td>2016</td>\n",
       "    </tr>\n",
       "  </tbody>\n",
       "</table>\n",
       "</div>"
      ],
      "text/plain": [
       "       Accident_Index Accident_Severity  Number_of_Vehicles  \\\n",
       "479546  2016984131316            slight                   1   \n",
       "479547  2016984133416            slight                   1   \n",
       "\n",
       "        Number_of_Casualties        Date Day_of_Week   Time  \\\n",
       "479546                     3  29/10/2016      sunday  20:00   \n",
       "479547                     2  25/12/2016      monday  12:30   \n",
       "\n",
       "        Local_Authority_(District)       Light_Conditions  \\\n",
       "479546                         917  darkness - lights lit   \n",
       "479547                         917               daylight   \n",
       "\n",
       "          Weather_Conditions Road_Surface_Conditions Vehicle_Type  \\\n",
       "479546    fine no high winds                     dry          car   \n",
       "479547  raining + high winds             wet or damp          car   \n",
       "\n",
       "       Sex_of_Driver Age_Band_of_Driver Date_Day Month  Year  \n",
       "479546          male            16 - 20       29    10  2016  \n",
       "479547          male            46 - 55       25    12  2016  "
      ]
     },
     "execution_count": 7,
     "metadata": {},
     "output_type": "execute_result"
    }
   ],
   "source": [
    "Q1A_4.tail(2) #print the last two lines of the last dataset"
   ]
  },
  {
   "cell_type": "markdown",
   "metadata": {},
   "source": [
    "Above, we have shown the first two and last two lines of data we will be using to answer research Question One (A).\n",
    "\n",
    "It is important to note that for this question, we will be using data from _1979 - 2016_ only."
   ]
  },
  {
   "cell_type": "markdown",
   "metadata": {},
   "source": [
    "## 2.\n",
    "## Accidents by Season\n",
    "\n",
    "Since our question is focusing on the seasons of the year rather than the specific date of road accidents, I will create a new column within the dataframe to record the season that each accident occurred in, based on the month column."
   ]
  },
  {
   "cell_type": "code",
   "execution_count": 6,
   "metadata": {
    "collapsed": true
   },
   "outputs": [],
   "source": [
    "newcol_1 = Q1A_1['Month'] #create new column called 'Season' as a copy of Month column\n",
    "new_Q1A_1 = Q1A_1.assign(Season=newcol_1)"
   ]
  },
  {
   "cell_type": "code",
   "execution_count": 7,
   "metadata": {
    "collapsed": true
   },
   "outputs": [],
   "source": [
    "newcol_2 = Q1A_2['Month'] #create new column called 'Season' as a copy of Month column\n",
    "new_Q1A_2 = Q1A_2.assign(Season=newcol_2)"
   ]
  },
  {
   "cell_type": "code",
   "execution_count": 8,
   "metadata": {
    "collapsed": true
   },
   "outputs": [],
   "source": [
    "newcol_3 = Q1A_3['Month'] #create new column called 'Season' as a copy of Month column\n",
    "new_Q1A_3 = Q1A_3.assign(Season=newcol_3)"
   ]
  },
  {
   "cell_type": "code",
   "execution_count": 9,
   "metadata": {
    "collapsed": true
   },
   "outputs": [],
   "source": [
    "newcol_4 = Q1A_4['Month'] #create new column called 'Season' as a copy of Month column\n",
    "new_Q1A_4 = Q1A_4.assign(Season=newcol_4)"
   ]
  },
  {
   "cell_type": "code",
   "execution_count": 10,
   "metadata": {},
   "outputs": [
    {
     "data": {
      "text/html": [
       "<div>\n",
       "<style scoped>\n",
       "    .dataframe tbody tr th:only-of-type {\n",
       "        vertical-align: middle;\n",
       "    }\n",
       "\n",
       "    .dataframe tbody tr th {\n",
       "        vertical-align: top;\n",
       "    }\n",
       "\n",
       "    .dataframe thead th {\n",
       "        text-align: right;\n",
       "    }\n",
       "</style>\n",
       "<table border=\"1\" class=\"dataframe\">\n",
       "  <thead>\n",
       "    <tr style=\"text-align: right;\">\n",
       "      <th></th>\n",
       "      <th>Accident_Index</th>\n",
       "      <th>Accident_Severity</th>\n",
       "      <th>Number_of_Vehicles</th>\n",
       "      <th>Number_of_Casualties</th>\n",
       "      <th>Date</th>\n",
       "      <th>Day_of_Week</th>\n",
       "      <th>Time</th>\n",
       "      <th>Local_Authority_(District)</th>\n",
       "      <th>Light_Conditions</th>\n",
       "      <th>Weather_Conditions</th>\n",
       "      <th>Road_Surface_Conditions</th>\n",
       "      <th>Vehicle_Type</th>\n",
       "      <th>Sex_of_Driver</th>\n",
       "      <th>Age_Band_of_Driver</th>\n",
       "      <th>Date_Day</th>\n",
       "      <th>Month</th>\n",
       "      <th>Year</th>\n",
       "      <th>Season</th>\n",
       "    </tr>\n",
       "  </thead>\n",
       "  <tbody>\n",
       "    <tr>\n",
       "      <th>0</th>\n",
       "      <td>200501BS00001</td>\n",
       "      <td>serious</td>\n",
       "      <td>1</td>\n",
       "      <td>1</td>\n",
       "      <td>04/01/2005</td>\n",
       "      <td>wednesday</td>\n",
       "      <td>17:42</td>\n",
       "      <td>12</td>\n",
       "      <td>daylight</td>\n",
       "      <td>raining no high winds</td>\n",
       "      <td>wet or damp</td>\n",
       "      <td>car</td>\n",
       "      <td>female</td>\n",
       "      <td>66 - 75</td>\n",
       "      <td>04</td>\n",
       "      <td>01</td>\n",
       "      <td>2005</td>\n",
       "      <td>01</td>\n",
       "    </tr>\n",
       "    <tr>\n",
       "      <th>1</th>\n",
       "      <td>200501BS00002</td>\n",
       "      <td>slight</td>\n",
       "      <td>1</td>\n",
       "      <td>1</td>\n",
       "      <td>05/01/2005</td>\n",
       "      <td>thursday</td>\n",
       "      <td>17:36</td>\n",
       "      <td>12</td>\n",
       "      <td>darkness - lights lit</td>\n",
       "      <td>fine no high winds</td>\n",
       "      <td>dry</td>\n",
       "      <td>bus or coach</td>\n",
       "      <td>male</td>\n",
       "      <td>36 - 45</td>\n",
       "      <td>05</td>\n",
       "      <td>01</td>\n",
       "      <td>2005</td>\n",
       "      <td>01</td>\n",
       "    </tr>\n",
       "  </tbody>\n",
       "</table>\n",
       "</div>"
      ],
      "text/plain": [
       "  Accident_Index Accident_Severity  Number_of_Vehicles  Number_of_Casualties  \\\n",
       "0  200501BS00001           serious                   1                     1   \n",
       "1  200501BS00002            slight                   1                     1   \n",
       "\n",
       "         Date Day_of_Week   Time  Local_Authority_(District)  \\\n",
       "0  04/01/2005   wednesday  17:42                          12   \n",
       "1  05/01/2005    thursday  17:36                          12   \n",
       "\n",
       "        Light_Conditions     Weather_Conditions Road_Surface_Conditions  \\\n",
       "0               daylight  raining no high winds             wet or damp   \n",
       "1  darkness - lights lit     fine no high winds                     dry   \n",
       "\n",
       "   Vehicle_Type Sex_of_Driver Age_Band_of_Driver Date_Day Month  Year Season  \n",
       "0           car        female            66 - 75       04    01  2005     01  \n",
       "1  bus or coach          male            36 - 45       05    01  2005     01  "
      ]
     },
     "execution_count": 10,
     "metadata": {},
     "output_type": "execute_result"
    }
   ],
   "source": [
    "new_Q1A_4.head(2) #print the first two lines of one new dataset"
   ]
  },
  {
   "cell_type": "markdown",
   "metadata": {},
   "source": [
    "Once we have created a 'Season' column in our datasets, we will now use a mapping function to assign the season based on the month that the accident occurred\n",
    "\n",
    "We have decided to define our seasons as follows: \n",
    "* Winter: December - February \n",
    "* Spring: March - May\n",
    "* Summer: June - August\n",
    "* Autumn: September - November\n",
    "\n",
    "We used information from the UK Met Office, viewable via [this  link](https://www.metoffice.gov.uk/learning/seasons/) to determine this."
   ]
  },
  {
   "cell_type": "code",
   "execution_count": 11,
   "metadata": {
    "collapsed": true
   },
   "outputs": [],
   "source": [
    "UK_seasons_map = {'12':'Winter', '01':'Winter', '02':'Winter', '03':'Spring', '04':'Spring', '05':'Spring', '06':'Summer', '07':'Summer', '08':'Summer', '09':'Autumn', '10':'Autumn', '11':'Autumn'} #define mapping values"
   ]
  },
  {
   "cell_type": "markdown",
   "metadata": {},
   "source": [
    "To apply this map function:\n",
    "\n",
    "* We must specify the column which we want to apply the mapping function to.\n",
    "* We then must apply a lambda function to our map, which will replace any occurrence of a value that is present in the map, otherwise it will leave the value as the original.\n",
    "\n",
    "We have used code from [this](https://stackoverflow.com/questions/17114904/python-pandas-replacing-strings-in-dataframe-with-numbers) stack overflow question to carry out the mapping function."
   ]
  },
  {
   "cell_type": "code",
   "execution_count": 12,
   "metadata": {
    "collapsed": true
   },
   "outputs": [],
   "source": [
    "new_Q1A_1['Season'] = new_Q1A_1['Season'].apply(lambda s: UK_seasons_map.get(s) if s in UK_seasons_map else s) #apply mapping function to each value in the 'Month' Column\n",
    "new_Q1A_2['Season'] = new_Q1A_2['Season'].apply(lambda s: UK_seasons_map.get(s) if s in UK_seasons_map else s)\n",
    "new_Q1A_3['Season'] = new_Q1A_3['Season'].apply(lambda s: UK_seasons_map.get(s) if s in UK_seasons_map else s)\n",
    "new_Q1A_4['Season'] = new_Q1A_4['Season'].apply(lambda s: UK_seasons_map.get(s) if s in UK_seasons_map else s)"
   ]
  },
  {
   "cell_type": "code",
   "execution_count": 13,
   "metadata": {},
   "outputs": [
    {
     "data": {
      "text/html": [
       "<div>\n",
       "<style scoped>\n",
       "    .dataframe tbody tr th:only-of-type {\n",
       "        vertical-align: middle;\n",
       "    }\n",
       "\n",
       "    .dataframe tbody tr th {\n",
       "        vertical-align: top;\n",
       "    }\n",
       "\n",
       "    .dataframe thead th {\n",
       "        text-align: right;\n",
       "    }\n",
       "</style>\n",
       "<table border=\"1\" class=\"dataframe\">\n",
       "  <thead>\n",
       "    <tr style=\"text-align: right;\">\n",
       "      <th></th>\n",
       "      <th>Accident_Index</th>\n",
       "      <th>Accident_Severity</th>\n",
       "      <th>Number_of_Vehicles</th>\n",
       "      <th>Number_of_Casualties</th>\n",
       "      <th>Date</th>\n",
       "      <th>Day_of_Week</th>\n",
       "      <th>Time</th>\n",
       "      <th>Local_Authority_(District)</th>\n",
       "      <th>Light_Conditions</th>\n",
       "      <th>Weather_Conditions</th>\n",
       "      <th>Road_Surface_Conditions</th>\n",
       "      <th>Vehicle_Type</th>\n",
       "      <th>Sex_of_Driver</th>\n",
       "      <th>Age_Band_of_Driver</th>\n",
       "      <th>Date_Day</th>\n",
       "      <th>Month</th>\n",
       "      <th>Year</th>\n",
       "      <th>Season</th>\n",
       "    </tr>\n",
       "  </thead>\n",
       "  <tbody>\n",
       "    <tr>\n",
       "      <th>85587</th>\n",
       "      <td>197903A102220</td>\n",
       "      <td>serious</td>\n",
       "      <td>2</td>\n",
       "      <td>2</td>\n",
       "      <td>07/04/1979</td>\n",
       "      <td>sunday</td>\n",
       "      <td>12:30</td>\n",
       "      <td>63</td>\n",
       "      <td>daylight</td>\n",
       "      <td>fine no high winds</td>\n",
       "      <td>wet or damp</td>\n",
       "      <td>bus or coach</td>\n",
       "      <td>male</td>\n",
       "      <td>26 - 35</td>\n",
       "      <td>07</td>\n",
       "      <td>04</td>\n",
       "      <td>1979</td>\n",
       "      <td>Spring</td>\n",
       "    </tr>\n",
       "    <tr>\n",
       "      <th>85588</th>\n",
       "      <td>197903A102220</td>\n",
       "      <td>serious</td>\n",
       "      <td>2</td>\n",
       "      <td>2</td>\n",
       "      <td>07/04/1979</td>\n",
       "      <td>sunday</td>\n",
       "      <td>12:30</td>\n",
       "      <td>63</td>\n",
       "      <td>daylight</td>\n",
       "      <td>fine no high winds</td>\n",
       "      <td>wet or damp</td>\n",
       "      <td>car</td>\n",
       "      <td>male</td>\n",
       "      <td>46 - 55</td>\n",
       "      <td>07</td>\n",
       "      <td>04</td>\n",
       "      <td>1979</td>\n",
       "      <td>Spring</td>\n",
       "    </tr>\n",
       "  </tbody>\n",
       "</table>\n",
       "</div>"
      ],
      "text/plain": [
       "      Accident_Index Accident_Severity  Number_of_Vehicles  \\\n",
       "85587  197903A102220           serious                   2   \n",
       "85588  197903A102220           serious                   2   \n",
       "\n",
       "       Number_of_Casualties        Date Day_of_Week   Time  \\\n",
       "85587                     2  07/04/1979      sunday  12:30   \n",
       "85588                     2  07/04/1979      sunday  12:30   \n",
       "\n",
       "       Local_Authority_(District) Light_Conditions  Weather_Conditions  \\\n",
       "85587                          63         daylight  fine no high winds   \n",
       "85588                          63         daylight  fine no high winds   \n",
       "\n",
       "      Road_Surface_Conditions  Vehicle_Type Sex_of_Driver Age_Band_of_Driver  \\\n",
       "85587             wet or damp  bus or coach          male            26 - 35   \n",
       "85588             wet or damp           car          male            46 - 55   \n",
       "\n",
       "      Date_Day Month  Year  Season  \n",
       "85587       07    04  1979  Spring  \n",
       "85588       07    04  1979  Spring  "
      ]
     },
     "execution_count": 13,
     "metadata": {},
     "output_type": "execute_result"
    }
   ],
   "source": [
    "new_Q1A_1.head(2) #display the first 2 lines of one of the updated datasets."
   ]
  },
  {
   "cell_type": "markdown",
   "metadata": {},
   "source": [
    "### Group by Season\n",
    "\n",
    "Since we are focusing on the season in which accidents occur, I will group accidents based on season.\n",
    "\n",
    "This will produce a `groupby` object, which contains groups in a Python `dict`, indexed, in this case, by `Season` and whose values are the indices of the dataframe rows associated with the corresponding year."
   ]
  },
  {
   "cell_type": "code",
   "execution_count": 14,
   "metadata": {},
   "outputs": [
    {
     "data": {
      "text/plain": [
       "<pandas.core.groupby.DataFrameGroupBy object at 0x000001F9DDC42E10>"
      ]
     },
     "execution_count": 14,
     "metadata": {},
     "output_type": "execute_result"
    }
   ],
   "source": [
    "group_by_season_1 = new_Q1A_1.groupby('Season')\n",
    "group_by_season_1"
   ]
  },
  {
   "cell_type": "code",
   "execution_count": 15,
   "metadata": {},
   "outputs": [
    {
     "data": {
      "text/plain": [
       "<pandas.core.groupby.DataFrameGroupBy object at 0x000001F9DDC42A58>"
      ]
     },
     "execution_count": 15,
     "metadata": {},
     "output_type": "execute_result"
    }
   ],
   "source": [
    "group_by_season_2 = new_Q1A_2.groupby('Season')\n",
    "group_by_season_2"
   ]
  },
  {
   "cell_type": "code",
   "execution_count": 16,
   "metadata": {},
   "outputs": [
    {
     "data": {
      "text/plain": [
       "<pandas.core.groupby.DataFrameGroupBy object at 0x000001F9DDC42780>"
      ]
     },
     "execution_count": 16,
     "metadata": {},
     "output_type": "execute_result"
    }
   ],
   "source": [
    "group_by_season_3 = new_Q1A_3.groupby('Season')\n",
    "group_by_season_3"
   ]
  },
  {
   "cell_type": "code",
   "execution_count": 17,
   "metadata": {},
   "outputs": [
    {
     "data": {
      "text/plain": [
       "<pandas.core.groupby.DataFrameGroupBy object at 0x000001F9DDC427F0>"
      ]
     },
     "execution_count": 17,
     "metadata": {},
     "output_type": "execute_result"
    }
   ],
   "source": [
    "group_by_season_4 = new_Q1A_4.groupby('Season')\n",
    "group_by_season_4"
   ]
  },
  {
   "cell_type": "markdown",
   "metadata": {},
   "source": [
    "As an example, we can see below that the keys used by our groupby object are the seasons of the year"
   ]
  },
  {
   "cell_type": "code",
   "execution_count": 18,
   "metadata": {},
   "outputs": [
    {
     "data": {
      "text/plain": [
       "dict_keys(['Autumn', 'Spring', 'Summer', 'Winter'])"
      ]
     },
     "execution_count": 18,
     "metadata": {},
     "output_type": "execute_result"
    }
   ],
   "source": [
    "group_by_season_1.groups.keys()"
   ]
  },
  {
   "cell_type": "markdown",
   "metadata": {},
   "source": [
    "Below, I will look at how many accidents have occurred in each season, using the size method."
   ]
  },
  {
   "cell_type": "code",
   "execution_count": 19,
   "metadata": {},
   "outputs": [
    {
     "data": {
      "text/plain": [
       "Season\n",
       "Autumn    842172\n",
       "Spring    712166\n",
       "Summer    786044\n",
       "Winter    671361\n",
       "dtype: int64"
      ]
     },
     "execution_count": 19,
     "metadata": {},
     "output_type": "execute_result"
    }
   ],
   "source": [
    "group_by_season_1.size()"
   ]
  },
  {
   "cell_type": "code",
   "execution_count": 20,
   "metadata": {},
   "outputs": [
    {
     "data": {
      "text/plain": [
       "Season\n",
       "Autumn    818315\n",
       "Spring    718922\n",
       "Summer    766244\n",
       "Winter    718450\n",
       "dtype: int64"
      ]
     },
     "execution_count": 20,
     "metadata": {},
     "output_type": "execute_result"
    }
   ],
   "source": [
    "group_by_season_2.size()"
   ]
  },
  {
   "cell_type": "code",
   "execution_count": 21,
   "metadata": {},
   "outputs": [
    {
     "data": {
      "text/plain": [
       "Season\n",
       "Autumn    925569\n",
       "Spring    815082\n",
       "Summer    856038\n",
       "Winter    823951\n",
       "dtype: int64"
      ]
     },
     "execution_count": 21,
     "metadata": {},
     "output_type": "execute_result"
    }
   ],
   "source": [
    "group_by_season_3.size()"
   ]
  },
  {
   "cell_type": "code",
   "execution_count": 22,
   "metadata": {},
   "outputs": [
    {
     "data": {
      "text/plain": [
       "Season\n",
       "Autumn    806653\n",
       "Spring    728870\n",
       "Summer    774091\n",
       "Winter    701282\n",
       "dtype: int64"
      ]
     },
     "execution_count": 22,
     "metadata": {},
     "output_type": "execute_result"
    }
   ],
   "source": [
    "group_by_season_4.size()"
   ]
  },
  {
   "cell_type": "markdown",
   "metadata": {},
   "source": [
    "So, it seems that most accidents occur in Autumn. Below we will take a further look at these accidents.\n",
    "\n",
    "## 2.1\n",
    "## Accident Severity by Season\n",
    "\n",
    "Here, we will group the accidents from each season into the severity of the accident. this ranges from slight, serious to fatal. This will give us a good indication of not only how many accidents occur in each season, but which season sees the most serious accidents over all."
   ]
  },
  {
   "cell_type": "code",
   "execution_count": 23,
   "metadata": {},
   "outputs": [
    {
     "data": {
      "text/html": [
       "<div>\n",
       "<style scoped>\n",
       "    .dataframe tbody tr th:only-of-type {\n",
       "        vertical-align: middle;\n",
       "    }\n",
       "\n",
       "    .dataframe tbody tr th {\n",
       "        vertical-align: top;\n",
       "    }\n",
       "\n",
       "    .dataframe thead th {\n",
       "        text-align: right;\n",
       "    }\n",
       "</style>\n",
       "<table border=\"1\" class=\"dataframe\">\n",
       "  <thead>\n",
       "    <tr style=\"text-align: right;\">\n",
       "      <th>Accident_Severity</th>\n",
       "      <th>fatal</th>\n",
       "      <th>serious</th>\n",
       "      <th>slight</th>\n",
       "    </tr>\n",
       "    <tr>\n",
       "      <th>Season</th>\n",
       "      <th></th>\n",
       "      <th></th>\n",
       "      <th></th>\n",
       "    </tr>\n",
       "  </thead>\n",
       "  <tbody>\n",
       "    <tr>\n",
       "      <th>Autumn</th>\n",
       "      <td>18569</td>\n",
       "      <td>215538</td>\n",
       "      <td>608065</td>\n",
       "    </tr>\n",
       "    <tr>\n",
       "      <th>Spring</th>\n",
       "      <td>14525</td>\n",
       "      <td>180584</td>\n",
       "      <td>517057</td>\n",
       "    </tr>\n",
       "    <tr>\n",
       "      <th>Summer</th>\n",
       "      <td>16757</td>\n",
       "      <td>199662</td>\n",
       "      <td>569625</td>\n",
       "    </tr>\n",
       "    <tr>\n",
       "      <th>Winter</th>\n",
       "      <td>15261</td>\n",
       "      <td>167990</td>\n",
       "      <td>488110</td>\n",
       "    </tr>\n",
       "  </tbody>\n",
       "</table>\n",
       "</div>"
      ],
      "text/plain": [
       "Accident_Severity  fatal  serious  slight\n",
       "Season                                   \n",
       "Autumn             18569   215538  608065\n",
       "Spring             14525   180584  517057\n",
       "Summer             16757   199662  569625\n",
       "Winter             15261   167990  488110"
      ]
     },
     "execution_count": 23,
     "metadata": {},
     "output_type": "execute_result"
    }
   ],
   "source": [
    "num_by_season_for_severity_1 = new_Q1A_1.groupby(\n",
    "    ['Season', 'Accident_Severity'])['Accident_Index'].count().unstack()\n",
    "\n",
    "num_by_season_for_severity_1"
   ]
  },
  {
   "cell_type": "code",
   "execution_count": 24,
   "metadata": {},
   "outputs": [
    {
     "data": {
      "text/html": [
       "<div>\n",
       "<style scoped>\n",
       "    .dataframe tbody tr th:only-of-type {\n",
       "        vertical-align: middle;\n",
       "    }\n",
       "\n",
       "    .dataframe tbody tr th {\n",
       "        vertical-align: top;\n",
       "    }\n",
       "\n",
       "    .dataframe thead th {\n",
       "        text-align: right;\n",
       "    }\n",
       "</style>\n",
       "<table border=\"1\" class=\"dataframe\">\n",
       "  <thead>\n",
       "    <tr style=\"text-align: right;\">\n",
       "      <th>Accident_Severity</th>\n",
       "      <th>fatal</th>\n",
       "      <th>serious</th>\n",
       "      <th>slight</th>\n",
       "    </tr>\n",
       "    <tr>\n",
       "      <th>Season</th>\n",
       "      <th></th>\n",
       "      <th></th>\n",
       "      <th></th>\n",
       "    </tr>\n",
       "  </thead>\n",
       "  <tbody>\n",
       "    <tr>\n",
       "      <th>Autumn</th>\n",
       "      <td>14423</td>\n",
       "      <td>146854</td>\n",
       "      <td>657038</td>\n",
       "    </tr>\n",
       "    <tr>\n",
       "      <th>Spring</th>\n",
       "      <td>11771</td>\n",
       "      <td>130267</td>\n",
       "      <td>576884</td>\n",
       "    </tr>\n",
       "    <tr>\n",
       "      <th>Summer</th>\n",
       "      <td>12805</td>\n",
       "      <td>140229</td>\n",
       "      <td>613210</td>\n",
       "    </tr>\n",
       "    <tr>\n",
       "      <th>Winter</th>\n",
       "      <td>13065</td>\n",
       "      <td>129401</td>\n",
       "      <td>575984</td>\n",
       "    </tr>\n",
       "  </tbody>\n",
       "</table>\n",
       "</div>"
      ],
      "text/plain": [
       "Accident_Severity  fatal  serious  slight\n",
       "Season                                   \n",
       "Autumn             14423   146854  657038\n",
       "Spring             11771   130267  576884\n",
       "Summer             12805   140229  613210\n",
       "Winter             13065   129401  575984"
      ]
     },
     "execution_count": 24,
     "metadata": {},
     "output_type": "execute_result"
    }
   ],
   "source": [
    "num_by_season_for_severity_2 = new_Q1A_2.groupby(\n",
    "    ['Season', 'Accident_Severity'])['Accident_Index'].count().unstack()\n",
    "\n",
    "num_by_season_for_severity_2"
   ]
  },
  {
   "cell_type": "code",
   "execution_count": 25,
   "metadata": {},
   "outputs": [
    {
     "data": {
      "text/html": [
       "<div>\n",
       "<style scoped>\n",
       "    .dataframe tbody tr th:only-of-type {\n",
       "        vertical-align: middle;\n",
       "    }\n",
       "\n",
       "    .dataframe tbody tr th {\n",
       "        vertical-align: top;\n",
       "    }\n",
       "\n",
       "    .dataframe thead th {\n",
       "        text-align: right;\n",
       "    }\n",
       "</style>\n",
       "<table border=\"1\" class=\"dataframe\">\n",
       "  <thead>\n",
       "    <tr style=\"text-align: right;\">\n",
       "      <th>Accident_Severity</th>\n",
       "      <th>fatal</th>\n",
       "      <th>serious</th>\n",
       "      <th>slight</th>\n",
       "    </tr>\n",
       "    <tr>\n",
       "      <th>Season</th>\n",
       "      <th></th>\n",
       "      <th></th>\n",
       "      <th></th>\n",
       "    </tr>\n",
       "  </thead>\n",
       "  <tbody>\n",
       "    <tr>\n",
       "      <th>Autumn</th>\n",
       "      <td>12873</td>\n",
       "      <td>123280</td>\n",
       "      <td>789416</td>\n",
       "    </tr>\n",
       "    <tr>\n",
       "      <th>Spring</th>\n",
       "      <td>11507</td>\n",
       "      <td>111269</td>\n",
       "      <td>692306</td>\n",
       "    </tr>\n",
       "    <tr>\n",
       "      <th>Summer</th>\n",
       "      <td>12580</td>\n",
       "      <td>120569</td>\n",
       "      <td>722889</td>\n",
       "    </tr>\n",
       "    <tr>\n",
       "      <th>Winter</th>\n",
       "      <td>11871</td>\n",
       "      <td>108422</td>\n",
       "      <td>703658</td>\n",
       "    </tr>\n",
       "  </tbody>\n",
       "</table>\n",
       "</div>"
      ],
      "text/plain": [
       "Accident_Severity  fatal  serious  slight\n",
       "Season                                   \n",
       "Autumn             12873   123280  789416\n",
       "Spring             11507   111269  692306\n",
       "Summer             12580   120569  722889\n",
       "Winter             11871   108422  703658"
      ]
     },
     "execution_count": 25,
     "metadata": {},
     "output_type": "execute_result"
    }
   ],
   "source": [
    "num_by_season_for_severity_3 = new_Q1A_3.groupby(\n",
    "    ['Season', 'Accident_Severity'])['Accident_Index'].count().unstack()\n",
    "\n",
    "num_by_season_for_severity_3"
   ]
  },
  {
   "cell_type": "code",
   "execution_count": 26,
   "metadata": {},
   "outputs": [
    {
     "data": {
      "text/html": [
       "<div>\n",
       "<style scoped>\n",
       "    .dataframe tbody tr th:only-of-type {\n",
       "        vertical-align: middle;\n",
       "    }\n",
       "\n",
       "    .dataframe tbody tr th {\n",
       "        vertical-align: top;\n",
       "    }\n",
       "\n",
       "    .dataframe thead th {\n",
       "        text-align: right;\n",
       "    }\n",
       "</style>\n",
       "<table border=\"1\" class=\"dataframe\">\n",
       "  <thead>\n",
       "    <tr style=\"text-align: right;\">\n",
       "      <th>Accident_Severity</th>\n",
       "      <th>fatal</th>\n",
       "      <th>serious</th>\n",
       "      <th>slight</th>\n",
       "    </tr>\n",
       "    <tr>\n",
       "      <th>Season</th>\n",
       "      <th></th>\n",
       "      <th></th>\n",
       "      <th></th>\n",
       "    </tr>\n",
       "  </thead>\n",
       "  <tbody>\n",
       "    <tr>\n",
       "      <th>Autumn</th>\n",
       "      <td>10729</td>\n",
       "      <td>105685</td>\n",
       "      <td>690239</td>\n",
       "    </tr>\n",
       "    <tr>\n",
       "      <th>Spring</th>\n",
       "      <td>9659</td>\n",
       "      <td>95150</td>\n",
       "      <td>624061</td>\n",
       "    </tr>\n",
       "    <tr>\n",
       "      <th>Summer</th>\n",
       "      <td>10668</td>\n",
       "      <td>106632</td>\n",
       "      <td>656791</td>\n",
       "    </tr>\n",
       "    <tr>\n",
       "      <th>Winter</th>\n",
       "      <td>9529</td>\n",
       "      <td>86034</td>\n",
       "      <td>605719</td>\n",
       "    </tr>\n",
       "  </tbody>\n",
       "</table>\n",
       "</div>"
      ],
      "text/plain": [
       "Accident_Severity  fatal  serious  slight\n",
       "Season                                   \n",
       "Autumn             10729   105685  690239\n",
       "Spring              9659    95150  624061\n",
       "Summer             10668   106632  656791\n",
       "Winter              9529    86034  605719"
      ]
     },
     "execution_count": 26,
     "metadata": {},
     "output_type": "execute_result"
    }
   ],
   "source": [
    "num_by_season_for_severity_4 = new_Q1A_4.groupby(\n",
    "    ['Season', 'Accident_Severity'])['Accident_Index'].count().unstack()\n",
    "\n",
    "num_by_season_for_severity_4"
   ]
  },
  {
   "cell_type": "markdown",
   "metadata": {},
   "source": [
    "## 2.2\n",
    "## Aggregate the Data\n",
    "\n",
    "Below we will create a new dataframe containing the total number of accidents which have occurred in each season for all 4 of our datasets, as well as the accident_severity for each.\n",
    "\n",
    "We will use the pd.concat method to do this."
   ]
  },
  {
   "cell_type": "code",
   "execution_count": 27,
   "metadata": {},
   "outputs": [
    {
     "data": {
      "text/html": [
       "<div>\n",
       "<style scoped>\n",
       "    .dataframe tbody tr th:only-of-type {\n",
       "        vertical-align: middle;\n",
       "    }\n",
       "\n",
       "    .dataframe tbody tr th {\n",
       "        vertical-align: top;\n",
       "    }\n",
       "\n",
       "    .dataframe thead th {\n",
       "        text-align: right;\n",
       "    }\n",
       "</style>\n",
       "<table border=\"1\" class=\"dataframe\">\n",
       "  <thead>\n",
       "    <tr style=\"text-align: right;\">\n",
       "      <th>Accident_Severity</th>\n",
       "      <th>fatal</th>\n",
       "      <th>serious</th>\n",
       "      <th>slight</th>\n",
       "    </tr>\n",
       "    <tr>\n",
       "      <th>Season</th>\n",
       "      <th></th>\n",
       "      <th></th>\n",
       "      <th></th>\n",
       "    </tr>\n",
       "  </thead>\n",
       "  <tbody>\n",
       "    <tr>\n",
       "      <th>Autumn</th>\n",
       "      <td>56594</td>\n",
       "      <td>591357</td>\n",
       "      <td>2744758</td>\n",
       "    </tr>\n",
       "    <tr>\n",
       "      <th>Spring</th>\n",
       "      <td>47462</td>\n",
       "      <td>517270</td>\n",
       "      <td>2410308</td>\n",
       "    </tr>\n",
       "    <tr>\n",
       "      <th>Summer</th>\n",
       "      <td>52810</td>\n",
       "      <td>567092</td>\n",
       "      <td>2562515</td>\n",
       "    </tr>\n",
       "    <tr>\n",
       "      <th>Winter</th>\n",
       "      <td>49726</td>\n",
       "      <td>491847</td>\n",
       "      <td>2373471</td>\n",
       "    </tr>\n",
       "  </tbody>\n",
       "</table>\n",
       "</div>"
      ],
      "text/plain": [
       "Accident_Severity  fatal  serious   slight\n",
       "Season                                    \n",
       "Autumn             56594   591357  2744758\n",
       "Spring             47462   517270  2410308\n",
       "Summer             52810   567092  2562515\n",
       "Winter             49726   491847  2373471"
      ]
     },
     "execution_count": 27,
     "metadata": {},
     "output_type": "execute_result"
    }
   ],
   "source": [
    "all_seasons_severity = pd.concat([num_by_season_for_severity_1, num_by_season_for_severity_2, num_by_season_for_severity_3, num_by_season_for_severity_4]).groupby(level=0).sum()\n",
    "all_seasons_severity"
   ]
  },
  {
   "cell_type": "markdown",
   "metadata": {},
   "source": [
    "From above, we can see that our dataset contains multiple rows for each season and the corresponding total number of fatal/serious/slight accidents for each season. \n",
    "\n",
    "The below plot represents this dataframe."
   ]
  },
  {
   "cell_type": "code",
   "execution_count": 31,
   "metadata": {},
   "outputs": [
    {
     "data": {
      "text/plain": [
       "Text(0,0.5,'total road accidents')"
      ]
     },
     "execution_count": 31,
     "metadata": {},
     "output_type": "execute_result"
    },
    {
     "data": {
      "image/png": "[encoded data removed]",
      "text/plain": [
       "<matplotlib.figure.Figure at 0x1f9e84b45c0>"
      ]
     },
     "metadata": {},
     "output_type": "display_data"
    }
   ],
   "source": [
    "all_seasons_severity.plot(kind='bar', figsize=(10,8))\n",
    "plt.title('Total Road Accidents for Each Season', fontsize=30)\n",
    "plt.ylabel('total road accidents')"
   ]
  },
  {
   "cell_type": "markdown",
   "metadata": {},
   "source": [
    "So, it appears that Autumn sees the highest number of accidents of all severities, with Sumer as a close second. It is interesting to note that the majority of accidents which occur each year are of slight accident severity.\n",
    "\n",
    "Below we will normalise the data to see how this breakdown compares during the seasons. \n",
    "\n",
    "When we normalise, we are getting the sum of the all columns for each row in the dataset."
   ]
  },
  {
   "cell_type": "code",
   "execution_count": 40,
   "metadata": {
    "collapsed": true
   },
   "outputs": [],
   "source": [
    "norm_seasons_severity = all_seasons_severity.copy() #create a dataframe as copy of original"
   ]
  },
  {
   "cell_type": "code",
   "execution_count": 41,
   "metadata": {
    "collapsed": true
   },
   "outputs": [],
   "source": [
    "cols_1= norm_seasons_severity.columns #define columns to normalise"
   ]
  },
  {
   "cell_type": "code",
   "execution_count": 42,
   "metadata": {
    "collapsed": true
   },
   "outputs": [],
   "source": [
    "sum_rows = norm_seasons_severity[cols_1].sum(axis=1) #calculate the sum of each row"
   ]
  },
  {
   "cell_type": "code",
   "execution_count": 43,
   "metadata": {
    "collapsed": true
   },
   "outputs": [],
   "source": [
    "norm_seasons_severity[cols_1] = norm_seasons_severity[cols_1].div(sum_rows, axis=0) #normalise all columns in the dataset by dividing them by the sum of each row"
   ]
  },
  {
   "cell_type": "code",
   "execution_count": 50,
   "metadata": {
    "collapsed": true
   },
   "outputs": [],
   "source": [
    "norm_seasons_severity[cols_1] =100*norm_seasons_severity[cols_1] #multiply normalised data by 100 to get a percentage value."
   ]
  },
  {
   "cell_type": "code",
   "execution_count": 51,
   "metadata": {},
   "outputs": [
    {
     "data": {
      "text/plain": [
       "Text(0,0.5,'% of Accidents')"
      ]
     },
     "execution_count": 51,
     "metadata": {},
     "output_type": "execute_result"
    },
    {
     "data": {
      "image/png": "[encoded data removed]",
      "text/plain": [
       "<matplotlib.figure.Figure at 0x1f9e8980080>"
      ]
     },
     "metadata": {},
     "output_type": "display_data"
    }
   ],
   "source": [
    "norm_seasons_severity.plot(kind='bar', figsize=(10,8))\n",
    "plt.title('% of each Accident Severity per Season',  fontsize=30)\n",
    "plt.ylabel('% of Accidents')"
   ]
  },
  {
   "cell_type": "markdown",
   "metadata": {},
   "source": [
    "Upon normalising the data, we see that the breakdown of accident severity over each season is almost identical.\n",
    "\n",
    "We will now add a 'totals' column to visualise the total number of road accidents per season"
   ]
  },
  {
   "cell_type": "code",
   "execution_count": 54,
   "metadata": {},
   "outputs": [
    {
     "data": {
      "text/plain": [
       "Text(0,0.5,'Total Road Accidents')"
      ]
     },
     "execution_count": 54,
     "metadata": {},
     "output_type": "execute_result"
    },
    {
     "data": {
      "image/png": "[encoded data removed]",
      "text/plain": [
       "<matplotlib.figure.Figure at 0x1f9e938e1d0>"
      ]
     },
     "metadata": {},
     "output_type": "display_data"
    }
   ],
   "source": [
    "all_seasons_severity['Total'] = all_seasons_severity.sum(axis=1)\n",
    "all_seasons_severity['Total'].plot(kind='bar', figsize=(10,8))\n",
    "plt.title('Total Road Accidents per Season',  fontsize=30)\n",
    "plt.ylabel('Total Road Accidents')"
   ]
  },
  {
   "cell_type": "markdown",
   "metadata": {
    "collapsed": true
   },
   "source": [
    "From this plot, we can see the rank of total road accidents as follows: (from most to least)\n",
    "\n",
    "1. Autumn\n",
    "2. Summer\n",
    "3. Spring\n",
    "4. Winter\n",
    "\n",
    "## 3.\n",
    "## Weather Conditions\n",
    "\n",
    "Above, we have seen that most accidents occur in Autumn, with Summer in close second.\n",
    "\n",
    "\n",
    "Below we will take a look at the weather conditions which were present when accidents occured per season, to see how they may or may not contribute to road accidents."
   ]
  },
  {
   "cell_type": "code",
   "execution_count": 56,
   "metadata": {},
   "outputs": [
    {
     "data": {
      "text/html": [
       "<div>\n",
       "<style scoped>\n",
       "    .dataframe tbody tr th:only-of-type {\n",
       "        vertical-align: middle;\n",
       "    }\n",
       "\n",
       "    .dataframe tbody tr th {\n",
       "        vertical-align: top;\n",
       "    }\n",
       "\n",
       "    .dataframe thead th {\n",
       "        text-align: right;\n",
       "    }\n",
       "</style>\n",
       "<table border=\"1\" class=\"dataframe\">\n",
       "  <thead>\n",
       "    <tr style=\"text-align: right;\">\n",
       "      <th>Weather_Conditions</th>\n",
       "      <th>fine + high winds</th>\n",
       "      <th>fine no high winds</th>\n",
       "      <th>fog or mist</th>\n",
       "      <th>other</th>\n",
       "      <th>raining + high winds</th>\n",
       "      <th>raining no high winds</th>\n",
       "      <th>snowing + high winds</th>\n",
       "      <th>snowing no high winds</th>\n",
       "    </tr>\n",
       "    <tr>\n",
       "      <th>Season</th>\n",
       "      <th></th>\n",
       "      <th></th>\n",
       "      <th></th>\n",
       "      <th></th>\n",
       "      <th></th>\n",
       "      <th></th>\n",
       "      <th></th>\n",
       "      <th></th>\n",
       "    </tr>\n",
       "  </thead>\n",
       "  <tbody>\n",
       "    <tr>\n",
       "      <th>Autumn</th>\n",
       "      <td>19535</td>\n",
       "      <td>617792</td>\n",
       "      <td>10234</td>\n",
       "      <td>20478</td>\n",
       "      <td>20796</td>\n",
       "      <td>151742</td>\n",
       "      <td>380</td>\n",
       "      <td>1215</td>\n",
       "    </tr>\n",
       "    <tr>\n",
       "      <th>Spring</th>\n",
       "      <td>15843</td>\n",
       "      <td>556620</td>\n",
       "      <td>3686</td>\n",
       "      <td>12528</td>\n",
       "      <td>9870</td>\n",
       "      <td>105425</td>\n",
       "      <td>2517</td>\n",
       "      <td>5677</td>\n",
       "    </tr>\n",
       "    <tr>\n",
       "      <th>Summer</th>\n",
       "      <td>6260</td>\n",
       "      <td>662770</td>\n",
       "      <td>1971</td>\n",
       "      <td>9013</td>\n",
       "      <td>4792</td>\n",
       "      <td>101137</td>\n",
       "      <td>24</td>\n",
       "      <td>77</td>\n",
       "    </tr>\n",
       "    <tr>\n",
       "      <th>Winter</th>\n",
       "      <td>19484</td>\n",
       "      <td>471548</td>\n",
       "      <td>13322</td>\n",
       "      <td>32960</td>\n",
       "      <td>15331</td>\n",
       "      <td>93266</td>\n",
       "      <td>5804</td>\n",
       "      <td>19646</td>\n",
       "    </tr>\n",
       "  </tbody>\n",
       "</table>\n",
       "</div>"
      ],
      "text/plain": [
       "Weather_Conditions  fine + high winds  fine no high winds  fog or mist  other  \\\n",
       "Season                                                                          \n",
       "Autumn                          19535              617792        10234  20478   \n",
       "Spring                          15843              556620         3686  12528   \n",
       "Summer                           6260              662770         1971   9013   \n",
       "Winter                          19484              471548        13322  32960   \n",
       "\n",
       "Weather_Conditions  raining + high winds  raining no high winds  \\\n",
       "Season                                                            \n",
       "Autumn                             20796                 151742   \n",
       "Spring                              9870                 105425   \n",
       "Summer                              4792                 101137   \n",
       "Winter                             15331                  93266   \n",
       "\n",
       "Weather_Conditions  snowing + high winds  snowing no high winds  \n",
       "Season                                                           \n",
       "Autumn                               380                   1215  \n",
       "Spring                              2517                   5677  \n",
       "Summer                                24                     77  \n",
       "Winter                              5804                  19646  "
      ]
     },
     "execution_count": 56,
     "metadata": {},
     "output_type": "execute_result"
    }
   ],
   "source": [
    "num_by_season_for_weather_1 = new_Q1A_1.groupby(\n",
    "    ['Season',  'Weather_Conditions'])['Accident_Index'].count().unstack()\n",
    "\n",
    "num_by_season_for_weather_1"
   ]
  },
  {
   "cell_type": "code",
   "execution_count": 57,
   "metadata": {},
   "outputs": [
    {
     "data": {
      "text/html": [
       "<div>\n",
       "<style scoped>\n",
       "    .dataframe tbody tr th:only-of-type {\n",
       "        vertical-align: middle;\n",
       "    }\n",
       "\n",
       "    .dataframe tbody tr th {\n",
       "        vertical-align: top;\n",
       "    }\n",
       "\n",
       "    .dataframe thead th {\n",
       "        text-align: right;\n",
       "    }\n",
       "</style>\n",
       "<table border=\"1\" class=\"dataframe\">\n",
       "  <thead>\n",
       "    <tr style=\"text-align: right;\">\n",
       "      <th>Weather_Conditions</th>\n",
       "      <th>fine + high winds</th>\n",
       "      <th>fine no high winds</th>\n",
       "      <th>fog or mist</th>\n",
       "      <th>other</th>\n",
       "      <th>raining + high winds</th>\n",
       "      <th>raining no high winds</th>\n",
       "      <th>snowing + high winds</th>\n",
       "      <th>snowing no high winds</th>\n",
       "    </tr>\n",
       "    <tr>\n",
       "      <th>Season</th>\n",
       "      <th></th>\n",
       "      <th></th>\n",
       "      <th></th>\n",
       "      <th></th>\n",
       "      <th></th>\n",
       "      <th></th>\n",
       "      <th></th>\n",
       "      <th></th>\n",
       "    </tr>\n",
       "  </thead>\n",
       "  <tbody>\n",
       "    <tr>\n",
       "      <th>Autumn</th>\n",
       "      <td>12104</td>\n",
       "      <td>615752</td>\n",
       "      <td>12890</td>\n",
       "      <td>17381</td>\n",
       "      <td>14938</td>\n",
       "      <td>143874</td>\n",
       "      <td>242</td>\n",
       "      <td>1134</td>\n",
       "    </tr>\n",
       "    <tr>\n",
       "      <th>Spring</th>\n",
       "      <td>12143</td>\n",
       "      <td>583807</td>\n",
       "      <td>2440</td>\n",
       "      <td>7809</td>\n",
       "      <td>8964</td>\n",
       "      <td>99815</td>\n",
       "      <td>997</td>\n",
       "      <td>2947</td>\n",
       "    </tr>\n",
       "    <tr>\n",
       "      <th>Summer</th>\n",
       "      <td>5126</td>\n",
       "      <td>645515</td>\n",
       "      <td>1267</td>\n",
       "      <td>6470</td>\n",
       "      <td>4443</td>\n",
       "      <td>103299</td>\n",
       "      <td>31</td>\n",
       "      <td>93</td>\n",
       "    </tr>\n",
       "    <tr>\n",
       "      <th>Winter</th>\n",
       "      <td>22827</td>\n",
       "      <td>509947</td>\n",
       "      <td>17976</td>\n",
       "      <td>24255</td>\n",
       "      <td>23203</td>\n",
       "      <td>107102</td>\n",
       "      <td>3167</td>\n",
       "      <td>9973</td>\n",
       "    </tr>\n",
       "  </tbody>\n",
       "</table>\n",
       "</div>"
      ],
      "text/plain": [
       "Weather_Conditions  fine + high winds  fine no high winds  fog or mist  other  \\\n",
       "Season                                                                          \n",
       "Autumn                          12104              615752        12890  17381   \n",
       "Spring                          12143              583807         2440   7809   \n",
       "Summer                           5126              645515         1267   6470   \n",
       "Winter                          22827              509947        17976  24255   \n",
       "\n",
       "Weather_Conditions  raining + high winds  raining no high winds  \\\n",
       "Season                                                            \n",
       "Autumn                             14938                 143874   \n",
       "Spring                              8964                  99815   \n",
       "Summer                              4443                 103299   \n",
       "Winter                             23203                 107102   \n",
       "\n",
       "Weather_Conditions  snowing + high winds  snowing no high winds  \n",
       "Season                                                           \n",
       "Autumn                               242                   1134  \n",
       "Spring                               997                   2947  \n",
       "Summer                                31                     93  \n",
       "Winter                              3167                   9973  "
      ]
     },
     "execution_count": 57,
     "metadata": {},
     "output_type": "execute_result"
    }
   ],
   "source": [
    "num_by_season_for_weather_2 = new_Q1A_2.groupby(\n",
    "    ['Season',  'Weather_Conditions'])['Accident_Index'].count().unstack()\n",
    "\n",
    "num_by_season_for_weather_2"
   ]
  },
  {
   "cell_type": "code",
   "execution_count": 58,
   "metadata": {},
   "outputs": [
    {
     "data": {
      "text/html": [
       "<div>\n",
       "<style scoped>\n",
       "    .dataframe tbody tr th:only-of-type {\n",
       "        vertical-align: middle;\n",
       "    }\n",
       "\n",
       "    .dataframe tbody tr th {\n",
       "        vertical-align: top;\n",
       "    }\n",
       "\n",
       "    .dataframe thead th {\n",
       "        text-align: right;\n",
       "    }\n",
       "</style>\n",
       "<table border=\"1\" class=\"dataframe\">\n",
       "  <thead>\n",
       "    <tr style=\"text-align: right;\">\n",
       "      <th>Weather_Conditions</th>\n",
       "      <th>fine + high winds</th>\n",
       "      <th>fine no high winds</th>\n",
       "      <th>fog or mist</th>\n",
       "      <th>other</th>\n",
       "      <th>raining + high winds</th>\n",
       "      <th>raining no high winds</th>\n",
       "      <th>snowing + high winds</th>\n",
       "      <th>snowing no high winds</th>\n",
       "    </tr>\n",
       "    <tr>\n",
       "      <th>Season</th>\n",
       "      <th></th>\n",
       "      <th></th>\n",
       "      <th></th>\n",
       "      <th></th>\n",
       "      <th></th>\n",
       "      <th></th>\n",
       "      <th></th>\n",
       "      <th></th>\n",
       "    </tr>\n",
       "  </thead>\n",
       "  <tbody>\n",
       "    <tr>\n",
       "      <th>Autumn</th>\n",
       "      <td>12480</td>\n",
       "      <td>702134</td>\n",
       "      <td>6604</td>\n",
       "      <td>17300</td>\n",
       "      <td>16829</td>\n",
       "      <td>168859</td>\n",
       "      <td>342</td>\n",
       "      <td>1021</td>\n",
       "    </tr>\n",
       "    <tr>\n",
       "      <th>Spring</th>\n",
       "      <td>8587</td>\n",
       "      <td>668465</td>\n",
       "      <td>4251</td>\n",
       "      <td>9170</td>\n",
       "      <td>7415</td>\n",
       "      <td>113499</td>\n",
       "      <td>712</td>\n",
       "      <td>2983</td>\n",
       "    </tr>\n",
       "    <tr>\n",
       "      <th>Summer</th>\n",
       "      <td>3680</td>\n",
       "      <td>727170</td>\n",
       "      <td>1299</td>\n",
       "      <td>7102</td>\n",
       "      <td>3996</td>\n",
       "      <td>112583</td>\n",
       "      <td>54</td>\n",
       "      <td>154</td>\n",
       "    </tr>\n",
       "    <tr>\n",
       "      <th>Winter</th>\n",
       "      <td>19643</td>\n",
       "      <td>603052</td>\n",
       "      <td>15420</td>\n",
       "      <td>27505</td>\n",
       "      <td>19371</td>\n",
       "      <td>124012</td>\n",
       "      <td>3316</td>\n",
       "      <td>11632</td>\n",
       "    </tr>\n",
       "  </tbody>\n",
       "</table>\n",
       "</div>"
      ],
      "text/plain": [
       "Weather_Conditions  fine + high winds  fine no high winds  fog or mist  other  \\\n",
       "Season                                                                          \n",
       "Autumn                          12480              702134         6604  17300   \n",
       "Spring                           8587              668465         4251   9170   \n",
       "Summer                           3680              727170         1299   7102   \n",
       "Winter                          19643              603052        15420  27505   \n",
       "\n",
       "Weather_Conditions  raining + high winds  raining no high winds  \\\n",
       "Season                                                            \n",
       "Autumn                             16829                 168859   \n",
       "Spring                              7415                 113499   \n",
       "Summer                              3996                 112583   \n",
       "Winter                             19371                 124012   \n",
       "\n",
       "Weather_Conditions  snowing + high winds  snowing no high winds  \n",
       "Season                                                           \n",
       "Autumn                               342                   1021  \n",
       "Spring                               712                   2983  \n",
       "Summer                                54                    154  \n",
       "Winter                              3316                  11632  "
      ]
     },
     "execution_count": 58,
     "metadata": {},
     "output_type": "execute_result"
    }
   ],
   "source": [
    "num_by_season_for_weather_3 = new_Q1A_3.groupby(\n",
    "    ['Season',  'Weather_Conditions'])['Accident_Index'].count().unstack()\n",
    "\n",
    "num_by_season_for_weather_3"
   ]
  },
  {
   "cell_type": "code",
   "execution_count": 59,
   "metadata": {},
   "outputs": [
    {
     "data": {
      "text/html": [
       "<div>\n",
       "<style scoped>\n",
       "    .dataframe tbody tr th:only-of-type {\n",
       "        vertical-align: middle;\n",
       "    }\n",
       "\n",
       "    .dataframe tbody tr th {\n",
       "        vertical-align: top;\n",
       "    }\n",
       "\n",
       "    .dataframe thead th {\n",
       "        text-align: right;\n",
       "    }\n",
       "</style>\n",
       "<table border=\"1\" class=\"dataframe\">\n",
       "  <thead>\n",
       "    <tr style=\"text-align: right;\">\n",
       "      <th>Weather_Conditions</th>\n",
       "      <th>fine + high winds</th>\n",
       "      <th>fine no high winds</th>\n",
       "      <th>fog or mist</th>\n",
       "      <th>other</th>\n",
       "      <th>raining + high winds</th>\n",
       "      <th>raining no high winds</th>\n",
       "      <th>snowing + high winds</th>\n",
       "      <th>snowing no high winds</th>\n",
       "    </tr>\n",
       "    <tr>\n",
       "      <th>Season</th>\n",
       "      <th></th>\n",
       "      <th></th>\n",
       "      <th></th>\n",
       "      <th></th>\n",
       "      <th></th>\n",
       "      <th></th>\n",
       "      <th></th>\n",
       "      <th></th>\n",
       "    </tr>\n",
       "  </thead>\n",
       "  <tbody>\n",
       "    <tr>\n",
       "      <th>Autumn</th>\n",
       "      <td>10362</td>\n",
       "      <td>641372</td>\n",
       "      <td>5817</td>\n",
       "      <td>17013</td>\n",
       "      <td>14158</td>\n",
       "      <td>116071</td>\n",
       "      <td>270</td>\n",
       "      <td>1590</td>\n",
       "    </tr>\n",
       "    <tr>\n",
       "      <th>Spring</th>\n",
       "      <td>8919</td>\n",
       "      <td>626199</td>\n",
       "      <td>2791</td>\n",
       "      <td>9246</td>\n",
       "      <td>6353</td>\n",
       "      <td>71127</td>\n",
       "      <td>1173</td>\n",
       "      <td>3062</td>\n",
       "    </tr>\n",
       "    <tr>\n",
       "      <th>Summer</th>\n",
       "      <td>3346</td>\n",
       "      <td>670403</td>\n",
       "      <td>825</td>\n",
       "      <td>7407</td>\n",
       "      <td>4134</td>\n",
       "      <td>87837</td>\n",
       "      <td>12</td>\n",
       "      <td>127</td>\n",
       "    </tr>\n",
       "    <tr>\n",
       "      <th>Winter</th>\n",
       "      <td>16239</td>\n",
       "      <td>518295</td>\n",
       "      <td>7724</td>\n",
       "      <td>31062</td>\n",
       "      <td>18624</td>\n",
       "      <td>91871</td>\n",
       "      <td>2369</td>\n",
       "      <td>15098</td>\n",
       "    </tr>\n",
       "  </tbody>\n",
       "</table>\n",
       "</div>"
      ],
      "text/plain": [
       "Weather_Conditions  fine + high winds  fine no high winds  fog or mist  other  \\\n",
       "Season                                                                          \n",
       "Autumn                          10362              641372         5817  17013   \n",
       "Spring                           8919              626199         2791   9246   \n",
       "Summer                           3346              670403          825   7407   \n",
       "Winter                          16239              518295         7724  31062   \n",
       "\n",
       "Weather_Conditions  raining + high winds  raining no high winds  \\\n",
       "Season                                                            \n",
       "Autumn                             14158                 116071   \n",
       "Spring                              6353                  71127   \n",
       "Summer                              4134                  87837   \n",
       "Winter                             18624                  91871   \n",
       "\n",
       "Weather_Conditions  snowing + high winds  snowing no high winds  \n",
       "Season                                                           \n",
       "Autumn                               270                   1590  \n",
       "Spring                              1173                   3062  \n",
       "Summer                                12                    127  \n",
       "Winter                              2369                  15098  "
      ]
     },
     "execution_count": 59,
     "metadata": {},
     "output_type": "execute_result"
    }
   ],
   "source": [
    "num_by_season_for_weather_4 = new_Q1A_4.groupby(\n",
    "    ['Season',  'Weather_Conditions'])['Accident_Index'].count().unstack()\n",
    "\n",
    "num_by_season_for_weather_4"
   ]
  },
  {
   "cell_type": "markdown",
   "metadata": {},
   "source": [
    "## 3.1\n",
    "## Aggregate the Data\n",
    "\n",
    "Below, we will aggregate the four above datasets to get one final dataset which we focus on, again using the pd.concat method."
   ]
  },
  {
   "cell_type": "code",
   "execution_count": 60,
   "metadata": {
    "scrolled": false
   },
   "outputs": [
    {
     "data": {
      "text/plain": [
       "<matplotlib.legend.Legend at 0x1f9e93bd940>"
      ]
     },
     "execution_count": 60,
     "metadata": {},
     "output_type": "execute_result"
    },
    {
     "data": {
      "image/png": "[encoded data removed]",
      "text/plain": [
       "<matplotlib.figure.Figure at 0x1f9e93766d8>"
      ]
     },
     "metadata": {},
     "output_type": "display_data"
    }
   ],
   "source": [
    "all_seasons_weather = pd.concat([num_by_season_for_weather_1, num_by_season_for_weather_2, num_by_season_for_weather_3, num_by_season_for_weather_4]).groupby(level=0).sum()\n",
    "all_seasons_weather.plot(kind='bar', figsize=(12,8)).legend(bbox_to_anchor=(1,1))"
   ]
  },
  {
   "cell_type": "markdown",
   "metadata": {},
   "source": [
    "We can see clearly from this graph that most accidents occur in 'fine, no high winds' weather conditions, with 'raining, no high winds' as the second leading weather condition.\n",
    "\n",
    "We can also see that during Winter, the number of accidents which occur during snow is at its highest, as we would expect.\n",
    "\n",
    "Now I will again normalise the data and see how these trends change."
   ]
  },
  {
   "cell_type": "code",
   "execution_count": 61,
   "metadata": {
    "collapsed": true
   },
   "outputs": [],
   "source": [
    "norm_seasons_weather = all_seasons_weather.copy() #create copy of original dataframe to normalise"
   ]
  },
  {
   "cell_type": "code",
   "execution_count": 62,
   "metadata": {
    "collapsed": true
   },
   "outputs": [],
   "source": [
    "cols_2 = norm_seasons_weather.columns # define columns to normalise"
   ]
  },
  {
   "cell_type": "code",
   "execution_count": 64,
   "metadata": {
    "collapsed": true
   },
   "outputs": [],
   "source": [
    "sum_rows_2 = (norm_seasons_weather[cols_2].sum(axis=1)) #calculate the sum of each row"
   ]
  },
  {
   "cell_type": "code",
   "execution_count": 65,
   "metadata": {
    "collapsed": true
   },
   "outputs": [],
   "source": [
    "norm_seasons_weather[cols_2] = norm_seasons_weather[cols_2].div(sum_rows_2, axis=0) #normalise all columns in the dataset by dividing them by the sum of each row "
   ]
  },
  {
   "cell_type": "code",
   "execution_count": 66,
   "metadata": {
    "collapsed": true
   },
   "outputs": [],
   "source": [
    "norm_seasons_weather[cols_2] = 100*norm_seasons_weather[cols_2] #multiply normalised data by 100 to get percentage value"
   ]
  },
  {
   "cell_type": "code",
   "execution_count": 72,
   "metadata": {},
   "outputs": [
    {
     "data": {
      "text/plain": [
       "Text(0.5,1,'% of UK Road Accidents per season for all weather conditions')"
      ]
     },
     "execution_count": 72,
     "metadata": {},
     "output_type": "execute_result"
    },
    {
     "data": {
      "image/png": "[encoded data removed]",
      "text/plain": [
       "<matplotlib.figure.Figure at 0x1f9e9d53048>"
      ]
     },
     "metadata": {},
     "output_type": "display_data"
    }
   ],
   "source": [
    "norm_seasons_weather.plot(kind='bar', figsize=(10,8)).legend(bbox_to_anchor=(1,1))\n",
    "plt.ylabel('% of Accidents')\n",
    "plt.title('% of UK Road Accidents per season for all weather conditions', fontsize=20)"
   ]
  },
  {
   "cell_type": "markdown",
   "metadata": {
    "collapsed": true
   },
   "source": [
    "Once the data has been normalised, it is much easier to see the rise in accidents which occur during the snow in Winter, and interestingly we see that most accidents occur during 'fine no high winds' in the Summer time, as we would expect due to better weather conditions this time of year.\n",
    "\n",
    "We can also see from the above graph that 'rain no high winds' experiences the second highest number of accidents consistently throughout the seasons. It is important to note that due to the weather patterns in the UK, this data needs to be normalised upon the number of rainy and 'fine' weather days in the UK each year to get a true depiction of road accidents within each weather condition. This is an interesting potential for future work.\n",
    "\n",
    "\n",
    "## Road Conditions\n",
    "\n",
    "\n",
    "We will now take a look at the road conditions which were present when accidents occured per season, to see how they may or may not contribute to road accidents."
   ]
  },
  {
   "cell_type": "code",
   "execution_count": 73,
   "metadata": {},
   "outputs": [
    {
     "data": {
      "text/html": [
       "<div>\n",
       "<style scoped>\n",
       "    .dataframe tbody tr th:only-of-type {\n",
       "        vertical-align: middle;\n",
       "    }\n",
       "\n",
       "    .dataframe tbody tr th {\n",
       "        vertical-align: top;\n",
       "    }\n",
       "\n",
       "    .dataframe thead th {\n",
       "        text-align: right;\n",
       "    }\n",
       "</style>\n",
       "<table border=\"1\" class=\"dataframe\">\n",
       "  <thead>\n",
       "    <tr style=\"text-align: right;\">\n",
       "      <th>Road_Surface_Conditions</th>\n",
       "      <th>dry</th>\n",
       "      <th>flood over 3cm. deep</th>\n",
       "      <th>frost or ice</th>\n",
       "      <th>snow</th>\n",
       "      <th>wet or damp</th>\n",
       "    </tr>\n",
       "    <tr>\n",
       "      <th>Season</th>\n",
       "      <th></th>\n",
       "      <th></th>\n",
       "      <th></th>\n",
       "      <th></th>\n",
       "      <th></th>\n",
       "    </tr>\n",
       "  </thead>\n",
       "  <tbody>\n",
       "    <tr>\n",
       "      <th>Autumn</th>\n",
       "      <td>491222</td>\n",
       "      <td>1502</td>\n",
       "      <td>9848</td>\n",
       "      <td>1072</td>\n",
       "      <td>338528</td>\n",
       "    </tr>\n",
       "    <tr>\n",
       "      <th>Spring</th>\n",
       "      <td>492396</td>\n",
       "      <td>789</td>\n",
       "      <td>5109</td>\n",
       "      <td>5230</td>\n",
       "      <td>208642</td>\n",
       "    </tr>\n",
       "    <tr>\n",
       "      <th>Summer</th>\n",
       "      <td>619467</td>\n",
       "      <td>1052</td>\n",
       "      <td>85</td>\n",
       "      <td>59</td>\n",
       "      <td>165381</td>\n",
       "    </tr>\n",
       "    <tr>\n",
       "      <th>Winter</th>\n",
       "      <td>256007</td>\n",
       "      <td>658</td>\n",
       "      <td>59368</td>\n",
       "      <td>24764</td>\n",
       "      <td>330564</td>\n",
       "    </tr>\n",
       "  </tbody>\n",
       "</table>\n",
       "</div>"
      ],
      "text/plain": [
       "Road_Surface_Conditions     dry  flood over 3cm. deep  frost or ice   snow  \\\n",
       "Season                                                                       \n",
       "Autumn                   491222                  1502          9848   1072   \n",
       "Spring                   492396                   789          5109   5230   \n",
       "Summer                   619467                  1052            85     59   \n",
       "Winter                   256007                   658         59368  24764   \n",
       "\n",
       "Road_Surface_Conditions  wet or damp  \n",
       "Season                                \n",
       "Autumn                        338528  \n",
       "Spring                        208642  \n",
       "Summer                        165381  \n",
       "Winter                        330564  "
      ]
     },
     "execution_count": 73,
     "metadata": {},
     "output_type": "execute_result"
    }
   ],
   "source": [
    "num_by_season_for_road_cond_1 = new_Q1A_1.groupby(\n",
    "    ['Season',  'Road_Surface_Conditions'])['Accident_Index'].count().unstack()\n",
    "\n",
    "num_by_season_for_road_cond_1"
   ]
  },
  {
   "cell_type": "code",
   "execution_count": 74,
   "metadata": {},
   "outputs": [
    {
     "data": {
      "text/html": [
       "<div>\n",
       "<style scoped>\n",
       "    .dataframe tbody tr th:only-of-type {\n",
       "        vertical-align: middle;\n",
       "    }\n",
       "\n",
       "    .dataframe tbody tr th {\n",
       "        vertical-align: top;\n",
       "    }\n",
       "\n",
       "    .dataframe thead th {\n",
       "        text-align: right;\n",
       "    }\n",
       "</style>\n",
       "<table border=\"1\" class=\"dataframe\">\n",
       "  <thead>\n",
       "    <tr style=\"text-align: right;\">\n",
       "      <th>Road_Surface_Conditions</th>\n",
       "      <th>dry</th>\n",
       "      <th>flood over 3cm. deep</th>\n",
       "      <th>frost or ice</th>\n",
       "      <th>snow</th>\n",
       "      <th>wet or damp</th>\n",
       "    </tr>\n",
       "    <tr>\n",
       "      <th>Season</th>\n",
       "      <th></th>\n",
       "      <th></th>\n",
       "      <th></th>\n",
       "      <th></th>\n",
       "      <th></th>\n",
       "    </tr>\n",
       "  </thead>\n",
       "  <tbody>\n",
       "    <tr>\n",
       "      <th>Autumn</th>\n",
       "      <td>477235</td>\n",
       "      <td>1134</td>\n",
       "      <td>9722</td>\n",
       "      <td>858</td>\n",
       "      <td>329366</td>\n",
       "    </tr>\n",
       "    <tr>\n",
       "      <th>Spring</th>\n",
       "      <td>527117</td>\n",
       "      <td>628</td>\n",
       "      <td>2683</td>\n",
       "      <td>2170</td>\n",
       "      <td>186324</td>\n",
       "    </tr>\n",
       "    <tr>\n",
       "      <th>Summer</th>\n",
       "      <td>601820</td>\n",
       "      <td>818</td>\n",
       "      <td>98</td>\n",
       "      <td>87</td>\n",
       "      <td>163421</td>\n",
       "    </tr>\n",
       "    <tr>\n",
       "      <th>Winter</th>\n",
       "      <td>295957</td>\n",
       "      <td>1402</td>\n",
       "      <td>37920</td>\n",
       "      <td>10254</td>\n",
       "      <td>372917</td>\n",
       "    </tr>\n",
       "  </tbody>\n",
       "</table>\n",
       "</div>"
      ],
      "text/plain": [
       "Road_Surface_Conditions     dry  flood over 3cm. deep  frost or ice   snow  \\\n",
       "Season                                                                       \n",
       "Autumn                   477235                  1134          9722    858   \n",
       "Spring                   527117                   628          2683   2170   \n",
       "Summer                   601820                   818            98     87   \n",
       "Winter                   295957                  1402         37920  10254   \n",
       "\n",
       "Road_Surface_Conditions  wet or damp  \n",
       "Season                                \n",
       "Autumn                        329366  \n",
       "Spring                        186324  \n",
       "Summer                        163421  \n",
       "Winter                        372917  "
      ]
     },
     "execution_count": 74,
     "metadata": {},
     "output_type": "execute_result"
    }
   ],
   "source": [
    "num_by_season_for_road_cond_2 = new_Q1A_2.groupby(\n",
    "    ['Season',  'Road_Surface_Conditions'])['Accident_Index'].count().unstack()\n",
    "\n",
    "num_by_season_for_road_cond_2"
   ]
  },
  {
   "cell_type": "code",
   "execution_count": 75,
   "metadata": {},
   "outputs": [
    {
     "data": {
      "text/html": [
       "<div>\n",
       "<style scoped>\n",
       "    .dataframe tbody tr th:only-of-type {\n",
       "        vertical-align: middle;\n",
       "    }\n",
       "\n",
       "    .dataframe tbody tr th {\n",
       "        vertical-align: top;\n",
       "    }\n",
       "\n",
       "    .dataframe thead th {\n",
       "        text-align: right;\n",
       "    }\n",
       "</style>\n",
       "<table border=\"1\" class=\"dataframe\">\n",
       "  <thead>\n",
       "    <tr style=\"text-align: right;\">\n",
       "      <th>Road_Surface_Conditions</th>\n",
       "      <th>dry</th>\n",
       "      <th>flood over 3cm. deep</th>\n",
       "      <th>frost or ice</th>\n",
       "      <th>snow</th>\n",
       "      <th>wet or damp</th>\n",
       "    </tr>\n",
       "    <tr>\n",
       "      <th>Season</th>\n",
       "      <th></th>\n",
       "      <th></th>\n",
       "      <th></th>\n",
       "      <th></th>\n",
       "      <th></th>\n",
       "    </tr>\n",
       "  </thead>\n",
       "  <tbody>\n",
       "    <tr>\n",
       "      <th>Autumn</th>\n",
       "      <td>541806</td>\n",
       "      <td>1601</td>\n",
       "      <td>6445</td>\n",
       "      <td>1009</td>\n",
       "      <td>374708</td>\n",
       "    </tr>\n",
       "    <tr>\n",
       "      <th>Spring</th>\n",
       "      <td>599904</td>\n",
       "      <td>741</td>\n",
       "      <td>2921</td>\n",
       "      <td>2170</td>\n",
       "      <td>209346</td>\n",
       "    </tr>\n",
       "    <tr>\n",
       "      <th>Summer</th>\n",
       "      <td>676180</td>\n",
       "      <td>1169</td>\n",
       "      <td>132</td>\n",
       "      <td>99</td>\n",
       "      <td>178458</td>\n",
       "    </tr>\n",
       "    <tr>\n",
       "      <th>Winter</th>\n",
       "      <td>350009</td>\n",
       "      <td>1277</td>\n",
       "      <td>43011</td>\n",
       "      <td>11617</td>\n",
       "      <td>418037</td>\n",
       "    </tr>\n",
       "  </tbody>\n",
       "</table>\n",
       "</div>"
      ],
      "text/plain": [
       "Road_Surface_Conditions     dry  flood over 3cm. deep  frost or ice   snow  \\\n",
       "Season                                                                       \n",
       "Autumn                   541806                  1601          6445   1009   \n",
       "Spring                   599904                   741          2921   2170   \n",
       "Summer                   676180                  1169           132     99   \n",
       "Winter                   350009                  1277         43011  11617   \n",
       "\n",
       "Road_Surface_Conditions  wet or damp  \n",
       "Season                                \n",
       "Autumn                        374708  \n",
       "Spring                        209346  \n",
       "Summer                        178458  \n",
       "Winter                        418037  "
      ]
     },
     "execution_count": 75,
     "metadata": {},
     "output_type": "execute_result"
    }
   ],
   "source": [
    "num_by_season_for_road_cond_3 = new_Q1A_3.groupby(\n",
    "    ['Season',  'Road_Surface_Conditions'])['Accident_Index'].count().unstack()\n",
    "\n",
    "num_by_season_for_road_cond_3"
   ]
  },
  {
   "cell_type": "code",
   "execution_count": 76,
   "metadata": {},
   "outputs": [
    {
     "data": {
      "text/html": [
       "<div>\n",
       "<style scoped>\n",
       "    .dataframe tbody tr th:only-of-type {\n",
       "        vertical-align: middle;\n",
       "    }\n",
       "\n",
       "    .dataframe tbody tr th {\n",
       "        vertical-align: top;\n",
       "    }\n",
       "\n",
       "    .dataframe thead th {\n",
       "        text-align: right;\n",
       "    }\n",
       "</style>\n",
       "<table border=\"1\" class=\"dataframe\">\n",
       "  <thead>\n",
       "    <tr style=\"text-align: right;\">\n",
       "      <th>Road_Surface_Conditions</th>\n",
       "      <th>dry</th>\n",
       "      <th>flood over 3cm. deep</th>\n",
       "      <th>frost or ice</th>\n",
       "      <th>snow</th>\n",
       "      <th>wet or damp</th>\n",
       "    </tr>\n",
       "    <tr>\n",
       "      <th>Season</th>\n",
       "      <th></th>\n",
       "      <th></th>\n",
       "      <th></th>\n",
       "      <th></th>\n",
       "      <th></th>\n",
       "    </tr>\n",
       "  </thead>\n",
       "  <tbody>\n",
       "    <tr>\n",
       "      <th>Autumn</th>\n",
       "      <td>527120</td>\n",
       "      <td>1253</td>\n",
       "      <td>6676</td>\n",
       "      <td>1375</td>\n",
       "      <td>270229</td>\n",
       "    </tr>\n",
       "    <tr>\n",
       "      <th>Spring</th>\n",
       "      <td>580986</td>\n",
       "      <td>544</td>\n",
       "      <td>3679</td>\n",
       "      <td>2704</td>\n",
       "      <td>140957</td>\n",
       "    </tr>\n",
       "    <tr>\n",
       "      <th>Summer</th>\n",
       "      <td>630433</td>\n",
       "      <td>961</td>\n",
       "      <td>56</td>\n",
       "      <td>95</td>\n",
       "      <td>142546</td>\n",
       "    </tr>\n",
       "    <tr>\n",
       "      <th>Winter</th>\n",
       "      <td>326750</td>\n",
       "      <td>1247</td>\n",
       "      <td>45044</td>\n",
       "      <td>13753</td>\n",
       "      <td>314488</td>\n",
       "    </tr>\n",
       "  </tbody>\n",
       "</table>\n",
       "</div>"
      ],
      "text/plain": [
       "Road_Surface_Conditions     dry  flood over 3cm. deep  frost or ice   snow  \\\n",
       "Season                                                                       \n",
       "Autumn                   527120                  1253          6676   1375   \n",
       "Spring                   580986                   544          3679   2704   \n",
       "Summer                   630433                   961            56     95   \n",
       "Winter                   326750                  1247         45044  13753   \n",
       "\n",
       "Road_Surface_Conditions  wet or damp  \n",
       "Season                                \n",
       "Autumn                        270229  \n",
       "Spring                        140957  \n",
       "Summer                        142546  \n",
       "Winter                        314488  "
      ]
     },
     "execution_count": 76,
     "metadata": {},
     "output_type": "execute_result"
    }
   ],
   "source": [
    "num_by_season_for_road_cond_4 = new_Q1A_4.groupby(\n",
    "    ['Season',  'Road_Surface_Conditions'])['Accident_Index'].count().unstack()\n",
    "\n",
    "num_by_season_for_road_cond_4"
   ]
  },
  {
   "cell_type": "markdown",
   "metadata": {},
   "source": [
    "## Aggregate the Data\n",
    "\n",
    "We will now concatenate each of these sub-datasets to produce a final dataset which we can use to plot our results"
   ]
  },
  {
   "cell_type": "code",
   "execution_count": 77,
   "metadata": {},
   "outputs": [
    {
     "data": {
      "text/plain": [
       "<matplotlib.axes._subplots.AxesSubplot at 0x1f9e9e06cf8>"
      ]
     },
     "execution_count": 77,
     "metadata": {},
     "output_type": "execute_result"
    },
    {
     "data": {
      "image/png": "[encoded data removed]",
      "text/plain": [
       "<matplotlib.figure.Figure at 0x1f9e9e18208>"
      ]
     },
     "metadata": {},
     "output_type": "display_data"
    }
   ],
   "source": [
    "all_seasons_road_cond = pd.concat([num_by_season_for_road_cond_1, num_by_season_for_road_cond_2, num_by_season_for_road_cond_3, num_by_season_for_road_cond_4]).groupby(level=0).sum()\n",
    "all_seasons_road_cond.plot(kind='bar', figsize=(12,8))"
   ]
  },
  {
   "cell_type": "markdown",
   "metadata": {},
   "source": [
    "This graph shows us that most accidents occur during dry weather, with wet or damp weather in second.\n",
    "\n",
    "We can also see that the number of accidents which occur on snowy roads increases during Winter.\n",
    "\n",
    "This is consistent with our previous graph showing Weather conditions.\n",
    "\n",
    "However, I will again normalise the data below and see how these trends change."
   ]
  },
  {
   "cell_type": "code",
   "execution_count": 79,
   "metadata": {
    "collapsed": true
   },
   "outputs": [],
   "source": [
    "norm_seasons_road_cond = all_seasons_road_cond.copy() #create dataframe as copy of original"
   ]
  },
  {
   "cell_type": "code",
   "execution_count": 80,
   "metadata": {
    "collapsed": true
   },
   "outputs": [],
   "source": [
    "cols_3 = norm_seasons_road_cond.columns #define columns to normalise"
   ]
  },
  {
   "cell_type": "code",
   "execution_count": 81,
   "metadata": {
    "collapsed": true
   },
   "outputs": [],
   "source": [
    "sum_rows_3 = norm_seasons_road_cond[cols_3].sum(axis=1) #calculate sum of all rows in dataframe"
   ]
  },
  {
   "cell_type": "code",
   "execution_count": 82,
   "metadata": {
    "collapsed": true
   },
   "outputs": [],
   "source": [
    "norm_seasons_road_cond[cols_3] = norm_seasons_road_cond[cols_3].div(sum_rows_3, axis=0) #normalise all columns in dataframe by dividing by sum of rows "
   ]
  },
  {
   "cell_type": "code",
   "execution_count": 83,
   "metadata": {
    "collapsed": true
   },
   "outputs": [],
   "source": [
    "norm_seasons_road_cond[cols_3] = 100*norm_seasons_road_cond[cols_3] #multiply by 100 to get percentage value"
   ]
  },
  {
   "cell_type": "code",
   "execution_count": 85,
   "metadata": {},
   "outputs": [
    {
     "data": {
      "text/plain": [
       "Text(0.5,0,'% of Road Accidents')"
      ]
     },
     "execution_count": 85,
     "metadata": {},
     "output_type": "execute_result"
    },
    {
     "data": {
      "image/png": "[encoded data removed]",
      "text/plain": [
       "<matplotlib.figure.Figure at 0x1f9eaa2e160>"
      ]
     },
     "metadata": {},
     "output_type": "display_data"
    }
   ],
   "source": [
    "norm_seasons_road_cond.plot(kind='barh', figsize=(10,8))\n",
    "plt.title('% of UK Road Accidents per season with Road Conditions', fontsize=20)\n",
    "plt.xlabel('% of Road Accidents')"
   ]
  },
  {
   "cell_type": "markdown",
   "metadata": {},
   "source": [
    "From above, we can see that through normalising the data there is not a huge difference in the graph above as we saw before.\n",
    "\n",
    "It is again important to note that some future work could be to normalise the data further based on the number of dry/wet/snowy days in the UK."
   ]
  },
  {
   "cell_type": "markdown",
   "metadata": {},
   "source": [
    "## 4.\n",
    "# Saving to Pickle Files & Creating Data Dictionaries\n",
    "\n",
    "We will now save our datasets with grouped data as pickle files, and create data dictionaries to summarise their contents"
   ]
  },
  {
   "cell_type": "code",
   "execution_count": 25,
   "metadata": {},
   "outputs": [
    {
     "data": {
      "text/plain": [
       "(4, 3)"
      ]
     },
     "execution_count": 25,
     "metadata": {},
     "output_type": "execute_result"
    }
   ],
   "source": [
    "all_seasons_severity.to_pickle(\"../../data/analysis/100_analysis_Q1A_all_seasons_severity.pkl\")\n",
    "all_seasons_severity.shape"
   ]
  },
  {
   "cell_type": "code",
   "execution_count": 26,
   "metadata": {},
   "outputs": [
    {
     "data": {
      "text/html": [
       "<div>\n",
       "<style scoped>\n",
       "    .dataframe tbody tr th:only-of-type {\n",
       "        vertical-align: middle;\n",
       "    }\n",
       "\n",
       "    .dataframe tbody tr th {\n",
       "        vertical-align: top;\n",
       "    }\n",
       "\n",
       "    .dataframe thead th {\n",
       "        text-align: right;\n",
       "    }\n",
       "</style>\n",
       "<table border=\"1\" class=\"dataframe\">\n",
       "  <thead>\n",
       "    <tr style=\"text-align: right;\">\n",
       "      <th></th>\n",
       "      <th>count</th>\n",
       "      <th>mean</th>\n",
       "      <th>std</th>\n",
       "      <th>min</th>\n",
       "      <th>25%</th>\n",
       "      <th>50%</th>\n",
       "      <th>75%</th>\n",
       "      <th>max</th>\n",
       "      <th>Missing</th>\n",
       "      <th>%Missing</th>\n",
       "    </tr>\n",
       "    <tr>\n",
       "      <th>Accident_Severity</th>\n",
       "      <th></th>\n",
       "      <th></th>\n",
       "      <th></th>\n",
       "      <th></th>\n",
       "      <th></th>\n",
       "      <th></th>\n",
       "      <th></th>\n",
       "      <th></th>\n",
       "      <th></th>\n",
       "      <th></th>\n",
       "    </tr>\n",
       "  </thead>\n",
       "  <tbody>\n",
       "    <tr>\n",
       "      <th>fatal</th>\n",
       "      <td>4.0</td>\n",
       "      <td>51648.0</td>\n",
       "      <td>3959.370320</td>\n",
       "      <td>47462.0</td>\n",
       "      <td>49160.00</td>\n",
       "      <td>51268.0</td>\n",
       "      <td>53756.00</td>\n",
       "      <td>56594.0</td>\n",
       "      <td>0</td>\n",
       "      <td>0.0</td>\n",
       "    </tr>\n",
       "    <tr>\n",
       "      <th>serious</th>\n",
       "      <td>4.0</td>\n",
       "      <td>541891.5</td>\n",
       "      <td>45433.361945</td>\n",
       "      <td>491847.0</td>\n",
       "      <td>510914.25</td>\n",
       "      <td>542181.0</td>\n",
       "      <td>573158.25</td>\n",
       "      <td>591357.0</td>\n",
       "      <td>0</td>\n",
       "      <td>0.0</td>\n",
       "    </tr>\n",
       "    <tr>\n",
       "      <th>slight</th>\n",
       "      <td>4.0</td>\n",
       "      <td>2522763.0</td>\n",
       "      <td>169111.629620</td>\n",
       "      <td>2373471.0</td>\n",
       "      <td>2401098.75</td>\n",
       "      <td>2486411.5</td>\n",
       "      <td>2608075.75</td>\n",
       "      <td>2744758.0</td>\n",
       "      <td>0</td>\n",
       "      <td>0.0</td>\n",
       "    </tr>\n",
       "  </tbody>\n",
       "</table>\n",
       "</div>"
      ],
      "text/plain": [
       "                   count       mean            std        min         25%  \\\n",
       "Accident_Severity                                                           \n",
       "fatal                4.0    51648.0    3959.370320    47462.0    49160.00   \n",
       "serious              4.0   541891.5   45433.361945   491847.0   510914.25   \n",
       "slight               4.0  2522763.0  169111.629620  2373471.0  2401098.75   \n",
       "\n",
       "                         50%         75%        max  Missing  %Missing  \n",
       "Accident_Severity                                                       \n",
       "fatal                51268.0    53756.00    56594.0        0       0.0  \n",
       "serious             542181.0   573158.25   591357.0        0       0.0  \n",
       "slight             2486411.5  2608075.75  2744758.0        0       0.0  "
      ]
     },
     "execution_count": 26,
     "metadata": {},
     "output_type": "execute_result"
    }
   ],
   "source": [
    "data_dictionary.save(\n",
    "    '../../data/analysis/100_analysis_Q1A_all_seasons_severity.pkl', \n",
    "    \"Updated Roadsafety dataset with added column 'Season'\").head()"
   ]
  },
  {
   "cell_type": "code",
   "execution_count": 51,
   "metadata": {},
   "outputs": [
    {
     "data": {
      "text/plain": [
       "(4, 3)"
      ]
     },
     "execution_count": 51,
     "metadata": {},
     "output_type": "execute_result"
    }
   ],
   "source": [
    "norm_seasons_severity.to_pickle(\"../../data/analysis/100_analysis_Q1A_norm_seasons_severity.pkl\")\n",
    "norm_seasons_severity.shape"
   ]
  },
  {
   "cell_type": "code",
   "execution_count": 52,
   "metadata": {},
   "outputs": [
    {
     "data": {
      "text/html": [
       "<div>\n",
       "<style scoped>\n",
       "    .dataframe tbody tr th:only-of-type {\n",
       "        vertical-align: middle;\n",
       "    }\n",
       "\n",
       "    .dataframe tbody tr th {\n",
       "        vertical-align: top;\n",
       "    }\n",
       "\n",
       "    .dataframe thead th {\n",
       "        text-align: right;\n",
       "    }\n",
       "</style>\n",
       "<table border=\"1\" class=\"dataframe\">\n",
       "  <thead>\n",
       "    <tr style=\"text-align: right;\">\n",
       "      <th></th>\n",
       "      <th>count</th>\n",
       "      <th>mean</th>\n",
       "      <th>std</th>\n",
       "      <th>min</th>\n",
       "      <th>25%</th>\n",
       "      <th>50%</th>\n",
       "      <th>75%</th>\n",
       "      <th>max</th>\n",
       "      <th>Missing</th>\n",
       "      <th>%Missing</th>\n",
       "    </tr>\n",
       "    <tr>\n",
       "      <th>Accident_Severity</th>\n",
       "      <th></th>\n",
       "      <th></th>\n",
       "      <th></th>\n",
       "      <th></th>\n",
       "      <th></th>\n",
       "      <th></th>\n",
       "      <th></th>\n",
       "      <th></th>\n",
       "      <th></th>\n",
       "      <th></th>\n",
       "    </tr>\n",
       "  </thead>\n",
       "  <tbody>\n",
       "    <tr>\n",
       "      <th>fatal</th>\n",
       "      <td>4.0</td>\n",
       "      <td>1.657179</td>\n",
       "      <td>0.045886</td>\n",
       "      <td>1.595340</td>\n",
       "      <td>1.643408</td>\n",
       "      <td>1.663769</td>\n",
       "      <td>1.677540</td>\n",
       "      <td>1.705840</td>\n",
       "      <td>0</td>\n",
       "      <td>0.0</td>\n",
       "    </tr>\n",
       "    <tr>\n",
       "      <th>serious</th>\n",
       "      <td>4.0</td>\n",
       "      <td>17.377369</td>\n",
       "      <td>0.388621</td>\n",
       "      <td>16.872713</td>\n",
       "      <td>17.258423</td>\n",
       "      <td>17.408612</td>\n",
       "      <td>17.527557</td>\n",
       "      <td>17.819538</td>\n",
       "      <td>0</td>\n",
       "      <td>0.0</td>\n",
       "    </tr>\n",
       "    <tr>\n",
       "      <th>slight</th>\n",
       "      <td>4.0</td>\n",
       "      <td>80.965452</td>\n",
       "      <td>0.370691</td>\n",
       "      <td>80.521032</td>\n",
       "      <td>80.806505</td>\n",
       "      <td>80.959665</td>\n",
       "      <td>81.118612</td>\n",
       "      <td>81.421447</td>\n",
       "      <td>0</td>\n",
       "      <td>0.0</td>\n",
       "    </tr>\n",
       "  </tbody>\n",
       "</table>\n",
       "</div>"
      ],
      "text/plain": [
       "                   count       mean       std        min        25%  \\\n",
       "Accident_Severity                                                     \n",
       "fatal                4.0   1.657179  0.045886   1.595340   1.643408   \n",
       "serious              4.0  17.377369  0.388621  16.872713  17.258423   \n",
       "slight               4.0  80.965452  0.370691  80.521032  80.806505   \n",
       "\n",
       "                         50%        75%        max  Missing  %Missing  \n",
       "Accident_Severity                                                      \n",
       "fatal               1.663769   1.677540   1.705840        0       0.0  \n",
       "serious            17.408612  17.527557  17.819538        0       0.0  \n",
       "slight             80.959665  81.118612  81.421447        0       0.0  "
      ]
     },
     "execution_count": 52,
     "metadata": {},
     "output_type": "execute_result"
    }
   ],
   "source": [
    "data_dictionary.save(\n",
    "    '../../data/analysis/100_analysis_Q1A_norm_seasons_severity.pkl', \n",
    "    \"Updated Roadsafety dataset with added column 'Season'\").head()"
   ]
  },
  {
   "cell_type": "code",
   "execution_count": 53,
   "metadata": {},
   "outputs": [
    {
     "data": {
      "text/plain": [
       "(4, 8)"
      ]
     },
     "execution_count": 53,
     "metadata": {},
     "output_type": "execute_result"
    }
   ],
   "source": [
    "norm_seasons_weather.to_pickle(\"../../data/analysis/100_analysis_Q1A_norm_seasons_weather.pkl\")\n",
    "norm_seasons_weather.shape"
   ]
  },
  {
   "cell_type": "code",
   "execution_count": 54,
   "metadata": {},
   "outputs": [
    {
     "data": {
      "text/html": [
       "<div>\n",
       "<style scoped>\n",
       "    .dataframe tbody tr th:only-of-type {\n",
       "        vertical-align: middle;\n",
       "    }\n",
       "\n",
       "    .dataframe tbody tr th {\n",
       "        vertical-align: top;\n",
       "    }\n",
       "\n",
       "    .dataframe thead th {\n",
       "        text-align: right;\n",
       "    }\n",
       "</style>\n",
       "<table border=\"1\" class=\"dataframe\">\n",
       "  <thead>\n",
       "    <tr style=\"text-align: right;\">\n",
       "      <th></th>\n",
       "      <th>count</th>\n",
       "      <th>mean</th>\n",
       "      <th>std</th>\n",
       "      <th>min</th>\n",
       "      <th>25%</th>\n",
       "      <th>50%</th>\n",
       "      <th>75%</th>\n",
       "      <th>max</th>\n",
       "      <th>Missing</th>\n",
       "      <th>%Missing</th>\n",
       "    </tr>\n",
       "    <tr>\n",
       "      <th>Weather_Conditions</th>\n",
       "      <th></th>\n",
       "      <th></th>\n",
       "      <th></th>\n",
       "      <th></th>\n",
       "      <th></th>\n",
       "      <th></th>\n",
       "      <th></th>\n",
       "      <th></th>\n",
       "      <th></th>\n",
       "      <th></th>\n",
       "    </tr>\n",
       "  </thead>\n",
       "  <tbody>\n",
       "    <tr>\n",
       "      <th>fine + high winds</th>\n",
       "      <td>4.0</td>\n",
       "      <td>1.598974</td>\n",
       "      <td>0.860230</td>\n",
       "      <td>0.578554</td>\n",
       "      <td>1.291480</td>\n",
       "      <td>1.567474</td>\n",
       "      <td>1.874968</td>\n",
       "      <td>2.682395</td>\n",
       "      <td>0</td>\n",
       "      <td>0.0</td>\n",
       "    </tr>\n",
       "    <tr>\n",
       "      <th>fine no high winds</th>\n",
       "      <td>4.0</td>\n",
       "      <td>78.742999</td>\n",
       "      <td>5.788198</td>\n",
       "      <td>72.137573</td>\n",
       "      <td>75.003249</td>\n",
       "      <td>78.904586</td>\n",
       "      <td>82.644336</td>\n",
       "      <td>85.025250</td>\n",
       "      <td>0</td>\n",
       "      <td>0.0</td>\n",
       "    </tr>\n",
       "    <tr>\n",
       "      <th>fog or mist</th>\n",
       "      <td>4.0</td>\n",
       "      <td>0.881603</td>\n",
       "      <td>0.753007</td>\n",
       "      <td>0.168488</td>\n",
       "      <td>0.374084</td>\n",
       "      <td>0.745152</td>\n",
       "      <td>1.252671</td>\n",
       "      <td>1.867622</td>\n",
       "      <td>0</td>\n",
       "      <td>0.0</td>\n",
       "    </tr>\n",
       "    <tr>\n",
       "      <th>other</th>\n",
       "      <td>4.0</td>\n",
       "      <td>2.086045</td>\n",
       "      <td>1.351506</td>\n",
       "      <td>0.942428</td>\n",
       "      <td>1.212560</td>\n",
       "      <td>1.714936</td>\n",
       "      <td>2.588420</td>\n",
       "      <td>3.971878</td>\n",
       "      <td>0</td>\n",
       "      <td>0.0</td>\n",
       "    </tr>\n",
       "    <tr>\n",
       "      <th>raining + high winds</th>\n",
       "      <td>4.0</td>\n",
       "      <td>1.558354</td>\n",
       "      <td>0.920966</td>\n",
       "      <td>0.545654</td>\n",
       "      <td>0.958302</td>\n",
       "      <td>1.531225</td>\n",
       "      <td>2.131278</td>\n",
       "      <td>2.625312</td>\n",
       "      <td>0</td>\n",
       "      <td>0.0</td>\n",
       "    </tr>\n",
       "  </tbody>\n",
       "</table>\n",
       "</div>"
      ],
      "text/plain": [
       "                      count       mean       std        min        25%  \\\n",
       "Weather_Conditions                                                       \n",
       "fine + high winds       4.0   1.598974  0.860230   0.578554   1.291480   \n",
       "fine no high winds      4.0  78.742999  5.788198  72.137573  75.003249   \n",
       "fog or mist             4.0   0.881603  0.753007   0.168488   0.374084   \n",
       "other                   4.0   2.086045  1.351506   0.942428   1.212560   \n",
       "raining + high winds    4.0   1.558354  0.920966   0.545654   0.958302   \n",
       "\n",
       "                            50%        75%        max  Missing  %Missing  \n",
       "Weather_Conditions                                                        \n",
       "fine + high winds      1.567474   1.874968   2.682395        0       0.0  \n",
       "fine no high winds    78.904586  82.644336  85.025250        0       0.0  \n",
       "fog or mist            0.745152   1.252671   1.867622        0       0.0  \n",
       "other                  1.714936   2.588420   3.971878        0       0.0  \n",
       "raining + high winds   1.531225   2.131278   2.625312        0       0.0  "
      ]
     },
     "execution_count": 54,
     "metadata": {},
     "output_type": "execute_result"
    }
   ],
   "source": [
    "data_dictionary.save(\n",
    "    '../../data/analysis/100_analysis_Q1A_norm_seasons_weather.pkl', \n",
    "    \"Updated Roadsafety dataset with added column 'Season'\").head()"
   ]
  },
  {
   "cell_type": "code",
   "execution_count": 55,
   "metadata": {},
   "outputs": [
    {
     "data": {
      "text/plain": [
       "(4, 5)"
      ]
     },
     "execution_count": 55,
     "metadata": {},
     "output_type": "execute_result"
    }
   ],
   "source": [
    "norm_seasons_road_cond.to_pickle(\"../../data/analysis/100_analysis_Q1A_norm_seasons_road_cond.pkl\")\n",
    "norm_seasons_road_cond.shape"
   ]
  },
  {
   "cell_type": "code",
   "execution_count": 56,
   "metadata": {},
   "outputs": [
    {
     "data": {
      "text/html": [
       "<div>\n",
       "<style scoped>\n",
       "    .dataframe tbody tr th:only-of-type {\n",
       "        vertical-align: middle;\n",
       "    }\n",
       "\n",
       "    .dataframe tbody tr th {\n",
       "        vertical-align: top;\n",
       "    }\n",
       "\n",
       "    .dataframe thead th {\n",
       "        text-align: right;\n",
       "    }\n",
       "</style>\n",
       "<table border=\"1\" class=\"dataframe\">\n",
       "  <thead>\n",
       "    <tr style=\"text-align: right;\">\n",
       "      <th></th>\n",
       "      <th>count</th>\n",
       "      <th>mean</th>\n",
       "      <th>std</th>\n",
       "      <th>min</th>\n",
       "      <th>25%</th>\n",
       "      <th>50%</th>\n",
       "      <th>75%</th>\n",
       "      <th>max</th>\n",
       "      <th>Missing</th>\n",
       "      <th>%Missing</th>\n",
       "    </tr>\n",
       "    <tr>\n",
       "      <th>Road_Surface_Conditions</th>\n",
       "      <th></th>\n",
       "      <th></th>\n",
       "      <th></th>\n",
       "      <th></th>\n",
       "      <th></th>\n",
       "      <th></th>\n",
       "      <th></th>\n",
       "      <th></th>\n",
       "      <th></th>\n",
       "      <th></th>\n",
       "    </tr>\n",
       "  </thead>\n",
       "  <tbody>\n",
       "    <tr>\n",
       "      <th>dry</th>\n",
       "      <td>4.0</td>\n",
       "      <td>63.899592</td>\n",
       "      <td>16.636851</td>\n",
       "      <td>42.151096</td>\n",
       "      <td>55.576628</td>\n",
       "      <td>67.006968</td>\n",
       "      <td>75.329933</td>\n",
       "      <td>79.433336</td>\n",
       "      <td>0</td>\n",
       "      <td>0.0</td>\n",
       "    </tr>\n",
       "    <tr>\n",
       "      <th>flood over 3cm. deep</th>\n",
       "      <td>4.0</td>\n",
       "      <td>0.133896</td>\n",
       "      <td>0.032903</td>\n",
       "      <td>0.090822</td>\n",
       "      <td>0.116974</td>\n",
       "      <td>0.141472</td>\n",
       "      <td>0.158394</td>\n",
       "      <td>0.161818</td>\n",
       "      <td>0</td>\n",
       "      <td>0.0</td>\n",
       "    </tr>\n",
       "    <tr>\n",
       "      <th>frost or ice</th>\n",
       "      <td>4.0</td>\n",
       "      <td>1.954284</td>\n",
       "      <td>2.961522</td>\n",
       "      <td>0.011658</td>\n",
       "      <td>0.365733</td>\n",
       "      <td>0.723662</td>\n",
       "      <td>2.312213</td>\n",
       "      <td>6.358154</td>\n",
       "      <td>0</td>\n",
       "      <td>0.0</td>\n",
       "    </tr>\n",
       "    <tr>\n",
       "      <th>snow</th>\n",
       "      <td>4.0</td>\n",
       "      <td>0.655501</td>\n",
       "      <td>0.959043</td>\n",
       "      <td>0.010684</td>\n",
       "      <td>0.098037</td>\n",
       "      <td>0.269860</td>\n",
       "      <td>0.827324</td>\n",
       "      <td>2.071598</td>\n",
       "      <td>0</td>\n",
       "      <td>0.0</td>\n",
       "    </tr>\n",
       "    <tr>\n",
       "      <th>wet or damp</th>\n",
       "      <td>4.0</td>\n",
       "      <td>33.356727</td>\n",
       "      <td>13.138527</td>\n",
       "      <td>20.418631</td>\n",
       "      <td>23.892699</td>\n",
       "      <td>31.873189</td>\n",
       "      <td>41.337216</td>\n",
       "      <td>49.261898</td>\n",
       "      <td>0</td>\n",
       "      <td>0.0</td>\n",
       "    </tr>\n",
       "  </tbody>\n",
       "</table>\n",
       "</div>"
      ],
      "text/plain": [
       "                         count       mean        std        min        25%  \\\n",
       "Road_Surface_Conditions                                                      \n",
       "dry                        4.0  63.899592  16.636851  42.151096  55.576628   \n",
       "flood over 3cm. deep       4.0   0.133896   0.032903   0.090822   0.116974   \n",
       "frost or ice               4.0   1.954284   2.961522   0.011658   0.365733   \n",
       "snow                       4.0   0.655501   0.959043   0.010684   0.098037   \n",
       "wet or damp                4.0  33.356727  13.138527  20.418631  23.892699   \n",
       "\n",
       "                               50%        75%        max  Missing  %Missing  \n",
       "Road_Surface_Conditions                                                      \n",
       "dry                      67.006968  75.329933  79.433336        0       0.0  \n",
       "flood over 3cm. deep      0.141472   0.158394   0.161818        0       0.0  \n",
       "frost or ice              0.723662   2.312213   6.358154        0       0.0  \n",
       "snow                      0.269860   0.827324   2.071598        0       0.0  \n",
       "wet or damp              31.873189  41.337216  49.261898        0       0.0  "
      ]
     },
     "execution_count": 56,
     "metadata": {},
     "output_type": "execute_result"
    }
   ],
   "source": [
    "data_dictionary.save(\n",
    "    '../../data/analysis/100_analysis_Q1A_norm_seasons_road_cond.pkl', \n",
    "    \"Updated Roadsafety dataset with added column 'Season'\").head()"
   ]
  },
  {
   "cell_type": "code",
   "execution_count": null,
   "metadata": {
    "collapsed": true
   },
   "outputs": [],
   "source": []
  }
 ],
 "metadata": {
  "kernelspec": {
   "display_name": "Python 3",
   "language": "python",
   "name": "python3"
  },
  "language_info": {
   "codemirror_mode": {
    "name": "ipython",
    "version": 3
   },
   "file_extension": ".py",
   "mimetype": "text/x-python",
   "name": "python",
   "nbconvert_exporter": "python",
   "pygments_lexer": "ipython3",
   "version": "3.6.3"
  }
 },
 "nbformat": 4,
 "nbformat_minor": 2
}
