{
 "cells": [
  {
   "cell_type": "markdown",
   "metadata": {},
   "source": [
    "# 300_Analysis_Q1C\n",
    "\n",
    "\n",
    "# _ Question One: Is There a Safest Time for Travel?_\n",
    "\n",
    "## _ (C): Are people who drive for work more dangerous than non-occupational drivers?_\n",
    "\n",
    "\n",
    "## Purpose\n",
    "\n",
    "We will now begin to analyse and explore our newly validated and prepared datasets. In this notebook we will explore whether purpose of journey impacts road accident likelihood. In particular, we will analyse whether people who drive as part of work (eg. delivery driver) are involved in more accidents than people who do not drive for work (ie. non-occupationally). To do this, we will use our journey purpose of driver column.\n",
    "\n",
    "\n",
    "\n",
    "### Notebook Contents:\n",
    "\n",
    "* __1:__ A Closer look at the Data\n",
    "\n",
    "* __2:__ Purpose of Journey\n",
    "    * __2.1:__ Mapping Values\n",
    "\n",
    "\n",
    "* __3:__ Age of Driver     \n",
    "    * __3.1:__ Normalise\n",
    "     \n",
    "* __4:__ Saving to Pickle Files & Creating Data Dictionaries\n",
    "\n",
    "\n",
    "## Datasets\n",
    "\n",
    "* __Input__: \n",
    "\n",
    "*  700_Q1C_final_prep.pkl (Fully prepared dataset of UK Road Safety Data from 2005 - 2014, for RQ1(C))\n",
    "\n",
    "\n",
    "* __Output__: \n",
    "\n",
    "* 300_analysis_Q1C_norm_num_by_purp_sex.pkl (Total number of accidents by M/F drivers and journey purpose, normalised.)\n",
    "\n",
    "* 300_analysis_Q1C_norm_num_by_purp_age.pkl (Total number of accidents by Age band of drivers and journey purpose, normalised.)"
   ]
  },
  {
   "cell_type": "code",
   "execution_count": 2,
   "metadata": {
    "collapsed": true
   },
   "outputs": [],
   "source": [
    "import os\n",
    "import sys\n",
    "\n",
    "import pandas as pd\n",
    "import numpy as np\n",
    "import matplotlib.pylab as plt\n",
    "import seaborn as sns\n",
    "\n",
    "module_path = os.path.abspath(os.path.join('../../data/..'))\n",
    "if module_path not in sys.path:\n",
    "    sys.path.append(module_path)\n",
    "    \n",
    "from src.helpers import data_dictionary\n",
    "\n",
    "%matplotlib inline"
   ]
  },
  {
   "cell_type": "markdown",
   "metadata": {},
   "source": [
    "Since we have cleaned our initial dataset and saved only the columns which are relevant to this research question in a separate pickle file, we will read in this cleaned datasets for the purpose of answering this research question."
   ]
  },
  {
   "cell_type": "code",
   "execution_count": 3,
   "metadata": {},
   "outputs": [
    {
     "data": {
      "text/plain": [
       "(792713, 18)"
      ]
     },
     "execution_count": 3,
     "metadata": {},
     "output_type": "execute_result"
    }
   ],
   "source": [
    "Q1C = pd.read_pickle('../../data/processed/700_Q1C_final_prep.pkl')\n",
    "Q1C.shape"
   ]
  },
  {
   "cell_type": "markdown",
   "metadata": {},
   "source": [
    "## 1.\n",
    "\n",
    "## A closer look at the data"
   ]
  },
  {
   "cell_type": "code",
   "execution_count": 4,
   "metadata": {},
   "outputs": [
    {
     "data": {
      "text/html": [
       "<div>\n",
       "<style scoped>\n",
       "    .dataframe tbody tr th:only-of-type {\n",
       "        vertical-align: middle;\n",
       "    }\n",
       "\n",
       "    .dataframe tbody tr th {\n",
       "        vertical-align: top;\n",
       "    }\n",
       "\n",
       "    .dataframe thead th {\n",
       "        text-align: right;\n",
       "    }\n",
       "</style>\n",
       "<table border=\"1\" class=\"dataframe\">\n",
       "  <thead>\n",
       "    <tr style=\"text-align: right;\">\n",
       "      <th></th>\n",
       "      <th>Accident_Index</th>\n",
       "      <th>Accident_Severity</th>\n",
       "      <th>Number_of_Vehicles</th>\n",
       "      <th>Number_of_Casualties</th>\n",
       "      <th>Date</th>\n",
       "      <th>Day_of_Week</th>\n",
       "      <th>Time</th>\n",
       "      <th>Local_Authority_(District)</th>\n",
       "      <th>Light_Conditions</th>\n",
       "      <th>Weather_Conditions</th>\n",
       "      <th>Road_Surface_Conditions</th>\n",
       "      <th>Vehicle_Type</th>\n",
       "      <th>Sex_of_Driver</th>\n",
       "      <th>Age_Band_of_Driver</th>\n",
       "      <th>Journey_Purpose_of_Driver</th>\n",
       "      <th>Date_Day</th>\n",
       "      <th>Month</th>\n",
       "      <th>Year</th>\n",
       "    </tr>\n",
       "  </thead>\n",
       "  <tbody>\n",
       "    <tr>\n",
       "      <th>1</th>\n",
       "      <td>200501BS00002</td>\n",
       "      <td>slight</td>\n",
       "      <td>1</td>\n",
       "      <td>1</td>\n",
       "      <td>05/01/2005</td>\n",
       "      <td>thursday</td>\n",
       "      <td>17:36</td>\n",
       "      <td>12</td>\n",
       "      <td>darkness - lights lit</td>\n",
       "      <td>fine no high winds</td>\n",
       "      <td>dry</td>\n",
       "      <td>bus or coach</td>\n",
       "      <td>male</td>\n",
       "      <td>36 - 45</td>\n",
       "      <td>occupational</td>\n",
       "      <td>05</td>\n",
       "      <td>01</td>\n",
       "      <td>2005</td>\n",
       "    </tr>\n",
       "    <tr>\n",
       "      <th>2</th>\n",
       "      <td>200501BS00003</td>\n",
       "      <td>slight</td>\n",
       "      <td>2</td>\n",
       "      <td>1</td>\n",
       "      <td>06/01/2005</td>\n",
       "      <td>friday</td>\n",
       "      <td>00:15</td>\n",
       "      <td>12</td>\n",
       "      <td>darkness - lights lit</td>\n",
       "      <td>fine no high winds</td>\n",
       "      <td>dry</td>\n",
       "      <td>bus or coach</td>\n",
       "      <td>male</td>\n",
       "      <td>26 - 35</td>\n",
       "      <td>occupational</td>\n",
       "      <td>06</td>\n",
       "      <td>01</td>\n",
       "      <td>2005</td>\n",
       "    </tr>\n",
       "  </tbody>\n",
       "</table>\n",
       "</div>"
      ],
      "text/plain": [
       "  Accident_Index Accident_Severity  Number_of_Vehicles  Number_of_Casualties  \\\n",
       "1  200501BS00002            slight                   1                     1   \n",
       "2  200501BS00003            slight                   2                     1   \n",
       "\n",
       "         Date Day_of_Week   Time  Local_Authority_(District)  \\\n",
       "1  05/01/2005    thursday  17:36                          12   \n",
       "2  06/01/2005      friday  00:15                          12   \n",
       "\n",
       "        Light_Conditions  Weather_Conditions Road_Surface_Conditions  \\\n",
       "1  darkness - lights lit  fine no high winds                     dry   \n",
       "2  darkness - lights lit  fine no high winds                     dry   \n",
       "\n",
       "   Vehicle_Type Sex_of_Driver Age_Band_of_Driver Journey_Purpose_of_Driver  \\\n",
       "1  bus or coach          male            36 - 45              occupational   \n",
       "2  bus or coach          male            26 - 35              occupational   \n",
       "\n",
       "  Date_Day Month  Year  \n",
       "1       05    01  2005  \n",
       "2       06    01  2005  "
      ]
     },
     "execution_count": 4,
     "metadata": {},
     "output_type": "execute_result"
    }
   ],
   "source": [
    "Q1C.head(2)"
   ]
  },
  {
   "cell_type": "code",
   "execution_count": 5,
   "metadata": {},
   "outputs": [
    {
     "data": {
      "text/html": [
       "<div>\n",
       "<style scoped>\n",
       "    .dataframe tbody tr th:only-of-type {\n",
       "        vertical-align: middle;\n",
       "    }\n",
       "\n",
       "    .dataframe tbody tr th {\n",
       "        vertical-align: top;\n",
       "    }\n",
       "\n",
       "    .dataframe thead th {\n",
       "        text-align: right;\n",
       "    }\n",
       "</style>\n",
       "<table border=\"1\" class=\"dataframe\">\n",
       "  <thead>\n",
       "    <tr style=\"text-align: right;\">\n",
       "      <th></th>\n",
       "      <th>Accident_Index</th>\n",
       "      <th>Accident_Severity</th>\n",
       "      <th>Number_of_Vehicles</th>\n",
       "      <th>Number_of_Casualties</th>\n",
       "      <th>Date</th>\n",
       "      <th>Day_of_Week</th>\n",
       "      <th>Time</th>\n",
       "      <th>Local_Authority_(District)</th>\n",
       "      <th>Light_Conditions</th>\n",
       "      <th>Weather_Conditions</th>\n",
       "      <th>Road_Surface_Conditions</th>\n",
       "      <th>Vehicle_Type</th>\n",
       "      <th>Sex_of_Driver</th>\n",
       "      <th>Age_Band_of_Driver</th>\n",
       "      <th>Journey_Purpose_of_Driver</th>\n",
       "      <th>Date_Day</th>\n",
       "      <th>Month</th>\n",
       "      <th>Year</th>\n",
       "    </tr>\n",
       "  </thead>\n",
       "  <tbody>\n",
       "    <tr>\n",
       "      <th>3004421</th>\n",
       "      <td>2014984138414</td>\n",
       "      <td>serious</td>\n",
       "      <td>3</td>\n",
       "      <td>2</td>\n",
       "      <td>17/12/2014</td>\n",
       "      <td>thursday</td>\n",
       "      <td>06:55</td>\n",
       "      <td>917</td>\n",
       "      <td>darkness - no lighting</td>\n",
       "      <td>raining no high winds</td>\n",
       "      <td>wet or damp</td>\n",
       "      <td>van / goods 3.5 tonnes mgw or under</td>\n",
       "      <td>male</td>\n",
       "      <td>36 - 45</td>\n",
       "      <td>commuting to/from work</td>\n",
       "      <td>17</td>\n",
       "      <td>12</td>\n",
       "      <td>2014</td>\n",
       "    </tr>\n",
       "    <tr>\n",
       "      <th>3004423</th>\n",
       "      <td>2014984139614</td>\n",
       "      <td>slight</td>\n",
       "      <td>2</td>\n",
       "      <td>2</td>\n",
       "      <td>24/12/2014</td>\n",
       "      <td>thursday</td>\n",
       "      <td>15:00</td>\n",
       "      <td>917</td>\n",
       "      <td>daylight</td>\n",
       "      <td>fine no high winds</td>\n",
       "      <td>wet or damp</td>\n",
       "      <td>bus or coach</td>\n",
       "      <td>male</td>\n",
       "      <td>36 - 45</td>\n",
       "      <td>occupational</td>\n",
       "      <td>24</td>\n",
       "      <td>12</td>\n",
       "      <td>2014</td>\n",
       "    </tr>\n",
       "  </tbody>\n",
       "</table>\n",
       "</div>"
      ],
      "text/plain": [
       "        Accident_Index Accident_Severity  Number_of_Vehicles  \\\n",
       "3004421  2014984138414           serious                   3   \n",
       "3004423  2014984139614            slight                   2   \n",
       "\n",
       "         Number_of_Casualties        Date Day_of_Week   Time  \\\n",
       "3004421                     2  17/12/2014    thursday  06:55   \n",
       "3004423                     2  24/12/2014    thursday  15:00   \n",
       "\n",
       "         Local_Authority_(District)        Light_Conditions  \\\n",
       "3004421                         917  darkness - no lighting   \n",
       "3004423                         917                daylight   \n",
       "\n",
       "            Weather_Conditions Road_Surface_Conditions  \\\n",
       "3004421  raining no high winds             wet or damp   \n",
       "3004423     fine no high winds             wet or damp   \n",
       "\n",
       "                                Vehicle_Type Sex_of_Driver Age_Band_of_Driver  \\\n",
       "3004421  van / goods 3.5 tonnes mgw or under          male            36 - 45   \n",
       "3004423                         bus or coach          male            36 - 45   \n",
       "\n",
       "        Journey_Purpose_of_Driver Date_Day Month  Year  \n",
       "3004421    commuting to/from work       17    12  2014  \n",
       "3004423              occupational       24    12  2014  "
      ]
     },
     "execution_count": 5,
     "metadata": {},
     "output_type": "execute_result"
    }
   ],
   "source": [
    "Q1C.tail(2)"
   ]
  },
  {
   "cell_type": "markdown",
   "metadata": {},
   "source": [
    "From above, we have shown the first and last 2 columns of the dataset which we wil be using to answer question One (C).\n",
    "\n",
    "It is important to note that in order to answer this question, we will be using data from _2005 to 2014_ only."
   ]
  },
  {
   "cell_type": "markdown",
   "metadata": {},
   "source": [
    "## 2.\n",
    "## Purpose of Journey\n",
    "\n",
    "In order to analyse whether recreational or occupational drivers are involved in more road accidents, we need to create a new column stating whether the journey listed in our Journey_Purpose_of_Driver is occupational or recreational."
   ]
  },
  {
   "cell_type": "code",
   "execution_count": 6,
   "metadata": {
    "collapsed": true
   },
   "outputs": [],
   "source": [
    "newcol = Q1C['Journey_Purpose_of_Driver'] #create new column called 'Occupational_Recreational' as a copy of Journey_Purpose_of_Driver column\n",
    "new_Q1C = Q1C.assign(Occupational_Non=newcol)"
   ]
  },
  {
   "cell_type": "code",
   "execution_count": 7,
   "metadata": {},
   "outputs": [
    {
     "data": {
      "text/html": [
       "<div>\n",
       "<style scoped>\n",
       "    .dataframe tbody tr th:only-of-type {\n",
       "        vertical-align: middle;\n",
       "    }\n",
       "\n",
       "    .dataframe tbody tr th {\n",
       "        vertical-align: top;\n",
       "    }\n",
       "\n",
       "    .dataframe thead th {\n",
       "        text-align: right;\n",
       "    }\n",
       "</style>\n",
       "<table border=\"1\" class=\"dataframe\">\n",
       "  <thead>\n",
       "    <tr style=\"text-align: right;\">\n",
       "      <th></th>\n",
       "      <th>Accident_Index</th>\n",
       "      <th>Accident_Severity</th>\n",
       "      <th>Number_of_Vehicles</th>\n",
       "      <th>Number_of_Casualties</th>\n",
       "      <th>Date</th>\n",
       "      <th>Day_of_Week</th>\n",
       "      <th>Time</th>\n",
       "      <th>Local_Authority_(District)</th>\n",
       "      <th>Light_Conditions</th>\n",
       "      <th>Weather_Conditions</th>\n",
       "      <th>Road_Surface_Conditions</th>\n",
       "      <th>Vehicle_Type</th>\n",
       "      <th>Sex_of_Driver</th>\n",
       "      <th>Age_Band_of_Driver</th>\n",
       "      <th>Journey_Purpose_of_Driver</th>\n",
       "      <th>Date_Day</th>\n",
       "      <th>Month</th>\n",
       "      <th>Year</th>\n",
       "      <th>Occupational_Non</th>\n",
       "    </tr>\n",
       "  </thead>\n",
       "  <tbody>\n",
       "    <tr>\n",
       "      <th>1</th>\n",
       "      <td>200501BS00002</td>\n",
       "      <td>slight</td>\n",
       "      <td>1</td>\n",
       "      <td>1</td>\n",
       "      <td>05/01/2005</td>\n",
       "      <td>thursday</td>\n",
       "      <td>17:36</td>\n",
       "      <td>12</td>\n",
       "      <td>darkness - lights lit</td>\n",
       "      <td>fine no high winds</td>\n",
       "      <td>dry</td>\n",
       "      <td>bus or coach</td>\n",
       "      <td>male</td>\n",
       "      <td>36 - 45</td>\n",
       "      <td>occupational</td>\n",
       "      <td>05</td>\n",
       "      <td>01</td>\n",
       "      <td>2005</td>\n",
       "      <td>occupational</td>\n",
       "    </tr>\n",
       "    <tr>\n",
       "      <th>2</th>\n",
       "      <td>200501BS00003</td>\n",
       "      <td>slight</td>\n",
       "      <td>2</td>\n",
       "      <td>1</td>\n",
       "      <td>06/01/2005</td>\n",
       "      <td>friday</td>\n",
       "      <td>00:15</td>\n",
       "      <td>12</td>\n",
       "      <td>darkness - lights lit</td>\n",
       "      <td>fine no high winds</td>\n",
       "      <td>dry</td>\n",
       "      <td>bus or coach</td>\n",
       "      <td>male</td>\n",
       "      <td>26 - 35</td>\n",
       "      <td>occupational</td>\n",
       "      <td>06</td>\n",
       "      <td>01</td>\n",
       "      <td>2005</td>\n",
       "      <td>occupational</td>\n",
       "    </tr>\n",
       "    <tr>\n",
       "      <th>13</th>\n",
       "      <td>200501BS00011</td>\n",
       "      <td>slight</td>\n",
       "      <td>2</td>\n",
       "      <td>5</td>\n",
       "      <td>15/01/2005</td>\n",
       "      <td>sunday</td>\n",
       "      <td>16:00</td>\n",
       "      <td>12</td>\n",
       "      <td>daylight</td>\n",
       "      <td>fine no high winds</td>\n",
       "      <td>dry</td>\n",
       "      <td>bus or coach</td>\n",
       "      <td>male</td>\n",
       "      <td>36 - 45</td>\n",
       "      <td>occupational</td>\n",
       "      <td>15</td>\n",
       "      <td>01</td>\n",
       "      <td>2005</td>\n",
       "      <td>occupational</td>\n",
       "    </tr>\n",
       "  </tbody>\n",
       "</table>\n",
       "</div>"
      ],
      "text/plain": [
       "   Accident_Index Accident_Severity  Number_of_Vehicles  Number_of_Casualties  \\\n",
       "1   200501BS00002            slight                   1                     1   \n",
       "2   200501BS00003            slight                   2                     1   \n",
       "13  200501BS00011            slight                   2                     5   \n",
       "\n",
       "          Date Day_of_Week   Time  Local_Authority_(District)  \\\n",
       "1   05/01/2005    thursday  17:36                          12   \n",
       "2   06/01/2005      friday  00:15                          12   \n",
       "13  15/01/2005      sunday  16:00                          12   \n",
       "\n",
       "         Light_Conditions  Weather_Conditions Road_Surface_Conditions  \\\n",
       "1   darkness - lights lit  fine no high winds                     dry   \n",
       "2   darkness - lights lit  fine no high winds                     dry   \n",
       "13               daylight  fine no high winds                     dry   \n",
       "\n",
       "    Vehicle_Type Sex_of_Driver Age_Band_of_Driver Journey_Purpose_of_Driver  \\\n",
       "1   bus or coach          male            36 - 45              occupational   \n",
       "2   bus or coach          male            26 - 35              occupational   \n",
       "13  bus or coach          male            36 - 45              occupational   \n",
       "\n",
       "   Date_Day Month  Year Occupational_Non  \n",
       "1        05    01  2005     occupational  \n",
       "2        06    01  2005     occupational  \n",
       "13       15    01  2005     occupational  "
      ]
     },
     "execution_count": 7,
     "metadata": {},
     "output_type": "execute_result"
    }
   ],
   "source": [
    "new_Q1C.head(3)"
   ]
  },
  {
   "cell_type": "markdown",
   "metadata": {},
   "source": [
    "## 2.1\n",
    "### Mapping Values\n",
    "\n",
    "Below we will map values to indicate whether journey purpose is occupational or non-occupational.\n",
    "\n",
    "It is important to note that we are leaving the 'occupational' values the same, and we will map 'other' as non-occupational."
   ]
  },
  {
   "cell_type": "code",
   "execution_count": 8,
   "metadata": {
    "collapsed": true
   },
   "outputs": [],
   "source": [
    "journey_purp_map = { 'commuting to/from work':'non-occupational', 'taking pupil to/from school':'non-occupational', 'pupil riding to/from school':'non-occupational', 'other':'non-occupational'} #define our map"
   ]
  },
  {
   "cell_type": "markdown",
   "metadata": {},
   "source": [
    "To apply this map function:\n",
    "\n",
    "* We must specify the column which we want to apply the mapping function to.\n",
    "* We then must apply a lambda function to our map, which will replace any occurrence of a value that is present in the map, otherwise it will leave the value as the original.\n",
    "\n",
    "We have used code from [this](https://stackoverflow.com/questions/17114904/python-pandas-replacing-strings-in-dataframe-with-numbers) stack overflow question to carry out the mapping function."
   ]
  },
  {
   "cell_type": "code",
   "execution_count": 9,
   "metadata": {
    "collapsed": true
   },
   "outputs": [],
   "source": [
    "new_Q1C['Occupational_Non'] = new_Q1C['Occupational_Non'].apply(lambda s: journey_purp_map.get(s) if s in journey_purp_map else s)"
   ]
  },
  {
   "cell_type": "code",
   "execution_count": 10,
   "metadata": {},
   "outputs": [
    {
     "data": {
      "text/html": [
       "<div>\n",
       "<style scoped>\n",
       "    .dataframe tbody tr th:only-of-type {\n",
       "        vertical-align: middle;\n",
       "    }\n",
       "\n",
       "    .dataframe tbody tr th {\n",
       "        vertical-align: top;\n",
       "    }\n",
       "\n",
       "    .dataframe thead th {\n",
       "        text-align: right;\n",
       "    }\n",
       "</style>\n",
       "<table border=\"1\" class=\"dataframe\">\n",
       "  <thead>\n",
       "    <tr style=\"text-align: right;\">\n",
       "      <th></th>\n",
       "      <th>Accident_Index</th>\n",
       "      <th>Accident_Severity</th>\n",
       "      <th>Number_of_Vehicles</th>\n",
       "      <th>Number_of_Casualties</th>\n",
       "      <th>Date</th>\n",
       "      <th>Day_of_Week</th>\n",
       "      <th>Time</th>\n",
       "      <th>Local_Authority_(District)</th>\n",
       "      <th>Light_Conditions</th>\n",
       "      <th>Weather_Conditions</th>\n",
       "      <th>Road_Surface_Conditions</th>\n",
       "      <th>Vehicle_Type</th>\n",
       "      <th>Sex_of_Driver</th>\n",
       "      <th>Age_Band_of_Driver</th>\n",
       "      <th>Journey_Purpose_of_Driver</th>\n",
       "      <th>Date_Day</th>\n",
       "      <th>Month</th>\n",
       "      <th>Year</th>\n",
       "      <th>Occupational_Non</th>\n",
       "    </tr>\n",
       "  </thead>\n",
       "  <tbody>\n",
       "    <tr>\n",
       "      <th>1</th>\n",
       "      <td>200501BS00002</td>\n",
       "      <td>slight</td>\n",
       "      <td>1</td>\n",
       "      <td>1</td>\n",
       "      <td>05/01/2005</td>\n",
       "      <td>thursday</td>\n",
       "      <td>17:36</td>\n",
       "      <td>12</td>\n",
       "      <td>darkness - lights lit</td>\n",
       "      <td>fine no high winds</td>\n",
       "      <td>dry</td>\n",
       "      <td>bus or coach</td>\n",
       "      <td>male</td>\n",
       "      <td>36 - 45</td>\n",
       "      <td>occupational</td>\n",
       "      <td>05</td>\n",
       "      <td>01</td>\n",
       "      <td>2005</td>\n",
       "      <td>occupational</td>\n",
       "    </tr>\n",
       "    <tr>\n",
       "      <th>2</th>\n",
       "      <td>200501BS00003</td>\n",
       "      <td>slight</td>\n",
       "      <td>2</td>\n",
       "      <td>1</td>\n",
       "      <td>06/01/2005</td>\n",
       "      <td>friday</td>\n",
       "      <td>00:15</td>\n",
       "      <td>12</td>\n",
       "      <td>darkness - lights lit</td>\n",
       "      <td>fine no high winds</td>\n",
       "      <td>dry</td>\n",
       "      <td>bus or coach</td>\n",
       "      <td>male</td>\n",
       "      <td>26 - 35</td>\n",
       "      <td>occupational</td>\n",
       "      <td>06</td>\n",
       "      <td>01</td>\n",
       "      <td>2005</td>\n",
       "      <td>occupational</td>\n",
       "    </tr>\n",
       "  </tbody>\n",
       "</table>\n",
       "</div>"
      ],
      "text/plain": [
       "  Accident_Index Accident_Severity  Number_of_Vehicles  Number_of_Casualties  \\\n",
       "1  200501BS00002            slight                   1                     1   \n",
       "2  200501BS00003            slight                   2                     1   \n",
       "\n",
       "         Date Day_of_Week   Time  Local_Authority_(District)  \\\n",
       "1  05/01/2005    thursday  17:36                          12   \n",
       "2  06/01/2005      friday  00:15                          12   \n",
       "\n",
       "        Light_Conditions  Weather_Conditions Road_Surface_Conditions  \\\n",
       "1  darkness - lights lit  fine no high winds                     dry   \n",
       "2  darkness - lights lit  fine no high winds                     dry   \n",
       "\n",
       "   Vehicle_Type Sex_of_Driver Age_Band_of_Driver Journey_Purpose_of_Driver  \\\n",
       "1  bus or coach          male            36 - 45              occupational   \n",
       "2  bus or coach          male            26 - 35              occupational   \n",
       "\n",
       "  Date_Day Month  Year Occupational_Non  \n",
       "1       05    01  2005     occupational  \n",
       "2       06    01  2005     occupational  "
      ]
     },
     "execution_count": 10,
     "metadata": {},
     "output_type": "execute_result"
    }
   ],
   "source": [
    "new_Q1C.head(2)"
   ]
  },
  {
   "cell_type": "markdown",
   "metadata": {},
   "source": [
    "### Group by Journey Purpose\n",
    "\n",
    "Below we will group accidents by the 'Occupational_Non' column to see the total number of accidents by each group."
   ]
  },
  {
   "cell_type": "code",
   "execution_count": 11,
   "metadata": {},
   "outputs": [
    {
     "data": {
      "text/plain": [
       "Occupational_Non\n",
       "non-occupational    333124\n",
       "occupational        459589\n",
       "dtype: int64"
      ]
     },
     "execution_count": 11,
     "metadata": {},
     "output_type": "execute_result"
    }
   ],
   "source": [
    "group_by_purpose = new_Q1C.groupby('Occupational_Non')\n",
    "group_by_purpose.size()"
   ]
  },
  {
   "cell_type": "markdown",
   "metadata": {},
   "source": [
    "From above, we can get an initial insight into the data, which shows that people who drive for work are involved in more road accidents than non-occupational drivers."
   ]
  },
  {
   "cell_type": "markdown",
   "metadata": {},
   "source": [
    "## 3.\n",
    "## Age of Driver\n",
    "\n",
    "Below I will group the dataframe by sex of driver, to see how many males and females in total are involved in road accidents."
   ]
  },
  {
   "cell_type": "code",
   "execution_count": 12,
   "metadata": {},
   "outputs": [
    {
     "data": {
      "text/plain": [
       "Sex_of_Driver\n",
       "female    198493\n",
       "male      594220\n",
       "dtype: int64"
      ]
     },
     "execution_count": 12,
     "metadata": {},
     "output_type": "execute_result"
    }
   ],
   "source": [
    "group_by_sex = new_Q1C.groupby('Sex_of_Driver')\n",
    "group_by_sex.size()"
   ]
  },
  {
   "cell_type": "markdown",
   "metadata": {},
   "source": [
    "From above, we can see that there are more Males than Females involved in road accidents. We will take this into account below.\n",
    "\n",
    "Now we will group the Accidents by both the 'Occupational_Non' and 'Sex_of_Driver' columns.\n",
    "\n",
    "## 3.1\n",
    "## Normalise\n",
    "\n",
    "I will normalise this data to account for the fact that there are more Males than Females involved in road accidents, as we saw from above.\n",
    "\n",
    "I will then plot a graph of this data, showing the percentage of male/female drivers involved in road accidents when journey purpose was both non-occupational or occupational, to see how these figures differ.\n",
    "\n",
    "When we normalise, we are getting the sum of the all columns for each row in the dataset."
   ]
  },
  {
   "cell_type": "code",
   "execution_count": 14,
   "metadata": {
    "collapsed": true
   },
   "outputs": [],
   "source": [
    "num_by_purp_sex = new_Q1C.groupby(\n",
    "    ['Occupational_Non', 'Sex_of_Driver'])['Accident_Index'].count().unstack()"
   ]
  },
  {
   "cell_type": "code",
   "execution_count": 15,
   "metadata": {
    "collapsed": true
   },
   "outputs": [],
   "source": [
    "norm_num_by_purp_sex = num_by_purp_sex.copy() #create a dataframe as copy of original"
   ]
  },
  {
   "cell_type": "code",
   "execution_count": 16,
   "metadata": {
    "collapsed": true
   },
   "outputs": [],
   "source": [
    "cols_1 = norm_num_by_purp_sex.columns #define columns to normalise"
   ]
  },
  {
   "cell_type": "code",
   "execution_count": 17,
   "metadata": {
    "collapsed": true
   },
   "outputs": [],
   "source": [
    "sum_rows_1 = norm_num_by_purp_sex[cols_1].sum(axis=1) #calculate the sum of each row"
   ]
  },
  {
   "cell_type": "code",
   "execution_count": 18,
   "metadata": {
    "collapsed": true
   },
   "outputs": [],
   "source": [
    "norm_num_by_purp_sex[cols_1] = norm_num_by_purp_sex[cols_1].div(sum_rows_1, axis=0) #normalise all columns in the dataset by dividing them by the sum of each row"
   ]
  },
  {
   "cell_type": "code",
   "execution_count": 19,
   "metadata": {
    "collapsed": true
   },
   "outputs": [],
   "source": [
    "norm_num_by_purp_sex[cols_1] = 100*norm_num_by_purp_sex[cols_1] #multiply normalised data by 100 to get a percentage value."
   ]
  },
  {
   "cell_type": "code",
   "execution_count": 21,
   "metadata": {},
   "outputs": [
    {
     "data": {
      "text/plain": [
       "Text(0,0.5,'% of Road Accidents')"
      ]
     },
     "execution_count": 21,
     "metadata": {},
     "output_type": "execute_result"
    },
    {
     "data": {
      "image/png": "[encoded data removed]",
      "text/plain": [
       "<matplotlib.figure.Figure at 0x23656f742e8>"
      ]
     },
     "metadata": {},
     "output_type": "display_data"
    }
   ],
   "source": [
    "norm_num_by_purp_sex.plot(kind='bar', figsize=(12,8)).legend(bbox_to_anchor=(1,1))\n",
    "plt.title('% of Road Accidents by Journey Purpose of Driver', fontsize=20)\n",
    "plt.ylabel('% of Road Accidents')"
   ]
  },
  {
   "cell_type": "markdown",
   "metadata": {},
   "source": [
    "From the above graph, we can clearly see that males contribute to a higher percentage of road accidents for both non-occupational and occupational journey purposes.\n",
    "\n",
    "Below we will group the data by the 'Age_Band_of_Driver' column, to see how many drivers from each age band are involved in road accidents."
   ]
  },
  {
   "cell_type": "code",
   "execution_count": 22,
   "metadata": {},
   "outputs": [
    {
     "data": {
      "text/plain": [
       "Age_Band_of_Driver\n",
       "0 - 5          49\n",
       "11 - 15      4630\n",
       "16 - 20     53874\n",
       "21 - 25     89113\n",
       "26 - 35    193328\n",
       "36 - 45    204413\n",
       "46 - 55    152556\n",
       "56 - 65     78042\n",
       "6 - 10        710\n",
       "66 - 75     13127\n",
       "75+          2871\n",
       "dtype: int64"
      ]
     },
     "execution_count": 22,
     "metadata": {},
     "output_type": "execute_result"
    }
   ],
   "source": [
    "group_by_age = new_Q1C.groupby('Age_Band_of_Driver')\n",
    "group_by_age.size()"
   ]
  },
  {
   "cell_type": "markdown",
   "metadata": {},
   "source": [
    "From above, we can see that most drivers are between the ages of 16-65. We will take this into account below.\n",
    "\n",
    "Now we will group the data by both the 'Occupational_Non' and 'Age_Band_of_Driver' columns, to see which age group contributes to the most road accidents, based on journey purpose.\n",
    "\n",
    "I will normalise this data to account for the fact that there is an uneven distribution of the ages of drivers, as seen above."
   ]
  },
  {
   "cell_type": "code",
   "execution_count": 23,
   "metadata": {},
   "outputs": [
    {
     "data": {
      "text/plain": [
       "<matplotlib.axes._subplots.AxesSubplot at 0x23657380b38>"
      ]
     },
     "execution_count": 23,
     "metadata": {},
     "output_type": "execute_result"
    },
    {
     "data": {
      "image/png": "[encoded data removed]",
      "text/plain": [
       "<matplotlib.figure.Figure at 0x23657385da0>"
      ]
     },
     "metadata": {},
     "output_type": "display_data"
    }
   ],
   "source": [
    "num_by_purp_age = new_Q1C.groupby(\n",
    "    ['Occupational_Non', 'Age_Band_of_Driver'])['Accident_Index'].count().unstack()\n",
    "num_by_purp_age.T.plot(kind='bar', figsize=(15,8))"
   ]
  },
  {
   "cell_type": "markdown",
   "metadata": {},
   "source": [
    "From above, we can see that the highest concentration of all accidents is between the ages of 16-65, as seen earlier in the notebook. \n",
    "\n",
    "It is interesting to see that there is not a huge difference in the proportion of recreational and occupational journey accidents for most age bands, however it is clear that drivers between the ages of 36-45, who's purpose of journey is occupational, contribute to the most road accidents overall.\n",
    "\n",
    "## Normalise\n",
    "\n",
    "Below we will check to see the percentage of occupational and non-occupational drivers involved in road accidents:"
   ]
  },
  {
   "cell_type": "code",
   "execution_count": 24,
   "metadata": {},
   "outputs": [
    {
     "data": {
      "text/plain": [
       "Occupational_Non\n",
       "non-occupational    333124\n",
       "occupational        459589\n",
       "dtype: int64"
      ]
     },
     "execution_count": 24,
     "metadata": {},
     "output_type": "execute_result"
    }
   ],
   "source": [
    "group_by_purpose.size() #print the total number of occupational and non-occupational drivers"
   ]
  },
  {
   "cell_type": "code",
   "execution_count": 25,
   "metadata": {},
   "outputs": [
    {
     "name": "stdout",
     "output_type": "stream",
     "text": [
      "% Occupational: 57.97672045242099\n",
      "% Non-Occupational: 42.023279547579016\n"
     ]
    }
   ],
   "source": [
    "print('% Occupational:', (459589/792713)*100) #getting the % of occupational drivers\n",
    "print('% Non-Occupational:',(333124/792713)*100) #getting the % of non-occupational drivers)"
   ]
  },
  {
   "cell_type": "markdown",
   "metadata": {},
   "source": [
    "As we can see from above, there are more occupational drivers involved in road accidents than non-occupational drivers. To get a more accurate idea of the proportion of each driver within our dataset, we will normalise the data to get a percentage value.\n",
    "\n",
    "When we normalise, we are getting the sum of the all columns for each row in the dataset."
   ]
  },
  {
   "cell_type": "code",
   "execution_count": 26,
   "metadata": {
    "collapsed": true
   },
   "outputs": [],
   "source": [
    "norm_num_by_purp_age = num_by_purp_age.copy() #create a copy of original dataset for normalisation"
   ]
  },
  {
   "cell_type": "code",
   "execution_count": 27,
   "metadata": {
    "collapsed": true
   },
   "outputs": [],
   "source": [
    "norm_num_by_purp_age = norm_num_by_purp_age[['0 - 5', '6 - 10', '11 - 15', '16 - 20', '21 - 25', '26 - 35', '36 - 45',\n",
    "       '46 - 55', '56 - 65', '66 - 75', '75+']] #re-arrange columns in order"
   ]
  },
  {
   "cell_type": "code",
   "execution_count": 28,
   "metadata": {
    "collapsed": true
   },
   "outputs": [],
   "source": [
    "cols = norm_num_by_purp_age.columns #define columns to normalise"
   ]
  },
  {
   "cell_type": "code",
   "execution_count": 29,
   "metadata": {
    "collapsed": true
   },
   "outputs": [],
   "source": [
    "sum_rows = norm_num_by_purp_age[cols].sum(axis=0) #calculate the sum of each row"
   ]
  },
  {
   "cell_type": "code",
   "execution_count": 30,
   "metadata": {
    "collapsed": true
   },
   "outputs": [],
   "source": [
    "norm_num_by_purp_age[cols] = norm_num_by_purp_age[cols].div(sum_rows, axis=1) #normalise all columns in the dataset by dividing them by the sum of each row"
   ]
  },
  {
   "cell_type": "code",
   "execution_count": 31,
   "metadata": {
    "collapsed": true
   },
   "outputs": [],
   "source": [
    "norm_num_by_purp_age[cols] = 100*norm_num_by_purp_age[cols] #multiply normalised data by 100 to get a percentage value."
   ]
  },
  {
   "cell_type": "code",
   "execution_count": 32,
   "metadata": {},
   "outputs": [
    {
     "data": {
      "text/plain": [
       "Text(0,0.5,'% Of Road Accidents')"
      ]
     },
     "execution_count": 32,
     "metadata": {},
     "output_type": "execute_result"
    },
    {
     "data": {
      "image/png": "[encoded data removed]",
      "text/plain": [
       "<matplotlib.figure.Figure at 0x23656fc0358>"
      ]
     },
     "metadata": {},
     "output_type": "display_data"
    }
   ],
   "source": [
    "norm_num_by_purp_age.T.plot(kind='bar', figsize=(10,8)).legend(bbox_to_anchor=(1,1)) #plot normalised graph\n",
    "plt.title('% of Road Accidents per Age group of Driver, by Journey Purpose',fontsize=20)\n",
    "plt.ylabel('% Of Road Accidents')"
   ]
  },
  {
   "cell_type": "markdown",
   "metadata": {},
   "source": [
    "We now see a much more interesting graph above. It is interesting to note how the trend in occupational and non-occupational journey purposes change once they are normalised.\n",
    "\n",
    "Unlike before, there is a more even balance between non-occupational and occupational drivers. We can see from above that occupational drivers between the ages of 26-75 are involved in more accidents. However, non-occupational drivers between the ages of 0-25, and 75+ are involved in more accidents than occupational drivers. It is important to note that this graph includes data for scooters and bikes, however it is still interesting to note that there are drivers under the age of 15 whom drive occupationally!"
   ]
  },
  {
   "cell_type": "markdown",
   "metadata": {},
   "source": [
    "## 4.\n",
    "## Saving Pickle Files & Data Dictionaries\n",
    "\n",
    "We will now save our grouped and normalised datasets into a pickle files, and save dictionaries to summarise their contents."
   ]
  },
  {
   "cell_type": "code",
   "execution_count": 25,
   "metadata": {},
   "outputs": [
    {
     "data": {
      "text/plain": [
       "(2, 2)"
      ]
     },
     "execution_count": 25,
     "metadata": {},
     "output_type": "execute_result"
    }
   ],
   "source": [
    "norm_num_by_purp_sex.to_pickle(\"../../data/analysis/300_analysis_Q1C_norm_num_by_purp_sex.pkl\")\n",
    "norm_num_by_purp_sex.shape"
   ]
  },
  {
   "cell_type": "code",
   "execution_count": 26,
   "metadata": {},
   "outputs": [
    {
     "data": {
      "text/html": [
       "<div>\n",
       "<style scoped>\n",
       "    .dataframe tbody tr th:only-of-type {\n",
       "        vertical-align: middle;\n",
       "    }\n",
       "\n",
       "    .dataframe tbody tr th {\n",
       "        vertical-align: top;\n",
       "    }\n",
       "\n",
       "    .dataframe thead th {\n",
       "        text-align: right;\n",
       "    }\n",
       "</style>\n",
       "<table border=\"1\" class=\"dataframe\">\n",
       "  <thead>\n",
       "    <tr style=\"text-align: right;\">\n",
       "      <th></th>\n",
       "      <th>count</th>\n",
       "      <th>mean</th>\n",
       "      <th>std</th>\n",
       "      <th>min</th>\n",
       "      <th>25%</th>\n",
       "      <th>50%</th>\n",
       "      <th>75%</th>\n",
       "      <th>max</th>\n",
       "      <th>Missing</th>\n",
       "      <th>%Missing</th>\n",
       "    </tr>\n",
       "    <tr>\n",
       "      <th>Sex_of_Driver</th>\n",
       "      <th></th>\n",
       "      <th></th>\n",
       "      <th></th>\n",
       "      <th></th>\n",
       "      <th></th>\n",
       "      <th></th>\n",
       "      <th></th>\n",
       "      <th></th>\n",
       "      <th></th>\n",
       "      <th></th>\n",
       "    </tr>\n",
       "  </thead>\n",
       "  <tbody>\n",
       "    <tr>\n",
       "      <th>female</th>\n",
       "      <td>2.0</td>\n",
       "      <td>26.761261</td>\n",
       "      <td>15.260951</td>\n",
       "      <td>15.970139</td>\n",
       "      <td>21.365700</td>\n",
       "      <td>26.761261</td>\n",
       "      <td>32.156822</td>\n",
       "      <td>37.552383</td>\n",
       "      <td>0</td>\n",
       "      <td>0.0</td>\n",
       "    </tr>\n",
       "    <tr>\n",
       "      <th>male</th>\n",
       "      <td>2.0</td>\n",
       "      <td>73.238739</td>\n",
       "      <td>15.260951</td>\n",
       "      <td>62.447617</td>\n",
       "      <td>67.843178</td>\n",
       "      <td>73.238739</td>\n",
       "      <td>78.634300</td>\n",
       "      <td>84.029861</td>\n",
       "      <td>0</td>\n",
       "      <td>0.0</td>\n",
       "    </tr>\n",
       "  </tbody>\n",
       "</table>\n",
       "</div>"
      ],
      "text/plain": [
       "               count       mean        std        min        25%        50%  \\\n",
       "Sex_of_Driver                                                                 \n",
       "female           2.0  26.761261  15.260951  15.970139  21.365700  26.761261   \n",
       "male             2.0  73.238739  15.260951  62.447617  67.843178  73.238739   \n",
       "\n",
       "                     75%        max  Missing  %Missing  \n",
       "Sex_of_Driver                                           \n",
       "female         32.156822  37.552383        0       0.0  \n",
       "male           78.634300  84.029861        0       0.0  "
      ]
     },
     "execution_count": 26,
     "metadata": {},
     "output_type": "execute_result"
    }
   ],
   "source": [
    "data_dictionary.save(\n",
    "    '../../data/analysis/300_analysis_Q1C_norm_num_by_purp_sex.pkl', \n",
    "    \"Updated Roadsafety dataset with Occupational_Relational column\").head()"
   ]
  },
  {
   "cell_type": "code",
   "execution_count": 27,
   "metadata": {},
   "outputs": [
    {
     "data": {
      "text/plain": [
       "(2, 11)"
      ]
     },
     "execution_count": 27,
     "metadata": {},
     "output_type": "execute_result"
    }
   ],
   "source": [
    "norm_num_by_purp_age.to_pickle(\"../../data/analysis/300_analysis_Q1C_norm_num_by_purp_age.pkl\")\n",
    "norm_num_by_purp_age.shape"
   ]
  },
  {
   "cell_type": "code",
   "execution_count": 28,
   "metadata": {},
   "outputs": [
    {
     "data": {
      "text/html": [
       "<div>\n",
       "<style scoped>\n",
       "    .dataframe tbody tr th:only-of-type {\n",
       "        vertical-align: middle;\n",
       "    }\n",
       "\n",
       "    .dataframe tbody tr th {\n",
       "        vertical-align: top;\n",
       "    }\n",
       "\n",
       "    .dataframe thead th {\n",
       "        text-align: right;\n",
       "    }\n",
       "</style>\n",
       "<table border=\"1\" class=\"dataframe\">\n",
       "  <thead>\n",
       "    <tr style=\"text-align: right;\">\n",
       "      <th></th>\n",
       "      <th>count</th>\n",
       "      <th>mean</th>\n",
       "      <th>std</th>\n",
       "      <th>min</th>\n",
       "      <th>25%</th>\n",
       "      <th>50%</th>\n",
       "      <th>75%</th>\n",
       "      <th>max</th>\n",
       "      <th>Missing</th>\n",
       "      <th>%Missing</th>\n",
       "    </tr>\n",
       "    <tr>\n",
       "      <th>Age_Band_of_Driver</th>\n",
       "      <th></th>\n",
       "      <th></th>\n",
       "      <th></th>\n",
       "      <th></th>\n",
       "      <th></th>\n",
       "      <th></th>\n",
       "      <th></th>\n",
       "      <th></th>\n",
       "      <th></th>\n",
       "      <th></th>\n",
       "    </tr>\n",
       "  </thead>\n",
       "  <tbody>\n",
       "    <tr>\n",
       "      <th>0 - 5</th>\n",
       "      <td>2.0</td>\n",
       "      <td>50.0</td>\n",
       "      <td>50.507627</td>\n",
       "      <td>14.285714</td>\n",
       "      <td>32.142857</td>\n",
       "      <td>50.0</td>\n",
       "      <td>67.857143</td>\n",
       "      <td>85.714286</td>\n",
       "      <td>0</td>\n",
       "      <td>0.0</td>\n",
       "    </tr>\n",
       "    <tr>\n",
       "      <th>6 - 10</th>\n",
       "      <td>2.0</td>\n",
       "      <td>50.0</td>\n",
       "      <td>60.552243</td>\n",
       "      <td>7.183099</td>\n",
       "      <td>28.591549</td>\n",
       "      <td>50.0</td>\n",
       "      <td>71.408451</td>\n",
       "      <td>92.816901</td>\n",
       "      <td>0</td>\n",
       "      <td>0.0</td>\n",
       "    </tr>\n",
       "    <tr>\n",
       "      <th>11 - 15</th>\n",
       "      <td>2.0</td>\n",
       "      <td>50.0</td>\n",
       "      <td>57.271068</td>\n",
       "      <td>9.503240</td>\n",
       "      <td>29.751620</td>\n",
       "      <td>50.0</td>\n",
       "      <td>70.248380</td>\n",
       "      <td>90.496760</td>\n",
       "      <td>0</td>\n",
       "      <td>0.0</td>\n",
       "    </tr>\n",
       "    <tr>\n",
       "      <th>16 - 20</th>\n",
       "      <td>2.0</td>\n",
       "      <td>50.0</td>\n",
       "      <td>19.057784</td>\n",
       "      <td>36.524112</td>\n",
       "      <td>43.262056</td>\n",
       "      <td>50.0</td>\n",
       "      <td>56.737944</td>\n",
       "      <td>63.475888</td>\n",
       "      <td>0</td>\n",
       "      <td>0.0</td>\n",
       "    </tr>\n",
       "    <tr>\n",
       "      <th>21 - 25</th>\n",
       "      <td>2.0</td>\n",
       "      <td>50.0</td>\n",
       "      <td>0.724461</td>\n",
       "      <td>49.487729</td>\n",
       "      <td>49.743865</td>\n",
       "      <td>50.0</td>\n",
       "      <td>50.256135</td>\n",
       "      <td>50.512271</td>\n",
       "      <td>0</td>\n",
       "      <td>0.0</td>\n",
       "    </tr>\n",
       "  </tbody>\n",
       "</table>\n",
       "</div>"
      ],
      "text/plain": [
       "                    count  mean        std        min        25%   50%  \\\n",
       "Age_Band_of_Driver                                                       \n",
       "0 - 5                 2.0  50.0  50.507627  14.285714  32.142857  50.0   \n",
       "6 - 10                2.0  50.0  60.552243   7.183099  28.591549  50.0   \n",
       "11 - 15               2.0  50.0  57.271068   9.503240  29.751620  50.0   \n",
       "16 - 20               2.0  50.0  19.057784  36.524112  43.262056  50.0   \n",
       "21 - 25               2.0  50.0   0.724461  49.487729  49.743865  50.0   \n",
       "\n",
       "                          75%        max  Missing  %Missing  \n",
       "Age_Band_of_Driver                                           \n",
       "0 - 5               67.857143  85.714286        0       0.0  \n",
       "6 - 10              71.408451  92.816901        0       0.0  \n",
       "11 - 15             70.248380  90.496760        0       0.0  \n",
       "16 - 20             56.737944  63.475888        0       0.0  \n",
       "21 - 25             50.256135  50.512271        0       0.0  "
      ]
     },
     "execution_count": 28,
     "metadata": {},
     "output_type": "execute_result"
    }
   ],
   "source": [
    "data_dictionary.save(\n",
    "    '../../data/analysis/300_analysis_Q1C_norm_num_by_purp_age.pkl', \n",
    "    \"Updated Roadsafety dataset with Occupational_Relational column\").head()"
   ]
  }
 ],
 "metadata": {
  "kernelspec": {
   "display_name": "Python 3",
   "language": "python",
   "name": "python3"
  },
  "language_info": {
   "codemirror_mode": {
    "name": "ipython",
    "version": 3
   },
   "file_extension": ".py",
   "mimetype": "text/x-python",
   "name": "python",
   "nbconvert_exporter": "python",
   "pygments_lexer": "ipython3",
   "version": "3.6.3"
  }
 },
 "nbformat": 4,
 "nbformat_minor": 2
}
