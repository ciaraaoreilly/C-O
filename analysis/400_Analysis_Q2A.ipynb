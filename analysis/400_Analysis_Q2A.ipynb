{
 "cells": [
  {
   "cell_type": "markdown",
   "metadata": {},
   "source": [
    "# 400_Analysis_Q2A\n",
    "\n",
    "# _Question Two: What Vehicles are involved in the most road accidents?_\n",
    "\n",
    "## _(A): Are newer vehicles safer than older vehicles?_\n",
    "\n",
    "\n",
    "## Purpose\n",
    "In this notebook we will explore what types of vehicles are involved in the most road accidents. In particular, we will analyse the age of vehicles and determine whether or not newer vehicles are safer than older vehicles. To do this, we will use our 'Age_of_Vehicle' and 'Year' columns to see whether more accidents occur in older vehicles. We will also look at the number of casualties, the severity of each accident for old vs new vehicles and if newer vehicles are better in wet weather conditions. Additionally, we will analyse the data to see how the introduction of modern technologies impacted the number of road accidents.\n",
    "\n",
    "## Notebook Contents:\n",
    "* __1:__ Loading our Datasets\n",
    "   \n",
    "* __2:__ The range of years that we will be using for this research question.\n",
    "\n",
    "* __3:__ Are older vehicles  in more accidents?\n",
    "\n",
    "* __4:__ Are there more casualties in older vehicles?\n",
    "     \n",
    "* __5:__ Are accidents more severe in older vehicles?\n",
    "\n",
    "* __6:__ Are newer vehicles safer in rainy weather conditions?\n",
    "\n",
    "* __7:__ How did the introduction of modern technologies influence road safety?\n",
    "    * __7.1:__ Airbags\n",
    "    * __7.2:__ AEB Brakes\n",
    "    \n",
    "* __8:__ Saving Data to a Pickle File\n",
    "\n",
    "* __9:__ Creating Data Dictionaries\n",
    "\n",
    "## Datasets\n",
    "\n",
    "__Input:__\n",
    "\n",
    "* 800_Q2A_final_prep_1.pkl  (Data needed for Q2A for years 1979-2004)\n",
    "* 800_Q2A_final_prep_2.pkl  (Continuation of data needed for Q2A for years 1979-2004)\n",
    "* 800_Q2A_final_prep_3.pkl  (Data needed for Q2A for years 2005-2016)\n",
    "\n",
    "\n",
    "__Output:__ \n",
    "* 400_Analysis_Q2A_All_Num_Accidents.pkl   (Number of accidents for ages of vehicles)\n",
    "* 400_Analysis_Q2A_All_less_than_or_equal_2004.pkl   (Number of accidents for ages of vehicles 1993-2004)\n",
    "* 400_Analysis_Q2A_All_greater_than_or_equal_2005.pkl   (Number of accidents for ages of vehicles 2005-2016) \n",
    "* 400_Analysis_Q2A_All_number_of_Casualties.pkl   (Average number of casualties for all vehicle ages)\n",
    "* 400_Analysis_Q2A_norm_All_Accident_Severity_groups.pkl   (Number of fatal, serious and slight accidents for all vehicle ages)\n",
    "* 400_Analysis_Q2A_norm_All_weather_conditions_groups.pkl   (Normalised number of accidents in the different recorded weather conditions for all vehicle ages)\n",
    "* 400_Analysis_Q2A_max_fatal.pkl   (Age of vehicle in the weather condition with the most fatal accidents)\n",
    "* 400_Analysis_Q2A_max_serious.pkl   (Age of the vehicle in the weather condition with the most serious accidents)\n",
    "* 400_Analysis_Q2A_max_slight.pkl   (Age of the vehicle in the weather condition with the most slight accidents)\n",
    "* 400_Analysis_Q2A_rain_analysis_all.pkl   (All the data related to rainy weather conditions)\n",
    "* 400_Analysis_Q2A_all_num_accidents_groups.pkl   (Number of accidents in each year)\n",
    "* 400_Analysis_Q2A_All_Accident_Severity_airbags.pkl   (Airbags severity analysis)\n",
    "* 400_Analysis_Q2A_sub_All_Accident_Severity_airbags.pkl   (Airbags severity analysis – years surrounding when airbags became compulsory)\n",
    "* 400_Analysis_Q2A_All_Accident_Severity_AEB.pkl   (AEB brakes analysis)\n",
    "* 400_Analysis_Q2A_sub_All_Accident_Severity_AEB.pkl   (AEB brakes severity analysis – years around when they were introduced)"
   ]
  },
  {
   "cell_type": "code",
   "execution_count": 1,
   "metadata": {
    "collapsed": true
   },
   "outputs": [],
   "source": [
    "import os\n",
    "import sys\n",
    "\n",
    "import pandas as pd\n",
    "import numpy as np\n",
    "import matplotlib.pylab as plt\n",
    "import seaborn as sns\n",
    "\n",
    "module_path = os.path.abspath(os.path.join('../../data/..'))\n",
    "if module_path not in sys.path:\n",
    "    sys.path.append(module_path)\n",
    "    \n",
    "from src.helpers import data_dictionary\n",
    "\n",
    "%matplotlib inline"
   ]
  },
  {
   "cell_type": "markdown",
   "metadata": {},
   "source": [
    "# 1. Loading the Datasets\n",
    "\n",
    "Since we have cleaned our initial dataset and saved only the columns which are relevant to this research question in separate pickle files, we will read in these cleaned datasets for the purpose of answering this research question."
   ]
  },
  {
   "cell_type": "code",
   "execution_count": 2,
   "metadata": {},
   "outputs": [
    {
     "data": {
      "text/plain": [
       "(2033305, 19)"
      ]
     },
     "execution_count": 2,
     "metadata": {},
     "output_type": "execute_result"
    }
   ],
   "source": [
    "Q2A_1 = pd.read_pickle('../../data/processed/800_Q2A_final_prep_1.pkl')\n",
    "Q2A_1.shape"
   ]
  },
  {
   "cell_type": "code",
   "execution_count": 3,
   "metadata": {},
   "outputs": [
    {
     "data": {
      "text/plain": [
       "(1242776, 19)"
      ]
     },
     "execution_count": 3,
     "metadata": {},
     "output_type": "execute_result"
    }
   ],
   "source": [
    "Q2A_2 = pd.read_pickle('../../data/processed/800_Q2A_final_prep_2.pkl')\n",
    "Q2A_2.shape"
   ]
  },
  {
   "cell_type": "code",
   "execution_count": 4,
   "metadata": {},
   "outputs": [
    {
     "data": {
      "text/plain": [
       "(2355070, 19)"
      ]
     },
     "execution_count": 4,
     "metadata": {},
     "output_type": "execute_result"
    }
   ],
   "source": [
    "Q2A_3 = pd.read_pickle('../../data/processed/800_Q2A_final_prep_3.pkl')\n",
    "Q2A_3.shape"
   ]
  },
  {
   "cell_type": "markdown",
   "metadata": {},
   "source": [
    "# 2. The range of years that we will be using for this research question\n",
    "Below you can see the first two rows of the first dataset and the last two rows of the third and final dataset. By looking at the 'Date' column you can see that the data ranges from 1993 - 2016."
   ]
  },
  {
   "cell_type": "code",
   "execution_count": 5,
   "metadata": {},
   "outputs": [
    {
     "data": {
      "text/html": [
       "<div>\n",
       "<style scoped>\n",
       "    .dataframe tbody tr th:only-of-type {\n",
       "        vertical-align: middle;\n",
       "    }\n",
       "\n",
       "    .dataframe tbody tr th {\n",
       "        vertical-align: top;\n",
       "    }\n",
       "\n",
       "    .dataframe thead th {\n",
       "        text-align: right;\n",
       "    }\n",
       "</style>\n",
       "<table border=\"1\" class=\"dataframe\">\n",
       "  <thead>\n",
       "    <tr style=\"text-align: right;\">\n",
       "      <th></th>\n",
       "      <th>Accident_Index</th>\n",
       "      <th>Accident_Severity</th>\n",
       "      <th>Number_of_Vehicles</th>\n",
       "      <th>Number_of_Casualties</th>\n",
       "      <th>Date</th>\n",
       "      <th>Day_of_Week</th>\n",
       "      <th>Time</th>\n",
       "      <th>Local_Authority_(District)</th>\n",
       "      <th>Light_Conditions</th>\n",
       "      <th>Weather_Conditions</th>\n",
       "      <th>Road_Surface_Conditions</th>\n",
       "      <th>Special_Conditions_at_Site</th>\n",
       "      <th>Vehicle_Type</th>\n",
       "      <th>Vehicle_Manoeuvre</th>\n",
       "      <th>Sex_of_Driver</th>\n",
       "      <th>Age_of_Vehicle</th>\n",
       "      <th>Date_day</th>\n",
       "      <th>Month</th>\n",
       "      <th>Year</th>\n",
       "    </tr>\n",
       "  </thead>\n",
       "  <tbody>\n",
       "    <tr>\n",
       "      <th>6000001</th>\n",
       "      <td>199301NI00616</td>\n",
       "      <td>slight</td>\n",
       "      <td>2</td>\n",
       "      <td>1</td>\n",
       "      <td>20/10/1993</td>\n",
       "      <td>thursday</td>\n",
       "      <td>11:25</td>\n",
       "      <td>3</td>\n",
       "      <td>daylight</td>\n",
       "      <td>fine no high winds</td>\n",
       "      <td>dry</td>\n",
       "      <td>none</td>\n",
       "      <td>car</td>\n",
       "      <td>turning left</td>\n",
       "      <td>male</td>\n",
       "      <td>6.0</td>\n",
       "      <td>20</td>\n",
       "      <td>10</td>\n",
       "      <td>1993</td>\n",
       "    </tr>\n",
       "    <tr>\n",
       "      <th>6000002</th>\n",
       "      <td>199301NI00617</td>\n",
       "      <td>slight</td>\n",
       "      <td>2</td>\n",
       "      <td>1</td>\n",
       "      <td>15/11/1993</td>\n",
       "      <td>tuesday</td>\n",
       "      <td>15:43</td>\n",
       "      <td>3</td>\n",
       "      <td>daylight</td>\n",
       "      <td>fine no high winds</td>\n",
       "      <td>dry</td>\n",
       "      <td>none</td>\n",
       "      <td>van / goods 3.5 tonnes mgw or under</td>\n",
       "      <td>turning right</td>\n",
       "      <td>male</td>\n",
       "      <td>4.0</td>\n",
       "      <td>15</td>\n",
       "      <td>11</td>\n",
       "      <td>1993</td>\n",
       "    </tr>\n",
       "  </tbody>\n",
       "</table>\n",
       "</div>"
      ],
      "text/plain": [
       "        Accident_Index Accident_Severity  Number_of_Vehicles  \\\n",
       "6000001  199301NI00616            slight                   2   \n",
       "6000002  199301NI00617            slight                   2   \n",
       "\n",
       "         Number_of_Casualties        Date Day_of_Week   Time  \\\n",
       "6000001                     1  20/10/1993    thursday  11:25   \n",
       "6000002                     1  15/11/1993     tuesday  15:43   \n",
       "\n",
       "         Local_Authority_(District) Light_Conditions  Weather_Conditions  \\\n",
       "6000001                           3         daylight  fine no high winds   \n",
       "6000002                           3         daylight  fine no high winds   \n",
       "\n",
       "        Road_Surface_Conditions Special_Conditions_at_Site  \\\n",
       "6000001                     dry                       none   \n",
       "6000002                     dry                       none   \n",
       "\n",
       "                                Vehicle_Type Vehicle_Manoeuvre Sex_of_Driver  \\\n",
       "6000001                                  car      turning left          male   \n",
       "6000002  van / goods 3.5 tonnes mgw or under     turning right          male   \n",
       "\n",
       "         Age_of_Vehicle  Date_day  Month  Year  \n",
       "6000001             6.0        20     10  1993  \n",
       "6000002             4.0        15     11  1993  "
      ]
     },
     "execution_count": 5,
     "metadata": {},
     "output_type": "execute_result"
    }
   ],
   "source": [
    "Q2A_1.head(2)"
   ]
  },
  {
   "cell_type": "code",
   "execution_count": 6,
   "metadata": {},
   "outputs": [
    {
     "data": {
      "text/html": [
       "<div>\n",
       "<style scoped>\n",
       "    .dataframe tbody tr th:only-of-type {\n",
       "        vertical-align: middle;\n",
       "    }\n",
       "\n",
       "    .dataframe tbody tr th {\n",
       "        vertical-align: top;\n",
       "    }\n",
       "\n",
       "    .dataframe thead th {\n",
       "        text-align: right;\n",
       "    }\n",
       "</style>\n",
       "<table border=\"1\" class=\"dataframe\">\n",
       "  <thead>\n",
       "    <tr style=\"text-align: right;\">\n",
       "      <th></th>\n",
       "      <th>Accident_Index</th>\n",
       "      <th>Accident_Severity</th>\n",
       "      <th>Number_of_Vehicles</th>\n",
       "      <th>Number_of_Casualties</th>\n",
       "      <th>Date</th>\n",
       "      <th>Day_of_Week</th>\n",
       "      <th>Time</th>\n",
       "      <th>Local_Authority_(District)</th>\n",
       "      <th>Light_Conditions</th>\n",
       "      <th>Weather_Conditions</th>\n",
       "      <th>Road_Surface_Conditions</th>\n",
       "      <th>Special_Conditions_at_Site</th>\n",
       "      <th>Vehicle_Type</th>\n",
       "      <th>Vehicle_Manoeuvre</th>\n",
       "      <th>Sex_of_Driver</th>\n",
       "      <th>Age_of_Vehicle</th>\n",
       "      <th>Date_day</th>\n",
       "      <th>Month</th>\n",
       "      <th>Year</th>\n",
       "    </tr>\n",
       "  </thead>\n",
       "  <tbody>\n",
       "    <tr>\n",
       "      <th>479546</th>\n",
       "      <td>2016984131316</td>\n",
       "      <td>slight</td>\n",
       "      <td>1</td>\n",
       "      <td>3</td>\n",
       "      <td>29/10/2016</td>\n",
       "      <td>sunday</td>\n",
       "      <td>20:00</td>\n",
       "      <td>917</td>\n",
       "      <td>darkness - lights lit</td>\n",
       "      <td>fine no high winds</td>\n",
       "      <td>dry</td>\n",
       "      <td>none</td>\n",
       "      <td>car</td>\n",
       "      <td>going ahead other</td>\n",
       "      <td>male</td>\n",
       "      <td>13.0</td>\n",
       "      <td>29</td>\n",
       "      <td>10</td>\n",
       "      <td>2016</td>\n",
       "    </tr>\n",
       "    <tr>\n",
       "      <th>479547</th>\n",
       "      <td>2016984133416</td>\n",
       "      <td>slight</td>\n",
       "      <td>1</td>\n",
       "      <td>2</td>\n",
       "      <td>25/12/2016</td>\n",
       "      <td>monday</td>\n",
       "      <td>12:30</td>\n",
       "      <td>917</td>\n",
       "      <td>daylight</td>\n",
       "      <td>raining + high winds</td>\n",
       "      <td>wet or damp</td>\n",
       "      <td>none</td>\n",
       "      <td>car</td>\n",
       "      <td>going ahead other</td>\n",
       "      <td>male</td>\n",
       "      <td>5.0</td>\n",
       "      <td>25</td>\n",
       "      <td>12</td>\n",
       "      <td>2016</td>\n",
       "    </tr>\n",
       "  </tbody>\n",
       "</table>\n",
       "</div>"
      ],
      "text/plain": [
       "       Accident_Index Accident_Severity  Number_of_Vehicles  \\\n",
       "479546  2016984131316            slight                   1   \n",
       "479547  2016984133416            slight                   1   \n",
       "\n",
       "        Number_of_Casualties        Date Day_of_Week   Time  \\\n",
       "479546                     3  29/10/2016      sunday  20:00   \n",
       "479547                     2  25/12/2016      monday  12:30   \n",
       "\n",
       "        Local_Authority_(District)       Light_Conditions  \\\n",
       "479546                         917  darkness - lights lit   \n",
       "479547                         917               daylight   \n",
       "\n",
       "          Weather_Conditions Road_Surface_Conditions  \\\n",
       "479546    fine no high winds                     dry   \n",
       "479547  raining + high winds             wet or damp   \n",
       "\n",
       "       Special_Conditions_at_Site Vehicle_Type  Vehicle_Manoeuvre  \\\n",
       "479546                       none          car  going ahead other   \n",
       "479547                       none          car  going ahead other   \n",
       "\n",
       "       Sex_of_Driver  Age_of_Vehicle  Date_day  Month  Year  \n",
       "479546          male            13.0        29     10  2016  \n",
       "479547          male             5.0        25     12  2016  "
      ]
     },
     "execution_count": 6,
     "metadata": {},
     "output_type": "execute_result"
    }
   ],
   "source": [
    "Q2A_3.tail(2)"
   ]
  },
  {
   "cell_type": "markdown",
   "metadata": {},
   "source": [
    "# 3. Are older vehicles  in more accidents?\n",
    "Here we will specifically look at which age of vehicle has the greatest number of road accidents. This will then allow us to evaluate whether or not older vehicles are involved in more road accidents. \n",
    "\n",
    "For this question we are considering an old vehicle to be a vehicle which is 10 years and older.\n",
    "\n",
    "## Groupby\n",
    "\n",
    "* Since we are focusing on the age of the vehicles involved in accidents, we will group accidents based on the age of the vehicle at the time of the accident. For this we will use the 'Age_of_Vehicle' column.\n",
    "* We will then count the number of accidents for each age of vehicle by using the 'Accident_Index' column. \n",
    "  Each row in the 'Accident_Index' column represents an accident. Therefore, by counting the number of rows in the 'Accident_Index' column for each age of vehicle we will get the number of accidents for each age."
   ]
  },
  {
   "cell_type": "markdown",
   "metadata": {},
   "source": [
    "#### Q2A_1"
   ]
  },
  {
   "cell_type": "code",
   "execution_count": 7,
   "metadata": {},
   "outputs": [
    {
     "data": {
      "text/html": [
       "<div>\n",
       "<style scoped>\n",
       "    .dataframe tbody tr th:only-of-type {\n",
       "        vertical-align: middle;\n",
       "    }\n",
       "\n",
       "    .dataframe tbody tr th {\n",
       "        vertical-align: top;\n",
       "    }\n",
       "\n",
       "    .dataframe thead th {\n",
       "        text-align: right;\n",
       "    }\n",
       "</style>\n",
       "<table border=\"1\" class=\"dataframe\">\n",
       "  <thead>\n",
       "    <tr style=\"text-align: right;\">\n",
       "      <th></th>\n",
       "      <th>Accident_Index</th>\n",
       "    </tr>\n",
       "    <tr>\n",
       "      <th>Age_of_Vehicle</th>\n",
       "      <th></th>\n",
       "    </tr>\n",
       "  </thead>\n",
       "  <tbody>\n",
       "    <tr>\n",
       "      <th>1.0</th>\n",
       "      <td>179016</td>\n",
       "    </tr>\n",
       "    <tr>\n",
       "      <th>2.0</th>\n",
       "      <td>161192</td>\n",
       "    </tr>\n",
       "    <tr>\n",
       "      <th>3.0</th>\n",
       "      <td>152775</td>\n",
       "    </tr>\n",
       "    <tr>\n",
       "      <th>4.0</th>\n",
       "      <td>156116</td>\n",
       "    </tr>\n",
       "    <tr>\n",
       "      <th>5.0</th>\n",
       "      <td>158951</td>\n",
       "    </tr>\n",
       "  </tbody>\n",
       "</table>\n",
       "</div>"
      ],
      "text/plain": [
       "                Accident_Index\n",
       "Age_of_Vehicle                \n",
       "1.0                     179016\n",
       "2.0                     161192\n",
       "3.0                     152775\n",
       "4.0                     156116\n",
       "5.0                     158951"
      ]
     },
     "execution_count": 7,
     "metadata": {},
     "output_type": "execute_result"
    }
   ],
   "source": [
    "Num_Accidents_groups_1 = Q2A_1.groupby('Age_of_Vehicle')[['Accident_Index']].count()\n",
    "Num_Accidents_groups_1.head()"
   ]
  },
  {
   "cell_type": "markdown",
   "metadata": {},
   "source": [
    "#### Q2A_2"
   ]
  },
  {
   "cell_type": "code",
   "execution_count": 8,
   "metadata": {},
   "outputs": [
    {
     "data": {
      "text/html": [
       "<div>\n",
       "<style scoped>\n",
       "    .dataframe tbody tr th:only-of-type {\n",
       "        vertical-align: middle;\n",
       "    }\n",
       "\n",
       "    .dataframe tbody tr th {\n",
       "        vertical-align: top;\n",
       "    }\n",
       "\n",
       "    .dataframe thead th {\n",
       "        text-align: right;\n",
       "    }\n",
       "</style>\n",
       "<table border=\"1\" class=\"dataframe\">\n",
       "  <thead>\n",
       "    <tr style=\"text-align: right;\">\n",
       "      <th></th>\n",
       "      <th>Accident_Index</th>\n",
       "    </tr>\n",
       "    <tr>\n",
       "      <th>Age_of_Vehicle</th>\n",
       "      <th></th>\n",
       "    </tr>\n",
       "  </thead>\n",
       "  <tbody>\n",
       "    <tr>\n",
       "      <th>1.0</th>\n",
       "      <td>125726</td>\n",
       "    </tr>\n",
       "    <tr>\n",
       "      <th>2.0</th>\n",
       "      <td>116719</td>\n",
       "    </tr>\n",
       "    <tr>\n",
       "      <th>3.0</th>\n",
       "      <td>107388</td>\n",
       "    </tr>\n",
       "    <tr>\n",
       "      <th>4.0</th>\n",
       "      <td>103720</td>\n",
       "    </tr>\n",
       "    <tr>\n",
       "      <th>5.0</th>\n",
       "      <td>97302</td>\n",
       "    </tr>\n",
       "  </tbody>\n",
       "</table>\n",
       "</div>"
      ],
      "text/plain": [
       "                Accident_Index\n",
       "Age_of_Vehicle                \n",
       "1.0                     125726\n",
       "2.0                     116719\n",
       "3.0                     107388\n",
       "4.0                     103720\n",
       "5.0                      97302"
      ]
     },
     "execution_count": 8,
     "metadata": {},
     "output_type": "execute_result"
    }
   ],
   "source": [
    "Num_Accidents_groups_2 = Q2A_2.groupby('Age_of_Vehicle')[['Accident_Index']].count()\n",
    "Num_Accidents_groups_2.head()"
   ]
  },
  {
   "cell_type": "markdown",
   "metadata": {},
   "source": [
    "#### Q2A_3"
   ]
  },
  {
   "cell_type": "code",
   "execution_count": 9,
   "metadata": {},
   "outputs": [
    {
     "data": {
      "text/html": [
       "<div>\n",
       "<style scoped>\n",
       "    .dataframe tbody tr th:only-of-type {\n",
       "        vertical-align: middle;\n",
       "    }\n",
       "\n",
       "    .dataframe tbody tr th {\n",
       "        vertical-align: top;\n",
       "    }\n",
       "\n",
       "    .dataframe thead th {\n",
       "        text-align: right;\n",
       "    }\n",
       "</style>\n",
       "<table border=\"1\" class=\"dataframe\">\n",
       "  <thead>\n",
       "    <tr style=\"text-align: right;\">\n",
       "      <th></th>\n",
       "      <th>Accident_Index</th>\n",
       "    </tr>\n",
       "    <tr>\n",
       "      <th>Age_of_Vehicle</th>\n",
       "      <th></th>\n",
       "    </tr>\n",
       "  </thead>\n",
       "  <tbody>\n",
       "    <tr>\n",
       "      <th>1.0</th>\n",
       "      <td>195664</td>\n",
       "    </tr>\n",
       "    <tr>\n",
       "      <th>2.0</th>\n",
       "      <td>183342</td>\n",
       "    </tr>\n",
       "    <tr>\n",
       "      <th>3.0</th>\n",
       "      <td>178770</td>\n",
       "    </tr>\n",
       "    <tr>\n",
       "      <th>4.0</th>\n",
       "      <td>181557</td>\n",
       "    </tr>\n",
       "    <tr>\n",
       "      <th>5.0</th>\n",
       "      <td>181284</td>\n",
       "    </tr>\n",
       "  </tbody>\n",
       "</table>\n",
       "</div>"
      ],
      "text/plain": [
       "                Accident_Index\n",
       "Age_of_Vehicle                \n",
       "1.0                     195664\n",
       "2.0                     183342\n",
       "3.0                     178770\n",
       "4.0                     181557\n",
       "5.0                     181284"
      ]
     },
     "execution_count": 9,
     "metadata": {},
     "output_type": "execute_result"
    }
   ],
   "source": [
    "Num_Accidents_groups_3 = Q2A_3.groupby('Age_of_Vehicle')[['Accident_Index']].count()\n",
    "Num_Accidents_groups_3.head()"
   ]
  },
  {
   "cell_type": "markdown",
   "metadata": {},
   "source": [
    "### Aggregate Results\n",
    "\n",
    "Below we will create a new dataframe containing the number of accidents which have occurred for each vehicle age for all of our 3 dataframes created above.\n",
    "\n",
    "We will also rename the 'Accident_Index' column to 'Accident_Count' as the column contains the number of accidents for each vehicle age (calculated in above cells).\n",
    "\n",
    "Finally, we will group the data by the 'Age_of_vehicle' column which is the age of the vehicle at the time of the accident. We will then sum the 'Accident_Count' for each group to give the total number of accidents for each vehicle age."
   ]
  },
  {
   "cell_type": "code",
   "execution_count": 10,
   "metadata": {},
   "outputs": [
    {
     "data": {
      "text/html": [
       "<div>\n",
       "<style scoped>\n",
       "    .dataframe tbody tr th:only-of-type {\n",
       "        vertical-align: middle;\n",
       "    }\n",
       "\n",
       "    .dataframe tbody tr th {\n",
       "        vertical-align: top;\n",
       "    }\n",
       "\n",
       "    .dataframe thead th {\n",
       "        text-align: right;\n",
       "    }\n",
       "</style>\n",
       "<table border=\"1\" class=\"dataframe\">\n",
       "  <thead>\n",
       "    <tr style=\"text-align: right;\">\n",
       "      <th></th>\n",
       "      <th>Accident_Count</th>\n",
       "    </tr>\n",
       "    <tr>\n",
       "      <th>Age_of_Vehicle</th>\n",
       "      <th></th>\n",
       "    </tr>\n",
       "  </thead>\n",
       "  <tbody>\n",
       "    <tr>\n",
       "      <th>1.0</th>\n",
       "      <td>179016</td>\n",
       "    </tr>\n",
       "    <tr>\n",
       "      <th>2.0</th>\n",
       "      <td>161192</td>\n",
       "    </tr>\n",
       "    <tr>\n",
       "      <th>3.0</th>\n",
       "      <td>152775</td>\n",
       "    </tr>\n",
       "    <tr>\n",
       "      <th>4.0</th>\n",
       "      <td>156116</td>\n",
       "    </tr>\n",
       "    <tr>\n",
       "      <th>5.0</th>\n",
       "      <td>158951</td>\n",
       "    </tr>\n",
       "  </tbody>\n",
       "</table>\n",
       "</div>"
      ],
      "text/plain": [
       "                Accident_Count\n",
       "Age_of_Vehicle                \n",
       "1.0                     179016\n",
       "2.0                     161192\n",
       "3.0                     152775\n",
       "4.0                     156116\n",
       "5.0                     158951"
      ]
     },
     "execution_count": 10,
     "metadata": {},
     "output_type": "execute_result"
    }
   ],
   "source": [
    "All_Num_Accidents = pd.concat([Num_Accidents_groups_1, Num_Accidents_groups_2, Num_Accidents_groups_3])\n",
    "All_Num_Accidents = All_Num_Accidents.rename(columns={'Accident_Index': 'Accident_Count'})\n",
    "All_Num_Accidents.head()"
   ]
  },
  {
   "cell_type": "code",
   "execution_count": 11,
   "metadata": {},
   "outputs": [
    {
     "data": {
      "text/html": [
       "<div>\n",
       "<style scoped>\n",
       "    .dataframe tbody tr th:only-of-type {\n",
       "        vertical-align: middle;\n",
       "    }\n",
       "\n",
       "    .dataframe tbody tr th {\n",
       "        vertical-align: top;\n",
       "    }\n",
       "\n",
       "    .dataframe thead th {\n",
       "        text-align: right;\n",
       "    }\n",
       "</style>\n",
       "<table border=\"1\" class=\"dataframe\">\n",
       "  <thead>\n",
       "    <tr style=\"text-align: right;\">\n",
       "      <th></th>\n",
       "      <th>Accident_Count</th>\n",
       "    </tr>\n",
       "    <tr>\n",
       "      <th>Age_of_Vehicle</th>\n",
       "      <th></th>\n",
       "    </tr>\n",
       "  </thead>\n",
       "  <tbody>\n",
       "    <tr>\n",
       "      <th>1.0</th>\n",
       "      <td>500406</td>\n",
       "    </tr>\n",
       "    <tr>\n",
       "      <th>2.0</th>\n",
       "      <td>461253</td>\n",
       "    </tr>\n",
       "    <tr>\n",
       "      <th>3.0</th>\n",
       "      <td>438933</td>\n",
       "    </tr>\n",
       "    <tr>\n",
       "      <th>4.0</th>\n",
       "      <td>441393</td>\n",
       "    </tr>\n",
       "    <tr>\n",
       "      <th>5.0</th>\n",
       "      <td>437537</td>\n",
       "    </tr>\n",
       "  </tbody>\n",
       "</table>\n",
       "</div>"
      ],
      "text/plain": [
       "                Accident_Count\n",
       "Age_of_Vehicle                \n",
       "1.0                     500406\n",
       "2.0                     461253\n",
       "3.0                     438933\n",
       "4.0                     441393\n",
       "5.0                     437537"
      ]
     },
     "execution_count": 11,
     "metadata": {},
     "output_type": "execute_result"
    }
   ],
   "source": [
    "All_Num_Accidents = All_Num_Accidents.groupby(level=0).sum()\n",
    "All_Num_Accidents.head()"
   ]
  },
  {
   "cell_type": "markdown",
   "metadata": {},
   "source": [
    "From the graph below you can see that newer vehicles are involved in more accidents with vehicles between 1 and 10 having the highest count. This is a result which we really didn't expect. We had originally anticipated that older vehicles would be involved in more accidents. \n",
    "\n",
    "In order to explore this further we will split the data into two dataframes. The first dataframe will contain data between the years 1993-2004 and the second will contain data between 2005-2016. \n",
    "\n",
    "This will allow us to see whether older vehicles in the older time period (1993-2004) has more accidents than in more recent years (2005-2016)."
   ]
  },
  {
   "cell_type": "code",
   "execution_count": 12,
   "metadata": {},
   "outputs": [
    {
     "data": {
      "text/plain": [
       "Text(0.5,0,'Age of Vehicle')"
      ]
     },
     "execution_count": 12,
     "metadata": {},
     "output_type": "execute_result"
    },
    {
     "data": {
      "image/png": "[encoded data removed]",
      "text/plain": [
       "<matplotlib.figure.Figure at 0x2051a2d6ac8>"
      ]
     },
     "metadata": {},
     "output_type": "display_data"
    }
   ],
   "source": [
    "All_Num_Accidents.plot(title='Number of Accidents for Age of Vehicle', figsize=(8,5), fontsize=12)\n",
    "plt.ylabel('Number of Accidents', fontsize=12)\n",
    "plt.xlabel('Age of Vehicle', fontsize=12)"
   ]
  },
  {
   "cell_type": "markdown",
   "metadata": {},
   "source": [
    "#### Q2A_1"
   ]
  },
  {
   "cell_type": "code",
   "execution_count": 13,
   "metadata": {
    "collapsed": true
   },
   "outputs": [],
   "source": [
    "lessThan_orEqual_2004_1 = Q2A_1[Q2A_1['Year'] <= 2004]\n",
    "greaterThan_orEqual_2005_1 = Q2A_1[Q2A_1['Year'] >= 2005]"
   ]
  },
  {
   "cell_type": "code",
   "execution_count": 14,
   "metadata": {
    "collapsed": true
   },
   "outputs": [],
   "source": [
    "lessThan_orEqual_2004_Num_Accidents_1 = lessThan_orEqual_2004_1.groupby('Age_of_Vehicle')[['Accident_Index']].count()\n",
    "greaterThan_orEqual_2005_Num_Accidents_1 = greaterThan_orEqual_2005_1.groupby('Age_of_Vehicle')[['Accident_Index']].count()"
   ]
  },
  {
   "cell_type": "markdown",
   "metadata": {},
   "source": [
    "#### Q2A_2"
   ]
  },
  {
   "cell_type": "code",
   "execution_count": 15,
   "metadata": {
    "collapsed": true
   },
   "outputs": [],
   "source": [
    "lessThan_orEqual_2004_2 = Q2A_2[Q2A_2['Year'] <= 2004]\n",
    "greaterThan_orEqual_2005_2= Q2A_2[Q2A_2['Year'] >= 2005]"
   ]
  },
  {
   "cell_type": "code",
   "execution_count": 16,
   "metadata": {
    "collapsed": true
   },
   "outputs": [],
   "source": [
    "lessThan_orEqual_2004_Num_Accidents_2 = lessThan_orEqual_2004_2.groupby('Age_of_Vehicle')[['Accident_Index']].count()\n",
    "greaterThan_orEqual_2005_Num_Accidents_2 = greaterThan_orEqual_2005_2.groupby('Age_of_Vehicle')[['Accident_Index']].count()"
   ]
  },
  {
   "cell_type": "markdown",
   "metadata": {},
   "source": [
    "#### Q2A_3"
   ]
  },
  {
   "cell_type": "code",
   "execution_count": 17,
   "metadata": {
    "collapsed": true
   },
   "outputs": [],
   "source": [
    "lessThan_orEqual_2004_3 = Q2A_3[Q2A_3['Year'] <= 2004]\n",
    "greaterThan_orEqual_2005_3 = Q2A_3[Q2A_3['Year'] >= 2005]"
   ]
  },
  {
   "cell_type": "code",
   "execution_count": 18,
   "metadata": {
    "collapsed": true
   },
   "outputs": [],
   "source": [
    "lessThan_orEqual_2004_Num_Accidents_3 = lessThan_orEqual_2004_3.groupby('Age_of_Vehicle')[['Accident_Index']].count()\n",
    "greaterThan_orEqual_2005_Num_Accidents_3 = greaterThan_orEqual_2005_3.groupby('Age_of_Vehicle')[['Accident_Index']].count()"
   ]
  },
  {
   "cell_type": "markdown",
   "metadata": {},
   "source": [
    "### Aggregate Results\n",
    "\n",
    "Below we will create two new dataframes containing the number of accidents which have occurred for each vehicle age between the years 1993-2004 and 2005-2016. \n",
    "\n",
    "We will do this by concatenating the 3 dataframes created above for the years 1993-2004 and the 3 dataframes created above for the years 2005-2016.\n",
    "\n",
    "For each dataframe we will also group by the data by the 'Age_of_Vehicle' column which is the age of the vehicle at the time of the accident. We will then sum the 'Accident_Count' for each of these groups which is the number of accidents. This will give us total number of accidents for each age of vehicle.\n",
    "\n",
    "Again we will rename the 'Accident_Index' column to 'Accident_Count' as the column contains the number of accidents for each vehicle age (calculated in above cells).\n",
    "\n",
    "Finally, we will group the data by the 'Age_of_Vehicle' column which is the age of the vehicle at the time of the accident. We will then sum the 'Accident_Count' for each group to give the total number of accidents for each vehicle age."
   ]
  },
  {
   "cell_type": "markdown",
   "metadata": {},
   "source": [
    "#### 1993-2004"
   ]
  },
  {
   "cell_type": "code",
   "execution_count": 19,
   "metadata": {},
   "outputs": [
    {
     "data": {
      "text/html": [
       "<div>\n",
       "<style scoped>\n",
       "    .dataframe tbody tr th:only-of-type {\n",
       "        vertical-align: middle;\n",
       "    }\n",
       "\n",
       "    .dataframe tbody tr th {\n",
       "        vertical-align: top;\n",
       "    }\n",
       "\n",
       "    .dataframe thead th {\n",
       "        text-align: right;\n",
       "    }\n",
       "</style>\n",
       "<table border=\"1\" class=\"dataframe\">\n",
       "  <thead>\n",
       "    <tr style=\"text-align: right;\">\n",
       "      <th></th>\n",
       "      <th>Accident_Count</th>\n",
       "    </tr>\n",
       "    <tr>\n",
       "      <th>Age_of_Vehicle</th>\n",
       "      <th></th>\n",
       "    </tr>\n",
       "  </thead>\n",
       "  <tbody>\n",
       "    <tr>\n",
       "      <th>1.0</th>\n",
       "      <td>304742</td>\n",
       "    </tr>\n",
       "    <tr>\n",
       "      <th>2.0</th>\n",
       "      <td>277911</td>\n",
       "    </tr>\n",
       "    <tr>\n",
       "      <th>3.0</th>\n",
       "      <td>260163</td>\n",
       "    </tr>\n",
       "    <tr>\n",
       "      <th>4.0</th>\n",
       "      <td>259836</td>\n",
       "    </tr>\n",
       "    <tr>\n",
       "      <th>5.0</th>\n",
       "      <td>256253</td>\n",
       "    </tr>\n",
       "  </tbody>\n",
       "</table>\n",
       "</div>"
      ],
      "text/plain": [
       "                Accident_Count\n",
       "Age_of_Vehicle                \n",
       "1.0                     304742\n",
       "2.0                     277911\n",
       "3.0                     260163\n",
       "4.0                     259836\n",
       "5.0                     256253"
      ]
     },
     "execution_count": 19,
     "metadata": {},
     "output_type": "execute_result"
    }
   ],
   "source": [
    "All_less_than_or_equal_2004 = pd.concat([lessThan_orEqual_2004_Num_Accidents_1, lessThan_orEqual_2004_Num_Accidents_2, lessThan_orEqual_2004_Num_Accidents_3], axis=0).groupby(level=0).sum()\n",
    "All_less_than_or_equal_2004 = All_less_than_or_equal_2004.rename(columns={'Accident_Index': 'Accident_Count'})\n",
    "All_less_than_or_equal_2004.head()"
   ]
  },
  {
   "cell_type": "markdown",
   "metadata": {},
   "source": [
    "#### 2005-2016"
   ]
  },
  {
   "cell_type": "code",
   "execution_count": 20,
   "metadata": {},
   "outputs": [
    {
     "data": {
      "text/html": [
       "<div>\n",
       "<style scoped>\n",
       "    .dataframe tbody tr th:only-of-type {\n",
       "        vertical-align: middle;\n",
       "    }\n",
       "\n",
       "    .dataframe tbody tr th {\n",
       "        vertical-align: top;\n",
       "    }\n",
       "\n",
       "    .dataframe thead th {\n",
       "        text-align: right;\n",
       "    }\n",
       "</style>\n",
       "<table border=\"1\" class=\"dataframe\">\n",
       "  <thead>\n",
       "    <tr style=\"text-align: right;\">\n",
       "      <th></th>\n",
       "      <th>Accident_Count</th>\n",
       "    </tr>\n",
       "    <tr>\n",
       "      <th>Age_of_Vehicle</th>\n",
       "      <th></th>\n",
       "    </tr>\n",
       "  </thead>\n",
       "  <tbody>\n",
       "    <tr>\n",
       "      <th>1.0</th>\n",
       "      <td>195664</td>\n",
       "    </tr>\n",
       "    <tr>\n",
       "      <th>2.0</th>\n",
       "      <td>183342</td>\n",
       "    </tr>\n",
       "    <tr>\n",
       "      <th>3.0</th>\n",
       "      <td>178770</td>\n",
       "    </tr>\n",
       "    <tr>\n",
       "      <th>4.0</th>\n",
       "      <td>181557</td>\n",
       "    </tr>\n",
       "    <tr>\n",
       "      <th>5.0</th>\n",
       "      <td>181284</td>\n",
       "    </tr>\n",
       "  </tbody>\n",
       "</table>\n",
       "</div>"
      ],
      "text/plain": [
       "                Accident_Count\n",
       "Age_of_Vehicle                \n",
       "1.0                     195664\n",
       "2.0                     183342\n",
       "3.0                     178770\n",
       "4.0                     181557\n",
       "5.0                     181284"
      ]
     },
     "execution_count": 20,
     "metadata": {},
     "output_type": "execute_result"
    }
   ],
   "source": [
    "All_greater_than_or_equal_2005 = pd.concat([greaterThan_orEqual_2005_Num_Accidents_1, greaterThan_orEqual_2005_Num_Accidents_2, greaterThan_orEqual_2005_Num_Accidents_3], axis=0).groupby(level=0).sum()\n",
    "All_greater_than_or_equal_2005 = All_greater_than_or_equal_2005.rename(columns={'Accident_Index': 'Accident_Count'})\n",
    "All_greater_than_or_equal_2005.head()"
   ]
  },
  {
   "cell_type": "markdown",
   "metadata": {},
   "source": [
    "### Comparing the two time periods (1993-2004 and 2005-2016)\n",
    "In the following two graphs you can see that in both time periods newer vehicles have more accidents than older vehicles. \n",
    "\n",
    "This is still not a result which we had expected and therefore is a topic for future analysis."
   ]
  },
  {
   "cell_type": "code",
   "execution_count": 21,
   "metadata": {
    "scrolled": true
   },
   "outputs": [
    {
     "data": {
      "text/plain": [
       "Text(0.5,0,'Age of Vehicle')"
      ]
     },
     "execution_count": 21,
     "metadata": {},
     "output_type": "execute_result"
    },
    {
     "data": {
      "image/png": "[encoded data removed]",
      "text/plain": [
       "<matplotlib.figure.Figure at 0x20519424e10>"
      ]
     },
     "metadata": {},
     "output_type": "display_data"
    }
   ],
   "source": [
    "All_less_than_or_equal_2004.plot(title='Number of Accidents for Age of Vehicle', figsize=(8,5), fontsize=12)\n",
    "plt.ylabel('Number of Accidents', fontsize=12)\n",
    "plt.xlabel('Age of Vehicle', fontsize=12)"
   ]
  },
  {
   "cell_type": "code",
   "execution_count": 22,
   "metadata": {},
   "outputs": [
    {
     "data": {
      "text/plain": [
       "Text(0.5,0,'Age of Vehicle')"
      ]
     },
     "execution_count": 22,
     "metadata": {},
     "output_type": "execute_result"
    },
    {
     "data": {
      "image/png": "[encoded data removed]",
      "text/plain": [
       "<matplotlib.figure.Figure at 0x20519584198>"
      ]
     },
     "metadata": {},
     "output_type": "display_data"
    }
   ],
   "source": [
    "All_greater_than_or_equal_2005.plot(title='Number of Accidents for Age of Vehicle', figsize=(8,5), fontsize=12)\n",
    "plt.ylabel('Number of Accidents', fontsize=12)\n",
    "plt.xlabel('Age of Vehicle', fontsize=12)"
   ]
  },
  {
   "cell_type": "markdown",
   "metadata": {},
   "source": [
    "# 4. Are there more casualties in older vehicles?\n",
    "\n",
    "Next, we will look at the number of casualties for each age of vehicle. From this we will be able to see whether or not accidents in older vehicles results in more casualties.\n",
    "\n",
    "For this question we are considering an old vehicle to be a vehicle which is 10 years and older.\n",
    "\n",
    "\n",
    "### Groupby\n",
    "* Since we are focusing on the age of the vehicles involved in accidents, we will group accidents based on the age of the vehicle at the time of the accident. For this we will use the 'Age_of_Vehicle' column which gives the age of the vehicle at the time of the accident.\n",
    "* We will then get the average number of casualties in an accident for each age of vehicle by using the 'Number_of_Casualties' column which gives the data on the number of casualties in each accident."
   ]
  },
  {
   "cell_type": "markdown",
   "metadata": {},
   "source": [
    "#### Q2A_1"
   ]
  },
  {
   "cell_type": "code",
   "execution_count": 23,
   "metadata": {},
   "outputs": [
    {
     "data": {
      "text/html": [
       "<div>\n",
       "<style scoped>\n",
       "    .dataframe tbody tr th:only-of-type {\n",
       "        vertical-align: middle;\n",
       "    }\n",
       "\n",
       "    .dataframe tbody tr th {\n",
       "        vertical-align: top;\n",
       "    }\n",
       "\n",
       "    .dataframe thead th {\n",
       "        text-align: right;\n",
       "    }\n",
       "</style>\n",
       "<table border=\"1\" class=\"dataframe\">\n",
       "  <thead>\n",
       "    <tr style=\"text-align: right;\">\n",
       "      <th></th>\n",
       "      <th>Number_of_Casualties</th>\n",
       "    </tr>\n",
       "    <tr>\n",
       "      <th>Age_of_Vehicle</th>\n",
       "      <th></th>\n",
       "    </tr>\n",
       "  </thead>\n",
       "  <tbody>\n",
       "    <tr>\n",
       "      <th>1.0</th>\n",
       "      <td>1.491906</td>\n",
       "    </tr>\n",
       "    <tr>\n",
       "      <th>2.0</th>\n",
       "      <td>1.494243</td>\n",
       "    </tr>\n",
       "    <tr>\n",
       "      <th>3.0</th>\n",
       "      <td>1.489674</td>\n",
       "    </tr>\n",
       "    <tr>\n",
       "      <th>4.0</th>\n",
       "      <td>1.487119</td>\n",
       "    </tr>\n",
       "    <tr>\n",
       "      <th>5.0</th>\n",
       "      <td>1.489786</td>\n",
       "    </tr>\n",
       "  </tbody>\n",
       "</table>\n",
       "</div>"
      ],
      "text/plain": [
       "                Number_of_Casualties\n",
       "Age_of_Vehicle                      \n",
       "1.0                         1.491906\n",
       "2.0                         1.494243\n",
       "3.0                         1.489674\n",
       "4.0                         1.487119\n",
       "5.0                         1.489786"
      ]
     },
     "execution_count": 23,
     "metadata": {},
     "output_type": "execute_result"
    }
   ],
   "source": [
    "Number_of_Casualties_groups_1 = Q2A_1.groupby('Age_of_Vehicle')[['Number_of_Casualties']].mean()\n",
    "Number_of_Casualties_groups_1.head()"
   ]
  },
  {
   "cell_type": "markdown",
   "metadata": {},
   "source": [
    "#### Q2A_2"
   ]
  },
  {
   "cell_type": "code",
   "execution_count": 24,
   "metadata": {},
   "outputs": [
    {
     "data": {
      "text/html": [
       "<div>\n",
       "<style scoped>\n",
       "    .dataframe tbody tr th:only-of-type {\n",
       "        vertical-align: middle;\n",
       "    }\n",
       "\n",
       "    .dataframe tbody tr th {\n",
       "        vertical-align: top;\n",
       "    }\n",
       "\n",
       "    .dataframe thead th {\n",
       "        text-align: right;\n",
       "    }\n",
       "</style>\n",
       "<table border=\"1\" class=\"dataframe\">\n",
       "  <thead>\n",
       "    <tr style=\"text-align: right;\">\n",
       "      <th></th>\n",
       "      <th>Number_of_Casualties</th>\n",
       "    </tr>\n",
       "    <tr>\n",
       "      <th>Age_of_Vehicle</th>\n",
       "      <th></th>\n",
       "    </tr>\n",
       "  </thead>\n",
       "  <tbody>\n",
       "    <tr>\n",
       "      <th>1.0</th>\n",
       "      <td>1.487306</td>\n",
       "    </tr>\n",
       "    <tr>\n",
       "      <th>2.0</th>\n",
       "      <td>1.489955</td>\n",
       "    </tr>\n",
       "    <tr>\n",
       "      <th>3.0</th>\n",
       "      <td>1.496424</td>\n",
       "    </tr>\n",
       "    <tr>\n",
       "      <th>4.0</th>\n",
       "      <td>1.499470</td>\n",
       "    </tr>\n",
       "    <tr>\n",
       "      <th>5.0</th>\n",
       "      <td>1.495262</td>\n",
       "    </tr>\n",
       "  </tbody>\n",
       "</table>\n",
       "</div>"
      ],
      "text/plain": [
       "                Number_of_Casualties\n",
       "Age_of_Vehicle                      \n",
       "1.0                         1.487306\n",
       "2.0                         1.489955\n",
       "3.0                         1.496424\n",
       "4.0                         1.499470\n",
       "5.0                         1.495262"
      ]
     },
     "execution_count": 24,
     "metadata": {},
     "output_type": "execute_result"
    }
   ],
   "source": [
    "Number_of_Casualties_groups_2 = Q2A_2.groupby('Age_of_Vehicle')[['Number_of_Casualties']].mean()\n",
    "Number_of_Casualties_groups_2.head()"
   ]
  },
  {
   "cell_type": "markdown",
   "metadata": {},
   "source": [
    "#### Q2A_3"
   ]
  },
  {
   "cell_type": "code",
   "execution_count": 25,
   "metadata": {},
   "outputs": [
    {
     "data": {
      "text/html": [
       "<div>\n",
       "<style scoped>\n",
       "    .dataframe tbody tr th:only-of-type {\n",
       "        vertical-align: middle;\n",
       "    }\n",
       "\n",
       "    .dataframe tbody tr th {\n",
       "        vertical-align: top;\n",
       "    }\n",
       "\n",
       "    .dataframe thead th {\n",
       "        text-align: right;\n",
       "    }\n",
       "</style>\n",
       "<table border=\"1\" class=\"dataframe\">\n",
       "  <thead>\n",
       "    <tr style=\"text-align: right;\">\n",
       "      <th></th>\n",
       "      <th>Number_of_Casualties</th>\n",
       "    </tr>\n",
       "    <tr>\n",
       "      <th>Age_of_Vehicle</th>\n",
       "      <th></th>\n",
       "    </tr>\n",
       "  </thead>\n",
       "  <tbody>\n",
       "    <tr>\n",
       "      <th>1.0</th>\n",
       "      <td>1.465998</td>\n",
       "    </tr>\n",
       "    <tr>\n",
       "      <th>2.0</th>\n",
       "      <td>1.469571</td>\n",
       "    </tr>\n",
       "    <tr>\n",
       "      <th>3.0</th>\n",
       "      <td>1.471791</td>\n",
       "    </tr>\n",
       "    <tr>\n",
       "      <th>4.0</th>\n",
       "      <td>1.470750</td>\n",
       "    </tr>\n",
       "    <tr>\n",
       "      <th>5.0</th>\n",
       "      <td>1.469948</td>\n",
       "    </tr>\n",
       "  </tbody>\n",
       "</table>\n",
       "</div>"
      ],
      "text/plain": [
       "                Number_of_Casualties\n",
       "Age_of_Vehicle                      \n",
       "1.0                         1.465998\n",
       "2.0                         1.469571\n",
       "3.0                         1.471791\n",
       "4.0                         1.470750\n",
       "5.0                         1.469948"
      ]
     },
     "execution_count": 25,
     "metadata": {},
     "output_type": "execute_result"
    }
   ],
   "source": [
    "Number_of_Casualties_groups_3 = Q2A_3.groupby('Age_of_Vehicle')[['Number_of_Casualties']].mean()\n",
    "Number_of_Casualties_groups_3.head()"
   ]
  },
  {
   "cell_type": "markdown",
   "metadata": {},
   "source": [
    "### Aggregate Results\n",
    "\n",
    "* Below we will create a new dataframe containing the average number of casualties for each vehicle age for all of our 3 dataframes created above.\n",
    "\n",
    "* Each of these three dataframes contains the average number of casualties for each age of vehicle.\n",
    "\n",
    "* After this we will group this new dataframe by the 'Age_of_Vehicle' which is the age of the vehicle at the time of the accident and sum the values in each group to give us the total 'Number_of_Casualties' for each vehicle age.\n",
    "\n",
    "* Finally, we will divde each group by 3 as there are three dataframes being contatenated. This will give us the \"mean of means\" to get the overall mean for each vehicle age."
   ]
  },
  {
   "cell_type": "code",
   "execution_count": 26,
   "metadata": {},
   "outputs": [
    {
     "data": {
      "text/html": [
       "<div>\n",
       "<style scoped>\n",
       "    .dataframe tbody tr th:only-of-type {\n",
       "        vertical-align: middle;\n",
       "    }\n",
       "\n",
       "    .dataframe tbody tr th {\n",
       "        vertical-align: top;\n",
       "    }\n",
       "\n",
       "    .dataframe thead th {\n",
       "        text-align: right;\n",
       "    }\n",
       "</style>\n",
       "<table border=\"1\" class=\"dataframe\">\n",
       "  <thead>\n",
       "    <tr style=\"text-align: right;\">\n",
       "      <th></th>\n",
       "      <th>Number_of_Casualties</th>\n",
       "    </tr>\n",
       "    <tr>\n",
       "      <th>Age_of_Vehicle</th>\n",
       "      <th></th>\n",
       "    </tr>\n",
       "  </thead>\n",
       "  <tbody>\n",
       "    <tr>\n",
       "      <th>1.0</th>\n",
       "      <td>1.491906</td>\n",
       "    </tr>\n",
       "    <tr>\n",
       "      <th>2.0</th>\n",
       "      <td>1.494243</td>\n",
       "    </tr>\n",
       "    <tr>\n",
       "      <th>3.0</th>\n",
       "      <td>1.489674</td>\n",
       "    </tr>\n",
       "    <tr>\n",
       "      <th>4.0</th>\n",
       "      <td>1.487119</td>\n",
       "    </tr>\n",
       "    <tr>\n",
       "      <th>5.0</th>\n",
       "      <td>1.489786</td>\n",
       "    </tr>\n",
       "  </tbody>\n",
       "</table>\n",
       "</div>"
      ],
      "text/plain": [
       "                Number_of_Casualties\n",
       "Age_of_Vehicle                      \n",
       "1.0                         1.491906\n",
       "2.0                         1.494243\n",
       "3.0                         1.489674\n",
       "4.0                         1.487119\n",
       "5.0                         1.489786"
      ]
     },
     "execution_count": 26,
     "metadata": {},
     "output_type": "execute_result"
    }
   ],
   "source": [
    "All_Number_of_Casualties = pd.concat([Number_of_Casualties_groups_1, Number_of_Casualties_groups_2, Number_of_Casualties_groups_3])\n",
    "All_Number_of_Casualties.head()"
   ]
  },
  {
   "cell_type": "code",
   "execution_count": 27,
   "metadata": {},
   "outputs": [
    {
     "data": {
      "text/html": [
       "<div>\n",
       "<style scoped>\n",
       "    .dataframe tbody tr th:only-of-type {\n",
       "        vertical-align: middle;\n",
       "    }\n",
       "\n",
       "    .dataframe tbody tr th {\n",
       "        vertical-align: top;\n",
       "    }\n",
       "\n",
       "    .dataframe thead th {\n",
       "        text-align: right;\n",
       "    }\n",
       "</style>\n",
       "<table border=\"1\" class=\"dataframe\">\n",
       "  <thead>\n",
       "    <tr style=\"text-align: right;\">\n",
       "      <th></th>\n",
       "      <th>Number_of_Casualties</th>\n",
       "    </tr>\n",
       "    <tr>\n",
       "      <th>Age_of_Vehicle</th>\n",
       "      <th></th>\n",
       "    </tr>\n",
       "  </thead>\n",
       "  <tbody>\n",
       "    <tr>\n",
       "      <th>1.0</th>\n",
       "      <td>1.481736</td>\n",
       "    </tr>\n",
       "    <tr>\n",
       "      <th>2.0</th>\n",
       "      <td>1.484589</td>\n",
       "    </tr>\n",
       "    <tr>\n",
       "      <th>3.0</th>\n",
       "      <td>1.485963</td>\n",
       "    </tr>\n",
       "    <tr>\n",
       "      <th>4.0</th>\n",
       "      <td>1.485780</td>\n",
       "    </tr>\n",
       "    <tr>\n",
       "      <th>5.0</th>\n",
       "      <td>1.484999</td>\n",
       "    </tr>\n",
       "  </tbody>\n",
       "</table>\n",
       "</div>"
      ],
      "text/plain": [
       "                Number_of_Casualties\n",
       "Age_of_Vehicle                      \n",
       "1.0                         1.481736\n",
       "2.0                         1.484589\n",
       "3.0                         1.485963\n",
       "4.0                         1.485780\n",
       "5.0                         1.484999"
      ]
     },
     "execution_count": 27,
     "metadata": {},
     "output_type": "execute_result"
    }
   ],
   "source": [
    "All_Number_of_Casualties = All_Number_of_Casualties.groupby(level=0).sum()/3\n",
    "All_Number_of_Casualties.head()"
   ]
  },
  {
   "cell_type": "markdown",
   "metadata": {},
   "source": [
    "In the following plot you can see that vehicles ranging between ~50-75 years old  and ~100 years old have the highest average number of casualties in a road accident. However, \"new\" vehicles (1-9 years) still have a much higher average than we had anticipated. This is a topic which could be looked into in future research."
   ]
  },
  {
   "cell_type": "code",
   "execution_count": 28,
   "metadata": {},
   "outputs": [
    {
     "data": {
      "text/plain": [
       "Text(0.5,0,'Age of Vehicle')"
      ]
     },
     "execution_count": 28,
     "metadata": {},
     "output_type": "execute_result"
    },
    {
     "data": {
      "image/png": "[encoded data removed]",
      "text/plain": [
       "<matplotlib.figure.Figure at 0x205196ba6d8>"
      ]
     },
     "metadata": {},
     "output_type": "display_data"
    }
   ],
   "source": [
    "All_Number_of_Casualties.plot(title='Average Number of Casualties for Age of Vehicle', figsize=(8,5), fontsize=12)\n",
    "plt.ylabel('Average Number of Casualties', fontsize=12)\n",
    "plt.xlabel('Age of Vehicle', fontsize=12)"
   ]
  },
  {
   "cell_type": "markdown",
   "metadata": {
    "collapsed": true
   },
   "source": [
    "# 5. Are accidents more severe in older vehicles?\n",
    "\n",
    "Next, we thought that it would be interesting to look at whether or not the age of the vehicle affects the severity of an accident. From this we will be able to determine if accidents are more severe or not in older vehicles.\n",
    "\n",
    "Again, for this question we are considering an old vehicle to be a vehicle which is 10 years and older.\n",
    "\n",
    "### Groupby\n",
    "Here, we will group the accidents by the 'Age_of_Vehicle' and 'Accident_Severity' columns. We will then count the total number of accidents for each group. \n",
    "\n",
    "_Note:_ The 'Age_of_Vehicle' is the age of the vehicle at the time of the accident and the 'Accident_Severity' tells us whether the severity of the accident is slight, serious or fatal."
   ]
  },
  {
   "cell_type": "markdown",
   "metadata": {},
   "source": [
    "#### Q2A_1"
   ]
  },
  {
   "cell_type": "code",
   "execution_count": 29,
   "metadata": {},
   "outputs": [
    {
     "data": {
      "text/html": [
       "<div>\n",
       "<style scoped>\n",
       "    .dataframe tbody tr th:only-of-type {\n",
       "        vertical-align: middle;\n",
       "    }\n",
       "\n",
       "    .dataframe tbody tr th {\n",
       "        vertical-align: top;\n",
       "    }\n",
       "\n",
       "    .dataframe thead th {\n",
       "        text-align: right;\n",
       "    }\n",
       "</style>\n",
       "<table border=\"1\" class=\"dataframe\">\n",
       "  <thead>\n",
       "    <tr style=\"text-align: right;\">\n",
       "      <th>Accident_Severity</th>\n",
       "      <th>fatal</th>\n",
       "      <th>serious</th>\n",
       "      <th>slight</th>\n",
       "    </tr>\n",
       "    <tr>\n",
       "      <th>Age_of_Vehicle</th>\n",
       "      <th></th>\n",
       "      <th></th>\n",
       "      <th></th>\n",
       "    </tr>\n",
       "  </thead>\n",
       "  <tbody>\n",
       "    <tr>\n",
       "      <th>1.0</th>\n",
       "      <td>2672.0</td>\n",
       "      <td>25858.0</td>\n",
       "      <td>150486.0</td>\n",
       "    </tr>\n",
       "    <tr>\n",
       "      <th>2.0</th>\n",
       "      <td>2316.0</td>\n",
       "      <td>22968.0</td>\n",
       "      <td>135908.0</td>\n",
       "    </tr>\n",
       "    <tr>\n",
       "      <th>3.0</th>\n",
       "      <td>2148.0</td>\n",
       "      <td>21873.0</td>\n",
       "      <td>128754.0</td>\n",
       "    </tr>\n",
       "    <tr>\n",
       "      <th>4.0</th>\n",
       "      <td>2345.0</td>\n",
       "      <td>22569.0</td>\n",
       "      <td>131202.0</td>\n",
       "    </tr>\n",
       "    <tr>\n",
       "      <th>5.0</th>\n",
       "      <td>2351.0</td>\n",
       "      <td>22959.0</td>\n",
       "      <td>133641.0</td>\n",
       "    </tr>\n",
       "  </tbody>\n",
       "</table>\n",
       "</div>"
      ],
      "text/plain": [
       "Accident_Severity   fatal  serious    slight\n",
       "Age_of_Vehicle                              \n",
       "1.0                2672.0  25858.0  150486.0\n",
       "2.0                2316.0  22968.0  135908.0\n",
       "3.0                2148.0  21873.0  128754.0\n",
       "4.0                2345.0  22569.0  131202.0\n",
       "5.0                2351.0  22959.0  133641.0"
      ]
     },
     "execution_count": 29,
     "metadata": {},
     "output_type": "execute_result"
    }
   ],
   "source": [
    "Accident_Severity_groups_1 = Q2A_1.groupby(['Age_of_Vehicle','Accident_Severity'])['Accident_Index'].count().unstack()\n",
    "Accident_Severity_groups_1.head()"
   ]
  },
  {
   "cell_type": "markdown",
   "metadata": {},
   "source": [
    "#### Q2A_2"
   ]
  },
  {
   "cell_type": "code",
   "execution_count": 30,
   "metadata": {},
   "outputs": [
    {
     "data": {
      "text/html": [
       "<div>\n",
       "<style scoped>\n",
       "    .dataframe tbody tr th:only-of-type {\n",
       "        vertical-align: middle;\n",
       "    }\n",
       "\n",
       "    .dataframe tbody tr th {\n",
       "        vertical-align: top;\n",
       "    }\n",
       "\n",
       "    .dataframe thead th {\n",
       "        text-align: right;\n",
       "    }\n",
       "</style>\n",
       "<table border=\"1\" class=\"dataframe\">\n",
       "  <thead>\n",
       "    <tr style=\"text-align: right;\">\n",
       "      <th>Accident_Severity</th>\n",
       "      <th>fatal</th>\n",
       "      <th>serious</th>\n",
       "      <th>slight</th>\n",
       "    </tr>\n",
       "    <tr>\n",
       "      <th>Age_of_Vehicle</th>\n",
       "      <th></th>\n",
       "      <th></th>\n",
       "      <th></th>\n",
       "    </tr>\n",
       "  </thead>\n",
       "  <tbody>\n",
       "    <tr>\n",
       "      <th>1.0</th>\n",
       "      <td>2092.0</td>\n",
       "      <td>16580.0</td>\n",
       "      <td>107054.0</td>\n",
       "    </tr>\n",
       "    <tr>\n",
       "      <th>2.0</th>\n",
       "      <td>1909.0</td>\n",
       "      <td>15021.0</td>\n",
       "      <td>99789.0</td>\n",
       "    </tr>\n",
       "    <tr>\n",
       "      <th>3.0</th>\n",
       "      <td>1635.0</td>\n",
       "      <td>13738.0</td>\n",
       "      <td>92015.0</td>\n",
       "    </tr>\n",
       "    <tr>\n",
       "      <th>4.0</th>\n",
       "      <td>1543.0</td>\n",
       "      <td>13026.0</td>\n",
       "      <td>89151.0</td>\n",
       "    </tr>\n",
       "    <tr>\n",
       "      <th>5.0</th>\n",
       "      <td>1415.0</td>\n",
       "      <td>12026.0</td>\n",
       "      <td>83861.0</td>\n",
       "    </tr>\n",
       "  </tbody>\n",
       "</table>\n",
       "</div>"
      ],
      "text/plain": [
       "Accident_Severity   fatal  serious    slight\n",
       "Age_of_Vehicle                              \n",
       "1.0                2092.0  16580.0  107054.0\n",
       "2.0                1909.0  15021.0   99789.0\n",
       "3.0                1635.0  13738.0   92015.0\n",
       "4.0                1543.0  13026.0   89151.0\n",
       "5.0                1415.0  12026.0   83861.0"
      ]
     },
     "execution_count": 30,
     "metadata": {},
     "output_type": "execute_result"
    }
   ],
   "source": [
    "Accident_Severity_groups_2 = Q2A_2.groupby(['Age_of_Vehicle','Accident_Severity'])['Accident_Index'].count().unstack()\n",
    "Accident_Severity_groups_2.head()"
   ]
  },
  {
   "cell_type": "markdown",
   "metadata": {},
   "source": [
    "#### Q2A_3"
   ]
  },
  {
   "cell_type": "code",
   "execution_count": 31,
   "metadata": {},
   "outputs": [
    {
     "data": {
      "text/html": [
       "<div>\n",
       "<style scoped>\n",
       "    .dataframe tbody tr th:only-of-type {\n",
       "        vertical-align: middle;\n",
       "    }\n",
       "\n",
       "    .dataframe tbody tr th {\n",
       "        vertical-align: top;\n",
       "    }\n",
       "\n",
       "    .dataframe thead th {\n",
       "        text-align: right;\n",
       "    }\n",
       "</style>\n",
       "<table border=\"1\" class=\"dataframe\">\n",
       "  <thead>\n",
       "    <tr style=\"text-align: right;\">\n",
       "      <th>Accident_Severity</th>\n",
       "      <th>fatal</th>\n",
       "      <th>serious</th>\n",
       "      <th>slight</th>\n",
       "    </tr>\n",
       "    <tr>\n",
       "      <th>Age_of_Vehicle</th>\n",
       "      <th></th>\n",
       "      <th></th>\n",
       "      <th></th>\n",
       "    </tr>\n",
       "  </thead>\n",
       "  <tbody>\n",
       "    <tr>\n",
       "      <th>1.0</th>\n",
       "      <td>2736.0</td>\n",
       "      <td>25243.0</td>\n",
       "      <td>167685.0</td>\n",
       "    </tr>\n",
       "    <tr>\n",
       "      <th>2.0</th>\n",
       "      <td>2666.0</td>\n",
       "      <td>23010.0</td>\n",
       "      <td>157666.0</td>\n",
       "    </tr>\n",
       "    <tr>\n",
       "      <th>3.0</th>\n",
       "      <td>2544.0</td>\n",
       "      <td>22481.0</td>\n",
       "      <td>153745.0</td>\n",
       "    </tr>\n",
       "    <tr>\n",
       "      <th>4.0</th>\n",
       "      <td>2516.0</td>\n",
       "      <td>22558.0</td>\n",
       "      <td>156483.0</td>\n",
       "    </tr>\n",
       "    <tr>\n",
       "      <th>5.0</th>\n",
       "      <td>2458.0</td>\n",
       "      <td>22095.0</td>\n",
       "      <td>156731.0</td>\n",
       "    </tr>\n",
       "  </tbody>\n",
       "</table>\n",
       "</div>"
      ],
      "text/plain": [
       "Accident_Severity   fatal  serious    slight\n",
       "Age_of_Vehicle                              \n",
       "1.0                2736.0  25243.0  167685.0\n",
       "2.0                2666.0  23010.0  157666.0\n",
       "3.0                2544.0  22481.0  153745.0\n",
       "4.0                2516.0  22558.0  156483.0\n",
       "5.0                2458.0  22095.0  156731.0"
      ]
     },
     "execution_count": 31,
     "metadata": {},
     "output_type": "execute_result"
    }
   ],
   "source": [
    "Accident_Severity_groups_3 = Q2A_3.groupby(['Age_of_Vehicle','Accident_Severity'])['Accident_Index'].count().unstack()\n",
    "Accident_Severity_groups_3.head()"
   ]
  },
  {
   "cell_type": "markdown",
   "metadata": {},
   "source": [
    "### Aggregate Results\n",
    "\n",
    "* Below we will create a new dataframe containing the number of fatal/serious/slight accidents which have occurred for each vehicle age for all of our 3 dataframes created above.\n",
    "* Each of these three dataframes contains the number of fatal, serious and slight accidents for each vehicle age.\n",
    "* After concatenating these dataframes we will group the new dataframe by the 'Age_of_Vehicle' which is the age of the vehicle at the time of the accident and sum the values in each of the three columns for each vehicle age. This will give us the total number of fatal, serious and slight accidents for vehicle age."
   ]
  },
  {
   "cell_type": "code",
   "execution_count": 32,
   "metadata": {},
   "outputs": [
    {
     "data": {
      "text/html": [
       "<div>\n",
       "<style scoped>\n",
       "    .dataframe tbody tr th:only-of-type {\n",
       "        vertical-align: middle;\n",
       "    }\n",
       "\n",
       "    .dataframe tbody tr th {\n",
       "        vertical-align: top;\n",
       "    }\n",
       "\n",
       "    .dataframe thead th {\n",
       "        text-align: right;\n",
       "    }\n",
       "</style>\n",
       "<table border=\"1\" class=\"dataframe\">\n",
       "  <thead>\n",
       "    <tr style=\"text-align: right;\">\n",
       "      <th>Accident_Severity</th>\n",
       "      <th>fatal</th>\n",
       "      <th>serious</th>\n",
       "      <th>slight</th>\n",
       "    </tr>\n",
       "    <tr>\n",
       "      <th>Age_of_Vehicle</th>\n",
       "      <th></th>\n",
       "      <th></th>\n",
       "      <th></th>\n",
       "    </tr>\n",
       "  </thead>\n",
       "  <tbody>\n",
       "    <tr>\n",
       "      <th>1.0</th>\n",
       "      <td>2672.0</td>\n",
       "      <td>25858.0</td>\n",
       "      <td>150486.0</td>\n",
       "    </tr>\n",
       "    <tr>\n",
       "      <th>2.0</th>\n",
       "      <td>2316.0</td>\n",
       "      <td>22968.0</td>\n",
       "      <td>135908.0</td>\n",
       "    </tr>\n",
       "    <tr>\n",
       "      <th>3.0</th>\n",
       "      <td>2148.0</td>\n",
       "      <td>21873.0</td>\n",
       "      <td>128754.0</td>\n",
       "    </tr>\n",
       "    <tr>\n",
       "      <th>4.0</th>\n",
       "      <td>2345.0</td>\n",
       "      <td>22569.0</td>\n",
       "      <td>131202.0</td>\n",
       "    </tr>\n",
       "    <tr>\n",
       "      <th>5.0</th>\n",
       "      <td>2351.0</td>\n",
       "      <td>22959.0</td>\n",
       "      <td>133641.0</td>\n",
       "    </tr>\n",
       "  </tbody>\n",
       "</table>\n",
       "</div>"
      ],
      "text/plain": [
       "Accident_Severity   fatal  serious    slight\n",
       "Age_of_Vehicle                              \n",
       "1.0                2672.0  25858.0  150486.0\n",
       "2.0                2316.0  22968.0  135908.0\n",
       "3.0                2148.0  21873.0  128754.0\n",
       "4.0                2345.0  22569.0  131202.0\n",
       "5.0                2351.0  22959.0  133641.0"
      ]
     },
     "execution_count": 32,
     "metadata": {},
     "output_type": "execute_result"
    }
   ],
   "source": [
    "All_Accident_Severity_groups = pd.concat([Accident_Severity_groups_1, Accident_Severity_groups_2, Accident_Severity_groups_3])\n",
    "All_Accident_Severity_groups.head()"
   ]
  },
  {
   "cell_type": "code",
   "execution_count": 33,
   "metadata": {},
   "outputs": [
    {
     "data": {
      "text/html": [
       "<div>\n",
       "<style scoped>\n",
       "    .dataframe tbody tr th:only-of-type {\n",
       "        vertical-align: middle;\n",
       "    }\n",
       "\n",
       "    .dataframe tbody tr th {\n",
       "        vertical-align: top;\n",
       "    }\n",
       "\n",
       "    .dataframe thead th {\n",
       "        text-align: right;\n",
       "    }\n",
       "</style>\n",
       "<table border=\"1\" class=\"dataframe\">\n",
       "  <thead>\n",
       "    <tr style=\"text-align: right;\">\n",
       "      <th>Accident_Severity</th>\n",
       "      <th>fatal</th>\n",
       "      <th>serious</th>\n",
       "      <th>slight</th>\n",
       "    </tr>\n",
       "    <tr>\n",
       "      <th>Age_of_Vehicle</th>\n",
       "      <th></th>\n",
       "      <th></th>\n",
       "      <th></th>\n",
       "    </tr>\n",
       "  </thead>\n",
       "  <tbody>\n",
       "    <tr>\n",
       "      <th>1.0</th>\n",
       "      <td>7500.0</td>\n",
       "      <td>67681.0</td>\n",
       "      <td>425225.0</td>\n",
       "    </tr>\n",
       "    <tr>\n",
       "      <th>2.0</th>\n",
       "      <td>6891.0</td>\n",
       "      <td>60999.0</td>\n",
       "      <td>393363.0</td>\n",
       "    </tr>\n",
       "    <tr>\n",
       "      <th>3.0</th>\n",
       "      <td>6327.0</td>\n",
       "      <td>58092.0</td>\n",
       "      <td>374514.0</td>\n",
       "    </tr>\n",
       "    <tr>\n",
       "      <th>4.0</th>\n",
       "      <td>6404.0</td>\n",
       "      <td>58153.0</td>\n",
       "      <td>376836.0</td>\n",
       "    </tr>\n",
       "    <tr>\n",
       "      <th>5.0</th>\n",
       "      <td>6224.0</td>\n",
       "      <td>57080.0</td>\n",
       "      <td>374233.0</td>\n",
       "    </tr>\n",
       "  </tbody>\n",
       "</table>\n",
       "</div>"
      ],
      "text/plain": [
       "Accident_Severity   fatal  serious    slight\n",
       "Age_of_Vehicle                              \n",
       "1.0                7500.0  67681.0  425225.0\n",
       "2.0                6891.0  60999.0  393363.0\n",
       "3.0                6327.0  58092.0  374514.0\n",
       "4.0                6404.0  58153.0  376836.0\n",
       "5.0                6224.0  57080.0  374233.0"
      ]
     },
     "execution_count": 33,
     "metadata": {},
     "output_type": "execute_result"
    }
   ],
   "source": [
    "All_Accident_Severity_groups = All_Accident_Severity_groups.groupby(level=0).sum()\n",
    "All_Accident_Severity_groups.head()"
   ]
  },
  {
   "cell_type": "markdown",
   "metadata": {},
   "source": [
    "In the plot below you can see that all of fatal/serious/slight accidents follow the same trend. However, you can see from the y=axis that the number of accidents for each of 'fatal', 'serious' and 'slight' differs greatly.\n",
    "\n",
    "The most accidents for each severity occurs between the ages of ~1-10 years old.\n",
    "\n",
    "We thought that this was a very surprising result as we expected older vehicles to hve a higher number of fatal and serious accidents than newer vehicles."
   ]
  },
  {
   "cell_type": "code",
   "execution_count": 34,
   "metadata": {},
   "outputs": [
    {
     "data": {
      "text/plain": [
       "Text(0.5,0,'Age of Vehicle')"
      ]
     },
     "execution_count": 34,
     "metadata": {},
     "output_type": "execute_result"
    },
    {
     "data": {
      "image/png": "[encoded data removed]",
      "text/plain": [
       "<matplotlib.figure.Figure at 0x2051964c7b8>"
      ]
     },
     "metadata": {},
     "output_type": "display_data"
    }
   ],
   "source": [
    "All_Accident_Severity_groups.plot(subplots=True, title='Number of Fatal, Serious and Slight accidents', figsize=(8,5), fontsize=12)\n",
    "plt.ylabel('Number of Accidents', fontsize=12)\n",
    "plt.xlabel('Age of Vehicle', fontsize=12)"
   ]
  },
  {
   "cell_type": "markdown",
   "metadata": {},
   "source": [
    "### Normalise\n",
    "Next, we will normalise the data by the accident severity. We will do this by dividing each column by the total sum of data in all columns for each row in the dataframe. We will multiply each value in each row by 100 give a % of fatal, serious and slight accidents for each vehicle age."
   ]
  },
  {
   "cell_type": "code",
   "execution_count": 35,
   "metadata": {
    "collapsed": true
   },
   "outputs": [],
   "source": [
    "norm_All_Accident_Severity_groups = All_Accident_Severity_groups.copy() # create a dataframe as copy of original"
   ]
  },
  {
   "cell_type": "code",
   "execution_count": 36,
   "metadata": {
    "collapsed": true
   },
   "outputs": [],
   "source": [
    "cols = norm_All_Accident_Severity_groups.columns # define columns to normalise"
   ]
  },
  {
   "cell_type": "code",
   "execution_count": 37,
   "metadata": {
    "collapsed": true
   },
   "outputs": [],
   "source": [
    "sum_rows = norm_All_Accident_Severity_groups[cols].sum(axis=1)  # calculate the sum of each row"
   ]
  },
  {
   "cell_type": "code",
   "execution_count": 38,
   "metadata": {
    "collapsed": true
   },
   "outputs": [],
   "source": [
    "# divide each column in each row by the total sum of the row\n",
    "norm_All_Accident_Severity_groups[cols] = norm_All_Accident_Severity_groups[cols].div(sum_rows, axis=0)"
   ]
  },
  {
   "cell_type": "code",
   "execution_count": 39,
   "metadata": {},
   "outputs": [
    {
     "data": {
      "text/html": [
       "<div>\n",
       "<style scoped>\n",
       "    .dataframe tbody tr th:only-of-type {\n",
       "        vertical-align: middle;\n",
       "    }\n",
       "\n",
       "    .dataframe tbody tr th {\n",
       "        vertical-align: top;\n",
       "    }\n",
       "\n",
       "    .dataframe thead th {\n",
       "        text-align: right;\n",
       "    }\n",
       "</style>\n",
       "<table border=\"1\" class=\"dataframe\">\n",
       "  <thead>\n",
       "    <tr style=\"text-align: right;\">\n",
       "      <th>Accident_Severity</th>\n",
       "      <th>fatal</th>\n",
       "      <th>serious</th>\n",
       "      <th>slight</th>\n",
       "    </tr>\n",
       "    <tr>\n",
       "      <th>Age_of_Vehicle</th>\n",
       "      <th></th>\n",
       "      <th></th>\n",
       "      <th></th>\n",
       "    </tr>\n",
       "  </thead>\n",
       "  <tbody>\n",
       "    <tr>\n",
       "      <th>1.0</th>\n",
       "      <td>1.498783</td>\n",
       "      <td>13.525218</td>\n",
       "      <td>84.975999</td>\n",
       "    </tr>\n",
       "    <tr>\n",
       "      <th>2.0</th>\n",
       "      <td>1.493974</td>\n",
       "      <td>13.224629</td>\n",
       "      <td>85.281397</td>\n",
       "    </tr>\n",
       "    <tr>\n",
       "      <th>3.0</th>\n",
       "      <td>1.441450</td>\n",
       "      <td>13.234822</td>\n",
       "      <td>85.323728</td>\n",
       "    </tr>\n",
       "    <tr>\n",
       "      <th>4.0</th>\n",
       "      <td>1.450861</td>\n",
       "      <td>13.174880</td>\n",
       "      <td>85.374258</td>\n",
       "    </tr>\n",
       "    <tr>\n",
       "      <th>5.0</th>\n",
       "      <td>1.422508</td>\n",
       "      <td>13.045754</td>\n",
       "      <td>85.531738</td>\n",
       "    </tr>\n",
       "  </tbody>\n",
       "</table>\n",
       "</div>"
      ],
      "text/plain": [
       "Accident_Severity     fatal    serious     slight\n",
       "Age_of_Vehicle                                   \n",
       "1.0                1.498783  13.525218  84.975999\n",
       "2.0                1.493974  13.224629  85.281397\n",
       "3.0                1.441450  13.234822  85.323728\n",
       "4.0                1.450861  13.174880  85.374258\n",
       "5.0                1.422508  13.045754  85.531738"
      ]
     },
     "execution_count": 39,
     "metadata": {},
     "output_type": "execute_result"
    }
   ],
   "source": [
    "# Multiply normalised data by 100 to get a %\n",
    "percentage_norm_All_Accident_Severity_groups = 100*norm_All_Accident_Severity_groups[cols]\n",
    "percentage_norm_All_Accident_Severity_groups.head()"
   ]
  },
  {
   "cell_type": "markdown",
   "metadata": {},
   "source": [
    "In the plot below you can see that after normalising the data new vehicles have a much lower number of fatal accidents with vehicles between ~60-80 years old having the most.\n",
    "\n",
    "Older vehicles also have much more serious accidents than new vehicles however both old and new have a high number of slight accidents."
   ]
  },
  {
   "cell_type": "code",
   "execution_count": 40,
   "metadata": {},
   "outputs": [
    {
     "data": {
      "text/plain": [
       "Text(0.5,0,'Age of Vehicle')"
      ]
     },
     "execution_count": 40,
     "metadata": {},
     "output_type": "execute_result"
    },
    {
     "data": {
      "image/png": "[encoded data removed]",
      "text/plain": [
       "<matplotlib.figure.Figure at 0x20519859128>"
      ]
     },
     "metadata": {},
     "output_type": "display_data"
    }
   ],
   "source": [
    "percentage_norm_All_Accident_Severity_groups.plot(subplots=True, title='Number of Fatal, Serious and Slight accidents', figsize=(8,5), fontsize=12)\n",
    "plt.ylabel(' % Number of Accidents', fontsize=12)\n",
    "plt.xlabel('Age of Vehicle', fontsize=12)"
   ]
  },
  {
   "cell_type": "markdown",
   "metadata": {},
   "source": [
    "# 6. Are newer vehicles safer in rainy weather conditions?\n",
    "After looking at the accident severity we were interested to see how rainy weather affects the severity of accidents in old and new vehicles. In order to anlayse this we will look at whether or not accidents in rainy weather conditions are less severe than in older vehicles.\n",
    "\n",
    "Again, for this question we are considering an old vehicle to be a vehicle which is 10 years and older.\n",
    "\n",
    "### Groupby\n",
    "Here, we will group the accidents by the 'Age_of_Vehicle' and 'Weather_Conditions' columns. We will then get the value_counts for the 'Accident_Severity' in each of the groups to get the number of slight, serious and fatal accidents for each. \n",
    "\n",
    "After grouping the data we will unstack each resulting series to get the data in the format that we want it to be in.\n",
    "\n",
    "_Note:_ The 'Age_of_Vehicle' column is the age of the vehicle at the time of the accident and the 'Weather_Conditions' tells us what the weather was like at the time of the accident. The 'Accident_Severity' tells us whether the severity of the accident is slight, serious or fatal."
   ]
  },
  {
   "cell_type": "code",
   "execution_count": 41,
   "metadata": {},
   "outputs": [
    {
     "data": {
      "text/plain": [
       "Index(['Accident_Index', 'Accident_Severity', 'Number_of_Vehicles',\n",
       "       'Number_of_Casualties', 'Date', 'Day_of_Week', 'Time',\n",
       "       'Local_Authority_(District)', 'Light_Conditions', 'Weather_Conditions',\n",
       "       'Road_Surface_Conditions', 'Special_Conditions_at_Site', 'Vehicle_Type',\n",
       "       'Vehicle_Manoeuvre', 'Sex_of_Driver', 'Age_of_Vehicle', 'Date_day',\n",
       "       'Month', 'Year'],\n",
       "      dtype='object')"
      ]
     },
     "execution_count": 41,
     "metadata": {},
     "output_type": "execute_result"
    }
   ],
   "source": [
    "Q2A_1.columns"
   ]
  },
  {
   "cell_type": "markdown",
   "metadata": {},
   "source": [
    "#### Q2A_1"
   ]
  },
  {
   "cell_type": "code",
   "execution_count": 42,
   "metadata": {},
   "outputs": [
    {
     "data": {
      "text/plain": [
       "Age_of_Vehicle  Weather_Conditions     Accident_Severity\n",
       "1.0             fine + high winds      slight                 2180\n",
       "                                       serious                 424\n",
       "                                       fatal                    60\n",
       "                fine no high winds     slight               117422\n",
       "                                       serious               20596\n",
       "                                       fatal                  2169\n",
       "                fog or mist            slight                 1459\n",
       "                                       serious                 362\n",
       "                                       fatal                    68\n",
       "                other                  slight                 2757\n",
       "                                       serious                 410\n",
       "                                       fatal                    43\n",
       "                raining + high winds   slight                 2199\n",
       "                                       serious                 388\n",
       "                                       fatal                    47\n",
       "                raining no high winds  slight                23182\n",
       "                                       serious                3457\n",
       "                                       fatal                   271\n",
       "                snowing + high winds   slight                  293\n",
       "                                       serious                  58\n",
       "Name: Accident_Severity, dtype: int64"
      ]
     },
     "execution_count": 42,
     "metadata": {},
     "output_type": "execute_result"
    }
   ],
   "source": [
    "weather_conditions_groups_1 = Q2A_1.groupby(['Age_of_Vehicle','Weather_Conditions'])['Accident_Severity'].value_counts()\n",
    "weather_conditions_groups_1.head(20)"
   ]
  },
  {
   "cell_type": "code",
   "execution_count": 43,
   "metadata": {},
   "outputs": [
    {
     "data": {
      "text/html": [
       "<div>\n",
       "<style scoped>\n",
       "    .dataframe tbody tr th:only-of-type {\n",
       "        vertical-align: middle;\n",
       "    }\n",
       "\n",
       "    .dataframe tbody tr th {\n",
       "        vertical-align: top;\n",
       "    }\n",
       "\n",
       "    .dataframe thead th {\n",
       "        text-align: right;\n",
       "    }\n",
       "</style>\n",
       "<table border=\"1\" class=\"dataframe\">\n",
       "  <thead>\n",
       "    <tr style=\"text-align: right;\">\n",
       "      <th></th>\n",
       "      <th>Accident_Severity</th>\n",
       "      <th>fatal</th>\n",
       "      <th>serious</th>\n",
       "      <th>slight</th>\n",
       "    </tr>\n",
       "    <tr>\n",
       "      <th>Age_of_Vehicle</th>\n",
       "      <th>Weather_Conditions</th>\n",
       "      <th></th>\n",
       "      <th></th>\n",
       "      <th></th>\n",
       "    </tr>\n",
       "  </thead>\n",
       "  <tbody>\n",
       "    <tr>\n",
       "      <th rowspan=\"5\" valign=\"top\">1.0</th>\n",
       "      <th>fine + high winds</th>\n",
       "      <td>60.0</td>\n",
       "      <td>424.0</td>\n",
       "      <td>2180.0</td>\n",
       "    </tr>\n",
       "    <tr>\n",
       "      <th>fine no high winds</th>\n",
       "      <td>2169.0</td>\n",
       "      <td>20596.0</td>\n",
       "      <td>117422.0</td>\n",
       "    </tr>\n",
       "    <tr>\n",
       "      <th>fog or mist</th>\n",
       "      <td>68.0</td>\n",
       "      <td>362.0</td>\n",
       "      <td>1459.0</td>\n",
       "    </tr>\n",
       "    <tr>\n",
       "      <th>other</th>\n",
       "      <td>43.0</td>\n",
       "      <td>410.0</td>\n",
       "      <td>2757.0</td>\n",
       "    </tr>\n",
       "    <tr>\n",
       "      <th>raining + high winds</th>\n",
       "      <td>47.0</td>\n",
       "      <td>388.0</td>\n",
       "      <td>2199.0</td>\n",
       "    </tr>\n",
       "  </tbody>\n",
       "</table>\n",
       "</div>"
      ],
      "text/plain": [
       "Accident_Severity                     fatal  serious    slight\n",
       "Age_of_Vehicle Weather_Conditions                             \n",
       "1.0            fine + high winds       60.0    424.0    2180.0\n",
       "               fine no high winds    2169.0  20596.0  117422.0\n",
       "               fog or mist             68.0    362.0    1459.0\n",
       "               other                   43.0    410.0    2757.0\n",
       "               raining + high winds    47.0    388.0    2199.0"
      ]
     },
     "execution_count": 43,
     "metadata": {},
     "output_type": "execute_result"
    }
   ],
   "source": [
    "new_weather_conditions_groups_1=weather_conditions_groups_1.unstack()\n",
    "new_weather_conditions_groups_1.head()"
   ]
  },
  {
   "cell_type": "markdown",
   "metadata": {},
   "source": [
    "#### Q2A_2"
   ]
  },
  {
   "cell_type": "code",
   "execution_count": 44,
   "metadata": {},
   "outputs": [
    {
     "data": {
      "text/plain": [
       "Age_of_Vehicle  Weather_Conditions  Accident_Severity\n",
       "1.0             fine + high winds   slight                1266\n",
       "                                    serious                199\n",
       "                                    fatal                   31\n",
       "                fine no high winds  slight               85251\n",
       "                                    serious              13710\n",
       "Name: Accident_Severity, dtype: int64"
      ]
     },
     "execution_count": 44,
     "metadata": {},
     "output_type": "execute_result"
    }
   ],
   "source": [
    "weather_conditions_groups_2 = Q2A_2.groupby(['Age_of_Vehicle','Weather_Conditions'])['Accident_Severity'].value_counts()\n",
    "weather_conditions_groups_2.head()"
   ]
  },
  {
   "cell_type": "code",
   "execution_count": 45,
   "metadata": {},
   "outputs": [
    {
     "data": {
      "text/html": [
       "<div>\n",
       "<style scoped>\n",
       "    .dataframe tbody tr th:only-of-type {\n",
       "        vertical-align: middle;\n",
       "    }\n",
       "\n",
       "    .dataframe tbody tr th {\n",
       "        vertical-align: top;\n",
       "    }\n",
       "\n",
       "    .dataframe thead th {\n",
       "        text-align: right;\n",
       "    }\n",
       "</style>\n",
       "<table border=\"1\" class=\"dataframe\">\n",
       "  <thead>\n",
       "    <tr style=\"text-align: right;\">\n",
       "      <th></th>\n",
       "      <th>Accident_Severity</th>\n",
       "      <th>fatal</th>\n",
       "      <th>serious</th>\n",
       "      <th>slight</th>\n",
       "    </tr>\n",
       "    <tr>\n",
       "      <th>Age_of_Vehicle</th>\n",
       "      <th>Weather_Conditions</th>\n",
       "      <th></th>\n",
       "      <th></th>\n",
       "      <th></th>\n",
       "    </tr>\n",
       "  </thead>\n",
       "  <tbody>\n",
       "    <tr>\n",
       "      <th rowspan=\"5\" valign=\"top\">1.0</th>\n",
       "      <th>fine + high winds</th>\n",
       "      <td>31.0</td>\n",
       "      <td>199.0</td>\n",
       "      <td>1266.0</td>\n",
       "    </tr>\n",
       "    <tr>\n",
       "      <th>fine no high winds</th>\n",
       "      <td>1752.0</td>\n",
       "      <td>13710.0</td>\n",
       "      <td>85251.0</td>\n",
       "    </tr>\n",
       "    <tr>\n",
       "      <th>fog or mist</th>\n",
       "      <td>29.0</td>\n",
       "      <td>139.0</td>\n",
       "      <td>767.0</td>\n",
       "    </tr>\n",
       "    <tr>\n",
       "      <th>other</th>\n",
       "      <td>25.0</td>\n",
       "      <td>259.0</td>\n",
       "      <td>1847.0</td>\n",
       "    </tr>\n",
       "    <tr>\n",
       "      <th>raining + high winds</th>\n",
       "      <td>37.0</td>\n",
       "      <td>165.0</td>\n",
       "      <td>1293.0</td>\n",
       "    </tr>\n",
       "  </tbody>\n",
       "</table>\n",
       "</div>"
      ],
      "text/plain": [
       "Accident_Severity                     fatal  serious   slight\n",
       "Age_of_Vehicle Weather_Conditions                            \n",
       "1.0            fine + high winds       31.0    199.0   1266.0\n",
       "               fine no high winds    1752.0  13710.0  85251.0\n",
       "               fog or mist             29.0    139.0    767.0\n",
       "               other                   25.0    259.0   1847.0\n",
       "               raining + high winds    37.0    165.0   1293.0"
      ]
     },
     "execution_count": 45,
     "metadata": {},
     "output_type": "execute_result"
    }
   ],
   "source": [
    "new_weather_conditions_groups_2=weather_conditions_groups_2.unstack()\n",
    "new_weather_conditions_groups_2.head()"
   ]
  },
  {
   "cell_type": "markdown",
   "metadata": {},
   "source": [
    "#### Q2A_3"
   ]
  },
  {
   "cell_type": "code",
   "execution_count": 46,
   "metadata": {},
   "outputs": [
    {
     "data": {
      "text/plain": [
       "Age_of_Vehicle  Weather_Conditions  Accident_Severity\n",
       "1.0             fine + high winds   slight                 2140\n",
       "                                    serious                 344\n",
       "                                    fatal                    49\n",
       "                fine no high winds  slight               137855\n",
       "                                    serious               21241\n",
       "Name: Accident_Severity, dtype: int64"
      ]
     },
     "execution_count": 46,
     "metadata": {},
     "output_type": "execute_result"
    }
   ],
   "source": [
    "weather_conditions_groups_3 = Q2A_3.groupby(['Age_of_Vehicle','Weather_Conditions'])['Accident_Severity'].value_counts()\n",
    "weather_conditions_groups_3.head()"
   ]
  },
  {
   "cell_type": "code",
   "execution_count": 47,
   "metadata": {},
   "outputs": [
    {
     "data": {
      "text/html": [
       "<div>\n",
       "<style scoped>\n",
       "    .dataframe tbody tr th:only-of-type {\n",
       "        vertical-align: middle;\n",
       "    }\n",
       "\n",
       "    .dataframe tbody tr th {\n",
       "        vertical-align: top;\n",
       "    }\n",
       "\n",
       "    .dataframe thead th {\n",
       "        text-align: right;\n",
       "    }\n",
       "</style>\n",
       "<table border=\"1\" class=\"dataframe\">\n",
       "  <thead>\n",
       "    <tr style=\"text-align: right;\">\n",
       "      <th></th>\n",
       "      <th>Accident_Severity</th>\n",
       "      <th>fatal</th>\n",
       "      <th>serious</th>\n",
       "      <th>slight</th>\n",
       "    </tr>\n",
       "    <tr>\n",
       "      <th>Age_of_Vehicle</th>\n",
       "      <th>Weather_Conditions</th>\n",
       "      <th></th>\n",
       "      <th></th>\n",
       "      <th></th>\n",
       "    </tr>\n",
       "  </thead>\n",
       "  <tbody>\n",
       "    <tr>\n",
       "      <th rowspan=\"5\" valign=\"top\">1.0</th>\n",
       "      <th>fine + high winds</th>\n",
       "      <td>49.0</td>\n",
       "      <td>344.0</td>\n",
       "      <td>2140.0</td>\n",
       "    </tr>\n",
       "    <tr>\n",
       "      <th>fine no high winds</th>\n",
       "      <td>2330.0</td>\n",
       "      <td>21241.0</td>\n",
       "      <td>137855.0</td>\n",
       "    </tr>\n",
       "    <tr>\n",
       "      <th>fog or mist</th>\n",
       "      <td>32.0</td>\n",
       "      <td>171.0</td>\n",
       "      <td>943.0</td>\n",
       "    </tr>\n",
       "    <tr>\n",
       "      <th>other</th>\n",
       "      <td>44.0</td>\n",
       "      <td>441.0</td>\n",
       "      <td>3455.0</td>\n",
       "    </tr>\n",
       "    <tr>\n",
       "      <th>raining + high winds</th>\n",
       "      <td>39.0</td>\n",
       "      <td>326.0</td>\n",
       "      <td>2301.0</td>\n",
       "    </tr>\n",
       "  </tbody>\n",
       "</table>\n",
       "</div>"
      ],
      "text/plain": [
       "Accident_Severity                     fatal  serious    slight\n",
       "Age_of_Vehicle Weather_Conditions                             \n",
       "1.0            fine + high winds       49.0    344.0    2140.0\n",
       "               fine no high winds    2330.0  21241.0  137855.0\n",
       "               fog or mist             32.0    171.0     943.0\n",
       "               other                   44.0    441.0    3455.0\n",
       "               raining + high winds    39.0    326.0    2301.0"
      ]
     },
     "execution_count": 47,
     "metadata": {},
     "output_type": "execute_result"
    }
   ],
   "source": [
    "new_weather_conditions_groups_3=weather_conditions_groups_3.unstack()\n",
    "new_weather_conditions_groups_3.head()"
   ]
  },
  {
   "cell_type": "markdown",
   "metadata": {},
   "source": [
    "### Aggregate Results\n",
    "\n",
    "* Below we will create a new dataframe containing the number of fatal/serious/slight accidents which have occurred for each vehicle age in each weather condition for all of our 3 datasets created above.\n",
    "* Each of these three dataframes contains the numbre of fatal, serious and slight accidents for each vehicle age in the different weather conditions.\n",
    "* After concatenating these dataframes we will group the new dataframe by the columns and sum the values in each of the three columns for each row in the dataframe. This will give us the total number of fatal, serious and slight accidents for vehicle age in each of the weather conditions."
   ]
  },
  {
   "cell_type": "code",
   "execution_count": 48,
   "metadata": {},
   "outputs": [
    {
     "data": {
      "text/html": [
       "<div>\n",
       "<style scoped>\n",
       "    .dataframe tbody tr th:only-of-type {\n",
       "        vertical-align: middle;\n",
       "    }\n",
       "\n",
       "    .dataframe tbody tr th {\n",
       "        vertical-align: top;\n",
       "    }\n",
       "\n",
       "    .dataframe thead th {\n",
       "        text-align: right;\n",
       "    }\n",
       "</style>\n",
       "<table border=\"1\" class=\"dataframe\">\n",
       "  <thead>\n",
       "    <tr style=\"text-align: right;\">\n",
       "      <th></th>\n",
       "      <th>Accident_Severity</th>\n",
       "      <th>fatal</th>\n",
       "      <th>serious</th>\n",
       "      <th>slight</th>\n",
       "      <th>fatal</th>\n",
       "      <th>serious</th>\n",
       "      <th>slight</th>\n",
       "      <th>fatal</th>\n",
       "      <th>serious</th>\n",
       "      <th>slight</th>\n",
       "    </tr>\n",
       "    <tr>\n",
       "      <th>Age_of_Vehicle</th>\n",
       "      <th>Weather_Conditions</th>\n",
       "      <th></th>\n",
       "      <th></th>\n",
       "      <th></th>\n",
       "      <th></th>\n",
       "      <th></th>\n",
       "      <th></th>\n",
       "      <th></th>\n",
       "      <th></th>\n",
       "      <th></th>\n",
       "    </tr>\n",
       "  </thead>\n",
       "  <tbody>\n",
       "    <tr>\n",
       "      <th rowspan=\"5\" valign=\"top\">1.0</th>\n",
       "      <th>fine + high winds</th>\n",
       "      <td>60.0</td>\n",
       "      <td>424.0</td>\n",
       "      <td>2180.0</td>\n",
       "      <td>31.0</td>\n",
       "      <td>199.0</td>\n",
       "      <td>1266.0</td>\n",
       "      <td>49.0</td>\n",
       "      <td>344.0</td>\n",
       "      <td>2140.0</td>\n",
       "    </tr>\n",
       "    <tr>\n",
       "      <th>fine no high winds</th>\n",
       "      <td>2169.0</td>\n",
       "      <td>20596.0</td>\n",
       "      <td>117422.0</td>\n",
       "      <td>1752.0</td>\n",
       "      <td>13710.0</td>\n",
       "      <td>85251.0</td>\n",
       "      <td>2330.0</td>\n",
       "      <td>21241.0</td>\n",
       "      <td>137855.0</td>\n",
       "    </tr>\n",
       "    <tr>\n",
       "      <th>fog or mist</th>\n",
       "      <td>68.0</td>\n",
       "      <td>362.0</td>\n",
       "      <td>1459.0</td>\n",
       "      <td>29.0</td>\n",
       "      <td>139.0</td>\n",
       "      <td>767.0</td>\n",
       "      <td>32.0</td>\n",
       "      <td>171.0</td>\n",
       "      <td>943.0</td>\n",
       "    </tr>\n",
       "    <tr>\n",
       "      <th>other</th>\n",
       "      <td>43.0</td>\n",
       "      <td>410.0</td>\n",
       "      <td>2757.0</td>\n",
       "      <td>25.0</td>\n",
       "      <td>259.0</td>\n",
       "      <td>1847.0</td>\n",
       "      <td>44.0</td>\n",
       "      <td>441.0</td>\n",
       "      <td>3455.0</td>\n",
       "    </tr>\n",
       "    <tr>\n",
       "      <th>raining + high winds</th>\n",
       "      <td>47.0</td>\n",
       "      <td>388.0</td>\n",
       "      <td>2199.0</td>\n",
       "      <td>37.0</td>\n",
       "      <td>165.0</td>\n",
       "      <td>1293.0</td>\n",
       "      <td>39.0</td>\n",
       "      <td>326.0</td>\n",
       "      <td>2301.0</td>\n",
       "    </tr>\n",
       "  </tbody>\n",
       "</table>\n",
       "</div>"
      ],
      "text/plain": [
       "Accident_Severity                     fatal  serious    slight   fatal  \\\n",
       "Age_of_Vehicle Weather_Conditions                                        \n",
       "1.0            fine + high winds       60.0    424.0    2180.0    31.0   \n",
       "               fine no high winds    2169.0  20596.0  117422.0  1752.0   \n",
       "               fog or mist             68.0    362.0    1459.0    29.0   \n",
       "               other                   43.0    410.0    2757.0    25.0   \n",
       "               raining + high winds    47.0    388.0    2199.0    37.0   \n",
       "\n",
       "Accident_Severity                    serious   slight   fatal  serious  \\\n",
       "Age_of_Vehicle Weather_Conditions                                        \n",
       "1.0            fine + high winds       199.0   1266.0    49.0    344.0   \n",
       "               fine no high winds    13710.0  85251.0  2330.0  21241.0   \n",
       "               fog or mist             139.0    767.0    32.0    171.0   \n",
       "               other                   259.0   1847.0    44.0    441.0   \n",
       "               raining + high winds    165.0   1293.0    39.0    326.0   \n",
       "\n",
       "Accident_Severity                      slight  \n",
       "Age_of_Vehicle Weather_Conditions              \n",
       "1.0            fine + high winds       2140.0  \n",
       "               fine no high winds    137855.0  \n",
       "               fog or mist              943.0  \n",
       "               other                   3455.0  \n",
       "               raining + high winds    2301.0  "
      ]
     },
     "execution_count": 48,
     "metadata": {},
     "output_type": "execute_result"
    }
   ],
   "source": [
    "All_weather_conditions_groups = pd.concat([new_weather_conditions_groups_1, new_weather_conditions_groups_2, new_weather_conditions_groups_3], axis=1)\n",
    "All_weather_conditions_groups.head()"
   ]
  },
  {
   "cell_type": "code",
   "execution_count": 49,
   "metadata": {},
   "outputs": [
    {
     "data": {
      "text/html": [
       "<div>\n",
       "<style scoped>\n",
       "    .dataframe tbody tr th:only-of-type {\n",
       "        vertical-align: middle;\n",
       "    }\n",
       "\n",
       "    .dataframe tbody tr th {\n",
       "        vertical-align: top;\n",
       "    }\n",
       "\n",
       "    .dataframe thead th {\n",
       "        text-align: right;\n",
       "    }\n",
       "</style>\n",
       "<table border=\"1\" class=\"dataframe\">\n",
       "  <thead>\n",
       "    <tr style=\"text-align: right;\">\n",
       "      <th></th>\n",
       "      <th>Accident_Severity</th>\n",
       "      <th>fatal</th>\n",
       "      <th>serious</th>\n",
       "      <th>slight</th>\n",
       "    </tr>\n",
       "    <tr>\n",
       "      <th>Age_of_Vehicle</th>\n",
       "      <th>Weather_Conditions</th>\n",
       "      <th></th>\n",
       "      <th></th>\n",
       "      <th></th>\n",
       "    </tr>\n",
       "  </thead>\n",
       "  <tbody>\n",
       "    <tr>\n",
       "      <th rowspan=\"5\" valign=\"top\">1.0</th>\n",
       "      <th>fine + high winds</th>\n",
       "      <td>140.0</td>\n",
       "      <td>967.0</td>\n",
       "      <td>5586.0</td>\n",
       "    </tr>\n",
       "    <tr>\n",
       "      <th>fine no high winds</th>\n",
       "      <td>6251.0</td>\n",
       "      <td>55547.0</td>\n",
       "      <td>340528.0</td>\n",
       "    </tr>\n",
       "    <tr>\n",
       "      <th>fog or mist</th>\n",
       "      <td>129.0</td>\n",
       "      <td>672.0</td>\n",
       "      <td>3169.0</td>\n",
       "    </tr>\n",
       "    <tr>\n",
       "      <th>other</th>\n",
       "      <td>112.0</td>\n",
       "      <td>1110.0</td>\n",
       "      <td>8059.0</td>\n",
       "    </tr>\n",
       "    <tr>\n",
       "      <th>raining + high winds</th>\n",
       "      <td>123.0</td>\n",
       "      <td>879.0</td>\n",
       "      <td>5793.0</td>\n",
       "    </tr>\n",
       "  </tbody>\n",
       "</table>\n",
       "</div>"
      ],
      "text/plain": [
       "Accident_Severity                     fatal  serious    slight\n",
       "Age_of_Vehicle Weather_Conditions                             \n",
       "1.0            fine + high winds      140.0    967.0    5586.0\n",
       "               fine no high winds    6251.0  55547.0  340528.0\n",
       "               fog or mist            129.0    672.0    3169.0\n",
       "               other                  112.0   1110.0    8059.0\n",
       "               raining + high winds   123.0    879.0    5793.0"
      ]
     },
     "execution_count": 49,
     "metadata": {},
     "output_type": "execute_result"
    }
   ],
   "source": [
    "All_weather_conditions_groups=All_weather_conditions_groups.groupby(All_weather_conditions_groups.columns, axis=1).sum()\n",
    "All_weather_conditions_groups.head()"
   ]
  },
  {
   "cell_type": "markdown",
   "metadata": {},
   "source": [
    "### Normalise\n",
    "Next, we will normalise the data by the accident severity. We will do this by dividing each column by the total sum of data in all columns for each row in the dataframe. We will multiply each value in each row by 100 to give a % of fatal, serious and slight accidents for each row."
   ]
  },
  {
   "cell_type": "code",
   "execution_count": 50,
   "metadata": {
    "collapsed": true
   },
   "outputs": [],
   "source": [
    "norm_All_weather_conditions_groups = All_weather_conditions_groups.copy() # create a dataframe as copy of original"
   ]
  },
  {
   "cell_type": "code",
   "execution_count": 51,
   "metadata": {
    "collapsed": true
   },
   "outputs": [],
   "source": [
    "cols_2 = norm_All_weather_conditions_groups.columns # define columns to normalise"
   ]
  },
  {
   "cell_type": "code",
   "execution_count": 52,
   "metadata": {
    "collapsed": true
   },
   "outputs": [],
   "source": [
    "sum_rows_2 = norm_All_weather_conditions_groups[cols_2].sum(axis=1) # Calculate the sum of each row"
   ]
  },
  {
   "cell_type": "code",
   "execution_count": 53,
   "metadata": {
    "collapsed": true
   },
   "outputs": [],
   "source": [
    "norm_All_weather_conditions_groups[cols_2] = norm_All_weather_conditions_groups[cols_2].div(sum_rows_2, axis=0)"
   ]
  },
  {
   "cell_type": "code",
   "execution_count": 54,
   "metadata": {},
   "outputs": [
    {
     "data": {
      "text/html": [
       "<div>\n",
       "<style scoped>\n",
       "    .dataframe tbody tr th:only-of-type {\n",
       "        vertical-align: middle;\n",
       "    }\n",
       "\n",
       "    .dataframe tbody tr th {\n",
       "        vertical-align: top;\n",
       "    }\n",
       "\n",
       "    .dataframe thead th {\n",
       "        text-align: right;\n",
       "    }\n",
       "</style>\n",
       "<table border=\"1\" class=\"dataframe\">\n",
       "  <thead>\n",
       "    <tr style=\"text-align: right;\">\n",
       "      <th></th>\n",
       "      <th>Accident_Severity</th>\n",
       "      <th>fatal</th>\n",
       "      <th>serious</th>\n",
       "      <th>slight</th>\n",
       "    </tr>\n",
       "    <tr>\n",
       "      <th>Age_of_Vehicle</th>\n",
       "      <th>Weather_Conditions</th>\n",
       "      <th></th>\n",
       "      <th></th>\n",
       "      <th></th>\n",
       "    </tr>\n",
       "  </thead>\n",
       "  <tbody>\n",
       "    <tr>\n",
       "      <th rowspan=\"5\" valign=\"top\">1.0</th>\n",
       "      <th>fine + high winds</th>\n",
       "      <td>2.091738</td>\n",
       "      <td>14.447931</td>\n",
       "      <td>83.460332</td>\n",
       "    </tr>\n",
       "    <tr>\n",
       "      <th>fine no high winds</th>\n",
       "      <td>1.553715</td>\n",
       "      <td>13.806465</td>\n",
       "      <td>84.639819</td>\n",
       "    </tr>\n",
       "    <tr>\n",
       "      <th>fog or mist</th>\n",
       "      <td>3.249370</td>\n",
       "      <td>16.926952</td>\n",
       "      <td>79.823678</td>\n",
       "    </tr>\n",
       "    <tr>\n",
       "      <th>other</th>\n",
       "      <td>1.206767</td>\n",
       "      <td>11.959918</td>\n",
       "      <td>86.833315</td>\n",
       "    </tr>\n",
       "    <tr>\n",
       "      <th>raining + high winds</th>\n",
       "      <td>1.810155</td>\n",
       "      <td>12.935982</td>\n",
       "      <td>85.253863</td>\n",
       "    </tr>\n",
       "  </tbody>\n",
       "</table>\n",
       "</div>"
      ],
      "text/plain": [
       "Accident_Severity                       fatal    serious     slight\n",
       "Age_of_Vehicle Weather_Conditions                                  \n",
       "1.0            fine + high winds     2.091738  14.447931  83.460332\n",
       "               fine no high winds    1.553715  13.806465  84.639819\n",
       "               fog or mist           3.249370  16.926952  79.823678\n",
       "               other                 1.206767  11.959918  86.833315\n",
       "               raining + high winds  1.810155  12.935982  85.253863"
      ]
     },
     "execution_count": 54,
     "metadata": {},
     "output_type": "execute_result"
    }
   ],
   "source": [
    "percentage_norm_All_weather_conditions_groups = 100*norm_All_weather_conditions_groups[cols_2]\n",
    "percentage_norm_All_weather_conditions_groups.head()"
   ]
  },
  {
   "cell_type": "markdown",
   "metadata": {},
   "source": [
    "Next, we thought it would be interesting to look at which vehicle age and in what weather condition was the most fatal, serious and slight."
   ]
  },
  {
   "cell_type": "code",
   "execution_count": 55,
   "metadata": {},
   "outputs": [
    {
     "data": {
      "text/html": [
       "<div>\n",
       "<style scoped>\n",
       "    .dataframe tbody tr th:only-of-type {\n",
       "        vertical-align: middle;\n",
       "    }\n",
       "\n",
       "    .dataframe tbody tr th {\n",
       "        vertical-align: top;\n",
       "    }\n",
       "\n",
       "    .dataframe thead th {\n",
       "        text-align: right;\n",
       "    }\n",
       "</style>\n",
       "<table border=\"1\" class=\"dataframe\">\n",
       "  <thead>\n",
       "    <tr style=\"text-align: right;\">\n",
       "      <th></th>\n",
       "      <th>Accident_Severity</th>\n",
       "      <th>fatal</th>\n",
       "      <th>serious</th>\n",
       "      <th>slight</th>\n",
       "    </tr>\n",
       "    <tr>\n",
       "      <th>Age_of_Vehicle</th>\n",
       "      <th>Weather_Conditions</th>\n",
       "      <th></th>\n",
       "      <th></th>\n",
       "      <th></th>\n",
       "    </tr>\n",
       "  </thead>\n",
       "  <tbody>\n",
       "    <tr>\n",
       "      <th>59.0</th>\n",
       "      <th>raining no high winds</th>\n",
       "      <td>1.0</td>\n",
       "      <td>0.0</td>\n",
       "      <td>0.0</td>\n",
       "    </tr>\n",
       "  </tbody>\n",
       "</table>\n",
       "</div>"
      ],
      "text/plain": [
       "Accident_Severity                     fatal  serious  slight\n",
       "Age_of_Vehicle Weather_Conditions                           \n",
       "59.0           raining no high winds    1.0      0.0     0.0"
      ]
     },
     "execution_count": 55,
     "metadata": {},
     "output_type": "execute_result"
    }
   ],
   "source": [
    "fatal_max = norm_All_weather_conditions_groups['fatal'].max()\n",
    "max_fatal = norm_All_weather_conditions_groups.loc[norm_All_weather_conditions_groups['fatal'] == fatal_max]\n",
    "max_fatal "
   ]
  },
  {
   "cell_type": "markdown",
   "metadata": {},
   "source": [
    "The highest fatal accidents recorded occurred in 59 year old vehicles in 'raining no high winds' weather conditions."
   ]
  },
  {
   "cell_type": "code",
   "execution_count": 56,
   "metadata": {},
   "outputs": [
    {
     "data": {
      "text/html": [
       "<div>\n",
       "<style scoped>\n",
       "    .dataframe tbody tr th:only-of-type {\n",
       "        vertical-align: middle;\n",
       "    }\n",
       "\n",
       "    .dataframe tbody tr th {\n",
       "        vertical-align: top;\n",
       "    }\n",
       "\n",
       "    .dataframe thead th {\n",
       "        text-align: right;\n",
       "    }\n",
       "</style>\n",
       "<table border=\"1\" class=\"dataframe\">\n",
       "  <thead>\n",
       "    <tr style=\"text-align: right;\">\n",
       "      <th></th>\n",
       "      <th>Accident_Severity</th>\n",
       "      <th>fatal</th>\n",
       "      <th>serious</th>\n",
       "      <th>slight</th>\n",
       "    </tr>\n",
       "    <tr>\n",
       "      <th>Age_of_Vehicle</th>\n",
       "      <th>Weather_Conditions</th>\n",
       "      <th></th>\n",
       "      <th></th>\n",
       "      <th></th>\n",
       "    </tr>\n",
       "  </thead>\n",
       "  <tbody>\n",
       "    <tr>\n",
       "      <th>37.0</th>\n",
       "      <th>snowing no high winds</th>\n",
       "      <td>0.0</td>\n",
       "      <td>1.0</td>\n",
       "      <td>0.0</td>\n",
       "    </tr>\n",
       "    <tr>\n",
       "      <th>38.0</th>\n",
       "      <th>raining + high winds</th>\n",
       "      <td>0.0</td>\n",
       "      <td>1.0</td>\n",
       "      <td>0.0</td>\n",
       "    </tr>\n",
       "    <tr>\n",
       "      <th>39.0</th>\n",
       "      <th>fog or mist</th>\n",
       "      <td>0.0</td>\n",
       "      <td>1.0</td>\n",
       "      <td>0.0</td>\n",
       "    </tr>\n",
       "    <tr>\n",
       "      <th>40.0</th>\n",
       "      <th>other</th>\n",
       "      <td>0.0</td>\n",
       "      <td>1.0</td>\n",
       "      <td>0.0</td>\n",
       "    </tr>\n",
       "    <tr>\n",
       "      <th>41.0</th>\n",
       "      <th>other</th>\n",
       "      <td>0.0</td>\n",
       "      <td>1.0</td>\n",
       "      <td>0.0</td>\n",
       "    </tr>\n",
       "    <tr>\n",
       "      <th>48.0</th>\n",
       "      <th>other</th>\n",
       "      <td>0.0</td>\n",
       "      <td>1.0</td>\n",
       "      <td>0.0</td>\n",
       "    </tr>\n",
       "    <tr>\n",
       "      <th>61.0</th>\n",
       "      <th>raining no high winds</th>\n",
       "      <td>0.0</td>\n",
       "      <td>1.0</td>\n",
       "      <td>0.0</td>\n",
       "    </tr>\n",
       "    <tr>\n",
       "      <th>69.0</th>\n",
       "      <th>raining no high winds</th>\n",
       "      <td>0.0</td>\n",
       "      <td>1.0</td>\n",
       "      <td>0.0</td>\n",
       "    </tr>\n",
       "    <tr>\n",
       "      <th>71.0</th>\n",
       "      <th>raining + high winds</th>\n",
       "      <td>0.0</td>\n",
       "      <td>1.0</td>\n",
       "      <td>0.0</td>\n",
       "    </tr>\n",
       "    <tr>\n",
       "      <th>84.0</th>\n",
       "      <th>fine no high winds</th>\n",
       "      <td>0.0</td>\n",
       "      <td>1.0</td>\n",
       "      <td>0.0</td>\n",
       "    </tr>\n",
       "    <tr>\n",
       "      <th>86.0</th>\n",
       "      <th>fine no high winds</th>\n",
       "      <td>0.0</td>\n",
       "      <td>1.0</td>\n",
       "      <td>0.0</td>\n",
       "    </tr>\n",
       "    <tr>\n",
       "      <th>87.0</th>\n",
       "      <th>fog or mist</th>\n",
       "      <td>0.0</td>\n",
       "      <td>1.0</td>\n",
       "      <td>0.0</td>\n",
       "    </tr>\n",
       "    <tr>\n",
       "      <th>89.0</th>\n",
       "      <th>fine no high winds</th>\n",
       "      <td>0.0</td>\n",
       "      <td>1.0</td>\n",
       "      <td>0.0</td>\n",
       "    </tr>\n",
       "    <tr>\n",
       "      <th>91.0</th>\n",
       "      <th>fine + high winds</th>\n",
       "      <td>0.0</td>\n",
       "      <td>1.0</td>\n",
       "      <td>0.0</td>\n",
       "    </tr>\n",
       "    <tr>\n",
       "      <th rowspan=\"2\" valign=\"top\">92.0</th>\n",
       "      <th>fine no high winds</th>\n",
       "      <td>0.0</td>\n",
       "      <td>1.0</td>\n",
       "      <td>0.0</td>\n",
       "    </tr>\n",
       "    <tr>\n",
       "      <th>raining no high winds</th>\n",
       "      <td>0.0</td>\n",
       "      <td>1.0</td>\n",
       "      <td>0.0</td>\n",
       "    </tr>\n",
       "    <tr>\n",
       "      <th>104.0</th>\n",
       "      <th>fine no high winds</th>\n",
       "      <td>0.0</td>\n",
       "      <td>1.0</td>\n",
       "      <td>0.0</td>\n",
       "    </tr>\n",
       "    <tr>\n",
       "      <th>108.0</th>\n",
       "      <th>fine no high winds</th>\n",
       "      <td>0.0</td>\n",
       "      <td>1.0</td>\n",
       "      <td>0.0</td>\n",
       "    </tr>\n",
       "    <tr>\n",
       "      <th>110.0</th>\n",
       "      <th>fine no high winds</th>\n",
       "      <td>0.0</td>\n",
       "      <td>1.0</td>\n",
       "      <td>0.0</td>\n",
       "    </tr>\n",
       "    <tr>\n",
       "      <th>111.0</th>\n",
       "      <th>fine no high winds</th>\n",
       "      <td>0.0</td>\n",
       "      <td>1.0</td>\n",
       "      <td>0.0</td>\n",
       "    </tr>\n",
       "  </tbody>\n",
       "</table>\n",
       "</div>"
      ],
      "text/plain": [
       "Accident_Severity                     fatal  serious  slight\n",
       "Age_of_Vehicle Weather_Conditions                           \n",
       "37.0           snowing no high winds    0.0      1.0     0.0\n",
       "38.0           raining + high winds     0.0      1.0     0.0\n",
       "39.0           fog or mist              0.0      1.0     0.0\n",
       "40.0           other                    0.0      1.0     0.0\n",
       "41.0           other                    0.0      1.0     0.0\n",
       "48.0           other                    0.0      1.0     0.0\n",
       "61.0           raining no high winds    0.0      1.0     0.0\n",
       "69.0           raining no high winds    0.0      1.0     0.0\n",
       "71.0           raining + high winds     0.0      1.0     0.0\n",
       "84.0           fine no high winds       0.0      1.0     0.0\n",
       "86.0           fine no high winds       0.0      1.0     0.0\n",
       "87.0           fog or mist              0.0      1.0     0.0\n",
       "89.0           fine no high winds       0.0      1.0     0.0\n",
       "91.0           fine + high winds        0.0      1.0     0.0\n",
       "92.0           fine no high winds       0.0      1.0     0.0\n",
       "               raining no high winds    0.0      1.0     0.0\n",
       "104.0          fine no high winds       0.0      1.0     0.0\n",
       "108.0          fine no high winds       0.0      1.0     0.0\n",
       "110.0          fine no high winds       0.0      1.0     0.0\n",
       "111.0          fine no high winds       0.0      1.0     0.0"
      ]
     },
     "execution_count": 56,
     "metadata": {},
     "output_type": "execute_result"
    }
   ],
   "source": [
    "serious_max = norm_All_weather_conditions_groups['serious'].max()\n",
    "max_serious = norm_All_weather_conditions_groups.loc[norm_All_weather_conditions_groups['serious'] == serious_max]\n",
    "max_serious"
   ]
  },
  {
   "cell_type": "markdown",
   "metadata": {},
   "source": [
    "The highest serious accidents recorded occurred in vehicles between the ages of 37 and 111 years old in a variety of weather conditions."
   ]
  },
  {
   "cell_type": "code",
   "execution_count": 57,
   "metadata": {},
   "outputs": [
    {
     "data": {
      "text/html": [
       "<div>\n",
       "<style scoped>\n",
       "    .dataframe tbody tr th:only-of-type {\n",
       "        vertical-align: middle;\n",
       "    }\n",
       "\n",
       "    .dataframe tbody tr th {\n",
       "        vertical-align: top;\n",
       "    }\n",
       "\n",
       "    .dataframe thead th {\n",
       "        text-align: right;\n",
       "    }\n",
       "</style>\n",
       "<table border=\"1\" class=\"dataframe\">\n",
       "  <thead>\n",
       "    <tr style=\"text-align: right;\">\n",
       "      <th></th>\n",
       "      <th>Accident_Severity</th>\n",
       "      <th>fatal</th>\n",
       "      <th>serious</th>\n",
       "      <th>slight</th>\n",
       "    </tr>\n",
       "    <tr>\n",
       "      <th>Age_of_Vehicle</th>\n",
       "      <th>Weather_Conditions</th>\n",
       "      <th></th>\n",
       "      <th></th>\n",
       "      <th></th>\n",
       "    </tr>\n",
       "  </thead>\n",
       "  <tbody>\n",
       "    <tr>\n",
       "      <th>22.0</th>\n",
       "      <th>snowing + high winds</th>\n",
       "      <td>0.0</td>\n",
       "      <td>0.0</td>\n",
       "      <td>1.0</td>\n",
       "    </tr>\n",
       "    <tr>\n",
       "      <th rowspan=\"2\" valign=\"top\">23.0</th>\n",
       "      <th>snowing + high winds</th>\n",
       "      <td>0.0</td>\n",
       "      <td>0.0</td>\n",
       "      <td>1.0</td>\n",
       "    </tr>\n",
       "    <tr>\n",
       "      <th>snowing no high winds</th>\n",
       "      <td>0.0</td>\n",
       "      <td>0.0</td>\n",
       "      <td>1.0</td>\n",
       "    </tr>\n",
       "    <tr>\n",
       "      <th rowspan=\"2\" valign=\"top\">24.0</th>\n",
       "      <th>snowing + high winds</th>\n",
       "      <td>0.0</td>\n",
       "      <td>0.0</td>\n",
       "      <td>1.0</td>\n",
       "    </tr>\n",
       "    <tr>\n",
       "      <th>snowing no high winds</th>\n",
       "      <td>0.0</td>\n",
       "      <td>0.0</td>\n",
       "      <td>1.0</td>\n",
       "    </tr>\n",
       "  </tbody>\n",
       "</table>\n",
       "</div>"
      ],
      "text/plain": [
       "Accident_Severity                     fatal  serious  slight\n",
       "Age_of_Vehicle Weather_Conditions                           \n",
       "22.0           snowing + high winds     0.0      0.0     1.0\n",
       "23.0           snowing + high winds     0.0      0.0     1.0\n",
       "               snowing no high winds    0.0      0.0     1.0\n",
       "24.0           snowing + high winds     0.0      0.0     1.0\n",
       "               snowing no high winds    0.0      0.0     1.0"
      ]
     },
     "execution_count": 57,
     "metadata": {},
     "output_type": "execute_result"
    }
   ],
   "source": [
    "slight_max = norm_All_weather_conditions_groups['slight'].max()\n",
    "max_slight = norm_All_weather_conditions_groups.loc[norm_All_weather_conditions_groups['slight'] == slight_max]\n",
    "max_slight.head()"
   ]
  },
  {
   "cell_type": "markdown",
   "metadata": {},
   "source": [
    "The highest slight accidents recorded occurred in a range of vehicle ages from 22 years+ and occurred in a range of weather conditions."
   ]
  },
  {
   "cell_type": "markdown",
   "metadata": {},
   "source": [
    "## Rain Analysis\n",
    "Next we will specicically focus on rain weather conditions and determine how different aged vehicles perform in such conditions."
   ]
  },
  {
   "cell_type": "code",
   "execution_count": 58,
   "metadata": {
    "scrolled": true
   },
   "outputs": [
    {
     "data": {
      "text/html": [
       "<div>\n",
       "<style scoped>\n",
       "    .dataframe tbody tr th:only-of-type {\n",
       "        vertical-align: middle;\n",
       "    }\n",
       "\n",
       "    .dataframe tbody tr th {\n",
       "        vertical-align: top;\n",
       "    }\n",
       "\n",
       "    .dataframe thead th {\n",
       "        text-align: right;\n",
       "    }\n",
       "</style>\n",
       "<table border=\"1\" class=\"dataframe\">\n",
       "  <thead>\n",
       "    <tr style=\"text-align: right;\">\n",
       "      <th></th>\n",
       "      <th>Accident_Severity</th>\n",
       "      <th>fatal</th>\n",
       "      <th>serious</th>\n",
       "      <th>slight</th>\n",
       "    </tr>\n",
       "    <tr>\n",
       "      <th>Age_of_Vehicle</th>\n",
       "      <th>Weather_Conditions</th>\n",
       "      <th></th>\n",
       "      <th></th>\n",
       "      <th></th>\n",
       "    </tr>\n",
       "  </thead>\n",
       "  <tbody>\n",
       "    <tr>\n",
       "      <th rowspan=\"5\" valign=\"top\">1.0</th>\n",
       "      <th>fine + high winds</th>\n",
       "      <td>0.020917</td>\n",
       "      <td>0.144479</td>\n",
       "      <td>0.834603</td>\n",
       "    </tr>\n",
       "    <tr>\n",
       "      <th>fine no high winds</th>\n",
       "      <td>0.015537</td>\n",
       "      <td>0.138065</td>\n",
       "      <td>0.846398</td>\n",
       "    </tr>\n",
       "    <tr>\n",
       "      <th>fog or mist</th>\n",
       "      <td>0.032494</td>\n",
       "      <td>0.169270</td>\n",
       "      <td>0.798237</td>\n",
       "    </tr>\n",
       "    <tr>\n",
       "      <th>other</th>\n",
       "      <td>0.012068</td>\n",
       "      <td>0.119599</td>\n",
       "      <td>0.868333</td>\n",
       "    </tr>\n",
       "    <tr>\n",
       "      <th>raining + high winds</th>\n",
       "      <td>0.018102</td>\n",
       "      <td>0.129360</td>\n",
       "      <td>0.852539</td>\n",
       "    </tr>\n",
       "  </tbody>\n",
       "</table>\n",
       "</div>"
      ],
      "text/plain": [
       "Accident_Severity                       fatal   serious    slight\n",
       "Age_of_Vehicle Weather_Conditions                                \n",
       "1.0            fine + high winds     0.020917  0.144479  0.834603\n",
       "               fine no high winds    0.015537  0.138065  0.846398\n",
       "               fog or mist           0.032494  0.169270  0.798237\n",
       "               other                 0.012068  0.119599  0.868333\n",
       "               raining + high winds  0.018102  0.129360  0.852539"
      ]
     },
     "execution_count": 58,
     "metadata": {},
     "output_type": "execute_result"
    }
   ],
   "source": [
    "rain_analysis = norm_All_weather_conditions_groups.copy()\n",
    "rain_analysis.head()"
   ]
  },
  {
   "cell_type": "code",
   "execution_count": 59,
   "metadata": {
    "scrolled": true
   },
   "outputs": [
    {
     "data": {
      "text/html": [
       "<div>\n",
       "<style scoped>\n",
       "    .dataframe tbody tr th:only-of-type {\n",
       "        vertical-align: middle;\n",
       "    }\n",
       "\n",
       "    .dataframe tbody tr th {\n",
       "        vertical-align: top;\n",
       "    }\n",
       "\n",
       "    .dataframe thead tr th {\n",
       "        text-align: left;\n",
       "    }\n",
       "\n",
       "    .dataframe thead tr:last-of-type th {\n",
       "        text-align: right;\n",
       "    }\n",
       "</style>\n",
       "<table border=\"1\" class=\"dataframe\">\n",
       "  <thead>\n",
       "    <tr>\n",
       "      <th>Accident_Severity</th>\n",
       "      <th colspan=\"8\" halign=\"left\">fatal</th>\n",
       "      <th colspan=\"5\" halign=\"left\">serious</th>\n",
       "      <th colspan=\"8\" halign=\"left\">slight</th>\n",
       "    </tr>\n",
       "    <tr>\n",
       "      <th>Weather_Conditions</th>\n",
       "      <th>fine + high winds</th>\n",
       "      <th>fine no high winds</th>\n",
       "      <th>fog or mist</th>\n",
       "      <th>other</th>\n",
       "      <th>raining + high winds</th>\n",
       "      <th>raining no high winds</th>\n",
       "      <th>snowing + high winds</th>\n",
       "      <th>snowing no high winds</th>\n",
       "      <th>fine + high winds</th>\n",
       "      <th>fine no high winds</th>\n",
       "      <th>...</th>\n",
       "      <th>snowing + high winds</th>\n",
       "      <th>snowing no high winds</th>\n",
       "      <th>fine + high winds</th>\n",
       "      <th>fine no high winds</th>\n",
       "      <th>fog or mist</th>\n",
       "      <th>other</th>\n",
       "      <th>raining + high winds</th>\n",
       "      <th>raining no high winds</th>\n",
       "      <th>snowing + high winds</th>\n",
       "      <th>snowing no high winds</th>\n",
       "    </tr>\n",
       "    <tr>\n",
       "      <th>Age_of_Vehicle</th>\n",
       "      <th></th>\n",
       "      <th></th>\n",
       "      <th></th>\n",
       "      <th></th>\n",
       "      <th></th>\n",
       "      <th></th>\n",
       "      <th></th>\n",
       "      <th></th>\n",
       "      <th></th>\n",
       "      <th></th>\n",
       "      <th></th>\n",
       "      <th></th>\n",
       "      <th></th>\n",
       "      <th></th>\n",
       "      <th></th>\n",
       "      <th></th>\n",
       "      <th></th>\n",
       "      <th></th>\n",
       "      <th></th>\n",
       "      <th></th>\n",
       "      <th></th>\n",
       "    </tr>\n",
       "  </thead>\n",
       "  <tbody>\n",
       "    <tr>\n",
       "      <th>1.0</th>\n",
       "      <td>0.020917</td>\n",
       "      <td>0.015537</td>\n",
       "      <td>0.032494</td>\n",
       "      <td>0.012068</td>\n",
       "      <td>0.018102</td>\n",
       "      <td>0.010612</td>\n",
       "      <td>0.008000</td>\n",
       "      <td>0.007270</td>\n",
       "      <td>0.144479</td>\n",
       "      <td>0.138065</td>\n",
       "      <td>...</td>\n",
       "      <td>0.144000</td>\n",
       "      <td>0.124256</td>\n",
       "      <td>0.834603</td>\n",
       "      <td>0.846398</td>\n",
       "      <td>0.798237</td>\n",
       "      <td>0.868333</td>\n",
       "      <td>0.852539</td>\n",
       "      <td>0.870658</td>\n",
       "      <td>0.848000</td>\n",
       "      <td>0.868473</td>\n",
       "    </tr>\n",
       "    <tr>\n",
       "      <th>2.0</th>\n",
       "      <td>0.021150</td>\n",
       "      <td>0.015481</td>\n",
       "      <td>0.029576</td>\n",
       "      <td>0.010271</td>\n",
       "      <td>0.014923</td>\n",
       "      <td>0.011424</td>\n",
       "      <td>0.009669</td>\n",
       "      <td>0.007659</td>\n",
       "      <td>0.145009</td>\n",
       "      <td>0.135114</td>\n",
       "      <td>...</td>\n",
       "      <td>0.151934</td>\n",
       "      <td>0.115884</td>\n",
       "      <td>0.833841</td>\n",
       "      <td>0.849405</td>\n",
       "      <td>0.809710</td>\n",
       "      <td>0.874883</td>\n",
       "      <td>0.859785</td>\n",
       "      <td>0.872117</td>\n",
       "      <td>0.838398</td>\n",
       "      <td>0.876457</td>\n",
       "    </tr>\n",
       "    <tr>\n",
       "      <th>3.0</th>\n",
       "      <td>0.020912</td>\n",
       "      <td>0.015086</td>\n",
       "      <td>0.030171</td>\n",
       "      <td>0.009434</td>\n",
       "      <td>0.014203</td>\n",
       "      <td>0.010099</td>\n",
       "      <td>0.014881</td>\n",
       "      <td>0.007246</td>\n",
       "      <td>0.150497</td>\n",
       "      <td>0.135213</td>\n",
       "      <td>...</td>\n",
       "      <td>0.150298</td>\n",
       "      <td>0.107609</td>\n",
       "      <td>0.828591</td>\n",
       "      <td>0.849701</td>\n",
       "      <td>0.809690</td>\n",
       "      <td>0.879338</td>\n",
       "      <td>0.859841</td>\n",
       "      <td>0.872713</td>\n",
       "      <td>0.834821</td>\n",
       "      <td>0.885145</td>\n",
       "    </tr>\n",
       "    <tr>\n",
       "      <th>4.0</th>\n",
       "      <td>0.017514</td>\n",
       "      <td>0.015100</td>\n",
       "      <td>0.031127</td>\n",
       "      <td>0.013829</td>\n",
       "      <td>0.015895</td>\n",
       "      <td>0.010406</td>\n",
       "      <td>0.011887</td>\n",
       "      <td>0.006392</td>\n",
       "      <td>0.157456</td>\n",
       "      <td>0.134720</td>\n",
       "      <td>...</td>\n",
       "      <td>0.135215</td>\n",
       "      <td>0.106179</td>\n",
       "      <td>0.825030</td>\n",
       "      <td>0.850180</td>\n",
       "      <td>0.812028</td>\n",
       "      <td>0.873667</td>\n",
       "      <td>0.858916</td>\n",
       "      <td>0.873683</td>\n",
       "      <td>0.852897</td>\n",
       "      <td>0.887429</td>\n",
       "    </tr>\n",
       "    <tr>\n",
       "      <th>5.0</th>\n",
       "      <td>0.020927</td>\n",
       "      <td>0.014636</td>\n",
       "      <td>0.030078</td>\n",
       "      <td>0.011086</td>\n",
       "      <td>0.014318</td>\n",
       "      <td>0.011020</td>\n",
       "      <td>0.012066</td>\n",
       "      <td>0.013282</td>\n",
       "      <td>0.144587</td>\n",
       "      <td>0.133008</td>\n",
       "      <td>...</td>\n",
       "      <td>0.141780</td>\n",
       "      <td>0.118141</td>\n",
       "      <td>0.834486</td>\n",
       "      <td>0.852356</td>\n",
       "      <td>0.811473</td>\n",
       "      <td>0.879072</td>\n",
       "      <td>0.856029</td>\n",
       "      <td>0.871932</td>\n",
       "      <td>0.846154</td>\n",
       "      <td>0.868577</td>\n",
       "    </tr>\n",
       "  </tbody>\n",
       "</table>\n",
       "<p>5 rows × 24 columns</p>\n",
       "</div>"
      ],
      "text/plain": [
       "Accident_Severity              fatal                                           \\\n",
       "Weather_Conditions fine + high winds fine no high winds fog or mist     other   \n",
       "Age_of_Vehicle                                                                  \n",
       "1.0                         0.020917           0.015537    0.032494  0.012068   \n",
       "2.0                         0.021150           0.015481    0.029576  0.010271   \n",
       "3.0                         0.020912           0.015086    0.030171  0.009434   \n",
       "4.0                         0.017514           0.015100    0.031127  0.013829   \n",
       "5.0                         0.020927           0.014636    0.030078  0.011086   \n",
       "\n",
       "Accident_Severity                                              \\\n",
       "Weather_Conditions raining + high winds raining no high winds   \n",
       "Age_of_Vehicle                                                  \n",
       "1.0                            0.018102              0.010612   \n",
       "2.0                            0.014923              0.011424   \n",
       "3.0                            0.014203              0.010099   \n",
       "4.0                            0.015895              0.010406   \n",
       "5.0                            0.014318              0.011020   \n",
       "\n",
       "Accident_Severity                                              \\\n",
       "Weather_Conditions snowing + high winds snowing no high winds   \n",
       "Age_of_Vehicle                                                  \n",
       "1.0                            0.008000              0.007270   \n",
       "2.0                            0.009669              0.007659   \n",
       "3.0                            0.014881              0.007246   \n",
       "4.0                            0.011887              0.006392   \n",
       "5.0                            0.012066              0.013282   \n",
       "\n",
       "Accident_Severity            serious                             ...           \\\n",
       "Weather_Conditions fine + high winds fine no high winds          ...            \n",
       "Age_of_Vehicle                                                   ...            \n",
       "1.0                         0.144479           0.138065          ...            \n",
       "2.0                         0.145009           0.135114          ...            \n",
       "3.0                         0.150497           0.135213          ...            \n",
       "4.0                         0.157456           0.134720          ...            \n",
       "5.0                         0.144587           0.133008          ...            \n",
       "\n",
       "Accident_Severity                                              \\\n",
       "Weather_Conditions snowing + high winds snowing no high winds   \n",
       "Age_of_Vehicle                                                  \n",
       "1.0                            0.144000              0.124256   \n",
       "2.0                            0.151934              0.115884   \n",
       "3.0                            0.150298              0.107609   \n",
       "4.0                            0.135215              0.106179   \n",
       "5.0                            0.141780              0.118141   \n",
       "\n",
       "Accident_Severity             slight                                           \\\n",
       "Weather_Conditions fine + high winds fine no high winds fog or mist     other   \n",
       "Age_of_Vehicle                                                                  \n",
       "1.0                         0.834603           0.846398    0.798237  0.868333   \n",
       "2.0                         0.833841           0.849405    0.809710  0.874883   \n",
       "3.0                         0.828591           0.849701    0.809690  0.879338   \n",
       "4.0                         0.825030           0.850180    0.812028  0.873667   \n",
       "5.0                         0.834486           0.852356    0.811473  0.879072   \n",
       "\n",
       "Accident_Severity                                              \\\n",
       "Weather_Conditions raining + high winds raining no high winds   \n",
       "Age_of_Vehicle                                                  \n",
       "1.0                            0.852539              0.870658   \n",
       "2.0                            0.859785              0.872117   \n",
       "3.0                            0.859841              0.872713   \n",
       "4.0                            0.858916              0.873683   \n",
       "5.0                            0.856029              0.871932   \n",
       "\n",
       "Accident_Severity                                              \n",
       "Weather_Conditions snowing + high winds snowing no high winds  \n",
       "Age_of_Vehicle                                                 \n",
       "1.0                            0.848000              0.868473  \n",
       "2.0                            0.838398              0.876457  \n",
       "3.0                            0.834821              0.885145  \n",
       "4.0                            0.852897              0.887429  \n",
       "5.0                            0.846154              0.868577  \n",
       "\n",
       "[5 rows x 24 columns]"
      ]
     },
     "execution_count": 59,
     "metadata": {},
     "output_type": "execute_result"
    }
   ],
   "source": [
    "rain_analysis=rain_analysis.unstack()  # unstack data to get it into the format that we want it in.\n",
    "rain_analysis.head()"
   ]
  },
  {
   "cell_type": "markdown",
   "metadata": {},
   "source": [
    "Below we will select all the data related to rainy weather conditions and concatenate it into one dataframe."
   ]
  },
  {
   "cell_type": "code",
   "execution_count": 60,
   "metadata": {},
   "outputs": [
    {
     "data": {
      "text/html": [
       "<div>\n",
       "<style scoped>\n",
       "    .dataframe tbody tr th:only-of-type {\n",
       "        vertical-align: middle;\n",
       "    }\n",
       "\n",
       "    .dataframe tbody tr th {\n",
       "        vertical-align: top;\n",
       "    }\n",
       "\n",
       "    .dataframe thead tr th {\n",
       "        text-align: left;\n",
       "    }\n",
       "\n",
       "    .dataframe thead tr:last-of-type th {\n",
       "        text-align: right;\n",
       "    }\n",
       "</style>\n",
       "<table border=\"1\" class=\"dataframe\">\n",
       "  <thead>\n",
       "    <tr>\n",
       "      <th></th>\n",
       "      <th colspan=\"2\" halign=\"left\">fatal</th>\n",
       "      <th colspan=\"2\" halign=\"left\">serious</th>\n",
       "      <th colspan=\"2\" halign=\"left\">slight</th>\n",
       "    </tr>\n",
       "    <tr>\n",
       "      <th></th>\n",
       "      <th>raining + high winds</th>\n",
       "      <th>raining no high winds</th>\n",
       "      <th>raining + high winds</th>\n",
       "      <th>raining no high winds</th>\n",
       "      <th>raining + high winds</th>\n",
       "      <th>raining no high winds</th>\n",
       "    </tr>\n",
       "    <tr>\n",
       "      <th>Age_of_Vehicle</th>\n",
       "      <th></th>\n",
       "      <th></th>\n",
       "      <th></th>\n",
       "      <th></th>\n",
       "      <th></th>\n",
       "      <th></th>\n",
       "    </tr>\n",
       "  </thead>\n",
       "  <tbody>\n",
       "    <tr>\n",
       "      <th>1.0</th>\n",
       "      <td>0.018102</td>\n",
       "      <td>NaN</td>\n",
       "      <td>NaN</td>\n",
       "      <td>NaN</td>\n",
       "      <td>NaN</td>\n",
       "      <td>NaN</td>\n",
       "    </tr>\n",
       "    <tr>\n",
       "      <th>2.0</th>\n",
       "      <td>0.014923</td>\n",
       "      <td>NaN</td>\n",
       "      <td>NaN</td>\n",
       "      <td>NaN</td>\n",
       "      <td>NaN</td>\n",
       "      <td>NaN</td>\n",
       "    </tr>\n",
       "    <tr>\n",
       "      <th>3.0</th>\n",
       "      <td>0.014203</td>\n",
       "      <td>NaN</td>\n",
       "      <td>NaN</td>\n",
       "      <td>NaN</td>\n",
       "      <td>NaN</td>\n",
       "      <td>NaN</td>\n",
       "    </tr>\n",
       "    <tr>\n",
       "      <th>4.0</th>\n",
       "      <td>0.015895</td>\n",
       "      <td>NaN</td>\n",
       "      <td>NaN</td>\n",
       "      <td>NaN</td>\n",
       "      <td>NaN</td>\n",
       "      <td>NaN</td>\n",
       "    </tr>\n",
       "    <tr>\n",
       "      <th>5.0</th>\n",
       "      <td>0.014318</td>\n",
       "      <td>NaN</td>\n",
       "      <td>NaN</td>\n",
       "      <td>NaN</td>\n",
       "      <td>NaN</td>\n",
       "      <td>NaN</td>\n",
       "    </tr>\n",
       "  </tbody>\n",
       "</table>\n",
       "</div>"
      ],
      "text/plain": [
       "                              fatal                        \\\n",
       "               raining + high winds raining no high winds   \n",
       "Age_of_Vehicle                                              \n",
       "1.0                        0.018102                   NaN   \n",
       "2.0                        0.014923                   NaN   \n",
       "3.0                        0.014203                   NaN   \n",
       "4.0                        0.015895                   NaN   \n",
       "5.0                        0.014318                   NaN   \n",
       "\n",
       "                            serious                        \\\n",
       "               raining + high winds raining no high winds   \n",
       "Age_of_Vehicle                                              \n",
       "1.0                             NaN                   NaN   \n",
       "2.0                             NaN                   NaN   \n",
       "3.0                             NaN                   NaN   \n",
       "4.0                             NaN                   NaN   \n",
       "5.0                             NaN                   NaN   \n",
       "\n",
       "                             slight                        \n",
       "               raining + high winds raining no high winds  \n",
       "Age_of_Vehicle                                             \n",
       "1.0                             NaN                   NaN  \n",
       "2.0                             NaN                   NaN  \n",
       "3.0                             NaN                   NaN  \n",
       "4.0                             NaN                   NaN  \n",
       "5.0                             NaN                   NaN  "
      ]
     },
     "execution_count": 60,
     "metadata": {},
     "output_type": "execute_result"
    }
   ],
   "source": [
    "fatal1=rain_analysis[('fatal', 'raining + high winds')].to_frame()\n",
    "fatal2=rain_analysis[('fatal', 'raining no high winds')].to_frame()\n",
    "\n",
    "serious1=rain_analysis[('serious', 'raining + high winds')].to_frame()\n",
    "serious2=rain_analysis[('serious', 'raining no high winds')].to_frame()\n",
    "\n",
    "slight1=rain_analysis[('slight', 'raining + high winds')].to_frame()\n",
    "slight2=rain_analysis[('slight', 'raining no high winds')].to_frame()\n",
    "\n",
    "rain_analysis_all=pd.concat([fatal1,fatal2,serious1,serious2,slight1,slight2])\n",
    "\n",
    "rain_analysis_all.head()"
   ]
  },
  {
   "cell_type": "markdown",
   "metadata": {},
   "source": [
    "Next we wil group the data by the 'Age_of_Vehicle' which is the age of the vehicle at the time of the accident and sum the data for each resulting group."
   ]
  },
  {
   "cell_type": "code",
   "execution_count": 61,
   "metadata": {},
   "outputs": [
    {
     "data": {
      "text/html": [
       "<div>\n",
       "<style scoped>\n",
       "    .dataframe tbody tr th:only-of-type {\n",
       "        vertical-align: middle;\n",
       "    }\n",
       "\n",
       "    .dataframe tbody tr th {\n",
       "        vertical-align: top;\n",
       "    }\n",
       "\n",
       "    .dataframe thead tr th {\n",
       "        text-align: left;\n",
       "    }\n",
       "\n",
       "    .dataframe thead tr:last-of-type th {\n",
       "        text-align: right;\n",
       "    }\n",
       "</style>\n",
       "<table border=\"1\" class=\"dataframe\">\n",
       "  <thead>\n",
       "    <tr>\n",
       "      <th></th>\n",
       "      <th colspan=\"2\" halign=\"left\">fatal</th>\n",
       "      <th colspan=\"2\" halign=\"left\">serious</th>\n",
       "      <th colspan=\"2\" halign=\"left\">slight</th>\n",
       "    </tr>\n",
       "    <tr>\n",
       "      <th></th>\n",
       "      <th>raining + high winds</th>\n",
       "      <th>raining no high winds</th>\n",
       "      <th>raining + high winds</th>\n",
       "      <th>raining no high winds</th>\n",
       "      <th>raining + high winds</th>\n",
       "      <th>raining no high winds</th>\n",
       "    </tr>\n",
       "    <tr>\n",
       "      <th>Age_of_Vehicle</th>\n",
       "      <th></th>\n",
       "      <th></th>\n",
       "      <th></th>\n",
       "      <th></th>\n",
       "      <th></th>\n",
       "      <th></th>\n",
       "    </tr>\n",
       "  </thead>\n",
       "  <tbody>\n",
       "    <tr>\n",
       "      <th>1.0</th>\n",
       "      <td>0.018102</td>\n",
       "      <td>0.010612</td>\n",
       "      <td>0.129360</td>\n",
       "      <td>0.118730</td>\n",
       "      <td>0.852539</td>\n",
       "      <td>0.870658</td>\n",
       "    </tr>\n",
       "    <tr>\n",
       "      <th>2.0</th>\n",
       "      <td>0.014923</td>\n",
       "      <td>0.011424</td>\n",
       "      <td>0.125291</td>\n",
       "      <td>0.116459</td>\n",
       "      <td>0.859785</td>\n",
       "      <td>0.872117</td>\n",
       "    </tr>\n",
       "    <tr>\n",
       "      <th>3.0</th>\n",
       "      <td>0.014203</td>\n",
       "      <td>0.010099</td>\n",
       "      <td>0.125956</td>\n",
       "      <td>0.117189</td>\n",
       "      <td>0.859841</td>\n",
       "      <td>0.872713</td>\n",
       "    </tr>\n",
       "    <tr>\n",
       "      <th>4.0</th>\n",
       "      <td>0.015895</td>\n",
       "      <td>0.010406</td>\n",
       "      <td>0.125189</td>\n",
       "      <td>0.115911</td>\n",
       "      <td>0.858916</td>\n",
       "      <td>0.873683</td>\n",
       "    </tr>\n",
       "    <tr>\n",
       "      <th>5.0</th>\n",
       "      <td>0.014318</td>\n",
       "      <td>0.011020</td>\n",
       "      <td>0.129653</td>\n",
       "      <td>0.117048</td>\n",
       "      <td>0.856029</td>\n",
       "      <td>0.871932</td>\n",
       "    </tr>\n",
       "  </tbody>\n",
       "</table>\n",
       "</div>"
      ],
      "text/plain": [
       "                              fatal                        \\\n",
       "               raining + high winds raining no high winds   \n",
       "Age_of_Vehicle                                              \n",
       "1.0                        0.018102              0.010612   \n",
       "2.0                        0.014923              0.011424   \n",
       "3.0                        0.014203              0.010099   \n",
       "4.0                        0.015895              0.010406   \n",
       "5.0                        0.014318              0.011020   \n",
       "\n",
       "                            serious                        \\\n",
       "               raining + high winds raining no high winds   \n",
       "Age_of_Vehicle                                              \n",
       "1.0                        0.129360              0.118730   \n",
       "2.0                        0.125291              0.116459   \n",
       "3.0                        0.125956              0.117189   \n",
       "4.0                        0.125189              0.115911   \n",
       "5.0                        0.129653              0.117048   \n",
       "\n",
       "                             slight                        \n",
       "               raining + high winds raining no high winds  \n",
       "Age_of_Vehicle                                             \n",
       "1.0                        0.852539              0.870658  \n",
       "2.0                        0.859785              0.872117  \n",
       "3.0                        0.859841              0.872713  \n",
       "4.0                        0.858916              0.873683  \n",
       "5.0                        0.856029              0.871932  "
      ]
     },
     "execution_count": 61,
     "metadata": {},
     "output_type": "execute_result"
    }
   ],
   "source": [
    "rain_analysis_all = rain_analysis_all.groupby(level=0).sum()\n",
    "rain_analysis_all.head()"
   ]
  },
  {
   "cell_type": "code",
   "execution_count": 62,
   "metadata": {},
   "outputs": [
    {
     "data": {
      "text/plain": [
       "Text(0.5,0,'Age of Vehicle')"
      ]
     },
     "execution_count": 62,
     "metadata": {},
     "output_type": "execute_result"
    },
    {
     "data": {
      "image/png": "[encoded data removed]",
      "text/plain": [
       "<matplotlib.figure.Figure at 0x20519a11cf8>"
      ]
     },
     "metadata": {},
     "output_type": "display_data"
    }
   ],
   "source": [
    "rain_analysis_all.plot(subplots=True, title='Rain Analysis', figsize=(8,8), fontsize=12)\n",
    "plt.ylabel(' % Number of Accidents', fontsize=12)\n",
    "plt.xlabel('Age of Vehicle', fontsize=12)"
   ]
  },
  {
   "cell_type": "markdown",
   "metadata": {},
   "source": [
    "From the plot above you can see that:\n",
    "\n",
    "(i) The most fatal accidents in 'raining + high winds' occur in around ~90 year old vehicles.\n",
    "\n",
    "(ii) The most fatal accidents in 'raining no high winds' occur in around ~60 year old vehicles.\n",
    "\n",
    "(iii) The most serious accidents in 'raining + high winds' occur in around ~30-45 and ~70 year old vehicles.\n",
    "\n",
    "(iv) The most serious accidents in 'raining no high winds' occur in around ~40, ~70 and ~90 year old vehicles.\n",
    "\n",
    "(v) The most slight accidents in 'raining + high winds' occurs in around in around ~0-50 years old vehicles before decreasing significantly.\n",
    "\n",
    "(vi) The most slight accidents in 'raining no high winds' occur across all ages."
   ]
  },
  {
   "cell_type": "markdown",
   "metadata": {},
   "source": [
    "# 7. How did the introduction of modern technologies influence road safety?\n",
    "\n",
    "Finally, we will look at how modern technologies influenced road safety and see if there was a decline or not in the number of road accidents in newer vehicles. In order to analyse this we will look at the numnber of accidents in each year and using the 'Accident_Severity' data see if the was a decline in the number of fatal/serious/slight accidents after the introduction of (e.g): airbags.\n",
    "\n",
    "Again, for this question we are considering an old vehicle to be a vehicle which is 10 years and older.\n",
    "\n",
    "\n",
    "### Groupby\n",
    "Firstly, we will look at the number of accidents in each year. Here we will group the data by 'Year' column which is the year the accident happened. We will then count the number of accidents for each year by using the 'Accident_Index' column. Each row in the 'Accident_Index' represents an accident. Therefore, by counting the number of rows in this column for each year we will get the number of accidents for each year."
   ]
  },
  {
   "cell_type": "markdown",
   "metadata": {},
   "source": [
    "#### Q2A_1"
   ]
  },
  {
   "cell_type": "code",
   "execution_count": 63,
   "metadata": {},
   "outputs": [
    {
     "data": {
      "text/html": [
       "<div>\n",
       "<style scoped>\n",
       "    .dataframe tbody tr th:only-of-type {\n",
       "        vertical-align: middle;\n",
       "    }\n",
       "\n",
       "    .dataframe tbody tr th {\n",
       "        vertical-align: top;\n",
       "    }\n",
       "\n",
       "    .dataframe thead th {\n",
       "        text-align: right;\n",
       "    }\n",
       "</style>\n",
       "<table border=\"1\" class=\"dataframe\">\n",
       "  <thead>\n",
       "    <tr style=\"text-align: right;\">\n",
       "      <th></th>\n",
       "      <th>Accident_Index</th>\n",
       "    </tr>\n",
       "    <tr>\n",
       "      <th>Year</th>\n",
       "      <th></th>\n",
       "    </tr>\n",
       "  </thead>\n",
       "  <tbody>\n",
       "    <tr>\n",
       "      <th>1993</th>\n",
       "      <td>265385</td>\n",
       "    </tr>\n",
       "    <tr>\n",
       "      <th>1994</th>\n",
       "      <td>290820</td>\n",
       "    </tr>\n",
       "    <tr>\n",
       "      <th>1995</th>\n",
       "      <td>281366</td>\n",
       "    </tr>\n",
       "    <tr>\n",
       "      <th>1996</th>\n",
       "      <td>289899</td>\n",
       "    </tr>\n",
       "    <tr>\n",
       "      <th>1997</th>\n",
       "      <td>295800</td>\n",
       "    </tr>\n",
       "    <tr>\n",
       "      <th>1998</th>\n",
       "      <td>293484</td>\n",
       "    </tr>\n",
       "    <tr>\n",
       "      <th>1999</th>\n",
       "      <td>285920</td>\n",
       "    </tr>\n",
       "    <tr>\n",
       "      <th>2000</th>\n",
       "      <td>30631</td>\n",
       "    </tr>\n",
       "  </tbody>\n",
       "</table>\n",
       "</div>"
      ],
      "text/plain": [
       "      Accident_Index\n",
       "Year                \n",
       "1993          265385\n",
       "1994          290820\n",
       "1995          281366\n",
       "1996          289899\n",
       "1997          295800\n",
       "1998          293484\n",
       "1999          285920\n",
       "2000           30631"
      ]
     },
     "execution_count": 63,
     "metadata": {},
     "output_type": "execute_result"
    }
   ],
   "source": [
    "Num_Accidents_Q2A_1 = Q2A_1.groupby('Year')[['Accident_Index']].count()\n",
    "Num_Accidents_Q2A_1"
   ]
  },
  {
   "cell_type": "markdown",
   "metadata": {},
   "source": [
    "#### Q2A_2"
   ]
  },
  {
   "cell_type": "code",
   "execution_count": 64,
   "metadata": {},
   "outputs": [
    {
     "data": {
      "text/html": [
       "<div>\n",
       "<style scoped>\n",
       "    .dataframe tbody tr th:only-of-type {\n",
       "        vertical-align: middle;\n",
       "    }\n",
       "\n",
       "    .dataframe tbody tr th {\n",
       "        vertical-align: top;\n",
       "    }\n",
       "\n",
       "    .dataframe thead th {\n",
       "        text-align: right;\n",
       "    }\n",
       "</style>\n",
       "<table border=\"1\" class=\"dataframe\">\n",
       "  <thead>\n",
       "    <tr style=\"text-align: right;\">\n",
       "      <th></th>\n",
       "      <th>Accident_Index</th>\n",
       "    </tr>\n",
       "    <tr>\n",
       "      <th>Year</th>\n",
       "      <th></th>\n",
       "    </tr>\n",
       "  </thead>\n",
       "  <tbody>\n",
       "    <tr>\n",
       "      <th>2000</th>\n",
       "      <td>257177</td>\n",
       "    </tr>\n",
       "    <tr>\n",
       "      <th>2001</th>\n",
       "      <td>277446</td>\n",
       "    </tr>\n",
       "    <tr>\n",
       "      <th>2002</th>\n",
       "      <td>240913</td>\n",
       "    </tr>\n",
       "    <tr>\n",
       "      <th>2003</th>\n",
       "      <td>215709</td>\n",
       "    </tr>\n",
       "    <tr>\n",
       "      <th>2004</th>\n",
       "      <td>251531</td>\n",
       "    </tr>\n",
       "  </tbody>\n",
       "</table>\n",
       "</div>"
      ],
      "text/plain": [
       "      Accident_Index\n",
       "Year                \n",
       "2000          257177\n",
       "2001          277446\n",
       "2002          240913\n",
       "2003          215709\n",
       "2004          251531"
      ]
     },
     "execution_count": 64,
     "metadata": {},
     "output_type": "execute_result"
    }
   ],
   "source": [
    "Num_Accidents_Q2A_2 = Q2A_2.groupby('Year')[['Accident_Index']].count()\n",
    "Num_Accidents_Q2A_2"
   ]
  },
  {
   "cell_type": "markdown",
   "metadata": {},
   "source": [
    "#### Q2A_3"
   ]
  },
  {
   "cell_type": "code",
   "execution_count": 65,
   "metadata": {},
   "outputs": [
    {
     "data": {
      "text/html": [
       "<div>\n",
       "<style scoped>\n",
       "    .dataframe tbody tr th:only-of-type {\n",
       "        vertical-align: middle;\n",
       "    }\n",
       "\n",
       "    .dataframe tbody tr th {\n",
       "        vertical-align: top;\n",
       "    }\n",
       "\n",
       "    .dataframe thead th {\n",
       "        text-align: right;\n",
       "    }\n",
       "</style>\n",
       "<table border=\"1\" class=\"dataframe\">\n",
       "  <thead>\n",
       "    <tr style=\"text-align: right;\">\n",
       "      <th></th>\n",
       "      <th>Accident_Index</th>\n",
       "    </tr>\n",
       "    <tr>\n",
       "      <th>Year</th>\n",
       "      <th></th>\n",
       "    </tr>\n",
       "  </thead>\n",
       "  <tbody>\n",
       "    <tr>\n",
       "      <th>2005</th>\n",
       "      <td>229743</td>\n",
       "    </tr>\n",
       "    <tr>\n",
       "      <th>2006</th>\n",
       "      <td>218496</td>\n",
       "    </tr>\n",
       "    <tr>\n",
       "      <th>2007</th>\n",
       "      <td>230718</td>\n",
       "    </tr>\n",
       "    <tr>\n",
       "      <th>2008</th>\n",
       "      <td>206587</td>\n",
       "    </tr>\n",
       "    <tr>\n",
       "      <th>2009</th>\n",
       "      <td>213216</td>\n",
       "    </tr>\n",
       "    <tr>\n",
       "      <th>2010</th>\n",
       "      <td>200825</td>\n",
       "    </tr>\n",
       "    <tr>\n",
       "      <th>2011</th>\n",
       "      <td>192934</td>\n",
       "    </tr>\n",
       "    <tr>\n",
       "      <th>2012</th>\n",
       "      <td>183604</td>\n",
       "    </tr>\n",
       "    <tr>\n",
       "      <th>2013</th>\n",
       "      <td>175107</td>\n",
       "    </tr>\n",
       "    <tr>\n",
       "      <th>2014</th>\n",
       "      <td>184814</td>\n",
       "    </tr>\n",
       "    <tr>\n",
       "      <th>2015</th>\n",
       "      <td>146321</td>\n",
       "    </tr>\n",
       "    <tr>\n",
       "      <th>2016</th>\n",
       "      <td>172705</td>\n",
       "    </tr>\n",
       "  </tbody>\n",
       "</table>\n",
       "</div>"
      ],
      "text/plain": [
       "      Accident_Index\n",
       "Year                \n",
       "2005          229743\n",
       "2006          218496\n",
       "2007          230718\n",
       "2008          206587\n",
       "2009          213216\n",
       "2010          200825\n",
       "2011          192934\n",
       "2012          183604\n",
       "2013          175107\n",
       "2014          184814\n",
       "2015          146321\n",
       "2016          172705"
      ]
     },
     "execution_count": 65,
     "metadata": {},
     "output_type": "execute_result"
    }
   ],
   "source": [
    "Num_Accidents_Q2A_3 = Q2A_3.groupby('Year')[['Accident_Index']].count()\n",
    "Num_Accidents_Q2A_3"
   ]
  },
  {
   "cell_type": "markdown",
   "metadata": {},
   "source": [
    "### Aggregate Results\n",
    "\n",
    "Below we will create a new dataframe containing the number of accidents which have occurred in each year for all of our 3 dataframes created above. \n",
    "\n",
    "We will do this by concatenating the 3 dataframes and grouping the data by 'Year' (year in which accident happened) and sum the values in each group to get the total number of accidents for each year.\n",
    "\n",
    "We will also rename the 'Accident_Index' column to 'Accident_Count' as the column contains the number of accidents for each year."
   ]
  },
  {
   "cell_type": "code",
   "execution_count": 66,
   "metadata": {
    "scrolled": true
   },
   "outputs": [
    {
     "data": {
      "text/html": [
       "<div>\n",
       "<style scoped>\n",
       "    .dataframe tbody tr th:only-of-type {\n",
       "        vertical-align: middle;\n",
       "    }\n",
       "\n",
       "    .dataframe tbody tr th {\n",
       "        vertical-align: top;\n",
       "    }\n",
       "\n",
       "    .dataframe thead th {\n",
       "        text-align: right;\n",
       "    }\n",
       "</style>\n",
       "<table border=\"1\" class=\"dataframe\">\n",
       "  <thead>\n",
       "    <tr style=\"text-align: right;\">\n",
       "      <th></th>\n",
       "      <th>Accident_Count</th>\n",
       "    </tr>\n",
       "    <tr>\n",
       "      <th>Year</th>\n",
       "      <th></th>\n",
       "    </tr>\n",
       "  </thead>\n",
       "  <tbody>\n",
       "    <tr>\n",
       "      <th>1993</th>\n",
       "      <td>265385</td>\n",
       "    </tr>\n",
       "    <tr>\n",
       "      <th>1994</th>\n",
       "      <td>290820</td>\n",
       "    </tr>\n",
       "    <tr>\n",
       "      <th>1995</th>\n",
       "      <td>281366</td>\n",
       "    </tr>\n",
       "    <tr>\n",
       "      <th>1996</th>\n",
       "      <td>289899</td>\n",
       "    </tr>\n",
       "    <tr>\n",
       "      <th>1997</th>\n",
       "      <td>295800</td>\n",
       "    </tr>\n",
       "    <tr>\n",
       "      <th>1998</th>\n",
       "      <td>293484</td>\n",
       "    </tr>\n",
       "    <tr>\n",
       "      <th>1999</th>\n",
       "      <td>285920</td>\n",
       "    </tr>\n",
       "    <tr>\n",
       "      <th>2000</th>\n",
       "      <td>287808</td>\n",
       "    </tr>\n",
       "    <tr>\n",
       "      <th>2001</th>\n",
       "      <td>277446</td>\n",
       "    </tr>\n",
       "    <tr>\n",
       "      <th>2002</th>\n",
       "      <td>240913</td>\n",
       "    </tr>\n",
       "    <tr>\n",
       "      <th>2003</th>\n",
       "      <td>215709</td>\n",
       "    </tr>\n",
       "    <tr>\n",
       "      <th>2004</th>\n",
       "      <td>251531</td>\n",
       "    </tr>\n",
       "    <tr>\n",
       "      <th>2005</th>\n",
       "      <td>229743</td>\n",
       "    </tr>\n",
       "    <tr>\n",
       "      <th>2006</th>\n",
       "      <td>218496</td>\n",
       "    </tr>\n",
       "    <tr>\n",
       "      <th>2007</th>\n",
       "      <td>230718</td>\n",
       "    </tr>\n",
       "    <tr>\n",
       "      <th>2008</th>\n",
       "      <td>206587</td>\n",
       "    </tr>\n",
       "    <tr>\n",
       "      <th>2009</th>\n",
       "      <td>213216</td>\n",
       "    </tr>\n",
       "    <tr>\n",
       "      <th>2010</th>\n",
       "      <td>200825</td>\n",
       "    </tr>\n",
       "    <tr>\n",
       "      <th>2011</th>\n",
       "      <td>192934</td>\n",
       "    </tr>\n",
       "    <tr>\n",
       "      <th>2012</th>\n",
       "      <td>183604</td>\n",
       "    </tr>\n",
       "    <tr>\n",
       "      <th>2013</th>\n",
       "      <td>175107</td>\n",
       "    </tr>\n",
       "    <tr>\n",
       "      <th>2014</th>\n",
       "      <td>184814</td>\n",
       "    </tr>\n",
       "    <tr>\n",
       "      <th>2015</th>\n",
       "      <td>146321</td>\n",
       "    </tr>\n",
       "    <tr>\n",
       "      <th>2016</th>\n",
       "      <td>172705</td>\n",
       "    </tr>\n",
       "  </tbody>\n",
       "</table>\n",
       "</div>"
      ],
      "text/plain": [
       "      Accident_Count\n",
       "Year                \n",
       "1993          265385\n",
       "1994          290820\n",
       "1995          281366\n",
       "1996          289899\n",
       "1997          295800\n",
       "1998          293484\n",
       "1999          285920\n",
       "2000          287808\n",
       "2001          277446\n",
       "2002          240913\n",
       "2003          215709\n",
       "2004          251531\n",
       "2005          229743\n",
       "2006          218496\n",
       "2007          230718\n",
       "2008          206587\n",
       "2009          213216\n",
       "2010          200825\n",
       "2011          192934\n",
       "2012          183604\n",
       "2013          175107\n",
       "2014          184814\n",
       "2015          146321\n",
       "2016          172705"
      ]
     },
     "execution_count": 66,
     "metadata": {},
     "output_type": "execute_result"
    }
   ],
   "source": [
    "all_num_accidents_groups = pd.concat([Num_Accidents_Q2A_1, Num_Accidents_Q2A_2, Num_Accidents_Q2A_3]).groupby(level=0).sum()\n",
    "all_num_accidents_groups = all_num_accidents_groups.rename(columns={'Accident_Index': 'Accident_Count'})\n",
    "all_num_accidents_groups"
   ]
  },
  {
   "cell_type": "markdown",
   "metadata": {},
   "source": [
    "You can see in the follow graph that there is a decline in the number of accidents in recent years suggesting that perhaps new technologies have caused there to be less accidents overall."
   ]
  },
  {
   "cell_type": "code",
   "execution_count": 67,
   "metadata": {},
   "outputs": [
    {
     "data": {
      "text/plain": [
       "Text(0.5,0,'Year')"
      ]
     },
     "execution_count": 67,
     "metadata": {},
     "output_type": "execute_result"
    },
    {
     "data": {
      "image/png": "[encoded data removed]",
      "text/plain": [
       "<matplotlib.figure.Figure at 0x20519c3fc88>"
      ]
     },
     "metadata": {},
     "output_type": "display_data"
    }
   ],
   "source": [
    "all_num_accidents_groups.plot(title='Number of Accidents - 1993-2016', figsize=(8,8), fontsize=12)\n",
    "plt.ylabel('Number of Accidents', fontsize=12)\n",
    "plt.xlabel('Year', fontsize=12)"
   ]
  },
  {
   "cell_type": "markdown",
   "metadata": {},
   "source": [
    "Next, we will specifically look at some safety features of vehicles. Where possibly we will look at the year in which it became compulsory by law, othterwise we will look at the year in which it was introduced to the market.\n",
    "\n",
    "For each feature we will look at the number of fatal/serious/slight accidents over the years and see if there was a decrease in the number of these after the year in which it was compulsory/introduced."
   ]
  },
  {
   "cell_type": "markdown",
   "metadata": {},
   "source": [
    "## 7.1 \n",
    "## Airbags \n",
    "* Airbags became a compulsory feature in the EU in 2004.\n",
    "\n",
    "Here we will specifically look at the years around when airbags were introduced and find if there were less fatal accidents.\n",
    "\n",
    "### Groupby\n",
    "Firstly, we will group the accidents by the 'Year' which is the year in which the accident happened. We will then get the value_counts for the 'Accident_Severity' in each of the groups to get the number of slight, serious and fatal accidents in each year. "
   ]
  },
  {
   "cell_type": "code",
   "execution_count": 68,
   "metadata": {
    "collapsed": true
   },
   "outputs": [],
   "source": [
    "Accident_Severity_airbags1 = Q2A_1.groupby('Year')['Accident_Severity'].value_counts()\n",
    "Accident_Severity_airbags2 = Q2A_2.groupby('Year')['Accident_Severity'].value_counts()\n",
    "Accident_Severity_airbags3 = Q2A_3.groupby('Year')['Accident_Severity'].value_counts()"
   ]
  },
  {
   "cell_type": "code",
   "execution_count": 69,
   "metadata": {},
   "outputs": [
    {
     "data": {
      "text/plain": [
       "Year  Accident_Severity\n",
       "1993  slight               219578\n",
       "      serious               41604\n",
       "      fatal                  4203\n",
       "1994  slight               240869\n",
       "      serious               45761\n",
       "Name: Accident_Severity, dtype: int64"
      ]
     },
     "execution_count": 69,
     "metadata": {},
     "output_type": "execute_result"
    }
   ],
   "source": [
    "Accident_Severity_airbags1.head()"
   ]
  },
  {
   "cell_type": "markdown",
   "metadata": {},
   "source": [
    " Next we will unstack to get  the data in the format that we want."
   ]
  },
  {
   "cell_type": "code",
   "execution_count": 70,
   "metadata": {},
   "outputs": [
    {
     "data": {
      "text/html": [
       "<div>\n",
       "<style scoped>\n",
       "    .dataframe tbody tr th:only-of-type {\n",
       "        vertical-align: middle;\n",
       "    }\n",
       "\n",
       "    .dataframe tbody tr th {\n",
       "        vertical-align: top;\n",
       "    }\n",
       "\n",
       "    .dataframe thead th {\n",
       "        text-align: right;\n",
       "    }\n",
       "</style>\n",
       "<table border=\"1\" class=\"dataframe\">\n",
       "  <thead>\n",
       "    <tr style=\"text-align: right;\">\n",
       "      <th>Accident_Severity</th>\n",
       "      <th>fatal</th>\n",
       "      <th>serious</th>\n",
       "      <th>slight</th>\n",
       "    </tr>\n",
       "    <tr>\n",
       "      <th>Year</th>\n",
       "      <th></th>\n",
       "      <th></th>\n",
       "      <th></th>\n",
       "    </tr>\n",
       "  </thead>\n",
       "  <tbody>\n",
       "    <tr>\n",
       "      <th>1993</th>\n",
       "      <td>4203</td>\n",
       "      <td>41604</td>\n",
       "      <td>219578</td>\n",
       "    </tr>\n",
       "    <tr>\n",
       "      <th>1994</th>\n",
       "      <td>4190</td>\n",
       "      <td>45761</td>\n",
       "      <td>240869</td>\n",
       "    </tr>\n",
       "    <tr>\n",
       "      <th>1995</th>\n",
       "      <td>3973</td>\n",
       "      <td>43948</td>\n",
       "      <td>233445</td>\n",
       "    </tr>\n",
       "    <tr>\n",
       "      <th>1996</th>\n",
       "      <td>3904</td>\n",
       "      <td>42653</td>\n",
       "      <td>243342</td>\n",
       "    </tr>\n",
       "    <tr>\n",
       "      <th>1997</th>\n",
       "      <td>4050</td>\n",
       "      <td>41817</td>\n",
       "      <td>249933</td>\n",
       "    </tr>\n",
       "  </tbody>\n",
       "</table>\n",
       "</div>"
      ],
      "text/plain": [
       "Accident_Severity  fatal  serious  slight\n",
       "Year                                     \n",
       "1993                4203    41604  219578\n",
       "1994                4190    45761  240869\n",
       "1995                3973    43948  233445\n",
       "1996                3904    42653  243342\n",
       "1997                4050    41817  249933"
      ]
     },
     "execution_count": 70,
     "metadata": {},
     "output_type": "execute_result"
    }
   ],
   "source": [
    "Accident_Severity_airbags1 = Accident_Severity_airbags1.unstack()\n",
    "Accident_Severity_airbags2 = Accident_Severity_airbags2.unstack()\n",
    "Accident_Severity_airbags3 = Accident_Severity_airbags3.unstack()\n",
    "Accident_Severity_airbags1.head()"
   ]
  },
  {
   "cell_type": "markdown",
   "metadata": {},
   "source": [
    "### Aggregate Results\n",
    "\n",
    "Below we will create a new dataframe containing the number of fatal, serious, slight accidents which have occurred in each year for all of our 3 dataframes created above. \n",
    "\n",
    "We will do this by concatenating the 3 dataframes and grouping the data by 'Accident_Severity' columns (fatal, serious, slight) and sum the values in each group for each row in the dataframe to get the total number of fatal, serious, slight accidents for each year."
   ]
  },
  {
   "cell_type": "code",
   "execution_count": 71,
   "metadata": {},
   "outputs": [
    {
     "data": {
      "text/html": [
       "<div>\n",
       "<style scoped>\n",
       "    .dataframe tbody tr th:only-of-type {\n",
       "        vertical-align: middle;\n",
       "    }\n",
       "\n",
       "    .dataframe tbody tr th {\n",
       "        vertical-align: top;\n",
       "    }\n",
       "\n",
       "    .dataframe thead th {\n",
       "        text-align: right;\n",
       "    }\n",
       "</style>\n",
       "<table border=\"1\" class=\"dataframe\">\n",
       "  <thead>\n",
       "    <tr style=\"text-align: right;\">\n",
       "      <th>Accident_Severity</th>\n",
       "      <th>fatal</th>\n",
       "      <th>serious</th>\n",
       "      <th>slight</th>\n",
       "      <th>fatal</th>\n",
       "      <th>serious</th>\n",
       "      <th>slight</th>\n",
       "      <th>fatal</th>\n",
       "      <th>serious</th>\n",
       "      <th>slight</th>\n",
       "    </tr>\n",
       "    <tr>\n",
       "      <th>Year</th>\n",
       "      <th></th>\n",
       "      <th></th>\n",
       "      <th></th>\n",
       "      <th></th>\n",
       "      <th></th>\n",
       "      <th></th>\n",
       "      <th></th>\n",
       "      <th></th>\n",
       "      <th></th>\n",
       "    </tr>\n",
       "  </thead>\n",
       "  <tbody>\n",
       "    <tr>\n",
       "      <th>1993</th>\n",
       "      <td>4203.0</td>\n",
       "      <td>41604.0</td>\n",
       "      <td>219578.0</td>\n",
       "      <td>NaN</td>\n",
       "      <td>NaN</td>\n",
       "      <td>NaN</td>\n",
       "      <td>NaN</td>\n",
       "      <td>NaN</td>\n",
       "      <td>NaN</td>\n",
       "    </tr>\n",
       "    <tr>\n",
       "      <th>1994</th>\n",
       "      <td>4190.0</td>\n",
       "      <td>45761.0</td>\n",
       "      <td>240869.0</td>\n",
       "      <td>NaN</td>\n",
       "      <td>NaN</td>\n",
       "      <td>NaN</td>\n",
       "      <td>NaN</td>\n",
       "      <td>NaN</td>\n",
       "      <td>NaN</td>\n",
       "    </tr>\n",
       "    <tr>\n",
       "      <th>1995</th>\n",
       "      <td>3973.0</td>\n",
       "      <td>43948.0</td>\n",
       "      <td>233445.0</td>\n",
       "      <td>NaN</td>\n",
       "      <td>NaN</td>\n",
       "      <td>NaN</td>\n",
       "      <td>NaN</td>\n",
       "      <td>NaN</td>\n",
       "      <td>NaN</td>\n",
       "    </tr>\n",
       "    <tr>\n",
       "      <th>1996</th>\n",
       "      <td>3904.0</td>\n",
       "      <td>42653.0</td>\n",
       "      <td>243342.0</td>\n",
       "      <td>NaN</td>\n",
       "      <td>NaN</td>\n",
       "      <td>NaN</td>\n",
       "      <td>NaN</td>\n",
       "      <td>NaN</td>\n",
       "      <td>NaN</td>\n",
       "    </tr>\n",
       "    <tr>\n",
       "      <th>1997</th>\n",
       "      <td>4050.0</td>\n",
       "      <td>41817.0</td>\n",
       "      <td>249933.0</td>\n",
       "      <td>NaN</td>\n",
       "      <td>NaN</td>\n",
       "      <td>NaN</td>\n",
       "      <td>NaN</td>\n",
       "      <td>NaN</td>\n",
       "      <td>NaN</td>\n",
       "    </tr>\n",
       "  </tbody>\n",
       "</table>\n",
       "</div>"
      ],
      "text/plain": [
       "Accident_Severity   fatal  serious    slight  fatal  serious  slight  fatal  \\\n",
       "Year                                                                          \n",
       "1993               4203.0  41604.0  219578.0    NaN      NaN     NaN    NaN   \n",
       "1994               4190.0  45761.0  240869.0    NaN      NaN     NaN    NaN   \n",
       "1995               3973.0  43948.0  233445.0    NaN      NaN     NaN    NaN   \n",
       "1996               3904.0  42653.0  243342.0    NaN      NaN     NaN    NaN   \n",
       "1997               4050.0  41817.0  249933.0    NaN      NaN     NaN    NaN   \n",
       "\n",
       "Accident_Severity  serious  slight  \n",
       "Year                                \n",
       "1993                   NaN     NaN  \n",
       "1994                   NaN     NaN  \n",
       "1995                   NaN     NaN  \n",
       "1996                   NaN     NaN  \n",
       "1997                   NaN     NaN  "
      ]
     },
     "execution_count": 71,
     "metadata": {},
     "output_type": "execute_result"
    }
   ],
   "source": [
    "All_Accident_Severity_airbags = pd.concat([Accident_Severity_airbags1, Accident_Severity_airbags2, Accident_Severity_airbags3], axis=1)\n",
    "All_Accident_Severity_airbags.head()"
   ]
  },
  {
   "cell_type": "code",
   "execution_count": 72,
   "metadata": {},
   "outputs": [
    {
     "data": {
      "text/html": [
       "<div>\n",
       "<style scoped>\n",
       "    .dataframe tbody tr th:only-of-type {\n",
       "        vertical-align: middle;\n",
       "    }\n",
       "\n",
       "    .dataframe tbody tr th {\n",
       "        vertical-align: top;\n",
       "    }\n",
       "\n",
       "    .dataframe thead th {\n",
       "        text-align: right;\n",
       "    }\n",
       "</style>\n",
       "<table border=\"1\" class=\"dataframe\">\n",
       "  <thead>\n",
       "    <tr style=\"text-align: right;\">\n",
       "      <th>Accident_Severity</th>\n",
       "      <th>fatal</th>\n",
       "      <th>serious</th>\n",
       "      <th>slight</th>\n",
       "    </tr>\n",
       "    <tr>\n",
       "      <th>Year</th>\n",
       "      <th></th>\n",
       "      <th></th>\n",
       "      <th></th>\n",
       "    </tr>\n",
       "  </thead>\n",
       "  <tbody>\n",
       "    <tr>\n",
       "      <th>1993</th>\n",
       "      <td>4203.0</td>\n",
       "      <td>41604.0</td>\n",
       "      <td>219578.0</td>\n",
       "    </tr>\n",
       "    <tr>\n",
       "      <th>1994</th>\n",
       "      <td>4190.0</td>\n",
       "      <td>45761.0</td>\n",
       "      <td>240869.0</td>\n",
       "    </tr>\n",
       "    <tr>\n",
       "      <th>1995</th>\n",
       "      <td>3973.0</td>\n",
       "      <td>43948.0</td>\n",
       "      <td>233445.0</td>\n",
       "    </tr>\n",
       "    <tr>\n",
       "      <th>1996</th>\n",
       "      <td>3904.0</td>\n",
       "      <td>42653.0</td>\n",
       "      <td>243342.0</td>\n",
       "    </tr>\n",
       "    <tr>\n",
       "      <th>1997</th>\n",
       "      <td>4050.0</td>\n",
       "      <td>41817.0</td>\n",
       "      <td>249933.0</td>\n",
       "    </tr>\n",
       "  </tbody>\n",
       "</table>\n",
       "</div>"
      ],
      "text/plain": [
       "Accident_Severity   fatal  serious    slight\n",
       "Year                                        \n",
       "1993               4203.0  41604.0  219578.0\n",
       "1994               4190.0  45761.0  240869.0\n",
       "1995               3973.0  43948.0  233445.0\n",
       "1996               3904.0  42653.0  243342.0\n",
       "1997               4050.0  41817.0  249933.0"
      ]
     },
     "execution_count": 72,
     "metadata": {},
     "output_type": "execute_result"
    }
   ],
   "source": [
    "All_Accident_Severity_airbags = All_Accident_Severity_airbags.groupby(All_Accident_Severity_airbags.columns, axis=1).sum()\n",
    "All_Accident_Severity_airbags.head()"
   ]
  },
  {
   "cell_type": "markdown",
   "metadata": {},
   "source": [
    "As airbags became compulsory in 2004 we will look at the years 2000-2008 and see if there was a decline in fatal accidents after 2004."
   ]
  },
  {
   "cell_type": "code",
   "execution_count": 73,
   "metadata": {},
   "outputs": [
    {
     "data": {
      "text/plain": [
       "Int64Index([1993, 1994, 1995, 1996, 1997, 1998, 1999, 2000, 2001, 2002, 2003,\n",
       "            2004, 2005, 2006, 2007, 2008, 2009, 2010, 2011, 2012, 2013, 2014,\n",
       "            2015, 2016],\n",
       "           dtype='int64', name='Year')"
      ]
     },
     "execution_count": 73,
     "metadata": {},
     "output_type": "execute_result"
    }
   ],
   "source": [
    "All_Accident_Severity_airbags.index"
   ]
  },
  {
   "cell_type": "code",
   "execution_count": 74,
   "metadata": {},
   "outputs": [
    {
     "data": {
      "text/html": [
       "<div>\n",
       "<style scoped>\n",
       "    .dataframe tbody tr th:only-of-type {\n",
       "        vertical-align: middle;\n",
       "    }\n",
       "\n",
       "    .dataframe tbody tr th {\n",
       "        vertical-align: top;\n",
       "    }\n",
       "\n",
       "    .dataframe thead th {\n",
       "        text-align: right;\n",
       "    }\n",
       "</style>\n",
       "<table border=\"1\" class=\"dataframe\">\n",
       "  <thead>\n",
       "    <tr style=\"text-align: right;\">\n",
       "      <th>Accident_Severity</th>\n",
       "      <th>fatal</th>\n",
       "      <th>serious</th>\n",
       "      <th>slight</th>\n",
       "    </tr>\n",
       "    <tr>\n",
       "      <th>Year</th>\n",
       "      <th></th>\n",
       "      <th></th>\n",
       "      <th></th>\n",
       "    </tr>\n",
       "  </thead>\n",
       "  <tbody>\n",
       "    <tr>\n",
       "      <th>2000</th>\n",
       "      <td>3851.0</td>\n",
       "      <td>36909.0</td>\n",
       "      <td>247048.0</td>\n",
       "    </tr>\n",
       "    <tr>\n",
       "      <th>2001</th>\n",
       "      <td>3954.0</td>\n",
       "      <td>35359.0</td>\n",
       "      <td>238133.0</td>\n",
       "    </tr>\n",
       "    <tr>\n",
       "      <th>2002</th>\n",
       "      <td>3607.0</td>\n",
       "      <td>30726.0</td>\n",
       "      <td>206580.0</td>\n",
       "    </tr>\n",
       "    <tr>\n",
       "      <th>2003</th>\n",
       "      <td>3497.0</td>\n",
       "      <td>27015.0</td>\n",
       "      <td>185197.0</td>\n",
       "    </tr>\n",
       "    <tr>\n",
       "      <th>2004</th>\n",
       "      <td>3792.0</td>\n",
       "      <td>29877.0</td>\n",
       "      <td>217862.0</td>\n",
       "    </tr>\n",
       "    <tr>\n",
       "      <th>2005</th>\n",
       "      <td>3510.0</td>\n",
       "      <td>26384.0</td>\n",
       "      <td>199849.0</td>\n",
       "    </tr>\n",
       "    <tr>\n",
       "      <th>2006</th>\n",
       "      <td>3564.0</td>\n",
       "      <td>25853.0</td>\n",
       "      <td>189079.0</td>\n",
       "    </tr>\n",
       "    <tr>\n",
       "      <th>2007</th>\n",
       "      <td>3767.0</td>\n",
       "      <td>28227.0</td>\n",
       "      <td>198724.0</td>\n",
       "    </tr>\n",
       "    <tr>\n",
       "      <th>2008</th>\n",
       "      <td>3041.0</td>\n",
       "      <td>25355.0</td>\n",
       "      <td>178191.0</td>\n",
       "    </tr>\n",
       "  </tbody>\n",
       "</table>\n",
       "</div>"
      ],
      "text/plain": [
       "Accident_Severity   fatal  serious    slight\n",
       "Year                                        \n",
       "2000               3851.0  36909.0  247048.0\n",
       "2001               3954.0  35359.0  238133.0\n",
       "2002               3607.0  30726.0  206580.0\n",
       "2003               3497.0  27015.0  185197.0\n",
       "2004               3792.0  29877.0  217862.0\n",
       "2005               3510.0  26384.0  199849.0\n",
       "2006               3564.0  25853.0  189079.0\n",
       "2007               3767.0  28227.0  198724.0\n",
       "2008               3041.0  25355.0  178191.0"
      ]
     },
     "execution_count": 74,
     "metadata": {},
     "output_type": "execute_result"
    }
   ],
   "source": [
    "sub_All_Accident_Severity_airbags = All_Accident_Severity_airbags[All_Accident_Severity_airbags.index >= 2000]\n",
    "sub_All_Accident_Severity_airbags = sub_All_Accident_Severity_airbags[sub_All_Accident_Severity_airbags.index <= 2008]\n",
    "sub_All_Accident_Severity_airbags"
   ]
  },
  {
   "cell_type": "markdown",
   "metadata": {},
   "source": [
    "In the graph below we can see that there was a slight decline in the number of fatal accidents after airbags were introduced but not as much as we had expected."
   ]
  },
  {
   "cell_type": "code",
   "execution_count": 75,
   "metadata": {},
   "outputs": [
    {
     "data": {
      "text/plain": [
       "Text(0.5,0,'Year')"
      ]
     },
     "execution_count": 75,
     "metadata": {},
     "output_type": "execute_result"
    },
    {
     "data": {
      "image/png": "[encoded data removed]",
      "text/plain": [
       "<matplotlib.figure.Figure at 0x20519db6c50>"
      ]
     },
     "metadata": {},
     "output_type": "display_data"
    }
   ],
   "source": [
    "sub_All_Accident_Severity_airbags['fatal'].plot(kind='bar', title='Airbags Analysis - Number of Fatal Accidents', figsize=(8,8), fontsize=12)\n",
    "plt.ylabel('Number of Accidents', fontsize=12)\n",
    "plt.xlabel('Year', fontsize=12)"
   ]
  },
  {
   "cell_type": "markdown",
   "metadata": {},
   "source": [
    "## 7.2 \n",
    "## AEB brakes\n",
    "* Autonomous Emergency Braking (AEB) started to become a feature in vehicles in 2010\n",
    "\n",
    "Here we will specifically look at the years around when AEB brakes were introduced and find if there were less serious accidents.\n",
    "\n",
    "### Groupby\n",
    "Firstly, we will group the accidents by the 'Year' which is the year in which the accident happened. We will then get the value_counts for the 'Accident_Severity' in each of the groups to get the number of slight, serious and fatal accidents in each year."
   ]
  },
  {
   "cell_type": "code",
   "execution_count": 76,
   "metadata": {},
   "outputs": [
    {
     "data": {
      "text/plain": [
       "Year  Accident_Severity\n",
       "1993  slight               219578\n",
       "      serious               41604\n",
       "      fatal                  4203\n",
       "1994  slight               240869\n",
       "      serious               45761\n",
       "Name: Accident_Severity, dtype: int64"
      ]
     },
     "execution_count": 76,
     "metadata": {},
     "output_type": "execute_result"
    }
   ],
   "source": [
    "Accident_Severity_AEB1 = Q2A_1.groupby('Year')['Accident_Severity'].value_counts()\n",
    "Accident_Severity_AEB2 = Q2A_2.groupby('Year')['Accident_Severity'].value_counts()\n",
    "Accident_Severity_AEB3 = Q2A_3.groupby('Year')['Accident_Severity'].value_counts()\n",
    "Accident_Severity_AEB1.head()"
   ]
  },
  {
   "cell_type": "markdown",
   "metadata": {},
   "source": [
    " Next we will unstack to get  the data in the format that we want."
   ]
  },
  {
   "cell_type": "code",
   "execution_count": 77,
   "metadata": {
    "scrolled": true
   },
   "outputs": [
    {
     "data": {
      "text/html": [
       "<div>\n",
       "<style scoped>\n",
       "    .dataframe tbody tr th:only-of-type {\n",
       "        vertical-align: middle;\n",
       "    }\n",
       "\n",
       "    .dataframe tbody tr th {\n",
       "        vertical-align: top;\n",
       "    }\n",
       "\n",
       "    .dataframe thead th {\n",
       "        text-align: right;\n",
       "    }\n",
       "</style>\n",
       "<table border=\"1\" class=\"dataframe\">\n",
       "  <thead>\n",
       "    <tr style=\"text-align: right;\">\n",
       "      <th>Accident_Severity</th>\n",
       "      <th>fatal</th>\n",
       "      <th>serious</th>\n",
       "      <th>slight</th>\n",
       "    </tr>\n",
       "    <tr>\n",
       "      <th>Year</th>\n",
       "      <th></th>\n",
       "      <th></th>\n",
       "      <th></th>\n",
       "    </tr>\n",
       "  </thead>\n",
       "  <tbody>\n",
       "    <tr>\n",
       "      <th>1993</th>\n",
       "      <td>4203</td>\n",
       "      <td>41604</td>\n",
       "      <td>219578</td>\n",
       "    </tr>\n",
       "    <tr>\n",
       "      <th>1994</th>\n",
       "      <td>4190</td>\n",
       "      <td>45761</td>\n",
       "      <td>240869</td>\n",
       "    </tr>\n",
       "    <tr>\n",
       "      <th>1995</th>\n",
       "      <td>3973</td>\n",
       "      <td>43948</td>\n",
       "      <td>233445</td>\n",
       "    </tr>\n",
       "    <tr>\n",
       "      <th>1996</th>\n",
       "      <td>3904</td>\n",
       "      <td>42653</td>\n",
       "      <td>243342</td>\n",
       "    </tr>\n",
       "    <tr>\n",
       "      <th>1997</th>\n",
       "      <td>4050</td>\n",
       "      <td>41817</td>\n",
       "      <td>249933</td>\n",
       "    </tr>\n",
       "  </tbody>\n",
       "</table>\n",
       "</div>"
      ],
      "text/plain": [
       "Accident_Severity  fatal  serious  slight\n",
       "Year                                     \n",
       "1993                4203    41604  219578\n",
       "1994                4190    45761  240869\n",
       "1995                3973    43948  233445\n",
       "1996                3904    42653  243342\n",
       "1997                4050    41817  249933"
      ]
     },
     "execution_count": 77,
     "metadata": {},
     "output_type": "execute_result"
    }
   ],
   "source": [
    "Accident_Severity_AEB1 = Accident_Severity_AEB1.unstack() \n",
    "Accident_Severity_AEB2 = Accident_Severity_AEB2.unstack() \n",
    "Accident_Severity_AEB3 = Accident_Severity_AEB3.unstack() \n",
    "Accident_Severity_AEB1.head()"
   ]
  },
  {
   "cell_type": "markdown",
   "metadata": {},
   "source": [
    "### Aggregate Results\n",
    "\n",
    "Below we will create a new dataframe containing the number of fatal, serious, slight accidents which have occurred in each year for all of our 3 dataframes created above. \n",
    "\n",
    "We will do this by concatenating the 3 dataframes and grouping the data by 'Accident_Severity' columns (fatal, serious, slight) and sum the values in each group for each row in the dataframe to get the total number of fatal, serious, slight accidents for each year."
   ]
  },
  {
   "cell_type": "code",
   "execution_count": 78,
   "metadata": {},
   "outputs": [
    {
     "data": {
      "text/html": [
       "<div>\n",
       "<style scoped>\n",
       "    .dataframe tbody tr th:only-of-type {\n",
       "        vertical-align: middle;\n",
       "    }\n",
       "\n",
       "    .dataframe tbody tr th {\n",
       "        vertical-align: top;\n",
       "    }\n",
       "\n",
       "    .dataframe thead th {\n",
       "        text-align: right;\n",
       "    }\n",
       "</style>\n",
       "<table border=\"1\" class=\"dataframe\">\n",
       "  <thead>\n",
       "    <tr style=\"text-align: right;\">\n",
       "      <th>Accident_Severity</th>\n",
       "      <th>fatal</th>\n",
       "      <th>serious</th>\n",
       "      <th>slight</th>\n",
       "    </tr>\n",
       "    <tr>\n",
       "      <th>Year</th>\n",
       "      <th></th>\n",
       "      <th></th>\n",
       "      <th></th>\n",
       "    </tr>\n",
       "  </thead>\n",
       "  <tbody>\n",
       "    <tr>\n",
       "      <th>1993</th>\n",
       "      <td>4203.0</td>\n",
       "      <td>41604.0</td>\n",
       "      <td>219578.0</td>\n",
       "    </tr>\n",
       "    <tr>\n",
       "      <th>1994</th>\n",
       "      <td>4190.0</td>\n",
       "      <td>45761.0</td>\n",
       "      <td>240869.0</td>\n",
       "    </tr>\n",
       "    <tr>\n",
       "      <th>1995</th>\n",
       "      <td>3973.0</td>\n",
       "      <td>43948.0</td>\n",
       "      <td>233445.0</td>\n",
       "    </tr>\n",
       "    <tr>\n",
       "      <th>1996</th>\n",
       "      <td>3904.0</td>\n",
       "      <td>42653.0</td>\n",
       "      <td>243342.0</td>\n",
       "    </tr>\n",
       "    <tr>\n",
       "      <th>1997</th>\n",
       "      <td>4050.0</td>\n",
       "      <td>41817.0</td>\n",
       "      <td>249933.0</td>\n",
       "    </tr>\n",
       "  </tbody>\n",
       "</table>\n",
       "</div>"
      ],
      "text/plain": [
       "Accident_Severity   fatal  serious    slight\n",
       "Year                                        \n",
       "1993               4203.0  41604.0  219578.0\n",
       "1994               4190.0  45761.0  240869.0\n",
       "1995               3973.0  43948.0  233445.0\n",
       "1996               3904.0  42653.0  243342.0\n",
       "1997               4050.0  41817.0  249933.0"
      ]
     },
     "execution_count": 78,
     "metadata": {},
     "output_type": "execute_result"
    }
   ],
   "source": [
    "All_Accident_Severity_AEB = pd.concat([Accident_Severity_AEB1, Accident_Severity_AEB2, Accident_Severity_AEB3], axis=1)\n",
    "All_Accident_Severity_AEB = All_Accident_Severity_AEB.groupby(All_Accident_Severity_AEB.columns, axis=1).sum()\n",
    "\n",
    "All_Accident_Severity_AEB.head()"
   ]
  },
  {
   "cell_type": "markdown",
   "metadata": {},
   "source": [
    "As AEB brakes first started to be introduced in vehicles in 2010  we will look at the years 2006-2014 and see if there was a decline in serious accidents after 2010."
   ]
  },
  {
   "cell_type": "code",
   "execution_count": 79,
   "metadata": {},
   "outputs": [
    {
     "data": {
      "text/plain": [
       "Int64Index([1993, 1994, 1995, 1996, 1997, 1998, 1999, 2000, 2001, 2002, 2003,\n",
       "            2004, 2005, 2006, 2007, 2008, 2009, 2010, 2011, 2012, 2013, 2014,\n",
       "            2015, 2016],\n",
       "           dtype='int64', name='Year')"
      ]
     },
     "execution_count": 79,
     "metadata": {},
     "output_type": "execute_result"
    }
   ],
   "source": [
    "All_Accident_Severity_AEB.index"
   ]
  },
  {
   "cell_type": "code",
   "execution_count": 80,
   "metadata": {},
   "outputs": [
    {
     "data": {
      "text/html": [
       "<div>\n",
       "<style scoped>\n",
       "    .dataframe tbody tr th:only-of-type {\n",
       "        vertical-align: middle;\n",
       "    }\n",
       "\n",
       "    .dataframe tbody tr th {\n",
       "        vertical-align: top;\n",
       "    }\n",
       "\n",
       "    .dataframe thead th {\n",
       "        text-align: right;\n",
       "    }\n",
       "</style>\n",
       "<table border=\"1\" class=\"dataframe\">\n",
       "  <thead>\n",
       "    <tr style=\"text-align: right;\">\n",
       "      <th>Accident_Severity</th>\n",
       "      <th>fatal</th>\n",
       "      <th>serious</th>\n",
       "      <th>slight</th>\n",
       "    </tr>\n",
       "    <tr>\n",
       "      <th>Year</th>\n",
       "      <th></th>\n",
       "      <th></th>\n",
       "      <th></th>\n",
       "    </tr>\n",
       "  </thead>\n",
       "  <tbody>\n",
       "    <tr>\n",
       "      <th>2006</th>\n",
       "      <td>3564.0</td>\n",
       "      <td>25853.0</td>\n",
       "      <td>189079.0</td>\n",
       "    </tr>\n",
       "    <tr>\n",
       "      <th>2007</th>\n",
       "      <td>3767.0</td>\n",
       "      <td>28227.0</td>\n",
       "      <td>198724.0</td>\n",
       "    </tr>\n",
       "    <tr>\n",
       "      <th>2008</th>\n",
       "      <td>3041.0</td>\n",
       "      <td>25355.0</td>\n",
       "      <td>178191.0</td>\n",
       "    </tr>\n",
       "    <tr>\n",
       "      <th>2009</th>\n",
       "      <td>2778.0</td>\n",
       "      <td>26088.0</td>\n",
       "      <td>184350.0</td>\n",
       "    </tr>\n",
       "    <tr>\n",
       "      <th>2010</th>\n",
       "      <td>2446.0</td>\n",
       "      <td>24077.0</td>\n",
       "      <td>174302.0</td>\n",
       "    </tr>\n",
       "    <tr>\n",
       "      <th>2011</th>\n",
       "      <td>2452.0</td>\n",
       "      <td>24204.0</td>\n",
       "      <td>166278.0</td>\n",
       "    </tr>\n",
       "    <tr>\n",
       "      <th>2012</th>\n",
       "      <td>2179.0</td>\n",
       "      <td>23793.0</td>\n",
       "      <td>157632.0</td>\n",
       "    </tr>\n",
       "    <tr>\n",
       "      <th>2013</th>\n",
       "      <td>2163.0</td>\n",
       "      <td>22394.0</td>\n",
       "      <td>150550.0</td>\n",
       "    </tr>\n",
       "    <tr>\n",
       "      <th>2014</th>\n",
       "      <td>2199.0</td>\n",
       "      <td>23736.0</td>\n",
       "      <td>158879.0</td>\n",
       "    </tr>\n",
       "  </tbody>\n",
       "</table>\n",
       "</div>"
      ],
      "text/plain": [
       "Accident_Severity   fatal  serious    slight\n",
       "Year                                        \n",
       "2006               3564.0  25853.0  189079.0\n",
       "2007               3767.0  28227.0  198724.0\n",
       "2008               3041.0  25355.0  178191.0\n",
       "2009               2778.0  26088.0  184350.0\n",
       "2010               2446.0  24077.0  174302.0\n",
       "2011               2452.0  24204.0  166278.0\n",
       "2012               2179.0  23793.0  157632.0\n",
       "2013               2163.0  22394.0  150550.0\n",
       "2014               2199.0  23736.0  158879.0"
      ]
     },
     "execution_count": 80,
     "metadata": {},
     "output_type": "execute_result"
    }
   ],
   "source": [
    "sub_All_Accident_Severity_AEB = All_Accident_Severity_AEB[All_Accident_Severity_AEB.index >= 2006]\n",
    "sub_All_Accident_Severity_AEB = sub_All_Accident_Severity_AEB[sub_All_Accident_Severity_AEB.index <= 2014]\n",
    "sub_All_Accident_Severity_AEB"
   ]
  },
  {
   "cell_type": "markdown",
   "metadata": {},
   "source": [
    "In the graph below you can see that there is hardly any difference in the number of serious accidents after 2010."
   ]
  },
  {
   "cell_type": "code",
   "execution_count": 81,
   "metadata": {},
   "outputs": [
    {
     "data": {
      "text/plain": [
       "Text(0.5,0,'Year')"
      ]
     },
     "execution_count": 81,
     "metadata": {},
     "output_type": "execute_result"
    },
    {
     "data": {
      "image/png": "[encoded data removed]",
      "text/plain": [
       "<matplotlib.figure.Figure at 0x20519c6a358>"
      ]
     },
     "metadata": {},
     "output_type": "display_data"
    }
   ],
   "source": [
    "sub_All_Accident_Severity_AEB['serious'].plot(kind='bar', title='AEB Brakes Analysis - Number of Serious Accidents', figsize=(8,8), fontsize=12)\n",
    "plt.ylabel('Number of Accidents', fontsize=12)\n",
    "plt.xlabel('Year', fontsize=12)"
   ]
  },
  {
   "cell_type": "markdown",
   "metadata": {},
   "source": [
    "# 8. Saving Data to a Pickle File\n",
    "Here we will save the dataframes needed for our results into a pickle file."
   ]
  },
  {
   "cell_type": "code",
   "execution_count": 82,
   "metadata": {},
   "outputs": [
    {
     "name": "stdout",
     "output_type": "stream",
     "text": [
      "5.79 ms ± 110 µs per loop (mean ± std. dev. of 7 runs, 100 loops each)\n"
     ]
    },
    {
     "data": {
      "text/plain": [
       "<TimeitResult : 5.79 ms ± 110 µs per loop (mean ± std. dev. of 7 runs, 100 loops each)>"
      ]
     },
     "execution_count": 82,
     "metadata": {},
     "output_type": "execute_result"
    }
   ],
   "source": [
    "pickle_save_time = %timeit -o All_Num_Accidents.to_pickle(\"../../data/analysis/400_Analysis_Q2A_All_Num_Accidents.pkl\")\n",
    "\n",
    "pickle_save_time"
   ]
  },
  {
   "cell_type": "code",
   "execution_count": 83,
   "metadata": {},
   "outputs": [
    {
     "name": "stdout",
     "output_type": "stream",
     "text": [
      "6.02 ms ± 438 µs per loop (mean ± std. dev. of 7 runs, 100 loops each)\n"
     ]
    },
    {
     "data": {
      "text/plain": [
       "<TimeitResult : 6.02 ms ± 438 µs per loop (mean ± std. dev. of 7 runs, 100 loops each)>"
      ]
     },
     "execution_count": 83,
     "metadata": {},
     "output_type": "execute_result"
    }
   ],
   "source": [
    "pickle_save_time = %timeit -o All_less_than_or_equal_2004.to_pickle(\"../../data/analysis/400_Analysis_Q2A_All_less_than_or_equal_2004.pkl\")\n",
    "\n",
    "pickle_save_time"
   ]
  },
  {
   "cell_type": "code",
   "execution_count": 84,
   "metadata": {},
   "outputs": [
    {
     "name": "stdout",
     "output_type": "stream",
     "text": [
      "5.97 ms ± 379 µs per loop (mean ± std. dev. of 7 runs, 100 loops each)\n"
     ]
    },
    {
     "data": {
      "text/plain": [
       "<TimeitResult : 5.97 ms ± 379 µs per loop (mean ± std. dev. of 7 runs, 100 loops each)>"
      ]
     },
     "execution_count": 84,
     "metadata": {},
     "output_type": "execute_result"
    }
   ],
   "source": [
    "pickle_save_time = %timeit -o All_greater_than_or_equal_2005.to_pickle(\"../../data/analysis/400_Analysis_Q2A_All_greater_than_or_equal_2005.pkl\")\n",
    "\n",
    "pickle_save_time"
   ]
  },
  {
   "cell_type": "code",
   "execution_count": 85,
   "metadata": {},
   "outputs": [
    {
     "name": "stdout",
     "output_type": "stream",
     "text": [
      "5.38 ms ± 165 µs per loop (mean ± std. dev. of 7 runs, 100 loops each)\n"
     ]
    },
    {
     "data": {
      "text/plain": [
       "<TimeitResult : 5.38 ms ± 165 µs per loop (mean ± std. dev. of 7 runs, 100 loops each)>"
      ]
     },
     "execution_count": 85,
     "metadata": {},
     "output_type": "execute_result"
    }
   ],
   "source": [
    "pickle_save_time = %timeit -o All_Number_of_Casualties.to_pickle(\"../../data/analysis/400_Analysis_Q2A_All_number_of_Casualties.pkl\")\n",
    "\n",
    "pickle_save_time"
   ]
  },
  {
   "cell_type": "code",
   "execution_count": 86,
   "metadata": {},
   "outputs": [
    {
     "name": "stdout",
     "output_type": "stream",
     "text": [
      "5.42 ms ± 130 µs per loop (mean ± std. dev. of 7 runs, 100 loops each)\n"
     ]
    },
    {
     "data": {
      "text/plain": [
       "<TimeitResult : 5.42 ms ± 130 µs per loop (mean ± std. dev. of 7 runs, 100 loops each)>"
      ]
     },
     "execution_count": 86,
     "metadata": {},
     "output_type": "execute_result"
    }
   ],
   "source": [
    "pickle_save_time = %timeit -o norm_All_Accident_Severity_groups.to_pickle(\"../../data/analysis/400_Analysis_Q2A_norm_All_Accident_Severity_groups.pkl\")\n",
    "\n",
    "pickle_save_time"
   ]
  },
  {
   "cell_type": "code",
   "execution_count": 87,
   "metadata": {},
   "outputs": [
    {
     "name": "stdout",
     "output_type": "stream",
     "text": [
      "7.2 ms ± 485 µs per loop (mean ± std. dev. of 7 runs, 100 loops each)\n"
     ]
    },
    {
     "data": {
      "text/plain": [
       "<TimeitResult : 7.2 ms ± 485 µs per loop (mean ± std. dev. of 7 runs, 100 loops each)>"
      ]
     },
     "execution_count": 87,
     "metadata": {},
     "output_type": "execute_result"
    }
   ],
   "source": [
    "pickle_save_time = %timeit -o norm_All_weather_conditions_groups.to_pickle(\"../../data/analysis/400_Analysis_Q2A_norm_All_weather_conditions_groups.pkl\")\n",
    "\n",
    "pickle_save_time"
   ]
  },
  {
   "cell_type": "code",
   "execution_count": 88,
   "metadata": {},
   "outputs": [
    {
     "name": "stdout",
     "output_type": "stream",
     "text": [
      "5.7 ms ± 131 µs per loop (mean ± std. dev. of 7 runs, 100 loops each)\n"
     ]
    },
    {
     "data": {
      "text/plain": [
       "<TimeitResult : 5.7 ms ± 131 µs per loop (mean ± std. dev. of 7 runs, 100 loops each)>"
      ]
     },
     "execution_count": 88,
     "metadata": {},
     "output_type": "execute_result"
    }
   ],
   "source": [
    "pickle_save_time = %timeit -o max_fatal.to_pickle(\"../../data/analysis/400_Analysis_Q2A_max_fatal.pkl\")\n",
    "\n",
    "pickle_save_time"
   ]
  },
  {
   "cell_type": "code",
   "execution_count": 89,
   "metadata": {},
   "outputs": [
    {
     "name": "stdout",
     "output_type": "stream",
     "text": [
      "5.52 ms ± 442 µs per loop (mean ± std. dev. of 7 runs, 100 loops each)\n"
     ]
    },
    {
     "data": {
      "text/plain": [
       "<TimeitResult : 5.52 ms ± 442 µs per loop (mean ± std. dev. of 7 runs, 100 loops each)>"
      ]
     },
     "execution_count": 89,
     "metadata": {},
     "output_type": "execute_result"
    }
   ],
   "source": [
    "pickle_save_time = %timeit -o max_serious.to_pickle(\"../../data/analysis/400_Analysis_Q2A_max_serious.pkl\")\n",
    "\n",
    "pickle_save_time"
   ]
  },
  {
   "cell_type": "code",
   "execution_count": 90,
   "metadata": {},
   "outputs": [
    {
     "name": "stdout",
     "output_type": "stream",
     "text": [
      "7.1 ms ± 994 µs per loop (mean ± std. dev. of 7 runs, 100 loops each)\n"
     ]
    },
    {
     "data": {
      "text/plain": [
       "<TimeitResult : 7.1 ms ± 994 µs per loop (mean ± std. dev. of 7 runs, 100 loops each)>"
      ]
     },
     "execution_count": 90,
     "metadata": {},
     "output_type": "execute_result"
    }
   ],
   "source": [
    "pickle_save_time = %timeit -o max_slight.to_pickle(\"../../data/analysis/400_Analysis_Q2A_max_slight.pkl\")\n",
    "\n",
    "pickle_save_time"
   ]
  },
  {
   "cell_type": "code",
   "execution_count": 91,
   "metadata": {},
   "outputs": [
    {
     "name": "stdout",
     "output_type": "stream",
     "text": [
      "6.31 ms ± 349 µs per loop (mean ± std. dev. of 7 runs, 100 loops each)\n"
     ]
    },
    {
     "data": {
      "text/plain": [
       "<TimeitResult : 6.31 ms ± 349 µs per loop (mean ± std. dev. of 7 runs, 100 loops each)>"
      ]
     },
     "execution_count": 91,
     "metadata": {},
     "output_type": "execute_result"
    }
   ],
   "source": [
    "pickle_save_time = %timeit -o rain_analysis_all.to_pickle(\"../../data/analysis/400_Analysis_Q2A_rain_analysis_all.pkl\")\n",
    "\n",
    "pickle_save_time"
   ]
  },
  {
   "cell_type": "code",
   "execution_count": 92,
   "metadata": {},
   "outputs": [
    {
     "name": "stdout",
     "output_type": "stream",
     "text": [
      "5.34 ms ± 67.3 µs per loop (mean ± std. dev. of 7 runs, 100 loops each)\n"
     ]
    },
    {
     "data": {
      "text/plain": [
       "<TimeitResult : 5.34 ms ± 67.3 µs per loop (mean ± std. dev. of 7 runs, 100 loops each)>"
      ]
     },
     "execution_count": 92,
     "metadata": {},
     "output_type": "execute_result"
    }
   ],
   "source": [
    "pickle_save_time = %timeit -o all_num_accidents_groups.to_pickle(\"../../data/analysis/400_Analysis_Q2A_all_num_accidents_groups.pkl\")\n",
    "\n",
    "pickle_save_time"
   ]
  },
  {
   "cell_type": "code",
   "execution_count": 93,
   "metadata": {},
   "outputs": [
    {
     "name": "stdout",
     "output_type": "stream",
     "text": [
      "6.7 ms ± 611 µs per loop (mean ± std. dev. of 7 runs, 100 loops each)\n"
     ]
    },
    {
     "data": {
      "text/plain": [
       "<TimeitResult : 6.7 ms ± 611 µs per loop (mean ± std. dev. of 7 runs, 100 loops each)>"
      ]
     },
     "execution_count": 93,
     "metadata": {},
     "output_type": "execute_result"
    }
   ],
   "source": [
    "pickle_save_time = %timeit -o All_Accident_Severity_airbags.to_pickle(\"../../data/analysis/400_Analysis_Q2A_All_Accident_Severity_airbags.pkl\")\n",
    "\n",
    "pickle_save_time"
   ]
  },
  {
   "cell_type": "code",
   "execution_count": 94,
   "metadata": {},
   "outputs": [
    {
     "name": "stdout",
     "output_type": "stream",
     "text": [
      "5.9 ms ± 135 µs per loop (mean ± std. dev. of 7 runs, 100 loops each)\n"
     ]
    },
    {
     "data": {
      "text/plain": [
       "<TimeitResult : 5.9 ms ± 135 µs per loop (mean ± std. dev. of 7 runs, 100 loops each)>"
      ]
     },
     "execution_count": 94,
     "metadata": {},
     "output_type": "execute_result"
    }
   ],
   "source": [
    "pickle_save_time = %timeit -o sub_All_Accident_Severity_airbags.to_pickle(\"../../data/analysis/400_Analysis_Q2A_sub_All_Accident_Severity_airbags.pkl\")\n",
    "\n",
    "pickle_save_time"
   ]
  },
  {
   "cell_type": "code",
   "execution_count": 95,
   "metadata": {},
   "outputs": [
    {
     "name": "stdout",
     "output_type": "stream",
     "text": [
      "6.45 ms ± 388 µs per loop (mean ± std. dev. of 7 runs, 100 loops each)\n"
     ]
    },
    {
     "data": {
      "text/plain": [
       "<TimeitResult : 6.45 ms ± 388 µs per loop (mean ± std. dev. of 7 runs, 100 loops each)>"
      ]
     },
     "execution_count": 95,
     "metadata": {},
     "output_type": "execute_result"
    }
   ],
   "source": [
    "pickle_save_time = %timeit -o All_Accident_Severity_AEB.to_pickle(\"../../data/analysis/400_Analysis_Q2A_All_Accident_Severity_AEB.pkl\")\n",
    "\n",
    "pickle_save_time"
   ]
  },
  {
   "cell_type": "code",
   "execution_count": 96,
   "metadata": {},
   "outputs": [
    {
     "name": "stdout",
     "output_type": "stream",
     "text": [
      "5.85 ms ± 76.5 µs per loop (mean ± std. dev. of 7 runs, 100 loops each)\n"
     ]
    },
    {
     "data": {
      "text/plain": [
       "<TimeitResult : 5.85 ms ± 76.5 µs per loop (mean ± std. dev. of 7 runs, 100 loops each)>"
      ]
     },
     "execution_count": 96,
     "metadata": {},
     "output_type": "execute_result"
    }
   ],
   "source": [
    "pickle_save_time = %timeit -o sub_All_Accident_Severity_AEB.to_pickle(\"../../data/analysis/400_Analysis_Q2A_sub_All_Accident_Severity_AEB.pkl\")\n",
    "\n",
    "pickle_save_time"
   ]
  },
  {
   "cell_type": "markdown",
   "metadata": {},
   "source": [
    "# 9. Creating Data Dictionaries\n",
    "Finally, we will create a data dictionary for each pickle file."
   ]
  },
  {
   "cell_type": "code",
   "execution_count": 97,
   "metadata": {},
   "outputs": [
    {
     "data": {
      "text/html": [
       "<div>\n",
       "<style scoped>\n",
       "    .dataframe tbody tr th:only-of-type {\n",
       "        vertical-align: middle;\n",
       "    }\n",
       "\n",
       "    .dataframe tbody tr th {\n",
       "        vertical-align: top;\n",
       "    }\n",
       "\n",
       "    .dataframe thead th {\n",
       "        text-align: right;\n",
       "    }\n",
       "</style>\n",
       "<table border=\"1\" class=\"dataframe\">\n",
       "  <thead>\n",
       "    <tr style=\"text-align: right;\">\n",
       "      <th></th>\n",
       "      <th>count</th>\n",
       "      <th>mean</th>\n",
       "      <th>std</th>\n",
       "      <th>min</th>\n",
       "      <th>25%</th>\n",
       "      <th>50%</th>\n",
       "      <th>75%</th>\n",
       "      <th>max</th>\n",
       "      <th>Missing</th>\n",
       "      <th>%Missing</th>\n",
       "    </tr>\n",
       "  </thead>\n",
       "  <tbody>\n",
       "    <tr>\n",
       "      <th>Accident_Count</th>\n",
       "      <td>100.0</td>\n",
       "      <td>56311.51</td>\n",
       "      <td>137381.636172</td>\n",
       "      <td>1.0</td>\n",
       "      <td>6.0</td>\n",
       "      <td>61.5</td>\n",
       "      <td>1475.0</td>\n",
       "      <td>500406.0</td>\n",
       "      <td>0</td>\n",
       "      <td>0.0</td>\n",
       "    </tr>\n",
       "  </tbody>\n",
       "</table>\n",
       "</div>"
      ],
      "text/plain": [
       "                count      mean            std  min  25%   50%     75%  \\\n",
       "Accident_Count  100.0  56311.51  137381.636172  1.0  6.0  61.5  1475.0   \n",
       "\n",
       "                     max  Missing  %Missing  \n",
       "Accident_Count  500406.0        0       0.0  "
      ]
     },
     "execution_count": 97,
     "metadata": {},
     "output_type": "execute_result"
    }
   ],
   "source": [
    "data_dictionary.save(\n",
    "    '../../data/analysis/400_Analysis_Q2A_All_Num_Accidents.pkl', \n",
    "\n",
    "\"\"\"\\\n",
    "Aggregate raw data for number of accidents for ages of vehicles.\n",
    "\"\"\").head()"
   ]
  },
  {
   "cell_type": "code",
   "execution_count": 98,
   "metadata": {},
   "outputs": [
    {
     "data": {
      "text/html": [
       "<div>\n",
       "<style scoped>\n",
       "    .dataframe tbody tr th:only-of-type {\n",
       "        vertical-align: middle;\n",
       "    }\n",
       "\n",
       "    .dataframe tbody tr th {\n",
       "        vertical-align: top;\n",
       "    }\n",
       "\n",
       "    .dataframe thead th {\n",
       "        text-align: right;\n",
       "    }\n",
       "</style>\n",
       "<table border=\"1\" class=\"dataframe\">\n",
       "  <thead>\n",
       "    <tr style=\"text-align: right;\">\n",
       "      <th></th>\n",
       "      <th>count</th>\n",
       "      <th>mean</th>\n",
       "      <th>std</th>\n",
       "      <th>min</th>\n",
       "      <th>25%</th>\n",
       "      <th>50%</th>\n",
       "      <th>75%</th>\n",
       "      <th>max</th>\n",
       "      <th>Missing</th>\n",
       "      <th>%Missing</th>\n",
       "    </tr>\n",
       "  </thead>\n",
       "  <tbody>\n",
       "    <tr>\n",
       "      <th>Accident_Count</th>\n",
       "      <td>86.0</td>\n",
       "      <td>38093.965116</td>\n",
       "      <td>85893.320134</td>\n",
       "      <td>1.0</td>\n",
       "      <td>3.0</td>\n",
       "      <td>43.0</td>\n",
       "      <td>1694.5</td>\n",
       "      <td>304742.0</td>\n",
       "      <td>0</td>\n",
       "      <td>0.0</td>\n",
       "    </tr>\n",
       "  </tbody>\n",
       "</table>\n",
       "</div>"
      ],
      "text/plain": [
       "                count          mean           std  min  25%   50%     75%  \\\n",
       "Accident_Count   86.0  38093.965116  85893.320134  1.0  3.0  43.0  1694.5   \n",
       "\n",
       "                     max  Missing  %Missing  \n",
       "Accident_Count  304742.0        0       0.0  "
      ]
     },
     "execution_count": 98,
     "metadata": {},
     "output_type": "execute_result"
    }
   ],
   "source": [
    "data_dictionary.save(\n",
    "    '../../data/analysis/400_Analysis_Q2A_All_less_than_or_equal_2004.pkl', \n",
    "\n",
    "\"\"\"\\\n",
    "Aggregate raw data for number of accidents for ages of vehicles between 1993-2004.\n",
    "\"\"\").head()"
   ]
  },
  {
   "cell_type": "code",
   "execution_count": 99,
   "metadata": {},
   "outputs": [
    {
     "data": {
      "text/html": [
       "<div>\n",
       "<style scoped>\n",
       "    .dataframe tbody tr th:only-of-type {\n",
       "        vertical-align: middle;\n",
       "    }\n",
       "\n",
       "    .dataframe tbody tr th {\n",
       "        vertical-align: top;\n",
       "    }\n",
       "\n",
       "    .dataframe thead th {\n",
       "        text-align: right;\n",
       "    }\n",
       "</style>\n",
       "<table border=\"1\" class=\"dataframe\">\n",
       "  <thead>\n",
       "    <tr style=\"text-align: right;\">\n",
       "      <th></th>\n",
       "      <th>count</th>\n",
       "      <th>mean</th>\n",
       "      <th>std</th>\n",
       "      <th>min</th>\n",
       "      <th>25%</th>\n",
       "      <th>50%</th>\n",
       "      <th>75%</th>\n",
       "      <th>max</th>\n",
       "      <th>Missing</th>\n",
       "      <th>%Missing</th>\n",
       "    </tr>\n",
       "  </thead>\n",
       "  <tbody>\n",
       "    <tr>\n",
       "      <th>Accident_Count</th>\n",
       "      <td>97.0</td>\n",
       "      <td>24279.072165</td>\n",
       "      <td>57465.175656</td>\n",
       "      <td>1.0</td>\n",
       "      <td>5.0</td>\n",
       "      <td>50.0</td>\n",
       "      <td>1287.0</td>\n",
       "      <td>195664.0</td>\n",
       "      <td>0</td>\n",
       "      <td>0.0</td>\n",
       "    </tr>\n",
       "  </tbody>\n",
       "</table>\n",
       "</div>"
      ],
      "text/plain": [
       "                count          mean           std  min  25%   50%     75%  \\\n",
       "Accident_Count   97.0  24279.072165  57465.175656  1.0  5.0  50.0  1287.0   \n",
       "\n",
       "                     max  Missing  %Missing  \n",
       "Accident_Count  195664.0        0       0.0  "
      ]
     },
     "execution_count": 99,
     "metadata": {},
     "output_type": "execute_result"
    }
   ],
   "source": [
    "data_dictionary.save(\n",
    "    '../../data/analysis/400_Analysis_Q2A_All_greater_than_or_equal_2005.pkl', \n",
    "\n",
    "\"\"\"\\\n",
    "Aggregate raw data for number of accidents for ages of vehicles between 2005-2016.\n",
    "\"\"\").head()"
   ]
  },
  {
   "cell_type": "code",
   "execution_count": 100,
   "metadata": {},
   "outputs": [
    {
     "data": {
      "text/html": [
       "<div>\n",
       "<style scoped>\n",
       "    .dataframe tbody tr th:only-of-type {\n",
       "        vertical-align: middle;\n",
       "    }\n",
       "\n",
       "    .dataframe tbody tr th {\n",
       "        vertical-align: top;\n",
       "    }\n",
       "\n",
       "    .dataframe thead th {\n",
       "        text-align: right;\n",
       "    }\n",
       "</style>\n",
       "<table border=\"1\" class=\"dataframe\">\n",
       "  <thead>\n",
       "    <tr style=\"text-align: right;\">\n",
       "      <th></th>\n",
       "      <th>count</th>\n",
       "      <th>mean</th>\n",
       "      <th>std</th>\n",
       "      <th>min</th>\n",
       "      <th>25%</th>\n",
       "      <th>50%</th>\n",
       "      <th>75%</th>\n",
       "      <th>max</th>\n",
       "      <th>Missing</th>\n",
       "      <th>%Missing</th>\n",
       "    </tr>\n",
       "  </thead>\n",
       "  <tbody>\n",
       "    <tr>\n",
       "      <th>Number_of_Casualties</th>\n",
       "      <td>100.0</td>\n",
       "      <td>1.196837</td>\n",
       "      <td>0.444531</td>\n",
       "      <td>0.333333</td>\n",
       "      <td>0.983796</td>\n",
       "      <td>1.333333</td>\n",
       "      <td>1.476978</td>\n",
       "      <td>2.241667</td>\n",
       "      <td>0</td>\n",
       "      <td>0.0</td>\n",
       "    </tr>\n",
       "  </tbody>\n",
       "</table>\n",
       "</div>"
      ],
      "text/plain": [
       "                      count      mean       std       min       25%       50%  \\\n",
       "Number_of_Casualties  100.0  1.196837  0.444531  0.333333  0.983796  1.333333   \n",
       "\n",
       "                           75%       max  Missing  %Missing  \n",
       "Number_of_Casualties  1.476978  2.241667        0       0.0  "
      ]
     },
     "execution_count": 100,
     "metadata": {},
     "output_type": "execute_result"
    }
   ],
   "source": [
    "data_dictionary.save(\n",
    "    '../../data/analysis/400_Analysis_Q2A_All_number_of_Casualties.pkl', \n",
    "\n",
    "\"\"\"\\\n",
    "Aggregate raw data for average number of casualties for all vehicle ages.\n",
    "\"\"\").head()"
   ]
  },
  {
   "cell_type": "code",
   "execution_count": 101,
   "metadata": {},
   "outputs": [
    {
     "data": {
      "text/html": [
       "<div>\n",
       "<style scoped>\n",
       "    .dataframe tbody tr th:only-of-type {\n",
       "        vertical-align: middle;\n",
       "    }\n",
       "\n",
       "    .dataframe tbody tr th {\n",
       "        vertical-align: top;\n",
       "    }\n",
       "\n",
       "    .dataframe thead th {\n",
       "        text-align: right;\n",
       "    }\n",
       "</style>\n",
       "<table border=\"1\" class=\"dataframe\">\n",
       "  <thead>\n",
       "    <tr style=\"text-align: right;\">\n",
       "      <th></th>\n",
       "      <th>count</th>\n",
       "      <th>mean</th>\n",
       "      <th>std</th>\n",
       "      <th>min</th>\n",
       "      <th>25%</th>\n",
       "      <th>50%</th>\n",
       "      <th>75%</th>\n",
       "      <th>max</th>\n",
       "      <th>Missing</th>\n",
       "      <th>%Missing</th>\n",
       "    </tr>\n",
       "    <tr>\n",
       "      <th>Accident_Severity</th>\n",
       "      <th></th>\n",
       "      <th></th>\n",
       "      <th></th>\n",
       "      <th></th>\n",
       "      <th></th>\n",
       "      <th></th>\n",
       "      <th></th>\n",
       "      <th></th>\n",
       "      <th></th>\n",
       "      <th></th>\n",
       "    </tr>\n",
       "  </thead>\n",
       "  <tbody>\n",
       "    <tr>\n",
       "      <th>fatal</th>\n",
       "      <td>100.0</td>\n",
       "      <td>0.022617</td>\n",
       "      <td>0.047171</td>\n",
       "      <td>0.0</td>\n",
       "      <td>0.000000</td>\n",
       "      <td>0.013275</td>\n",
       "      <td>0.019914</td>\n",
       "      <td>0.25</td>\n",
       "      <td>0</td>\n",
       "      <td>0.0</td>\n",
       "    </tr>\n",
       "    <tr>\n",
       "      <th>serious</th>\n",
       "      <td>100.0</td>\n",
       "      <td>0.261520</td>\n",
       "      <td>0.223202</td>\n",
       "      <td>0.0</td>\n",
       "      <td>0.134827</td>\n",
       "      <td>0.218148</td>\n",
       "      <td>0.315095</td>\n",
       "      <td>1.00</td>\n",
       "      <td>0</td>\n",
       "      <td>0.0</td>\n",
       "    </tr>\n",
       "    <tr>\n",
       "      <th>slight</th>\n",
       "      <td>100.0</td>\n",
       "      <td>0.715864</td>\n",
       "      <td>0.226522</td>\n",
       "      <td>0.0</td>\n",
       "      <td>0.666667</td>\n",
       "      <td>0.759411</td>\n",
       "      <td>0.849889</td>\n",
       "      <td>1.00</td>\n",
       "      <td>0</td>\n",
       "      <td>0.0</td>\n",
       "    </tr>\n",
       "  </tbody>\n",
       "</table>\n",
       "</div>"
      ],
      "text/plain": [
       "                   count      mean       std  min       25%       50%  \\\n",
       "Accident_Severity                                                       \n",
       "fatal              100.0  0.022617  0.047171  0.0  0.000000  0.013275   \n",
       "serious            100.0  0.261520  0.223202  0.0  0.134827  0.218148   \n",
       "slight             100.0  0.715864  0.226522  0.0  0.666667  0.759411   \n",
       "\n",
       "                        75%   max  Missing  %Missing  \n",
       "Accident_Severity                                     \n",
       "fatal              0.019914  0.25        0       0.0  \n",
       "serious            0.315095  1.00        0       0.0  \n",
       "slight             0.849889  1.00        0       0.0  "
      ]
     },
     "execution_count": 101,
     "metadata": {},
     "output_type": "execute_result"
    }
   ],
   "source": [
    "data_dictionary.save(\n",
    "    '../../data/analysis/400_Analysis_Q2A_norm_All_Accident_Severity_groups.pkl', \n",
    "\n",
    "\"\"\"\\\n",
    "Aggregate raw data for number of fatal, serious and slight accidents for all vehicle ages.\n",
    "\"\"\").head()"
   ]
  },
  {
   "cell_type": "code",
   "execution_count": 102,
   "metadata": {},
   "outputs": [
    {
     "data": {
      "text/html": [
       "<div>\n",
       "<style scoped>\n",
       "    .dataframe tbody tr th:only-of-type {\n",
       "        vertical-align: middle;\n",
       "    }\n",
       "\n",
       "    .dataframe tbody tr th {\n",
       "        vertical-align: top;\n",
       "    }\n",
       "\n",
       "    .dataframe thead th {\n",
       "        text-align: right;\n",
       "    }\n",
       "</style>\n",
       "<table border=\"1\" class=\"dataframe\">\n",
       "  <thead>\n",
       "    <tr style=\"text-align: right;\">\n",
       "      <th></th>\n",
       "      <th>count</th>\n",
       "      <th>mean</th>\n",
       "      <th>std</th>\n",
       "      <th>min</th>\n",
       "      <th>25%</th>\n",
       "      <th>50%</th>\n",
       "      <th>75%</th>\n",
       "      <th>max</th>\n",
       "      <th>Missing</th>\n",
       "      <th>%Missing</th>\n",
       "    </tr>\n",
       "    <tr>\n",
       "      <th>Accident_Severity</th>\n",
       "      <th></th>\n",
       "      <th></th>\n",
       "      <th></th>\n",
       "      <th></th>\n",
       "      <th></th>\n",
       "      <th></th>\n",
       "      <th></th>\n",
       "      <th></th>\n",
       "      <th></th>\n",
       "      <th></th>\n",
       "    </tr>\n",
       "  </thead>\n",
       "  <tbody>\n",
       "    <tr>\n",
       "      <th>fatal</th>\n",
       "      <td>431.0</td>\n",
       "      <td>0.018429</td>\n",
       "      <td>0.061386</td>\n",
       "      <td>0.0</td>\n",
       "      <td>0.000000</td>\n",
       "      <td>0.007792</td>\n",
       "      <td>0.016518</td>\n",
       "      <td>1.0</td>\n",
       "      <td>0</td>\n",
       "      <td>0.0</td>\n",
       "    </tr>\n",
       "    <tr>\n",
       "      <th>serious</th>\n",
       "      <td>431.0</td>\n",
       "      <td>0.190026</td>\n",
       "      <td>0.218051</td>\n",
       "      <td>0.0</td>\n",
       "      <td>0.100702</td>\n",
       "      <td>0.141780</td>\n",
       "      <td>0.208976</td>\n",
       "      <td>1.0</td>\n",
       "      <td>0</td>\n",
       "      <td>0.0</td>\n",
       "    </tr>\n",
       "    <tr>\n",
       "      <th>slight</th>\n",
       "      <td>431.0</td>\n",
       "      <td>0.791545</td>\n",
       "      <td>0.225189</td>\n",
       "      <td>0.0</td>\n",
       "      <td>0.753956</td>\n",
       "      <td>0.843212</td>\n",
       "      <td>0.889130</td>\n",
       "      <td>1.0</td>\n",
       "      <td>0</td>\n",
       "      <td>0.0</td>\n",
       "    </tr>\n",
       "  </tbody>\n",
       "</table>\n",
       "</div>"
      ],
      "text/plain": [
       "                   count      mean       std  min       25%       50%  \\\n",
       "Accident_Severity                                                       \n",
       "fatal              431.0  0.018429  0.061386  0.0  0.000000  0.007792   \n",
       "serious            431.0  0.190026  0.218051  0.0  0.100702  0.141780   \n",
       "slight             431.0  0.791545  0.225189  0.0  0.753956  0.843212   \n",
       "\n",
       "                        75%  max  Missing  %Missing  \n",
       "Accident_Severity                                    \n",
       "fatal              0.016518  1.0        0       0.0  \n",
       "serious            0.208976  1.0        0       0.0  \n",
       "slight             0.889130  1.0        0       0.0  "
      ]
     },
     "execution_count": 102,
     "metadata": {},
     "output_type": "execute_result"
    }
   ],
   "source": [
    "data_dictionary.save(\n",
    "    '../../data/analysis/400_Analysis_Q2A_norm_All_weather_conditions_groups.pkl', \n",
    "\n",
    "\"\"\"\\\n",
    "Aggregate raw data for normalised number of accidents in the different recorded weather conditions for all vehicle ages.\n",
    "\"\"\").head()"
   ]
  },
  {
   "cell_type": "code",
   "execution_count": 103,
   "metadata": {},
   "outputs": [
    {
     "data": {
      "text/html": [
       "<div>\n",
       "<style scoped>\n",
       "    .dataframe tbody tr th:only-of-type {\n",
       "        vertical-align: middle;\n",
       "    }\n",
       "\n",
       "    .dataframe tbody tr th {\n",
       "        vertical-align: top;\n",
       "    }\n",
       "\n",
       "    .dataframe thead th {\n",
       "        text-align: right;\n",
       "    }\n",
       "</style>\n",
       "<table border=\"1\" class=\"dataframe\">\n",
       "  <thead>\n",
       "    <tr style=\"text-align: right;\">\n",
       "      <th></th>\n",
       "      <th>count</th>\n",
       "      <th>mean</th>\n",
       "      <th>std</th>\n",
       "      <th>min</th>\n",
       "      <th>25%</th>\n",
       "      <th>50%</th>\n",
       "      <th>75%</th>\n",
       "      <th>max</th>\n",
       "      <th>Missing</th>\n",
       "      <th>%Missing</th>\n",
       "    </tr>\n",
       "    <tr>\n",
       "      <th>Accident_Severity</th>\n",
       "      <th></th>\n",
       "      <th></th>\n",
       "      <th></th>\n",
       "      <th></th>\n",
       "      <th></th>\n",
       "      <th></th>\n",
       "      <th></th>\n",
       "      <th></th>\n",
       "      <th></th>\n",
       "      <th></th>\n",
       "    </tr>\n",
       "  </thead>\n",
       "  <tbody>\n",
       "    <tr>\n",
       "      <th>fatal</th>\n",
       "      <td>1.0</td>\n",
       "      <td>1.0</td>\n",
       "      <td>NaN</td>\n",
       "      <td>1.0</td>\n",
       "      <td>1.0</td>\n",
       "      <td>1.0</td>\n",
       "      <td>1.0</td>\n",
       "      <td>1.0</td>\n",
       "      <td>0</td>\n",
       "      <td>0.0</td>\n",
       "    </tr>\n",
       "    <tr>\n",
       "      <th>serious</th>\n",
       "      <td>1.0</td>\n",
       "      <td>0.0</td>\n",
       "      <td>NaN</td>\n",
       "      <td>0.0</td>\n",
       "      <td>0.0</td>\n",
       "      <td>0.0</td>\n",
       "      <td>0.0</td>\n",
       "      <td>0.0</td>\n",
       "      <td>0</td>\n",
       "      <td>0.0</td>\n",
       "    </tr>\n",
       "    <tr>\n",
       "      <th>slight</th>\n",
       "      <td>1.0</td>\n",
       "      <td>0.0</td>\n",
       "      <td>NaN</td>\n",
       "      <td>0.0</td>\n",
       "      <td>0.0</td>\n",
       "      <td>0.0</td>\n",
       "      <td>0.0</td>\n",
       "      <td>0.0</td>\n",
       "      <td>0</td>\n",
       "      <td>0.0</td>\n",
       "    </tr>\n",
       "  </tbody>\n",
       "</table>\n",
       "</div>"
      ],
      "text/plain": [
       "                   count  mean  std  min  25%  50%  75%  max  Missing  \\\n",
       "Accident_Severity                                                       \n",
       "fatal                1.0   1.0  NaN  1.0  1.0  1.0  1.0  1.0        0   \n",
       "serious              1.0   0.0  NaN  0.0  0.0  0.0  0.0  0.0        0   \n",
       "slight               1.0   0.0  NaN  0.0  0.0  0.0  0.0  0.0        0   \n",
       "\n",
       "                   %Missing  \n",
       "Accident_Severity            \n",
       "fatal                   0.0  \n",
       "serious                 0.0  \n",
       "slight                  0.0  "
      ]
     },
     "execution_count": 103,
     "metadata": {},
     "output_type": "execute_result"
    }
   ],
   "source": [
    "data_dictionary.save(\n",
    "    '../../data/analysis/400_Analysis_Q2A_max_fatal.pkl', \n",
    "\n",
    "\"\"\"\\\n",
    "Aggregate raw data for the age of vehicle in the weather condition with most fatal accidents.\n",
    "\"\"\").head()"
   ]
  },
  {
   "cell_type": "code",
   "execution_count": 104,
   "metadata": {},
   "outputs": [
    {
     "data": {
      "text/html": [
       "<div>\n",
       "<style scoped>\n",
       "    .dataframe tbody tr th:only-of-type {\n",
       "        vertical-align: middle;\n",
       "    }\n",
       "\n",
       "    .dataframe tbody tr th {\n",
       "        vertical-align: top;\n",
       "    }\n",
       "\n",
       "    .dataframe thead th {\n",
       "        text-align: right;\n",
       "    }\n",
       "</style>\n",
       "<table border=\"1\" class=\"dataframe\">\n",
       "  <thead>\n",
       "    <tr style=\"text-align: right;\">\n",
       "      <th></th>\n",
       "      <th>count</th>\n",
       "      <th>mean</th>\n",
       "      <th>std</th>\n",
       "      <th>min</th>\n",
       "      <th>25%</th>\n",
       "      <th>50%</th>\n",
       "      <th>75%</th>\n",
       "      <th>max</th>\n",
       "      <th>Missing</th>\n",
       "      <th>%Missing</th>\n",
       "    </tr>\n",
       "    <tr>\n",
       "      <th>Accident_Severity</th>\n",
       "      <th></th>\n",
       "      <th></th>\n",
       "      <th></th>\n",
       "      <th></th>\n",
       "      <th></th>\n",
       "      <th></th>\n",
       "      <th></th>\n",
       "      <th></th>\n",
       "      <th></th>\n",
       "      <th></th>\n",
       "    </tr>\n",
       "  </thead>\n",
       "  <tbody>\n",
       "    <tr>\n",
       "      <th>fatal</th>\n",
       "      <td>20.0</td>\n",
       "      <td>0.0</td>\n",
       "      <td>0.0</td>\n",
       "      <td>0.0</td>\n",
       "      <td>0.0</td>\n",
       "      <td>0.0</td>\n",
       "      <td>0.0</td>\n",
       "      <td>0.0</td>\n",
       "      <td>0</td>\n",
       "      <td>0.0</td>\n",
       "    </tr>\n",
       "    <tr>\n",
       "      <th>serious</th>\n",
       "      <td>20.0</td>\n",
       "      <td>1.0</td>\n",
       "      <td>0.0</td>\n",
       "      <td>1.0</td>\n",
       "      <td>1.0</td>\n",
       "      <td>1.0</td>\n",
       "      <td>1.0</td>\n",
       "      <td>1.0</td>\n",
       "      <td>0</td>\n",
       "      <td>0.0</td>\n",
       "    </tr>\n",
       "    <tr>\n",
       "      <th>slight</th>\n",
       "      <td>20.0</td>\n",
       "      <td>0.0</td>\n",
       "      <td>0.0</td>\n",
       "      <td>0.0</td>\n",
       "      <td>0.0</td>\n",
       "      <td>0.0</td>\n",
       "      <td>0.0</td>\n",
       "      <td>0.0</td>\n",
       "      <td>0</td>\n",
       "      <td>0.0</td>\n",
       "    </tr>\n",
       "  </tbody>\n",
       "</table>\n",
       "</div>"
      ],
      "text/plain": [
       "                   count  mean  std  min  25%  50%  75%  max  Missing  \\\n",
       "Accident_Severity                                                       \n",
       "fatal               20.0   0.0  0.0  0.0  0.0  0.0  0.0  0.0        0   \n",
       "serious             20.0   1.0  0.0  1.0  1.0  1.0  1.0  1.0        0   \n",
       "slight              20.0   0.0  0.0  0.0  0.0  0.0  0.0  0.0        0   \n",
       "\n",
       "                   %Missing  \n",
       "Accident_Severity            \n",
       "fatal                   0.0  \n",
       "serious                 0.0  \n",
       "slight                  0.0  "
      ]
     },
     "execution_count": 104,
     "metadata": {},
     "output_type": "execute_result"
    }
   ],
   "source": [
    "data_dictionary.save(\n",
    "    '../../data/analysis/400_Analysis_Q2A_max_serious.pkl', \n",
    "\n",
    "\"\"\"\\\n",
    "Aggregate raw data for for the age of vehicle in the weather condition with most serious accidents.\n",
    "\"\"\").head()"
   ]
  },
  {
   "cell_type": "code",
   "execution_count": 105,
   "metadata": {},
   "outputs": [
    {
     "data": {
      "text/html": [
       "<div>\n",
       "<style scoped>\n",
       "    .dataframe tbody tr th:only-of-type {\n",
       "        vertical-align: middle;\n",
       "    }\n",
       "\n",
       "    .dataframe tbody tr th {\n",
       "        vertical-align: top;\n",
       "    }\n",
       "\n",
       "    .dataframe thead th {\n",
       "        text-align: right;\n",
       "    }\n",
       "</style>\n",
       "<table border=\"1\" class=\"dataframe\">\n",
       "  <thead>\n",
       "    <tr style=\"text-align: right;\">\n",
       "      <th></th>\n",
       "      <th>count</th>\n",
       "      <th>mean</th>\n",
       "      <th>std</th>\n",
       "      <th>min</th>\n",
       "      <th>25%</th>\n",
       "      <th>50%</th>\n",
       "      <th>75%</th>\n",
       "      <th>max</th>\n",
       "      <th>Missing</th>\n",
       "      <th>%Missing</th>\n",
       "    </tr>\n",
       "    <tr>\n",
       "      <th>Accident_Severity</th>\n",
       "      <th></th>\n",
       "      <th></th>\n",
       "      <th></th>\n",
       "      <th></th>\n",
       "      <th></th>\n",
       "      <th></th>\n",
       "      <th></th>\n",
       "      <th></th>\n",
       "      <th></th>\n",
       "      <th></th>\n",
       "    </tr>\n",
       "  </thead>\n",
       "  <tbody>\n",
       "    <tr>\n",
       "      <th>fatal</th>\n",
       "      <td>95.0</td>\n",
       "      <td>0.0</td>\n",
       "      <td>0.0</td>\n",
       "      <td>0.0</td>\n",
       "      <td>0.0</td>\n",
       "      <td>0.0</td>\n",
       "      <td>0.0</td>\n",
       "      <td>0.0</td>\n",
       "      <td>0</td>\n",
       "      <td>0.0</td>\n",
       "    </tr>\n",
       "    <tr>\n",
       "      <th>serious</th>\n",
       "      <td>95.0</td>\n",
       "      <td>0.0</td>\n",
       "      <td>0.0</td>\n",
       "      <td>0.0</td>\n",
       "      <td>0.0</td>\n",
       "      <td>0.0</td>\n",
       "      <td>0.0</td>\n",
       "      <td>0.0</td>\n",
       "      <td>0</td>\n",
       "      <td>0.0</td>\n",
       "    </tr>\n",
       "    <tr>\n",
       "      <th>slight</th>\n",
       "      <td>95.0</td>\n",
       "      <td>1.0</td>\n",
       "      <td>0.0</td>\n",
       "      <td>1.0</td>\n",
       "      <td>1.0</td>\n",
       "      <td>1.0</td>\n",
       "      <td>1.0</td>\n",
       "      <td>1.0</td>\n",
       "      <td>0</td>\n",
       "      <td>0.0</td>\n",
       "    </tr>\n",
       "  </tbody>\n",
       "</table>\n",
       "</div>"
      ],
      "text/plain": [
       "                   count  mean  std  min  25%  50%  75%  max  Missing  \\\n",
       "Accident_Severity                                                       \n",
       "fatal               95.0   0.0  0.0  0.0  0.0  0.0  0.0  0.0        0   \n",
       "serious             95.0   0.0  0.0  0.0  0.0  0.0  0.0  0.0        0   \n",
       "slight              95.0   1.0  0.0  1.0  1.0  1.0  1.0  1.0        0   \n",
       "\n",
       "                   %Missing  \n",
       "Accident_Severity            \n",
       "fatal                   0.0  \n",
       "serious                 0.0  \n",
       "slight                  0.0  "
      ]
     },
     "execution_count": 105,
     "metadata": {},
     "output_type": "execute_result"
    }
   ],
   "source": [
    "data_dictionary.save(\n",
    "    '../../data/analysis/400_Analysis_Q2A_max_slight.pkl', \n",
    "\n",
    "\"\"\"\\\n",
    "Aggregate raw data for for the age of vehicle in the weather condition with most slight accidents.\n",
    "\"\"\").head()"
   ]
  },
  {
   "cell_type": "code",
   "execution_count": 106,
   "metadata": {},
   "outputs": [
    {
     "data": {
      "text/html": [
       "<div>\n",
       "<style scoped>\n",
       "    .dataframe tbody tr th:only-of-type {\n",
       "        vertical-align: middle;\n",
       "    }\n",
       "\n",
       "    .dataframe tbody tr th {\n",
       "        vertical-align: top;\n",
       "    }\n",
       "\n",
       "    .dataframe thead th {\n",
       "        text-align: right;\n",
       "    }\n",
       "</style>\n",
       "<table border=\"1\" class=\"dataframe\">\n",
       "  <thead>\n",
       "    <tr style=\"text-align: right;\">\n",
       "      <th></th>\n",
       "      <th></th>\n",
       "      <th>count</th>\n",
       "      <th>mean</th>\n",
       "      <th>std</th>\n",
       "      <th>min</th>\n",
       "      <th>25%</th>\n",
       "      <th>50%</th>\n",
       "      <th>75%</th>\n",
       "      <th>max</th>\n",
       "      <th>Missing</th>\n",
       "      <th>%Missing</th>\n",
       "    </tr>\n",
       "  </thead>\n",
       "  <tbody>\n",
       "    <tr>\n",
       "      <th rowspan=\"2\" valign=\"top\">fatal</th>\n",
       "      <th>raining + high winds</th>\n",
       "      <td>100.0</td>\n",
       "      <td>0.008444</td>\n",
       "      <td>0.028655</td>\n",
       "      <td>0.0</td>\n",
       "      <td>0.0</td>\n",
       "      <td>0.000000</td>\n",
       "      <td>0.001190</td>\n",
       "      <td>0.25</td>\n",
       "      <td>0</td>\n",
       "      <td>0.0</td>\n",
       "    </tr>\n",
       "    <tr>\n",
       "      <th>raining no high winds</th>\n",
       "      <td>100.0</td>\n",
       "      <td>0.017053</td>\n",
       "      <td>0.100401</td>\n",
       "      <td>0.0</td>\n",
       "      <td>0.0</td>\n",
       "      <td>0.000000</td>\n",
       "      <td>0.010311</td>\n",
       "      <td>1.00</td>\n",
       "      <td>0</td>\n",
       "      <td>0.0</td>\n",
       "    </tr>\n",
       "    <tr>\n",
       "      <th rowspan=\"2\" valign=\"top\">serious</th>\n",
       "      <th>raining + high winds</th>\n",
       "      <td>100.0</td>\n",
       "      <td>0.090805</td>\n",
       "      <td>0.175112</td>\n",
       "      <td>0.0</td>\n",
       "      <td>0.0</td>\n",
       "      <td>0.000000</td>\n",
       "      <td>0.129199</td>\n",
       "      <td>1.00</td>\n",
       "      <td>0</td>\n",
       "      <td>0.0</td>\n",
       "    </tr>\n",
       "    <tr>\n",
       "      <th>raining no high winds</th>\n",
       "      <td>100.0</td>\n",
       "      <td>0.122815</td>\n",
       "      <td>0.194371</td>\n",
       "      <td>0.0</td>\n",
       "      <td>0.0</td>\n",
       "      <td>0.111933</td>\n",
       "      <td>0.148130</td>\n",
       "      <td>1.00</td>\n",
       "      <td>0</td>\n",
       "      <td>0.0</td>\n",
       "    </tr>\n",
       "    <tr>\n",
       "      <th>slight</th>\n",
       "      <th>raining + high winds</th>\n",
       "      <td>100.0</td>\n",
       "      <td>0.370751</td>\n",
       "      <td>0.422578</td>\n",
       "      <td>0.0</td>\n",
       "      <td>0.0</td>\n",
       "      <td>0.000000</td>\n",
       "      <td>0.852912</td>\n",
       "      <td>1.00</td>\n",
       "      <td>0</td>\n",
       "      <td>0.0</td>\n",
       "    </tr>\n",
       "  </tbody>\n",
       "</table>\n",
       "</div>"
      ],
      "text/plain": [
       "                               count      mean       std  min  25%       50%  \\\n",
       "fatal   raining + high winds   100.0  0.008444  0.028655  0.0  0.0  0.000000   \n",
       "        raining no high winds  100.0  0.017053  0.100401  0.0  0.0  0.000000   \n",
       "serious raining + high winds   100.0  0.090805  0.175112  0.0  0.0  0.000000   \n",
       "        raining no high winds  100.0  0.122815  0.194371  0.0  0.0  0.111933   \n",
       "slight  raining + high winds   100.0  0.370751  0.422578  0.0  0.0  0.000000   \n",
       "\n",
       "                                    75%   max  Missing  %Missing  \n",
       "fatal   raining + high winds   0.001190  0.25        0       0.0  \n",
       "        raining no high winds  0.010311  1.00        0       0.0  \n",
       "serious raining + high winds   0.129199  1.00        0       0.0  \n",
       "        raining no high winds  0.148130  1.00        0       0.0  \n",
       "slight  raining + high winds   0.852912  1.00        0       0.0  "
      ]
     },
     "execution_count": 106,
     "metadata": {},
     "output_type": "execute_result"
    }
   ],
   "source": [
    "data_dictionary.save(\n",
    "    '../../data/analysis/400_Analysis_Q2A_rain_analysis_all.pkl', \n",
    "\n",
    "\"\"\"\\\n",
    "Aggregate raw data for all the data related to rainy weather conditions .\n",
    "\"\"\").head()"
   ]
  },
  {
   "cell_type": "code",
   "execution_count": 107,
   "metadata": {},
   "outputs": [
    {
     "data": {
      "text/html": [
       "<div>\n",
       "<style scoped>\n",
       "    .dataframe tbody tr th:only-of-type {\n",
       "        vertical-align: middle;\n",
       "    }\n",
       "\n",
       "    .dataframe tbody tr th {\n",
       "        vertical-align: top;\n",
       "    }\n",
       "\n",
       "    .dataframe thead th {\n",
       "        text-align: right;\n",
       "    }\n",
       "</style>\n",
       "<table border=\"1\" class=\"dataframe\">\n",
       "  <thead>\n",
       "    <tr style=\"text-align: right;\">\n",
       "      <th></th>\n",
       "      <th>count</th>\n",
       "      <th>mean</th>\n",
       "      <th>std</th>\n",
       "      <th>min</th>\n",
       "      <th>25%</th>\n",
       "      <th>50%</th>\n",
       "      <th>75%</th>\n",
       "      <th>max</th>\n",
       "      <th>Missing</th>\n",
       "      <th>%Missing</th>\n",
       "    </tr>\n",
       "  </thead>\n",
       "  <tbody>\n",
       "    <tr>\n",
       "      <th>Accident_Count</th>\n",
       "      <td>24.0</td>\n",
       "      <td>234631.291667</td>\n",
       "      <td>46255.348669</td>\n",
       "      <td>146321.0</td>\n",
       "      <td>198852.25</td>\n",
       "      <td>230230.5</td>\n",
       "      <td>282504.5</td>\n",
       "      <td>295800.0</td>\n",
       "      <td>0</td>\n",
       "      <td>0.0</td>\n",
       "    </tr>\n",
       "  </tbody>\n",
       "</table>\n",
       "</div>"
      ],
      "text/plain": [
       "                count           mean           std       min        25%  \\\n",
       "Accident_Count   24.0  234631.291667  46255.348669  146321.0  198852.25   \n",
       "\n",
       "                     50%       75%       max  Missing  %Missing  \n",
       "Accident_Count  230230.5  282504.5  295800.0        0       0.0  "
      ]
     },
     "execution_count": 107,
     "metadata": {},
     "output_type": "execute_result"
    }
   ],
   "source": [
    "data_dictionary.save(\n",
    "    '../../data/analysis/400_Analysis_Q2A_all_num_accidents_groups.pkl', \n",
    "\n",
    "\"\"\"\\\n",
    "Aggregate raw data for the number of accidents in each year.\n",
    "\"\"\").head()"
   ]
  },
  {
   "cell_type": "code",
   "execution_count": 108,
   "metadata": {},
   "outputs": [
    {
     "data": {
      "text/html": [
       "<div>\n",
       "<style scoped>\n",
       "    .dataframe tbody tr th:only-of-type {\n",
       "        vertical-align: middle;\n",
       "    }\n",
       "\n",
       "    .dataframe tbody tr th {\n",
       "        vertical-align: top;\n",
       "    }\n",
       "\n",
       "    .dataframe thead th {\n",
       "        text-align: right;\n",
       "    }\n",
       "</style>\n",
       "<table border=\"1\" class=\"dataframe\">\n",
       "  <thead>\n",
       "    <tr style=\"text-align: right;\">\n",
       "      <th></th>\n",
       "      <th>count</th>\n",
       "      <th>mean</th>\n",
       "      <th>std</th>\n",
       "      <th>min</th>\n",
       "      <th>25%</th>\n",
       "      <th>50%</th>\n",
       "      <th>75%</th>\n",
       "      <th>max</th>\n",
       "      <th>Missing</th>\n",
       "      <th>%Missing</th>\n",
       "    </tr>\n",
       "    <tr>\n",
       "      <th>Accident_Severity</th>\n",
       "      <th></th>\n",
       "      <th></th>\n",
       "      <th></th>\n",
       "      <th></th>\n",
       "      <th></th>\n",
       "      <th></th>\n",
       "      <th></th>\n",
       "      <th></th>\n",
       "      <th></th>\n",
       "      <th></th>\n",
       "    </tr>\n",
       "  </thead>\n",
       "  <tbody>\n",
       "    <tr>\n",
       "      <th>fatal</th>\n",
       "      <td>24.0</td>\n",
       "      <td>3289.125000</td>\n",
       "      <td>777.077933</td>\n",
       "      <td>1826.0</td>\n",
       "      <td>2450.50</td>\n",
       "      <td>3585.5</td>\n",
       "      <td>3886.75</td>\n",
       "      <td>4203.0</td>\n",
       "      <td>0</td>\n",
       "      <td>0.0</td>\n",
       "    </tr>\n",
       "    <tr>\n",
       "      <th>serious</th>\n",
       "      <td>24.0</td>\n",
       "      <td>31111.625000</td>\n",
       "      <td>8098.814147</td>\n",
       "      <td>18441.0</td>\n",
       "      <td>25067.25</td>\n",
       "      <td>27621.0</td>\n",
       "      <td>37993.25</td>\n",
       "      <td>45761.0</td>\n",
       "      <td>0</td>\n",
       "      <td>0.0</td>\n",
       "    </tr>\n",
       "    <tr>\n",
       "      <th>slight</th>\n",
       "      <td>24.0</td>\n",
       "      <td>200230.541667</td>\n",
       "      <td>38081.669384</td>\n",
       "      <td>126054.0</td>\n",
       "      <td>172296.00</td>\n",
       "      <td>199286.5</td>\n",
       "      <td>238817.00</td>\n",
       "      <td>250132.0</td>\n",
       "      <td>0</td>\n",
       "      <td>0.0</td>\n",
       "    </tr>\n",
       "  </tbody>\n",
       "</table>\n",
       "</div>"
      ],
      "text/plain": [
       "                   count           mean           std       min        25%  \\\n",
       "Accident_Severity                                                            \n",
       "fatal               24.0    3289.125000    777.077933    1826.0    2450.50   \n",
       "serious             24.0   31111.625000   8098.814147   18441.0   25067.25   \n",
       "slight              24.0  200230.541667  38081.669384  126054.0  172296.00   \n",
       "\n",
       "                        50%        75%       max  Missing  %Missing  \n",
       "Accident_Severity                                                    \n",
       "fatal                3585.5    3886.75    4203.0        0       0.0  \n",
       "serious             27621.0   37993.25   45761.0        0       0.0  \n",
       "slight             199286.5  238817.00  250132.0        0       0.0  "
      ]
     },
     "execution_count": 108,
     "metadata": {},
     "output_type": "execute_result"
    }
   ],
   "source": [
    "data_dictionary.save(\n",
    "    '../../data/analysis/400_Analysis_Q2A_All_Accident_Severity_airbags.pkl', \n",
    "\n",
    "\"\"\"\\\n",
    "Aggregate raw data for airbags severity analysis.\n",
    "\"\"\").head()"
   ]
  },
  {
   "cell_type": "code",
   "execution_count": 109,
   "metadata": {},
   "outputs": [
    {
     "data": {
      "text/html": [
       "<div>\n",
       "<style scoped>\n",
       "    .dataframe tbody tr th:only-of-type {\n",
       "        vertical-align: middle;\n",
       "    }\n",
       "\n",
       "    .dataframe tbody tr th {\n",
       "        vertical-align: top;\n",
       "    }\n",
       "\n",
       "    .dataframe thead th {\n",
       "        text-align: right;\n",
       "    }\n",
       "</style>\n",
       "<table border=\"1\" class=\"dataframe\">\n",
       "  <thead>\n",
       "    <tr style=\"text-align: right;\">\n",
       "      <th></th>\n",
       "      <th>count</th>\n",
       "      <th>mean</th>\n",
       "      <th>std</th>\n",
       "      <th>min</th>\n",
       "      <th>25%</th>\n",
       "      <th>50%</th>\n",
       "      <th>75%</th>\n",
       "      <th>max</th>\n",
       "      <th>Missing</th>\n",
       "      <th>%Missing</th>\n",
       "    </tr>\n",
       "    <tr>\n",
       "      <th>Accident_Severity</th>\n",
       "      <th></th>\n",
       "      <th></th>\n",
       "      <th></th>\n",
       "      <th></th>\n",
       "      <th></th>\n",
       "      <th></th>\n",
       "      <th></th>\n",
       "      <th></th>\n",
       "      <th></th>\n",
       "      <th></th>\n",
       "    </tr>\n",
       "  </thead>\n",
       "  <tbody>\n",
       "    <tr>\n",
       "      <th>fatal</th>\n",
       "      <td>9.0</td>\n",
       "      <td>3620.333333</td>\n",
       "      <td>269.695198</td>\n",
       "      <td>3041.0</td>\n",
       "      <td>3510.0</td>\n",
       "      <td>3607.0</td>\n",
       "      <td>3792.0</td>\n",
       "      <td>3954.0</td>\n",
       "      <td>0</td>\n",
       "      <td>0.0</td>\n",
       "    </tr>\n",
       "    <tr>\n",
       "      <th>serious</th>\n",
       "      <td>9.0</td>\n",
       "      <td>29522.777778</td>\n",
       "      <td>4166.061413</td>\n",
       "      <td>25355.0</td>\n",
       "      <td>26384.0</td>\n",
       "      <td>28227.0</td>\n",
       "      <td>30726.0</td>\n",
       "      <td>36909.0</td>\n",
       "      <td>0</td>\n",
       "      <td>0.0</td>\n",
       "    </tr>\n",
       "    <tr>\n",
       "      <th>slight</th>\n",
       "      <td>9.0</td>\n",
       "      <td>206740.333333</td>\n",
       "      <td>23549.891465</td>\n",
       "      <td>178191.0</td>\n",
       "      <td>189079.0</td>\n",
       "      <td>199849.0</td>\n",
       "      <td>217862.0</td>\n",
       "      <td>247048.0</td>\n",
       "      <td>0</td>\n",
       "      <td>0.0</td>\n",
       "    </tr>\n",
       "  </tbody>\n",
       "</table>\n",
       "</div>"
      ],
      "text/plain": [
       "                   count           mean           std       min       25%  \\\n",
       "Accident_Severity                                                           \n",
       "fatal                9.0    3620.333333    269.695198    3041.0    3510.0   \n",
       "serious              9.0   29522.777778   4166.061413   25355.0   26384.0   \n",
       "slight               9.0  206740.333333  23549.891465  178191.0  189079.0   \n",
       "\n",
       "                        50%       75%       max  Missing  %Missing  \n",
       "Accident_Severity                                                   \n",
       "fatal                3607.0    3792.0    3954.0        0       0.0  \n",
       "serious             28227.0   30726.0   36909.0        0       0.0  \n",
       "slight             199849.0  217862.0  247048.0        0       0.0  "
      ]
     },
     "execution_count": 109,
     "metadata": {},
     "output_type": "execute_result"
    }
   ],
   "source": [
    "data_dictionary.save(\n",
    "    '../../data/analysis/400_Analysis_Q2A_sub_All_Accident_Severity_airbags.pkl', \n",
    "\n",
    "\"\"\"\\\n",
    "Aggregate raw data for airbags severity analysis - years surrounding when airbags became compulsory.\n",
    "\"\"\").head()"
   ]
  },
  {
   "cell_type": "code",
   "execution_count": 110,
   "metadata": {},
   "outputs": [
    {
     "data": {
      "text/html": [
       "<div>\n",
       "<style scoped>\n",
       "    .dataframe tbody tr th:only-of-type {\n",
       "        vertical-align: middle;\n",
       "    }\n",
       "\n",
       "    .dataframe tbody tr th {\n",
       "        vertical-align: top;\n",
       "    }\n",
       "\n",
       "    .dataframe thead th {\n",
       "        text-align: right;\n",
       "    }\n",
       "</style>\n",
       "<table border=\"1\" class=\"dataframe\">\n",
       "  <thead>\n",
       "    <tr style=\"text-align: right;\">\n",
       "      <th></th>\n",
       "      <th>count</th>\n",
       "      <th>mean</th>\n",
       "      <th>std</th>\n",
       "      <th>min</th>\n",
       "      <th>25%</th>\n",
       "      <th>50%</th>\n",
       "      <th>75%</th>\n",
       "      <th>max</th>\n",
       "      <th>Missing</th>\n",
       "      <th>%Missing</th>\n",
       "    </tr>\n",
       "    <tr>\n",
       "      <th>Accident_Severity</th>\n",
       "      <th></th>\n",
       "      <th></th>\n",
       "      <th></th>\n",
       "      <th></th>\n",
       "      <th></th>\n",
       "      <th></th>\n",
       "      <th></th>\n",
       "      <th></th>\n",
       "      <th></th>\n",
       "      <th></th>\n",
       "    </tr>\n",
       "  </thead>\n",
       "  <tbody>\n",
       "    <tr>\n",
       "      <th>fatal</th>\n",
       "      <td>24.0</td>\n",
       "      <td>3289.125000</td>\n",
       "      <td>777.077933</td>\n",
       "      <td>1826.0</td>\n",
       "      <td>2450.50</td>\n",
       "      <td>3585.5</td>\n",
       "      <td>3886.75</td>\n",
       "      <td>4203.0</td>\n",
       "      <td>0</td>\n",
       "      <td>0.0</td>\n",
       "    </tr>\n",
       "    <tr>\n",
       "      <th>serious</th>\n",
       "      <td>24.0</td>\n",
       "      <td>31111.625000</td>\n",
       "      <td>8098.814147</td>\n",
       "      <td>18441.0</td>\n",
       "      <td>25067.25</td>\n",
       "      <td>27621.0</td>\n",
       "      <td>37993.25</td>\n",
       "      <td>45761.0</td>\n",
       "      <td>0</td>\n",
       "      <td>0.0</td>\n",
       "    </tr>\n",
       "    <tr>\n",
       "      <th>slight</th>\n",
       "      <td>24.0</td>\n",
       "      <td>200230.541667</td>\n",
       "      <td>38081.669384</td>\n",
       "      <td>126054.0</td>\n",
       "      <td>172296.00</td>\n",
       "      <td>199286.5</td>\n",
       "      <td>238817.00</td>\n",
       "      <td>250132.0</td>\n",
       "      <td>0</td>\n",
       "      <td>0.0</td>\n",
       "    </tr>\n",
       "  </tbody>\n",
       "</table>\n",
       "</div>"
      ],
      "text/plain": [
       "                   count           mean           std       min        25%  \\\n",
       "Accident_Severity                                                            \n",
       "fatal               24.0    3289.125000    777.077933    1826.0    2450.50   \n",
       "serious             24.0   31111.625000   8098.814147   18441.0   25067.25   \n",
       "slight              24.0  200230.541667  38081.669384  126054.0  172296.00   \n",
       "\n",
       "                        50%        75%       max  Missing  %Missing  \n",
       "Accident_Severity                                                    \n",
       "fatal                3585.5    3886.75    4203.0        0       0.0  \n",
       "serious             27621.0   37993.25   45761.0        0       0.0  \n",
       "slight             199286.5  238817.00  250132.0        0       0.0  "
      ]
     },
     "execution_count": 110,
     "metadata": {},
     "output_type": "execute_result"
    }
   ],
   "source": [
    "data_dictionary.save(\n",
    "    '../../data/analysis/400_Analysis_Q2A_All_Accident_Severity_AEB.pkl', \n",
    "\n",
    "\"\"\"\\\n",
    "Aggregate raw data for AEB brakes analysis.\n",
    "\"\"\").head()"
   ]
  },
  {
   "cell_type": "code",
   "execution_count": 111,
   "metadata": {},
   "outputs": [
    {
     "data": {
      "text/html": [
       "<div>\n",
       "<style scoped>\n",
       "    .dataframe tbody tr th:only-of-type {\n",
       "        vertical-align: middle;\n",
       "    }\n",
       "\n",
       "    .dataframe tbody tr th {\n",
       "        vertical-align: top;\n",
       "    }\n",
       "\n",
       "    .dataframe thead th {\n",
       "        text-align: right;\n",
       "    }\n",
       "</style>\n",
       "<table border=\"1\" class=\"dataframe\">\n",
       "  <thead>\n",
       "    <tr style=\"text-align: right;\">\n",
       "      <th></th>\n",
       "      <th>count</th>\n",
       "      <th>mean</th>\n",
       "      <th>std</th>\n",
       "      <th>min</th>\n",
       "      <th>25%</th>\n",
       "      <th>50%</th>\n",
       "      <th>75%</th>\n",
       "      <th>max</th>\n",
       "      <th>Missing</th>\n",
       "      <th>%Missing</th>\n",
       "    </tr>\n",
       "    <tr>\n",
       "      <th>Accident_Severity</th>\n",
       "      <th></th>\n",
       "      <th></th>\n",
       "      <th></th>\n",
       "      <th></th>\n",
       "      <th></th>\n",
       "      <th></th>\n",
       "      <th></th>\n",
       "      <th></th>\n",
       "      <th></th>\n",
       "      <th></th>\n",
       "    </tr>\n",
       "  </thead>\n",
       "  <tbody>\n",
       "    <tr>\n",
       "      <th>fatal</th>\n",
       "      <td>9.0</td>\n",
       "      <td>2732.111111</td>\n",
       "      <td>605.691845</td>\n",
       "      <td>2163.0</td>\n",
       "      <td>2199.0</td>\n",
       "      <td>2452.0</td>\n",
       "      <td>3041.0</td>\n",
       "      <td>3767.0</td>\n",
       "      <td>0</td>\n",
       "      <td>0.0</td>\n",
       "    </tr>\n",
       "    <tr>\n",
       "      <th>serious</th>\n",
       "      <td>9.0</td>\n",
       "      <td>24858.555556</td>\n",
       "      <td>1717.635519</td>\n",
       "      <td>22394.0</td>\n",
       "      <td>23793.0</td>\n",
       "      <td>24204.0</td>\n",
       "      <td>25853.0</td>\n",
       "      <td>28227.0</td>\n",
       "      <td>0</td>\n",
       "      <td>0.0</td>\n",
       "    </tr>\n",
       "    <tr>\n",
       "      <th>slight</th>\n",
       "      <td>9.0</td>\n",
       "      <td>173109.444444</td>\n",
       "      <td>16056.076140</td>\n",
       "      <td>150550.0</td>\n",
       "      <td>158879.0</td>\n",
       "      <td>174302.0</td>\n",
       "      <td>184350.0</td>\n",
       "      <td>198724.0</td>\n",
       "      <td>0</td>\n",
       "      <td>0.0</td>\n",
       "    </tr>\n",
       "  </tbody>\n",
       "</table>\n",
       "</div>"
      ],
      "text/plain": [
       "                   count           mean           std       min       25%  \\\n",
       "Accident_Severity                                                           \n",
       "fatal                9.0    2732.111111    605.691845    2163.0    2199.0   \n",
       "serious              9.0   24858.555556   1717.635519   22394.0   23793.0   \n",
       "slight               9.0  173109.444444  16056.076140  150550.0  158879.0   \n",
       "\n",
       "                        50%       75%       max  Missing  %Missing  \n",
       "Accident_Severity                                                   \n",
       "fatal                2452.0    3041.0    3767.0        0       0.0  \n",
       "serious             24204.0   25853.0   28227.0        0       0.0  \n",
       "slight             174302.0  184350.0  198724.0        0       0.0  "
      ]
     },
     "execution_count": 111,
     "metadata": {},
     "output_type": "execute_result"
    }
   ],
   "source": [
    "data_dictionary.save(\n",
    "    '../../data/analysis/400_Analysis_Q2A_sub_All_Accident_Severity_AEB.pkl', \n",
    "\n",
    "\"\"\"\\\n",
    "Aggregate raw data for AEB brakes severity analysis - years around when they were introduced.\n",
    "\"\"\").head()"
   ]
  },
  {
   "cell_type": "code",
   "execution_count": null,
   "metadata": {
    "collapsed": true
   },
   "outputs": [],
   "source": []
  }
 ],
 "metadata": {
  "kernelspec": {
   "display_name": "Python 3",
   "language": "python",
   "name": "python3"
  },
  "language_info": {
   "codemirror_mode": {
    "name": "ipython",
    "version": 3
   },
   "file_extension": ".py",
   "mimetype": "text/x-python",
   "name": "python",
   "nbconvert_exporter": "python",
   "pygments_lexer": "ipython3",
   "version": "3.6.3"
  }
 },
 "nbformat": 4,
 "nbformat_minor": 2
}
