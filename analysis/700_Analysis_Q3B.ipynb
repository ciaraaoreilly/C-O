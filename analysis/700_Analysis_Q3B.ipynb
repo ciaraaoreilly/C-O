{
 "cells": [
  {
   "cell_type": "markdown",
   "metadata": {},
   "source": [
    "# 700_Analysis_Q3B\n",
    "\n",
    "\n",
    "# _ Question Three: Does Location Impact Road Safety?_\n",
    "\n",
    "## _ (B): Are drivers from lower IMD Decile areas involved in the most road accidents?_\n",
    "\n",
    "\n",
    "## Purpose\n",
    "\n",
    "We will now begin to analyse and explore our newly validated and prepared datasets. In this notebook we will explore whether the IMD Decile of an area of drivers impacts road accident likelihood. In particular, we will analyse whether drivers from 'most' deprived areas are involved in more accidents than drivers from 'least' deprived areas. To do this, we will use our 'Driver_IMD_Decile' column.\n",
    "\n",
    "\n",
    "For the purpose of this research question, we will be using the UK government's IMD Decile metric, guidelines viewable [here](https://assets.publishing.service.gov.uk/government/uploads/system/uploads/attachment_data/file/464430/English_Index_of_Multiple_Deprivation_2015_-_Guidance.pdf)\n",
    "\n",
    "### Notebook Contents:\n",
    "\n",
    "* __1:__ A Closer look at the Data\n",
    "\n",
    "* __2:__ IMD Decile of Driver\n",
    "    * __2.1:__ Simple Bar Chart Analysis\n",
    "    * __2.2:__ Normalising\n",
    "     \n",
    "     \n",
    "* __3:__ Saving to Pickle Files & Creating Data Dictionaries\n",
    "\n",
    "\n",
    "## Datasets\n",
    "\n",
    "* __Input__: \n",
    "\n",
    "* 900_Q3B_final_prep_1.pkl (Fully prepared dataset 1 of UK Road Safety Data from 1999 - 2014, for RQ3(B))\n",
    "\n",
    "\n",
    "* 900_Q3B_final_prep_2.pkl (Fully prepared dataset 2 of UK Road Safety Data from 1999 - 2014, for RQ3(B))\n",
    "\n",
    "\n",
    "* __Output__: \n",
    "\n",
    "* 300_analysis_Q1C_norm_all_IMD.pkl (All IMD_Decile's of drivers for each recorded UK Road Accident 1999 - 2014)"
   ]
  },
  {
   "cell_type": "code",
   "execution_count": 1,
   "metadata": {
    "collapsed": true
   },
   "outputs": [],
   "source": [
    "import os\n",
    "import sys\n",
    "\n",
    "import pandas as pd\n",
    "import numpy as np\n",
    "import matplotlib.pylab as plt\n",
    "import seaborn as sns\n",
    "\n",
    "module_path = os.path.abspath(os.path.join('../../data/..'))\n",
    "if module_path not in sys.path:\n",
    "    sys.path.append(module_path)\n",
    "    \n",
    "from src.helpers import data_dictionary\n",
    "\n",
    "%matplotlib inline"
   ]
  },
  {
   "cell_type": "markdown",
   "metadata": {},
   "source": [
    "Since we have cleaned our initial dataset and saved only the columns which are relevant to this research question in separate pickle files, we will read in these cleaned datasets for the purpose of answering this research question."
   ]
  },
  {
   "cell_type": "code",
   "execution_count": 2,
   "metadata": {},
   "outputs": [
    {
     "data": {
      "text/plain": [
       "(1246275, 16)"
      ]
     },
     "execution_count": 2,
     "metadata": {},
     "output_type": "execute_result"
    }
   ],
   "source": [
    "Q3B_1 = pd.read_pickle('../../data/processed/900_Q3B_final_prep_1.pkl')\n",
    "Q3B_1.shape"
   ]
  },
  {
   "cell_type": "code",
   "execution_count": 3,
   "metadata": {},
   "outputs": [
    {
     "data": {
      "text/plain": [
       "(2133735, 16)"
      ]
     },
     "execution_count": 3,
     "metadata": {},
     "output_type": "execute_result"
    }
   ],
   "source": [
    "Q3B_2 = pd.read_pickle('../../data/processed/900_Q3B_final_prep_2.pkl')\n",
    "Q3B_2.shape"
   ]
  },
  {
   "cell_type": "markdown",
   "metadata": {},
   "source": [
    "## 1.\n",
    "## A Closer Look at the Data"
   ]
  },
  {
   "cell_type": "code",
   "execution_count": 4,
   "metadata": {},
   "outputs": [
    {
     "data": {
      "text/html": [
       "<div>\n",
       "<style scoped>\n",
       "    .dataframe tbody tr th:only-of-type {\n",
       "        vertical-align: middle;\n",
       "    }\n",
       "\n",
       "    .dataframe tbody tr th {\n",
       "        vertical-align: top;\n",
       "    }\n",
       "\n",
       "    .dataframe thead th {\n",
       "        text-align: right;\n",
       "    }\n",
       "</style>\n",
       "<table border=\"1\" class=\"dataframe\">\n",
       "  <thead>\n",
       "    <tr style=\"text-align: right;\">\n",
       "      <th></th>\n",
       "      <th>Accident_Index</th>\n",
       "      <th>Longitude</th>\n",
       "      <th>Latitude</th>\n",
       "      <th>Number_of_Vehicles</th>\n",
       "      <th>Number_of_Casualties</th>\n",
       "      <th>Date</th>\n",
       "      <th>Day_of_Week</th>\n",
       "      <th>Local_Authority_(District)</th>\n",
       "      <th>Special_Conditions_at_Site</th>\n",
       "      <th>Urban_or_Rural_Area</th>\n",
       "      <th>Vehicle_Type</th>\n",
       "      <th>Sex_of_Driver</th>\n",
       "      <th>Driver_IMD_Decile</th>\n",
       "      <th>Date_Day</th>\n",
       "      <th>Month</th>\n",
       "      <th>Year</th>\n",
       "    </tr>\n",
       "  </thead>\n",
       "  <tbody>\n",
       "    <tr>\n",
       "      <th>8521268</th>\n",
       "      <td>1999010SU0945</td>\n",
       "      <td>-0.271752</td>\n",
       "      <td>51.715661</td>\n",
       "      <td>1</td>\n",
       "      <td>1</td>\n",
       "      <td>25/12/1999</td>\n",
       "      <td>sunday</td>\n",
       "      <td>33</td>\n",
       "      <td>none</td>\n",
       "      <td>rural</td>\n",
       "      <td>car</td>\n",
       "      <td>female</td>\n",
       "      <td>most deprived 10%</td>\n",
       "      <td>25</td>\n",
       "      <td>12</td>\n",
       "      <td>1999</td>\n",
       "    </tr>\n",
       "    <tr>\n",
       "      <th>8521270</th>\n",
       "      <td>1999010SU0946</td>\n",
       "      <td>-0.239977</td>\n",
       "      <td>51.695136</td>\n",
       "      <td>2</td>\n",
       "      <td>1</td>\n",
       "      <td>17/12/1999</td>\n",
       "      <td>saturday</td>\n",
       "      <td>33</td>\n",
       "      <td>none</td>\n",
       "      <td>rural</td>\n",
       "      <td>car</td>\n",
       "      <td>male</td>\n",
       "      <td>most deprived 40-50%</td>\n",
       "      <td>17</td>\n",
       "      <td>12</td>\n",
       "      <td>1999</td>\n",
       "    </tr>\n",
       "  </tbody>\n",
       "</table>\n",
       "</div>"
      ],
      "text/plain": [
       "        Accident_Index  Longitude   Latitude  Number_of_Vehicles  \\\n",
       "8521268  1999010SU0945  -0.271752  51.715661                   1   \n",
       "8521270  1999010SU0946  -0.239977  51.695136                   2   \n",
       "\n",
       "         Number_of_Casualties        Date Day_of_Week  \\\n",
       "8521268                     1  25/12/1999      sunday   \n",
       "8521270                     1  17/12/1999    saturday   \n",
       "\n",
       "         Local_Authority_(District) Special_Conditions_at_Site  \\\n",
       "8521268                          33                       none   \n",
       "8521270                          33                       none   \n",
       "\n",
       "        Urban_or_Rural_Area Vehicle_Type Sex_of_Driver     Driver_IMD_Decile  \\\n",
       "8521268               rural          car        female     most deprived 10%   \n",
       "8521270               rural          car          male  most deprived 40-50%   \n",
       "\n",
       "        Date_Day Month  Year  \n",
       "8521268       25    12  1999  \n",
       "8521270       17    12  1999  "
      ]
     },
     "execution_count": 4,
     "metadata": {},
     "output_type": "execute_result"
    }
   ],
   "source": [
    "Q3B_1.head(2)"
   ]
  },
  {
   "cell_type": "code",
   "execution_count": 5,
   "metadata": {},
   "outputs": [
    {
     "data": {
      "text/html": [
       "<div>\n",
       "<style scoped>\n",
       "    .dataframe tbody tr th:only-of-type {\n",
       "        vertical-align: middle;\n",
       "    }\n",
       "\n",
       "    .dataframe tbody tr th {\n",
       "        vertical-align: top;\n",
       "    }\n",
       "\n",
       "    .dataframe thead th {\n",
       "        text-align: right;\n",
       "    }\n",
       "</style>\n",
       "<table border=\"1\" class=\"dataframe\">\n",
       "  <thead>\n",
       "    <tr style=\"text-align: right;\">\n",
       "      <th></th>\n",
       "      <th>Accident_Index</th>\n",
       "      <th>Longitude</th>\n",
       "      <th>Latitude</th>\n",
       "      <th>Number_of_Vehicles</th>\n",
       "      <th>Number_of_Casualties</th>\n",
       "      <th>Date</th>\n",
       "      <th>Day_of_Week</th>\n",
       "      <th>Local_Authority_(District)</th>\n",
       "      <th>Special_Conditions_at_Site</th>\n",
       "      <th>Urban_or_Rural_Area</th>\n",
       "      <th>Vehicle_Type</th>\n",
       "      <th>Sex_of_Driver</th>\n",
       "      <th>Driver_IMD_Decile</th>\n",
       "      <th>Date_Day</th>\n",
       "      <th>Month</th>\n",
       "      <th>Year</th>\n",
       "    </tr>\n",
       "  </thead>\n",
       "  <tbody>\n",
       "    <tr>\n",
       "      <th>3004421</th>\n",
       "      <td>2014984138414</td>\n",
       "      <td>-3.191397</td>\n",
       "      <td>54.990446</td>\n",
       "      <td>3</td>\n",
       "      <td>2</td>\n",
       "      <td>17/12/2014</td>\n",
       "      <td>thursday</td>\n",
       "      <td>917</td>\n",
       "      <td>none</td>\n",
       "      <td>rural</td>\n",
       "      <td>van / goods 3.5 tonnes mgw or under</td>\n",
       "      <td>male</td>\n",
       "      <td>most deprived 10%</td>\n",
       "      <td>17</td>\n",
       "      <td>12</td>\n",
       "      <td>2014</td>\n",
       "    </tr>\n",
       "    <tr>\n",
       "      <th>3004422</th>\n",
       "      <td>2014984138414</td>\n",
       "      <td>-3.191397</td>\n",
       "      <td>54.990446</td>\n",
       "      <td>3</td>\n",
       "      <td>2</td>\n",
       "      <td>17/12/2014</td>\n",
       "      <td>thursday</td>\n",
       "      <td>917</td>\n",
       "      <td>none</td>\n",
       "      <td>rural</td>\n",
       "      <td>car</td>\n",
       "      <td>male</td>\n",
       "      <td>less deprived 20-30%</td>\n",
       "      <td>17</td>\n",
       "      <td>12</td>\n",
       "      <td>2014</td>\n",
       "    </tr>\n",
       "  </tbody>\n",
       "</table>\n",
       "</div>"
      ],
      "text/plain": [
       "        Accident_Index  Longitude   Latitude  Number_of_Vehicles  \\\n",
       "3004421  2014984138414  -3.191397  54.990446                   3   \n",
       "3004422  2014984138414  -3.191397  54.990446                   3   \n",
       "\n",
       "         Number_of_Casualties        Date Day_of_Week  \\\n",
       "3004421                     2  17/12/2014    thursday   \n",
       "3004422                     2  17/12/2014    thursday   \n",
       "\n",
       "         Local_Authority_(District) Special_Conditions_at_Site  \\\n",
       "3004421                         917                       none   \n",
       "3004422                         917                       none   \n",
       "\n",
       "        Urban_or_Rural_Area                         Vehicle_Type  \\\n",
       "3004421               rural  van / goods 3.5 tonnes mgw or under   \n",
       "3004422               rural                                  car   \n",
       "\n",
       "        Sex_of_Driver     Driver_IMD_Decile Date_Day Month  Year  \n",
       "3004421          male     most deprived 10%       17    12  2014  \n",
       "3004422          male  less deprived 20-30%       17    12  2014  "
      ]
     },
     "execution_count": 5,
     "metadata": {},
     "output_type": "execute_result"
    }
   ],
   "source": [
    "Q3B_2.tail(2)"
   ]
  },
  {
   "cell_type": "markdown",
   "metadata": {},
   "source": [
    "Above, we have shown the first two and last two lines of data we will be using to answer research Question Three (B).\n",
    "\n",
    "It is important to note that for this question, we will be using data from _1999 - 2014_ only.\n",
    "\n",
    "## 2.\n",
    "## IMD Decile of Driver\n",
    "\n",
    "Below I will group our datasets by our 'Driver_IMD_Decile' column, to gain further insight into the distribution of accidents involving drivers from each decile."
   ]
  },
  {
   "cell_type": "code",
   "execution_count": 6,
   "metadata": {
    "collapsed": true
   },
   "outputs": [],
   "source": [
    "group_by_IMD_1 = Q3B_1.groupby('Driver_IMD_Decile').size().to_frame()"
   ]
  },
  {
   "cell_type": "code",
   "execution_count": 7,
   "metadata": {
    "collapsed": true
   },
   "outputs": [],
   "source": [
    "group_by_IMD_2 = Q3B_2.groupby('Driver_IMD_Decile').size().to_frame()"
   ]
  },
  {
   "cell_type": "markdown",
   "metadata": {},
   "source": [
    "## 2.1\n",
    "## Simple Bar Chart Analysis\n",
    "\n",
    "Once we have grouped the total number of accidents within each IMD Decile, we will plot it on a graph below to gain a further insight into the data.\n",
    "\n",
    "Firstly, we must aggregate the two datasets from above."
   ]
  },
  {
   "cell_type": "code",
   "execution_count": 16,
   "metadata": {
    "collapsed": true
   },
   "outputs": [],
   "source": [
    "all_IMD = pd.concat([group_by_IMD_1, group_by_IMD_2]).groupby(level=0).sum()"
   ]
  },
  {
   "cell_type": "code",
   "execution_count": 17,
   "metadata": {},
   "outputs": [
    {
     "data": {
      "text/plain": [
       "Text(0.5,0,'Total Road Accidents')"
      ]
     },
     "execution_count": 17,
     "metadata": {},
     "output_type": "execute_result"
    },
    {
     "data": {
      "image/png": "[encoded data removed]",
      "text/plain": [
       "<matplotlib.figure.Figure at 0x22f8470b550>"
      ]
     },
     "metadata": {},
     "output_type": "display_data"
    }
   ],
   "source": [
    "all_IMD.plot(kind='barh', legend=False, figsize=(10,8))\n",
    "plt.title('Total Road Accidents per IMD Decile of Driver', fontsize=20)\n",
    "plt.xlabel('Total Road Accidents')"
   ]
  },
  {
   "cell_type": "markdown",
   "metadata": {},
   "source": [
    "The above graph has given some insight into the number of road accidents for each IMD Decile region. However, this does not fairly represent drivers from each IMD Decile. Below, we will normalise our data based on the total numbers of drivers for each IMD Decile to get a percentage value.\n",
    "\n",
    "## 2.2 \n",
    "## Normalising\n",
    "\n",
    "When we normalise, we are getting the sum of the all columns for each row in the dataset."
   ]
  },
  {
   "cell_type": "code",
   "execution_count": 10,
   "metadata": {
    "collapsed": true
   },
   "outputs": [],
   "source": [
    "norm_all_IMD = all_IMD.copy() #create a copy of original dataset for normalisation"
   ]
  },
  {
   "cell_type": "code",
   "execution_count": 11,
   "metadata": {
    "collapsed": true
   },
   "outputs": [],
   "source": [
    "cols = norm_all_IMD.columns #define columns to normalise"
   ]
  },
  {
   "cell_type": "code",
   "execution_count": 12,
   "metadata": {
    "collapsed": true
   },
   "outputs": [],
   "source": [
    " sum_rows = norm_all_IMD[cols].sum(axis=0) #calculate the sum of each row"
   ]
  },
  {
   "cell_type": "code",
   "execution_count": 13,
   "metadata": {
    "collapsed": true
   },
   "outputs": [],
   "source": [
    "norm_all_IMD[cols] = norm_all_IMD[cols].div(sum_rows, axis=1) #normalise all columns in the dataset by dividing them by the sum of each row"
   ]
  },
  {
   "cell_type": "code",
   "execution_count": 14,
   "metadata": {
    "collapsed": true
   },
   "outputs": [],
   "source": [
    "norm_all_IMD[cols] = 100*norm_all_IMD[cols] #multiply normalised data by 100 to get a percentage value."
   ]
  },
  {
   "cell_type": "code",
   "execution_count": 15,
   "metadata": {},
   "outputs": [
    {
     "data": {
      "text/plain": [
       "Text(0.5,0,'% of Road Accidents')"
      ]
     },
     "execution_count": 15,
     "metadata": {},
     "output_type": "execute_result"
    },
    {
     "data": {
      "image/png": "[encoded data removed]",
      "text/plain": [
       "<matplotlib.figure.Figure at 0x22f846d9c88>"
      ]
     },
     "metadata": {},
     "output_type": "display_data"
    }
   ],
   "source": [
    "norm_all_IMD.plot(kind='barh',legend=False, figsize=(10,8)) #plot normalised graph\n",
    "plt.title('% of Road Accidents per IMD Decile of Driver', fontsize=20)\n",
    "plt.xlabel('% of Road Accidents')"
   ]
  },
  {
   "cell_type": "markdown",
   "metadata": {},
   "source": [
    "From this normalised graph, the results remain very much the same. We can clearly see that drivers from the 'most deprived 10-20%' IMD Decile have been involved in the most road accidents. \n",
    "\n",
    "It would also appear that from this graph, drivers from the 'least deprived 10%' IMD Decile have been involved in the least amount of road accidents. This gives us a further insight into how Driver IMD Decile _may_ impact road safety."
   ]
  },
  {
   "cell_type": "markdown",
   "metadata": {},
   "source": [
    "## 3.\n",
    "## Saving Pickle Files & Data Dictionaries\n",
    "\n",
    "Once we have normalised our data, we will save it into a pickle file. We will also create a data dictionary to summarise the contents of the file."
   ]
  },
  {
   "cell_type": "code",
   "execution_count": 51,
   "metadata": {},
   "outputs": [
    {
     "data": {
      "text/plain": [
       "(10, 1)"
      ]
     },
     "execution_count": 51,
     "metadata": {},
     "output_type": "execute_result"
    }
   ],
   "source": [
    "norm_all_IMD.to_pickle(\"../../data/analysis/300_analysis_Q1C_norm_all_IMD.pkl\")\n",
    "norm_all_IMD.shape"
   ]
  },
  {
   "cell_type": "code",
   "execution_count": 52,
   "metadata": {},
   "outputs": [
    {
     "data": {
      "text/html": [
       "<div>\n",
       "<style scoped>\n",
       "    .dataframe tbody tr th:only-of-type {\n",
       "        vertical-align: middle;\n",
       "    }\n",
       "\n",
       "    .dataframe tbody tr th {\n",
       "        vertical-align: top;\n",
       "    }\n",
       "\n",
       "    .dataframe thead th {\n",
       "        text-align: right;\n",
       "    }\n",
       "</style>\n",
       "<table border=\"1\" class=\"dataframe\">\n",
       "  <thead>\n",
       "    <tr style=\"text-align: right;\">\n",
       "      <th></th>\n",
       "      <th>count</th>\n",
       "      <th>mean</th>\n",
       "      <th>std</th>\n",
       "      <th>min</th>\n",
       "      <th>25%</th>\n",
       "      <th>50%</th>\n",
       "      <th>75%</th>\n",
       "      <th>max</th>\n",
       "      <th>Missing</th>\n",
       "      <th>%Missing</th>\n",
       "    </tr>\n",
       "  </thead>\n",
       "  <tbody>\n",
       "    <tr>\n",
       "      <th>0</th>\n",
       "      <td>10.0</td>\n",
       "      <td>10.0</td>\n",
       "      <td>0.465547</td>\n",
       "      <td>9.000328</td>\n",
       "      <td>9.760696</td>\n",
       "      <td>10.137677</td>\n",
       "      <td>10.308867</td>\n",
       "      <td>10.53562</td>\n",
       "      <td>0</td>\n",
       "      <td>0.0</td>\n",
       "    </tr>\n",
       "  </tbody>\n",
       "</table>\n",
       "</div>"
      ],
      "text/plain": [
       "   count  mean       std       min       25%        50%        75%       max  \\\n",
       "0   10.0  10.0  0.465547  9.000328  9.760696  10.137677  10.308867  10.53562   \n",
       "\n",
       "   Missing  %Missing  \n",
       "0        0       0.0  "
      ]
     },
     "execution_count": 52,
     "metadata": {},
     "output_type": "execute_result"
    }
   ],
   "source": [
    "data_dictionary.save(\n",
    "    '../../data/analysis/300_analysis_Q1C_norm_all_IMD.pkl', \n",
    "    \"Updated Roadsafety dataset with Occupational_Relational column\").head()"
   ]
  },
  {
   "cell_type": "code",
   "execution_count": null,
   "metadata": {
    "collapsed": true
   },
   "outputs": [],
   "source": []
  }
 ],
 "metadata": {
  "kernelspec": {
   "display_name": "Python 3",
   "language": "python",
   "name": "python3"
  },
  "language_info": {
   "codemirror_mode": {
    "name": "ipython",
    "version": 3
   },
   "file_extension": ".py",
   "mimetype": "text/x-python",
   "name": "python",
   "nbconvert_exporter": "python",
   "pygments_lexer": "ipython3",
   "version": "3.6.3"
  }
 },
 "nbformat": 4,
 "nbformat_minor": 2
}
