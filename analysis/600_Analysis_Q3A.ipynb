{
 "cells": [
  {
   "cell_type": "markdown",
   "metadata": {},
   "source": [
    "# 600_Analysis_Q3A\n",
    "\n",
    "# _Question Three: Does Location Impact Road Safety?_\n",
    "\n",
    "## _(A): Is it safer to drive in urban or rural areas?_\n",
    "\n",
    "\n",
    "## Purpose\n",
    "In this notebook we will explore whether or not location impacts road safety. In particular, we will compare accidents in rural and urban areas and see if one is safer than the other. \n",
    "\n",
    "To do this, we will look at the number of accidents in urban and rural areas, accident severity and number of casualties.\n",
    "\n",
    "## Notebook Contents:\n",
    "* __1:__ Loading our Datasets\n",
    "   \n",
    "* __2:__ The range of years that we will be using for this research question.\n",
    "\n",
    "* __3:__ Are there more accidents in rural or urban areas?\n",
    "\n",
    "* __4:__ Are accidents more or less severe in urban or rural areas?\n",
    "      \n",
    "* __5:__ On average, are there more casualties in accidents in urban or rural areas?\n",
    "    \n",
    "* __6:__ Saving Data to a Pickle File\n",
    "\n",
    "* __7:__ Creating Data Dictionaries\n",
    "\n",
    "## Datasets\n",
    "__Input:__\n",
    "* 900_Q3A_final_prep_1.pkl    (Data needed for Q3A for years 1979-2004)\n",
    "* 900_Q3A_final_prep_2.pkl    (Data needed for Q3A for years 2005-2014)\n",
    "\n",
    "\n",
    "__Output:__ \n",
    "* 600_Analysis_Q3A_norm_urban_rural_groups.pkl   (Data for urban and rural groups)\n",
    "* 600_Analysis_Q3A_norm_All_Urban_Rural_Accident_Severity_groups.pkl   (Accident severity in urban and rural groups)\n",
    "* 600_Analysis_Q3A_All_Urban_Rural_Num_Casualties.pkl   (Average number of casualties in urban and rural areas)"
   ]
  },
  {
   "cell_type": "code",
   "execution_count": 1,
   "metadata": {
    "collapsed": true
   },
   "outputs": [],
   "source": [
    "import os\n",
    "import sys\n",
    "\n",
    "import pandas as pd\n",
    "import numpy as np\n",
    "import matplotlib.pylab as plt\n",
    "import seaborn as sns\n",
    "\n",
    "module_path = os.path.abspath(os.path.join('../../data/..'))\n",
    "if module_path not in sys.path:\n",
    "    sys.path.append(module_path)\n",
    "    \n",
    "from src.helpers import data_dictionary\n",
    "\n",
    "%matplotlib inline"
   ]
  },
  {
   "cell_type": "markdown",
   "metadata": {},
   "source": [
    "# 1. Loading the Datasets\n",
    "\n",
    "Since we have cleaned our initial dataset and saved only the columns which are relevant to this research question in separate pickle files, we will read in these cleaned datasets for the purpose of answering this research question."
   ]
  },
  {
   "cell_type": "code",
   "execution_count": 2,
   "metadata": {},
   "outputs": [
    {
     "data": {
      "text/plain": [
       "(2290760, 19)"
      ]
     },
     "execution_count": 2,
     "metadata": {},
     "output_type": "execute_result"
    }
   ],
   "source": [
    "Q3A_1 = pd.read_pickle('../../data/processed/900_Q3A_final_prep_1.pkl')\n",
    "Q3A_1.shape"
   ]
  },
  {
   "cell_type": "code",
   "execution_count": 3,
   "metadata": {},
   "outputs": [
    {
     "data": {
      "text/plain": [
       "(2810328, 19)"
      ]
     },
     "execution_count": 3,
     "metadata": {},
     "output_type": "execute_result"
    }
   ],
   "source": [
    "Q3A_2 = pd.read_pickle('../../data/processed/900_Q3A_final_prep_2.pkl')\n",
    "Q3A_2.shape"
   ]
  },
  {
   "cell_type": "markdown",
   "metadata": {},
   "source": [
    "# 2. The range of years that we will be using for this research question\n",
    "Below you can see the first two rows of the first dataset and the last two rows of the third and final dataset. By looking at the 'Date' column you can see that the data ranges from 1999 - 2014."
   ]
  },
  {
   "cell_type": "code",
   "execution_count": 4,
   "metadata": {
    "scrolled": true
   },
   "outputs": [
    {
     "data": {
      "text/html": [
       "<div>\n",
       "<style scoped>\n",
       "    .dataframe tbody tr th:only-of-type {\n",
       "        vertical-align: middle;\n",
       "    }\n",
       "\n",
       "    .dataframe tbody tr th {\n",
       "        vertical-align: top;\n",
       "    }\n",
       "\n",
       "    .dataframe thead th {\n",
       "        text-align: right;\n",
       "    }\n",
       "</style>\n",
       "<table border=\"1\" class=\"dataframe\">\n",
       "  <thead>\n",
       "    <tr style=\"text-align: right;\">\n",
       "      <th></th>\n",
       "      <th>Accident_Index</th>\n",
       "      <th>Longitude</th>\n",
       "      <th>Latitude</th>\n",
       "      <th>Accident_Severity</th>\n",
       "      <th>Number_of_Vehicles</th>\n",
       "      <th>Number_of_Casualties</th>\n",
       "      <th>Date</th>\n",
       "      <th>Day_of_Week</th>\n",
       "      <th>Time</th>\n",
       "      <th>Local_Authority_(District)</th>\n",
       "      <th>Speed_limit</th>\n",
       "      <th>Junction_Detail</th>\n",
       "      <th>Urban_or_Rural_Area</th>\n",
       "      <th>Vehicle_Type</th>\n",
       "      <th>Vehicle_Location-Restricted_Lane</th>\n",
       "      <th>Sex_of_Driver</th>\n",
       "      <th>Date_Day</th>\n",
       "      <th>Month</th>\n",
       "      <th>Year</th>\n",
       "    </tr>\n",
       "  </thead>\n",
       "  <tbody>\n",
       "    <tr>\n",
       "      <th>8521268</th>\n",
       "      <td>1999010SU0945</td>\n",
       "      <td>-0.271752</td>\n",
       "      <td>51.715661</td>\n",
       "      <td>slight</td>\n",
       "      <td>1</td>\n",
       "      <td>1</td>\n",
       "      <td>25/12/1999</td>\n",
       "      <td>sunday</td>\n",
       "      <td>09:30</td>\n",
       "      <td>33</td>\n",
       "      <td>70</td>\n",
       "      <td>slip road</td>\n",
       "      <td>rural</td>\n",
       "      <td>car</td>\n",
       "      <td>On main carriageway - not in restricted lane</td>\n",
       "      <td>female</td>\n",
       "      <td>25</td>\n",
       "      <td>12</td>\n",
       "      <td>1999</td>\n",
       "    </tr>\n",
       "    <tr>\n",
       "      <th>8521269</th>\n",
       "      <td>1999010SU0946</td>\n",
       "      <td>-0.239977</td>\n",
       "      <td>51.695136</td>\n",
       "      <td>slight</td>\n",
       "      <td>2</td>\n",
       "      <td>1</td>\n",
       "      <td>17/12/1999</td>\n",
       "      <td>saturday</td>\n",
       "      <td>18:38</td>\n",
       "      <td>33</td>\n",
       "      <td>70</td>\n",
       "      <td>not at junction or within 20 metres</td>\n",
       "      <td>rural</td>\n",
       "      <td>goods 7.5 tonnes mgw and over</td>\n",
       "      <td>On main carriageway - not in restricted lane</td>\n",
       "      <td>male</td>\n",
       "      <td>17</td>\n",
       "      <td>12</td>\n",
       "      <td>1999</td>\n",
       "    </tr>\n",
       "  </tbody>\n",
       "</table>\n",
       "</div>"
      ],
      "text/plain": [
       "        Accident_Index  Longitude   Latitude Accident_Severity  \\\n",
       "8521268  1999010SU0945  -0.271752  51.715661            slight   \n",
       "8521269  1999010SU0946  -0.239977  51.695136            slight   \n",
       "\n",
       "         Number_of_Vehicles  Number_of_Casualties        Date Day_of_Week  \\\n",
       "8521268                   1                     1  25/12/1999      sunday   \n",
       "8521269                   2                     1  17/12/1999    saturday   \n",
       "\n",
       "          Time  Local_Authority_(District)  Speed_limit  \\\n",
       "8521268  09:30                          33           70   \n",
       "8521269  18:38                          33           70   \n",
       "\n",
       "                             Junction_Detail Urban_or_Rural_Area  \\\n",
       "8521268                            slip road               rural   \n",
       "8521269  not at junction or within 20 metres               rural   \n",
       "\n",
       "                          Vehicle_Type  \\\n",
       "8521268                            car   \n",
       "8521269  goods 7.5 tonnes mgw and over   \n",
       "\n",
       "                     Vehicle_Location-Restricted_Lane Sex_of_Driver Date_Day  \\\n",
       "8521268  On main carriageway - not in restricted lane        female       25   \n",
       "8521269  On main carriageway - not in restricted lane          male       17   \n",
       "\n",
       "        Month  Year  \n",
       "8521268    12  1999  \n",
       "8521269    12  1999  "
      ]
     },
     "execution_count": 4,
     "metadata": {},
     "output_type": "execute_result"
    }
   ],
   "source": [
    "Q3A_1.head(2)"
   ]
  },
  {
   "cell_type": "code",
   "execution_count": 5,
   "metadata": {},
   "outputs": [
    {
     "data": {
      "text/html": [
       "<div>\n",
       "<style scoped>\n",
       "    .dataframe tbody tr th:only-of-type {\n",
       "        vertical-align: middle;\n",
       "    }\n",
       "\n",
       "    .dataframe tbody tr th {\n",
       "        vertical-align: top;\n",
       "    }\n",
       "\n",
       "    .dataframe thead th {\n",
       "        text-align: right;\n",
       "    }\n",
       "</style>\n",
       "<table border=\"1\" class=\"dataframe\">\n",
       "  <thead>\n",
       "    <tr style=\"text-align: right;\">\n",
       "      <th></th>\n",
       "      <th>Accident_Index</th>\n",
       "      <th>Longitude</th>\n",
       "      <th>Latitude</th>\n",
       "      <th>Accident_Severity</th>\n",
       "      <th>Number_of_Vehicles</th>\n",
       "      <th>Number_of_Casualties</th>\n",
       "      <th>Date</th>\n",
       "      <th>Day_of_Week</th>\n",
       "      <th>Time</th>\n",
       "      <th>Local_Authority_(District)</th>\n",
       "      <th>Speed_limit</th>\n",
       "      <th>Junction_Detail</th>\n",
       "      <th>Vehicle_Type</th>\n",
       "      <th>Urban_or_Rural_Area</th>\n",
       "      <th>Vehicle_Location-Restricted_Lane</th>\n",
       "      <th>Sex_of_Driver</th>\n",
       "      <th>Date_Day</th>\n",
       "      <th>Month</th>\n",
       "      <th>Year</th>\n",
       "    </tr>\n",
       "  </thead>\n",
       "  <tbody>\n",
       "    <tr>\n",
       "      <th>3004423</th>\n",
       "      <td>2014984139614</td>\n",
       "      <td>-3.348426</td>\n",
       "      <td>55.1067</td>\n",
       "      <td>slight</td>\n",
       "      <td>2</td>\n",
       "      <td>2</td>\n",
       "      <td>24/12/2014</td>\n",
       "      <td>thursday</td>\n",
       "      <td>15:00</td>\n",
       "      <td>917</td>\n",
       "      <td>60</td>\n",
       "      <td>T or staggered junction</td>\n",
       "      <td>bus or coach</td>\n",
       "      <td>rural</td>\n",
       "      <td>On main carriageway - not in restricted lane</td>\n",
       "      <td>male</td>\n",
       "      <td>24</td>\n",
       "      <td>12</td>\n",
       "      <td>2014</td>\n",
       "    </tr>\n",
       "    <tr>\n",
       "      <th>3004424</th>\n",
       "      <td>2014984139614</td>\n",
       "      <td>-3.348426</td>\n",
       "      <td>55.1067</td>\n",
       "      <td>slight</td>\n",
       "      <td>2</td>\n",
       "      <td>2</td>\n",
       "      <td>24/12/2014</td>\n",
       "      <td>thursday</td>\n",
       "      <td>15:00</td>\n",
       "      <td>917</td>\n",
       "      <td>60</td>\n",
       "      <td>T or staggered junction</td>\n",
       "      <td>car</td>\n",
       "      <td>rural</td>\n",
       "      <td>On main carriageway - not in restricted lane</td>\n",
       "      <td>male</td>\n",
       "      <td>24</td>\n",
       "      <td>12</td>\n",
       "      <td>2014</td>\n",
       "    </tr>\n",
       "  </tbody>\n",
       "</table>\n",
       "</div>"
      ],
      "text/plain": [
       "        Accident_Index  Longitude  Latitude Accident_Severity  \\\n",
       "3004423  2014984139614  -3.348426   55.1067            slight   \n",
       "3004424  2014984139614  -3.348426   55.1067            slight   \n",
       "\n",
       "         Number_of_Vehicles  Number_of_Casualties        Date Day_of_Week  \\\n",
       "3004423                   2                     2  24/12/2014    thursday   \n",
       "3004424                   2                     2  24/12/2014    thursday   \n",
       "\n",
       "          Time  Local_Authority_(District)  Speed_limit  \\\n",
       "3004423  15:00                         917           60   \n",
       "3004424  15:00                         917           60   \n",
       "\n",
       "                 Junction_Detail  Vehicle_Type Urban_or_Rural_Area  \\\n",
       "3004423  T or staggered junction  bus or coach               rural   \n",
       "3004424  T or staggered junction           car               rural   \n",
       "\n",
       "                     Vehicle_Location-Restricted_Lane Sex_of_Driver Date_Day  \\\n",
       "3004423  On main carriageway - not in restricted lane          male       24   \n",
       "3004424  On main carriageway - not in restricted lane          male       24   \n",
       "\n",
       "        Month  Year  \n",
       "3004423    12  2014  \n",
       "3004424    12  2014  "
      ]
     },
     "execution_count": 5,
     "metadata": {},
     "output_type": "execute_result"
    }
   ],
   "source": [
    "Q3A_2.tail(2)"
   ]
  },
  {
   "cell_type": "markdown",
   "metadata": {},
   "source": [
    "# 3. Are there more accidents in rural or urban areas?\n",
    "Firstly, we will look at whether there are a greater number of road accidents in rural or urban areas. In order to be able to answer this we will use the 'Urban_or_Rural_Area' column which tells you if the road accident occurred in an urban or rural area.\n",
    "\n",
    "### Groupby\n",
    "We will group the data by the 'Urban_or_Rural_Area' column and then count the number of accidents in each group."
   ]
  },
  {
   "cell_type": "markdown",
   "metadata": {},
   "source": [
    "#### Q3A_1"
   ]
  },
  {
   "cell_type": "code",
   "execution_count": 6,
   "metadata": {},
   "outputs": [
    {
     "data": {
      "text/html": [
       "<div>\n",
       "<style scoped>\n",
       "    .dataframe tbody tr th:only-of-type {\n",
       "        vertical-align: middle;\n",
       "    }\n",
       "\n",
       "    .dataframe tbody tr th {\n",
       "        vertical-align: top;\n",
       "    }\n",
       "\n",
       "    .dataframe thead th {\n",
       "        text-align: right;\n",
       "    }\n",
       "</style>\n",
       "<table border=\"1\" class=\"dataframe\">\n",
       "  <thead>\n",
       "    <tr style=\"text-align: right;\">\n",
       "      <th></th>\n",
       "      <th>Accident_Index</th>\n",
       "    </tr>\n",
       "    <tr>\n",
       "      <th>Urban_or_Rural_Area</th>\n",
       "      <th></th>\n",
       "    </tr>\n",
       "  </thead>\n",
       "  <tbody>\n",
       "    <tr>\n",
       "      <th>rural</th>\n",
       "      <td>836111</td>\n",
       "    </tr>\n",
       "    <tr>\n",
       "      <th>urban</th>\n",
       "      <td>1454649</td>\n",
       "    </tr>\n",
       "  </tbody>\n",
       "</table>\n",
       "</div>"
      ],
      "text/plain": [
       "                     Accident_Index\n",
       "Urban_or_Rural_Area                \n",
       "rural                        836111\n",
       "urban                       1454649"
      ]
     },
     "execution_count": 6,
     "metadata": {},
     "output_type": "execute_result"
    }
   ],
   "source": [
    "urban_rural_1 = Q3A_1.groupby('Urban_or_Rural_Area')[['Accident_Index']].count()\n",
    "urban_rural_1"
   ]
  },
  {
   "cell_type": "markdown",
   "metadata": {},
   "source": [
    "#### Q3A_2"
   ]
  },
  {
   "cell_type": "code",
   "execution_count": 7,
   "metadata": {},
   "outputs": [
    {
     "data": {
      "text/html": [
       "<div>\n",
       "<style scoped>\n",
       "    .dataframe tbody tr th:only-of-type {\n",
       "        vertical-align: middle;\n",
       "    }\n",
       "\n",
       "    .dataframe tbody tr th {\n",
       "        vertical-align: top;\n",
       "    }\n",
       "\n",
       "    .dataframe thead th {\n",
       "        text-align: right;\n",
       "    }\n",
       "</style>\n",
       "<table border=\"1\" class=\"dataframe\">\n",
       "  <thead>\n",
       "    <tr style=\"text-align: right;\">\n",
       "      <th></th>\n",
       "      <th>Accident_Index</th>\n",
       "    </tr>\n",
       "    <tr>\n",
       "      <th>Urban_or_Rural_Area</th>\n",
       "      <th></th>\n",
       "    </tr>\n",
       "  </thead>\n",
       "  <tbody>\n",
       "    <tr>\n",
       "      <th>rural</th>\n",
       "      <td>1040909</td>\n",
       "    </tr>\n",
       "    <tr>\n",
       "      <th>urban</th>\n",
       "      <td>1769419</td>\n",
       "    </tr>\n",
       "  </tbody>\n",
       "</table>\n",
       "</div>"
      ],
      "text/plain": [
       "                     Accident_Index\n",
       "Urban_or_Rural_Area                \n",
       "rural                       1040909\n",
       "urban                       1769419"
      ]
     },
     "execution_count": 7,
     "metadata": {},
     "output_type": "execute_result"
    }
   ],
   "source": [
    "urban_rural_2 = Q3A_2.groupby('Urban_or_Rural_Area')[['Accident_Index']].count()\n",
    "urban_rural_2"
   ]
  },
  {
   "cell_type": "markdown",
   "metadata": {},
   "source": [
    "### Aggregate Results\n",
    "Below we will create a new dataframe containing the number of accidents which have occurred in urban and rural areas for both of our datasets. \n",
    "\n",
    "We will also rename the 'Accident_Index' column to 'Accident_Count' as the column contains the number of accidents for each vehicle age (calculated in above cells).\n",
    "\n",
    "Finally, we will then group the data by the 'Urban_or_Rural_Area' and sum the 'Accident_Count' for each group to give the total number of accidents in both urban and rural areas."
   ]
  },
  {
   "cell_type": "code",
   "execution_count": 8,
   "metadata": {},
   "outputs": [
    {
     "data": {
      "text/html": [
       "<div>\n",
       "<style scoped>\n",
       "    .dataframe tbody tr th:only-of-type {\n",
       "        vertical-align: middle;\n",
       "    }\n",
       "\n",
       "    .dataframe tbody tr th {\n",
       "        vertical-align: top;\n",
       "    }\n",
       "\n",
       "    .dataframe thead th {\n",
       "        text-align: right;\n",
       "    }\n",
       "</style>\n",
       "<table border=\"1\" class=\"dataframe\">\n",
       "  <thead>\n",
       "    <tr style=\"text-align: right;\">\n",
       "      <th></th>\n",
       "      <th>Accident_Count</th>\n",
       "    </tr>\n",
       "    <tr>\n",
       "      <th>Urban_or_Rural_Area</th>\n",
       "      <th></th>\n",
       "    </tr>\n",
       "  </thead>\n",
       "  <tbody>\n",
       "    <tr>\n",
       "      <th>rural</th>\n",
       "      <td>836111</td>\n",
       "    </tr>\n",
       "    <tr>\n",
       "      <th>urban</th>\n",
       "      <td>1454649</td>\n",
       "    </tr>\n",
       "    <tr>\n",
       "      <th>rural</th>\n",
       "      <td>1040909</td>\n",
       "    </tr>\n",
       "    <tr>\n",
       "      <th>urban</th>\n",
       "      <td>1769419</td>\n",
       "    </tr>\n",
       "  </tbody>\n",
       "</table>\n",
       "</div>"
      ],
      "text/plain": [
       "                     Accident_Count\n",
       "Urban_or_Rural_Area                \n",
       "rural                        836111\n",
       "urban                       1454649\n",
       "rural                       1040909\n",
       "urban                       1769419"
      ]
     },
     "execution_count": 8,
     "metadata": {},
     "output_type": "execute_result"
    }
   ],
   "source": [
    "urban_rural_groups = pd.concat([urban_rural_1, urban_rural_2])\n",
    "urban_rural_groups = urban_rural_groups.rename(columns={'Accident_Index': 'Accident_Count'})\n",
    "urban_rural_groups.head()"
   ]
  },
  {
   "cell_type": "code",
   "execution_count": 9,
   "metadata": {},
   "outputs": [
    {
     "data": {
      "text/html": [
       "<div>\n",
       "<style scoped>\n",
       "    .dataframe tbody tr th:only-of-type {\n",
       "        vertical-align: middle;\n",
       "    }\n",
       "\n",
       "    .dataframe tbody tr th {\n",
       "        vertical-align: top;\n",
       "    }\n",
       "\n",
       "    .dataframe thead th {\n",
       "        text-align: right;\n",
       "    }\n",
       "</style>\n",
       "<table border=\"1\" class=\"dataframe\">\n",
       "  <thead>\n",
       "    <tr style=\"text-align: right;\">\n",
       "      <th></th>\n",
       "      <th>Accident_Count</th>\n",
       "    </tr>\n",
       "    <tr>\n",
       "      <th>Urban_or_Rural_Area</th>\n",
       "      <th></th>\n",
       "    </tr>\n",
       "  </thead>\n",
       "  <tbody>\n",
       "    <tr>\n",
       "      <th>rural</th>\n",
       "      <td>1877020</td>\n",
       "    </tr>\n",
       "    <tr>\n",
       "      <th>urban</th>\n",
       "      <td>3224068</td>\n",
       "    </tr>\n",
       "  </tbody>\n",
       "</table>\n",
       "</div>"
      ],
      "text/plain": [
       "                     Accident_Count\n",
       "Urban_or_Rural_Area                \n",
       "rural                       1877020\n",
       "urban                       3224068"
      ]
     },
     "execution_count": 9,
     "metadata": {},
     "output_type": "execute_result"
    }
   ],
   "source": [
    "urban_rural_groups = urban_rural_groups.groupby(level=0).sum()\n",
    "urban_rural_groups"
   ]
  },
  {
   "cell_type": "markdown",
   "metadata": {},
   "source": [
    "In the graph below you can see that there are more road accidents in urban areas than rural areas."
   ]
  },
  {
   "cell_type": "code",
   "execution_count": 10,
   "metadata": {},
   "outputs": [
    {
     "data": {
      "text/plain": [
       "Text(0.5,0,'Urban or Rural Area')"
      ]
     },
     "execution_count": 10,
     "metadata": {},
     "output_type": "execute_result"
    },
    {
     "data": {
      "image/png": "[encoded data removed]",
      "text/plain": [
       "<matplotlib.figure.Figure at 0x2548869ada0>"
      ]
     },
     "metadata": {},
     "output_type": "display_data"
    }
   ],
   "source": [
    "urban_rural_groups.plot(kind='bar', title='Number of Accidents in Urban and Rural Areas', figsize=(6,6), fontsize=15)\n",
    "plt.ylabel('Number of Accidents', fontsize=12)\n",
    "plt.xlabel('Urban or Rural Area', fontsize=12)"
   ]
  },
  {
   "cell_type": "markdown",
   "metadata": {},
   "source": [
    "### Normalise\n",
    "Next, we will normalise the data by the number of accidents by dividing each row in the 'Accident_Count' column by the total sum of data in the 'Accident_Count' column (i.e.): divide the number of accidents in urban and rural areas by the total number of accidents. \n",
    "\n",
    "It will return a % value for the number of accidents in urban and rural areas."
   ]
  },
  {
   "cell_type": "code",
   "execution_count": 11,
   "metadata": {
    "collapsed": true
   },
   "outputs": [],
   "source": [
    "norm_urban_rural_groups = urban_rural_groups.copy() # create a daraframe as copy of original"
   ]
  },
  {
   "cell_type": "code",
   "execution_count": 12,
   "metadata": {},
   "outputs": [
    {
     "data": {
      "text/html": [
       "<div>\n",
       "<style scoped>\n",
       "    .dataframe tbody tr th:only-of-type {\n",
       "        vertical-align: middle;\n",
       "    }\n",
       "\n",
       "    .dataframe tbody tr th {\n",
       "        vertical-align: top;\n",
       "    }\n",
       "\n",
       "    .dataframe thead th {\n",
       "        text-align: right;\n",
       "    }\n",
       "</style>\n",
       "<table border=\"1\" class=\"dataframe\">\n",
       "  <thead>\n",
       "    <tr style=\"text-align: right;\">\n",
       "      <th></th>\n",
       "      <th>Accident_Count</th>\n",
       "    </tr>\n",
       "    <tr>\n",
       "      <th>Urban_or_Rural_Area</th>\n",
       "      <th></th>\n",
       "    </tr>\n",
       "  </thead>\n",
       "  <tbody>\n",
       "    <tr>\n",
       "      <th>rural</th>\n",
       "      <td>36.796464</td>\n",
       "    </tr>\n",
       "    <tr>\n",
       "      <th>urban</th>\n",
       "      <td>63.203536</td>\n",
       "    </tr>\n",
       "  </tbody>\n",
       "</table>\n",
       "</div>"
      ],
      "text/plain": [
       "                     Accident_Count\n",
       "Urban_or_Rural_Area                \n",
       "rural                     36.796464\n",
       "urban                     63.203536"
      ]
     },
     "execution_count": 12,
     "metadata": {},
     "output_type": "execute_result"
    }
   ],
   "source": [
    "norm_urban_rural_groups['Accident_Count'] = 100*(norm_urban_rural_groups['Accident_Count'])/norm_urban_rural_groups['Accident_Count'].sum()\n",
    "norm_urban_rural_groups"
   ]
  },
  {
   "cell_type": "markdown",
   "metadata": {},
   "source": [
    "Below we can see that there are more road accidents in urban areas."
   ]
  },
  {
   "cell_type": "code",
   "execution_count": 13,
   "metadata": {},
   "outputs": [
    {
     "data": {
      "text/plain": [
       "Text(0.5,0,'Urban or Rural Area')"
      ]
     },
     "execution_count": 13,
     "metadata": {},
     "output_type": "execute_result"
    },
    {
     "data": {
      "image/png": "[encoded data removed]",
      "text/plain": [
       "<matplotlib.figure.Figure at 0x2546d161da0>"
      ]
     },
     "metadata": {},
     "output_type": "display_data"
    }
   ],
   "source": [
    "norm_urban_rural_groups.plot(kind='bar', title='Normalised Number of Accidents in Urban and Rural Areas', figsize=(6,6), fontsize=15)\n",
    "plt.ylabel('% Number of Accidents', fontsize=12)\n",
    "plt.xlabel('Urban or Rural Area', fontsize=12)"
   ]
  },
  {
   "cell_type": "markdown",
   "metadata": {},
   "source": [
    "Next, we will look at the accidents in urban and rural areas separately."
   ]
  },
  {
   "cell_type": "markdown",
   "metadata": {},
   "source": [
    "# 4. Are accidents more or less severe in urban or rural areas?\n",
    "After looking at the number of accidents in urban and rural areas we were intrigued to see whether nor not accidents are more or less severe in one than the other.\n",
    "\n",
    "### Groupby\n",
    "\n",
    "Firstly, we will group the data by the 'Urban_or_Rural_Area' and 'Accident_Severity' columns. \n",
    "\n",
    "_Note:_ The 'Urban_or_Rural_Area' column tells you if the accident happened in an urban or rural area and  the 'Accident_Severity' tells you if  the severity of the accident was fatal, serious or slight.\n",
    "\n",
    "We will then count the number of accidents for each group by using the 'Accident_Index' column. Each row in the 'Accident_Index' represents an accident. Therefore, by counting the number of rows in this column for each year we will get the number of accidents for each group."
   ]
  },
  {
   "cell_type": "markdown",
   "metadata": {},
   "source": [
    "#### Q3A_1"
   ]
  },
  {
   "cell_type": "code",
   "execution_count": 14,
   "metadata": {},
   "outputs": [
    {
     "data": {
      "text/html": [
       "<div>\n",
       "<style scoped>\n",
       "    .dataframe tbody tr th:only-of-type {\n",
       "        vertical-align: middle;\n",
       "    }\n",
       "\n",
       "    .dataframe tbody tr th {\n",
       "        vertical-align: top;\n",
       "    }\n",
       "\n",
       "    .dataframe thead th {\n",
       "        text-align: right;\n",
       "    }\n",
       "</style>\n",
       "<table border=\"1\" class=\"dataframe\">\n",
       "  <thead>\n",
       "    <tr style=\"text-align: right;\">\n",
       "      <th>Accident_Severity</th>\n",
       "      <th>fatal</th>\n",
       "      <th>serious</th>\n",
       "      <th>slight</th>\n",
       "    </tr>\n",
       "    <tr>\n",
       "      <th>Urban_or_Rural_Area</th>\n",
       "      <th></th>\n",
       "      <th></th>\n",
       "      <th></th>\n",
       "    </tr>\n",
       "  </thead>\n",
       "  <tbody>\n",
       "    <tr>\n",
       "      <th>rural</th>\n",
       "      <td>21970</td>\n",
       "      <td>134728</td>\n",
       "      <td>679413</td>\n",
       "    </tr>\n",
       "    <tr>\n",
       "      <th>urban</th>\n",
       "      <td>9760</td>\n",
       "      <td>155571</td>\n",
       "      <td>1289318</td>\n",
       "    </tr>\n",
       "  </tbody>\n",
       "</table>\n",
       "</div>"
      ],
      "text/plain": [
       "Accident_Severity    fatal  serious   slight\n",
       "Urban_or_Rural_Area                         \n",
       "rural                21970   134728   679413\n",
       "urban                 9760   155571  1289318"
      ]
     },
     "execution_count": 14,
     "metadata": {},
     "output_type": "execute_result"
    }
   ],
   "source": [
    "Urban_Rural_Accident_Severity_1_groups = Q3A_1.groupby(['Urban_or_Rural_Area','Accident_Severity'])['Accident_Index'].count().unstack()\n",
    "Urban_Rural_Accident_Severity_1_groups"
   ]
  },
  {
   "cell_type": "markdown",
   "metadata": {},
   "source": [
    "#### Q3A_2"
   ]
  },
  {
   "cell_type": "code",
   "execution_count": 15,
   "metadata": {},
   "outputs": [
    {
     "data": {
      "text/html": [
       "<div>\n",
       "<style scoped>\n",
       "    .dataframe tbody tr th:only-of-type {\n",
       "        vertical-align: middle;\n",
       "    }\n",
       "\n",
       "    .dataframe tbody tr th {\n",
       "        vertical-align: top;\n",
       "    }\n",
       "\n",
       "    .dataframe thead th {\n",
       "        text-align: right;\n",
       "    }\n",
       "</style>\n",
       "<table border=\"1\" class=\"dataframe\">\n",
       "  <thead>\n",
       "    <tr style=\"text-align: right;\">\n",
       "      <th>Accident_Severity</th>\n",
       "      <th>fatal</th>\n",
       "      <th>serious</th>\n",
       "      <th>slight</th>\n",
       "    </tr>\n",
       "    <tr>\n",
       "      <th>Urban_or_Rural_Area</th>\n",
       "      <th></th>\n",
       "      <th></th>\n",
       "      <th></th>\n",
       "    </tr>\n",
       "  </thead>\n",
       "  <tbody>\n",
       "    <tr>\n",
       "      <th>rural</th>\n",
       "      <td>25566</td>\n",
       "      <td>158744</td>\n",
       "      <td>856599</td>\n",
       "    </tr>\n",
       "    <tr>\n",
       "      <th>urban</th>\n",
       "      <td>10915</td>\n",
       "      <td>191632</td>\n",
       "      <td>1566872</td>\n",
       "    </tr>\n",
       "  </tbody>\n",
       "</table>\n",
       "</div>"
      ],
      "text/plain": [
       "Accident_Severity    fatal  serious   slight\n",
       "Urban_or_Rural_Area                         \n",
       "rural                25566   158744   856599\n",
       "urban                10915   191632  1566872"
      ]
     },
     "execution_count": 15,
     "metadata": {},
     "output_type": "execute_result"
    }
   ],
   "source": [
    "Urban_Rural_Accident_Severity_2_groups = Q3A_2.groupby(['Urban_or_Rural_Area','Accident_Severity'])['Accident_Index'].count().unstack()\n",
    "Urban_Rural_Accident_Severity_2_groups"
   ]
  },
  {
   "cell_type": "markdown",
   "metadata": {},
   "source": [
    "### Aggregate Results\n",
    "\n",
    "Below we will create a new dataframe containing the number of accidents for each severity in urban and rural areas for both of the datasets. \n",
    "\n",
    "We will do this by concatenating the 2 dataframes and grouping the data by 'Urban_or_Rural_Area' and sum the values for each group to get the total count of accidents for each severity in each area."
   ]
  },
  {
   "cell_type": "code",
   "execution_count": 16,
   "metadata": {},
   "outputs": [
    {
     "data": {
      "text/html": [
       "<div>\n",
       "<style scoped>\n",
       "    .dataframe tbody tr th:only-of-type {\n",
       "        vertical-align: middle;\n",
       "    }\n",
       "\n",
       "    .dataframe tbody tr th {\n",
       "        vertical-align: top;\n",
       "    }\n",
       "\n",
       "    .dataframe thead th {\n",
       "        text-align: right;\n",
       "    }\n",
       "</style>\n",
       "<table border=\"1\" class=\"dataframe\">\n",
       "  <thead>\n",
       "    <tr style=\"text-align: right;\">\n",
       "      <th>Accident_Severity</th>\n",
       "      <th>fatal</th>\n",
       "      <th>serious</th>\n",
       "      <th>slight</th>\n",
       "    </tr>\n",
       "    <tr>\n",
       "      <th>Urban_or_Rural_Area</th>\n",
       "      <th></th>\n",
       "      <th></th>\n",
       "      <th></th>\n",
       "    </tr>\n",
       "  </thead>\n",
       "  <tbody>\n",
       "    <tr>\n",
       "      <th>rural</th>\n",
       "      <td>47536</td>\n",
       "      <td>293472</td>\n",
       "      <td>1536012</td>\n",
       "    </tr>\n",
       "    <tr>\n",
       "      <th>urban</th>\n",
       "      <td>20675</td>\n",
       "      <td>347203</td>\n",
       "      <td>2856190</td>\n",
       "    </tr>\n",
       "  </tbody>\n",
       "</table>\n",
       "</div>"
      ],
      "text/plain": [
       "Accident_Severity    fatal  serious   slight\n",
       "Urban_or_Rural_Area                         \n",
       "rural                47536   293472  1536012\n",
       "urban                20675   347203  2856190"
      ]
     },
     "execution_count": 16,
     "metadata": {},
     "output_type": "execute_result"
    }
   ],
   "source": [
    "All_Urban_Rural_Accident_Severity_groups = pd.concat([Urban_Rural_Accident_Severity_1_groups, Urban_Rural_Accident_Severity_2_groups]).groupby(level=0).sum()\n",
    "All_Urban_Rural_Accident_Severity_groups"
   ]
  },
  {
   "cell_type": "markdown",
   "metadata": {},
   "source": [
    "### Normalise\n",
    "Next, we will normalise the data by the accident severity. We will do this by dividing each column by the total sum of data in all columns for each row in the dataframe. We will multiply each value in each row by 100 to give a % of fatal, serious and slight accidents for each row."
   ]
  },
  {
   "cell_type": "code",
   "execution_count": 17,
   "metadata": {
    "collapsed": true
   },
   "outputs": [],
   "source": [
    "# create a dataframe as copy of orignal\n",
    "norm_All_Urban_Rural_Accident_Severity_groups = All_Urban_Rural_Accident_Severity_groups.copy()"
   ]
  },
  {
   "cell_type": "code",
   "execution_count": 18,
   "metadata": {
    "collapsed": true
   },
   "outputs": [],
   "source": [
    "# define columns to normalise\n",
    "cols = norm_All_Urban_Rural_Accident_Severity_groups.columns"
   ]
  },
  {
   "cell_type": "code",
   "execution_count": 19,
   "metadata": {
    "collapsed": true
   },
   "outputs": [],
   "source": [
    "# calculate the sum of each row\n",
    "sum_rows = norm_All_Urban_Rural_Accident_Severity_groups[cols].sum(axis=1)"
   ]
  },
  {
   "cell_type": "code",
   "execution_count": 20,
   "metadata": {
    "collapsed": true
   },
   "outputs": [],
   "source": [
    "# divide each column in each row by the total sum of the row\n",
    "norm_All_Urban_Rural_Accident_Severity_groups[cols] = norm_All_Urban_Rural_Accident_Severity_groups[cols].div(sum_rows, axis=0)"
   ]
  },
  {
   "cell_type": "code",
   "execution_count": 21,
   "metadata": {},
   "outputs": [
    {
     "data": {
      "text/html": [
       "<div>\n",
       "<style scoped>\n",
       "    .dataframe tbody tr th:only-of-type {\n",
       "        vertical-align: middle;\n",
       "    }\n",
       "\n",
       "    .dataframe tbody tr th {\n",
       "        vertical-align: top;\n",
       "    }\n",
       "\n",
       "    .dataframe thead th {\n",
       "        text-align: right;\n",
       "    }\n",
       "</style>\n",
       "<table border=\"1\" class=\"dataframe\">\n",
       "  <thead>\n",
       "    <tr style=\"text-align: right;\">\n",
       "      <th>Accident_Severity</th>\n",
       "      <th>fatal</th>\n",
       "      <th>serious</th>\n",
       "      <th>slight</th>\n",
       "    </tr>\n",
       "    <tr>\n",
       "      <th>Urban_or_Rural_Area</th>\n",
       "      <th></th>\n",
       "      <th></th>\n",
       "      <th></th>\n",
       "    </tr>\n",
       "  </thead>\n",
       "  <tbody>\n",
       "    <tr>\n",
       "      <th>rural</th>\n",
       "      <td>2.532525</td>\n",
       "      <td>15.634996</td>\n",
       "      <td>81.832479</td>\n",
       "    </tr>\n",
       "    <tr>\n",
       "      <th>urban</th>\n",
       "      <td>0.641271</td>\n",
       "      <td>10.769097</td>\n",
       "      <td>88.589633</td>\n",
       "    </tr>\n",
       "  </tbody>\n",
       "</table>\n",
       "</div>"
      ],
      "text/plain": [
       "Accident_Severity       fatal    serious     slight\n",
       "Urban_or_Rural_Area                                \n",
       "rural                2.532525  15.634996  81.832479\n",
       "urban                0.641271  10.769097  88.589633"
      ]
     },
     "execution_count": 21,
     "metadata": {},
     "output_type": "execute_result"
    }
   ],
   "source": [
    "# multiply normalised dara by 100 to get a %\n",
    "percentage_norm_All_Urban_Rural_Accident_Severity_groups = 100*norm_All_Urban_Rural_Accident_Severity_groups[cols]\n",
    "percentage_norm_All_Urban_Rural_Accident_Severity_groups"
   ]
  },
  {
   "cell_type": "markdown",
   "metadata": {},
   "source": [
    "In the graph below you can see that both urban and rural area have a much higher amount of slightly severe accidents in comparison to the other levels of severity. \n",
    "\n",
    "While urban areas have a higher number of slightly severe accidents in comparison to rural areas, rural areas have more serious and fatal accidents."
   ]
  },
  {
   "cell_type": "code",
   "execution_count": 22,
   "metadata": {},
   "outputs": [
    {
     "data": {
      "text/plain": [
       "Text(0.5,0,'% Number of Accidents')"
      ]
     },
     "execution_count": 22,
     "metadata": {},
     "output_type": "execute_result"
    },
    {
     "data": {
      "image/png": "[encoded data removed]",
      "text/plain": [
       "<matplotlib.figure.Figure at 0x2546d1ca438>"
      ]
     },
     "metadata": {},
     "output_type": "display_data"
    }
   ],
   "source": [
    "norm_All_Urban_Rural_Accident_Severity_groups.plot(kind='barh', title='Number of Fatal, Serious and Slight Accidents in Urban and Rural Areas', figsize=(6,6), fontsize=15)\n",
    "plt.legend(bbox_to_anchor=(1.05, 1), loc=2, borderaxespad=0.)\n",
    "\n",
    "plt.ylabel('Urban or Rural Area', fontsize=12)\n",
    "plt.xlabel('% Number of Accidents', fontsize=12)"
   ]
  },
  {
   "cell_type": "markdown",
   "metadata": {},
   "source": [
    "# 5. On average, are there more casualties in accidents in urban or rural areas?\n",
    "\n",
    "Next, we will analyse the data to determine whether or not there are a higher number of casualties in accidents in urban or rural areas. In order to determine this we will look at the average number of accidents in both urban and rural areas.\n",
    "\n",
    "### Groupby\n",
    "* Firstly, we will group the data by the 'Urban_or_Rural_Area' column which tells us whether the accident happened in an urban or rural area.\n",
    "\n",
    "* We will then get the average number of casualties in an accident for each area by using the 'Number_of_Casualties' column which gives the data on the number of casualties in each accident."
   ]
  },
  {
   "cell_type": "markdown",
   "metadata": {},
   "source": [
    "#### Q3A_1"
   ]
  },
  {
   "cell_type": "code",
   "execution_count": 23,
   "metadata": {},
   "outputs": [
    {
     "data": {
      "text/html": [
       "<div>\n",
       "<style scoped>\n",
       "    .dataframe tbody tr th:only-of-type {\n",
       "        vertical-align: middle;\n",
       "    }\n",
       "\n",
       "    .dataframe tbody tr th {\n",
       "        vertical-align: top;\n",
       "    }\n",
       "\n",
       "    .dataframe thead th {\n",
       "        text-align: right;\n",
       "    }\n",
       "</style>\n",
       "<table border=\"1\" class=\"dataframe\">\n",
       "  <thead>\n",
       "    <tr style=\"text-align: right;\">\n",
       "      <th></th>\n",
       "      <th>Number_of_Casualties</th>\n",
       "    </tr>\n",
       "    <tr>\n",
       "      <th>Urban_or_Rural_Area</th>\n",
       "      <th></th>\n",
       "    </tr>\n",
       "  </thead>\n",
       "  <tbody>\n",
       "    <tr>\n",
       "      <th>rural</th>\n",
       "      <td>1.616796</td>\n",
       "    </tr>\n",
       "    <tr>\n",
       "      <th>urban</th>\n",
       "      <td>1.354378</td>\n",
       "    </tr>\n",
       "  </tbody>\n",
       "</table>\n",
       "</div>"
      ],
      "text/plain": [
       "                     Number_of_Casualties\n",
       "Urban_or_Rural_Area                      \n",
       "rural                            1.616796\n",
       "urban                            1.354378"
      ]
     },
     "execution_count": 23,
     "metadata": {},
     "output_type": "execute_result"
    }
   ],
   "source": [
    "Urban_Rural_Num_Casualties_a = Q3A_1.groupby('Urban_or_Rural_Area')[['Number_of_Casualties']].mean()\n",
    "Urban_Rural_Num_Casualties_a"
   ]
  },
  {
   "cell_type": "markdown",
   "metadata": {},
   "source": [
    "#### Q3A_2"
   ]
  },
  {
   "cell_type": "code",
   "execution_count": 24,
   "metadata": {},
   "outputs": [
    {
     "data": {
      "text/html": [
       "<div>\n",
       "<style scoped>\n",
       "    .dataframe tbody tr th:only-of-type {\n",
       "        vertical-align: middle;\n",
       "    }\n",
       "\n",
       "    .dataframe tbody tr th {\n",
       "        vertical-align: top;\n",
       "    }\n",
       "\n",
       "    .dataframe thead th {\n",
       "        text-align: right;\n",
       "    }\n",
       "</style>\n",
       "<table border=\"1\" class=\"dataframe\">\n",
       "  <thead>\n",
       "    <tr style=\"text-align: right;\">\n",
       "      <th></th>\n",
       "      <th>Number_of_Casualties</th>\n",
       "    </tr>\n",
       "    <tr>\n",
       "      <th>Urban_or_Rural_Area</th>\n",
       "      <th></th>\n",
       "    </tr>\n",
       "  </thead>\n",
       "  <tbody>\n",
       "    <tr>\n",
       "      <th>rural</th>\n",
       "      <td>1.599105</td>\n",
       "    </tr>\n",
       "    <tr>\n",
       "      <th>urban</th>\n",
       "      <td>1.346526</td>\n",
       "    </tr>\n",
       "  </tbody>\n",
       "</table>\n",
       "</div>"
      ],
      "text/plain": [
       "                     Number_of_Casualties\n",
       "Urban_or_Rural_Area                      \n",
       "rural                            1.599105\n",
       "urban                            1.346526"
      ]
     },
     "execution_count": 24,
     "metadata": {},
     "output_type": "execute_result"
    }
   ],
   "source": [
    "Urban_Rural_Num_Casualties_b = Q3A_2.groupby('Urban_or_Rural_Area')[['Number_of_Casualties']].mean()\n",
    "Urban_Rural_Num_Casualties_b"
   ]
  },
  {
   "cell_type": "markdown",
   "metadata": {},
   "source": [
    "### Aggregate Results\n",
    "\n",
    "* Below we will create a new dataframe containing the average number of casualties in both urban and rural areas for both of the dataframes created above.\n",
    "\n",
    "* Both of these  dataframes contains the average number of casualties for each area (urban/rural).\n",
    "\n",
    "* After this we will group this new dataframe by the 'Urban_or_Rural_Area' and sum the values in each group to give us the total 'Number_of_Casualties' in both urban and rural areas.\n",
    "\n",
    "* Finally, we will divde each group by 2 as there are two dataframes being contatenated. This will give us the \"mean of means\" to get the overall mean for each area."
   ]
  },
  {
   "cell_type": "code",
   "execution_count": 25,
   "metadata": {},
   "outputs": [
    {
     "data": {
      "text/html": [
       "<div>\n",
       "<style scoped>\n",
       "    .dataframe tbody tr th:only-of-type {\n",
       "        vertical-align: middle;\n",
       "    }\n",
       "\n",
       "    .dataframe tbody tr th {\n",
       "        vertical-align: top;\n",
       "    }\n",
       "\n",
       "    .dataframe thead th {\n",
       "        text-align: right;\n",
       "    }\n",
       "</style>\n",
       "<table border=\"1\" class=\"dataframe\">\n",
       "  <thead>\n",
       "    <tr style=\"text-align: right;\">\n",
       "      <th></th>\n",
       "      <th>Number_of_Casualties</th>\n",
       "    </tr>\n",
       "    <tr>\n",
       "      <th>Urban_or_Rural_Area</th>\n",
       "      <th></th>\n",
       "    </tr>\n",
       "  </thead>\n",
       "  <tbody>\n",
       "    <tr>\n",
       "      <th>rural</th>\n",
       "      <td>1.616796</td>\n",
       "    </tr>\n",
       "    <tr>\n",
       "      <th>urban</th>\n",
       "      <td>1.354378</td>\n",
       "    </tr>\n",
       "    <tr>\n",
       "      <th>rural</th>\n",
       "      <td>1.599105</td>\n",
       "    </tr>\n",
       "    <tr>\n",
       "      <th>urban</th>\n",
       "      <td>1.346526</td>\n",
       "    </tr>\n",
       "  </tbody>\n",
       "</table>\n",
       "</div>"
      ],
      "text/plain": [
       "                     Number_of_Casualties\n",
       "Urban_or_Rural_Area                      \n",
       "rural                            1.616796\n",
       "urban                            1.354378\n",
       "rural                            1.599105\n",
       "urban                            1.346526"
      ]
     },
     "execution_count": 25,
     "metadata": {},
     "output_type": "execute_result"
    }
   ],
   "source": [
    "All_Urban_Rural_Num_Casualties = pd.concat([Urban_Rural_Num_Casualties_a, Urban_Rural_Num_Casualties_b])\n",
    "All_Urban_Rural_Num_Casualties"
   ]
  },
  {
   "cell_type": "code",
   "execution_count": 26,
   "metadata": {},
   "outputs": [
    {
     "data": {
      "text/html": [
       "<div>\n",
       "<style scoped>\n",
       "    .dataframe tbody tr th:only-of-type {\n",
       "        vertical-align: middle;\n",
       "    }\n",
       "\n",
       "    .dataframe tbody tr th {\n",
       "        vertical-align: top;\n",
       "    }\n",
       "\n",
       "    .dataframe thead th {\n",
       "        text-align: right;\n",
       "    }\n",
       "</style>\n",
       "<table border=\"1\" class=\"dataframe\">\n",
       "  <thead>\n",
       "    <tr style=\"text-align: right;\">\n",
       "      <th></th>\n",
       "      <th>Number_of_Casualties</th>\n",
       "    </tr>\n",
       "    <tr>\n",
       "      <th>Urban_or_Rural_Area</th>\n",
       "      <th></th>\n",
       "    </tr>\n",
       "  </thead>\n",
       "  <tbody>\n",
       "    <tr>\n",
       "      <th>rural</th>\n",
       "      <td>1.607951</td>\n",
       "    </tr>\n",
       "    <tr>\n",
       "      <th>urban</th>\n",
       "      <td>1.350452</td>\n",
       "    </tr>\n",
       "  </tbody>\n",
       "</table>\n",
       "</div>"
      ],
      "text/plain": [
       "                     Number_of_Casualties\n",
       "Urban_or_Rural_Area                      \n",
       "rural                            1.607951\n",
       "urban                            1.350452"
      ]
     },
     "execution_count": 26,
     "metadata": {},
     "output_type": "execute_result"
    }
   ],
   "source": [
    "All_Urban_Rural_Num_Casualties = All_Urban_Rural_Num_Casualties.groupby(level=0).sum()/2   # mean of means\n",
    "All_Urban_Rural_Num_Casualties"
   ]
  },
  {
   "cell_type": "markdown",
   "metadata": {},
   "source": [
    "From the plot below you can see that on average there are a greater number of casualties in road accidents in rural areas."
   ]
  },
  {
   "cell_type": "code",
   "execution_count": 27,
   "metadata": {},
   "outputs": [
    {
     "data": {
      "text/plain": [
       "Text(0.5,0,'Average Number of Casualties')"
      ]
     },
     "execution_count": 27,
     "metadata": {},
     "output_type": "execute_result"
    },
    {
     "data": {
      "image/png": "[encoded data removed]",
      "text/plain": [
       "<matplotlib.figure.Figure at 0x2546d2267f0>"
      ]
     },
     "metadata": {},
     "output_type": "display_data"
    }
   ],
   "source": [
    "All_Urban_Rural_Num_Casualties.plot(kind='barh', title='Average Number of Casualties in Urban and Rural Areas', figsize=(6,6), fontsize=15)\n",
    "plt.ylabel('Urban or Rural Area', fontsize=12)\n",
    "plt.xlabel('Average Number of Casualties', fontsize=12)"
   ]
  },
  {
   "cell_type": "markdown",
   "metadata": {},
   "source": [
    "# 6. Saving Data to a Pickle File\n",
    "Here we will save the dataframes needed for our results into a pickle file."
   ]
  },
  {
   "cell_type": "code",
   "execution_count": 28,
   "metadata": {},
   "outputs": [
    {
     "name": "stdout",
     "output_type": "stream",
     "text": [
      "5.49 ms ± 151 µs per loop (mean ± std. dev. of 7 runs, 100 loops each)\n"
     ]
    },
    {
     "data": {
      "text/plain": [
       "<TimeitResult : 5.49 ms ± 151 µs per loop (mean ± std. dev. of 7 runs, 100 loops each)>"
      ]
     },
     "execution_count": 28,
     "metadata": {},
     "output_type": "execute_result"
    }
   ],
   "source": [
    "pickle_save_time = %timeit -o norm_urban_rural_groups.to_pickle(\"../../data/analysis/600_Analysis_Q3A_norm_urban_rural_groups.pkl\")\n",
    "\n",
    "pickle_save_time"
   ]
  },
  {
   "cell_type": "code",
   "execution_count": 29,
   "metadata": {},
   "outputs": [
    {
     "name": "stdout",
     "output_type": "stream",
     "text": [
      "5.67 ms ± 152 µs per loop (mean ± std. dev. of 7 runs, 100 loops each)\n"
     ]
    },
    {
     "data": {
      "text/plain": [
       "<TimeitResult : 5.67 ms ± 152 µs per loop (mean ± std. dev. of 7 runs, 100 loops each)>"
      ]
     },
     "execution_count": 29,
     "metadata": {},
     "output_type": "execute_result"
    }
   ],
   "source": [
    "pickle_save_time = %timeit -o norm_All_Urban_Rural_Accident_Severity_groups.to_pickle(\"../../data/analysis/600_Analysis_Q3A_norm_All_Urban_Rural_Accident_Severity_groups.pkl\")\n",
    "\n",
    "pickle_save_time"
   ]
  },
  {
   "cell_type": "code",
   "execution_count": 30,
   "metadata": {},
   "outputs": [
    {
     "name": "stdout",
     "output_type": "stream",
     "text": [
      "5.54 ms ± 101 µs per loop (mean ± std. dev. of 7 runs, 100 loops each)\n"
     ]
    },
    {
     "data": {
      "text/plain": [
       "<TimeitResult : 5.54 ms ± 101 µs per loop (mean ± std. dev. of 7 runs, 100 loops each)>"
      ]
     },
     "execution_count": 30,
     "metadata": {},
     "output_type": "execute_result"
    }
   ],
   "source": [
    "pickle_save_time = %timeit -o All_Urban_Rural_Num_Casualties.to_pickle(\"../../data/analysis/600_Analysis_Q3A_All_Urban_Rural_Num_Casualties.pkl\")\n",
    "\n",
    "pickle_save_time"
   ]
  },
  {
   "cell_type": "markdown",
   "metadata": {},
   "source": [
    "# 7. Creating Data Dictionaries\n",
    "Finally, we will create a data dictionary for each pickle file."
   ]
  },
  {
   "cell_type": "code",
   "execution_count": 31,
   "metadata": {},
   "outputs": [
    {
     "data": {
      "text/html": [
       "<div>\n",
       "<style scoped>\n",
       "    .dataframe tbody tr th:only-of-type {\n",
       "        vertical-align: middle;\n",
       "    }\n",
       "\n",
       "    .dataframe tbody tr th {\n",
       "        vertical-align: top;\n",
       "    }\n",
       "\n",
       "    .dataframe thead th {\n",
       "        text-align: right;\n",
       "    }\n",
       "</style>\n",
       "<table border=\"1\" class=\"dataframe\">\n",
       "  <thead>\n",
       "    <tr style=\"text-align: right;\">\n",
       "      <th></th>\n",
       "      <th>count</th>\n",
       "      <th>mean</th>\n",
       "      <th>std</th>\n",
       "      <th>min</th>\n",
       "      <th>25%</th>\n",
       "      <th>50%</th>\n",
       "      <th>75%</th>\n",
       "      <th>max</th>\n",
       "      <th>Missing</th>\n",
       "      <th>%Missing</th>\n",
       "    </tr>\n",
       "  </thead>\n",
       "  <tbody>\n",
       "    <tr>\n",
       "      <th>Accident_Count</th>\n",
       "      <td>2.0</td>\n",
       "      <td>50.0</td>\n",
       "      <td>18.67262</td>\n",
       "      <td>36.796464</td>\n",
       "      <td>43.398232</td>\n",
       "      <td>50.0</td>\n",
       "      <td>56.601768</td>\n",
       "      <td>63.203536</td>\n",
       "      <td>0</td>\n",
       "      <td>0.0</td>\n",
       "    </tr>\n",
       "  </tbody>\n",
       "</table>\n",
       "</div>"
      ],
      "text/plain": [
       "                count  mean       std        min        25%   50%        75%  \\\n",
       "Accident_Count    2.0  50.0  18.67262  36.796464  43.398232  50.0  56.601768   \n",
       "\n",
       "                      max  Missing  %Missing  \n",
       "Accident_Count  63.203536        0       0.0  "
      ]
     },
     "execution_count": 31,
     "metadata": {},
     "output_type": "execute_result"
    }
   ],
   "source": [
    "data_dictionary.save(\n",
    "    '../../data/analysis/600_Analysis_Q3A_norm_urban_rural_groups.pkl', \n",
    "\n",
    "\"\"\"\\\n",
    "Aggregate raw data for urban rural groups.\n",
    "\"\"\").head()"
   ]
  },
  {
   "cell_type": "code",
   "execution_count": 32,
   "metadata": {},
   "outputs": [
    {
     "data": {
      "text/html": [
       "<div>\n",
       "<style scoped>\n",
       "    .dataframe tbody tr th:only-of-type {\n",
       "        vertical-align: middle;\n",
       "    }\n",
       "\n",
       "    .dataframe tbody tr th {\n",
       "        vertical-align: top;\n",
       "    }\n",
       "\n",
       "    .dataframe thead th {\n",
       "        text-align: right;\n",
       "    }\n",
       "</style>\n",
       "<table border=\"1\" class=\"dataframe\">\n",
       "  <thead>\n",
       "    <tr style=\"text-align: right;\">\n",
       "      <th></th>\n",
       "      <th>count</th>\n",
       "      <th>mean</th>\n",
       "      <th>std</th>\n",
       "      <th>min</th>\n",
       "      <th>25%</th>\n",
       "      <th>50%</th>\n",
       "      <th>75%</th>\n",
       "      <th>max</th>\n",
       "      <th>Missing</th>\n",
       "      <th>%Missing</th>\n",
       "    </tr>\n",
       "    <tr>\n",
       "      <th>Accident_Severity</th>\n",
       "      <th></th>\n",
       "      <th></th>\n",
       "      <th></th>\n",
       "      <th></th>\n",
       "      <th></th>\n",
       "      <th></th>\n",
       "      <th></th>\n",
       "      <th></th>\n",
       "      <th></th>\n",
       "      <th></th>\n",
       "    </tr>\n",
       "  </thead>\n",
       "  <tbody>\n",
       "    <tr>\n",
       "      <th>fatal</th>\n",
       "      <td>2.0</td>\n",
       "      <td>0.015869</td>\n",
       "      <td>0.013373</td>\n",
       "      <td>0.006413</td>\n",
       "      <td>0.011141</td>\n",
       "      <td>0.015869</td>\n",
       "      <td>0.020597</td>\n",
       "      <td>0.025325</td>\n",
       "      <td>0</td>\n",
       "      <td>0.0</td>\n",
       "    </tr>\n",
       "    <tr>\n",
       "      <th>serious</th>\n",
       "      <td>2.0</td>\n",
       "      <td>0.132020</td>\n",
       "      <td>0.034407</td>\n",
       "      <td>0.107691</td>\n",
       "      <td>0.119856</td>\n",
       "      <td>0.132020</td>\n",
       "      <td>0.144185</td>\n",
       "      <td>0.156350</td>\n",
       "      <td>0</td>\n",
       "      <td>0.0</td>\n",
       "    </tr>\n",
       "    <tr>\n",
       "      <th>slight</th>\n",
       "      <td>2.0</td>\n",
       "      <td>0.852111</td>\n",
       "      <td>0.047780</td>\n",
       "      <td>0.818325</td>\n",
       "      <td>0.835218</td>\n",
       "      <td>0.852111</td>\n",
       "      <td>0.869003</td>\n",
       "      <td>0.885896</td>\n",
       "      <td>0</td>\n",
       "      <td>0.0</td>\n",
       "    </tr>\n",
       "  </tbody>\n",
       "</table>\n",
       "</div>"
      ],
      "text/plain": [
       "                   count      mean       std       min       25%       50%  \\\n",
       "Accident_Severity                                                            \n",
       "fatal                2.0  0.015869  0.013373  0.006413  0.011141  0.015869   \n",
       "serious              2.0  0.132020  0.034407  0.107691  0.119856  0.132020   \n",
       "slight               2.0  0.852111  0.047780  0.818325  0.835218  0.852111   \n",
       "\n",
       "                        75%       max  Missing  %Missing  \n",
       "Accident_Severity                                         \n",
       "fatal              0.020597  0.025325        0       0.0  \n",
       "serious            0.144185  0.156350        0       0.0  \n",
       "slight             0.869003  0.885896        0       0.0  "
      ]
     },
     "execution_count": 32,
     "metadata": {},
     "output_type": "execute_result"
    }
   ],
   "source": [
    "data_dictionary.save(\n",
    "    '../../data/analysis/600_Analysis_Q3A_norm_All_Urban_Rural_Accident_Severity_groups.pkl', \n",
    "\n",
    "\"\"\"\\\n",
    "Aggregate raw data for accident severity in urban and rural groups.\n",
    "\"\"\").head()"
   ]
  },
  {
   "cell_type": "code",
   "execution_count": 33,
   "metadata": {},
   "outputs": [
    {
     "data": {
      "text/html": [
       "<div>\n",
       "<style scoped>\n",
       "    .dataframe tbody tr th:only-of-type {\n",
       "        vertical-align: middle;\n",
       "    }\n",
       "\n",
       "    .dataframe tbody tr th {\n",
       "        vertical-align: top;\n",
       "    }\n",
       "\n",
       "    .dataframe thead th {\n",
       "        text-align: right;\n",
       "    }\n",
       "</style>\n",
       "<table border=\"1\" class=\"dataframe\">\n",
       "  <thead>\n",
       "    <tr style=\"text-align: right;\">\n",
       "      <th></th>\n",
       "      <th>count</th>\n",
       "      <th>mean</th>\n",
       "      <th>std</th>\n",
       "      <th>min</th>\n",
       "      <th>25%</th>\n",
       "      <th>50%</th>\n",
       "      <th>75%</th>\n",
       "      <th>max</th>\n",
       "      <th>Missing</th>\n",
       "      <th>%Missing</th>\n",
       "    </tr>\n",
       "  </thead>\n",
       "  <tbody>\n",
       "    <tr>\n",
       "      <th>Number_of_Casualties</th>\n",
       "      <td>2.0</td>\n",
       "      <td>1.479201</td>\n",
       "      <td>0.182079</td>\n",
       "      <td>1.350452</td>\n",
       "      <td>1.414827</td>\n",
       "      <td>1.479201</td>\n",
       "      <td>1.543576</td>\n",
       "      <td>1.607951</td>\n",
       "      <td>0</td>\n",
       "      <td>0.0</td>\n",
       "    </tr>\n",
       "  </tbody>\n",
       "</table>\n",
       "</div>"
      ],
      "text/plain": [
       "                      count      mean       std       min       25%       50%  \\\n",
       "Number_of_Casualties    2.0  1.479201  0.182079  1.350452  1.414827  1.479201   \n",
       "\n",
       "                           75%       max  Missing  %Missing  \n",
       "Number_of_Casualties  1.543576  1.607951        0       0.0  "
      ]
     },
     "execution_count": 33,
     "metadata": {},
     "output_type": "execute_result"
    }
   ],
   "source": [
    "data_dictionary.save(\n",
    "    '../../data/analysis/600_Analysis_Q3A_All_Urban_Rural_Num_Casualties.pkl', \n",
    "\n",
    "\"\"\"\\\n",
    "Aggregate raw data for average number of casualties in urban and rural areas.\n",
    "\"\"\").head()"
   ]
  },
  {
   "cell_type": "code",
   "execution_count": null,
   "metadata": {
    "collapsed": true
   },
   "outputs": [],
   "source": []
  }
 ],
 "metadata": {
  "kernelspec": {
   "display_name": "Python 3",
   "language": "python",
   "name": "python3"
  },
  "language_info": {
   "codemirror_mode": {
    "name": "ipython",
    "version": 3
   },
   "file_extension": ".py",
   "mimetype": "text/x-python",
   "name": "python",
   "nbconvert_exporter": "python",
   "pygments_lexer": "ipython3",
   "version": "3.6.3"
  }
 },
 "nbformat": 4,
 "nbformat_minor": 2
}
