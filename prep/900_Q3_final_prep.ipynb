{
 "cells": [
  {
   "cell_type": "markdown",
   "metadata": {},
   "source": [
    "# 900_Q3_final_prep\n",
    "\n",
    "## Purpose\n",
    "\n",
    "The Purpose of this Notebook is to finalise our preparation of our Road Safety datasets for our third research question. We will focus on our 'Date' column, sorting our data by year and concatenating our datasets to form our final prep pickle files which will enable us to answer research question three: _\" Does Location impact Road Safety? \"_\n",
    "\n",
    "\n",
    "### Notebook Contents:\n",
    "\n",
    "* __1:__ Loading our Datasets\n",
    "\n",
    "* __2:__ Question Three: (A)\n",
    "     * __2.1:__ Sort by Year\n",
    "     * __2.2:__ Creating new Datasets\n",
    "     * __2.3:__ Check for Null Values\n",
    "\n",
    "* __3:__ Question Three: (B)     \n",
    "     * __3.1:__ Sort by Year\n",
    "     * __3.2:__ Creating new Datasets\n",
    "     * __3.3:__ Check for Null Values\n",
    "\n",
    "* __4:__ Saving Datasets to pickle files\n",
    "\n",
    "\n",
    "* __5:__ Creating Data Dictionaries\n",
    "\n",
    "\n",
    "## Datasets\n",
    "\n",
    "* __Input__: \n",
    "\n",
    "* 600_prep_missing_values_7904c_Q3A.pkl (Recorded UK Road Accident Data 1979 - 2004 (c) for RQ3 (A), with missing values removed)\n",
    "\n",
    "\n",
    "* 600_prep_missing_values_7904c_Q3B.pkl (Recorded UK Road Accident Data 1979 - 2004 (c) for RQ3 (B), with missing values removed)\n",
    "\n",
    "\n",
    "* 600_prep_missing_values_7904d_Q3A.pkl (Recorded UK Road Accident Data 1979 - 2004 (d) for RQ3 (A), with missing values removed)\n",
    "\n",
    "\n",
    "* 600_prep_missing_values_7904d_Q3B.pkl (Recorded UK Road Accident Data 1979 - 2004 (d) for RQ3 (B), with missing values removed)\n",
    "\n",
    "\n",
    "* 500_prep_missing_values_0514_Q3A.pkl (Recorded UK Road Accident Data 2005 - 2014 for RQ3 (A), with missing values removed)\n",
    "\n",
    "\n",
    "* 500_prep_missing_values_0514_Q3B.pkl (Recorded UK Road Accident Data 2005 - 2014 for RQ3 (B), with missing values removed)\n",
    "\n",
    "\n",
    "* 600_prep_missing_values_1516_Q3A.pkl (Recorded UK Road Accident Data 2015 - 2016 for RQ3 (A), with missing values removed)\n",
    "\n",
    "\n",
    "* 600_prep_missing_values_1516_Q3B.pkl (Recorded UK Road Accident Data 2015 - 2016 for RQ3 (B), with missing values removed)\n",
    "\n",
    "\n",
    "* __Output__: \n",
    "\n",
    "* 900_Q3A_final_prep_1.pkl (Fully prepared dataset 1 of UK Road Safety Data from 1999 - 2014, for RQ3(A))\n",
    "\n",
    "\n",
    "* 900_Q3A_final_prep_2.pkl (Fully prepared dataset 2 of UK Road Safety Data from 1999 - 2014, for RQ3(A))\n",
    "\n",
    "\n",
    "* 900_Q3B_final_prep_1.pkl (Fully prepared dataset 1 of UK Road Safety Data from 1999 - 2014, for RQ3(B))\n",
    "\n",
    "\n",
    "* 900_Q3B_final_prep_2.pkl (Fully prepared dataset 2 of UK Road Safety Data from 1999 - 2014, for RQ3(B))"
   ]
  },
  {
   "cell_type": "code",
   "execution_count": 1,
   "metadata": {
    "collapsed": true
   },
   "outputs": [],
   "source": [
    "import os\n",
    "import sys\n",
    "\n",
    "import pandas as pd\n",
    "import numpy as np\n",
    "\n",
    "module_path = os.path.abspath(os.path.join('../../data/..'))\n",
    "if module_path not in sys.path:\n",
    "    sys.path.append(module_path)\n",
    "    \n",
    "from src.helpers import data_dictionary\n",
    "\n",
    "%matplotlib inline"
   ]
  },
  {
   "cell_type": "markdown",
   "metadata": {},
   "source": [
    "## 1.\n",
    "## Loading the Datasets\n",
    "\n",
    "Firstly, we will read in our input files using the pd.read_pickle method."
   ]
  },
  {
   "cell_type": "code",
   "execution_count": 5,
   "metadata": {},
   "outputs": [
    {
     "data": {
      "text/plain": [
       "(448332, 16)"
      ]
     },
     "execution_count": 5,
     "metadata": {},
     "output_type": "execute_result"
    }
   ],
   "source": [
    "df_7904c_Q3A= pd.read_pickle('../../data/processed/600_prep_missing_values_7904c_Q3A.pkl')\n",
    "df_7904c_Q3A.shape"
   ]
  },
  {
   "cell_type": "code",
   "execution_count": 6,
   "metadata": {},
   "outputs": [
    {
     "data": {
      "text/plain": [
       "(199269, 13)"
      ]
     },
     "execution_count": 6,
     "metadata": {},
     "output_type": "execute_result"
    }
   ],
   "source": [
    "df_7904c_Q3B= pd.read_pickle('../../data/processed/600_prep_missing_values_7904c_Q3B.pkl')\n",
    "df_7904c_Q3B.shape"
   ]
  },
  {
   "cell_type": "code",
   "execution_count": 7,
   "metadata": {},
   "outputs": [
    {
     "data": {
      "text/plain": [
       "(1842428, 16)"
      ]
     },
     "execution_count": 7,
     "metadata": {},
     "output_type": "execute_result"
    }
   ],
   "source": [
    "df_7904d_Q3A= pd.read_pickle('../../data/processed/600_prep_missing_values_7904d_Q3A.pkl')\n",
    "df_7904d_Q3A.shape"
   ]
  },
  {
   "cell_type": "code",
   "execution_count": 8,
   "metadata": {},
   "outputs": [
    {
     "data": {
      "text/plain": [
       "(1047006, 13)"
      ]
     },
     "execution_count": 8,
     "metadata": {},
     "output_type": "execute_result"
    }
   ],
   "source": [
    "df_7904d_Q3B= pd.read_pickle('../../data/processed/600_prep_missing_values_7904d_Q3B.pkl')\n",
    "df_7904d_Q3B.shape"
   ]
  },
  {
   "cell_type": "code",
   "execution_count": 9,
   "metadata": {},
   "outputs": [
    {
     "data": {
      "text/plain": [
       "(2810328, 16)"
      ]
     },
     "execution_count": 9,
     "metadata": {},
     "output_type": "execute_result"
    }
   ],
   "source": [
    "df_0514_Q3A= pd.read_pickle('../../data/processed/500_prep_missing_values_0514_Q3A.pkl')\n",
    "df_0514_Q3A.shape"
   ]
  },
  {
   "cell_type": "code",
   "execution_count": 10,
   "metadata": {},
   "outputs": [
    {
     "data": {
      "text/plain": [
       "(2133735, 13)"
      ]
     },
     "execution_count": 10,
     "metadata": {},
     "output_type": "execute_result"
    }
   ],
   "source": [
    "df_0514_Q3B= pd.read_pickle('../../data/processed/500_prep_missing_values_0514_Q3B.pkl')\n",
    "df_0514_Q3B.shape"
   ]
  },
  {
   "cell_type": "code",
   "execution_count": 11,
   "metadata": {},
   "outputs": [
    {
     "data": {
      "text/plain": [
       "(443646, 16)"
      ]
     },
     "execution_count": 11,
     "metadata": {},
     "output_type": "execute_result"
    }
   ],
   "source": [
    "df_1516_Q3A= pd.read_pickle('../../data/processed/600_prep_missing_values_1516_Q3A.pkl')\n",
    "df_1516_Q3A.shape"
   ]
  },
  {
   "cell_type": "code",
   "execution_count": 12,
   "metadata": {},
   "outputs": [
    {
     "data": {
      "text/plain": [
       "(183141, 13)"
      ]
     },
     "execution_count": 12,
     "metadata": {},
     "output_type": "execute_result"
    }
   ],
   "source": [
    "df_1516_Q3B= pd.read_pickle('../../data/processed/600_prep_missing_values_1516_Q3B.pkl')\n",
    "df_1516_Q3B.shape"
   ]
  },
  {
   "cell_type": "markdown",
   "metadata": {},
   "source": [
    "## 2.\n",
    "# Question Three: \n",
    "\n",
    "## (A)\n",
    "\n",
    "First we will begin by adding up the rows of each of our datasets (seen above), to see how much data we will be working with."
   ]
  },
  {
   "cell_type": "code",
   "execution_count": 13,
   "metadata": {},
   "outputs": [
    {
     "data": {
      "text/plain": [
       "5546572"
      ]
     },
     "execution_count": 13,
     "metadata": {},
     "output_type": "execute_result"
    }
   ],
   "source": [
    "448332 + 1844266 + 2810328 + 443646"
   ]
  },
  {
   "cell_type": "markdown",
   "metadata": {},
   "source": [
    "From above, you can see that each of our datasets for Q3 (A) adds up to just over 5,500,000 rows.\n",
    "\n",
    "As this is such a large amount of rows, we will continue to use multiple datasets rather than concatenating them for the time being.\n",
    "\n",
    "\n",
    "## 2.1\n",
    "## _ Sort By Year _\n",
    "\n",
    "we will split our 'Date' column up into three separate columns for Day, Month and Year using the str.split method."
   ]
  },
  {
   "cell_type": "code",
   "execution_count": 14,
   "metadata": {
    "collapsed": true
   },
   "outputs": [],
   "source": [
    "df_7904c_Q3A[['Date_Day', 'Month', 'Year']] = df_7904c_Q3A['Date'].str.split(pat = '/', n=-1, expand=True)"
   ]
  },
  {
   "cell_type": "code",
   "execution_count": 15,
   "metadata": {
    "collapsed": true
   },
   "outputs": [],
   "source": [
    "df_7904d_Q3A[['Date_Day', 'Month', 'Year']] = df_7904d_Q3A['Date'].str.split(pat = '/', n=-1, expand=True)"
   ]
  },
  {
   "cell_type": "code",
   "execution_count": 16,
   "metadata": {
    "collapsed": true
   },
   "outputs": [],
   "source": [
    "df_0514_Q3A[['Date_Day', 'Month', 'Year']] = df_0514_Q3A['Date'].str.split(pat = '/', n=-1, expand=True)"
   ]
  },
  {
   "cell_type": "code",
   "execution_count": 17,
   "metadata": {
    "collapsed": true
   },
   "outputs": [],
   "source": [
    "df_1516_Q3A[['Date_Day', 'Month', 'Year']] = df_1516_Q3A['Date'].str.split(pat = '/', n=-1, expand=True)"
   ]
  },
  {
   "cell_type": "markdown",
   "metadata": {},
   "source": [
    "We will now sort our datasets in ascending order according to the 'Year' Column. "
   ]
  },
  {
   "cell_type": "code",
   "execution_count": 18,
   "metadata": {},
   "outputs": [
    {
     "data": {
      "text/html": [
       "<div>\n",
       "<style scoped>\n",
       "    .dataframe tbody tr th:only-of-type {\n",
       "        vertical-align: middle;\n",
       "    }\n",
       "\n",
       "    .dataframe tbody tr th {\n",
       "        vertical-align: top;\n",
       "    }\n",
       "\n",
       "    .dataframe thead th {\n",
       "        text-align: right;\n",
       "    }\n",
       "</style>\n",
       "<table border=\"1\" class=\"dataframe\">\n",
       "  <thead>\n",
       "    <tr style=\"text-align: right;\">\n",
       "      <th></th>\n",
       "      <th>Accident_Index</th>\n",
       "      <th>Longitude</th>\n",
       "      <th>Latitude</th>\n",
       "      <th>Accident_Severity</th>\n",
       "      <th>Number_of_Vehicles</th>\n",
       "      <th>Number_of_Casualties</th>\n",
       "      <th>Date</th>\n",
       "      <th>Day_of_Week</th>\n",
       "      <th>Time</th>\n",
       "      <th>Local_Authority_(District)</th>\n",
       "      <th>Speed_limit</th>\n",
       "      <th>Junction_Detail</th>\n",
       "      <th>Urban_or_Rural_Area</th>\n",
       "      <th>Vehicle_Type</th>\n",
       "      <th>Vehicle_Location-Restricted_Lane</th>\n",
       "      <th>Sex_of_Driver</th>\n",
       "      <th>Date_Day</th>\n",
       "      <th>Month</th>\n",
       "      <th>Year</th>\n",
       "    </tr>\n",
       "  </thead>\n",
       "  <tbody>\n",
       "    <tr>\n",
       "      <th>8521268</th>\n",
       "      <td>1999010SU0945</td>\n",
       "      <td>-0.271752</td>\n",
       "      <td>51.715661</td>\n",
       "      <td>slight</td>\n",
       "      <td>1</td>\n",
       "      <td>1</td>\n",
       "      <td>25/12/1999</td>\n",
       "      <td>sunday</td>\n",
       "      <td>09:30</td>\n",
       "      <td>33</td>\n",
       "      <td>70</td>\n",
       "      <td>slip road</td>\n",
       "      <td>rural</td>\n",
       "      <td>car</td>\n",
       "      <td>On main carriageway - not in restricted lane</td>\n",
       "      <td>female</td>\n",
       "      <td>25</td>\n",
       "      <td>12</td>\n",
       "      <td>1999</td>\n",
       "    </tr>\n",
       "    <tr>\n",
       "      <th>8521269</th>\n",
       "      <td>1999010SU0946</td>\n",
       "      <td>-0.239977</td>\n",
       "      <td>51.695136</td>\n",
       "      <td>slight</td>\n",
       "      <td>2</td>\n",
       "      <td>1</td>\n",
       "      <td>17/12/1999</td>\n",
       "      <td>saturday</td>\n",
       "      <td>18:38</td>\n",
       "      <td>33</td>\n",
       "      <td>70</td>\n",
       "      <td>not at junction or within 20 metres</td>\n",
       "      <td>rural</td>\n",
       "      <td>goods 7.5 tonnes mgw and over</td>\n",
       "      <td>On main carriageway - not in restricted lane</td>\n",
       "      <td>male</td>\n",
       "      <td>17</td>\n",
       "      <td>12</td>\n",
       "      <td>1999</td>\n",
       "    </tr>\n",
       "  </tbody>\n",
       "</table>\n",
       "</div>"
      ],
      "text/plain": [
       "        Accident_Index  Longitude   Latitude Accident_Severity  \\\n",
       "8521268  1999010SU0945  -0.271752  51.715661            slight   \n",
       "8521269  1999010SU0946  -0.239977  51.695136            slight   \n",
       "\n",
       "         Number_of_Vehicles  Number_of_Casualties        Date Day_of_Week  \\\n",
       "8521268                   1                     1  25/12/1999      sunday   \n",
       "8521269                   2                     1  17/12/1999    saturday   \n",
       "\n",
       "          Time  Local_Authority_(District)  Speed_limit  \\\n",
       "8521268  09:30                          33           70   \n",
       "8521269  18:38                          33           70   \n",
       "\n",
       "                             Junction_Detail Urban_or_Rural_Area  \\\n",
       "8521268                            slip road               rural   \n",
       "8521269  not at junction or within 20 metres               rural   \n",
       "\n",
       "                          Vehicle_Type  \\\n",
       "8521268                            car   \n",
       "8521269  goods 7.5 tonnes mgw and over   \n",
       "\n",
       "                     Vehicle_Location-Restricted_Lane Sex_of_Driver Date_Day  \\\n",
       "8521268  On main carriageway - not in restricted lane        female       25   \n",
       "8521269  On main carriageway - not in restricted lane          male       17   \n",
       "\n",
       "        Month  Year  \n",
       "8521268    12  1999  \n",
       "8521269    12  1999  "
      ]
     },
     "execution_count": 18,
     "metadata": {},
     "output_type": "execute_result"
    }
   ],
   "source": [
    "df_7904c_Q3A.sort_values('Year')\n",
    "df_7904c_Q3A.head(2) #display first 2 rows of dataset to see oldest recorded date."
   ]
  },
  {
   "cell_type": "code",
   "execution_count": 19,
   "metadata": {
    "scrolled": true
   },
   "outputs": [
    {
     "data": {
      "text/html": [
       "<div>\n",
       "<style scoped>\n",
       "    .dataframe tbody tr th:only-of-type {\n",
       "        vertical-align: middle;\n",
       "    }\n",
       "\n",
       "    .dataframe tbody tr th {\n",
       "        vertical-align: top;\n",
       "    }\n",
       "\n",
       "    .dataframe thead th {\n",
       "        text-align: right;\n",
       "    }\n",
       "</style>\n",
       "<table border=\"1\" class=\"dataframe\">\n",
       "  <thead>\n",
       "    <tr style=\"text-align: right;\">\n",
       "      <th></th>\n",
       "      <th>Accident_Index</th>\n",
       "      <th>Longitude</th>\n",
       "      <th>Latitude</th>\n",
       "      <th>Accident_Severity</th>\n",
       "      <th>Number_of_Vehicles</th>\n",
       "      <th>Number_of_Casualties</th>\n",
       "      <th>Date</th>\n",
       "      <th>Day_of_Week</th>\n",
       "      <th>Time</th>\n",
       "      <th>Local_Authority_(District)</th>\n",
       "      <th>Speed_limit</th>\n",
       "      <th>Junction_Detail</th>\n",
       "      <th>Urban_or_Rural_Area</th>\n",
       "      <th>Vehicle_Type</th>\n",
       "      <th>Vehicle_Location-Restricted_Lane</th>\n",
       "      <th>Sex_of_Driver</th>\n",
       "      <th>Date_Day</th>\n",
       "      <th>Month</th>\n",
       "      <th>Year</th>\n",
       "    </tr>\n",
       "  </thead>\n",
       "  <tbody>\n",
       "    <tr>\n",
       "      <th>9000001</th>\n",
       "      <td>200001TX00967</td>\n",
       "      <td>-0.314746</td>\n",
       "      <td>51.489498</td>\n",
       "      <td>slight</td>\n",
       "      <td>3</td>\n",
       "      <td>2</td>\n",
       "      <td>11/09/2000</td>\n",
       "      <td>tuesday</td>\n",
       "      <td>06:47</td>\n",
       "      <td>25</td>\n",
       "      <td>40</td>\n",
       "      <td>not at junction or within 20 metres</td>\n",
       "      <td>urban</td>\n",
       "      <td>van / goods 3.5 tonnes mgw or under</td>\n",
       "      <td>On main carriageway - not in restricted lane</td>\n",
       "      <td>male</td>\n",
       "      <td>11</td>\n",
       "      <td>09</td>\n",
       "      <td>2000</td>\n",
       "    </tr>\n",
       "    <tr>\n",
       "      <th>9000002</th>\n",
       "      <td>200001TX00967</td>\n",
       "      <td>-0.314746</td>\n",
       "      <td>51.489498</td>\n",
       "      <td>slight</td>\n",
       "      <td>3</td>\n",
       "      <td>2</td>\n",
       "      <td>11/09/2000</td>\n",
       "      <td>tuesday</td>\n",
       "      <td>06:47</td>\n",
       "      <td>25</td>\n",
       "      <td>40</td>\n",
       "      <td>not at junction or within 20 metres</td>\n",
       "      <td>urban</td>\n",
       "      <td>car</td>\n",
       "      <td>On main carriageway - not in restricted lane</td>\n",
       "      <td>male</td>\n",
       "      <td>11</td>\n",
       "      <td>09</td>\n",
       "      <td>2000</td>\n",
       "    </tr>\n",
       "  </tbody>\n",
       "</table>\n",
       "</div>"
      ],
      "text/plain": [
       "        Accident_Index  Longitude   Latitude Accident_Severity  \\\n",
       "9000001  200001TX00967  -0.314746  51.489498            slight   \n",
       "9000002  200001TX00967  -0.314746  51.489498            slight   \n",
       "\n",
       "         Number_of_Vehicles  Number_of_Casualties        Date Day_of_Week  \\\n",
       "9000001                   3                     2  11/09/2000     tuesday   \n",
       "9000002                   3                     2  11/09/2000     tuesday   \n",
       "\n",
       "          Time  Local_Authority_(District)  Speed_limit  \\\n",
       "9000001  06:47                          25           40   \n",
       "9000002  06:47                          25           40   \n",
       "\n",
       "                             Junction_Detail Urban_or_Rural_Area  \\\n",
       "9000001  not at junction or within 20 metres               urban   \n",
       "9000002  not at junction or within 20 metres               urban   \n",
       "\n",
       "                                Vehicle_Type  \\\n",
       "9000001  van / goods 3.5 tonnes mgw or under   \n",
       "9000002                                  car   \n",
       "\n",
       "                     Vehicle_Location-Restricted_Lane Sex_of_Driver Date_Day  \\\n",
       "9000001  On main carriageway - not in restricted lane          male       11   \n",
       "9000002  On main carriageway - not in restricted lane          male       11   \n",
       "\n",
       "        Month  Year  \n",
       "9000001    09  2000  \n",
       "9000002    09  2000  "
      ]
     },
     "execution_count": 19,
     "metadata": {},
     "output_type": "execute_result"
    }
   ],
   "source": [
    "df_7904d_Q3A.sort_values('Year')\n",
    "df_7904d_Q3A.head(2)"
   ]
  },
  {
   "cell_type": "code",
   "execution_count": 20,
   "metadata": {},
   "outputs": [
    {
     "data": {
      "text/html": [
       "<div>\n",
       "<style scoped>\n",
       "    .dataframe tbody tr th:only-of-type {\n",
       "        vertical-align: middle;\n",
       "    }\n",
       "\n",
       "    .dataframe tbody tr th {\n",
       "        vertical-align: top;\n",
       "    }\n",
       "\n",
       "    .dataframe thead th {\n",
       "        text-align: right;\n",
       "    }\n",
       "</style>\n",
       "<table border=\"1\" class=\"dataframe\">\n",
       "  <thead>\n",
       "    <tr style=\"text-align: right;\">\n",
       "      <th></th>\n",
       "      <th>Accident_Index</th>\n",
       "      <th>Longitude</th>\n",
       "      <th>Latitude</th>\n",
       "      <th>Accident_Severity</th>\n",
       "      <th>Number_of_Vehicles</th>\n",
       "      <th>Number_of_Casualties</th>\n",
       "      <th>Date</th>\n",
       "      <th>Day_of_Week</th>\n",
       "      <th>Time</th>\n",
       "      <th>Local_Authority_(District)</th>\n",
       "      <th>Speed_limit</th>\n",
       "      <th>Junction_Detail</th>\n",
       "      <th>Vehicle_Type</th>\n",
       "      <th>Urban_or_Rural_Area</th>\n",
       "      <th>Vehicle_Location-Restricted_Lane</th>\n",
       "      <th>Sex_of_Driver</th>\n",
       "      <th>Date_Day</th>\n",
       "      <th>Month</th>\n",
       "      <th>Year</th>\n",
       "    </tr>\n",
       "  </thead>\n",
       "  <tbody>\n",
       "    <tr>\n",
       "      <th>0</th>\n",
       "      <td>200501BS00001</td>\n",
       "      <td>-0.191170</td>\n",
       "      <td>51.489096</td>\n",
       "      <td>serious</td>\n",
       "      <td>1</td>\n",
       "      <td>1</td>\n",
       "      <td>04/01/2005</td>\n",
       "      <td>wednesday</td>\n",
       "      <td>17:42</td>\n",
       "      <td>12</td>\n",
       "      <td>30</td>\n",
       "      <td>not at junction or within 20 metres</td>\n",
       "      <td>car</td>\n",
       "      <td>urban</td>\n",
       "      <td>On main carriageway - not in restricted lane</td>\n",
       "      <td>female</td>\n",
       "      <td>04</td>\n",
       "      <td>01</td>\n",
       "      <td>2005</td>\n",
       "    </tr>\n",
       "    <tr>\n",
       "      <th>1</th>\n",
       "      <td>200501BS00002</td>\n",
       "      <td>-0.211708</td>\n",
       "      <td>51.520075</td>\n",
       "      <td>slight</td>\n",
       "      <td>1</td>\n",
       "      <td>1</td>\n",
       "      <td>05/01/2005</td>\n",
       "      <td>thursday</td>\n",
       "      <td>17:36</td>\n",
       "      <td>12</td>\n",
       "      <td>30</td>\n",
       "      <td>crossroads</td>\n",
       "      <td>bus or coach</td>\n",
       "      <td>urban</td>\n",
       "      <td>On main carriageway - not in restricted lane</td>\n",
       "      <td>male</td>\n",
       "      <td>05</td>\n",
       "      <td>01</td>\n",
       "      <td>2005</td>\n",
       "    </tr>\n",
       "  </tbody>\n",
       "</table>\n",
       "</div>"
      ],
      "text/plain": [
       "  Accident_Index  Longitude   Latitude Accident_Severity  Number_of_Vehicles  \\\n",
       "0  200501BS00001  -0.191170  51.489096           serious                   1   \n",
       "1  200501BS00002  -0.211708  51.520075            slight                   1   \n",
       "\n",
       "   Number_of_Casualties        Date Day_of_Week   Time  \\\n",
       "0                     1  04/01/2005   wednesday  17:42   \n",
       "1                     1  05/01/2005    thursday  17:36   \n",
       "\n",
       "   Local_Authority_(District)  Speed_limit  \\\n",
       "0                          12           30   \n",
       "1                          12           30   \n",
       "\n",
       "                       Junction_Detail  Vehicle_Type Urban_or_Rural_Area  \\\n",
       "0  not at junction or within 20 metres           car               urban   \n",
       "1                           crossroads  bus or coach               urban   \n",
       "\n",
       "               Vehicle_Location-Restricted_Lane Sex_of_Driver Date_Day Month  \\\n",
       "0  On main carriageway - not in restricted lane        female       04    01   \n",
       "1  On main carriageway - not in restricted lane          male       05    01   \n",
       "\n",
       "   Year  \n",
       "0  2005  \n",
       "1  2005  "
      ]
     },
     "execution_count": 20,
     "metadata": {},
     "output_type": "execute_result"
    }
   ],
   "source": [
    "df_0514_Q3A.sort_values('Year')\n",
    "df_0514_Q3A.head(2)"
   ]
  },
  {
   "cell_type": "code",
   "execution_count": 21,
   "metadata": {},
   "outputs": [
    {
     "data": {
      "text/html": [
       "<div>\n",
       "<style scoped>\n",
       "    .dataframe tbody tr th:only-of-type {\n",
       "        vertical-align: middle;\n",
       "    }\n",
       "\n",
       "    .dataframe tbody tr th {\n",
       "        vertical-align: top;\n",
       "    }\n",
       "\n",
       "    .dataframe thead th {\n",
       "        text-align: right;\n",
       "    }\n",
       "</style>\n",
       "<table border=\"1\" class=\"dataframe\">\n",
       "  <thead>\n",
       "    <tr style=\"text-align: right;\">\n",
       "      <th></th>\n",
       "      <th>Accident_Index</th>\n",
       "      <th>Longitude</th>\n",
       "      <th>Latitude</th>\n",
       "      <th>Accident_Severity</th>\n",
       "      <th>Number_of_Vehicles</th>\n",
       "      <th>Number_of_Casualties</th>\n",
       "      <th>Date</th>\n",
       "      <th>Day_of_Week</th>\n",
       "      <th>Time</th>\n",
       "      <th>Local_Authority_(District)</th>\n",
       "      <th>Speed_limit</th>\n",
       "      <th>Junction_Detail</th>\n",
       "      <th>Urban_or_Rural_Area</th>\n",
       "      <th>Vehicle_Type</th>\n",
       "      <th>Vehicle_Location-Restricted_Lane</th>\n",
       "      <th>Sex_of_Driver</th>\n",
       "      <th>Date_Day</th>\n",
       "      <th>Month</th>\n",
       "      <th>Year</th>\n",
       "    </tr>\n",
       "  </thead>\n",
       "  <tbody>\n",
       "    <tr>\n",
       "      <th>479546</th>\n",
       "      <td>2016984131316</td>\n",
       "      <td>-3.272584</td>\n",
       "      <td>54.989597</td>\n",
       "      <td>slight</td>\n",
       "      <td>1</td>\n",
       "      <td>3</td>\n",
       "      <td>29/10/2016</td>\n",
       "      <td>sunday</td>\n",
       "      <td>20:00</td>\n",
       "      <td>917</td>\n",
       "      <td>40.0</td>\n",
       "      <td>not at junction or within 20 metres</td>\n",
       "      <td>rural</td>\n",
       "      <td>car</td>\n",
       "      <td>On main carriageway - not in restricted lane</td>\n",
       "      <td>male</td>\n",
       "      <td>29</td>\n",
       "      <td>10</td>\n",
       "      <td>2016</td>\n",
       "    </tr>\n",
       "    <tr>\n",
       "      <th>479547</th>\n",
       "      <td>2016984133416</td>\n",
       "      <td>-3.448392</td>\n",
       "      <td>55.310151</td>\n",
       "      <td>slight</td>\n",
       "      <td>1</td>\n",
       "      <td>2</td>\n",
       "      <td>25/12/2016</td>\n",
       "      <td>monday</td>\n",
       "      <td>12:30</td>\n",
       "      <td>917</td>\n",
       "      <td>70.0</td>\n",
       "      <td>not at junction or within 20 metres</td>\n",
       "      <td>rural</td>\n",
       "      <td>car</td>\n",
       "      <td>On main carriageway - not in restricted lane</td>\n",
       "      <td>male</td>\n",
       "      <td>25</td>\n",
       "      <td>12</td>\n",
       "      <td>2016</td>\n",
       "    </tr>\n",
       "  </tbody>\n",
       "</table>\n",
       "</div>"
      ],
      "text/plain": [
       "       Accident_Index  Longitude   Latitude Accident_Severity  \\\n",
       "479546  2016984131316  -3.272584  54.989597            slight   \n",
       "479547  2016984133416  -3.448392  55.310151            slight   \n",
       "\n",
       "        Number_of_Vehicles  Number_of_Casualties        Date Day_of_Week  \\\n",
       "479546                   1                     3  29/10/2016      sunday   \n",
       "479547                   1                     2  25/12/2016      monday   \n",
       "\n",
       "         Time  Local_Authority_(District)  Speed_limit  \\\n",
       "479546  20:00                         917         40.0   \n",
       "479547  12:30                         917         70.0   \n",
       "\n",
       "                            Junction_Detail Urban_or_Rural_Area Vehicle_Type  \\\n",
       "479546  not at junction or within 20 metres               rural          car   \n",
       "479547  not at junction or within 20 metres               rural          car   \n",
       "\n",
       "                    Vehicle_Location-Restricted_Lane Sex_of_Driver Date_Day  \\\n",
       "479546  On main carriageway - not in restricted lane          male       29   \n",
       "479547  On main carriageway - not in restricted lane          male       25   \n",
       "\n",
       "       Month  Year  \n",
       "479546    10  2016  \n",
       "479547    12  2016  "
      ]
     },
     "execution_count": 21,
     "metadata": {},
     "output_type": "execute_result"
    }
   ],
   "source": [
    "df_1516_Q3A.sort_values('Year')\n",
    "df_1516_Q3A.tail(2) #display last 2 rows of dataset to see most recent recorded date."
   ]
  },
  {
   "cell_type": "markdown",
   "metadata": {},
   "source": [
    "### _Analysis_\n",
    "\n",
    "From above, we can see that our datasets for Question Three part (A) contain data from 1999 to 2016.\n",
    "\n",
    "## 2.2\n",
    "## Creating new datasets\n",
    "\n",
    "Now that we have our final datasets fully prepared, we will concatenate our datasets so that we can reduce the number of datasets we will need to perform our analysis on to answer our research question three (A)\n",
    "\n",
    "We will do this by creating two (reduced from four), each with no more than 3 million rows (as this sized dataset can be easily managed by our processors). We will ensure that the accidents recorded in each final dataset will consist of accidents in ascending years. \n",
    "\n",
    "\n",
    "*We will not be using our df_1516_Q3A Dataset due to missing date values from 2015 in Q3 (B) below*"
   ]
  },
  {
   "cell_type": "code",
   "execution_count": 22,
   "metadata": {},
   "outputs": [
    {
     "data": {
      "text/plain": [
       "(2290760, 19)"
      ]
     },
     "execution_count": 22,
     "metadata": {},
     "output_type": "execute_result"
    }
   ],
   "source": [
    "df_7904_Q3A = pd.concat([df_7904c_Q3A,df_7904d_Q3A])\n",
    "df_7904_Q3A.shape"
   ]
  },
  {
   "cell_type": "markdown",
   "metadata": {},
   "source": [
    "## 2.3\n",
    "## Check for Null Values\n",
    "\n",
    "Ensure our Final Datasets do not contain null values"
   ]
  },
  {
   "cell_type": "code",
   "execution_count": 23,
   "metadata": {},
   "outputs": [
    {
     "data": {
      "text/plain": [
       "Accident_Index                      0\n",
       "Longitude                           0\n",
       "Latitude                            0\n",
       "Accident_Severity                   0\n",
       "Number_of_Vehicles                  0\n",
       "Number_of_Casualties                0\n",
       "Date                                0\n",
       "Day_of_Week                         0\n",
       "Time                                0\n",
       "Local_Authority_(District)          0\n",
       "Speed_limit                         0\n",
       "Junction_Detail                     0\n",
       "Urban_or_Rural_Area                 0\n",
       "Vehicle_Type                        0\n",
       "Vehicle_Location-Restricted_Lane    0\n",
       "Sex_of_Driver                       0\n",
       "Date_Day                            0\n",
       "Month                               0\n",
       "Year                                0\n",
       "dtype: int64"
      ]
     },
     "execution_count": 23,
     "metadata": {},
     "output_type": "execute_result"
    }
   ],
   "source": [
    "df_7904_Q3A.isnull().sum()"
   ]
  },
  {
   "cell_type": "code",
   "execution_count": 24,
   "metadata": {},
   "outputs": [
    {
     "data": {
      "text/plain": [
       "Accident_Index                      0\n",
       "Longitude                           0\n",
       "Latitude                            0\n",
       "Accident_Severity                   0\n",
       "Number_of_Vehicles                  0\n",
       "Number_of_Casualties                0\n",
       "Date                                0\n",
       "Day_of_Week                         0\n",
       "Time                                0\n",
       "Local_Authority_(District)          0\n",
       "Speed_limit                         0\n",
       "Junction_Detail                     0\n",
       "Vehicle_Type                        0\n",
       "Urban_or_Rural_Area                 0\n",
       "Vehicle_Location-Restricted_Lane    0\n",
       "Sex_of_Driver                       0\n",
       "Date_Day                            0\n",
       "Month                               0\n",
       "Year                                0\n",
       "dtype: int64"
      ]
     },
     "execution_count": 24,
     "metadata": {},
     "output_type": "execute_result"
    }
   ],
   "source": [
    "df_0514_Q3A.isnull().sum()"
   ]
  },
  {
   "cell_type": "markdown",
   "metadata": {},
   "source": [
    "## 3.\n",
    "# Question Three: \n",
    "\n",
    "## (B)\n",
    "\n",
    "First we will begin by adding up the rows of each of our datasets (seen above when reading in our datasets), to see how much data we will be working with."
   ]
  },
  {
   "cell_type": "code",
   "execution_count": 25,
   "metadata": {},
   "outputs": [
    {
     "data": {
      "text/plain": [
       "3563345"
      ]
     },
     "execution_count": 25,
     "metadata": {},
     "output_type": "execute_result"
    }
   ],
   "source": [
    "199269 + 1047200 + 2133735 + 183141"
   ]
  },
  {
   "cell_type": "markdown",
   "metadata": {},
   "source": [
    "As we can see from above, our datasets for Question 3 (B) total up to above 3.5 million rows. For this reason, we will sort each individual datasets below before concatenating them.\n",
    "\n",
    "## 3.1\n",
    "## _Sort By Year_\n",
    "\n",
    "we will split our 'Date' column up into three separate columns for Day, Month and Year using the str.split method."
   ]
  },
  {
   "cell_type": "code",
   "execution_count": 26,
   "metadata": {
    "collapsed": true
   },
   "outputs": [],
   "source": [
    "df_7904c_Q3B[['Date_Day', 'Month', 'Year']] = df_7904c_Q3B['Date'].str.split(pat = '/', n=-1, expand=True)  "
   ]
  },
  {
   "cell_type": "code",
   "execution_count": 27,
   "metadata": {
    "collapsed": true
   },
   "outputs": [],
   "source": [
    "df_7904d_Q3B[['Date_Day', 'Month', 'Year']] = df_7904d_Q3B['Date'].str.split(pat = '/', n=-1, expand=True) "
   ]
  },
  {
   "cell_type": "code",
   "execution_count": 28,
   "metadata": {
    "collapsed": true
   },
   "outputs": [],
   "source": [
    "df_0514_Q3B[['Date_Day', 'Month', 'Year']] = df_0514_Q3B['Date'].str.split(pat = '/', n=-1, expand=True) "
   ]
  },
  {
   "cell_type": "code",
   "execution_count": 29,
   "metadata": {
    "collapsed": true
   },
   "outputs": [],
   "source": [
    "df_1516_Q3B[['Date_Day', 'Month', 'Year']] = df_1516_Q3B['Date'].str.split(pat = '/', n=-1, expand=True) "
   ]
  },
  {
   "cell_type": "code",
   "execution_count": 30,
   "metadata": {},
   "outputs": [
    {
     "data": {
      "text/html": [
       "<div>\n",
       "<style scoped>\n",
       "    .dataframe tbody tr th:only-of-type {\n",
       "        vertical-align: middle;\n",
       "    }\n",
       "\n",
       "    .dataframe tbody tr th {\n",
       "        vertical-align: top;\n",
       "    }\n",
       "\n",
       "    .dataframe thead th {\n",
       "        text-align: right;\n",
       "    }\n",
       "</style>\n",
       "<table border=\"1\" class=\"dataframe\">\n",
       "  <thead>\n",
       "    <tr style=\"text-align: right;\">\n",
       "      <th></th>\n",
       "      <th>Accident_Index</th>\n",
       "      <th>Longitude</th>\n",
       "      <th>Latitude</th>\n",
       "      <th>Number_of_Vehicles</th>\n",
       "      <th>Number_of_Casualties</th>\n",
       "      <th>Date</th>\n",
       "      <th>Day_of_Week</th>\n",
       "      <th>Local_Authority_(District)</th>\n",
       "      <th>Special_Conditions_at_Site</th>\n",
       "      <th>Urban_or_Rural_Area</th>\n",
       "      <th>Vehicle_Type</th>\n",
       "      <th>Sex_of_Driver</th>\n",
       "      <th>Driver_IMD_Decile</th>\n",
       "      <th>Date_Day</th>\n",
       "      <th>Month</th>\n",
       "      <th>Year</th>\n",
       "    </tr>\n",
       "  </thead>\n",
       "  <tbody>\n",
       "    <tr>\n",
       "      <th>8521268</th>\n",
       "      <td>1999010SU0945</td>\n",
       "      <td>-0.271752</td>\n",
       "      <td>51.715661</td>\n",
       "      <td>1</td>\n",
       "      <td>1</td>\n",
       "      <td>25/12/1999</td>\n",
       "      <td>sunday</td>\n",
       "      <td>33</td>\n",
       "      <td>none</td>\n",
       "      <td>rural</td>\n",
       "      <td>car</td>\n",
       "      <td>female</td>\n",
       "      <td>most deprived 10%</td>\n",
       "      <td>25</td>\n",
       "      <td>12</td>\n",
       "      <td>1999</td>\n",
       "    </tr>\n",
       "    <tr>\n",
       "      <th>8521270</th>\n",
       "      <td>1999010SU0946</td>\n",
       "      <td>-0.239977</td>\n",
       "      <td>51.695136</td>\n",
       "      <td>2</td>\n",
       "      <td>1</td>\n",
       "      <td>17/12/1999</td>\n",
       "      <td>saturday</td>\n",
       "      <td>33</td>\n",
       "      <td>none</td>\n",
       "      <td>rural</td>\n",
       "      <td>car</td>\n",
       "      <td>male</td>\n",
       "      <td>most deprived 40-50%</td>\n",
       "      <td>17</td>\n",
       "      <td>12</td>\n",
       "      <td>1999</td>\n",
       "    </tr>\n",
       "  </tbody>\n",
       "</table>\n",
       "</div>"
      ],
      "text/plain": [
       "        Accident_Index  Longitude   Latitude  Number_of_Vehicles  \\\n",
       "8521268  1999010SU0945  -0.271752  51.715661                   1   \n",
       "8521270  1999010SU0946  -0.239977  51.695136                   2   \n",
       "\n",
       "         Number_of_Casualties        Date Day_of_Week  \\\n",
       "8521268                     1  25/12/1999      sunday   \n",
       "8521270                     1  17/12/1999    saturday   \n",
       "\n",
       "         Local_Authority_(District) Special_Conditions_at_Site  \\\n",
       "8521268                          33                       none   \n",
       "8521270                          33                       none   \n",
       "\n",
       "        Urban_or_Rural_Area Vehicle_Type Sex_of_Driver     Driver_IMD_Decile  \\\n",
       "8521268               rural          car        female     most deprived 10%   \n",
       "8521270               rural          car          male  most deprived 40-50%   \n",
       "\n",
       "        Date_Day Month  Year  \n",
       "8521268       25    12  1999  \n",
       "8521270       17    12  1999  "
      ]
     },
     "execution_count": 30,
     "metadata": {},
     "output_type": "execute_result"
    }
   ],
   "source": [
    "df_7904c_Q3B.sort_values('Year')\n",
    "df_7904c_Q3B.head(2) #display first two rows to see oldest recorded date"
   ]
  },
  {
   "cell_type": "code",
   "execution_count": 31,
   "metadata": {},
   "outputs": [
    {
     "data": {
      "text/html": [
       "<div>\n",
       "<style scoped>\n",
       "    .dataframe tbody tr th:only-of-type {\n",
       "        vertical-align: middle;\n",
       "    }\n",
       "\n",
       "    .dataframe tbody tr th {\n",
       "        vertical-align: top;\n",
       "    }\n",
       "\n",
       "    .dataframe thead th {\n",
       "        text-align: right;\n",
       "    }\n",
       "</style>\n",
       "<table border=\"1\" class=\"dataframe\">\n",
       "  <thead>\n",
       "    <tr style=\"text-align: right;\">\n",
       "      <th></th>\n",
       "      <th>Accident_Index</th>\n",
       "      <th>Longitude</th>\n",
       "      <th>Latitude</th>\n",
       "      <th>Number_of_Vehicles</th>\n",
       "      <th>Number_of_Casualties</th>\n",
       "      <th>Date</th>\n",
       "      <th>Day_of_Week</th>\n",
       "      <th>Local_Authority_(District)</th>\n",
       "      <th>Special_Conditions_at_Site</th>\n",
       "      <th>Urban_or_Rural_Area</th>\n",
       "      <th>Vehicle_Type</th>\n",
       "      <th>Sex_of_Driver</th>\n",
       "      <th>Driver_IMD_Decile</th>\n",
       "      <th>Date_Day</th>\n",
       "      <th>Month</th>\n",
       "      <th>Year</th>\n",
       "    </tr>\n",
       "  </thead>\n",
       "  <tbody>\n",
       "    <tr>\n",
       "      <th>9000690</th>\n",
       "      <td>200001TX01383</td>\n",
       "      <td>-0.349817</td>\n",
       "      <td>51.471652</td>\n",
       "      <td>2</td>\n",
       "      <td>1</td>\n",
       "      <td>07/09/2000</td>\n",
       "      <td>friday</td>\n",
       "      <td>25</td>\n",
       "      <td>none</td>\n",
       "      <td>urban</td>\n",
       "      <td>van / goods 3.5 tonnes mgw or under</td>\n",
       "      <td>male</td>\n",
       "      <td>most deprived 10-20%</td>\n",
       "      <td>07</td>\n",
       "      <td>09</td>\n",
       "      <td>2000</td>\n",
       "    </tr>\n",
       "    <tr>\n",
       "      <th>9000691</th>\n",
       "      <td>200001TX01383</td>\n",
       "      <td>-0.349817</td>\n",
       "      <td>51.471652</td>\n",
       "      <td>2</td>\n",
       "      <td>1</td>\n",
       "      <td>07/09/2000</td>\n",
       "      <td>friday</td>\n",
       "      <td>25</td>\n",
       "      <td>none</td>\n",
       "      <td>urban</td>\n",
       "      <td>car</td>\n",
       "      <td>male</td>\n",
       "      <td>most deprived 40-50%</td>\n",
       "      <td>07</td>\n",
       "      <td>09</td>\n",
       "      <td>2000</td>\n",
       "    </tr>\n",
       "  </tbody>\n",
       "</table>\n",
       "</div>"
      ],
      "text/plain": [
       "        Accident_Index  Longitude   Latitude  Number_of_Vehicles  \\\n",
       "9000690  200001TX01383  -0.349817  51.471652                   2   \n",
       "9000691  200001TX01383  -0.349817  51.471652                   2   \n",
       "\n",
       "         Number_of_Casualties        Date Day_of_Week  \\\n",
       "9000690                     1  07/09/2000      friday   \n",
       "9000691                     1  07/09/2000      friday   \n",
       "\n",
       "         Local_Authority_(District) Special_Conditions_at_Site  \\\n",
       "9000690                          25                       none   \n",
       "9000691                          25                       none   \n",
       "\n",
       "        Urban_or_Rural_Area                         Vehicle_Type  \\\n",
       "9000690               urban  van / goods 3.5 tonnes mgw or under   \n",
       "9000691               urban                                  car   \n",
       "\n",
       "        Sex_of_Driver     Driver_IMD_Decile Date_Day Month  Year  \n",
       "9000690          male  most deprived 10-20%       07    09  2000  \n",
       "9000691          male  most deprived 40-50%       07    09  2000  "
      ]
     },
     "execution_count": 31,
     "metadata": {},
     "output_type": "execute_result"
    }
   ],
   "source": [
    "df_7904d_Q3B.sort_values('Year')\n",
    "df_7904d_Q3B.head(2)"
   ]
  },
  {
   "cell_type": "code",
   "execution_count": 32,
   "metadata": {},
   "outputs": [
    {
     "data": {
      "text/html": [
       "<div>\n",
       "<style scoped>\n",
       "    .dataframe tbody tr th:only-of-type {\n",
       "        vertical-align: middle;\n",
       "    }\n",
       "\n",
       "    .dataframe tbody tr th {\n",
       "        vertical-align: top;\n",
       "    }\n",
       "\n",
       "    .dataframe thead th {\n",
       "        text-align: right;\n",
       "    }\n",
       "</style>\n",
       "<table border=\"1\" class=\"dataframe\">\n",
       "  <thead>\n",
       "    <tr style=\"text-align: right;\">\n",
       "      <th></th>\n",
       "      <th>Accident_Index</th>\n",
       "      <th>Longitude</th>\n",
       "      <th>Latitude</th>\n",
       "      <th>Number_of_Vehicles</th>\n",
       "      <th>Number_of_Casualties</th>\n",
       "      <th>Date</th>\n",
       "      <th>Day_of_Week</th>\n",
       "      <th>Local_Authority_(District)</th>\n",
       "      <th>Special_Conditions_at_Site</th>\n",
       "      <th>Urban_or_Rural_Area</th>\n",
       "      <th>Vehicle_Type</th>\n",
       "      <th>Sex_of_Driver</th>\n",
       "      <th>Driver_IMD_Decile</th>\n",
       "      <th>Date_Day</th>\n",
       "      <th>Month</th>\n",
       "      <th>Year</th>\n",
       "    </tr>\n",
       "  </thead>\n",
       "  <tbody>\n",
       "    <tr>\n",
       "      <th>0</th>\n",
       "      <td>200501BS00001</td>\n",
       "      <td>-0.191170</td>\n",
       "      <td>51.489096</td>\n",
       "      <td>1</td>\n",
       "      <td>1</td>\n",
       "      <td>04/01/2005</td>\n",
       "      <td>wednesday</td>\n",
       "      <td>12</td>\n",
       "      <td>none</td>\n",
       "      <td>urban</td>\n",
       "      <td>car</td>\n",
       "      <td>female</td>\n",
       "      <td>less deprived 30-40%</td>\n",
       "      <td>04</td>\n",
       "      <td>01</td>\n",
       "      <td>2005</td>\n",
       "    </tr>\n",
       "    <tr>\n",
       "      <th>2</th>\n",
       "      <td>200501BS00003</td>\n",
       "      <td>-0.206458</td>\n",
       "      <td>51.525301</td>\n",
       "      <td>2</td>\n",
       "      <td>1</td>\n",
       "      <td>06/01/2005</td>\n",
       "      <td>friday</td>\n",
       "      <td>12</td>\n",
       "      <td>none</td>\n",
       "      <td>urban</td>\n",
       "      <td>bus or coach</td>\n",
       "      <td>male</td>\n",
       "      <td>most deprived 10-20%</td>\n",
       "      <td>06</td>\n",
       "      <td>01</td>\n",
       "      <td>2005</td>\n",
       "    </tr>\n",
       "  </tbody>\n",
       "</table>\n",
       "</div>"
      ],
      "text/plain": [
       "  Accident_Index  Longitude   Latitude  Number_of_Vehicles  \\\n",
       "0  200501BS00001  -0.191170  51.489096                   1   \n",
       "2  200501BS00003  -0.206458  51.525301                   2   \n",
       "\n",
       "   Number_of_Casualties        Date Day_of_Week  Local_Authority_(District)  \\\n",
       "0                     1  04/01/2005   wednesday                          12   \n",
       "2                     1  06/01/2005      friday                          12   \n",
       "\n",
       "  Special_Conditions_at_Site Urban_or_Rural_Area  Vehicle_Type Sex_of_Driver  \\\n",
       "0                       none               urban           car        female   \n",
       "2                       none               urban  bus or coach          male   \n",
       "\n",
       "      Driver_IMD_Decile Date_Day Month  Year  \n",
       "0  less deprived 30-40%       04    01  2005  \n",
       "2  most deprived 10-20%       06    01  2005  "
      ]
     },
     "execution_count": 32,
     "metadata": {},
     "output_type": "execute_result"
    }
   ],
   "source": [
    "df_0514_Q3B.sort_values('Year')\n",
    "df_0514_Q3B.head(2)"
   ]
  },
  {
   "cell_type": "code",
   "execution_count": 33,
   "metadata": {},
   "outputs": [
    {
     "data": {
      "text/html": [
       "<div>\n",
       "<style scoped>\n",
       "    .dataframe tbody tr th:only-of-type {\n",
       "        vertical-align: middle;\n",
       "    }\n",
       "\n",
       "    .dataframe tbody tr th {\n",
       "        vertical-align: top;\n",
       "    }\n",
       "\n",
       "    .dataframe thead th {\n",
       "        text-align: right;\n",
       "    }\n",
       "</style>\n",
       "<table border=\"1\" class=\"dataframe\">\n",
       "  <thead>\n",
       "    <tr style=\"text-align: right;\">\n",
       "      <th></th>\n",
       "      <th>Accident_Index</th>\n",
       "      <th>Longitude</th>\n",
       "      <th>Latitude</th>\n",
       "      <th>Number_of_Vehicles</th>\n",
       "      <th>Number_of_Casualties</th>\n",
       "      <th>Date</th>\n",
       "      <th>Day_of_Week</th>\n",
       "      <th>Local_Authority_(District)</th>\n",
       "      <th>Special_Conditions_at_Site</th>\n",
       "      <th>Urban_or_Rural_Area</th>\n",
       "      <th>Vehicle_Type</th>\n",
       "      <th>Sex_of_Driver</th>\n",
       "      <th>Driver_IMD_Decile</th>\n",
       "      <th>Date_Day</th>\n",
       "      <th>Month</th>\n",
       "      <th>Year</th>\n",
       "    </tr>\n",
       "  </thead>\n",
       "  <tbody>\n",
       "    <tr>\n",
       "      <th>227048</th>\n",
       "      <td>2016010000005</td>\n",
       "      <td>-0.279323</td>\n",
       "      <td>51.584754</td>\n",
       "      <td>2</td>\n",
       "      <td>1</td>\n",
       "      <td>01/11/2016</td>\n",
       "      <td>wednesday</td>\n",
       "      <td>28</td>\n",
       "      <td>none</td>\n",
       "      <td>urban</td>\n",
       "      <td>taxi/private hire car</td>\n",
       "      <td>male</td>\n",
       "      <td>most deprived 20-30%</td>\n",
       "      <td>01</td>\n",
       "      <td>11</td>\n",
       "      <td>2016</td>\n",
       "    </tr>\n",
       "    <tr>\n",
       "      <th>227049</th>\n",
       "      <td>2016010000005</td>\n",
       "      <td>-0.279323</td>\n",
       "      <td>51.584754</td>\n",
       "      <td>2</td>\n",
       "      <td>1</td>\n",
       "      <td>01/11/2016</td>\n",
       "      <td>wednesday</td>\n",
       "      <td>28</td>\n",
       "      <td>none</td>\n",
       "      <td>urban</td>\n",
       "      <td>motorcycle</td>\n",
       "      <td>male</td>\n",
       "      <td>most deprived 30-40%</td>\n",
       "      <td>01</td>\n",
       "      <td>11</td>\n",
       "      <td>2016</td>\n",
       "    </tr>\n",
       "  </tbody>\n",
       "</table>\n",
       "</div>"
      ],
      "text/plain": [
       "       Accident_Index  Longitude   Latitude  Number_of_Vehicles  \\\n",
       "227048  2016010000005  -0.279323  51.584754                   2   \n",
       "227049  2016010000005  -0.279323  51.584754                   2   \n",
       "\n",
       "        Number_of_Casualties        Date Day_of_Week  \\\n",
       "227048                     1  01/11/2016   wednesday   \n",
       "227049                     1  01/11/2016   wednesday   \n",
       "\n",
       "        Local_Authority_(District) Special_Conditions_at_Site  \\\n",
       "227048                          28                       none   \n",
       "227049                          28                       none   \n",
       "\n",
       "       Urban_or_Rural_Area           Vehicle_Type Sex_of_Driver  \\\n",
       "227048               urban  taxi/private hire car          male   \n",
       "227049               urban             motorcycle          male   \n",
       "\n",
       "           Driver_IMD_Decile Date_Day Month  Year  \n",
       "227048  most deprived 20-30%       01    11  2016  \n",
       "227049  most deprived 30-40%       01    11  2016  "
      ]
     },
     "execution_count": 33,
     "metadata": {},
     "output_type": "execute_result"
    }
   ],
   "source": [
    "df_1516_Q3B.sort_values('Year')\n",
    "df_1516_Q3B.head(2)"
   ]
  },
  {
   "cell_type": "markdown",
   "metadata": {
    "collapsed": true
   },
   "source": [
    "### _Analysis_\n",
    "\n",
    "From above, we can see that our datasets for Question Three part (B) contain data from 1999 to 2016. However, we are missing data for 2015.\n",
    "\n",
    "We want to ensure that the datasets used for Question three parts (A) and (B) are consistent, ie. containing the same years. Unfrotunately as we are missing all data from 2015 for part (B) *we must disregard the df_1516_Q3A and df_1516_Q3B.* This is due to the adverse effect that this missing year would have on our result graphs. (i.e. a graph skipping from 2014 to 2016).\n",
    "\n",
    "Therefore, our resulting datasets for Question Three parts (A) and (B) will both range from the years 1999 - 2014.\n",
    "\n",
    "## 3.2\n",
    "## Creating new datasets\n",
    "\n",
    "Now that we have our final datasets fully prepared, we will concatenate our datasets so that we can reduce the number of datasets we will need to perform our analysis on to answer our research question three (B).\n",
    "\n",
    "We will do this by creating two (reduced from four), each with around 2 million rows (as this sized dataset can be easily managed by our processors). We will ensure that the accidents recorded in each final dataset will consist of accidents in ascending years. "
   ]
  },
  {
   "cell_type": "code",
   "execution_count": 31,
   "metadata": {},
   "outputs": [
    {
     "data": {
      "text/plain": [
       "(1246275, 16)"
      ]
     },
     "execution_count": 31,
     "metadata": {},
     "output_type": "execute_result"
    }
   ],
   "source": [
    "df_7904_Q3B = pd.concat([df_7904c_Q3B,df_7904d_Q3B])\n",
    "df_7904_Q3B.shape"
   ]
  },
  {
   "cell_type": "markdown",
   "metadata": {},
   "source": [
    "## 3.3\n",
    "## Check for Null Values\n",
    "\n",
    "Ensure our Final Datasets do not contain null values"
   ]
  },
  {
   "cell_type": "code",
   "execution_count": 33,
   "metadata": {},
   "outputs": [
    {
     "data": {
      "text/plain": [
       "Accident_Index                0\n",
       "Longitude                     0\n",
       "Latitude                      0\n",
       "Number_of_Vehicles            0\n",
       "Number_of_Casualties          0\n",
       "Date                          0\n",
       "Day_of_Week                   0\n",
       "Local_Authority_(District)    0\n",
       "Special_Conditions_at_Site    0\n",
       "Urban_or_Rural_Area           0\n",
       "Vehicle_Type                  0\n",
       "Sex_of_Driver                 0\n",
       "Driver_IMD_Decile             0\n",
       "Date_Day                      0\n",
       "Month                         0\n",
       "Year                          0\n",
       "dtype: int64"
      ]
     },
     "execution_count": 33,
     "metadata": {},
     "output_type": "execute_result"
    }
   ],
   "source": [
    "df_7904_Q3B.isnull().sum()"
   ]
  },
  {
   "cell_type": "code",
   "execution_count": 13,
   "metadata": {},
   "outputs": [
    {
     "data": {
      "text/plain": [
       "Accident_Index                0\n",
       "Longitude                     0\n",
       "Latitude                      0\n",
       "Number_of_Vehicles            0\n",
       "Number_of_Casualties          0\n",
       "Date                          0\n",
       "Day_of_Week                   0\n",
       "Local_Authority_(District)    0\n",
       "Special_Conditions_at_Site    0\n",
       "Urban_or_Rural_Area           0\n",
       "Vehicle_Type                  0\n",
       "Sex_of_Driver                 0\n",
       "Driver_IMD_Decile             0\n",
       "Date_Day                      0\n",
       "Month                         0\n",
       "Year                          0\n",
       "dtype: int64"
      ]
     },
     "execution_count": 13,
     "metadata": {},
     "output_type": "execute_result"
    }
   ],
   "source": [
    "df_0514_Q3B.isnull().sum()"
   ]
  },
  {
   "cell_type": "markdown",
   "metadata": {},
   "source": [
    "## 4.\n",
    "## Save to Pickle Files\n",
    "\n",
    "Once we have checked for null values, we will now save our final datasets into pickle files\n",
    "\n",
    "### (A)"
   ]
  },
  {
   "cell_type": "code",
   "execution_count": 34,
   "metadata": {},
   "outputs": [
    {
     "name": "stdout",
     "output_type": "stream",
     "text": [
      "17 s ± 123 ms per loop (mean ± std. dev. of 7 runs, 1 loop each)\n"
     ]
    },
    {
     "data": {
      "text/plain": [
       "<TimeitResult : 17 s ± 123 ms per loop (mean ± std. dev. of 7 runs, 1 loop each)>"
      ]
     },
     "execution_count": 34,
     "metadata": {},
     "output_type": "execute_result"
    }
   ],
   "source": [
    "pickle_save_time = %timeit -o df_7904_Q3A.to_pickle(\"../../data/processed/900_Q3A_final_prep_1.pkl\") #save dataset into a pickle file and print the save time\n",
    "\n",
    "pickle_save_time"
   ]
  },
  {
   "cell_type": "code",
   "execution_count": 35,
   "metadata": {},
   "outputs": [
    {
     "name": "stdout",
     "output_type": "stream",
     "text": [
      "20.5 s ± 517 ms per loop (mean ± std. dev. of 7 runs, 1 loop each)\n"
     ]
    },
    {
     "data": {
      "text/plain": [
       "<TimeitResult : 20.5 s ± 517 ms per loop (mean ± std. dev. of 7 runs, 1 loop each)>"
      ]
     },
     "execution_count": 35,
     "metadata": {},
     "output_type": "execute_result"
    }
   ],
   "source": [
    "pickle_save_time = %timeit -o df_0514_Q3A.to_pickle(\"../../data/processed/900_Q3A_final_prep_2.pkl\") #save dataset into a pickle file and print the save time\n",
    "\n",
    "pickle_save_time"
   ]
  },
  {
   "cell_type": "markdown",
   "metadata": {},
   "source": [
    "### (B)"
   ]
  },
  {
   "cell_type": "code",
   "execution_count": 38,
   "metadata": {},
   "outputs": [
    {
     "name": "stdout",
     "output_type": "stream",
     "text": [
      "9.26 s ± 795 ms per loop (mean ± std. dev. of 7 runs, 1 loop each)\n"
     ]
    },
    {
     "data": {
      "text/plain": [
       "<TimeitResult : 9.26 s ± 795 ms per loop (mean ± std. dev. of 7 runs, 1 loop each)>"
      ]
     },
     "execution_count": 38,
     "metadata": {},
     "output_type": "execute_result"
    }
   ],
   "source": [
    "pickle_save_time = %timeit -o df_7904_Q3B.to_pickle(\"../../data/processed/900_Q3B_final_prep_1.pkl\") #save dataset into a pickle file and print the save time\n",
    "\n",
    "pickle_save_time"
   ]
  },
  {
   "cell_type": "code",
   "execution_count": 14,
   "metadata": {},
   "outputs": [
    {
     "name": "stdout",
     "output_type": "stream",
     "text": [
      "15.6 s ± 360 ms per loop (mean ± std. dev. of 7 runs, 1 loop each)\n"
     ]
    },
    {
     "data": {
      "text/plain": [
       "<TimeitResult : 15.6 s ± 360 ms per loop (mean ± std. dev. of 7 runs, 1 loop each)>"
      ]
     },
     "execution_count": 14,
     "metadata": {},
     "output_type": "execute_result"
    }
   ],
   "source": [
    "pickle_save_time = %timeit -o df_0514_Q3B.to_pickle(\"../../data/processed/900_Q3B_final_prep_2.pkl\") #save dataset into a pickle file and print the save time\n",
    "\n",
    "pickle_save_time"
   ]
  },
  {
   "cell_type": "markdown",
   "metadata": {},
   "source": [
    "## 5.\n",
    "## Create Data Dictionaries\n",
    "\n",
    "We will create data dictionaries for each of our pickle files, summarising their contents.\n",
    "\n",
    "### (A)"
   ]
  },
  {
   "cell_type": "code",
   "execution_count": 36,
   "metadata": {},
   "outputs": [
    {
     "data": {
      "text/html": [
       "<div>\n",
       "<style scoped>\n",
       "    .dataframe tbody tr th:only-of-type {\n",
       "        vertical-align: middle;\n",
       "    }\n",
       "\n",
       "    .dataframe tbody tr th {\n",
       "        vertical-align: top;\n",
       "    }\n",
       "\n",
       "    .dataframe thead th {\n",
       "        text-align: right;\n",
       "    }\n",
       "</style>\n",
       "<table border=\"1\" class=\"dataframe\">\n",
       "  <thead>\n",
       "    <tr style=\"text-align: right;\">\n",
       "      <th></th>\n",
       "      <th>count</th>\n",
       "      <th>unique</th>\n",
       "      <th>top</th>\n",
       "      <th>freq</th>\n",
       "      <th>mean</th>\n",
       "      <th>std</th>\n",
       "      <th>min</th>\n",
       "      <th>25%</th>\n",
       "      <th>50%</th>\n",
       "      <th>75%</th>\n",
       "      <th>max</th>\n",
       "      <th>Missing</th>\n",
       "      <th>%Missing</th>\n",
       "    </tr>\n",
       "  </thead>\n",
       "  <tbody>\n",
       "    <tr>\n",
       "      <th>Accident_Index</th>\n",
       "      <td>2290760</td>\n",
       "      <td>1303909</td>\n",
       "      <td>2003070300788</td>\n",
       "      <td>40</td>\n",
       "      <td>NaN</td>\n",
       "      <td>NaN</td>\n",
       "      <td>NaN</td>\n",
       "      <td>NaN</td>\n",
       "      <td>NaN</td>\n",
       "      <td>NaN</td>\n",
       "      <td>NaN</td>\n",
       "      <td>0</td>\n",
       "      <td>0.0</td>\n",
       "    </tr>\n",
       "    <tr>\n",
       "      <th>Longitude</th>\n",
       "      <td>2.29076e+06</td>\n",
       "      <td>NaN</td>\n",
       "      <td>NaN</td>\n",
       "      <td>NaN</td>\n",
       "      <td>-1.44765</td>\n",
       "      <td>1.37638</td>\n",
       "      <td>-7.53617</td>\n",
       "      <td>-2.34996</td>\n",
       "      <td>-1.43441</td>\n",
       "      <td>-0.24279</td>\n",
       "      <td>1.76059</td>\n",
       "      <td>0</td>\n",
       "      <td>0.0</td>\n",
       "    </tr>\n",
       "    <tr>\n",
       "      <th>Latitude</th>\n",
       "      <td>2.29076e+06</td>\n",
       "      <td>NaN</td>\n",
       "      <td>NaN</td>\n",
       "      <td>NaN</td>\n",
       "      <td>52.5707</td>\n",
       "      <td>1.40685</td>\n",
       "      <td>49.9128</td>\n",
       "      <td>51.4983</td>\n",
       "      <td>52.3226</td>\n",
       "      <td>53.4615</td>\n",
       "      <td>60.8017</td>\n",
       "      <td>0</td>\n",
       "      <td>0.0</td>\n",
       "    </tr>\n",
       "    <tr>\n",
       "      <th>Accident_Severity</th>\n",
       "      <td>2290760</td>\n",
       "      <td>3</td>\n",
       "      <td>slight</td>\n",
       "      <td>1968731</td>\n",
       "      <td>NaN</td>\n",
       "      <td>NaN</td>\n",
       "      <td>NaN</td>\n",
       "      <td>NaN</td>\n",
       "      <td>NaN</td>\n",
       "      <td>NaN</td>\n",
       "      <td>NaN</td>\n",
       "      <td>0</td>\n",
       "      <td>0.0</td>\n",
       "    </tr>\n",
       "    <tr>\n",
       "      <th>Number_of_Vehicles</th>\n",
       "      <td>2.29076e+06</td>\n",
       "      <td>NaN</td>\n",
       "      <td>NaN</td>\n",
       "      <td>NaN</td>\n",
       "      <td>2.11502</td>\n",
       "      <td>0.943349</td>\n",
       "      <td>1</td>\n",
       "      <td>2</td>\n",
       "      <td>2</td>\n",
       "      <td>2</td>\n",
       "      <td>66</td>\n",
       "      <td>0</td>\n",
       "      <td>0.0</td>\n",
       "    </tr>\n",
       "  </tbody>\n",
       "</table>\n",
       "</div>"
      ],
      "text/plain": [
       "                          count   unique            top     freq     mean  \\\n",
       "Accident_Index          2290760  1303909  2003070300788       40      NaN   \n",
       "Longitude           2.29076e+06      NaN            NaN      NaN -1.44765   \n",
       "Latitude            2.29076e+06      NaN            NaN      NaN  52.5707   \n",
       "Accident_Severity       2290760        3         slight  1968731      NaN   \n",
       "Number_of_Vehicles  2.29076e+06      NaN            NaN      NaN  2.11502   \n",
       "\n",
       "                         std      min      25%      50%      75%      max  \\\n",
       "Accident_Index           NaN      NaN      NaN      NaN      NaN      NaN   \n",
       "Longitude            1.37638 -7.53617 -2.34996 -1.43441 -0.24279  1.76059   \n",
       "Latitude             1.40685  49.9128  51.4983  52.3226  53.4615  60.8017   \n",
       "Accident_Severity        NaN      NaN      NaN      NaN      NaN      NaN   \n",
       "Number_of_Vehicles  0.943349        1        2        2        2       66   \n",
       "\n",
       "                    Missing  %Missing  \n",
       "Accident_Index            0       0.0  \n",
       "Longitude                 0       0.0  \n",
       "Latitude                  0       0.0  \n",
       "Accident_Severity         0       0.0  \n",
       "Number_of_Vehicles        0       0.0  "
      ]
     },
     "execution_count": 36,
     "metadata": {},
     "output_type": "execute_result"
    }
   ],
   "source": [
    "data_dictionary.save(\n",
    "    '../../data/processed/900_Q3A_final_prep_1.pkl', \n",
    "\n",
    "\"\"\"\\\n",
    "Aggregate raw data for road accidents.\n",
    "\"\"\").head()"
   ]
  },
  {
   "cell_type": "code",
   "execution_count": 37,
   "metadata": {},
   "outputs": [
    {
     "data": {
      "text/html": [
       "<div>\n",
       "<style scoped>\n",
       "    .dataframe tbody tr th:only-of-type {\n",
       "        vertical-align: middle;\n",
       "    }\n",
       "\n",
       "    .dataframe tbody tr th {\n",
       "        vertical-align: top;\n",
       "    }\n",
       "\n",
       "    .dataframe thead th {\n",
       "        text-align: right;\n",
       "    }\n",
       "</style>\n",
       "<table border=\"1\" class=\"dataframe\">\n",
       "  <thead>\n",
       "    <tr style=\"text-align: right;\">\n",
       "      <th></th>\n",
       "      <th>count</th>\n",
       "      <th>unique</th>\n",
       "      <th>top</th>\n",
       "      <th>freq</th>\n",
       "      <th>mean</th>\n",
       "      <th>std</th>\n",
       "      <th>min</th>\n",
       "      <th>25%</th>\n",
       "      <th>50%</th>\n",
       "      <th>75%</th>\n",
       "      <th>max</th>\n",
       "      <th>Missing</th>\n",
       "      <th>%Missing</th>\n",
       "    </tr>\n",
       "  </thead>\n",
       "  <tbody>\n",
       "    <tr>\n",
       "      <th>Accident_Index</th>\n",
       "      <td>2810328</td>\n",
       "      <td>1601362</td>\n",
       "      <td>2013460234852</td>\n",
       "      <td>67</td>\n",
       "      <td>NaN</td>\n",
       "      <td>NaN</td>\n",
       "      <td>NaN</td>\n",
       "      <td>NaN</td>\n",
       "      <td>NaN</td>\n",
       "      <td>NaN</td>\n",
       "      <td>NaN</td>\n",
       "      <td>0</td>\n",
       "      <td>0.0</td>\n",
       "    </tr>\n",
       "    <tr>\n",
       "      <th>Longitude</th>\n",
       "      <td>2.81033e+06</td>\n",
       "      <td>NaN</td>\n",
       "      <td>NaN</td>\n",
       "      <td>NaN</td>\n",
       "      <td>-1.42802</td>\n",
       "      <td>1.39369</td>\n",
       "      <td>-7.51623</td>\n",
       "      <td>-2.34529</td>\n",
       "      <td>-1.39056</td>\n",
       "      <td>-0.228997</td>\n",
       "      <td>1.76201</td>\n",
       "      <td>0</td>\n",
       "      <td>0.0</td>\n",
       "    </tr>\n",
       "    <tr>\n",
       "      <th>Latitude</th>\n",
       "      <td>2.81033e+06</td>\n",
       "      <td>NaN</td>\n",
       "      <td>NaN</td>\n",
       "      <td>NaN</td>\n",
       "      <td>52.558</td>\n",
       "      <td>1.42906</td>\n",
       "      <td>49.9129</td>\n",
       "      <td>51.487</td>\n",
       "      <td>52.2685</td>\n",
       "      <td>53.4516</td>\n",
       "      <td>60.7575</td>\n",
       "      <td>0</td>\n",
       "      <td>0.0</td>\n",
       "    </tr>\n",
       "    <tr>\n",
       "      <th>Accident_Severity</th>\n",
       "      <td>2810328</td>\n",
       "      <td>3</td>\n",
       "      <td>slight</td>\n",
       "      <td>2423471</td>\n",
       "      <td>NaN</td>\n",
       "      <td>NaN</td>\n",
       "      <td>NaN</td>\n",
       "      <td>NaN</td>\n",
       "      <td>NaN</td>\n",
       "      <td>NaN</td>\n",
       "      <td>NaN</td>\n",
       "      <td>0</td>\n",
       "      <td>0.0</td>\n",
       "    </tr>\n",
       "    <tr>\n",
       "      <th>Number_of_Vehicles</th>\n",
       "      <td>2.81033e+06</td>\n",
       "      <td>NaN</td>\n",
       "      <td>NaN</td>\n",
       "      <td>NaN</td>\n",
       "      <td>2.10489</td>\n",
       "      <td>0.930107</td>\n",
       "      <td>1</td>\n",
       "      <td>2</td>\n",
       "      <td>2</td>\n",
       "      <td>2</td>\n",
       "      <td>67</td>\n",
       "      <td>0</td>\n",
       "      <td>0.0</td>\n",
       "    </tr>\n",
       "  </tbody>\n",
       "</table>\n",
       "</div>"
      ],
      "text/plain": [
       "                          count   unique            top     freq     mean  \\\n",
       "Accident_Index          2810328  1601362  2013460234852       67      NaN   \n",
       "Longitude           2.81033e+06      NaN            NaN      NaN -1.42802   \n",
       "Latitude            2.81033e+06      NaN            NaN      NaN   52.558   \n",
       "Accident_Severity       2810328        3         slight  2423471      NaN   \n",
       "Number_of_Vehicles  2.81033e+06      NaN            NaN      NaN  2.10489   \n",
       "\n",
       "                         std      min      25%      50%       75%      max  \\\n",
       "Accident_Index           NaN      NaN      NaN      NaN       NaN      NaN   \n",
       "Longitude            1.39369 -7.51623 -2.34529 -1.39056 -0.228997  1.76201   \n",
       "Latitude             1.42906  49.9129   51.487  52.2685   53.4516  60.7575   \n",
       "Accident_Severity        NaN      NaN      NaN      NaN       NaN      NaN   \n",
       "Number_of_Vehicles  0.930107        1        2        2         2       67   \n",
       "\n",
       "                    Missing  %Missing  \n",
       "Accident_Index            0       0.0  \n",
       "Longitude                 0       0.0  \n",
       "Latitude                  0       0.0  \n",
       "Accident_Severity         0       0.0  \n",
       "Number_of_Vehicles        0       0.0  "
      ]
     },
     "execution_count": 37,
     "metadata": {},
     "output_type": "execute_result"
    }
   ],
   "source": [
    "data_dictionary.save(\n",
    "    '../../data/processed/900_Q3A_final_prep_2.pkl', \n",
    "\n",
    "\"\"\"\\\n",
    "Aggregate raw data for road accidents.\n",
    "\"\"\").head()"
   ]
  },
  {
   "cell_type": "markdown",
   "metadata": {},
   "source": [
    "### (B)"
   ]
  },
  {
   "cell_type": "code",
   "execution_count": 42,
   "metadata": {},
   "outputs": [
    {
     "data": {
      "text/html": [
       "<div>\n",
       "<style scoped>\n",
       "    .dataframe tbody tr th:only-of-type {\n",
       "        vertical-align: middle;\n",
       "    }\n",
       "\n",
       "    .dataframe tbody tr th {\n",
       "        vertical-align: top;\n",
       "    }\n",
       "\n",
       "    .dataframe thead th {\n",
       "        text-align: right;\n",
       "    }\n",
       "</style>\n",
       "<table border=\"1\" class=\"dataframe\">\n",
       "  <thead>\n",
       "    <tr style=\"text-align: right;\">\n",
       "      <th></th>\n",
       "      <th>count</th>\n",
       "      <th>unique</th>\n",
       "      <th>top</th>\n",
       "      <th>freq</th>\n",
       "      <th>mean</th>\n",
       "      <th>std</th>\n",
       "      <th>min</th>\n",
       "      <th>25%</th>\n",
       "      <th>50%</th>\n",
       "      <th>75%</th>\n",
       "      <th>max</th>\n",
       "      <th>Missing</th>\n",
       "      <th>%Missing</th>\n",
       "    </tr>\n",
       "  </thead>\n",
       "  <tbody>\n",
       "    <tr>\n",
       "      <th>Accident_Index</th>\n",
       "      <td>1246275</td>\n",
       "      <td>820848</td>\n",
       "      <td>2003070300788</td>\n",
       "      <td>29</td>\n",
       "      <td>NaN</td>\n",
       "      <td>NaN</td>\n",
       "      <td>NaN</td>\n",
       "      <td>NaN</td>\n",
       "      <td>NaN</td>\n",
       "      <td>NaN</td>\n",
       "      <td>NaN</td>\n",
       "      <td>0</td>\n",
       "      <td>0.0</td>\n",
       "    </tr>\n",
       "    <tr>\n",
       "      <th>Longitude</th>\n",
       "      <td>1.24628e+06</td>\n",
       "      <td>NaN</td>\n",
       "      <td>NaN</td>\n",
       "      <td>NaN</td>\n",
       "      <td>-1.13765</td>\n",
       "      <td>1.0968</td>\n",
       "      <td>-7.52928</td>\n",
       "      <td>-2.07314</td>\n",
       "      <td>-1.22489</td>\n",
       "      <td>-0.180311</td>\n",
       "      <td>1.75861</td>\n",
       "      <td>0</td>\n",
       "      <td>0.0</td>\n",
       "    </tr>\n",
       "    <tr>\n",
       "      <th>Latitude</th>\n",
       "      <td>1.24628e+06</td>\n",
       "      <td>NaN</td>\n",
       "      <td>NaN</td>\n",
       "      <td>NaN</td>\n",
       "      <td>52.3971</td>\n",
       "      <td>1.06722</td>\n",
       "      <td>50.3271</td>\n",
       "      <td>51.5116</td>\n",
       "      <td>52.2574</td>\n",
       "      <td>53.3896</td>\n",
       "      <td>60.2478</td>\n",
       "      <td>0</td>\n",
       "      <td>0.0</td>\n",
       "    </tr>\n",
       "    <tr>\n",
       "      <th>Number_of_Vehicles</th>\n",
       "      <td>1.24628e+06</td>\n",
       "      <td>NaN</td>\n",
       "      <td>NaN</td>\n",
       "      <td>NaN</td>\n",
       "      <td>2.13014</td>\n",
       "      <td>0.938863</td>\n",
       "      <td>1</td>\n",
       "      <td>2</td>\n",
       "      <td>2</td>\n",
       "      <td>2</td>\n",
       "      <td>40</td>\n",
       "      <td>0</td>\n",
       "      <td>0.0</td>\n",
       "    </tr>\n",
       "    <tr>\n",
       "      <th>Number_of_Casualties</th>\n",
       "      <td>1.24628e+06</td>\n",
       "      <td>NaN</td>\n",
       "      <td>NaN</td>\n",
       "      <td>NaN</td>\n",
       "      <td>1.46266</td>\n",
       "      <td>0.967684</td>\n",
       "      <td>1</td>\n",
       "      <td>1</td>\n",
       "      <td>1</td>\n",
       "      <td>2</td>\n",
       "      <td>67</td>\n",
       "      <td>0</td>\n",
       "      <td>0.0</td>\n",
       "    </tr>\n",
       "  </tbody>\n",
       "</table>\n",
       "</div>"
      ],
      "text/plain": [
       "                            count  unique            top freq     mean  \\\n",
       "Accident_Index            1246275  820848  2003070300788   29      NaN   \n",
       "Longitude             1.24628e+06     NaN            NaN  NaN -1.13765   \n",
       "Latitude              1.24628e+06     NaN            NaN  NaN  52.3971   \n",
       "Number_of_Vehicles    1.24628e+06     NaN            NaN  NaN  2.13014   \n",
       "Number_of_Casualties  1.24628e+06     NaN            NaN  NaN  1.46266   \n",
       "\n",
       "                           std      min      25%      50%       75%      max  \\\n",
       "Accident_Index             NaN      NaN      NaN      NaN       NaN      NaN   \n",
       "Longitude               1.0968 -7.52928 -2.07314 -1.22489 -0.180311  1.75861   \n",
       "Latitude               1.06722  50.3271  51.5116  52.2574   53.3896  60.2478   \n",
       "Number_of_Vehicles    0.938863        1        2        2         2       40   \n",
       "Number_of_Casualties  0.967684        1        1        1         2       67   \n",
       "\n",
       "                      Missing  %Missing  \n",
       "Accident_Index              0       0.0  \n",
       "Longitude                   0       0.0  \n",
       "Latitude                    0       0.0  \n",
       "Number_of_Vehicles          0       0.0  \n",
       "Number_of_Casualties        0       0.0  "
      ]
     },
     "execution_count": 42,
     "metadata": {},
     "output_type": "execute_result"
    }
   ],
   "source": [
    "data_dictionary.save(\n",
    "    '../../data/processed/900_Q3B_final_prep_1.pkl', \n",
    "\n",
    "\"\"\"\\\n",
    "Aggregate raw data for road accidents.\n",
    "\"\"\").head()"
   ]
  },
  {
   "cell_type": "code",
   "execution_count": 15,
   "metadata": {},
   "outputs": [
    {
     "data": {
      "text/html": [
       "<div>\n",
       "<style scoped>\n",
       "    .dataframe tbody tr th:only-of-type {\n",
       "        vertical-align: middle;\n",
       "    }\n",
       "\n",
       "    .dataframe tbody tr th {\n",
       "        vertical-align: top;\n",
       "    }\n",
       "\n",
       "    .dataframe thead th {\n",
       "        text-align: right;\n",
       "    }\n",
       "</style>\n",
       "<table border=\"1\" class=\"dataframe\">\n",
       "  <thead>\n",
       "    <tr style=\"text-align: right;\">\n",
       "      <th></th>\n",
       "      <th>count</th>\n",
       "      <th>unique</th>\n",
       "      <th>top</th>\n",
       "      <th>freq</th>\n",
       "      <th>mean</th>\n",
       "      <th>std</th>\n",
       "      <th>min</th>\n",
       "      <th>25%</th>\n",
       "      <th>50%</th>\n",
       "      <th>75%</th>\n",
       "      <th>max</th>\n",
       "      <th>Missing</th>\n",
       "      <th>%Missing</th>\n",
       "    </tr>\n",
       "  </thead>\n",
       "  <tbody>\n",
       "    <tr>\n",
       "      <th>Accident_Index</th>\n",
       "      <td>2133735</td>\n",
       "      <td>1325488</td>\n",
       "      <td>2013460234852</td>\n",
       "      <td>52</td>\n",
       "      <td>NaN</td>\n",
       "      <td>NaN</td>\n",
       "      <td>NaN</td>\n",
       "      <td>NaN</td>\n",
       "      <td>NaN</td>\n",
       "      <td>NaN</td>\n",
       "      <td>NaN</td>\n",
       "      <td>0</td>\n",
       "      <td>0.0</td>\n",
       "    </tr>\n",
       "    <tr>\n",
       "      <th>Longitude</th>\n",
       "      <td>2.13374e+06</td>\n",
       "      <td>NaN</td>\n",
       "      <td>NaN</td>\n",
       "      <td>NaN</td>\n",
       "      <td>-1.19098</td>\n",
       "      <td>1.22116</td>\n",
       "      <td>-7.50412</td>\n",
       "      <td>-2.06828</td>\n",
       "      <td>-1.22207</td>\n",
       "      <td>-0.190866</td>\n",
       "      <td>1.76201</td>\n",
       "      <td>0</td>\n",
       "      <td>0.0</td>\n",
       "    </tr>\n",
       "    <tr>\n",
       "      <th>Latitude</th>\n",
       "      <td>2.13374e+06</td>\n",
       "      <td>NaN</td>\n",
       "      <td>NaN</td>\n",
       "      <td>NaN</td>\n",
       "      <td>52.3433</td>\n",
       "      <td>1.15</td>\n",
       "      <td>49.9129</td>\n",
       "      <td>51.4563</td>\n",
       "      <td>52.1328</td>\n",
       "      <td>53.3776</td>\n",
       "      <td>60.311</td>\n",
       "      <td>0</td>\n",
       "      <td>0.0</td>\n",
       "    </tr>\n",
       "    <tr>\n",
       "      <th>Number_of_Vehicles</th>\n",
       "      <td>2.13374e+06</td>\n",
       "      <td>NaN</td>\n",
       "      <td>NaN</td>\n",
       "      <td>NaN</td>\n",
       "      <td>2.11117</td>\n",
       "      <td>0.921435</td>\n",
       "      <td>1</td>\n",
       "      <td>2</td>\n",
       "      <td>2</td>\n",
       "      <td>2</td>\n",
       "      <td>67</td>\n",
       "      <td>0</td>\n",
       "      <td>0.0</td>\n",
       "    </tr>\n",
       "    <tr>\n",
       "      <th>Number_of_Casualties</th>\n",
       "      <td>2.13374e+06</td>\n",
       "      <td>NaN</td>\n",
       "      <td>NaN</td>\n",
       "      <td>NaN</td>\n",
       "      <td>1.45142</td>\n",
       "      <td>1.00674</td>\n",
       "      <td>1</td>\n",
       "      <td>1</td>\n",
       "      <td>1</td>\n",
       "      <td>2</td>\n",
       "      <td>93</td>\n",
       "      <td>0</td>\n",
       "      <td>0.0</td>\n",
       "    </tr>\n",
       "  </tbody>\n",
       "</table>\n",
       "</div>"
      ],
      "text/plain": [
       "                            count   unique            top freq     mean  \\\n",
       "Accident_Index            2133735  1325488  2013460234852   52      NaN   \n",
       "Longitude             2.13374e+06      NaN            NaN  NaN -1.19098   \n",
       "Latitude              2.13374e+06      NaN            NaN  NaN  52.3433   \n",
       "Number_of_Vehicles    2.13374e+06      NaN            NaN  NaN  2.11117   \n",
       "Number_of_Casualties  2.13374e+06      NaN            NaN  NaN  1.45142   \n",
       "\n",
       "                           std      min      25%      50%       75%      max  \\\n",
       "Accident_Index             NaN      NaN      NaN      NaN       NaN      NaN   \n",
       "Longitude              1.22116 -7.50412 -2.06828 -1.22207 -0.190866  1.76201   \n",
       "Latitude                  1.15  49.9129  51.4563  52.1328   53.3776   60.311   \n",
       "Number_of_Vehicles    0.921435        1        2        2         2       67   \n",
       "Number_of_Casualties   1.00674        1        1        1         2       93   \n",
       "\n",
       "                      Missing  %Missing  \n",
       "Accident_Index              0       0.0  \n",
       "Longitude                   0       0.0  \n",
       "Latitude                    0       0.0  \n",
       "Number_of_Vehicles          0       0.0  \n",
       "Number_of_Casualties        0       0.0  "
      ]
     },
     "execution_count": 15,
     "metadata": {},
     "output_type": "execute_result"
    }
   ],
   "source": [
    "data_dictionary.save(\n",
    "    '../../data/processed/900_Q3B_final_prep_2.pkl', \n",
    "\n",
    "\"\"\"\\\n",
    "Aggregate raw data for road accidents.\n",
    "\"\"\").head()"
   ]
  },
  {
   "cell_type": "code",
   "execution_count": null,
   "metadata": {
    "collapsed": true
   },
   "outputs": [],
   "source": []
  }
 ],
 "metadata": {
  "kernelspec": {
   "display_name": "Python 3",
   "language": "python",
   "name": "python3"
  },
  "language_info": {
   "codemirror_mode": {
    "name": "ipython",
    "version": 3
   },
   "file_extension": ".py",
   "mimetype": "text/x-python",
   "name": "python",
   "nbconvert_exporter": "python",
   "pygments_lexer": "ipython3",
   "version": "3.6.3"
  }
 },
 "nbformat": 4,
 "nbformat_minor": 2
}
