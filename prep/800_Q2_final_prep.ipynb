{
 "cells": [
  {
   "cell_type": "markdown",
   "metadata": {},
   "source": [
    "# 800_Q2_final_prep\n",
    "\n",
    "## Purpose\n",
    "In this notebook we will we will prepare the final dataset to answer our second research question. We will specifically focus on joining the datasets for different years and separate the date column into 3 separate columns for day, month and year.\n",
    "\n",
    "## Notebook Contents:\n",
    "* __1:__ Loading the Datasets\n",
    "   \n",
    "* __2:__ Question 2(A)\n",
    "    * __2.1:__ Split Date\n",
    "    * __2.2:__ Sort by Year\n",
    "    \n",
    "* __3:__ Question 2(B)\n",
    "    * __3.1:__ Split Date\n",
    "    * __3.2:__ Sort by Year\n",
    "    \n",
    "* __4:__ Dropping Years\n",
    "\n",
    "* __5:__ Convert Data Types\n",
    "\n",
    "* __6:__ Concatenating Datasets\n",
    "\n",
    "* __7:__ Saving Data to Pickle Files\n",
    "\n",
    "* __8:__ Creating Data Dictionaries\n",
    "\n",
    "## Datasets\n",
    "__Input:__The following pickle files contain the data with the missing values removed. The data is for the years 1979-2004 and 2015-2016. Each pickle file only contains the columns needed to answer the research question that data is being used for, (e.g.): Where it says Q2B in the pickle name that data is to be used to answer research Q2 part B.\n",
    "* 500_prep_missing_values_0514_Q2A.pkl, 500_prep_missing_values_0514_Q2B.pkl, 500_prep_missing_values_7904a_Q2B.pkl, 500_prep_missing_values_df7904b_Q2B.pkl, 600_prep_missing_values_7904c_Q2A.pkl, 600_prep_missing_values_7904c_Q2B.pkl, 600_prep_missing_values_7904d_Q2A.pkl, 600_prep_missing_values_7904d_Q2B.pkl, 600_prep_missing_values_1516_Q2A.pkl, 600_prep_missing_values_1516_Q2B.pkl\n",
    "\n",
    "\n",
    "__Output:__ The following pickle files contain the final prepped data to be able to answer research question 2.\n",
    "* 800_Q2A_final_prep_1.pkl, 800_Q2A_final_prep_2.pkl, 800_Q2A_final_prep_3.pkl, 800_Q2B_final_prep_1.pkl, 800_Q2B_final_prep_2.pkl, 800_Q2B_final_prep_3.pkl"
   ]
  },
  {
   "cell_type": "code",
   "execution_count": 1,
   "metadata": {
    "collapsed": true
   },
   "outputs": [],
   "source": [
    "import os\n",
    "import sys\n",
    "\n",
    "import pandas as pd\n",
    "import numpy as np\n",
    "\n",
    "module_path = os.path.abspath(os.path.join('../../data/..'))\n",
    "if module_path not in sys.path:\n",
    "    sys.path.append(module_path)\n",
    "    \n",
    "from src.helpers import data_dictionary\n",
    "\n",
    "%matplotlib inline"
   ]
  },
  {
   "cell_type": "markdown",
   "metadata": {},
   "source": [
    "# 1. Loading the Datasets"
   ]
  },
  {
   "cell_type": "code",
   "execution_count": 2,
   "metadata": {},
   "outputs": [
    {
     "data": {
      "text/plain": [
       "(2036044, 16)"
      ]
     },
     "execution_count": 2,
     "metadata": {},
     "output_type": "execute_result"
    }
   ],
   "source": [
    "df0514_Q2A = pd.read_pickle('../../data/processed/500_prep_missing_values_0514_Q2A.pkl')\n",
    "df0514_Q2A.shape"
   ]
  },
  {
   "cell_type": "code",
   "execution_count": 3,
   "metadata": {},
   "outputs": [
    {
     "data": {
      "text/plain": [
       "(2759693, 15)"
      ]
     },
     "execution_count": 3,
     "metadata": {},
     "output_type": "execute_result"
    }
   ],
   "source": [
    "df0514_Q2B = pd.read_pickle('../../data/processed/500_prep_missing_values_0514_Q2B.pkl')\n",
    "df0514_Q2B.shape"
   ]
  },
  {
   "cell_type": "code",
   "execution_count": 4,
   "metadata": {},
   "outputs": [
    {
     "data": {
      "text/plain": [
       "(2411743, 15)"
      ]
     },
     "execution_count": 4,
     "metadata": {},
     "output_type": "execute_result"
    }
   ],
   "source": [
    "df7904a_Q2B = pd.read_pickle('../../data/processed/500_prep_missing_values_7904a_Q2B.pkl')\n",
    "df7904a_Q2B.shape"
   ]
  },
  {
   "cell_type": "code",
   "execution_count": 5,
   "metadata": {},
   "outputs": [
    {
     "data": {
      "text/plain": [
       "(2621931, 15)"
      ]
     },
     "execution_count": 5,
     "metadata": {},
     "output_type": "execute_result"
    }
   ],
   "source": [
    "df7904b_Q2B = pd.read_pickle('../../data/processed/500_prep_missing_values_df7904b_Q2B.pkl')\n",
    "df7904b_Q2B.shape"
   ]
  },
  {
   "cell_type": "code",
   "execution_count": 6,
   "metadata": {},
   "outputs": [
    {
     "data": {
      "text/plain": [
       "(2033305, 16)"
      ]
     },
     "execution_count": 6,
     "metadata": {},
     "output_type": "execute_result"
    }
   ],
   "source": [
    "df7904c_Q2A = pd.read_pickle('../../data/processed/600_prep_missing_values_7904c_Q2A.pkl')\n",
    "df7904c_Q2A.shape"
   ]
  },
  {
   "cell_type": "code",
   "execution_count": 7,
   "metadata": {},
   "outputs": [
    {
     "data": {
      "text/plain": [
       "(2808172, 15)"
      ]
     },
     "execution_count": 7,
     "metadata": {},
     "output_type": "execute_result"
    }
   ],
   "source": [
    "df7904c_Q2B = pd.read_pickle('../../data/processed/600_prep_missing_values_7904c_Q2B.pkl')\n",
    "df7904c_Q2B.shape"
   ]
  },
  {
   "cell_type": "code",
   "execution_count": 8,
   "metadata": {},
   "outputs": [
    {
     "data": {
      "text/plain": [
       "(1242776, 16)"
      ]
     },
     "execution_count": 8,
     "metadata": {},
     "output_type": "execute_result"
    }
   ],
   "source": [
    "df7904d_Q2A = pd.read_pickle('../../data/processed/600_prep_missing_values_7904d_Q2A.pkl')\n",
    "df7904d_Q2A.shape"
   ]
  },
  {
   "cell_type": "code",
   "execution_count": 9,
   "metadata": {},
   "outputs": [
    {
     "data": {
      "text/plain": [
       "(1818065, 15)"
      ]
     },
     "execution_count": 9,
     "metadata": {},
     "output_type": "execute_result"
    }
   ],
   "source": [
    "df7904d_Q2B = pd.read_pickle('../../data/processed/600_prep_missing_values_7904d_Q2B.pkl')\n",
    "df7904d_Q2B.shape"
   ]
  },
  {
   "cell_type": "code",
   "execution_count": 10,
   "metadata": {},
   "outputs": [
    {
     "data": {
      "text/plain": [
       "(319026, 16)"
      ]
     },
     "execution_count": 10,
     "metadata": {},
     "output_type": "execute_result"
    }
   ],
   "source": [
    "df1516_Q2A = pd.read_pickle('../../data/processed/600_prep_missing_values_1516_Q2A.pkl')\n",
    "df1516_Q2A.shape"
   ]
  },
  {
   "cell_type": "code",
   "execution_count": 11,
   "metadata": {},
   "outputs": [
    {
     "data": {
      "text/plain": [
       "(434637, 15)"
      ]
     },
     "execution_count": 11,
     "metadata": {},
     "output_type": "execute_result"
    }
   ],
   "source": [
    "df1516_Q2B = pd.read_pickle('../../data/processed/600_prep_missing_values_1516_Q2B.pkl')\n",
    "df1516_Q2B.shape"
   ]
  },
  {
   "cell_type": "markdown",
   "metadata": {},
   "source": [
    "# 2. Question 2(A)"
   ]
  },
  {
   "cell_type": "markdown",
   "metadata": {},
   "source": [
    "####  Here we are checking the size of what a dataframe with all dataframes for Q2A would be if we concatenated all of them into one dataframe."
   ]
  },
  {
   "cell_type": "code",
   "execution_count": 12,
   "metadata": {},
   "outputs": [
    {
     "data": {
      "text/plain": [
       "5686882"
      ]
     },
     "execution_count": 12,
     "metadata": {},
     "output_type": "execute_result"
    }
   ],
   "source": [
    "# All Q2A dataframe sizes\n",
    "2036044 + 2033305 + 1298507 + 319026"
   ]
  },
  {
   "cell_type": "markdown",
   "metadata": {},
   "source": [
    "We decided that this would be too large of a dataframe to work with. Therefore,  we will concatenate the dataframes so that we have multiple smaller dataframes later in this notebook."
   ]
  },
  {
   "cell_type": "markdown",
   "metadata": {},
   "source": [
    "## 2.1\n",
    "## Split Date\n",
    "Here we will split the date column into day, month and year so that we can reference data by the year."
   ]
  },
  {
   "cell_type": "code",
   "execution_count": 13,
   "metadata": {},
   "outputs": [
    {
     "data": {
      "text/html": [
       "<div>\n",
       "<style scoped>\n",
       "    .dataframe tbody tr th:only-of-type {\n",
       "        vertical-align: middle;\n",
       "    }\n",
       "\n",
       "    .dataframe tbody tr th {\n",
       "        vertical-align: top;\n",
       "    }\n",
       "\n",
       "    .dataframe thead th {\n",
       "        text-align: right;\n",
       "    }\n",
       "</style>\n",
       "<table border=\"1\" class=\"dataframe\">\n",
       "  <thead>\n",
       "    <tr style=\"text-align: right;\">\n",
       "      <th></th>\n",
       "      <th>Accident_Index</th>\n",
       "      <th>Accident_Severity</th>\n",
       "      <th>Number_of_Vehicles</th>\n",
       "      <th>Number_of_Casualties</th>\n",
       "      <th>Date</th>\n",
       "      <th>Day_of_Week</th>\n",
       "      <th>Time</th>\n",
       "      <th>Local_Authority_(District)</th>\n",
       "      <th>Light_Conditions</th>\n",
       "      <th>Weather_Conditions</th>\n",
       "      <th>Road_Surface_Conditions</th>\n",
       "      <th>Special_Conditions_at_Site</th>\n",
       "      <th>Vehicle_Type</th>\n",
       "      <th>Vehicle_Manoeuvre</th>\n",
       "      <th>Sex_of_Driver</th>\n",
       "      <th>Age_of_Vehicle</th>\n",
       "      <th>Date_day</th>\n",
       "      <th>Month</th>\n",
       "      <th>Year</th>\n",
       "    </tr>\n",
       "  </thead>\n",
       "  <tbody>\n",
       "    <tr>\n",
       "      <th>6000001</th>\n",
       "      <td>199301NI00616</td>\n",
       "      <td>slight</td>\n",
       "      <td>2</td>\n",
       "      <td>1</td>\n",
       "      <td>20/10/1993</td>\n",
       "      <td>thursday</td>\n",
       "      <td>11:25</td>\n",
       "      <td>3</td>\n",
       "      <td>daylight</td>\n",
       "      <td>fine no high winds</td>\n",
       "      <td>dry</td>\n",
       "      <td>none</td>\n",
       "      <td>car</td>\n",
       "      <td>turning left</td>\n",
       "      <td>male</td>\n",
       "      <td>6.0</td>\n",
       "      <td>20</td>\n",
       "      <td>10</td>\n",
       "      <td>1993</td>\n",
       "    </tr>\n",
       "  </tbody>\n",
       "</table>\n",
       "</div>"
      ],
      "text/plain": [
       "        Accident_Index Accident_Severity  Number_of_Vehicles  \\\n",
       "6000001  199301NI00616            slight                   2   \n",
       "\n",
       "         Number_of_Casualties        Date Day_of_Week   Time  \\\n",
       "6000001                     1  20/10/1993    thursday  11:25   \n",
       "\n",
       "         Local_Authority_(District) Light_Conditions  Weather_Conditions  \\\n",
       "6000001                           3         daylight  fine no high winds   \n",
       "\n",
       "        Road_Surface_Conditions Special_Conditions_at_Site Vehicle_Type  \\\n",
       "6000001                     dry                       none          car   \n",
       "\n",
       "        Vehicle_Manoeuvre Sex_of_Driver  Age_of_Vehicle Date_day Month  Year  \n",
       "6000001      turning left          male             6.0       20    10  1993  "
      ]
     },
     "execution_count": 13,
     "metadata": {},
     "output_type": "execute_result"
    }
   ],
   "source": [
    "df7904c_Q2A[['Date_day', 'Month', 'Year']] = df7904c_Q2A['Date'].str.split(pat = '/', n=-1, expand=True)\n",
    "df7904c_Q2A.head(1)"
   ]
  },
  {
   "cell_type": "code",
   "execution_count": 14,
   "metadata": {},
   "outputs": [
    {
     "data": {
      "text/html": [
       "<div>\n",
       "<style scoped>\n",
       "    .dataframe tbody tr th:only-of-type {\n",
       "        vertical-align: middle;\n",
       "    }\n",
       "\n",
       "    .dataframe tbody tr th {\n",
       "        vertical-align: top;\n",
       "    }\n",
       "\n",
       "    .dataframe thead th {\n",
       "        text-align: right;\n",
       "    }\n",
       "</style>\n",
       "<table border=\"1\" class=\"dataframe\">\n",
       "  <thead>\n",
       "    <tr style=\"text-align: right;\">\n",
       "      <th></th>\n",
       "      <th>Accident_Index</th>\n",
       "      <th>Accident_Severity</th>\n",
       "      <th>Number_of_Vehicles</th>\n",
       "      <th>Number_of_Casualties</th>\n",
       "      <th>Date</th>\n",
       "      <th>Day_of_Week</th>\n",
       "      <th>Time</th>\n",
       "      <th>Local_Authority_(District)</th>\n",
       "      <th>Light_Conditions</th>\n",
       "      <th>Weather_Conditions</th>\n",
       "      <th>Road_Surface_Conditions</th>\n",
       "      <th>Special_Conditions_at_Site</th>\n",
       "      <th>Vehicle_Type</th>\n",
       "      <th>Vehicle_Manoeuvre</th>\n",
       "      <th>Sex_of_Driver</th>\n",
       "      <th>Age_of_Vehicle</th>\n",
       "      <th>Date_day</th>\n",
       "      <th>Month</th>\n",
       "      <th>Year</th>\n",
       "    </tr>\n",
       "  </thead>\n",
       "  <tbody>\n",
       "    <tr>\n",
       "      <th>9000001</th>\n",
       "      <td>200001TX00967</td>\n",
       "      <td>slight</td>\n",
       "      <td>3</td>\n",
       "      <td>2</td>\n",
       "      <td>11/09/2000</td>\n",
       "      <td>tuesday</td>\n",
       "      <td>06:47</td>\n",
       "      <td>25</td>\n",
       "      <td>daylight</td>\n",
       "      <td>fine no high winds</td>\n",
       "      <td>dry</td>\n",
       "      <td>none</td>\n",
       "      <td>van / goods 3.5 tonnes mgw or under</td>\n",
       "      <td>going ahead other</td>\n",
       "      <td>male</td>\n",
       "      <td>5.0</td>\n",
       "      <td>11</td>\n",
       "      <td>09</td>\n",
       "      <td>2000</td>\n",
       "    </tr>\n",
       "  </tbody>\n",
       "</table>\n",
       "</div>"
      ],
      "text/plain": [
       "        Accident_Index Accident_Severity  Number_of_Vehicles  \\\n",
       "9000001  200001TX00967            slight                   3   \n",
       "\n",
       "         Number_of_Casualties        Date Day_of_Week   Time  \\\n",
       "9000001                     2  11/09/2000     tuesday  06:47   \n",
       "\n",
       "         Local_Authority_(District) Light_Conditions  Weather_Conditions  \\\n",
       "9000001                          25         daylight  fine no high winds   \n",
       "\n",
       "        Road_Surface_Conditions Special_Conditions_at_Site  \\\n",
       "9000001                     dry                       none   \n",
       "\n",
       "                                Vehicle_Type  Vehicle_Manoeuvre Sex_of_Driver  \\\n",
       "9000001  van / goods 3.5 tonnes mgw or under  going ahead other          male   \n",
       "\n",
       "         Age_of_Vehicle Date_day Month  Year  \n",
       "9000001             5.0       11    09  2000  "
      ]
     },
     "execution_count": 14,
     "metadata": {},
     "output_type": "execute_result"
    }
   ],
   "source": [
    "df7904d_Q2A[['Date_day', 'Month', 'Year']] = df7904d_Q2A['Date'].str.split(pat = '/', n=-1, expand=True)\n",
    "df7904d_Q2A.head(1)"
   ]
  },
  {
   "cell_type": "code",
   "execution_count": 15,
   "metadata": {},
   "outputs": [
    {
     "data": {
      "text/html": [
       "<div>\n",
       "<style scoped>\n",
       "    .dataframe tbody tr th:only-of-type {\n",
       "        vertical-align: middle;\n",
       "    }\n",
       "\n",
       "    .dataframe tbody tr th {\n",
       "        vertical-align: top;\n",
       "    }\n",
       "\n",
       "    .dataframe thead th {\n",
       "        text-align: right;\n",
       "    }\n",
       "</style>\n",
       "<table border=\"1\" class=\"dataframe\">\n",
       "  <thead>\n",
       "    <tr style=\"text-align: right;\">\n",
       "      <th></th>\n",
       "      <th>Accident_Index</th>\n",
       "      <th>Accident_Severity</th>\n",
       "      <th>Number_of_Vehicles</th>\n",
       "      <th>Number_of_Casualties</th>\n",
       "      <th>Date</th>\n",
       "      <th>Day_of_Week</th>\n",
       "      <th>Time</th>\n",
       "      <th>Local_Authority_(District)</th>\n",
       "      <th>Light_Conditions</th>\n",
       "      <th>Weather_Conditions</th>\n",
       "      <th>Road_Surface_Conditions</th>\n",
       "      <th>Special_Conditions_at_Site</th>\n",
       "      <th>Vehicle_Type</th>\n",
       "      <th>Vehicle_Manoeuvre</th>\n",
       "      <th>Sex_of_Driver</th>\n",
       "      <th>Age_of_Vehicle</th>\n",
       "      <th>Date_day</th>\n",
       "      <th>Month</th>\n",
       "      <th>Year</th>\n",
       "    </tr>\n",
       "  </thead>\n",
       "  <tbody>\n",
       "    <tr>\n",
       "      <th>1</th>\n",
       "      <td>200501BS00002</td>\n",
       "      <td>slight</td>\n",
       "      <td>1</td>\n",
       "      <td>1</td>\n",
       "      <td>05/01/2005</td>\n",
       "      <td>thursday</td>\n",
       "      <td>17:36</td>\n",
       "      <td>12</td>\n",
       "      <td>darkness - lights lit</td>\n",
       "      <td>fine no high winds</td>\n",
       "      <td>dry</td>\n",
       "      <td>none</td>\n",
       "      <td>bus or coach</td>\n",
       "      <td>slowing or stopping</td>\n",
       "      <td>male</td>\n",
       "      <td>3.0</td>\n",
       "      <td>05</td>\n",
       "      <td>01</td>\n",
       "      <td>2005</td>\n",
       "    </tr>\n",
       "  </tbody>\n",
       "</table>\n",
       "</div>"
      ],
      "text/plain": [
       "  Accident_Index Accident_Severity  Number_of_Vehicles  Number_of_Casualties  \\\n",
       "1  200501BS00002            slight                   1                     1   \n",
       "\n",
       "         Date Day_of_Week   Time  Local_Authority_(District)  \\\n",
       "1  05/01/2005    thursday  17:36                          12   \n",
       "\n",
       "        Light_Conditions  Weather_Conditions Road_Surface_Conditions  \\\n",
       "1  darkness - lights lit  fine no high winds                     dry   \n",
       "\n",
       "  Special_Conditions_at_Site  Vehicle_Type    Vehicle_Manoeuvre Sex_of_Driver  \\\n",
       "1                       none  bus or coach  slowing or stopping          male   \n",
       "\n",
       "   Age_of_Vehicle Date_day Month  Year  \n",
       "1             3.0       05    01  2005  "
      ]
     },
     "execution_count": 15,
     "metadata": {},
     "output_type": "execute_result"
    }
   ],
   "source": [
    "df0514_Q2A[['Date_day', 'Month', 'Year']] = df0514_Q2A['Date'].str.split(pat = '/', n=-1, expand=True)\n",
    "df0514_Q2A.head(1)"
   ]
  },
  {
   "cell_type": "code",
   "execution_count": 16,
   "metadata": {},
   "outputs": [
    {
     "data": {
      "text/html": [
       "<div>\n",
       "<style scoped>\n",
       "    .dataframe tbody tr th:only-of-type {\n",
       "        vertical-align: middle;\n",
       "    }\n",
       "\n",
       "    .dataframe tbody tr th {\n",
       "        vertical-align: top;\n",
       "    }\n",
       "\n",
       "    .dataframe thead th {\n",
       "        text-align: right;\n",
       "    }\n",
       "</style>\n",
       "<table border=\"1\" class=\"dataframe\">\n",
       "  <thead>\n",
       "    <tr style=\"text-align: right;\">\n",
       "      <th></th>\n",
       "      <th>Accident_Index</th>\n",
       "      <th>Accident_Severity</th>\n",
       "      <th>Number_of_Vehicles</th>\n",
       "      <th>Number_of_Casualties</th>\n",
       "      <th>Date</th>\n",
       "      <th>Day_of_Week</th>\n",
       "      <th>Time</th>\n",
       "      <th>Local_Authority_(District)</th>\n",
       "      <th>Light_Conditions</th>\n",
       "      <th>Weather_Conditions</th>\n",
       "      <th>Road_Surface_Conditions</th>\n",
       "      <th>Special_Conditions_at_Site</th>\n",
       "      <th>Vehicle_Type</th>\n",
       "      <th>Vehicle_Manoeuvre</th>\n",
       "      <th>Sex_of_Driver</th>\n",
       "      <th>Age_of_Vehicle</th>\n",
       "      <th>Date_day</th>\n",
       "      <th>Month</th>\n",
       "      <th>Year</th>\n",
       "    </tr>\n",
       "  </thead>\n",
       "  <tbody>\n",
       "    <tr>\n",
       "      <th>0</th>\n",
       "      <td>201501BS70001</td>\n",
       "      <td>slight</td>\n",
       "      <td>1</td>\n",
       "      <td>1</td>\n",
       "      <td>12/01/2015</td>\n",
       "      <td>tuesday</td>\n",
       "      <td>18:45</td>\n",
       "      <td>12</td>\n",
       "      <td>darkness - lights lit</td>\n",
       "      <td>fine no high winds</td>\n",
       "      <td>dry</td>\n",
       "      <td>none</td>\n",
       "      <td>van / goods 3.5 tonnes mgw or under</td>\n",
       "      <td>turning right</td>\n",
       "      <td>male</td>\n",
       "      <td>4.0</td>\n",
       "      <td>12</td>\n",
       "      <td>01</td>\n",
       "      <td>2015</td>\n",
       "    </tr>\n",
       "  </tbody>\n",
       "</table>\n",
       "</div>"
      ],
      "text/plain": [
       "  Accident_Index Accident_Severity  Number_of_Vehicles  Number_of_Casualties  \\\n",
       "0  201501BS70001            slight                   1                     1   \n",
       "\n",
       "         Date Day_of_Week   Time  Local_Authority_(District)  \\\n",
       "0  12/01/2015     tuesday  18:45                          12   \n",
       "\n",
       "        Light_Conditions  Weather_Conditions Road_Surface_Conditions  \\\n",
       "0  darkness - lights lit  fine no high winds                     dry   \n",
       "\n",
       "  Special_Conditions_at_Site                         Vehicle_Type  \\\n",
       "0                       none  van / goods 3.5 tonnes mgw or under   \n",
       "\n",
       "  Vehicle_Manoeuvre Sex_of_Driver  Age_of_Vehicle Date_day Month  Year  \n",
       "0     turning right          male             4.0       12    01  2015  "
      ]
     },
     "execution_count": 16,
     "metadata": {},
     "output_type": "execute_result"
    }
   ],
   "source": [
    "df1516_Q2A[['Date_day', 'Month', 'Year']] = df1516_Q2A['Date'].str.split(pat = '/', n=-1, expand=True)\n",
    "df1516_Q2A.head(1)"
   ]
  },
  {
   "cell_type": "markdown",
   "metadata": {},
   "source": [
    "## 2.2\n",
    "## Sort by Year\n",
    "Here we will sort the data by year so that the data is easier to work with."
   ]
  },
  {
   "cell_type": "code",
   "execution_count": 17,
   "metadata": {},
   "outputs": [
    {
     "data": {
      "text/html": [
       "<div>\n",
       "<style scoped>\n",
       "    .dataframe tbody tr th:only-of-type {\n",
       "        vertical-align: middle;\n",
       "    }\n",
       "\n",
       "    .dataframe tbody tr th {\n",
       "        vertical-align: top;\n",
       "    }\n",
       "\n",
       "    .dataframe thead th {\n",
       "        text-align: right;\n",
       "    }\n",
       "</style>\n",
       "<table border=\"1\" class=\"dataframe\">\n",
       "  <thead>\n",
       "    <tr style=\"text-align: right;\">\n",
       "      <th></th>\n",
       "      <th>Accident_Index</th>\n",
       "      <th>Accident_Severity</th>\n",
       "      <th>Number_of_Vehicles</th>\n",
       "      <th>Number_of_Casualties</th>\n",
       "      <th>Date</th>\n",
       "      <th>Day_of_Week</th>\n",
       "      <th>Time</th>\n",
       "      <th>Local_Authority_(District)</th>\n",
       "      <th>Light_Conditions</th>\n",
       "      <th>Weather_Conditions</th>\n",
       "      <th>Road_Surface_Conditions</th>\n",
       "      <th>Special_Conditions_at_Site</th>\n",
       "      <th>Vehicle_Type</th>\n",
       "      <th>Vehicle_Manoeuvre</th>\n",
       "      <th>Sex_of_Driver</th>\n",
       "      <th>Age_of_Vehicle</th>\n",
       "      <th>Date_day</th>\n",
       "      <th>Month</th>\n",
       "      <th>Year</th>\n",
       "    </tr>\n",
       "  </thead>\n",
       "  <tbody>\n",
       "    <tr>\n",
       "      <th>6000001</th>\n",
       "      <td>199301NI00616</td>\n",
       "      <td>slight</td>\n",
       "      <td>2</td>\n",
       "      <td>1</td>\n",
       "      <td>20/10/1993</td>\n",
       "      <td>thursday</td>\n",
       "      <td>11:25</td>\n",
       "      <td>3</td>\n",
       "      <td>daylight</td>\n",
       "      <td>fine no high winds</td>\n",
       "      <td>dry</td>\n",
       "      <td>none</td>\n",
       "      <td>car</td>\n",
       "      <td>turning left</td>\n",
       "      <td>male</td>\n",
       "      <td>6.0</td>\n",
       "      <td>20</td>\n",
       "      <td>10</td>\n",
       "      <td>1993</td>\n",
       "    </tr>\n",
       "  </tbody>\n",
       "</table>\n",
       "</div>"
      ],
      "text/plain": [
       "        Accident_Index Accident_Severity  Number_of_Vehicles  \\\n",
       "6000001  199301NI00616            slight                   2   \n",
       "\n",
       "         Number_of_Casualties        Date Day_of_Week   Time  \\\n",
       "6000001                     1  20/10/1993    thursday  11:25   \n",
       "\n",
       "         Local_Authority_(District) Light_Conditions  Weather_Conditions  \\\n",
       "6000001                           3         daylight  fine no high winds   \n",
       "\n",
       "        Road_Surface_Conditions Special_Conditions_at_Site Vehicle_Type  \\\n",
       "6000001                     dry                       none          car   \n",
       "\n",
       "        Vehicle_Manoeuvre Sex_of_Driver  Age_of_Vehicle Date_day Month  Year  \n",
       "6000001      turning left          male             6.0       20    10  1993  "
      ]
     },
     "execution_count": 17,
     "metadata": {},
     "output_type": "execute_result"
    }
   ],
   "source": [
    "df7904c_Q2A.sort_values(by=['Year'])\n",
    "df7904c_Q2A.head(1)"
   ]
  },
  {
   "cell_type": "code",
   "execution_count": 18,
   "metadata": {},
   "outputs": [
    {
     "data": {
      "text/html": [
       "<div>\n",
       "<style scoped>\n",
       "    .dataframe tbody tr th:only-of-type {\n",
       "        vertical-align: middle;\n",
       "    }\n",
       "\n",
       "    .dataframe tbody tr th {\n",
       "        vertical-align: top;\n",
       "    }\n",
       "\n",
       "    .dataframe thead th {\n",
       "        text-align: right;\n",
       "    }\n",
       "</style>\n",
       "<table border=\"1\" class=\"dataframe\">\n",
       "  <thead>\n",
       "    <tr style=\"text-align: right;\">\n",
       "      <th></th>\n",
       "      <th>Accident_Index</th>\n",
       "      <th>Accident_Severity</th>\n",
       "      <th>Number_of_Vehicles</th>\n",
       "      <th>Number_of_Casualties</th>\n",
       "      <th>Date</th>\n",
       "      <th>Day_of_Week</th>\n",
       "      <th>Time</th>\n",
       "      <th>Local_Authority_(District)</th>\n",
       "      <th>Light_Conditions</th>\n",
       "      <th>Weather_Conditions</th>\n",
       "      <th>Road_Surface_Conditions</th>\n",
       "      <th>Special_Conditions_at_Site</th>\n",
       "      <th>Vehicle_Type</th>\n",
       "      <th>Vehicle_Manoeuvre</th>\n",
       "      <th>Sex_of_Driver</th>\n",
       "      <th>Age_of_Vehicle</th>\n",
       "      <th>Date_day</th>\n",
       "      <th>Month</th>\n",
       "      <th>Year</th>\n",
       "    </tr>\n",
       "  </thead>\n",
       "  <tbody>\n",
       "    <tr>\n",
       "      <th>9000001</th>\n",
       "      <td>200001TX00967</td>\n",
       "      <td>slight</td>\n",
       "      <td>3</td>\n",
       "      <td>2</td>\n",
       "      <td>11/09/2000</td>\n",
       "      <td>tuesday</td>\n",
       "      <td>06:47</td>\n",
       "      <td>25</td>\n",
       "      <td>daylight</td>\n",
       "      <td>fine no high winds</td>\n",
       "      <td>dry</td>\n",
       "      <td>none</td>\n",
       "      <td>van / goods 3.5 tonnes mgw or under</td>\n",
       "      <td>going ahead other</td>\n",
       "      <td>male</td>\n",
       "      <td>5.0</td>\n",
       "      <td>11</td>\n",
       "      <td>09</td>\n",
       "      <td>2000</td>\n",
       "    </tr>\n",
       "  </tbody>\n",
       "</table>\n",
       "</div>"
      ],
      "text/plain": [
       "        Accident_Index Accident_Severity  Number_of_Vehicles  \\\n",
       "9000001  200001TX00967            slight                   3   \n",
       "\n",
       "         Number_of_Casualties        Date Day_of_Week   Time  \\\n",
       "9000001                     2  11/09/2000     tuesday  06:47   \n",
       "\n",
       "         Local_Authority_(District) Light_Conditions  Weather_Conditions  \\\n",
       "9000001                          25         daylight  fine no high winds   \n",
       "\n",
       "        Road_Surface_Conditions Special_Conditions_at_Site  \\\n",
       "9000001                     dry                       none   \n",
       "\n",
       "                                Vehicle_Type  Vehicle_Manoeuvre Sex_of_Driver  \\\n",
       "9000001  van / goods 3.5 tonnes mgw or under  going ahead other          male   \n",
       "\n",
       "         Age_of_Vehicle Date_day Month  Year  \n",
       "9000001             5.0       11    09  2000  "
      ]
     },
     "execution_count": 18,
     "metadata": {},
     "output_type": "execute_result"
    }
   ],
   "source": [
    "df7904d_Q2A.sort_values(by=['Year'])\n",
    "df7904d_Q2A.head(1)"
   ]
  },
  {
   "cell_type": "code",
   "execution_count": 19,
   "metadata": {},
   "outputs": [
    {
     "data": {
      "text/html": [
       "<div>\n",
       "<style scoped>\n",
       "    .dataframe tbody tr th:only-of-type {\n",
       "        vertical-align: middle;\n",
       "    }\n",
       "\n",
       "    .dataframe tbody tr th {\n",
       "        vertical-align: top;\n",
       "    }\n",
       "\n",
       "    .dataframe thead th {\n",
       "        text-align: right;\n",
       "    }\n",
       "</style>\n",
       "<table border=\"1\" class=\"dataframe\">\n",
       "  <thead>\n",
       "    <tr style=\"text-align: right;\">\n",
       "      <th></th>\n",
       "      <th>Accident_Index</th>\n",
       "      <th>Accident_Severity</th>\n",
       "      <th>Number_of_Vehicles</th>\n",
       "      <th>Number_of_Casualties</th>\n",
       "      <th>Date</th>\n",
       "      <th>Day_of_Week</th>\n",
       "      <th>Time</th>\n",
       "      <th>Local_Authority_(District)</th>\n",
       "      <th>Light_Conditions</th>\n",
       "      <th>Weather_Conditions</th>\n",
       "      <th>Road_Surface_Conditions</th>\n",
       "      <th>Special_Conditions_at_Site</th>\n",
       "      <th>Vehicle_Type</th>\n",
       "      <th>Vehicle_Manoeuvre</th>\n",
       "      <th>Sex_of_Driver</th>\n",
       "      <th>Age_of_Vehicle</th>\n",
       "      <th>Date_day</th>\n",
       "      <th>Month</th>\n",
       "      <th>Year</th>\n",
       "    </tr>\n",
       "  </thead>\n",
       "  <tbody>\n",
       "    <tr>\n",
       "      <th>1</th>\n",
       "      <td>200501BS00002</td>\n",
       "      <td>slight</td>\n",
       "      <td>1</td>\n",
       "      <td>1</td>\n",
       "      <td>05/01/2005</td>\n",
       "      <td>thursday</td>\n",
       "      <td>17:36</td>\n",
       "      <td>12</td>\n",
       "      <td>darkness - lights lit</td>\n",
       "      <td>fine no high winds</td>\n",
       "      <td>dry</td>\n",
       "      <td>none</td>\n",
       "      <td>bus or coach</td>\n",
       "      <td>slowing or stopping</td>\n",
       "      <td>male</td>\n",
       "      <td>3.0</td>\n",
       "      <td>05</td>\n",
       "      <td>01</td>\n",
       "      <td>2005</td>\n",
       "    </tr>\n",
       "  </tbody>\n",
       "</table>\n",
       "</div>"
      ],
      "text/plain": [
       "  Accident_Index Accident_Severity  Number_of_Vehicles  Number_of_Casualties  \\\n",
       "1  200501BS00002            slight                   1                     1   \n",
       "\n",
       "         Date Day_of_Week   Time  Local_Authority_(District)  \\\n",
       "1  05/01/2005    thursday  17:36                          12   \n",
       "\n",
       "        Light_Conditions  Weather_Conditions Road_Surface_Conditions  \\\n",
       "1  darkness - lights lit  fine no high winds                     dry   \n",
       "\n",
       "  Special_Conditions_at_Site  Vehicle_Type    Vehicle_Manoeuvre Sex_of_Driver  \\\n",
       "1                       none  bus or coach  slowing or stopping          male   \n",
       "\n",
       "   Age_of_Vehicle Date_day Month  Year  \n",
       "1             3.0       05    01  2005  "
      ]
     },
     "execution_count": 19,
     "metadata": {},
     "output_type": "execute_result"
    }
   ],
   "source": [
    "df0514_Q2A.sort_values(by=['Year'])\n",
    "df0514_Q2A.head(1)"
   ]
  },
  {
   "cell_type": "code",
   "execution_count": 20,
   "metadata": {},
   "outputs": [
    {
     "data": {
      "text/html": [
       "<div>\n",
       "<style scoped>\n",
       "    .dataframe tbody tr th:only-of-type {\n",
       "        vertical-align: middle;\n",
       "    }\n",
       "\n",
       "    .dataframe tbody tr th {\n",
       "        vertical-align: top;\n",
       "    }\n",
       "\n",
       "    .dataframe thead th {\n",
       "        text-align: right;\n",
       "    }\n",
       "</style>\n",
       "<table border=\"1\" class=\"dataframe\">\n",
       "  <thead>\n",
       "    <tr style=\"text-align: right;\">\n",
       "      <th></th>\n",
       "      <th>Accident_Index</th>\n",
       "      <th>Accident_Severity</th>\n",
       "      <th>Number_of_Vehicles</th>\n",
       "      <th>Number_of_Casualties</th>\n",
       "      <th>Date</th>\n",
       "      <th>Day_of_Week</th>\n",
       "      <th>Time</th>\n",
       "      <th>Local_Authority_(District)</th>\n",
       "      <th>Light_Conditions</th>\n",
       "      <th>Weather_Conditions</th>\n",
       "      <th>Road_Surface_Conditions</th>\n",
       "      <th>Special_Conditions_at_Site</th>\n",
       "      <th>Vehicle_Type</th>\n",
       "      <th>Vehicle_Manoeuvre</th>\n",
       "      <th>Sex_of_Driver</th>\n",
       "      <th>Age_of_Vehicle</th>\n",
       "      <th>Date_day</th>\n",
       "      <th>Month</th>\n",
       "      <th>Year</th>\n",
       "    </tr>\n",
       "  </thead>\n",
       "  <tbody>\n",
       "    <tr>\n",
       "      <th>0</th>\n",
       "      <td>201501BS70001</td>\n",
       "      <td>slight</td>\n",
       "      <td>1</td>\n",
       "      <td>1</td>\n",
       "      <td>12/01/2015</td>\n",
       "      <td>tuesday</td>\n",
       "      <td>18:45</td>\n",
       "      <td>12</td>\n",
       "      <td>darkness - lights lit</td>\n",
       "      <td>fine no high winds</td>\n",
       "      <td>dry</td>\n",
       "      <td>none</td>\n",
       "      <td>van / goods 3.5 tonnes mgw or under</td>\n",
       "      <td>turning right</td>\n",
       "      <td>male</td>\n",
       "      <td>4.0</td>\n",
       "      <td>12</td>\n",
       "      <td>01</td>\n",
       "      <td>2015</td>\n",
       "    </tr>\n",
       "  </tbody>\n",
       "</table>\n",
       "</div>"
      ],
      "text/plain": [
       "  Accident_Index Accident_Severity  Number_of_Vehicles  Number_of_Casualties  \\\n",
       "0  201501BS70001            slight                   1                     1   \n",
       "\n",
       "         Date Day_of_Week   Time  Local_Authority_(District)  \\\n",
       "0  12/01/2015     tuesday  18:45                          12   \n",
       "\n",
       "        Light_Conditions  Weather_Conditions Road_Surface_Conditions  \\\n",
       "0  darkness - lights lit  fine no high winds                     dry   \n",
       "\n",
       "  Special_Conditions_at_Site                         Vehicle_Type  \\\n",
       "0                       none  van / goods 3.5 tonnes mgw or under   \n",
       "\n",
       "  Vehicle_Manoeuvre Sex_of_Driver  Age_of_Vehicle Date_day Month  Year  \n",
       "0     turning right          male             4.0       12    01  2015  "
      ]
     },
     "execution_count": 20,
     "metadata": {},
     "output_type": "execute_result"
    }
   ],
   "source": [
    "df1516_Q2A.sort_values(by=['Year'])\n",
    "df1516_Q2A.head(1)"
   ]
  },
  {
   "cell_type": "markdown",
   "metadata": {},
   "source": [
    "# 3. Question 2(B)"
   ]
  },
  {
   "cell_type": "markdown",
   "metadata": {},
   "source": [
    "####  Here we are checking the size of what a dataframe with all dataframes for Q2B would be if we concatenated all of them into one dataframe."
   ]
  },
  {
   "cell_type": "code",
   "execution_count": 21,
   "metadata": {},
   "outputs": [
    {
     "data": {
      "text/plain": [
       "13003030"
      ]
     },
     "execution_count": 21,
     "metadata": {},
     "output_type": "execute_result"
    }
   ],
   "source": [
    "# All Q2B dataframe sizes\n",
    "2759693 + 2411743 + 2621931 + 2808172 + 1966854 + 434637"
   ]
  },
  {
   "cell_type": "markdown",
   "metadata": {},
   "source": [
    "We decided that this would be too large of a dataframe to work with. Therefore,  we will concatenate the dataframes so that we have multiple smaller dataframes later in this notebook."
   ]
  },
  {
   "cell_type": "markdown",
   "metadata": {},
   "source": [
    "## 3.1\n",
    "## Split Date\n",
    "Here we will split the date column into day, month and year so that we can reference data by the year."
   ]
  },
  {
   "cell_type": "code",
   "execution_count": 22,
   "metadata": {},
   "outputs": [
    {
     "data": {
      "text/html": [
       "<div>\n",
       "<style scoped>\n",
       "    .dataframe tbody tr th:only-of-type {\n",
       "        vertical-align: middle;\n",
       "    }\n",
       "\n",
       "    .dataframe tbody tr th {\n",
       "        vertical-align: top;\n",
       "    }\n",
       "\n",
       "    .dataframe thead th {\n",
       "        text-align: right;\n",
       "    }\n",
       "</style>\n",
       "<table border=\"1\" class=\"dataframe\">\n",
       "  <thead>\n",
       "    <tr style=\"text-align: right;\">\n",
       "      <th></th>\n",
       "      <th>Accident_Index</th>\n",
       "      <th>Accident_Severity</th>\n",
       "      <th>Number_of_Vehicles</th>\n",
       "      <th>Number_of_Casualties</th>\n",
       "      <th>Date</th>\n",
       "      <th>Day_of_Week</th>\n",
       "      <th>Time</th>\n",
       "      <th>Local_Authority_(District)</th>\n",
       "      <th>Light_Conditions</th>\n",
       "      <th>Weather_Conditions</th>\n",
       "      <th>Road_Surface_Conditions</th>\n",
       "      <th>Special_Conditions_at_Site</th>\n",
       "      <th>Vehicle_Type</th>\n",
       "      <th>Vehicle_Manoeuvre</th>\n",
       "      <th>Sex_of_Driver</th>\n",
       "      <th>Date_day</th>\n",
       "      <th>Month</th>\n",
       "      <th>Year</th>\n",
       "    </tr>\n",
       "  </thead>\n",
       "  <tbody>\n",
       "    <tr>\n",
       "      <th>85587</th>\n",
       "      <td>197903A102220</td>\n",
       "      <td>serious</td>\n",
       "      <td>2</td>\n",
       "      <td>2</td>\n",
       "      <td>07/04/1979</td>\n",
       "      <td>sunday</td>\n",
       "      <td>12:30</td>\n",
       "      <td>63</td>\n",
       "      <td>daylight</td>\n",
       "      <td>fine no high winds</td>\n",
       "      <td>wet or damp</td>\n",
       "      <td>none</td>\n",
       "      <td>bus or coach</td>\n",
       "      <td>goinf ahead right-hand bend</td>\n",
       "      <td>male</td>\n",
       "      <td>07</td>\n",
       "      <td>04</td>\n",
       "      <td>1979</td>\n",
       "    </tr>\n",
       "  </tbody>\n",
       "</table>\n",
       "</div>"
      ],
      "text/plain": [
       "      Accident_Index Accident_Severity  Number_of_Vehicles  \\\n",
       "85587  197903A102220           serious                   2   \n",
       "\n",
       "       Number_of_Casualties        Date Day_of_Week   Time  \\\n",
       "85587                     2  07/04/1979      sunday  12:30   \n",
       "\n",
       "       Local_Authority_(District) Light_Conditions  Weather_Conditions  \\\n",
       "85587                          63         daylight  fine no high winds   \n",
       "\n",
       "      Road_Surface_Conditions Special_Conditions_at_Site  Vehicle_Type  \\\n",
       "85587             wet or damp                       none  bus or coach   \n",
       "\n",
       "                 Vehicle_Manoeuvre Sex_of_Driver Date_day Month  Year  \n",
       "85587  goinf ahead right-hand bend          male       07    04  1979  "
      ]
     },
     "execution_count": 22,
     "metadata": {},
     "output_type": "execute_result"
    }
   ],
   "source": [
    "df7904a_Q2B [['Date_day', 'Month', 'Year']] = df7904a_Q2B ['Date'].str.split(pat = '/', n=-1, expand=True)\n",
    "df7904a_Q2B.head(1)"
   ]
  },
  {
   "cell_type": "code",
   "execution_count": 23,
   "metadata": {},
   "outputs": [
    {
     "data": {
      "text/html": [
       "<div>\n",
       "<style scoped>\n",
       "    .dataframe tbody tr th:only-of-type {\n",
       "        vertical-align: middle;\n",
       "    }\n",
       "\n",
       "    .dataframe tbody tr th {\n",
       "        vertical-align: top;\n",
       "    }\n",
       "\n",
       "    .dataframe thead th {\n",
       "        text-align: right;\n",
       "    }\n",
       "</style>\n",
       "<table border=\"1\" class=\"dataframe\">\n",
       "  <thead>\n",
       "    <tr style=\"text-align: right;\">\n",
       "      <th></th>\n",
       "      <th>Accident_Index</th>\n",
       "      <th>Accident_Severity</th>\n",
       "      <th>Number_of_Vehicles</th>\n",
       "      <th>Number_of_Casualties</th>\n",
       "      <th>Date</th>\n",
       "      <th>Day_of_Week</th>\n",
       "      <th>Time</th>\n",
       "      <th>Local_Authority_(District)</th>\n",
       "      <th>Light_Conditions</th>\n",
       "      <th>Weather_Conditions</th>\n",
       "      <th>Road_Surface_Conditions</th>\n",
       "      <th>Special_Conditions_at_Site</th>\n",
       "      <th>Vehicle_Type</th>\n",
       "      <th>Vehicle_Manoeuvre</th>\n",
       "      <th>Sex_of_Driver</th>\n",
       "      <th>Date_day</th>\n",
       "      <th>Month</th>\n",
       "      <th>Year</th>\n",
       "    </tr>\n",
       "  </thead>\n",
       "  <tbody>\n",
       "    <tr>\n",
       "      <th>3000004</th>\n",
       "      <td>198601TD00758</td>\n",
       "      <td>slight</td>\n",
       "      <td>2</td>\n",
       "      <td>1</td>\n",
       "      <td>07/08/1986</td>\n",
       "      <td>friday</td>\n",
       "      <td>13:30</td>\n",
       "      <td>25</td>\n",
       "      <td>daylight</td>\n",
       "      <td>fine no high winds</td>\n",
       "      <td>dry</td>\n",
       "      <td>none</td>\n",
       "      <td>car</td>\n",
       "      <td>overtaking moving vehicle - offside</td>\n",
       "      <td>female</td>\n",
       "      <td>07</td>\n",
       "      <td>08</td>\n",
       "      <td>1986</td>\n",
       "    </tr>\n",
       "  </tbody>\n",
       "</table>\n",
       "</div>"
      ],
      "text/plain": [
       "        Accident_Index Accident_Severity  Number_of_Vehicles  \\\n",
       "3000004  198601TD00758            slight                   2   \n",
       "\n",
       "         Number_of_Casualties        Date Day_of_Week   Time  \\\n",
       "3000004                     1  07/08/1986      friday  13:30   \n",
       "\n",
       "         Local_Authority_(District) Light_Conditions  Weather_Conditions  \\\n",
       "3000004                          25         daylight  fine no high winds   \n",
       "\n",
       "        Road_Surface_Conditions Special_Conditions_at_Site Vehicle_Type  \\\n",
       "3000004                     dry                       none          car   \n",
       "\n",
       "                           Vehicle_Manoeuvre Sex_of_Driver Date_day Month  \\\n",
       "3000004  overtaking moving vehicle - offside        female       07    08   \n",
       "\n",
       "         Year  \n",
       "3000004  1986  "
      ]
     },
     "execution_count": 23,
     "metadata": {},
     "output_type": "execute_result"
    }
   ],
   "source": [
    "df7904b_Q2B[['Date_day', 'Month', 'Year']] = df7904b_Q2B['Date'].str.split(pat = '/', n=-1, expand=True)\n",
    "df7904b_Q2B.head(1)"
   ]
  },
  {
   "cell_type": "code",
   "execution_count": 24,
   "metadata": {},
   "outputs": [
    {
     "data": {
      "text/html": [
       "<div>\n",
       "<style scoped>\n",
       "    .dataframe tbody tr th:only-of-type {\n",
       "        vertical-align: middle;\n",
       "    }\n",
       "\n",
       "    .dataframe tbody tr th {\n",
       "        vertical-align: top;\n",
       "    }\n",
       "\n",
       "    .dataframe thead th {\n",
       "        text-align: right;\n",
       "    }\n",
       "</style>\n",
       "<table border=\"1\" class=\"dataframe\">\n",
       "  <thead>\n",
       "    <tr style=\"text-align: right;\">\n",
       "      <th></th>\n",
       "      <th>Accident_Index</th>\n",
       "      <th>Accident_Severity</th>\n",
       "      <th>Number_of_Vehicles</th>\n",
       "      <th>Number_of_Casualties</th>\n",
       "      <th>Date</th>\n",
       "      <th>Day_of_Week</th>\n",
       "      <th>Time</th>\n",
       "      <th>Local_Authority_(District)</th>\n",
       "      <th>Light_Conditions</th>\n",
       "      <th>Weather_Conditions</th>\n",
       "      <th>Road_Surface_Conditions</th>\n",
       "      <th>Special_Conditions_at_Site</th>\n",
       "      <th>Vehicle_Type</th>\n",
       "      <th>Vehicle_Manoeuvre</th>\n",
       "      <th>Sex_of_Driver</th>\n",
       "      <th>Date_day</th>\n",
       "      <th>Month</th>\n",
       "      <th>Year</th>\n",
       "    </tr>\n",
       "  </thead>\n",
       "  <tbody>\n",
       "    <tr>\n",
       "      <th>6000001</th>\n",
       "      <td>199301NI00616</td>\n",
       "      <td>slight</td>\n",
       "      <td>2</td>\n",
       "      <td>1</td>\n",
       "      <td>20/10/1993</td>\n",
       "      <td>thursday</td>\n",
       "      <td>11:25</td>\n",
       "      <td>3</td>\n",
       "      <td>daylight</td>\n",
       "      <td>fine no high winds</td>\n",
       "      <td>dry</td>\n",
       "      <td>none</td>\n",
       "      <td>car</td>\n",
       "      <td>turning left</td>\n",
       "      <td>male</td>\n",
       "      <td>20</td>\n",
       "      <td>10</td>\n",
       "      <td>1993</td>\n",
       "    </tr>\n",
       "  </tbody>\n",
       "</table>\n",
       "</div>"
      ],
      "text/plain": [
       "        Accident_Index Accident_Severity  Number_of_Vehicles  \\\n",
       "6000001  199301NI00616            slight                   2   \n",
       "\n",
       "         Number_of_Casualties        Date Day_of_Week   Time  \\\n",
       "6000001                     1  20/10/1993    thursday  11:25   \n",
       "\n",
       "         Local_Authority_(District) Light_Conditions  Weather_Conditions  \\\n",
       "6000001                           3         daylight  fine no high winds   \n",
       "\n",
       "        Road_Surface_Conditions Special_Conditions_at_Site Vehicle_Type  \\\n",
       "6000001                     dry                       none          car   \n",
       "\n",
       "        Vehicle_Manoeuvre Sex_of_Driver Date_day Month  Year  \n",
       "6000001      turning left          male       20    10  1993  "
      ]
     },
     "execution_count": 24,
     "metadata": {},
     "output_type": "execute_result"
    }
   ],
   "source": [
    "df7904c_Q2B[['Date_day', 'Month', 'Year']] = df7904c_Q2B['Date'].str.split(pat = '/', n=-1, expand=True)\n",
    "df7904c_Q2B.head(1)"
   ]
  },
  {
   "cell_type": "code",
   "execution_count": 25,
   "metadata": {},
   "outputs": [
    {
     "data": {
      "text/html": [
       "<div>\n",
       "<style scoped>\n",
       "    .dataframe tbody tr th:only-of-type {\n",
       "        vertical-align: middle;\n",
       "    }\n",
       "\n",
       "    .dataframe tbody tr th {\n",
       "        vertical-align: top;\n",
       "    }\n",
       "\n",
       "    .dataframe thead th {\n",
       "        text-align: right;\n",
       "    }\n",
       "</style>\n",
       "<table border=\"1\" class=\"dataframe\">\n",
       "  <thead>\n",
       "    <tr style=\"text-align: right;\">\n",
       "      <th></th>\n",
       "      <th>Accident_Index</th>\n",
       "      <th>Accident_Severity</th>\n",
       "      <th>Number_of_Vehicles</th>\n",
       "      <th>Number_of_Casualties</th>\n",
       "      <th>Date</th>\n",
       "      <th>Day_of_Week</th>\n",
       "      <th>Time</th>\n",
       "      <th>Local_Authority_(District)</th>\n",
       "      <th>Light_Conditions</th>\n",
       "      <th>Weather_Conditions</th>\n",
       "      <th>Road_Surface_Conditions</th>\n",
       "      <th>Special_Conditions_at_Site</th>\n",
       "      <th>Vehicle_Type</th>\n",
       "      <th>Vehicle_Manoeuvre</th>\n",
       "      <th>Sex_of_Driver</th>\n",
       "      <th>Date_day</th>\n",
       "      <th>Month</th>\n",
       "      <th>Year</th>\n",
       "    </tr>\n",
       "  </thead>\n",
       "  <tbody>\n",
       "    <tr>\n",
       "      <th>9000001</th>\n",
       "      <td>200001TX00967</td>\n",
       "      <td>slight</td>\n",
       "      <td>3</td>\n",
       "      <td>2</td>\n",
       "      <td>11/09/2000</td>\n",
       "      <td>tuesday</td>\n",
       "      <td>06:47</td>\n",
       "      <td>25</td>\n",
       "      <td>daylight</td>\n",
       "      <td>fine no high winds</td>\n",
       "      <td>dry</td>\n",
       "      <td>none</td>\n",
       "      <td>van / goods 3.5 tonnes mgw or under</td>\n",
       "      <td>going ahead other</td>\n",
       "      <td>male</td>\n",
       "      <td>11</td>\n",
       "      <td>09</td>\n",
       "      <td>2000</td>\n",
       "    </tr>\n",
       "  </tbody>\n",
       "</table>\n",
       "</div>"
      ],
      "text/plain": [
       "        Accident_Index Accident_Severity  Number_of_Vehicles  \\\n",
       "9000001  200001TX00967            slight                   3   \n",
       "\n",
       "         Number_of_Casualties        Date Day_of_Week   Time  \\\n",
       "9000001                     2  11/09/2000     tuesday  06:47   \n",
       "\n",
       "         Local_Authority_(District) Light_Conditions  Weather_Conditions  \\\n",
       "9000001                          25         daylight  fine no high winds   \n",
       "\n",
       "        Road_Surface_Conditions Special_Conditions_at_Site  \\\n",
       "9000001                     dry                       none   \n",
       "\n",
       "                                Vehicle_Type  Vehicle_Manoeuvre Sex_of_Driver  \\\n",
       "9000001  van / goods 3.5 tonnes mgw or under  going ahead other          male   \n",
       "\n",
       "        Date_day Month  Year  \n",
       "9000001       11    09  2000  "
      ]
     },
     "execution_count": 25,
     "metadata": {},
     "output_type": "execute_result"
    }
   ],
   "source": [
    "df7904d_Q2B[['Date_day', 'Month', 'Year']] = df7904d_Q2B['Date'].str.split(pat = '/', n=-1, expand=True)\n",
    "df7904d_Q2B.head(1)"
   ]
  },
  {
   "cell_type": "code",
   "execution_count": 26,
   "metadata": {},
   "outputs": [
    {
     "data": {
      "text/html": [
       "<div>\n",
       "<style scoped>\n",
       "    .dataframe tbody tr th:only-of-type {\n",
       "        vertical-align: middle;\n",
       "    }\n",
       "\n",
       "    .dataframe tbody tr th {\n",
       "        vertical-align: top;\n",
       "    }\n",
       "\n",
       "    .dataframe thead th {\n",
       "        text-align: right;\n",
       "    }\n",
       "</style>\n",
       "<table border=\"1\" class=\"dataframe\">\n",
       "  <thead>\n",
       "    <tr style=\"text-align: right;\">\n",
       "      <th></th>\n",
       "      <th>Accident_Index</th>\n",
       "      <th>Accident_Severity</th>\n",
       "      <th>Number_of_Vehicles</th>\n",
       "      <th>Number_of_Casualties</th>\n",
       "      <th>Date</th>\n",
       "      <th>Day_of_Week</th>\n",
       "      <th>Time</th>\n",
       "      <th>Local_Authority_(District)</th>\n",
       "      <th>Light_Conditions</th>\n",
       "      <th>Weather_Conditions</th>\n",
       "      <th>Road_Surface_Conditions</th>\n",
       "      <th>Special_Conditions_at_Site</th>\n",
       "      <th>Vehicle_Type</th>\n",
       "      <th>Vehicle_Manoeuvre</th>\n",
       "      <th>Sex_of_Driver</th>\n",
       "      <th>Date_day</th>\n",
       "      <th>Month</th>\n",
       "      <th>Year</th>\n",
       "    </tr>\n",
       "  </thead>\n",
       "  <tbody>\n",
       "    <tr>\n",
       "      <th>0</th>\n",
       "      <td>200501BS00001</td>\n",
       "      <td>serious</td>\n",
       "      <td>1</td>\n",
       "      <td>1</td>\n",
       "      <td>04/01/2005</td>\n",
       "      <td>wednesday</td>\n",
       "      <td>17:42</td>\n",
       "      <td>12</td>\n",
       "      <td>daylight</td>\n",
       "      <td>raining no high winds</td>\n",
       "      <td>wet or damp</td>\n",
       "      <td>none</td>\n",
       "      <td>car</td>\n",
       "      <td>going ahead other</td>\n",
       "      <td>female</td>\n",
       "      <td>04</td>\n",
       "      <td>01</td>\n",
       "      <td>2005</td>\n",
       "    </tr>\n",
       "  </tbody>\n",
       "</table>\n",
       "</div>"
      ],
      "text/plain": [
       "  Accident_Index Accident_Severity  Number_of_Vehicles  Number_of_Casualties  \\\n",
       "0  200501BS00001           serious                   1                     1   \n",
       "\n",
       "         Date Day_of_Week   Time  Local_Authority_(District) Light_Conditions  \\\n",
       "0  04/01/2005   wednesday  17:42                          12         daylight   \n",
       "\n",
       "      Weather_Conditions Road_Surface_Conditions Special_Conditions_at_Site  \\\n",
       "0  raining no high winds             wet or damp                       none   \n",
       "\n",
       "  Vehicle_Type  Vehicle_Manoeuvre Sex_of_Driver Date_day Month  Year  \n",
       "0          car  going ahead other        female       04    01  2005  "
      ]
     },
     "execution_count": 26,
     "metadata": {},
     "output_type": "execute_result"
    }
   ],
   "source": [
    "df0514_Q2B[['Date_day', 'Month', 'Year']] = df0514_Q2B['Date'].str.split(pat = '/', n=-1, expand=True)\n",
    "df0514_Q2B.head(1)"
   ]
  },
  {
   "cell_type": "code",
   "execution_count": 27,
   "metadata": {},
   "outputs": [
    {
     "data": {
      "text/html": [
       "<div>\n",
       "<style scoped>\n",
       "    .dataframe tbody tr th:only-of-type {\n",
       "        vertical-align: middle;\n",
       "    }\n",
       "\n",
       "    .dataframe tbody tr th {\n",
       "        vertical-align: top;\n",
       "    }\n",
       "\n",
       "    .dataframe thead th {\n",
       "        text-align: right;\n",
       "    }\n",
       "</style>\n",
       "<table border=\"1\" class=\"dataframe\">\n",
       "  <thead>\n",
       "    <tr style=\"text-align: right;\">\n",
       "      <th></th>\n",
       "      <th>Accident_Index</th>\n",
       "      <th>Accident_Severity</th>\n",
       "      <th>Number_of_Vehicles</th>\n",
       "      <th>Number_of_Casualties</th>\n",
       "      <th>Date</th>\n",
       "      <th>Day_of_Week</th>\n",
       "      <th>Time</th>\n",
       "      <th>Local_Authority_(District)</th>\n",
       "      <th>Light_Conditions</th>\n",
       "      <th>Weather_Conditions</th>\n",
       "      <th>Road_Surface_Conditions</th>\n",
       "      <th>Special_Conditions_at_Site</th>\n",
       "      <th>Vehicle_Type</th>\n",
       "      <th>Vehicle_Manoeuvre</th>\n",
       "      <th>Sex_of_Driver</th>\n",
       "      <th>Date_day</th>\n",
       "      <th>Month</th>\n",
       "      <th>Year</th>\n",
       "    </tr>\n",
       "  </thead>\n",
       "  <tbody>\n",
       "    <tr>\n",
       "      <th>0</th>\n",
       "      <td>201501BS70001</td>\n",
       "      <td>slight</td>\n",
       "      <td>1</td>\n",
       "      <td>1</td>\n",
       "      <td>12/01/2015</td>\n",
       "      <td>tuesday</td>\n",
       "      <td>18:45</td>\n",
       "      <td>12</td>\n",
       "      <td>darkness - lights lit</td>\n",
       "      <td>fine no high winds</td>\n",
       "      <td>dry</td>\n",
       "      <td>none</td>\n",
       "      <td>van / goods 3.5 tonnes mgw or under</td>\n",
       "      <td>turning right</td>\n",
       "      <td>male</td>\n",
       "      <td>12</td>\n",
       "      <td>01</td>\n",
       "      <td>2015</td>\n",
       "    </tr>\n",
       "  </tbody>\n",
       "</table>\n",
       "</div>"
      ],
      "text/plain": [
       "  Accident_Index Accident_Severity  Number_of_Vehicles  Number_of_Casualties  \\\n",
       "0  201501BS70001            slight                   1                     1   \n",
       "\n",
       "         Date Day_of_Week   Time  Local_Authority_(District)  \\\n",
       "0  12/01/2015     tuesday  18:45                          12   \n",
       "\n",
       "        Light_Conditions  Weather_Conditions Road_Surface_Conditions  \\\n",
       "0  darkness - lights lit  fine no high winds                     dry   \n",
       "\n",
       "  Special_Conditions_at_Site                         Vehicle_Type  \\\n",
       "0                       none  van / goods 3.5 tonnes mgw or under   \n",
       "\n",
       "  Vehicle_Manoeuvre Sex_of_Driver Date_day Month  Year  \n",
       "0     turning right          male       12    01  2015  "
      ]
     },
     "execution_count": 27,
     "metadata": {},
     "output_type": "execute_result"
    }
   ],
   "source": [
    "df1516_Q2B[['Date_day', 'Month', 'Year']] = df1516_Q2B['Date'].str.split(pat = '/', n=-1, expand=True)\n",
    "df1516_Q2B.head(1)"
   ]
  },
  {
   "cell_type": "markdown",
   "metadata": {},
   "source": [
    "## 3.2\n",
    "## Sort by Year\n",
    "Here we will sort the data by year so that the data is easier to work with."
   ]
  },
  {
   "cell_type": "code",
   "execution_count": 28,
   "metadata": {},
   "outputs": [
    {
     "data": {
      "text/html": [
       "<div>\n",
       "<style scoped>\n",
       "    .dataframe tbody tr th:only-of-type {\n",
       "        vertical-align: middle;\n",
       "    }\n",
       "\n",
       "    .dataframe tbody tr th {\n",
       "        vertical-align: top;\n",
       "    }\n",
       "\n",
       "    .dataframe thead th {\n",
       "        text-align: right;\n",
       "    }\n",
       "</style>\n",
       "<table border=\"1\" class=\"dataframe\">\n",
       "  <thead>\n",
       "    <tr style=\"text-align: right;\">\n",
       "      <th></th>\n",
       "      <th>Accident_Index</th>\n",
       "      <th>Accident_Severity</th>\n",
       "      <th>Number_of_Vehicles</th>\n",
       "      <th>Number_of_Casualties</th>\n",
       "      <th>Date</th>\n",
       "      <th>Day_of_Week</th>\n",
       "      <th>Time</th>\n",
       "      <th>Local_Authority_(District)</th>\n",
       "      <th>Light_Conditions</th>\n",
       "      <th>Weather_Conditions</th>\n",
       "      <th>Road_Surface_Conditions</th>\n",
       "      <th>Special_Conditions_at_Site</th>\n",
       "      <th>Vehicle_Type</th>\n",
       "      <th>Vehicle_Manoeuvre</th>\n",
       "      <th>Sex_of_Driver</th>\n",
       "      <th>Date_day</th>\n",
       "      <th>Month</th>\n",
       "      <th>Year</th>\n",
       "    </tr>\n",
       "  </thead>\n",
       "  <tbody>\n",
       "    <tr>\n",
       "      <th>85587</th>\n",
       "      <td>197903A102220</td>\n",
       "      <td>serious</td>\n",
       "      <td>2</td>\n",
       "      <td>2</td>\n",
       "      <td>07/04/1979</td>\n",
       "      <td>sunday</td>\n",
       "      <td>12:30</td>\n",
       "      <td>63</td>\n",
       "      <td>daylight</td>\n",
       "      <td>fine no high winds</td>\n",
       "      <td>wet or damp</td>\n",
       "      <td>none</td>\n",
       "      <td>bus or coach</td>\n",
       "      <td>goinf ahead right-hand bend</td>\n",
       "      <td>male</td>\n",
       "      <td>07</td>\n",
       "      <td>04</td>\n",
       "      <td>1979</td>\n",
       "    </tr>\n",
       "  </tbody>\n",
       "</table>\n",
       "</div>"
      ],
      "text/plain": [
       "      Accident_Index Accident_Severity  Number_of_Vehicles  \\\n",
       "85587  197903A102220           serious                   2   \n",
       "\n",
       "       Number_of_Casualties        Date Day_of_Week   Time  \\\n",
       "85587                     2  07/04/1979      sunday  12:30   \n",
       "\n",
       "       Local_Authority_(District) Light_Conditions  Weather_Conditions  \\\n",
       "85587                          63         daylight  fine no high winds   \n",
       "\n",
       "      Road_Surface_Conditions Special_Conditions_at_Site  Vehicle_Type  \\\n",
       "85587             wet or damp                       none  bus or coach   \n",
       "\n",
       "                 Vehicle_Manoeuvre Sex_of_Driver Date_day Month  Year  \n",
       "85587  goinf ahead right-hand bend          male       07    04  1979  "
      ]
     },
     "execution_count": 28,
     "metadata": {},
     "output_type": "execute_result"
    }
   ],
   "source": [
    "df7904a_Q2B.sort_values(by=['Year'])\n",
    "df7904a_Q2B.head(1)"
   ]
  },
  {
   "cell_type": "code",
   "execution_count": 29,
   "metadata": {},
   "outputs": [
    {
     "data": {
      "text/html": [
       "<div>\n",
       "<style scoped>\n",
       "    .dataframe tbody tr th:only-of-type {\n",
       "        vertical-align: middle;\n",
       "    }\n",
       "\n",
       "    .dataframe tbody tr th {\n",
       "        vertical-align: top;\n",
       "    }\n",
       "\n",
       "    .dataframe thead th {\n",
       "        text-align: right;\n",
       "    }\n",
       "</style>\n",
       "<table border=\"1\" class=\"dataframe\">\n",
       "  <thead>\n",
       "    <tr style=\"text-align: right;\">\n",
       "      <th></th>\n",
       "      <th>Accident_Index</th>\n",
       "      <th>Accident_Severity</th>\n",
       "      <th>Number_of_Vehicles</th>\n",
       "      <th>Number_of_Casualties</th>\n",
       "      <th>Date</th>\n",
       "      <th>Day_of_Week</th>\n",
       "      <th>Time</th>\n",
       "      <th>Local_Authority_(District)</th>\n",
       "      <th>Light_Conditions</th>\n",
       "      <th>Weather_Conditions</th>\n",
       "      <th>Road_Surface_Conditions</th>\n",
       "      <th>Special_Conditions_at_Site</th>\n",
       "      <th>Vehicle_Type</th>\n",
       "      <th>Vehicle_Manoeuvre</th>\n",
       "      <th>Sex_of_Driver</th>\n",
       "      <th>Date_day</th>\n",
       "      <th>Month</th>\n",
       "      <th>Year</th>\n",
       "    </tr>\n",
       "  </thead>\n",
       "  <tbody>\n",
       "    <tr>\n",
       "      <th>3000004</th>\n",
       "      <td>198601TD00758</td>\n",
       "      <td>slight</td>\n",
       "      <td>2</td>\n",
       "      <td>1</td>\n",
       "      <td>07/08/1986</td>\n",
       "      <td>friday</td>\n",
       "      <td>13:30</td>\n",
       "      <td>25</td>\n",
       "      <td>daylight</td>\n",
       "      <td>fine no high winds</td>\n",
       "      <td>dry</td>\n",
       "      <td>none</td>\n",
       "      <td>car</td>\n",
       "      <td>overtaking moving vehicle - offside</td>\n",
       "      <td>female</td>\n",
       "      <td>07</td>\n",
       "      <td>08</td>\n",
       "      <td>1986</td>\n",
       "    </tr>\n",
       "  </tbody>\n",
       "</table>\n",
       "</div>"
      ],
      "text/plain": [
       "        Accident_Index Accident_Severity  Number_of_Vehicles  \\\n",
       "3000004  198601TD00758            slight                   2   \n",
       "\n",
       "         Number_of_Casualties        Date Day_of_Week   Time  \\\n",
       "3000004                     1  07/08/1986      friday  13:30   \n",
       "\n",
       "         Local_Authority_(District) Light_Conditions  Weather_Conditions  \\\n",
       "3000004                          25         daylight  fine no high winds   \n",
       "\n",
       "        Road_Surface_Conditions Special_Conditions_at_Site Vehicle_Type  \\\n",
       "3000004                     dry                       none          car   \n",
       "\n",
       "                           Vehicle_Manoeuvre Sex_of_Driver Date_day Month  \\\n",
       "3000004  overtaking moving vehicle - offside        female       07    08   \n",
       "\n",
       "         Year  \n",
       "3000004  1986  "
      ]
     },
     "execution_count": 29,
     "metadata": {},
     "output_type": "execute_result"
    }
   ],
   "source": [
    "df7904b_Q2B.sort_values(by=['Year'])\n",
    "df7904b_Q2B.head(1)"
   ]
  },
  {
   "cell_type": "code",
   "execution_count": 30,
   "metadata": {},
   "outputs": [
    {
     "data": {
      "text/html": [
       "<div>\n",
       "<style scoped>\n",
       "    .dataframe tbody tr th:only-of-type {\n",
       "        vertical-align: middle;\n",
       "    }\n",
       "\n",
       "    .dataframe tbody tr th {\n",
       "        vertical-align: top;\n",
       "    }\n",
       "\n",
       "    .dataframe thead th {\n",
       "        text-align: right;\n",
       "    }\n",
       "</style>\n",
       "<table border=\"1\" class=\"dataframe\">\n",
       "  <thead>\n",
       "    <tr style=\"text-align: right;\">\n",
       "      <th></th>\n",
       "      <th>Accident_Index</th>\n",
       "      <th>Accident_Severity</th>\n",
       "      <th>Number_of_Vehicles</th>\n",
       "      <th>Number_of_Casualties</th>\n",
       "      <th>Date</th>\n",
       "      <th>Day_of_Week</th>\n",
       "      <th>Time</th>\n",
       "      <th>Local_Authority_(District)</th>\n",
       "      <th>Light_Conditions</th>\n",
       "      <th>Weather_Conditions</th>\n",
       "      <th>Road_Surface_Conditions</th>\n",
       "      <th>Special_Conditions_at_Site</th>\n",
       "      <th>Vehicle_Type</th>\n",
       "      <th>Vehicle_Manoeuvre</th>\n",
       "      <th>Sex_of_Driver</th>\n",
       "      <th>Date_day</th>\n",
       "      <th>Month</th>\n",
       "      <th>Year</th>\n",
       "    </tr>\n",
       "  </thead>\n",
       "  <tbody>\n",
       "    <tr>\n",
       "      <th>6000001</th>\n",
       "      <td>199301NI00616</td>\n",
       "      <td>slight</td>\n",
       "      <td>2</td>\n",
       "      <td>1</td>\n",
       "      <td>20/10/1993</td>\n",
       "      <td>thursday</td>\n",
       "      <td>11:25</td>\n",
       "      <td>3</td>\n",
       "      <td>daylight</td>\n",
       "      <td>fine no high winds</td>\n",
       "      <td>dry</td>\n",
       "      <td>none</td>\n",
       "      <td>car</td>\n",
       "      <td>turning left</td>\n",
       "      <td>male</td>\n",
       "      <td>20</td>\n",
       "      <td>10</td>\n",
       "      <td>1993</td>\n",
       "    </tr>\n",
       "  </tbody>\n",
       "</table>\n",
       "</div>"
      ],
      "text/plain": [
       "        Accident_Index Accident_Severity  Number_of_Vehicles  \\\n",
       "6000001  199301NI00616            slight                   2   \n",
       "\n",
       "         Number_of_Casualties        Date Day_of_Week   Time  \\\n",
       "6000001                     1  20/10/1993    thursday  11:25   \n",
       "\n",
       "         Local_Authority_(District) Light_Conditions  Weather_Conditions  \\\n",
       "6000001                           3         daylight  fine no high winds   \n",
       "\n",
       "        Road_Surface_Conditions Special_Conditions_at_Site Vehicle_Type  \\\n",
       "6000001                     dry                       none          car   \n",
       "\n",
       "        Vehicle_Manoeuvre Sex_of_Driver Date_day Month  Year  \n",
       "6000001      turning left          male       20    10  1993  "
      ]
     },
     "execution_count": 30,
     "metadata": {},
     "output_type": "execute_result"
    }
   ],
   "source": [
    "df7904c_Q2B.sort_values(by=['Year'])\n",
    "df7904c_Q2B.head(1)"
   ]
  },
  {
   "cell_type": "code",
   "execution_count": 31,
   "metadata": {},
   "outputs": [
    {
     "data": {
      "text/html": [
       "<div>\n",
       "<style scoped>\n",
       "    .dataframe tbody tr th:only-of-type {\n",
       "        vertical-align: middle;\n",
       "    }\n",
       "\n",
       "    .dataframe tbody tr th {\n",
       "        vertical-align: top;\n",
       "    }\n",
       "\n",
       "    .dataframe thead th {\n",
       "        text-align: right;\n",
       "    }\n",
       "</style>\n",
       "<table border=\"1\" class=\"dataframe\">\n",
       "  <thead>\n",
       "    <tr style=\"text-align: right;\">\n",
       "      <th></th>\n",
       "      <th>Accident_Index</th>\n",
       "      <th>Accident_Severity</th>\n",
       "      <th>Number_of_Vehicles</th>\n",
       "      <th>Number_of_Casualties</th>\n",
       "      <th>Date</th>\n",
       "      <th>Day_of_Week</th>\n",
       "      <th>Time</th>\n",
       "      <th>Local_Authority_(District)</th>\n",
       "      <th>Light_Conditions</th>\n",
       "      <th>Weather_Conditions</th>\n",
       "      <th>Road_Surface_Conditions</th>\n",
       "      <th>Special_Conditions_at_Site</th>\n",
       "      <th>Vehicle_Type</th>\n",
       "      <th>Vehicle_Manoeuvre</th>\n",
       "      <th>Sex_of_Driver</th>\n",
       "      <th>Date_day</th>\n",
       "      <th>Month</th>\n",
       "      <th>Year</th>\n",
       "    </tr>\n",
       "  </thead>\n",
       "  <tbody>\n",
       "    <tr>\n",
       "      <th>9000001</th>\n",
       "      <td>200001TX00967</td>\n",
       "      <td>slight</td>\n",
       "      <td>3</td>\n",
       "      <td>2</td>\n",
       "      <td>11/09/2000</td>\n",
       "      <td>tuesday</td>\n",
       "      <td>06:47</td>\n",
       "      <td>25</td>\n",
       "      <td>daylight</td>\n",
       "      <td>fine no high winds</td>\n",
       "      <td>dry</td>\n",
       "      <td>none</td>\n",
       "      <td>van / goods 3.5 tonnes mgw or under</td>\n",
       "      <td>going ahead other</td>\n",
       "      <td>male</td>\n",
       "      <td>11</td>\n",
       "      <td>09</td>\n",
       "      <td>2000</td>\n",
       "    </tr>\n",
       "  </tbody>\n",
       "</table>\n",
       "</div>"
      ],
      "text/plain": [
       "        Accident_Index Accident_Severity  Number_of_Vehicles  \\\n",
       "9000001  200001TX00967            slight                   3   \n",
       "\n",
       "         Number_of_Casualties        Date Day_of_Week   Time  \\\n",
       "9000001                     2  11/09/2000     tuesday  06:47   \n",
       "\n",
       "         Local_Authority_(District) Light_Conditions  Weather_Conditions  \\\n",
       "9000001                          25         daylight  fine no high winds   \n",
       "\n",
       "        Road_Surface_Conditions Special_Conditions_at_Site  \\\n",
       "9000001                     dry                       none   \n",
       "\n",
       "                                Vehicle_Type  Vehicle_Manoeuvre Sex_of_Driver  \\\n",
       "9000001  van / goods 3.5 tonnes mgw or under  going ahead other          male   \n",
       "\n",
       "        Date_day Month  Year  \n",
       "9000001       11    09  2000  "
      ]
     },
     "execution_count": 31,
     "metadata": {},
     "output_type": "execute_result"
    }
   ],
   "source": [
    "df7904d_Q2B.sort_values(by=['Year'])\n",
    "df7904d_Q2B.head(1)"
   ]
  },
  {
   "cell_type": "code",
   "execution_count": 32,
   "metadata": {},
   "outputs": [
    {
     "data": {
      "text/html": [
       "<div>\n",
       "<style scoped>\n",
       "    .dataframe tbody tr th:only-of-type {\n",
       "        vertical-align: middle;\n",
       "    }\n",
       "\n",
       "    .dataframe tbody tr th {\n",
       "        vertical-align: top;\n",
       "    }\n",
       "\n",
       "    .dataframe thead th {\n",
       "        text-align: right;\n",
       "    }\n",
       "</style>\n",
       "<table border=\"1\" class=\"dataframe\">\n",
       "  <thead>\n",
       "    <tr style=\"text-align: right;\">\n",
       "      <th></th>\n",
       "      <th>Accident_Index</th>\n",
       "      <th>Accident_Severity</th>\n",
       "      <th>Number_of_Vehicles</th>\n",
       "      <th>Number_of_Casualties</th>\n",
       "      <th>Date</th>\n",
       "      <th>Day_of_Week</th>\n",
       "      <th>Time</th>\n",
       "      <th>Local_Authority_(District)</th>\n",
       "      <th>Light_Conditions</th>\n",
       "      <th>Weather_Conditions</th>\n",
       "      <th>Road_Surface_Conditions</th>\n",
       "      <th>Special_Conditions_at_Site</th>\n",
       "      <th>Vehicle_Type</th>\n",
       "      <th>Vehicle_Manoeuvre</th>\n",
       "      <th>Sex_of_Driver</th>\n",
       "      <th>Date_day</th>\n",
       "      <th>Month</th>\n",
       "      <th>Year</th>\n",
       "    </tr>\n",
       "  </thead>\n",
       "  <tbody>\n",
       "    <tr>\n",
       "      <th>0</th>\n",
       "      <td>200501BS00001</td>\n",
       "      <td>serious</td>\n",
       "      <td>1</td>\n",
       "      <td>1</td>\n",
       "      <td>04/01/2005</td>\n",
       "      <td>wednesday</td>\n",
       "      <td>17:42</td>\n",
       "      <td>12</td>\n",
       "      <td>daylight</td>\n",
       "      <td>raining no high winds</td>\n",
       "      <td>wet or damp</td>\n",
       "      <td>none</td>\n",
       "      <td>car</td>\n",
       "      <td>going ahead other</td>\n",
       "      <td>female</td>\n",
       "      <td>04</td>\n",
       "      <td>01</td>\n",
       "      <td>2005</td>\n",
       "    </tr>\n",
       "  </tbody>\n",
       "</table>\n",
       "</div>"
      ],
      "text/plain": [
       "  Accident_Index Accident_Severity  Number_of_Vehicles  Number_of_Casualties  \\\n",
       "0  200501BS00001           serious                   1                     1   \n",
       "\n",
       "         Date Day_of_Week   Time  Local_Authority_(District) Light_Conditions  \\\n",
       "0  04/01/2005   wednesday  17:42                          12         daylight   \n",
       "\n",
       "      Weather_Conditions Road_Surface_Conditions Special_Conditions_at_Site  \\\n",
       "0  raining no high winds             wet or damp                       none   \n",
       "\n",
       "  Vehicle_Type  Vehicle_Manoeuvre Sex_of_Driver Date_day Month  Year  \n",
       "0          car  going ahead other        female       04    01  2005  "
      ]
     },
     "execution_count": 32,
     "metadata": {},
     "output_type": "execute_result"
    }
   ],
   "source": [
    "df0514_Q2B.sort_values(by=['Year'])\n",
    "df0514_Q2B.head(1)"
   ]
  },
  {
   "cell_type": "code",
   "execution_count": 33,
   "metadata": {},
   "outputs": [
    {
     "data": {
      "text/html": [
       "<div>\n",
       "<style scoped>\n",
       "    .dataframe tbody tr th:only-of-type {\n",
       "        vertical-align: middle;\n",
       "    }\n",
       "\n",
       "    .dataframe tbody tr th {\n",
       "        vertical-align: top;\n",
       "    }\n",
       "\n",
       "    .dataframe thead th {\n",
       "        text-align: right;\n",
       "    }\n",
       "</style>\n",
       "<table border=\"1\" class=\"dataframe\">\n",
       "  <thead>\n",
       "    <tr style=\"text-align: right;\">\n",
       "      <th></th>\n",
       "      <th>Accident_Index</th>\n",
       "      <th>Accident_Severity</th>\n",
       "      <th>Number_of_Vehicles</th>\n",
       "      <th>Number_of_Casualties</th>\n",
       "      <th>Date</th>\n",
       "      <th>Day_of_Week</th>\n",
       "      <th>Time</th>\n",
       "      <th>Local_Authority_(District)</th>\n",
       "      <th>Light_Conditions</th>\n",
       "      <th>Weather_Conditions</th>\n",
       "      <th>Road_Surface_Conditions</th>\n",
       "      <th>Special_Conditions_at_Site</th>\n",
       "      <th>Vehicle_Type</th>\n",
       "      <th>Vehicle_Manoeuvre</th>\n",
       "      <th>Sex_of_Driver</th>\n",
       "      <th>Date_day</th>\n",
       "      <th>Month</th>\n",
       "      <th>Year</th>\n",
       "    </tr>\n",
       "  </thead>\n",
       "  <tbody>\n",
       "    <tr>\n",
       "      <th>0</th>\n",
       "      <td>201501BS70001</td>\n",
       "      <td>slight</td>\n",
       "      <td>1</td>\n",
       "      <td>1</td>\n",
       "      <td>12/01/2015</td>\n",
       "      <td>tuesday</td>\n",
       "      <td>18:45</td>\n",
       "      <td>12</td>\n",
       "      <td>darkness - lights lit</td>\n",
       "      <td>fine no high winds</td>\n",
       "      <td>dry</td>\n",
       "      <td>none</td>\n",
       "      <td>van / goods 3.5 tonnes mgw or under</td>\n",
       "      <td>turning right</td>\n",
       "      <td>male</td>\n",
       "      <td>12</td>\n",
       "      <td>01</td>\n",
       "      <td>2015</td>\n",
       "    </tr>\n",
       "  </tbody>\n",
       "</table>\n",
       "</div>"
      ],
      "text/plain": [
       "  Accident_Index Accident_Severity  Number_of_Vehicles  Number_of_Casualties  \\\n",
       "0  201501BS70001            slight                   1                     1   \n",
       "\n",
       "         Date Day_of_Week   Time  Local_Authority_(District)  \\\n",
       "0  12/01/2015     tuesday  18:45                          12   \n",
       "\n",
       "        Light_Conditions  Weather_Conditions Road_Surface_Conditions  \\\n",
       "0  darkness - lights lit  fine no high winds                     dry   \n",
       "\n",
       "  Special_Conditions_at_Site                         Vehicle_Type  \\\n",
       "0                       none  van / goods 3.5 tonnes mgw or under   \n",
       "\n",
       "  Vehicle_Manoeuvre Sex_of_Driver Date_day Month  Year  \n",
       "0     turning right          male       12    01  2015  "
      ]
     },
     "execution_count": 33,
     "metadata": {},
     "output_type": "execute_result"
    }
   ],
   "source": [
    "df1516_Q2B.sort_values(by=['Year'])\n",
    "df1516_Q2B.head(1)"
   ]
  },
  {
   "cell_type": "markdown",
   "metadata": {},
   "source": [
    "# 4. Dropping Years"
   ]
  },
  {
   "cell_type": "markdown",
   "metadata": {},
   "source": [
    "Data for Question 2A starts from 20/10/1993 whereas data for Question 2B starts from 07/04/1979. We want to have the same start year for both questions and therefore have decided to drop data in the dataframes for Question 2B from before 1993."
   ]
  },
  {
   "cell_type": "markdown",
   "metadata": {},
   "source": [
    "Below you can see that the dataframe df7904a date ends before 20/10/1993 we will not include this dataframe in our analysis."
   ]
  },
  {
   "cell_type": "code",
   "execution_count": 34,
   "metadata": {},
   "outputs": [
    {
     "data": {
      "text/html": [
       "<div>\n",
       "<style scoped>\n",
       "    .dataframe tbody tr th:only-of-type {\n",
       "        vertical-align: middle;\n",
       "    }\n",
       "\n",
       "    .dataframe tbody tr th {\n",
       "        vertical-align: top;\n",
       "    }\n",
       "\n",
       "    .dataframe thead th {\n",
       "        text-align: right;\n",
       "    }\n",
       "</style>\n",
       "<table border=\"1\" class=\"dataframe\">\n",
       "  <thead>\n",
       "    <tr style=\"text-align: right;\">\n",
       "      <th></th>\n",
       "      <th>Accident_Index</th>\n",
       "      <th>Accident_Severity</th>\n",
       "      <th>Number_of_Vehicles</th>\n",
       "      <th>Number_of_Casualties</th>\n",
       "      <th>Date</th>\n",
       "      <th>Day_of_Week</th>\n",
       "      <th>Time</th>\n",
       "      <th>Local_Authority_(District)</th>\n",
       "      <th>Light_Conditions</th>\n",
       "      <th>Weather_Conditions</th>\n",
       "      <th>Road_Surface_Conditions</th>\n",
       "      <th>Special_Conditions_at_Site</th>\n",
       "      <th>Vehicle_Type</th>\n",
       "      <th>Vehicle_Manoeuvre</th>\n",
       "      <th>Sex_of_Driver</th>\n",
       "      <th>Date_day</th>\n",
       "      <th>Month</th>\n",
       "      <th>Year</th>\n",
       "    </tr>\n",
       "  </thead>\n",
       "  <tbody>\n",
       "    <tr>\n",
       "      <th>2999995</th>\n",
       "      <td>198601TD00752</td>\n",
       "      <td>slight</td>\n",
       "      <td>2</td>\n",
       "      <td>1</td>\n",
       "      <td>06/08/1986</td>\n",
       "      <td>thursday</td>\n",
       "      <td>14:25</td>\n",
       "      <td>25</td>\n",
       "      <td>daylight</td>\n",
       "      <td>fine no high winds</td>\n",
       "      <td>dry</td>\n",
       "      <td>none</td>\n",
       "      <td>car</td>\n",
       "      <td>waiting to turn right</td>\n",
       "      <td>male</td>\n",
       "      <td>06</td>\n",
       "      <td>08</td>\n",
       "      <td>1986</td>\n",
       "    </tr>\n",
       "    <tr>\n",
       "      <th>2999996</th>\n",
       "      <td>198601TD00752</td>\n",
       "      <td>slight</td>\n",
       "      <td>2</td>\n",
       "      <td>1</td>\n",
       "      <td>06/08/1986</td>\n",
       "      <td>thursday</td>\n",
       "      <td>14:25</td>\n",
       "      <td>25</td>\n",
       "      <td>daylight</td>\n",
       "      <td>fine no high winds</td>\n",
       "      <td>dry</td>\n",
       "      <td>none</td>\n",
       "      <td>car</td>\n",
       "      <td>going ahead other</td>\n",
       "      <td>female</td>\n",
       "      <td>06</td>\n",
       "      <td>08</td>\n",
       "      <td>1986</td>\n",
       "    </tr>\n",
       "    <tr>\n",
       "      <th>2999997</th>\n",
       "      <td>198601TD00753</td>\n",
       "      <td>slight</td>\n",
       "      <td>2</td>\n",
       "      <td>1</td>\n",
       "      <td>04/08/1986</td>\n",
       "      <td>tuesday</td>\n",
       "      <td>17:35</td>\n",
       "      <td>25</td>\n",
       "      <td>daylight</td>\n",
       "      <td>fine no high winds</td>\n",
       "      <td>dry</td>\n",
       "      <td>none</td>\n",
       "      <td>motorcycle</td>\n",
       "      <td>waiting to turn right</td>\n",
       "      <td>male</td>\n",
       "      <td>04</td>\n",
       "      <td>08</td>\n",
       "      <td>1986</td>\n",
       "    </tr>\n",
       "    <tr>\n",
       "      <th>2999998</th>\n",
       "      <td>198601TD00753</td>\n",
       "      <td>slight</td>\n",
       "      <td>2</td>\n",
       "      <td>1</td>\n",
       "      <td>04/08/1986</td>\n",
       "      <td>tuesday</td>\n",
       "      <td>17:35</td>\n",
       "      <td>25</td>\n",
       "      <td>daylight</td>\n",
       "      <td>fine no high winds</td>\n",
       "      <td>dry</td>\n",
       "      <td>none</td>\n",
       "      <td>motorcycle</td>\n",
       "      <td>going ahead other</td>\n",
       "      <td>male</td>\n",
       "      <td>04</td>\n",
       "      <td>08</td>\n",
       "      <td>1986</td>\n",
       "    </tr>\n",
       "    <tr>\n",
       "      <th>2999999</th>\n",
       "      <td>198601TD00754</td>\n",
       "      <td>slight</td>\n",
       "      <td>2</td>\n",
       "      <td>1</td>\n",
       "      <td>07/08/1986</td>\n",
       "      <td>friday</td>\n",
       "      <td>14:30</td>\n",
       "      <td>25</td>\n",
       "      <td>daylight</td>\n",
       "      <td>fine no high winds</td>\n",
       "      <td>dry</td>\n",
       "      <td>none</td>\n",
       "      <td>car</td>\n",
       "      <td>waiting to turn left</td>\n",
       "      <td>male</td>\n",
       "      <td>07</td>\n",
       "      <td>08</td>\n",
       "      <td>1986</td>\n",
       "    </tr>\n",
       "  </tbody>\n",
       "</table>\n",
       "</div>"
      ],
      "text/plain": [
       "        Accident_Index Accident_Severity  Number_of_Vehicles  \\\n",
       "2999995  198601TD00752            slight                   2   \n",
       "2999996  198601TD00752            slight                   2   \n",
       "2999997  198601TD00753            slight                   2   \n",
       "2999998  198601TD00753            slight                   2   \n",
       "2999999  198601TD00754            slight                   2   \n",
       "\n",
       "         Number_of_Casualties        Date Day_of_Week   Time  \\\n",
       "2999995                     1  06/08/1986    thursday  14:25   \n",
       "2999996                     1  06/08/1986    thursday  14:25   \n",
       "2999997                     1  04/08/1986     tuesday  17:35   \n",
       "2999998                     1  04/08/1986     tuesday  17:35   \n",
       "2999999                     1  07/08/1986      friday  14:30   \n",
       "\n",
       "         Local_Authority_(District) Light_Conditions  Weather_Conditions  \\\n",
       "2999995                          25         daylight  fine no high winds   \n",
       "2999996                          25         daylight  fine no high winds   \n",
       "2999997                          25         daylight  fine no high winds   \n",
       "2999998                          25         daylight  fine no high winds   \n",
       "2999999                          25         daylight  fine no high winds   \n",
       "\n",
       "        Road_Surface_Conditions Special_Conditions_at_Site Vehicle_Type  \\\n",
       "2999995                     dry                       none          car   \n",
       "2999996                     dry                       none          car   \n",
       "2999997                     dry                       none   motorcycle   \n",
       "2999998                     dry                       none   motorcycle   \n",
       "2999999                     dry                       none          car   \n",
       "\n",
       "             Vehicle_Manoeuvre Sex_of_Driver Date_day Month  Year  \n",
       "2999995  waiting to turn right          male       06    08  1986  \n",
       "2999996      going ahead other        female       06    08  1986  \n",
       "2999997  waiting to turn right          male       04    08  1986  \n",
       "2999998      going ahead other          male       04    08  1986  \n",
       "2999999   waiting to turn left          male       07    08  1986  "
      ]
     },
     "execution_count": 34,
     "metadata": {},
     "output_type": "execute_result"
    }
   ],
   "source": [
    "df7904a_Q2B.tail()"
   ]
  },
  {
   "cell_type": "markdown",
   "metadata": {},
   "source": [
    "The following dataframe contains data up to and including 1993. Therefore, we will drop data from before this year. However in order to do this we must first convert the year column from string to int."
   ]
  },
  {
   "cell_type": "code",
   "execution_count": 35,
   "metadata": {},
   "outputs": [
    {
     "data": {
      "text/html": [
       "<div>\n",
       "<style scoped>\n",
       "    .dataframe tbody tr th:only-of-type {\n",
       "        vertical-align: middle;\n",
       "    }\n",
       "\n",
       "    .dataframe tbody tr th {\n",
       "        vertical-align: top;\n",
       "    }\n",
       "\n",
       "    .dataframe thead th {\n",
       "        text-align: right;\n",
       "    }\n",
       "</style>\n",
       "<table border=\"1\" class=\"dataframe\">\n",
       "  <thead>\n",
       "    <tr style=\"text-align: right;\">\n",
       "      <th></th>\n",
       "      <th>Accident_Index</th>\n",
       "      <th>Accident_Severity</th>\n",
       "      <th>Number_of_Vehicles</th>\n",
       "      <th>Number_of_Casualties</th>\n",
       "      <th>Date</th>\n",
       "      <th>Day_of_Week</th>\n",
       "      <th>Time</th>\n",
       "      <th>Local_Authority_(District)</th>\n",
       "      <th>Light_Conditions</th>\n",
       "      <th>Weather_Conditions</th>\n",
       "      <th>Road_Surface_Conditions</th>\n",
       "      <th>Special_Conditions_at_Site</th>\n",
       "      <th>Vehicle_Type</th>\n",
       "      <th>Vehicle_Manoeuvre</th>\n",
       "      <th>Sex_of_Driver</th>\n",
       "      <th>Date_day</th>\n",
       "      <th>Month</th>\n",
       "      <th>Year</th>\n",
       "    </tr>\n",
       "  </thead>\n",
       "  <tbody>\n",
       "    <tr>\n",
       "      <th>5999991</th>\n",
       "      <td>199301NI00611</td>\n",
       "      <td>slight</td>\n",
       "      <td>2</td>\n",
       "      <td>1</td>\n",
       "      <td>14/11/1993</td>\n",
       "      <td>monday</td>\n",
       "      <td>11:35</td>\n",
       "      <td>3</td>\n",
       "      <td>daylight</td>\n",
       "      <td>fine + high winds</td>\n",
       "      <td>wet or damp</td>\n",
       "      <td>none</td>\n",
       "      <td>car</td>\n",
       "      <td>waiting to go - held up</td>\n",
       "      <td>female</td>\n",
       "      <td>14</td>\n",
       "      <td>11</td>\n",
       "      <td>1993</td>\n",
       "    </tr>\n",
       "    <tr>\n",
       "      <th>5999992</th>\n",
       "      <td>199301NI00612</td>\n",
       "      <td>slight</td>\n",
       "      <td>1</td>\n",
       "      <td>2</td>\n",
       "      <td>13/11/1993</td>\n",
       "      <td>sunday</td>\n",
       "      <td>09:10</td>\n",
       "      <td>3</td>\n",
       "      <td>daylight</td>\n",
       "      <td>raining no high winds</td>\n",
       "      <td>wet or damp</td>\n",
       "      <td>none</td>\n",
       "      <td>car</td>\n",
       "      <td>going ahead other</td>\n",
       "      <td>male</td>\n",
       "      <td>13</td>\n",
       "      <td>11</td>\n",
       "      <td>1993</td>\n",
       "    </tr>\n",
       "    <tr>\n",
       "      <th>5999993</th>\n",
       "      <td>199301NI00613</td>\n",
       "      <td>slight</td>\n",
       "      <td>3</td>\n",
       "      <td>1</td>\n",
       "      <td>14/11/1993</td>\n",
       "      <td>monday</td>\n",
       "      <td>03:36</td>\n",
       "      <td>3</td>\n",
       "      <td>darkness - lights lit</td>\n",
       "      <td>raining + high winds</td>\n",
       "      <td>wet or damp</td>\n",
       "      <td>none</td>\n",
       "      <td>car</td>\n",
       "      <td>u-turn</td>\n",
       "      <td>male</td>\n",
       "      <td>14</td>\n",
       "      <td>11</td>\n",
       "      <td>1993</td>\n",
       "    </tr>\n",
       "    <tr>\n",
       "      <th>5999994</th>\n",
       "      <td>199301NI00613</td>\n",
       "      <td>slight</td>\n",
       "      <td>3</td>\n",
       "      <td>1</td>\n",
       "      <td>14/11/1993</td>\n",
       "      <td>monday</td>\n",
       "      <td>03:36</td>\n",
       "      <td>3</td>\n",
       "      <td>darkness - lights lit</td>\n",
       "      <td>raining + high winds</td>\n",
       "      <td>wet or damp</td>\n",
       "      <td>none</td>\n",
       "      <td>car</td>\n",
       "      <td>going ahead other</td>\n",
       "      <td>male</td>\n",
       "      <td>14</td>\n",
       "      <td>11</td>\n",
       "      <td>1993</td>\n",
       "    </tr>\n",
       "    <tr>\n",
       "      <th>5999999</th>\n",
       "      <td>199301NI00615</td>\n",
       "      <td>slight</td>\n",
       "      <td>2</td>\n",
       "      <td>1</td>\n",
       "      <td>08/11/1993</td>\n",
       "      <td>tuesday</td>\n",
       "      <td>17:15</td>\n",
       "      <td>3</td>\n",
       "      <td>darkness - lights lit</td>\n",
       "      <td>fine no high winds</td>\n",
       "      <td>dry</td>\n",
       "      <td>none</td>\n",
       "      <td>pedal cycle</td>\n",
       "      <td>going ahead other</td>\n",
       "      <td>female</td>\n",
       "      <td>08</td>\n",
       "      <td>11</td>\n",
       "      <td>1993</td>\n",
       "    </tr>\n",
       "  </tbody>\n",
       "</table>\n",
       "</div>"
      ],
      "text/plain": [
       "        Accident_Index Accident_Severity  Number_of_Vehicles  \\\n",
       "5999991  199301NI00611            slight                   2   \n",
       "5999992  199301NI00612            slight                   1   \n",
       "5999993  199301NI00613            slight                   3   \n",
       "5999994  199301NI00613            slight                   3   \n",
       "5999999  199301NI00615            slight                   2   \n",
       "\n",
       "         Number_of_Casualties        Date Day_of_Week   Time  \\\n",
       "5999991                     1  14/11/1993      monday  11:35   \n",
       "5999992                     2  13/11/1993      sunday  09:10   \n",
       "5999993                     1  14/11/1993      monday  03:36   \n",
       "5999994                     1  14/11/1993      monday  03:36   \n",
       "5999999                     1  08/11/1993     tuesday  17:15   \n",
       "\n",
       "         Local_Authority_(District)       Light_Conditions  \\\n",
       "5999991                           3               daylight   \n",
       "5999992                           3               daylight   \n",
       "5999993                           3  darkness - lights lit   \n",
       "5999994                           3  darkness - lights lit   \n",
       "5999999                           3  darkness - lights lit   \n",
       "\n",
       "            Weather_Conditions Road_Surface_Conditions  \\\n",
       "5999991      fine + high winds             wet or damp   \n",
       "5999992  raining no high winds             wet or damp   \n",
       "5999993   raining + high winds             wet or damp   \n",
       "5999994   raining + high winds             wet or damp   \n",
       "5999999     fine no high winds                     dry   \n",
       "\n",
       "        Special_Conditions_at_Site Vehicle_Type        Vehicle_Manoeuvre  \\\n",
       "5999991                       none          car  waiting to go - held up   \n",
       "5999992                       none          car        going ahead other   \n",
       "5999993                       none          car                   u-turn   \n",
       "5999994                       none          car        going ahead other   \n",
       "5999999                       none  pedal cycle        going ahead other   \n",
       "\n",
       "        Sex_of_Driver Date_day Month  Year  \n",
       "5999991        female       14    11  1993  \n",
       "5999992          male       13    11  1993  \n",
       "5999993          male       14    11  1993  \n",
       "5999994          male       14    11  1993  \n",
       "5999999        female       08    11  1993  "
      ]
     },
     "execution_count": 35,
     "metadata": {},
     "output_type": "execute_result"
    }
   ],
   "source": [
    "df7904b_Q2B.tail()"
   ]
  },
  {
   "cell_type": "markdown",
   "metadata": {},
   "source": [
    "As the other datasets are from 1993 onwards we will include these in our final analysis and therefore no rows in them need to be dropped."
   ]
  },
  {
   "cell_type": "markdown",
   "metadata": {},
   "source": [
    "# 5. Convert Data Types\n",
    "Next we want to convert the Date_day, Month and Year columns we created earlier from type string to int. "
   ]
  },
  {
   "cell_type": "markdown",
   "metadata": {},
   "source": [
    "## Question 2A"
   ]
  },
  {
   "cell_type": "code",
   "execution_count": 36,
   "metadata": {},
   "outputs": [
    {
     "data": {
      "text/plain": [
       "Accident_Index                 object\n",
       "Accident_Severity              object\n",
       "Number_of_Vehicles              int64\n",
       "Number_of_Casualties            int64\n",
       "Date                           object\n",
       "Day_of_Week                    object\n",
       "Time                           object\n",
       "Local_Authority_(District)      int64\n",
       "Light_Conditions               object\n",
       "Weather_Conditions             object\n",
       "Road_Surface_Conditions        object\n",
       "Special_Conditions_at_Site     object\n",
       "Vehicle_Type                   object\n",
       "Vehicle_Manoeuvre              object\n",
       "Sex_of_Driver                  object\n",
       "Age_of_Vehicle                float64\n",
       "Date_day                       object\n",
       "Month                          object\n",
       "Year                           object\n",
       "dtype: object"
      ]
     },
     "execution_count": 36,
     "metadata": {},
     "output_type": "execute_result"
    }
   ],
   "source": [
    "df7904c_Q2A.dtypes"
   ]
  },
  {
   "cell_type": "code",
   "execution_count": 37,
   "metadata": {
    "collapsed": true
   },
   "outputs": [],
   "source": [
    "df7904c_Q2A[['Date_day', 'Month', 'Year']] = df7904c_Q2A[['Date_day', 'Month', 'Year']].astype('int64')"
   ]
  },
  {
   "cell_type": "markdown",
   "metadata": {},
   "source": [
    "Below you can see that the specified columns have been converted from type object -> int."
   ]
  },
  {
   "cell_type": "code",
   "execution_count": 38,
   "metadata": {},
   "outputs": [
    {
     "data": {
      "text/plain": [
       "Accident_Index                 object\n",
       "Accident_Severity              object\n",
       "Number_of_Vehicles              int64\n",
       "Number_of_Casualties            int64\n",
       "Date                           object\n",
       "Day_of_Week                    object\n",
       "Time                           object\n",
       "Local_Authority_(District)      int64\n",
       "Light_Conditions               object\n",
       "Weather_Conditions             object\n",
       "Road_Surface_Conditions        object\n",
       "Special_Conditions_at_Site     object\n",
       "Vehicle_Type                   object\n",
       "Vehicle_Manoeuvre              object\n",
       "Sex_of_Driver                  object\n",
       "Age_of_Vehicle                float64\n",
       "Date_day                        int64\n",
       "Month                           int64\n",
       "Year                            int64\n",
       "dtype: object"
      ]
     },
     "execution_count": 38,
     "metadata": {},
     "output_type": "execute_result"
    }
   ],
   "source": [
    "df7904c_Q2A.dtypes"
   ]
  },
  {
   "cell_type": "markdown",
   "metadata": {},
   "source": [
    "We will now repeat this for the other 3 datasets being used for research question 2A."
   ]
  },
  {
   "cell_type": "code",
   "execution_count": 39,
   "metadata": {
    "collapsed": true
   },
   "outputs": [],
   "source": [
    "df7904d_Q2A[['Date_day', 'Month', 'Year']] = df7904d_Q2A[['Date_day', 'Month', 'Year']].astype('int64')"
   ]
  },
  {
   "cell_type": "code",
   "execution_count": 40,
   "metadata": {
    "collapsed": true
   },
   "outputs": [],
   "source": [
    "df0514_Q2A[['Date_day', 'Month', 'Year']] = df0514_Q2A[['Date_day', 'Month', 'Year']].astype('int64')"
   ]
  },
  {
   "cell_type": "code",
   "execution_count": 41,
   "metadata": {
    "collapsed": true
   },
   "outputs": [],
   "source": [
    "df1516_Q2A[['Date_day', 'Month', 'Year']] = df1516_Q2A[['Date_day', 'Month', 'Year']].astype('int64')"
   ]
  },
  {
   "cell_type": "markdown",
   "metadata": {},
   "source": [
    "## Question 2B"
   ]
  },
  {
   "cell_type": "code",
   "execution_count": 42,
   "metadata": {},
   "outputs": [
    {
     "data": {
      "text/plain": [
       "Accident_Index                object\n",
       "Accident_Severity             object\n",
       "Number_of_Vehicles             int64\n",
       "Number_of_Casualties           int64\n",
       "Date                          object\n",
       "Day_of_Week                   object\n",
       "Time                          object\n",
       "Local_Authority_(District)     int64\n",
       "Light_Conditions              object\n",
       "Weather_Conditions            object\n",
       "Road_Surface_Conditions       object\n",
       "Special_Conditions_at_Site    object\n",
       "Vehicle_Type                  object\n",
       "Vehicle_Manoeuvre             object\n",
       "Sex_of_Driver                 object\n",
       "Date_day                      object\n",
       "Month                         object\n",
       "Year                          object\n",
       "dtype: object"
      ]
     },
     "execution_count": 42,
     "metadata": {},
     "output_type": "execute_result"
    }
   ],
   "source": [
    "df7904b_Q2B.dtypes"
   ]
  },
  {
   "cell_type": "code",
   "execution_count": 43,
   "metadata": {
    "collapsed": true
   },
   "outputs": [],
   "source": [
    "df7904b_Q2B[['Date_day', 'Month', 'Year']] = df7904b_Q2B[['Date_day', 'Month', 'Year']].astype('int64')"
   ]
  },
  {
   "cell_type": "markdown",
   "metadata": {},
   "source": [
    "Below you can see that the specified columns have been converted from type object -> int."
   ]
  },
  {
   "cell_type": "code",
   "execution_count": 44,
   "metadata": {},
   "outputs": [
    {
     "data": {
      "text/plain": [
       "Accident_Index                object\n",
       "Accident_Severity             object\n",
       "Number_of_Vehicles             int64\n",
       "Number_of_Casualties           int64\n",
       "Date                          object\n",
       "Day_of_Week                   object\n",
       "Time                          object\n",
       "Local_Authority_(District)     int64\n",
       "Light_Conditions              object\n",
       "Weather_Conditions            object\n",
       "Road_Surface_Conditions       object\n",
       "Special_Conditions_at_Site    object\n",
       "Vehicle_Type                  object\n",
       "Vehicle_Manoeuvre             object\n",
       "Sex_of_Driver                 object\n",
       "Date_day                       int64\n",
       "Month                          int64\n",
       "Year                           int64\n",
       "dtype: object"
      ]
     },
     "execution_count": 44,
     "metadata": {},
     "output_type": "execute_result"
    }
   ],
   "source": [
    "df7904b_Q2B.dtypes"
   ]
  },
  {
   "cell_type": "markdown",
   "metadata": {},
   "source": [
    "We will now repeat this for the other 4 datasets being used for research question 2B."
   ]
  },
  {
   "cell_type": "code",
   "execution_count": 45,
   "metadata": {
    "collapsed": true
   },
   "outputs": [],
   "source": [
    "df7904c_Q2B[['Date_day', 'Month', 'Year']] = df7904c_Q2B[['Date_day', 'Month', 'Year']].astype('int64')"
   ]
  },
  {
   "cell_type": "code",
   "execution_count": 46,
   "metadata": {
    "collapsed": true
   },
   "outputs": [],
   "source": [
    "df7904d_Q2B[['Date_day', 'Month', 'Year']] = df7904d_Q2B[['Date_day', 'Month', 'Year']].astype('int64')"
   ]
  },
  {
   "cell_type": "code",
   "execution_count": 47,
   "metadata": {
    "collapsed": true
   },
   "outputs": [],
   "source": [
    "df0514_Q2B[['Date_day', 'Month', 'Year']] = df0514_Q2B[['Date_day', 'Month', 'Year']].astype('int64')"
   ]
  },
  {
   "cell_type": "code",
   "execution_count": 48,
   "metadata": {
    "collapsed": true
   },
   "outputs": [],
   "source": [
    "df1516_Q2B[['Date_day', 'Month', 'Year']] = df1516_Q2B[['Date_day', 'Month', 'Year']].astype('int64')"
   ]
  },
  {
   "cell_type": "markdown",
   "metadata": {},
   "source": [
    "Now we can drop the data we don't want to keep (i.e.): data before 1993."
   ]
  },
  {
   "cell_type": "code",
   "execution_count": 49,
   "metadata": {},
   "outputs": [
    {
     "data": {
      "text/html": [
       "<div>\n",
       "<style scoped>\n",
       "    .dataframe tbody tr th:only-of-type {\n",
       "        vertical-align: middle;\n",
       "    }\n",
       "\n",
       "    .dataframe tbody tr th {\n",
       "        vertical-align: top;\n",
       "    }\n",
       "\n",
       "    .dataframe thead th {\n",
       "        text-align: right;\n",
       "    }\n",
       "</style>\n",
       "<table border=\"1\" class=\"dataframe\">\n",
       "  <thead>\n",
       "    <tr style=\"text-align: right;\">\n",
       "      <th></th>\n",
       "      <th>Accident_Index</th>\n",
       "      <th>Accident_Severity</th>\n",
       "      <th>Number_of_Vehicles</th>\n",
       "      <th>Number_of_Casualties</th>\n",
       "      <th>Date</th>\n",
       "      <th>Day_of_Week</th>\n",
       "      <th>Time</th>\n",
       "      <th>Local_Authority_(District)</th>\n",
       "      <th>Light_Conditions</th>\n",
       "      <th>Weather_Conditions</th>\n",
       "      <th>Road_Surface_Conditions</th>\n",
       "      <th>Special_Conditions_at_Site</th>\n",
       "      <th>Vehicle_Type</th>\n",
       "      <th>Vehicle_Manoeuvre</th>\n",
       "      <th>Sex_of_Driver</th>\n",
       "      <th>Date_day</th>\n",
       "      <th>Month</th>\n",
       "      <th>Year</th>\n",
       "    </tr>\n",
       "  </thead>\n",
       "  <tbody>\n",
       "    <tr>\n",
       "      <th>5968608</th>\n",
       "      <td>1993010SA0120</td>\n",
       "      <td>slight</td>\n",
       "      <td>3</td>\n",
       "      <td>2</td>\n",
       "      <td>18/02/1993</td>\n",
       "      <td>friday</td>\n",
       "      <td>16:45</td>\n",
       "      <td>33</td>\n",
       "      <td>daylight</td>\n",
       "      <td>fine no high winds</td>\n",
       "      <td>dry</td>\n",
       "      <td>none</td>\n",
       "      <td>car</td>\n",
       "      <td>waiting to go - held up</td>\n",
       "      <td>male</td>\n",
       "      <td>18</td>\n",
       "      <td>2</td>\n",
       "      <td>1993</td>\n",
       "    </tr>\n",
       "  </tbody>\n",
       "</table>\n",
       "</div>"
      ],
      "text/plain": [
       "        Accident_Index Accident_Severity  Number_of_Vehicles  \\\n",
       "5968608  1993010SA0120            slight                   3   \n",
       "\n",
       "         Number_of_Casualties        Date Day_of_Week   Time  \\\n",
       "5968608                     2  18/02/1993      friday  16:45   \n",
       "\n",
       "         Local_Authority_(District) Light_Conditions  Weather_Conditions  \\\n",
       "5968608                          33         daylight  fine no high winds   \n",
       "\n",
       "        Road_Surface_Conditions Special_Conditions_at_Site Vehicle_Type  \\\n",
       "5968608                     dry                       none          car   \n",
       "\n",
       "               Vehicle_Manoeuvre Sex_of_Driver  Date_day  Month  Year  \n",
       "5968608  waiting to go - held up          male        18      2  1993  "
      ]
     },
     "execution_count": 49,
     "metadata": {},
     "output_type": "execute_result"
    }
   ],
   "source": [
    "df7904b_Q2B = df7904b_Q2B[df7904b_Q2B['Year'] >= 1993]\n",
    "df7904b_Q2B.head(1)"
   ]
  },
  {
   "cell_type": "markdown",
   "metadata": {},
   "source": [
    "# 6. Concatenating Datasets"
   ]
  },
  {
   "cell_type": "markdown",
   "metadata": {},
   "source": [
    "## Question 2A"
   ]
  },
  {
   "cell_type": "code",
   "execution_count": 50,
   "metadata": {},
   "outputs": [
    {
     "data": {
      "text/plain": [
       "(2033305, 19)"
      ]
     },
     "execution_count": 50,
     "metadata": {},
     "output_type": "execute_result"
    }
   ],
   "source": [
    "df7904c_Q2A.shape"
   ]
  },
  {
   "cell_type": "code",
   "execution_count": 51,
   "metadata": {},
   "outputs": [
    {
     "data": {
      "text/plain": [
       "(1242776, 19)"
      ]
     },
     "execution_count": 51,
     "metadata": {},
     "output_type": "execute_result"
    }
   ],
   "source": [
    "df7904d_Q2A.shape"
   ]
  },
  {
   "cell_type": "code",
   "execution_count": 52,
   "metadata": {},
   "outputs": [
    {
     "data": {
      "text/plain": [
       "(2036044, 19)"
      ]
     },
     "execution_count": 52,
     "metadata": {},
     "output_type": "execute_result"
    }
   ],
   "source": [
    "df0514_Q2A.shape"
   ]
  },
  {
   "cell_type": "code",
   "execution_count": 53,
   "metadata": {},
   "outputs": [
    {
     "data": {
      "text/plain": [
       "(319026, 19)"
      ]
     },
     "execution_count": 53,
     "metadata": {},
     "output_type": "execute_result"
    }
   ],
   "source": [
    "df1516_Q2A.shape"
   ]
  },
  {
   "cell_type": "markdown",
   "metadata": {},
   "source": [
    "We have decided to join the df0514_Q2A and df1516_Q2A dataframes because df1516_Q2A is small. We have decided to leave the first two dataframes as they are."
   ]
  },
  {
   "cell_type": "code",
   "execution_count": 54,
   "metadata": {
    "collapsed": true
   },
   "outputs": [],
   "source": [
    "df0516_Q2A=pd.concat([df0514_Q2A, df1516_Q2A])"
   ]
  },
  {
   "cell_type": "code",
   "execution_count": 55,
   "metadata": {},
   "outputs": [
    {
     "data": {
      "text/plain": [
       "(2355070, 19)"
      ]
     },
     "execution_count": 55,
     "metadata": {},
     "output_type": "execute_result"
    }
   ],
   "source": [
    "df0516_Q2A.shape"
   ]
  },
  {
   "cell_type": "markdown",
   "metadata": {},
   "source": [
    "As you can see below no null values were created after concatenating the two dataframes."
   ]
  },
  {
   "cell_type": "code",
   "execution_count": 56,
   "metadata": {},
   "outputs": [
    {
     "data": {
      "text/plain": [
       "Accident_Index                0\n",
       "Accident_Severity             0\n",
       "Number_of_Vehicles            0\n",
       "Number_of_Casualties          0\n",
       "Date                          0\n",
       "Day_of_Week                   0\n",
       "Time                          0\n",
       "Local_Authority_(District)    0\n",
       "Light_Conditions              0\n",
       "Weather_Conditions            0\n",
       "Road_Surface_Conditions       0\n",
       "Special_Conditions_at_Site    0\n",
       "Vehicle_Type                  0\n",
       "Vehicle_Manoeuvre             0\n",
       "Sex_of_Driver                 0\n",
       "Age_of_Vehicle                0\n",
       "Date_day                      0\n",
       "Month                         0\n",
       "Year                          0\n",
       "dtype: int64"
      ]
     },
     "execution_count": 56,
     "metadata": {},
     "output_type": "execute_result"
    }
   ],
   "source": [
    "df0516_Q2A.isnull().sum()"
   ]
  },
  {
   "cell_type": "markdown",
   "metadata": {},
   "source": [
    "## Question 2B"
   ]
  },
  {
   "cell_type": "code",
   "execution_count": 57,
   "metadata": {},
   "outputs": [
    {
     "data": {
      "text/plain": [
       "(24290, 18)"
      ]
     },
     "execution_count": 57,
     "metadata": {},
     "output_type": "execute_result"
    }
   ],
   "source": [
    "df7904b_Q2B.shape"
   ]
  },
  {
   "cell_type": "code",
   "execution_count": 58,
   "metadata": {},
   "outputs": [
    {
     "data": {
      "text/plain": [
       "(2808172, 18)"
      ]
     },
     "execution_count": 58,
     "metadata": {},
     "output_type": "execute_result"
    }
   ],
   "source": [
    "df7904c_Q2B.shape"
   ]
  },
  {
   "cell_type": "code",
   "execution_count": 59,
   "metadata": {},
   "outputs": [
    {
     "data": {
      "text/plain": [
       "(1818065, 18)"
      ]
     },
     "execution_count": 59,
     "metadata": {},
     "output_type": "execute_result"
    }
   ],
   "source": [
    "df7904d_Q2B.shape"
   ]
  },
  {
   "cell_type": "code",
   "execution_count": 60,
   "metadata": {},
   "outputs": [
    {
     "data": {
      "text/plain": [
       "(2759693, 18)"
      ]
     },
     "execution_count": 60,
     "metadata": {},
     "output_type": "execute_result"
    }
   ],
   "source": [
    "df0514_Q2B.shape"
   ]
  },
  {
   "cell_type": "code",
   "execution_count": 61,
   "metadata": {},
   "outputs": [
    {
     "data": {
      "text/plain": [
       "(434637, 18)"
      ]
     },
     "execution_count": 61,
     "metadata": {},
     "output_type": "execute_result"
    }
   ],
   "source": [
    "df1516_Q2B.shape"
   ]
  },
  {
   "cell_type": "code",
   "execution_count": 62,
   "metadata": {},
   "outputs": [
    {
     "data": {
      "text/plain": [
       "7993646"
      ]
     },
     "execution_count": 62,
     "metadata": {},
     "output_type": "execute_result"
    }
   ],
   "source": [
    "24290 + 2808172 + 1966854 + 2759693 + 434637"
   ]
  },
  {
   "cell_type": "markdown",
   "metadata": {},
   "source": [
    "You can see here that after dropping data our total is much smaller. It has gone from 13003030 rows to 7993646. \n",
    "\n",
    "We have decided to concat the first two datasets and the last two datasets as the df7904b_Q2B and df1516_Q2B dataframes are much smaller."
   ]
  },
  {
   "cell_type": "code",
   "execution_count": 63,
   "metadata": {
    "collapsed": true
   },
   "outputs": [],
   "source": [
    "df7904bc_Q2B=pd.concat([df7904b_Q2B, df7904c_Q2B])"
   ]
  },
  {
   "cell_type": "code",
   "execution_count": 64,
   "metadata": {},
   "outputs": [
    {
     "data": {
      "text/plain": [
       "(2832462, 18)"
      ]
     },
     "execution_count": 64,
     "metadata": {},
     "output_type": "execute_result"
    }
   ],
   "source": [
    "df7904bc_Q2B.shape"
   ]
  },
  {
   "cell_type": "code",
   "execution_count": 65,
   "metadata": {
    "collapsed": true
   },
   "outputs": [],
   "source": [
    "df0516_Q2B=pd.concat([df0514_Q2B, df1516_Q2B])"
   ]
  },
  {
   "cell_type": "code",
   "execution_count": 66,
   "metadata": {},
   "outputs": [
    {
     "data": {
      "text/plain": [
       "(3194330, 18)"
      ]
     },
     "execution_count": 66,
     "metadata": {},
     "output_type": "execute_result"
    }
   ],
   "source": [
    "df0516_Q2B.shape"
   ]
  },
  {
   "cell_type": "markdown",
   "metadata": {},
   "source": [
    "As you can see below no null values were created after concatenating the dataframes."
   ]
  },
  {
   "cell_type": "code",
   "execution_count": 67,
   "metadata": {},
   "outputs": [
    {
     "data": {
      "text/plain": [
       "Accident_Index                0\n",
       "Accident_Severity             0\n",
       "Number_of_Vehicles            0\n",
       "Number_of_Casualties          0\n",
       "Date                          0\n",
       "Day_of_Week                   0\n",
       "Time                          0\n",
       "Local_Authority_(District)    0\n",
       "Light_Conditions              0\n",
       "Weather_Conditions            0\n",
       "Road_Surface_Conditions       0\n",
       "Special_Conditions_at_Site    0\n",
       "Vehicle_Type                  0\n",
       "Vehicle_Manoeuvre             0\n",
       "Sex_of_Driver                 0\n",
       "Date_day                      0\n",
       "Month                         0\n",
       "Year                          0\n",
       "dtype: int64"
      ]
     },
     "execution_count": 67,
     "metadata": {},
     "output_type": "execute_result"
    }
   ],
   "source": [
    "df7904bc_Q2B.isnull().sum()"
   ]
  },
  {
   "cell_type": "code",
   "execution_count": 68,
   "metadata": {},
   "outputs": [
    {
     "data": {
      "text/plain": [
       "Accident_Index                0\n",
       "Accident_Severity             0\n",
       "Number_of_Vehicles            0\n",
       "Number_of_Casualties          0\n",
       "Date                          0\n",
       "Day_of_Week                   0\n",
       "Time                          0\n",
       "Local_Authority_(District)    0\n",
       "Light_Conditions              0\n",
       "Weather_Conditions            0\n",
       "Road_Surface_Conditions       0\n",
       "Special_Conditions_at_Site    0\n",
       "Vehicle_Type                  0\n",
       "Vehicle_Manoeuvre             0\n",
       "Sex_of_Driver                 0\n",
       "Date_day                      0\n",
       "Month                         0\n",
       "Year                          0\n",
       "dtype: int64"
      ]
     },
     "execution_count": 68,
     "metadata": {},
     "output_type": "execute_result"
    }
   ],
   "source": [
    "df0516_Q2B.isnull().sum()"
   ]
  },
  {
   "cell_type": "markdown",
   "metadata": {},
   "source": [
    "# 7. Saving Data to Pickle Files"
   ]
  },
  {
   "cell_type": "markdown",
   "metadata": {},
   "source": [
    "## Q2A"
   ]
  },
  {
   "cell_type": "code",
   "execution_count": 69,
   "metadata": {},
   "outputs": [
    {
     "name": "stdout",
     "output_type": "stream",
     "text": [
      "13.7 s ± 2.1 s per loop (mean ± std. dev. of 7 runs, 1 loop each)\n"
     ]
    },
    {
     "data": {
      "text/plain": [
       "<TimeitResult : 13.7 s ± 2.1 s per loop (mean ± std. dev. of 7 runs, 1 loop each)>"
      ]
     },
     "execution_count": 69,
     "metadata": {},
     "output_type": "execute_result"
    }
   ],
   "source": [
    "# df7904c_Q2A\n",
    "pickle_save_time = %timeit -o df7904c_Q2A.to_pickle(\"../../data/processed/800_Q2A_final_prep_1.pkl\")\n",
    "\n",
    "pickle_save_time"
   ]
  },
  {
   "cell_type": "code",
   "execution_count": 70,
   "metadata": {},
   "outputs": [
    {
     "name": "stdout",
     "output_type": "stream",
     "text": [
      "10.5 s ± 3.03 s per loop (mean ± std. dev. of 7 runs, 1 loop each)\n"
     ]
    },
    {
     "data": {
      "text/plain": [
       "<TimeitResult : 10.5 s ± 3.03 s per loop (mean ± std. dev. of 7 runs, 1 loop each)>"
      ]
     },
     "execution_count": 70,
     "metadata": {},
     "output_type": "execute_result"
    }
   ],
   "source": [
    "# df7904d_Q2A\n",
    "pickle_save_time = %timeit -o df7904d_Q2A.to_pickle(\"../../data/processed/800_Q2A_final_prep_2.pkl\")\n",
    "\n",
    "pickle_save_time"
   ]
  },
  {
   "cell_type": "code",
   "execution_count": 71,
   "metadata": {},
   "outputs": [
    {
     "name": "stdout",
     "output_type": "stream",
     "text": [
      "16.1 s ± 1.46 s per loop (mean ± std. dev. of 7 runs, 1 loop each)\n"
     ]
    },
    {
     "data": {
      "text/plain": [
       "<TimeitResult : 16.1 s ± 1.46 s per loop (mean ± std. dev. of 7 runs, 1 loop each)>"
      ]
     },
     "execution_count": 71,
     "metadata": {},
     "output_type": "execute_result"
    }
   ],
   "source": [
    "# df0516_Q2A\n",
    "pickle_save_time = %timeit -o df0516_Q2A.to_pickle(\"../../data/processed/800_Q2A_final_prep_3.pkl\")\n",
    "\n",
    "pickle_save_time"
   ]
  },
  {
   "cell_type": "markdown",
   "metadata": {},
   "source": [
    "## Q2B"
   ]
  },
  {
   "cell_type": "code",
   "execution_count": 72,
   "metadata": {},
   "outputs": [
    {
     "name": "stdout",
     "output_type": "stream",
     "text": [
      "18.7 s ± 4.64 s per loop (mean ± std. dev. of 7 runs, 1 loop each)\n"
     ]
    },
    {
     "data": {
      "text/plain": [
       "<TimeitResult : 18.7 s ± 4.64 s per loop (mean ± std. dev. of 7 runs, 1 loop each)>"
      ]
     },
     "execution_count": 72,
     "metadata": {},
     "output_type": "execute_result"
    }
   ],
   "source": [
    "# df7904bc_Q2B\n",
    "pickle_save_time = %timeit -o df7904bc_Q2B.to_pickle(\"../../data/processed/800_Q2B_final_prep_1.pkl\")\n",
    "\n",
    "pickle_save_time"
   ]
  },
  {
   "cell_type": "code",
   "execution_count": 73,
   "metadata": {},
   "outputs": [
    {
     "name": "stdout",
     "output_type": "stream",
     "text": [
      "10.8 s ± 106 ms per loop (mean ± std. dev. of 7 runs, 1 loop each)\n"
     ]
    },
    {
     "data": {
      "text/plain": [
       "<TimeitResult : 10.8 s ± 106 ms per loop (mean ± std. dev. of 7 runs, 1 loop each)>"
      ]
     },
     "execution_count": 73,
     "metadata": {},
     "output_type": "execute_result"
    }
   ],
   "source": [
    "# df7904d_Q2B\n",
    "pickle_save_time = %timeit -o df7904d_Q2B.to_pickle(\"../../data/processed/800_Q2B_final_prep_2.pkl\")\n",
    "\n",
    "pickle_save_time"
   ]
  },
  {
   "cell_type": "code",
   "execution_count": 74,
   "metadata": {},
   "outputs": [
    {
     "name": "stdout",
     "output_type": "stream",
     "text": [
      "20.8 s ± 4.85 s per loop (mean ± std. dev. of 7 runs, 1 loop each)\n"
     ]
    },
    {
     "data": {
      "text/plain": [
       "<TimeitResult : 20.8 s ± 4.85 s per loop (mean ± std. dev. of 7 runs, 1 loop each)>"
      ]
     },
     "execution_count": 74,
     "metadata": {},
     "output_type": "execute_result"
    }
   ],
   "source": [
    "# df0516_Q2B\n",
    "pickle_save_time = %timeit -o df0516_Q2B.to_pickle(\"../../data/processed/800_Q2B_final_prep_3.pkl\")\n",
    "\n",
    "pickle_save_time"
   ]
  },
  {
   "cell_type": "markdown",
   "metadata": {},
   "source": [
    "# 8. Creating Data Dictionaries"
   ]
  },
  {
   "cell_type": "markdown",
   "metadata": {},
   "source": [
    "## Q2A"
   ]
  },
  {
   "cell_type": "code",
   "execution_count": 75,
   "metadata": {},
   "outputs": [
    {
     "data": {
      "text/html": [
       "<div>\n",
       "<style scoped>\n",
       "    .dataframe tbody tr th:only-of-type {\n",
       "        vertical-align: middle;\n",
       "    }\n",
       "\n",
       "    .dataframe tbody tr th {\n",
       "        vertical-align: top;\n",
       "    }\n",
       "\n",
       "    .dataframe thead th {\n",
       "        text-align: right;\n",
       "    }\n",
       "</style>\n",
       "<table border=\"1\" class=\"dataframe\">\n",
       "  <thead>\n",
       "    <tr style=\"text-align: right;\">\n",
       "      <th></th>\n",
       "      <th>count</th>\n",
       "      <th>unique</th>\n",
       "      <th>top</th>\n",
       "      <th>freq</th>\n",
       "      <th>mean</th>\n",
       "      <th>std</th>\n",
       "      <th>min</th>\n",
       "      <th>25%</th>\n",
       "      <th>50%</th>\n",
       "      <th>75%</th>\n",
       "      <th>max</th>\n",
       "      <th>Missing</th>\n",
       "      <th>%Missing</th>\n",
       "    </tr>\n",
       "  </thead>\n",
       "  <tbody>\n",
       "    <tr>\n",
       "      <th>Accident_Index</th>\n",
       "      <td>2033305</td>\n",
       "      <td>1356471</td>\n",
       "      <td>199722AX01148</td>\n",
       "      <td>71</td>\n",
       "      <td>NaN</td>\n",
       "      <td>NaN</td>\n",
       "      <td>NaN</td>\n",
       "      <td>NaN</td>\n",
       "      <td>NaN</td>\n",
       "      <td>NaN</td>\n",
       "      <td>NaN</td>\n",
       "      <td>0</td>\n",
       "      <td>0.0</td>\n",
       "    </tr>\n",
       "    <tr>\n",
       "      <th>Accident_Severity</th>\n",
       "      <td>2033305</td>\n",
       "      <td>3</td>\n",
       "      <td>slight</td>\n",
       "      <td>1708165</td>\n",
       "      <td>NaN</td>\n",
       "      <td>NaN</td>\n",
       "      <td>NaN</td>\n",
       "      <td>NaN</td>\n",
       "      <td>NaN</td>\n",
       "      <td>NaN</td>\n",
       "      <td>NaN</td>\n",
       "      <td>0</td>\n",
       "      <td>0.0</td>\n",
       "    </tr>\n",
       "    <tr>\n",
       "      <th>Number_of_Vehicles</th>\n",
       "      <td>2.03330e+06</td>\n",
       "      <td>NaN</td>\n",
       "      <td>NaN</td>\n",
       "      <td>NaN</td>\n",
       "      <td>2.11651</td>\n",
       "      <td>1.28066</td>\n",
       "      <td>1</td>\n",
       "      <td>2</td>\n",
       "      <td>2</td>\n",
       "      <td>2</td>\n",
       "      <td>88</td>\n",
       "      <td>0</td>\n",
       "      <td>0.0</td>\n",
       "    </tr>\n",
       "    <tr>\n",
       "      <th>Number_of_Casualties</th>\n",
       "      <td>2.03330e+06</td>\n",
       "      <td>NaN</td>\n",
       "      <td>NaN</td>\n",
       "      <td>NaN</td>\n",
       "      <td>1.48016</td>\n",
       "      <td>1.15529</td>\n",
       "      <td>1</td>\n",
       "      <td>1</td>\n",
       "      <td>1</td>\n",
       "      <td>2</td>\n",
       "      <td>80</td>\n",
       "      <td>0</td>\n",
       "      <td>0.0</td>\n",
       "    </tr>\n",
       "    <tr>\n",
       "      <th>Date</th>\n",
       "      <td>2033305</td>\n",
       "      <td>2922</td>\n",
       "      <td>25/04/1997</td>\n",
       "      <td>1801</td>\n",
       "      <td>NaN</td>\n",
       "      <td>NaN</td>\n",
       "      <td>NaN</td>\n",
       "      <td>NaN</td>\n",
       "      <td>NaN</td>\n",
       "      <td>NaN</td>\n",
       "      <td>NaN</td>\n",
       "      <td>0</td>\n",
       "      <td>0.0</td>\n",
       "    </tr>\n",
       "  </tbody>\n",
       "</table>\n",
       "</div>"
      ],
      "text/plain": [
       "                            count   unique            top     freq     mean  \\\n",
       "Accident_Index            2033305  1356471  199722AX01148       71      NaN   \n",
       "Accident_Severity         2033305        3         slight  1708165      NaN   \n",
       "Number_of_Vehicles    2.03330e+06      NaN            NaN      NaN  2.11651   \n",
       "Number_of_Casualties  2.03330e+06      NaN            NaN      NaN  1.48016   \n",
       "Date                      2033305     2922     25/04/1997     1801      NaN   \n",
       "\n",
       "                          std  min  25%  50%  75%  max  Missing  %Missing  \n",
       "Accident_Index            NaN  NaN  NaN  NaN  NaN  NaN        0       0.0  \n",
       "Accident_Severity         NaN  NaN  NaN  NaN  NaN  NaN        0       0.0  \n",
       "Number_of_Vehicles    1.28066    1    2    2    2   88        0       0.0  \n",
       "Number_of_Casualties  1.15529    1    1    1    2   80        0       0.0  \n",
       "Date                      NaN  NaN  NaN  NaN  NaN  NaN        0       0.0  "
      ]
     },
     "execution_count": 75,
     "metadata": {},
     "output_type": "execute_result"
    }
   ],
   "source": [
    "data_dictionary.save(\n",
    "    '../../data/processed/800_Q2A_final_prep_1.pkl', \n",
    "\n",
    "\"\"\"\\\n",
    "Aggregate raw data for UK Road Safety data for years 1979 - 2004 (c) Q2A (df7904c_Q2A).\n",
    "\"\"\").head()"
   ]
  },
  {
   "cell_type": "code",
   "execution_count": 76,
   "metadata": {},
   "outputs": [
    {
     "data": {
      "text/html": [
       "<div>\n",
       "<style scoped>\n",
       "    .dataframe tbody tr th:only-of-type {\n",
       "        vertical-align: middle;\n",
       "    }\n",
       "\n",
       "    .dataframe tbody tr th {\n",
       "        vertical-align: top;\n",
       "    }\n",
       "\n",
       "    .dataframe thead th {\n",
       "        text-align: right;\n",
       "    }\n",
       "</style>\n",
       "<table border=\"1\" class=\"dataframe\">\n",
       "  <thead>\n",
       "    <tr style=\"text-align: right;\">\n",
       "      <th></th>\n",
       "      <th>count</th>\n",
       "      <th>unique</th>\n",
       "      <th>top</th>\n",
       "      <th>freq</th>\n",
       "      <th>mean</th>\n",
       "      <th>std</th>\n",
       "      <th>min</th>\n",
       "      <th>25%</th>\n",
       "      <th>50%</th>\n",
       "      <th>75%</th>\n",
       "      <th>max</th>\n",
       "      <th>Missing</th>\n",
       "      <th>%Missing</th>\n",
       "    </tr>\n",
       "  </thead>\n",
       "  <tbody>\n",
       "    <tr>\n",
       "      <th>Accident_Index</th>\n",
       "      <td>1242776</td>\n",
       "      <td>835645</td>\n",
       "      <td>2003070300788</td>\n",
       "      <td>28</td>\n",
       "      <td>NaN</td>\n",
       "      <td>NaN</td>\n",
       "      <td>NaN</td>\n",
       "      <td>NaN</td>\n",
       "      <td>NaN</td>\n",
       "      <td>NaN</td>\n",
       "      <td>NaN</td>\n",
       "      <td>0</td>\n",
       "      <td>0.0</td>\n",
       "    </tr>\n",
       "    <tr>\n",
       "      <th>Accident_Severity</th>\n",
       "      <td>1242776</td>\n",
       "      <td>3</td>\n",
       "      <td>slight</td>\n",
       "      <td>1068500</td>\n",
       "      <td>NaN</td>\n",
       "      <td>NaN</td>\n",
       "      <td>NaN</td>\n",
       "      <td>NaN</td>\n",
       "      <td>NaN</td>\n",
       "      <td>NaN</td>\n",
       "      <td>NaN</td>\n",
       "      <td>0</td>\n",
       "      <td>0.0</td>\n",
       "    </tr>\n",
       "    <tr>\n",
       "      <th>Number_of_Vehicles</th>\n",
       "      <td>1.24278e+06</td>\n",
       "      <td>NaN</td>\n",
       "      <td>NaN</td>\n",
       "      <td>NaN</td>\n",
       "      <td>2.13035</td>\n",
       "      <td>0.979638</td>\n",
       "      <td>1</td>\n",
       "      <td>2</td>\n",
       "      <td>2</td>\n",
       "      <td>2</td>\n",
       "      <td>66</td>\n",
       "      <td>0</td>\n",
       "      <td>0.0</td>\n",
       "    </tr>\n",
       "    <tr>\n",
       "      <th>Number_of_Casualties</th>\n",
       "      <td>1.24278e+06</td>\n",
       "      <td>NaN</td>\n",
       "      <td>NaN</td>\n",
       "      <td>NaN</td>\n",
       "      <td>1.49748</td>\n",
       "      <td>1.02673</td>\n",
       "      <td>1</td>\n",
       "      <td>1</td>\n",
       "      <td>1</td>\n",
       "      <td>2</td>\n",
       "      <td>90</td>\n",
       "      <td>0</td>\n",
       "      <td>0.0</td>\n",
       "    </tr>\n",
       "    <tr>\n",
       "      <th>Date</th>\n",
       "      <td>1242776</td>\n",
       "      <td>1827</td>\n",
       "      <td>26/05/2000</td>\n",
       "      <td>1280</td>\n",
       "      <td>NaN</td>\n",
       "      <td>NaN</td>\n",
       "      <td>NaN</td>\n",
       "      <td>NaN</td>\n",
       "      <td>NaN</td>\n",
       "      <td>NaN</td>\n",
       "      <td>NaN</td>\n",
       "      <td>0</td>\n",
       "      <td>0.0</td>\n",
       "    </tr>\n",
       "  </tbody>\n",
       "</table>\n",
       "</div>"
      ],
      "text/plain": [
       "                            count  unique            top     freq     mean  \\\n",
       "Accident_Index            1242776  835645  2003070300788       28      NaN   \n",
       "Accident_Severity         1242776       3         slight  1068500      NaN   \n",
       "Number_of_Vehicles    1.24278e+06     NaN            NaN      NaN  2.13035   \n",
       "Number_of_Casualties  1.24278e+06     NaN            NaN      NaN  1.49748   \n",
       "Date                      1242776    1827     26/05/2000     1280      NaN   \n",
       "\n",
       "                           std  min  25%  50%  75%  max  Missing  %Missing  \n",
       "Accident_Index             NaN  NaN  NaN  NaN  NaN  NaN        0       0.0  \n",
       "Accident_Severity          NaN  NaN  NaN  NaN  NaN  NaN        0       0.0  \n",
       "Number_of_Vehicles    0.979638    1    2    2    2   66        0       0.0  \n",
       "Number_of_Casualties   1.02673    1    1    1    2   90        0       0.0  \n",
       "Date                       NaN  NaN  NaN  NaN  NaN  NaN        0       0.0  "
      ]
     },
     "execution_count": 76,
     "metadata": {},
     "output_type": "execute_result"
    }
   ],
   "source": [
    "data_dictionary.save(\n",
    "    '../../data/processed/800_Q2A_final_prep_2.pkl', \n",
    "\n",
    "\"\"\"\\\n",
    "Aggregate raw data for UK Road Safety data for years 1979 - 2004 (d) Q2A (df7904d_Q2A).\n",
    "\"\"\").head()"
   ]
  },
  {
   "cell_type": "code",
   "execution_count": 77,
   "metadata": {},
   "outputs": [
    {
     "data": {
      "text/html": [
       "<div>\n",
       "<style scoped>\n",
       "    .dataframe tbody tr th:only-of-type {\n",
       "        vertical-align: middle;\n",
       "    }\n",
       "\n",
       "    .dataframe tbody tr th {\n",
       "        vertical-align: top;\n",
       "    }\n",
       "\n",
       "    .dataframe thead th {\n",
       "        text-align: right;\n",
       "    }\n",
       "</style>\n",
       "<table border=\"1\" class=\"dataframe\">\n",
       "  <thead>\n",
       "    <tr style=\"text-align: right;\">\n",
       "      <th></th>\n",
       "      <th>count</th>\n",
       "      <th>unique</th>\n",
       "      <th>top</th>\n",
       "      <th>freq</th>\n",
       "      <th>mean</th>\n",
       "      <th>std</th>\n",
       "      <th>min</th>\n",
       "      <th>25%</th>\n",
       "      <th>50%</th>\n",
       "      <th>75%</th>\n",
       "      <th>max</th>\n",
       "      <th>Missing</th>\n",
       "      <th>%Missing</th>\n",
       "    </tr>\n",
       "  </thead>\n",
       "  <tbody>\n",
       "    <tr>\n",
       "      <th>Accident_Index</th>\n",
       "      <td>2355070</td>\n",
       "      <td>1561553</td>\n",
       "      <td>2013460234852</td>\n",
       "      <td>52</td>\n",
       "      <td>NaN</td>\n",
       "      <td>NaN</td>\n",
       "      <td>NaN</td>\n",
       "      <td>NaN</td>\n",
       "      <td>NaN</td>\n",
       "      <td>NaN</td>\n",
       "      <td>NaN</td>\n",
       "      <td>0</td>\n",
       "      <td>0.0</td>\n",
       "    </tr>\n",
       "    <tr>\n",
       "      <th>Accident_Severity</th>\n",
       "      <td>2355070</td>\n",
       "      <td>3</td>\n",
       "      <td>slight</td>\n",
       "      <td>2028868</td>\n",
       "      <td>NaN</td>\n",
       "      <td>NaN</td>\n",
       "      <td>NaN</td>\n",
       "      <td>NaN</td>\n",
       "      <td>NaN</td>\n",
       "      <td>NaN</td>\n",
       "      <td>NaN</td>\n",
       "      <td>0</td>\n",
       "      <td>0.0</td>\n",
       "    </tr>\n",
       "    <tr>\n",
       "      <th>Number_of_Vehicles</th>\n",
       "      <td>2.35507e+06</td>\n",
       "      <td>NaN</td>\n",
       "      <td>NaN</td>\n",
       "      <td>NaN</td>\n",
       "      <td>2.11405</td>\n",
       "      <td>0.947346</td>\n",
       "      <td>1</td>\n",
       "      <td>2</td>\n",
       "      <td>2</td>\n",
       "      <td>2</td>\n",
       "      <td>67</td>\n",
       "      <td>0</td>\n",
       "      <td>0.0</td>\n",
       "    </tr>\n",
       "    <tr>\n",
       "      <th>Number_of_Casualties</th>\n",
       "      <td>2.35507e+06</td>\n",
       "      <td>NaN</td>\n",
       "      <td>NaN</td>\n",
       "      <td>NaN</td>\n",
       "      <td>1.4762</td>\n",
       "      <td>1.0322</td>\n",
       "      <td>1</td>\n",
       "      <td>1</td>\n",
       "      <td>1</td>\n",
       "      <td>2</td>\n",
       "      <td>93</td>\n",
       "      <td>0</td>\n",
       "      <td>0.0</td>\n",
       "    </tr>\n",
       "    <tr>\n",
       "      <th>Date</th>\n",
       "      <td>2355070</td>\n",
       "      <td>4383</td>\n",
       "      <td>21/10/2005</td>\n",
       "      <td>1011</td>\n",
       "      <td>NaN</td>\n",
       "      <td>NaN</td>\n",
       "      <td>NaN</td>\n",
       "      <td>NaN</td>\n",
       "      <td>NaN</td>\n",
       "      <td>NaN</td>\n",
       "      <td>NaN</td>\n",
       "      <td>0</td>\n",
       "      <td>0.0</td>\n",
       "    </tr>\n",
       "  </tbody>\n",
       "</table>\n",
       "</div>"
      ],
      "text/plain": [
       "                            count   unique            top     freq     mean  \\\n",
       "Accident_Index            2355070  1561553  2013460234852       52      NaN   \n",
       "Accident_Severity         2355070        3         slight  2028868      NaN   \n",
       "Number_of_Vehicles    2.35507e+06      NaN            NaN      NaN  2.11405   \n",
       "Number_of_Casualties  2.35507e+06      NaN            NaN      NaN   1.4762   \n",
       "Date                      2355070     4383     21/10/2005     1011      NaN   \n",
       "\n",
       "                           std  min  25%  50%  75%  max  Missing  %Missing  \n",
       "Accident_Index             NaN  NaN  NaN  NaN  NaN  NaN        0       0.0  \n",
       "Accident_Severity          NaN  NaN  NaN  NaN  NaN  NaN        0       0.0  \n",
       "Number_of_Vehicles    0.947346    1    2    2    2   67        0       0.0  \n",
       "Number_of_Casualties    1.0322    1    1    1    2   93        0       0.0  \n",
       "Date                       NaN  NaN  NaN  NaN  NaN  NaN        0       0.0  "
      ]
     },
     "execution_count": 77,
     "metadata": {},
     "output_type": "execute_result"
    }
   ],
   "source": [
    "data_dictionary.save(\n",
    "    '../../data/processed/800_Q2A_final_prep_3.pkl', \n",
    "\n",
    "\"\"\"\\\n",
    "Aggregate raw data for UK Road Safety data for years 2005 - 2016 Q2A (df0516_Q2A).\n",
    "\"\"\").head()"
   ]
  },
  {
   "cell_type": "markdown",
   "metadata": {},
   "source": [
    "## Q2B"
   ]
  },
  {
   "cell_type": "code",
   "execution_count": 78,
   "metadata": {},
   "outputs": [
    {
     "data": {
      "text/html": [
       "<div>\n",
       "<style scoped>\n",
       "    .dataframe tbody tr th:only-of-type {\n",
       "        vertical-align: middle;\n",
       "    }\n",
       "\n",
       "    .dataframe tbody tr th {\n",
       "        vertical-align: top;\n",
       "    }\n",
       "\n",
       "    .dataframe thead th {\n",
       "        text-align: right;\n",
       "    }\n",
       "</style>\n",
       "<table border=\"1\" class=\"dataframe\">\n",
       "  <thead>\n",
       "    <tr style=\"text-align: right;\">\n",
       "      <th></th>\n",
       "      <th>count</th>\n",
       "      <th>unique</th>\n",
       "      <th>top</th>\n",
       "      <th>freq</th>\n",
       "      <th>mean</th>\n",
       "      <th>std</th>\n",
       "      <th>min</th>\n",
       "      <th>25%</th>\n",
       "      <th>50%</th>\n",
       "      <th>75%</th>\n",
       "      <th>max</th>\n",
       "      <th>Missing</th>\n",
       "      <th>%Missing</th>\n",
       "    </tr>\n",
       "  </thead>\n",
       "  <tbody>\n",
       "    <tr>\n",
       "      <th>Accident_Index</th>\n",
       "      <td>2832462</td>\n",
       "      <td>1617016</td>\n",
       "      <td>199722AX01148</td>\n",
       "      <td>88</td>\n",
       "      <td>NaN</td>\n",
       "      <td>NaN</td>\n",
       "      <td>NaN</td>\n",
       "      <td>NaN</td>\n",
       "      <td>NaN</td>\n",
       "      <td>NaN</td>\n",
       "      <td>NaN</td>\n",
       "      <td>0</td>\n",
       "      <td>0.0</td>\n",
       "    </tr>\n",
       "    <tr>\n",
       "      <th>Accident_Severity</th>\n",
       "      <td>2832462</td>\n",
       "      <td>3</td>\n",
       "      <td>slight</td>\n",
       "      <td>2381016</td>\n",
       "      <td>NaN</td>\n",
       "      <td>NaN</td>\n",
       "      <td>NaN</td>\n",
       "      <td>NaN</td>\n",
       "      <td>NaN</td>\n",
       "      <td>NaN</td>\n",
       "      <td>NaN</td>\n",
       "      <td>0</td>\n",
       "      <td>0.0</td>\n",
       "    </tr>\n",
       "    <tr>\n",
       "      <th>Number_of_Vehicles</th>\n",
       "      <td>2.83246e+06</td>\n",
       "      <td>NaN</td>\n",
       "      <td>NaN</td>\n",
       "      <td>NaN</td>\n",
       "      <td>2.10844</td>\n",
       "      <td>1.23626</td>\n",
       "      <td>1</td>\n",
       "      <td>2</td>\n",
       "      <td>2</td>\n",
       "      <td>2</td>\n",
       "      <td>88</td>\n",
       "      <td>0</td>\n",
       "      <td>0.0</td>\n",
       "    </tr>\n",
       "    <tr>\n",
       "      <th>Number_of_Casualties</th>\n",
       "      <td>2.83246e+06</td>\n",
       "      <td>NaN</td>\n",
       "      <td>NaN</td>\n",
       "      <td>NaN</td>\n",
       "      <td>1.44127</td>\n",
       "      <td>1.11126</td>\n",
       "      <td>1</td>\n",
       "      <td>1</td>\n",
       "      <td>1</td>\n",
       "      <td>2</td>\n",
       "      <td>80</td>\n",
       "      <td>0</td>\n",
       "      <td>0.0</td>\n",
       "    </tr>\n",
       "    <tr>\n",
       "      <th>Date</th>\n",
       "      <td>2832462</td>\n",
       "      <td>2922</td>\n",
       "      <td>25/04/1997</td>\n",
       "      <td>2338</td>\n",
       "      <td>NaN</td>\n",
       "      <td>NaN</td>\n",
       "      <td>NaN</td>\n",
       "      <td>NaN</td>\n",
       "      <td>NaN</td>\n",
       "      <td>NaN</td>\n",
       "      <td>NaN</td>\n",
       "      <td>0</td>\n",
       "      <td>0.0</td>\n",
       "    </tr>\n",
       "  </tbody>\n",
       "</table>\n",
       "</div>"
      ],
      "text/plain": [
       "                            count   unique            top     freq     mean  \\\n",
       "Accident_Index            2832462  1617016  199722AX01148       88      NaN   \n",
       "Accident_Severity         2832462        3         slight  2381016      NaN   \n",
       "Number_of_Vehicles    2.83246e+06      NaN            NaN      NaN  2.10844   \n",
       "Number_of_Casualties  2.83246e+06      NaN            NaN      NaN  1.44127   \n",
       "Date                      2832462     2922     25/04/1997     2338      NaN   \n",
       "\n",
       "                          std  min  25%  50%  75%  max  Missing  %Missing  \n",
       "Accident_Index            NaN  NaN  NaN  NaN  NaN  NaN        0       0.0  \n",
       "Accident_Severity         NaN  NaN  NaN  NaN  NaN  NaN        0       0.0  \n",
       "Number_of_Vehicles    1.23626    1    2    2    2   88        0       0.0  \n",
       "Number_of_Casualties  1.11126    1    1    1    2   80        0       0.0  \n",
       "Date                      NaN  NaN  NaN  NaN  NaN  NaN        0       0.0  "
      ]
     },
     "execution_count": 78,
     "metadata": {},
     "output_type": "execute_result"
    }
   ],
   "source": [
    "data_dictionary.save(\n",
    "    '../../data/processed/800_Q2B_final_prep_1.pkl', \n",
    "\n",
    "\"\"\"\\\n",
    "Aggregate raw data for UK Road Safety data for years 1979 - 2004 (bc) Q2B (df7904bc_Q2B).\n",
    "\"\"\").head()"
   ]
  },
  {
   "cell_type": "code",
   "execution_count": 79,
   "metadata": {},
   "outputs": [
    {
     "data": {
      "text/html": [
       "<div>\n",
       "<style scoped>\n",
       "    .dataframe tbody tr th:only-of-type {\n",
       "        vertical-align: middle;\n",
       "    }\n",
       "\n",
       "    .dataframe tbody tr th {\n",
       "        vertical-align: top;\n",
       "    }\n",
       "\n",
       "    .dataframe thead th {\n",
       "        text-align: right;\n",
       "    }\n",
       "</style>\n",
       "<table border=\"1\" class=\"dataframe\">\n",
       "  <thead>\n",
       "    <tr style=\"text-align: right;\">\n",
       "      <th></th>\n",
       "      <th>count</th>\n",
       "      <th>unique</th>\n",
       "      <th>top</th>\n",
       "      <th>freq</th>\n",
       "      <th>mean</th>\n",
       "      <th>std</th>\n",
       "      <th>min</th>\n",
       "      <th>25%</th>\n",
       "      <th>50%</th>\n",
       "      <th>75%</th>\n",
       "      <th>max</th>\n",
       "      <th>Missing</th>\n",
       "      <th>%Missing</th>\n",
       "    </tr>\n",
       "  </thead>\n",
       "  <tbody>\n",
       "    <tr>\n",
       "      <th>Accident_Index</th>\n",
       "      <td>1818065</td>\n",
       "      <td>1033652</td>\n",
       "      <td>2003070300788</td>\n",
       "      <td>40</td>\n",
       "      <td>NaN</td>\n",
       "      <td>NaN</td>\n",
       "      <td>NaN</td>\n",
       "      <td>NaN</td>\n",
       "      <td>NaN</td>\n",
       "      <td>NaN</td>\n",
       "      <td>NaN</td>\n",
       "      <td>0</td>\n",
       "      <td>0.0</td>\n",
       "    </tr>\n",
       "    <tr>\n",
       "      <th>Accident_Severity</th>\n",
       "      <td>1818065</td>\n",
       "      <td>3</td>\n",
       "      <td>slight</td>\n",
       "      <td>1562694</td>\n",
       "      <td>NaN</td>\n",
       "      <td>NaN</td>\n",
       "      <td>NaN</td>\n",
       "      <td>NaN</td>\n",
       "      <td>NaN</td>\n",
       "      <td>NaN</td>\n",
       "      <td>NaN</td>\n",
       "      <td>0</td>\n",
       "      <td>0.0</td>\n",
       "    </tr>\n",
       "    <tr>\n",
       "      <th>Number_of_Vehicles</th>\n",
       "      <td>1.81806e+06</td>\n",
       "      <td>NaN</td>\n",
       "      <td>NaN</td>\n",
       "      <td>NaN</td>\n",
       "      <td>2.121</td>\n",
       "      <td>0.95333</td>\n",
       "      <td>1</td>\n",
       "      <td>2</td>\n",
       "      <td>2</td>\n",
       "      <td>2</td>\n",
       "      <td>66</td>\n",
       "      <td>0</td>\n",
       "      <td>0.0</td>\n",
       "    </tr>\n",
       "    <tr>\n",
       "      <th>Number_of_Casualties</th>\n",
       "      <td>1.81806e+06</td>\n",
       "      <td>NaN</td>\n",
       "      <td>NaN</td>\n",
       "      <td>NaN</td>\n",
       "      <td>1.45772</td>\n",
       "      <td>0.994761</td>\n",
       "      <td>1</td>\n",
       "      <td>1</td>\n",
       "      <td>1</td>\n",
       "      <td>2</td>\n",
       "      <td>90</td>\n",
       "      <td>0</td>\n",
       "      <td>0.0</td>\n",
       "    </tr>\n",
       "    <tr>\n",
       "      <th>Date</th>\n",
       "      <td>1818065</td>\n",
       "      <td>1827</td>\n",
       "      <td>25/10/2002</td>\n",
       "      <td>1801</td>\n",
       "      <td>NaN</td>\n",
       "      <td>NaN</td>\n",
       "      <td>NaN</td>\n",
       "      <td>NaN</td>\n",
       "      <td>NaN</td>\n",
       "      <td>NaN</td>\n",
       "      <td>NaN</td>\n",
       "      <td>0</td>\n",
       "      <td>0.0</td>\n",
       "    </tr>\n",
       "  </tbody>\n",
       "</table>\n",
       "</div>"
      ],
      "text/plain": [
       "                            count   unique            top     freq     mean  \\\n",
       "Accident_Index            1818065  1033652  2003070300788       40      NaN   \n",
       "Accident_Severity         1818065        3         slight  1562694      NaN   \n",
       "Number_of_Vehicles    1.81806e+06      NaN            NaN      NaN    2.121   \n",
       "Number_of_Casualties  1.81806e+06      NaN            NaN      NaN  1.45772   \n",
       "Date                      1818065     1827     25/10/2002     1801      NaN   \n",
       "\n",
       "                           std  min  25%  50%  75%  max  Missing  %Missing  \n",
       "Accident_Index             NaN  NaN  NaN  NaN  NaN  NaN        0       0.0  \n",
       "Accident_Severity          NaN  NaN  NaN  NaN  NaN  NaN        0       0.0  \n",
       "Number_of_Vehicles     0.95333    1    2    2    2   66        0       0.0  \n",
       "Number_of_Casualties  0.994761    1    1    1    2   90        0       0.0  \n",
       "Date                       NaN  NaN  NaN  NaN  NaN  NaN        0       0.0  "
      ]
     },
     "execution_count": 79,
     "metadata": {},
     "output_type": "execute_result"
    }
   ],
   "source": [
    "data_dictionary.save(\n",
    "    '../../data/processed/800_Q2B_final_prep_2.pkl', \n",
    "\n",
    "\"\"\"\\\n",
    "Aggregate raw data for UK Road Safety data for years 1979 - 2004 (d) Q2B (df7904d_Q2B).\n",
    "\"\"\").head()"
   ]
  },
  {
   "cell_type": "code",
   "execution_count": 80,
   "metadata": {},
   "outputs": [
    {
     "data": {
      "text/html": [
       "<div>\n",
       "<style scoped>\n",
       "    .dataframe tbody tr th:only-of-type {\n",
       "        vertical-align: middle;\n",
       "    }\n",
       "\n",
       "    .dataframe tbody tr th {\n",
       "        vertical-align: top;\n",
       "    }\n",
       "\n",
       "    .dataframe thead th {\n",
       "        text-align: right;\n",
       "    }\n",
       "</style>\n",
       "<table border=\"1\" class=\"dataframe\">\n",
       "  <thead>\n",
       "    <tr style=\"text-align: right;\">\n",
       "      <th></th>\n",
       "      <th>count</th>\n",
       "      <th>unique</th>\n",
       "      <th>top</th>\n",
       "      <th>freq</th>\n",
       "      <th>mean</th>\n",
       "      <th>std</th>\n",
       "      <th>min</th>\n",
       "      <th>25%</th>\n",
       "      <th>50%</th>\n",
       "      <th>75%</th>\n",
       "      <th>max</th>\n",
       "      <th>Missing</th>\n",
       "      <th>%Missing</th>\n",
       "    </tr>\n",
       "  </thead>\n",
       "  <tbody>\n",
       "    <tr>\n",
       "      <th>Accident_Index</th>\n",
       "      <td>3194330</td>\n",
       "      <td>1818307</td>\n",
       "      <td>2013460234852</td>\n",
       "      <td>67</td>\n",
       "      <td>NaN</td>\n",
       "      <td>NaN</td>\n",
       "      <td>NaN</td>\n",
       "      <td>NaN</td>\n",
       "      <td>NaN</td>\n",
       "      <td>NaN</td>\n",
       "      <td>NaN</td>\n",
       "      <td>0</td>\n",
       "      <td>0.0</td>\n",
       "    </tr>\n",
       "    <tr>\n",
       "      <th>Accident_Severity</th>\n",
       "      <td>3194330</td>\n",
       "      <td>3</td>\n",
       "      <td>slight</td>\n",
       "      <td>2745292</td>\n",
       "      <td>NaN</td>\n",
       "      <td>NaN</td>\n",
       "      <td>NaN</td>\n",
       "      <td>NaN</td>\n",
       "      <td>NaN</td>\n",
       "      <td>NaN</td>\n",
       "      <td>NaN</td>\n",
       "      <td>0</td>\n",
       "      <td>0.0</td>\n",
       "    </tr>\n",
       "    <tr>\n",
       "      <th>Number_of_Vehicles</th>\n",
       "      <td>3.19433e+06</td>\n",
       "      <td>NaN</td>\n",
       "      <td>NaN</td>\n",
       "      <td>NaN</td>\n",
       "      <td>2.10637</td>\n",
       "      <td>0.921413</td>\n",
       "      <td>1</td>\n",
       "      <td>2</td>\n",
       "      <td>2</td>\n",
       "      <td>2</td>\n",
       "      <td>67</td>\n",
       "      <td>0</td>\n",
       "      <td>0.0</td>\n",
       "    </tr>\n",
       "    <tr>\n",
       "      <th>Number_of_Casualties</th>\n",
       "      <td>3.19433e+06</td>\n",
       "      <td>NaN</td>\n",
       "      <td>NaN</td>\n",
       "      <td>NaN</td>\n",
       "      <td>1.43969</td>\n",
       "      <td>0.998722</td>\n",
       "      <td>1</td>\n",
       "      <td>1</td>\n",
       "      <td>1</td>\n",
       "      <td>2</td>\n",
       "      <td>93</td>\n",
       "      <td>0</td>\n",
       "      <td>0.0</td>\n",
       "    </tr>\n",
       "    <tr>\n",
       "      <th>Date</th>\n",
       "      <td>3194330</td>\n",
       "      <td>4383</td>\n",
       "      <td>21/10/2005</td>\n",
       "      <td>1471</td>\n",
       "      <td>NaN</td>\n",
       "      <td>NaN</td>\n",
       "      <td>NaN</td>\n",
       "      <td>NaN</td>\n",
       "      <td>NaN</td>\n",
       "      <td>NaN</td>\n",
       "      <td>NaN</td>\n",
       "      <td>0</td>\n",
       "      <td>0.0</td>\n",
       "    </tr>\n",
       "  </tbody>\n",
       "</table>\n",
       "</div>"
      ],
      "text/plain": [
       "                            count   unique            top     freq     mean  \\\n",
       "Accident_Index            3194330  1818307  2013460234852       67      NaN   \n",
       "Accident_Severity         3194330        3         slight  2745292      NaN   \n",
       "Number_of_Vehicles    3.19433e+06      NaN            NaN      NaN  2.10637   \n",
       "Number_of_Casualties  3.19433e+06      NaN            NaN      NaN  1.43969   \n",
       "Date                      3194330     4383     21/10/2005     1471      NaN   \n",
       "\n",
       "                           std  min  25%  50%  75%  max  Missing  %Missing  \n",
       "Accident_Index             NaN  NaN  NaN  NaN  NaN  NaN        0       0.0  \n",
       "Accident_Severity          NaN  NaN  NaN  NaN  NaN  NaN        0       0.0  \n",
       "Number_of_Vehicles    0.921413    1    2    2    2   67        0       0.0  \n",
       "Number_of_Casualties  0.998722    1    1    1    2   93        0       0.0  \n",
       "Date                       NaN  NaN  NaN  NaN  NaN  NaN        0       0.0  "
      ]
     },
     "execution_count": 80,
     "metadata": {},
     "output_type": "execute_result"
    }
   ],
   "source": [
    "data_dictionary.save(\n",
    "    '../../data/processed/800_Q2B_final_prep_3.pkl', \n",
    "\n",
    "\"\"\"\\\n",
    "Aggregate raw data for UK Road Safety data for years 2005 - 2016 Q2B (df0516_Q2B).\n",
    "\"\"\").head()"
   ]
  },
  {
   "cell_type": "code",
   "execution_count": null,
   "metadata": {
    "collapsed": true
   },
   "outputs": [],
   "source": []
  }
 ],
 "metadata": {
  "kernelspec": {
   "display_name": "Python 3",
   "language": "python",
   "name": "python3"
  },
  "language_info": {
   "codemirror_mode": {
    "name": "ipython",
    "version": 3
   },
   "file_extension": ".py",
   "mimetype": "text/x-python",
   "name": "python",
   "nbconvert_exporter": "python",
   "pygments_lexer": "ipython3",
   "version": "3.6.3"
  }
 },
 "nbformat": 4,
 "nbformat_minor": 2
}
