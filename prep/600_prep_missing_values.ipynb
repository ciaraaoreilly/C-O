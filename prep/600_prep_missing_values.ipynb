{
 "cells": [
  {
   "cell_type": "markdown",
   "metadata": {},
   "source": [
    "# 600_prep_missing_values\n",
    "\n",
    "## Purpose\n",
    "In this notebook we will get started on the cleaning and validating our data, focusing mainly on dealing with missing values in our datasets.\n",
    "\n",
    "## Notebook Contents:\n",
    "* __1:__ Loading the Datasets\n",
    "   \n",
    "* __2:__ Handling Missing Data\n",
    "\n",
    "* __3:__ Dataset 1979-2004 (c)\n",
    "    * __3.1:__ Locating Missing Data\n",
    "    * __3.2:__ Handling Null Values\n",
    "\n",
    "\n",
    "* __4:__ Dataset 1979-2004 (d)\n",
    "    * __4.1:__ Locating Missing Data\n",
    "    * __4.2:__ Handling Null Values\n",
    "    \n",
    "* __5:__ Dataset 2015-2016\n",
    "    * __2.1:__ Locating Missing Data\n",
    "    * __2.2:__ Handling Null Values\n",
    "    \n",
    "    \n",
    "* __6:__ Saving Data to Pickle Files\n",
    "\n",
    "* __7:__ Creating Data Dictionaries\n",
    "\n",
    "## Datasets\n",
    "__Input:__\n",
    "* 400_mapping_values_7904c.pkl   (data for years 1979-2004 (c) with mapped strings)\n",
    "* 400_mapping_values_7904d.pkl (data for years 1979-2004 (d) with mapped strings)\n",
    "* 400_mapping_values_1516.pkl   (data for years 2015-2016 with mapped strings)\n",
    "\n",
    "\n",
    "__Output:__ The following pickle files contain the data with the missing values removed. The data is for the years 1979-2004 and 2015-2016. Each pickle file only contains the columns needed to answer the research question that data is being used for, (e.g.): Where it says Q2B in the pickle name that data is to be used to answer research Q2 part B.\n",
    "_Note:_ In this notebook we are prepping the null values only for parts c and d of the full 1979-2004 dataset (we had to break it up into 4 sections (a,b,c,d) as it was such a big dataset).\n",
    "* 600_prep_missing_values_7904c_Q1AB.pkl, 600_prep_missing_values_7904c_Q2A.pkl,  600_prep_missing_values_7904c_Q2B.pkl, 600_prep_missing_values_7904c_Q3A.pkl, 600_prep_missing_values_7904c_Q3B.pkl, 600_prep_missing_values_7904d_Q1AB.pkl, 600_prep_missing_values_7904d_Q2A.pkl, 600_prep_missing_values_7904d_Q2B.pkl, 600_prep_missing_values_7904d_Q3A.pkl, 600_prep_missing_values_7904d_Q3B.pkl, 600_prep_missing_values_1516_Q1AB.pkl, 600_prep_missing_values_1516_Q2A.pkl, 600_prep_missing_values_1516_Q2B.pkl, 600_prep_missing_values_1516_Q3A.pkl, 600_prep_missing_values_1516_Q3B.pkl"
   ]
  },
  {
   "cell_type": "code",
   "execution_count": 1,
   "metadata": {
    "collapsed": true
   },
   "outputs": [],
   "source": [
    "import os\n",
    "import sys\n",
    "\n",
    "import pandas as pd\n",
    "import numpy as np\n",
    "\n",
    "module_path = os.path.abspath(os.path.join('../../data/..'))\n",
    "if module_path not in sys.path:\n",
    "    sys.path.append(module_path)\n",
    "    \n",
    "from src.helpers import data_dictionary\n",
    "\n",
    "%matplotlib inline"
   ]
  },
  {
   "cell_type": "markdown",
   "metadata": {},
   "source": [
    "# 1. Loading the Datasets"
   ]
  },
  {
   "cell_type": "code",
   "execution_count": 2,
   "metadata": {},
   "outputs": [
    {
     "data": {
      "text/plain": [
       "(2999999, 27)"
      ]
     },
     "execution_count": 2,
     "metadata": {},
     "output_type": "execute_result"
    }
   ],
   "source": [
    "df7904c = pd.read_pickle('../../data/processed/400_mapping_values_7904c.pkl')\n",
    "df7904c.shape"
   ]
  },
  {
   "cell_type": "code",
   "execution_count": 3,
   "metadata": {},
   "outputs": [
    {
     "data": {
      "text/plain": [
       "(1981967, 27)"
      ]
     },
     "execution_count": 3,
     "metadata": {},
     "output_type": "execute_result"
    }
   ],
   "source": [
    "df7904d = pd.read_pickle('../../data/processed/400_mapping_values_7904d.pkl')\n",
    "df7904d.shape"
   ]
  },
  {
   "cell_type": "code",
   "execution_count": 4,
   "metadata": {},
   "outputs": [
    {
     "data": {
      "text/plain": [
       "(479548, 27)"
      ]
     },
     "execution_count": 4,
     "metadata": {},
     "output_type": "execute_result"
    }
   ],
   "source": [
    "df1516 = pd.read_pickle('../../data/processed/400_mapping_values_1516.pkl')\n",
    "df1516.shape"
   ]
  },
  {
   "cell_type": "markdown",
   "metadata": {},
   "source": [
    "# 2. Handling Missing Data"
   ]
  },
  {
   "cell_type": "markdown",
   "metadata": {},
   "source": [
    "Handling missing data is one of the most important elements of the data cleaning process. Data can be missing for a variety of reasons. For example in our road accident dataset 1979 - 2004 we don't have any data at all for certain columns (purpose of journey, age of vehicle, urban or rural area). For other columns data is sometimes missing; longitude and latitude from the year 1979 to 1998.\n",
    "\n",
    "For our analysis there are certain key columns for which we need to ensure we have data. These include: Purpose of journey, longitude, latitude, age of vehicle, urban/rural area, IMD decile, driver home area type. \n",
    "\n",
    "Pandas makes it easy to remove any rows which have missing data in any of these columns using the dropna method. However, in our datasets we have columns filled with 'unknown', and '-1' which indicate a null/missing value. We will need to iterate through NaN, -1 and unknown values within our datasets."
   ]
  },
  {
   "cell_type": "markdown",
   "metadata": {},
   "source": [
    "# 3. Dataset 1979 - 2004 (c)"
   ]
  },
  {
   "cell_type": "markdown",
   "metadata": {},
   "source": [
    "## 3.1\n",
    "## Locating Missing Data\n",
    "\n",
    "First, we will find all occurrences of -1 values and unknown values in each dataset and 'replace' these with NaN value. This will then allow us to look at which columns are impacted the most by missing data by using the Pandas 'isnull' method."
   ]
  },
  {
   "cell_type": "markdown",
   "metadata": {},
   "source": [
    "### -1 Values"
   ]
  },
  {
   "cell_type": "markdown",
   "metadata": {},
   "source": [
    "We will use the 'replace' method to replace all occurrences of -1 values with a NaN value."
   ]
  },
  {
   "cell_type": "code",
   "execution_count": 5,
   "metadata": {
    "collapsed": true
   },
   "outputs": [],
   "source": [
    "df7904c = df7904c.replace(-1, np.NaN)"
   ]
  },
  {
   "cell_type": "markdown",
   "metadata": {},
   "source": [
    "### Unknown Values"
   ]
  },
  {
   "cell_type": "markdown",
   "metadata": {},
   "source": [
    "Unknown values in our dataset are defined either by 'unknown' or 'other/unkown (2005-10)'. We will use the 'replace' method to replace all occurrences of such values with a NaN value."
   ]
  },
  {
   "cell_type": "code",
   "execution_count": 6,
   "metadata": {
    "collapsed": true
   },
   "outputs": [],
   "source": [
    "df7904c = df7904c.replace('unknown', np.NaN)"
   ]
  },
  {
   "cell_type": "code",
   "execution_count": 7,
   "metadata": {
    "collapsed": true
   },
   "outputs": [],
   "source": [
    "df7904c = df7904c.replace('other/unknown (2005-10)', np.NaN)"
   ]
  },
  {
   "cell_type": "markdown",
   "metadata": {},
   "source": [
    "### Null Values"
   ]
  },
  {
   "cell_type": "markdown",
   "metadata": {},
   "source": [
    "Now that we have converted the -1 and unknown values we can use the 'isnull' method to identify which columns are impacted the most by null values."
   ]
  },
  {
   "cell_type": "code",
   "execution_count": 8,
   "metadata": {},
   "outputs": [
    {
     "data": {
      "text/plain": [
       "Accident_Index                            0\n",
       "Longitude                           2523720\n",
       "Latitude                            2523720\n",
       "Accident_Severity                         0\n",
       "Number_of_Vehicles                        0\n",
       "Number_of_Casualties                      0\n",
       "Date                                      2\n",
       "Day_of_Week                               0\n",
       "Time                                    549\n",
       "Local_Authority_(District)                0\n",
       "Road_Type                            100468\n",
       "Speed_limit                               0\n",
       "Junction_Detail                         359\n",
       "Light_Conditions                        424\n",
       "Weather_Conditions                    33677\n",
       "Road_Surface_Conditions                4230\n",
       "Special_Conditions_at_Site              902\n",
       "Urban_or_Rural_Area                  387282\n",
       "Vehicle_Type                          26413\n",
       "Vehicle_Manoeuvre                      2179\n",
       "Vehicle_Location-Restricted_Lane      24105\n",
       "Journey_Purpose_of_Driver           2999999\n",
       "Sex_of_Driver                        135156\n",
       "Age_Band_of_Driver                   241944\n",
       "Age_of_Vehicle                       895468\n",
       "Driver_IMD_Decile                   2798435\n",
       "Driver_Home_Area_Type               2778686\n",
       "dtype: int64"
      ]
     },
     "execution_count": 8,
     "metadata": {},
     "output_type": "execute_result"
    }
   ],
   "source": [
    "df7904c.isnull().sum()"
   ]
  },
  {
   "cell_type": "markdown",
   "metadata": {},
   "source": [
    "Next, we will plot the columns to make it easier to identify which of the columns in the dataset are affected the most. Consequently, this will help us to determine which data is worth keeping and which is not."
   ]
  },
  {
   "cell_type": "code",
   "execution_count": 9,
   "metadata": {},
   "outputs": [
    {
     "data": {
      "text/plain": [
       "Index(['Accident_Index', 'Longitude', 'Latitude', 'Accident_Severity',\n",
       "       'Number_of_Vehicles', 'Number_of_Casualties', 'Date', 'Day_of_Week',\n",
       "       'Time', 'Local_Authority_(District)', 'Road_Type', 'Speed_limit',\n",
       "       'Junction_Detail', 'Light_Conditions', 'Weather_Conditions',\n",
       "       'Road_Surface_Conditions', 'Special_Conditions_at_Site',\n",
       "       'Urban_or_Rural_Area', 'Vehicle_Type', 'Vehicle_Manoeuvre',\n",
       "       'Vehicle_Location-Restricted_Lane', 'Journey_Purpose_of_Driver',\n",
       "       'Sex_of_Driver', 'Age_Band_of_Driver', 'Age_of_Vehicle',\n",
       "       'Driver_IMD_Decile', 'Driver_Home_Area_Type'],\n",
       "      dtype='object')"
      ]
     },
     "execution_count": 9,
     "metadata": {},
     "output_type": "execute_result"
    }
   ],
   "source": [
    "df7904c.columns"
   ]
  },
  {
   "cell_type": "code",
   "execution_count": 10,
   "metadata": {},
   "outputs": [
    {
     "data": {
      "text/plain": [
       "<matplotlib.axes._subplots.AxesSubplot at 0x26d07cb0fd0>"
      ]
     },
     "execution_count": 10,
     "metadata": {},
     "output_type": "execute_result"
    },
    {
     "data": {
      "image/png": "[encoded data removed]",
      "text/plain": [
       "<matplotlib.figure.Figure at 0x26d07cb09e8>"
      ]
     },
     "metadata": {},
     "output_type": "display_data"
    }
   ],
   "source": [
    "cols =  ['Accident_Index', 'Longitude', 'Latitude', 'Accident_Severity',\n",
    "       'Number_of_Vehicles', 'Number_of_Casualties', 'Date', 'Day_of_Week',\n",
    "       'Time', 'Local_Authority_(District)', 'Road_Type', 'Speed_limit',\n",
    "       'Junction_Detail', 'Light_Conditions', 'Weather_Conditions',\n",
    "       'Road_Surface_Conditions', 'Special_Conditions_at_Site',\n",
    "       'Urban_or_Rural_Area', 'Vehicle_Type', 'Vehicle_Manoeuvre',\n",
    "       'Vehicle_Location-Restricted_Lane', \n",
    "       'Sex_of_Driver', 'Age_Band_of_Driver', 'Age_of_Vehicle',\n",
    "       'Driver_IMD_Decile', 'Driver_Home_Area_Type']\n",
    "df7904c[cols].isnull().sum().plot(kind='barh', figsize=(10,12), title='Number of missing Values')"
   ]
  },
  {
   "cell_type": "markdown",
   "metadata": {},
   "source": [
    "## 3.2\n",
    "## Handling null values"
   ]
  },
  {
   "cell_type": "markdown",
   "metadata": {},
   "source": [
    "### Question One:\n",
    "\n",
    "### (A) and (B)\n",
    "Directly below are the columns we have decided to use to answer research Q1 parts A and B. We will then make a copy of these columns from the 'df7904c' dataset."
   ]
  },
  {
   "cell_type": "code",
   "execution_count": 11,
   "metadata": {
    "collapsed": true
   },
   "outputs": [],
   "source": [
    "cols_Q1AB = ['Accident_Index', 'Accident_Severity',\n",
    "       'Number_of_Vehicles', 'Number_of_Casualties', 'Date', 'Day_of_Week',\n",
    "       'Time', 'Local_Authority_(District)', 'Light_Conditions', 'Weather_Conditions',\n",
    "       'Road_Surface_Conditions', 'Vehicle_Type',\n",
    "       'Sex_of_Driver', 'Age_Band_of_Driver']"
   ]
  },
  {
   "cell_type": "code",
   "execution_count": 12,
   "metadata": {
    "collapsed": true
   },
   "outputs": [],
   "source": [
    "df_7904c_Q1AB = df7904c[cols_Q1AB].copy()"
   ]
  },
  {
   "cell_type": "markdown",
   "metadata": {},
   "source": [
    "#### Dropping Rows with Missing Values\n",
    "We create a new dataframe by using dropna to drop any rows with missing values in the columns provided."
   ]
  },
  {
   "cell_type": "code",
   "execution_count": 13,
   "metadata": {},
   "outputs": [
    {
     "data": {
      "text/plain": [
       "Accident_Index                     0\n",
       "Accident_Severity                  0\n",
       "Number_of_Vehicles                 0\n",
       "Number_of_Casualties               0\n",
       "Date                               2\n",
       "Day_of_Week                        0\n",
       "Time                             549\n",
       "Local_Authority_(District)         0\n",
       "Light_Conditions                 424\n",
       "Weather_Conditions             33677\n",
       "Road_Surface_Conditions         4230\n",
       "Vehicle_Type                   26413\n",
       "Sex_of_Driver                 135156\n",
       "Age_Band_of_Driver            241944\n",
       "dtype: int64"
      ]
     },
     "execution_count": 13,
     "metadata": {},
     "output_type": "execute_result"
    }
   ],
   "source": [
    "df_7904c_Q1AB.isnull().sum()"
   ]
  },
  {
   "cell_type": "code",
   "execution_count": 14,
   "metadata": {},
   "outputs": [
    {
     "data": {
      "text/plain": [
       "(2695080, 14)"
      ]
     },
     "execution_count": 14,
     "metadata": {},
     "output_type": "execute_result"
    }
   ],
   "source": [
    "new_7904c_Q1AB = df_7904c_Q1AB.dropna(subset=['Date',\n",
    "       'Time', 'Light_Conditions', 'Weather_Conditions',\n",
    "       'Road_Surface_Conditions', 'Vehicle_Type', \n",
    "       'Sex_of_Driver', 'Age_Band_of_Driver'])\n",
    "\n",
    "new_7904c_Q1AB.shape"
   ]
  },
  {
   "cell_type": "markdown",
   "metadata": {},
   "source": [
    "### (C)\n",
    "\n",
    "Unfortunately for Q1 part C: _\"Are people who drive for work more dangerous than recreational drivers?\"_ our Journey_Purpose_of_Driver columns is essential for answering this question. Therefore, we cannot use this dataset for this question."
   ]
  },
  {
   "cell_type": "markdown",
   "metadata": {},
   "source": [
    "### Question Two:\n",
    "\n",
    "### (A)\n",
    "Directly below are the columns we have decided to use to answer research Q2 part A. We will then make a copy of these columns from the 'df7904c' dataset."
   ]
  },
  {
   "cell_type": "code",
   "execution_count": 15,
   "metadata": {
    "collapsed": true
   },
   "outputs": [],
   "source": [
    "cols_Q2A = ['Accident_Index', 'Accident_Severity',\n",
    "       'Number_of_Vehicles', 'Number_of_Casualties', 'Date', 'Day_of_Week',\n",
    "       'Time', 'Local_Authority_(District)', 'Light_Conditions', 'Weather_Conditions',\n",
    "       'Road_Surface_Conditions', 'Special_Conditions_at_Site','Vehicle_Type', 'Vehicle_Manoeuvre',\n",
    "       'Sex_of_Driver', 'Age_of_Vehicle']"
   ]
  },
  {
   "cell_type": "code",
   "execution_count": 16,
   "metadata": {
    "collapsed": true
   },
   "outputs": [],
   "source": [
    "df_7904c_Q2A = df7904c[cols_Q2A].copy()"
   ]
  },
  {
   "cell_type": "markdown",
   "metadata": {},
   "source": [
    "#### Dropping Rows with Missing Values\n",
    "We create a new dataframe by using dropna to drop any rows with missing values in the columns provided. "
   ]
  },
  {
   "cell_type": "code",
   "execution_count": 17,
   "metadata": {},
   "outputs": [
    {
     "data": {
      "text/plain": [
       "Accident_Index                     0\n",
       "Accident_Severity                  0\n",
       "Number_of_Vehicles                 0\n",
       "Number_of_Casualties               0\n",
       "Date                               2\n",
       "Day_of_Week                        0\n",
       "Time                             549\n",
       "Local_Authority_(District)         0\n",
       "Light_Conditions                 424\n",
       "Weather_Conditions             33677\n",
       "Road_Surface_Conditions         4230\n",
       "Special_Conditions_at_Site       902\n",
       "Vehicle_Type                   26413\n",
       "Vehicle_Manoeuvre               2179\n",
       "Sex_of_Driver                 135156\n",
       "Age_of_Vehicle                895468\n",
       "dtype: int64"
      ]
     },
     "execution_count": 17,
     "metadata": {},
     "output_type": "execute_result"
    }
   ],
   "source": [
    "df_7904c_Q2A.isnull().sum()"
   ]
  },
  {
   "cell_type": "code",
   "execution_count": 18,
   "metadata": {},
   "outputs": [
    {
     "data": {
      "text/plain": [
       "(2033305, 16)"
      ]
     },
     "execution_count": 18,
     "metadata": {},
     "output_type": "execute_result"
    }
   ],
   "source": [
    "new_7904c_Q2A = df_7904c_Q2A.dropna(subset=['Date',\n",
    "       'Time', 'Light_Conditions', 'Weather_Conditions',\n",
    "       'Road_Surface_Conditions', 'Special_Conditions_at_Site', 'Vehicle_Type', \n",
    "       'Vehicle_Manoeuvre', 'Sex_of_Driver', 'Age_of_Vehicle'])\n",
    "\n",
    "new_7904c_Q2A.shape"
   ]
  },
  {
   "cell_type": "markdown",
   "metadata": {},
   "source": [
    "### (B)\n",
    "Directly below are the columns we have decided to use to answer research Q2 part B. We will then make a copy of these columns from the 'df7904c' dataset."
   ]
  },
  {
   "cell_type": "code",
   "execution_count": 19,
   "metadata": {
    "collapsed": true
   },
   "outputs": [],
   "source": [
    "cols_Q2B = ['Accident_Index', 'Accident_Severity',\n",
    "       'Number_of_Vehicles', 'Number_of_Casualties', 'Date', 'Day_of_Week',\n",
    "       'Time', 'Local_Authority_(District)', 'Light_Conditions', 'Weather_Conditions',\n",
    "       'Road_Surface_Conditions', 'Special_Conditions_at_Site','Vehicle_Type', 'Vehicle_Manoeuvre',\n",
    "       'Sex_of_Driver']"
   ]
  },
  {
   "cell_type": "code",
   "execution_count": 20,
   "metadata": {
    "collapsed": true
   },
   "outputs": [],
   "source": [
    "df_7904c_Q2B = df7904c[cols_Q2B].copy()"
   ]
  },
  {
   "cell_type": "markdown",
   "metadata": {},
   "source": [
    "#### Dropping Rows with Missing Values\n",
    "\n",
    "We create a new dataframe by using dropna to drop any rows with missing values in the columns provided. "
   ]
  },
  {
   "cell_type": "code",
   "execution_count": 21,
   "metadata": {},
   "outputs": [
    {
     "data": {
      "text/plain": [
       "Accident_Index                     0\n",
       "Accident_Severity                  0\n",
       "Number_of_Vehicles                 0\n",
       "Number_of_Casualties               0\n",
       "Date                               2\n",
       "Day_of_Week                        0\n",
       "Time                             549\n",
       "Local_Authority_(District)         0\n",
       "Light_Conditions                 424\n",
       "Weather_Conditions             33677\n",
       "Road_Surface_Conditions         4230\n",
       "Special_Conditions_at_Site       902\n",
       "Vehicle_Type                   26413\n",
       "Vehicle_Manoeuvre               2179\n",
       "Sex_of_Driver                 135156\n",
       "dtype: int64"
      ]
     },
     "execution_count": 21,
     "metadata": {},
     "output_type": "execute_result"
    }
   ],
   "source": [
    "df_7904c_Q2B.isnull().sum()"
   ]
  },
  {
   "cell_type": "code",
   "execution_count": 22,
   "metadata": {},
   "outputs": [
    {
     "data": {
      "text/plain": [
       "(2808172, 15)"
      ]
     },
     "execution_count": 22,
     "metadata": {},
     "output_type": "execute_result"
    }
   ],
   "source": [
    "new_7904c_Q2B = df_7904c_Q2B.dropna(subset=['Date',\n",
    "       'Time', 'Light_Conditions', 'Weather_Conditions',\n",
    "       'Road_Surface_Conditions', 'Special_Conditions_at_Site', 'Vehicle_Type', \n",
    "       'Vehicle_Manoeuvre', 'Sex_of_Driver'])\n",
    "\n",
    "new_7904c_Q2B.shape"
   ]
  },
  {
   "cell_type": "markdown",
   "metadata": {},
   "source": [
    "### Question Three:\n",
    "\n",
    "### (A)\n",
    "Directly below are the columns we have decided to use to answer research Q3 part A. We will then make a copy of these columns from the 'df7904c' dataset."
   ]
  },
  {
   "cell_type": "code",
   "execution_count": 23,
   "metadata": {
    "collapsed": true
   },
   "outputs": [],
   "source": [
    "cols_Q3A = ['Accident_Index', 'Longitude', 'Latitude', 'Accident_Severity',\n",
    "       'Number_of_Vehicles', 'Number_of_Casualties', 'Date', 'Day_of_Week',\n",
    "       'Time', 'Local_Authority_(District)', 'Speed_limit',\n",
    "       'Junction_Detail', 'Urban_or_Rural_Area', 'Vehicle_Type', \n",
    "       'Vehicle_Location-Restricted_Lane', 'Sex_of_Driver']"
   ]
  },
  {
   "cell_type": "code",
   "execution_count": 24,
   "metadata": {
    "collapsed": true
   },
   "outputs": [],
   "source": [
    "df_7904c_Q3A = df7904c[cols_Q3A].copy()"
   ]
  },
  {
   "cell_type": "markdown",
   "metadata": {},
   "source": [
    "#### Dropping Rows with Missing Values\n",
    "\n",
    "We create a new dataframe by using dropna to drop any rows with missing values in the columns provided. "
   ]
  },
  {
   "cell_type": "code",
   "execution_count": 25,
   "metadata": {},
   "outputs": [
    {
     "data": {
      "text/plain": [
       "Accident_Index                            0\n",
       "Longitude                           2523720\n",
       "Latitude                            2523720\n",
       "Accident_Severity                         0\n",
       "Number_of_Vehicles                        0\n",
       "Number_of_Casualties                      0\n",
       "Date                                      2\n",
       "Day_of_Week                               0\n",
       "Time                                    549\n",
       "Local_Authority_(District)                0\n",
       "Speed_limit                               0\n",
       "Junction_Detail                         359\n",
       "Urban_or_Rural_Area                  387282\n",
       "Vehicle_Type                          26413\n",
       "Vehicle_Location-Restricted_Lane      24105\n",
       "Sex_of_Driver                        135156\n",
       "dtype: int64"
      ]
     },
     "execution_count": 25,
     "metadata": {},
     "output_type": "execute_result"
    }
   ],
   "source": [
    "df_7904c_Q3A.isnull().sum()"
   ]
  },
  {
   "cell_type": "code",
   "execution_count": 26,
   "metadata": {},
   "outputs": [
    {
     "data": {
      "text/plain": [
       "(448332, 16)"
      ]
     },
     "execution_count": 26,
     "metadata": {},
     "output_type": "execute_result"
    }
   ],
   "source": [
    "new_7904c_Q3A = df_7904c_Q3A.dropna(subset=['Longitude', 'Latitude', 'Date', 'Time','Junction_Detail', 'Urban_or_Rural_Area',    \n",
    "                                            'Vehicle_Type', 'Vehicle_Location-Restricted_Lane', 'Sex_of_Driver'])\n",
    "\n",
    "new_7904c_Q3A.shape"
   ]
  },
  {
   "cell_type": "markdown",
   "metadata": {},
   "source": [
    "### (B)\n",
    "Directly below are the columns we have decided to use to answer research Q3 part B. We will then make a copy of these columns from the 'df7904c' dataset."
   ]
  },
  {
   "cell_type": "code",
   "execution_count": 27,
   "metadata": {
    "collapsed": true
   },
   "outputs": [],
   "source": [
    "cols_Q3B = ['Accident_Index', 'Longitude', 'Latitude', 'Number_of_Vehicles', 'Number_of_Casualties', 'Date', \n",
    "            'Day_of_Week', 'Local_Authority_(District)','Special_Conditions_at_Site', 'Urban_or_Rural_Area', 'Vehicle_Type', \n",
    "            'Sex_of_Driver', 'Driver_IMD_Decile'\n",
    "           ]"
   ]
  },
  {
   "cell_type": "code",
   "execution_count": 28,
   "metadata": {
    "collapsed": true
   },
   "outputs": [],
   "source": [
    "df_7904c_Q3B = df7904c[cols_Q3B].copy()"
   ]
  },
  {
   "cell_type": "markdown",
   "metadata": {},
   "source": [
    "#### Dropping Rows with Missing Values\n",
    "\n",
    "We create a new dataframe by using dropna to drop any rows with missing values in the columns provided. "
   ]
  },
  {
   "cell_type": "code",
   "execution_count": 29,
   "metadata": {},
   "outputs": [
    {
     "data": {
      "text/plain": [
       "Accident_Index                      0\n",
       "Longitude                     2523720\n",
       "Latitude                      2523720\n",
       "Number_of_Vehicles                  0\n",
       "Number_of_Casualties                0\n",
       "Date                                2\n",
       "Day_of_Week                         0\n",
       "Local_Authority_(District)          0\n",
       "Special_Conditions_at_Site        902\n",
       "Urban_or_Rural_Area            387282\n",
       "Vehicle_Type                    26413\n",
       "Sex_of_Driver                  135156\n",
       "Driver_IMD_Decile             2798435\n",
       "dtype: int64"
      ]
     },
     "execution_count": 29,
     "metadata": {},
     "output_type": "execute_result"
    }
   ],
   "source": [
    "df_7904c_Q3B.isnull().sum()"
   ]
  },
  {
   "cell_type": "code",
   "execution_count": 30,
   "metadata": {},
   "outputs": [
    {
     "data": {
      "text/plain": [
       "(199269, 13)"
      ]
     },
     "execution_count": 30,
     "metadata": {},
     "output_type": "execute_result"
    }
   ],
   "source": [
    "new_7904c_Q3B = df_7904c_Q3B.dropna(subset=['Longitude', 'Latitude', 'Date', 'Special_Conditions_at_Site', 'Urban_or_Rural_Area',\n",
    "                                            'Vehicle_Type', 'Sex_of_Driver', 'Driver_IMD_Decile'])\n",
    "\n",
    "new_7904c_Q3B.shape"
   ]
  },
  {
   "cell_type": "markdown",
   "metadata": {},
   "source": [
    "# 4. Dataset 1979 - 2004 (d)"
   ]
  },
  {
   "cell_type": "markdown",
   "metadata": {},
   "source": [
    "## 4.1\n",
    "## Locating Missing Data\n",
    "\n",
    "First, we will find all occurrences of -1 values and unknown values in each dataset and 'replace' these with NaN value. This will then allow us to look at which columns are impacted the most by missing data by using the Pandas 'isnull' method."
   ]
  },
  {
   "cell_type": "markdown",
   "metadata": {},
   "source": [
    "### -1 Values"
   ]
  },
  {
   "cell_type": "markdown",
   "metadata": {},
   "source": [
    "We will use the 'replace' method to replace all occurrences of -1 values with a NaN value."
   ]
  },
  {
   "cell_type": "code",
   "execution_count": 31,
   "metadata": {
    "collapsed": true
   },
   "outputs": [],
   "source": [
    "df7904d = df7904d.replace(-1, np.NaN)"
   ]
  },
  {
   "cell_type": "markdown",
   "metadata": {},
   "source": [
    "### Unknown Values"
   ]
  },
  {
   "cell_type": "markdown",
   "metadata": {},
   "source": [
    "Unknown values in our dataset are defined either by 'unknown' or 'other/unkown (2005-10)'. We will use the 'replace' method to replace all occurrences of such values with a NaN value."
   ]
  },
  {
   "cell_type": "code",
   "execution_count": 32,
   "metadata": {
    "collapsed": true
   },
   "outputs": [],
   "source": [
    "df7904d = df7904d.replace('unknown', np.NaN)"
   ]
  },
  {
   "cell_type": "code",
   "execution_count": 33,
   "metadata": {
    "collapsed": true
   },
   "outputs": [],
   "source": [
    "df7904d = df7904d.replace('other/unknown (2005-10)', np.NaN)"
   ]
  },
  {
   "cell_type": "markdown",
   "metadata": {},
   "source": [
    "### Null Values"
   ]
  },
  {
   "cell_type": "markdown",
   "metadata": {},
   "source": [
    "Now that we have converted the -1 and unknown values we can use the 'isnull' method to identify which columns are impacted the most by null values."
   ]
  },
  {
   "cell_type": "code",
   "execution_count": 34,
   "metadata": {},
   "outputs": [
    {
     "data": {
      "text/plain": [
       "Accident_Index                            0\n",
       "Longitude                              4648\n",
       "Latitude                               4648\n",
       "Accident_Severity                         0\n",
       "Number_of_Vehicles                        0\n",
       "Number_of_Casualties                      0\n",
       "Date                                      0\n",
       "Day_of_Week                               0\n",
       "Time                                    272\n",
       "Local_Authority_(District)                0\n",
       "Road_Type                             62128\n",
       "Speed_limit                               0\n",
       "Junction_Detail                        1082\n",
       "Light_Conditions                          9\n",
       "Weather_Conditions                    27170\n",
       "Road_Surface_Conditions               11009\n",
       "Special_Conditions_at_Site             1438\n",
       "Urban_or_Rural_Area                    6587\n",
       "Vehicle_Type                          17364\n",
       "Vehicle_Manoeuvre                      3615\n",
       "Vehicle_Location-Restricted_Lane       3339\n",
       "Journey_Purpose_of_Driver           1981967\n",
       "Sex_of_Driver                        116829\n",
       "Age_Band_of_Driver                   208993\n",
       "Age_of_Vehicle                       675122\n",
       "Driver_IMD_Decile                    923625\n",
       "Driver_Home_Area_Type                782868\n",
       "dtype: int64"
      ]
     },
     "execution_count": 34,
     "metadata": {},
     "output_type": "execute_result"
    }
   ],
   "source": [
    "df7904d.isnull().sum()"
   ]
  },
  {
   "cell_type": "markdown",
   "metadata": {},
   "source": [
    "Next, we will plot the columns to make it easier to identify which of the columns in the dataset are affected the most. Consequently, this will help us to determine which data is worth keeping and which is not."
   ]
  },
  {
   "cell_type": "code",
   "execution_count": 35,
   "metadata": {},
   "outputs": [
    {
     "data": {
      "text/plain": [
       "Index(['Accident_Index', 'Longitude', 'Latitude', 'Accident_Severity',\n",
       "       'Number_of_Vehicles', 'Number_of_Casualties', 'Date', 'Day_of_Week',\n",
       "       'Time', 'Local_Authority_(District)', 'Road_Type', 'Speed_limit',\n",
       "       'Junction_Detail', 'Light_Conditions', 'Weather_Conditions',\n",
       "       'Road_Surface_Conditions', 'Special_Conditions_at_Site',\n",
       "       'Urban_or_Rural_Area', 'Vehicle_Type', 'Vehicle_Manoeuvre',\n",
       "       'Vehicle_Location-Restricted_Lane', 'Journey_Purpose_of_Driver',\n",
       "       'Sex_of_Driver', 'Age_Band_of_Driver', 'Age_of_Vehicle',\n",
       "       'Driver_IMD_Decile', 'Driver_Home_Area_Type'],\n",
       "      dtype='object')"
      ]
     },
     "execution_count": 35,
     "metadata": {},
     "output_type": "execute_result"
    }
   ],
   "source": [
    "df7904d.columns"
   ]
  },
  {
   "cell_type": "code",
   "execution_count": 36,
   "metadata": {},
   "outputs": [
    {
     "data": {
      "text/plain": [
       "<matplotlib.axes._subplots.AxesSubplot at 0x26d002b95c0>"
      ]
     },
     "execution_count": 36,
     "metadata": {},
     "output_type": "execute_result"
    },
    {
     "data": {
      "image/png": "[encoded data removed]",
      "text/plain": [
       "<matplotlib.figure.Figure at 0x26d0054cf60>"
      ]
     },
     "metadata": {},
     "output_type": "display_data"
    }
   ],
   "source": [
    "cols =  ['Accident_Index', 'Longitude', 'Latitude', 'Accident_Severity',\n",
    "       'Number_of_Vehicles', 'Number_of_Casualties', 'Date', 'Day_of_Week',\n",
    "       'Time', 'Local_Authority_(District)', 'Road_Type', 'Speed_limit',\n",
    "       'Junction_Detail', 'Light_Conditions', 'Weather_Conditions',\n",
    "       'Road_Surface_Conditions', 'Special_Conditions_at_Site',\n",
    "       'Urban_or_Rural_Area', 'Vehicle_Type', 'Vehicle_Manoeuvre',\n",
    "       'Vehicle_Location-Restricted_Lane', 'Journey_Purpose_of_Driver',\n",
    "       'Sex_of_Driver', 'Age_Band_of_Driver', 'Age_of_Vehicle',\n",
    "       'Driver_IMD_Decile', 'Driver_Home_Area_Type']\n",
    "df7904d[cols].isnull().sum().plot(kind='barh', figsize=(10,12), title='Number of missing Values')"
   ]
  },
  {
   "cell_type": "markdown",
   "metadata": {},
   "source": [
    "## 4.2\n",
    "## Handling null values"
   ]
  },
  {
   "cell_type": "markdown",
   "metadata": {},
   "source": [
    "### Question One:\n",
    "\n",
    "### (A) and (B)\n",
    "Directly below are the columns we have decided to use to answer research Q1 parts A and B. We will then make a copy of these columns from the 'df7904d' dataset."
   ]
  },
  {
   "cell_type": "code",
   "execution_count": 37,
   "metadata": {
    "collapsed": true
   },
   "outputs": [],
   "source": [
    "cols_Q1AB = ['Accident_Index', 'Accident_Severity',\n",
    "       'Number_of_Vehicles', 'Number_of_Casualties', 'Date', 'Day_of_Week',\n",
    "       'Time', 'Local_Authority_(District)', 'Light_Conditions', 'Weather_Conditions',\n",
    "       'Road_Surface_Conditions', 'Vehicle_Type',\n",
    "       'Sex_of_Driver', 'Age_Band_of_Driver']"
   ]
  },
  {
   "cell_type": "code",
   "execution_count": 38,
   "metadata": {
    "collapsed": true
   },
   "outputs": [],
   "source": [
    "df_7904d_Q1AB = df7904d[cols_Q1AB].copy()"
   ]
  },
  {
   "cell_type": "markdown",
   "metadata": {},
   "source": [
    "#### Dropping Rows with Missing Values\n",
    "\n",
    "We create a new dataframe by using dropna to drop any rows with missing values in the columns provided. "
   ]
  },
  {
   "cell_type": "code",
   "execution_count": 39,
   "metadata": {},
   "outputs": [
    {
     "data": {
      "text/plain": [
       "Accident_Index                     0\n",
       "Accident_Severity                  0\n",
       "Number_of_Vehicles                 0\n",
       "Number_of_Casualties               0\n",
       "Date                               0\n",
       "Day_of_Week                        0\n",
       "Time                             272\n",
       "Local_Authority_(District)         0\n",
       "Light_Conditions                   9\n",
       "Weather_Conditions             27170\n",
       "Road_Surface_Conditions        11009\n",
       "Vehicle_Type                   17364\n",
       "Sex_of_Driver                 116829\n",
       "Age_Band_of_Driver            208993\n",
       "dtype: int64"
      ]
     },
     "execution_count": 39,
     "metadata": {},
     "output_type": "execute_result"
    }
   ],
   "source": [
    "df_7904d_Q1AB.isnull().sum()"
   ]
  },
  {
   "cell_type": "code",
   "execution_count": 40,
   "metadata": {},
   "outputs": [
    {
     "data": {
      "text/plain": [
       "(1725560, 14)"
      ]
     },
     "execution_count": 40,
     "metadata": {},
     "output_type": "execute_result"
    }
   ],
   "source": [
    "new_7904d_Q1AB = df_7904d_Q1AB.dropna(subset=['Time', 'Light_Conditions', 'Weather_Conditions',\n",
    "       'Road_Surface_Conditions', 'Vehicle_Type', 'Sex_of_Driver', 'Age_Band_of_Driver'])\n",
    "\n",
    "new_7904d_Q1AB.shape"
   ]
  },
  {
   "cell_type": "markdown",
   "metadata": {},
   "source": [
    "### (C)\n",
    "\n",
    "Unfortunately for Q1 part C: _\"Are people who drive for work more dangerous than recreational drivers?\"_ our Journey_Purpose_of_Driver columns is essential for answering this question. Therefore, we cannot use this dataset for this question."
   ]
  },
  {
   "cell_type": "markdown",
   "metadata": {},
   "source": [
    "### Question Two:\n",
    "\n",
    "### (A)\n",
    "Directly below are the columns we have decided to use to answer research Q2 part A. We will then make a copy of these columns from the 'df7904d' dataset."
   ]
  },
  {
   "cell_type": "code",
   "execution_count": 41,
   "metadata": {
    "collapsed": true
   },
   "outputs": [],
   "source": [
    "cols_Q2A = ['Accident_Index', 'Accident_Severity',\n",
    "       'Number_of_Vehicles', 'Number_of_Casualties', 'Date', 'Day_of_Week',\n",
    "       'Time', 'Local_Authority_(District)', 'Light_Conditions', 'Weather_Conditions',\n",
    "       'Road_Surface_Conditions', 'Special_Conditions_at_Site','Vehicle_Type', 'Vehicle_Manoeuvre',\n",
    "       'Sex_of_Driver', 'Age_of_Vehicle']"
   ]
  },
  {
   "cell_type": "code",
   "execution_count": 42,
   "metadata": {
    "collapsed": true
   },
   "outputs": [],
   "source": [
    "df_7904d_Q2A = df7904d[cols_Q2A].copy()"
   ]
  },
  {
   "cell_type": "markdown",
   "metadata": {
    "collapsed": true
   },
   "source": [
    "#### Dropping Rows with Missing Values\n",
    "\n",
    "We create a new dataframe by using dropna to drop any rows with missing values in the columns provided. "
   ]
  },
  {
   "cell_type": "code",
   "execution_count": 43,
   "metadata": {},
   "outputs": [
    {
     "data": {
      "text/plain": [
       "Accident_Index                     0\n",
       "Accident_Severity                  0\n",
       "Number_of_Vehicles                 0\n",
       "Number_of_Casualties               0\n",
       "Date                               0\n",
       "Day_of_Week                        0\n",
       "Time                             272\n",
       "Local_Authority_(District)         0\n",
       "Light_Conditions                   9\n",
       "Weather_Conditions             27170\n",
       "Road_Surface_Conditions        11009\n",
       "Special_Conditions_at_Site      1438\n",
       "Vehicle_Type                   17364\n",
       "Vehicle_Manoeuvre               3615\n",
       "Sex_of_Driver                 116829\n",
       "Age_of_Vehicle                675122\n",
       "dtype: int64"
      ]
     },
     "execution_count": 43,
     "metadata": {},
     "output_type": "execute_result"
    }
   ],
   "source": [
    "df_7904d_Q2A.isnull().sum()"
   ]
  },
  {
   "cell_type": "code",
   "execution_count": 44,
   "metadata": {},
   "outputs": [
    {
     "data": {
      "text/plain": [
       "(1242776, 16)"
      ]
     },
     "execution_count": 44,
     "metadata": {},
     "output_type": "execute_result"
    }
   ],
   "source": [
    "new_7904d_Q2A = df_7904d_Q2A.dropna(subset=['Time',  'Light_Conditions', 'Weather_Conditions',\n",
    "       'Road_Surface_Conditions', 'Special_Conditions_at_Site','Vehicle_Type', 'Vehicle_Manoeuvre',\n",
    "       'Sex_of_Driver', 'Age_of_Vehicle'])\n",
    "\n",
    "new_7904d_Q2A.shape"
   ]
  },
  {
   "cell_type": "markdown",
   "metadata": {},
   "source": [
    "### (B)\n",
    "Directly below are the columns we have decided to use to answer research Q2 part B. We will then make a copy of these columns from the 'df7904d' dataset."
   ]
  },
  {
   "cell_type": "code",
   "execution_count": 45,
   "metadata": {
    "collapsed": true
   },
   "outputs": [],
   "source": [
    "cols_Q2B = ['Accident_Index', 'Accident_Severity',\n",
    "       'Number_of_Vehicles', 'Number_of_Casualties', 'Date', 'Day_of_Week',\n",
    "       'Time', 'Local_Authority_(District)', 'Light_Conditions', 'Weather_Conditions',\n",
    "       'Road_Surface_Conditions', 'Special_Conditions_at_Site','Vehicle_Type', 'Vehicle_Manoeuvre',\n",
    "       'Sex_of_Driver']"
   ]
  },
  {
   "cell_type": "code",
   "execution_count": 46,
   "metadata": {
    "collapsed": true
   },
   "outputs": [],
   "source": [
    "df_7904d_Q2B = df7904d[cols_Q2B].copy()"
   ]
  },
  {
   "cell_type": "markdown",
   "metadata": {},
   "source": [
    "#### Dropping Rows with Missing Values\n",
    "\n",
    "We create a new dataframe by using dropna to drop any rows with missing values in the columns provided. "
   ]
  },
  {
   "cell_type": "code",
   "execution_count": 47,
   "metadata": {},
   "outputs": [
    {
     "data": {
      "text/plain": [
       "Accident_Index                     0\n",
       "Accident_Severity                  0\n",
       "Number_of_Vehicles                 0\n",
       "Number_of_Casualties               0\n",
       "Date                               0\n",
       "Day_of_Week                        0\n",
       "Time                             272\n",
       "Local_Authority_(District)         0\n",
       "Light_Conditions                   9\n",
       "Weather_Conditions             27170\n",
       "Road_Surface_Conditions        11009\n",
       "Special_Conditions_at_Site      1438\n",
       "Vehicle_Type                   17364\n",
       "Vehicle_Manoeuvre               3615\n",
       "Sex_of_Driver                 116829\n",
       "dtype: int64"
      ]
     },
     "execution_count": 47,
     "metadata": {},
     "output_type": "execute_result"
    }
   ],
   "source": [
    "df_7904d_Q2B.isnull().sum()"
   ]
  },
  {
   "cell_type": "code",
   "execution_count": 48,
   "metadata": {},
   "outputs": [
    {
     "data": {
      "text/plain": [
       "(1818065, 15)"
      ]
     },
     "execution_count": 48,
     "metadata": {},
     "output_type": "execute_result"
    }
   ],
   "source": [
    "new_7904d_Q2B = df_7904d_Q2B.dropna(subset=['Time', 'Light_Conditions', 'Weather_Conditions',\n",
    "       'Road_Surface_Conditions', 'Special_Conditions_at_Site','Vehicle_Type', 'Vehicle_Manoeuvre',\n",
    "       'Sex_of_Driver'])\n",
    "\n",
    "new_7904d_Q2B.shape"
   ]
  },
  {
   "cell_type": "markdown",
   "metadata": {},
   "source": [
    "### Question Three:\n",
    "\n",
    "### (A)\n",
    "Directly below are the columns we have decided to use to answer research Q3 part A. We will then make a copy of these columns from the 'df7904d' dataset."
   ]
  },
  {
   "cell_type": "code",
   "execution_count": 49,
   "metadata": {
    "collapsed": true
   },
   "outputs": [],
   "source": [
    "cols_Q3A = ['Accident_Index', 'Longitude', 'Latitude', 'Accident_Severity',\n",
    "       'Number_of_Vehicles', 'Number_of_Casualties', 'Date', 'Day_of_Week',\n",
    "       'Time', 'Local_Authority_(District)', 'Speed_limit',\n",
    "       'Junction_Detail', 'Urban_or_Rural_Area', 'Vehicle_Type', \n",
    "       'Vehicle_Location-Restricted_Lane', 'Sex_of_Driver']"
   ]
  },
  {
   "cell_type": "code",
   "execution_count": 50,
   "metadata": {
    "collapsed": true
   },
   "outputs": [],
   "source": [
    "df_7904d_Q3A = df7904d[cols_Q3A].copy()"
   ]
  },
  {
   "cell_type": "markdown",
   "metadata": {},
   "source": [
    "#### Dropping Rows with Missing Values\n",
    "\n",
    "We create a new dataframe by using dropna to drop any rows with missing values in the columns provided. "
   ]
  },
  {
   "cell_type": "code",
   "execution_count": 51,
   "metadata": {},
   "outputs": [
    {
     "data": {
      "text/plain": [
       "Accident_Index                           0\n",
       "Longitude                             4648\n",
       "Latitude                              4648\n",
       "Accident_Severity                        0\n",
       "Number_of_Vehicles                       0\n",
       "Number_of_Casualties                     0\n",
       "Date                                     0\n",
       "Day_of_Week                              0\n",
       "Time                                   272\n",
       "Local_Authority_(District)               0\n",
       "Speed_limit                              0\n",
       "Junction_Detail                       1082\n",
       "Urban_or_Rural_Area                   6587\n",
       "Vehicle_Type                         17364\n",
       "Vehicle_Location-Restricted_Lane      3339\n",
       "Sex_of_Driver                       116829\n",
       "dtype: int64"
      ]
     },
     "execution_count": 51,
     "metadata": {},
     "output_type": "execute_result"
    }
   ],
   "source": [
    "df_7904d_Q3A.isnull().sum()"
   ]
  },
  {
   "cell_type": "code",
   "execution_count": 52,
   "metadata": {},
   "outputs": [
    {
     "data": {
      "text/plain": [
       "(1842428, 16)"
      ]
     },
     "execution_count": 52,
     "metadata": {},
     "output_type": "execute_result"
    }
   ],
   "source": [
    "new_7904d_Q3A = df_7904d_Q3A.dropna(subset=['Longitude', 'Latitude', 'Time', 'Junction_Detail','Urban_or_Rural_Area', 'Vehicle_Type', \n",
    "       'Vehicle_Location-Restricted_Lane', 'Sex_of_Driver'])\n",
    "\n",
    "new_7904d_Q3A.shape"
   ]
  },
  {
   "cell_type": "markdown",
   "metadata": {},
   "source": [
    "### (B)\n",
    "Directly below are the columns we have decided to use to answer research Q3 part B. We will then make a copy of these columns from the 'df7904d' dataset."
   ]
  },
  {
   "cell_type": "code",
   "execution_count": 53,
   "metadata": {
    "collapsed": true
   },
   "outputs": [],
   "source": [
    "cols_Q3B = ['Accident_Index', 'Longitude', 'Latitude', 'Number_of_Vehicles', 'Number_of_Casualties', 'Date', \n",
    "            'Day_of_Week', 'Local_Authority_(District)','Special_Conditions_at_Site', 'Urban_or_Rural_Area', 'Vehicle_Type', \n",
    "            'Sex_of_Driver', 'Driver_IMD_Decile'\n",
    "           ]"
   ]
  },
  {
   "cell_type": "code",
   "execution_count": 54,
   "metadata": {
    "collapsed": true
   },
   "outputs": [],
   "source": [
    "df_7904d_Q3B = df7904d[cols_Q3B].copy()"
   ]
  },
  {
   "cell_type": "markdown",
   "metadata": {},
   "source": [
    "#### Dropping Rows with Missing Values\n",
    "\n",
    "We create a new dataframe by using dropna to drop any rows with missing values in the columns provided. "
   ]
  },
  {
   "cell_type": "code",
   "execution_count": 55,
   "metadata": {},
   "outputs": [
    {
     "data": {
      "text/plain": [
       "Accident_Index                     0\n",
       "Longitude                       4648\n",
       "Latitude                        4648\n",
       "Number_of_Vehicles                 0\n",
       "Number_of_Casualties               0\n",
       "Date                               0\n",
       "Day_of_Week                        0\n",
       "Local_Authority_(District)         0\n",
       "Special_Conditions_at_Site      1438\n",
       "Urban_or_Rural_Area             6587\n",
       "Vehicle_Type                   17364\n",
       "Sex_of_Driver                 116829\n",
       "Driver_IMD_Decile             923625\n",
       "dtype: int64"
      ]
     },
     "execution_count": 55,
     "metadata": {},
     "output_type": "execute_result"
    }
   ],
   "source": [
    "df_7904d_Q3B.isnull().sum()"
   ]
  },
  {
   "cell_type": "code",
   "execution_count": 56,
   "metadata": {},
   "outputs": [
    {
     "data": {
      "text/plain": [
       "(1047006, 13)"
      ]
     },
     "execution_count": 56,
     "metadata": {},
     "output_type": "execute_result"
    }
   ],
   "source": [
    "new_7904d_Q3B = df_7904d_Q3B.dropna(subset=['Longitude', 'Latitude', 'Special_Conditions_at_Site','Urban_or_Rural_Area', 'Vehicle_Type', \n",
    "            'Sex_of_Driver', 'Driver_IMD_Decile'])\n",
    "\n",
    "new_7904d_Q3B.shape"
   ]
  },
  {
   "cell_type": "markdown",
   "metadata": {},
   "source": [
    "# 5. Dataset 2015 - 2016"
   ]
  },
  {
   "cell_type": "markdown",
   "metadata": {},
   "source": [
    "## 5.1\n",
    "## Locating Missing Data\n",
    "\n",
    "First, we will find all occurrences of -1 values and unknown values in each dataset and 'replace' these with NaN value. This will then allow us to look at which columns are impacted the most by missing data by using the Pandas 'isnull' method."
   ]
  },
  {
   "cell_type": "markdown",
   "metadata": {},
   "source": [
    "### -1 Values"
   ]
  },
  {
   "cell_type": "markdown",
   "metadata": {},
   "source": [
    "We will use the 'replace' method to replace all occurrences of -1 values with a NaN value."
   ]
  },
  {
   "cell_type": "code",
   "execution_count": 57,
   "metadata": {
    "collapsed": true
   },
   "outputs": [],
   "source": [
    "df1516 = df1516.replace(-1, np.NaN)"
   ]
  },
  {
   "cell_type": "markdown",
   "metadata": {},
   "source": [
    "### Unknown Values"
   ]
  },
  {
   "cell_type": "markdown",
   "metadata": {},
   "source": [
    "Unknown values in our dataset are defined either by 'unknown' or 'other/unkown (2005-10)'. We will use the 'replace' method to replace all occurrences of such values with a NaN value."
   ]
  },
  {
   "cell_type": "code",
   "execution_count": 58,
   "metadata": {
    "collapsed": true
   },
   "outputs": [],
   "source": [
    "df1516 = df1516.replace('unknown', np.NaN)"
   ]
  },
  {
   "cell_type": "code",
   "execution_count": 59,
   "metadata": {
    "collapsed": true
   },
   "outputs": [],
   "source": [
    "df1516 = df1516.replace('other/unknown (2005-10)', np.NaN)"
   ]
  },
  {
   "cell_type": "markdown",
   "metadata": {},
   "source": [
    "### Null Values"
   ]
  },
  {
   "cell_type": "markdown",
   "metadata": {},
   "source": [
    "Now that we have converted the -1 and unknown values we can use the 'isnull' method to identify which columns are impacted the most by null values."
   ]
  },
  {
   "cell_type": "code",
   "execution_count": 60,
   "metadata": {},
   "outputs": [
    {
     "data": {
      "text/plain": [
       "Accident_Index                           0\n",
       "Longitude                               65\n",
       "Latitude                                65\n",
       "Accident_Severity                        0\n",
       "Number_of_Vehicles                       0\n",
       "Number_of_Casualties                     0\n",
       "Date                                     0\n",
       "Day_of_Week                              0\n",
       "Time                                    37\n",
       "Local_Authority_(District)               0\n",
       "Road_Type                             3510\n",
       "Speed_limit                             65\n",
       "Junction_Detail                        162\n",
       "Light_Conditions                        25\n",
       "Weather_Conditions                   10543\n",
       "Road_Surface_Conditions               1739\n",
       "Special_Conditions_at_Site            1037\n",
       "Urban_or_Rural_Area                     12\n",
       "Vehicle_Type                          2985\n",
       "Vehicle_Manoeuvre                     1081\n",
       "Vehicle_Location-Restricted_Lane      1093\n",
       "Journey_Purpose_of_Driver           331846\n",
       "Sex_of_Driver                        32656\n",
       "Age_Band_of_Driver                   55995\n",
       "Age_of_Vehicle                      141504\n",
       "Driver_IMD_Decile                   294613\n",
       "Driver_Home_Area_Type                89832\n",
       "dtype: int64"
      ]
     },
     "execution_count": 60,
     "metadata": {},
     "output_type": "execute_result"
    }
   ],
   "source": [
    "df1516.isnull().sum()"
   ]
  },
  {
   "cell_type": "markdown",
   "metadata": {},
   "source": [
    "Next, we will plot the columns to make it easier to identify which of the columns in the dataset are affected the most. Consequently, this will help us to determine which data is worth keeping and which is not."
   ]
  },
  {
   "cell_type": "code",
   "execution_count": 61,
   "metadata": {},
   "outputs": [
    {
     "data": {
      "text/plain": [
       "Index(['Accident_Index', 'Longitude', 'Latitude', 'Accident_Severity',\n",
       "       'Number_of_Vehicles', 'Number_of_Casualties', 'Date', 'Day_of_Week',\n",
       "       'Time', 'Local_Authority_(District)', 'Road_Type', 'Speed_limit',\n",
       "       'Junction_Detail', 'Light_Conditions', 'Weather_Conditions',\n",
       "       'Road_Surface_Conditions', 'Special_Conditions_at_Site',\n",
       "       'Urban_or_Rural_Area', 'Vehicle_Type', 'Vehicle_Manoeuvre',\n",
       "       'Vehicle_Location-Restricted_Lane', 'Journey_Purpose_of_Driver',\n",
       "       'Sex_of_Driver', 'Age_Band_of_Driver', 'Age_of_Vehicle',\n",
       "       'Driver_IMD_Decile', 'Driver_Home_Area_Type'],\n",
       "      dtype='object')"
      ]
     },
     "execution_count": 61,
     "metadata": {},
     "output_type": "execute_result"
    }
   ],
   "source": [
    "df1516.columns"
   ]
  },
  {
   "cell_type": "code",
   "execution_count": 62,
   "metadata": {},
   "outputs": [
    {
     "data": {
      "text/plain": [
       "<matplotlib.axes._subplots.AxesSubplot at 0x26d0036a7f0>"
      ]
     },
     "execution_count": 62,
     "metadata": {},
     "output_type": "execute_result"
    },
    {
     "data": {
      "image/png": "[encoded data removed]",
      "text/plain": [
       "<matplotlib.figure.Figure at 0x26d00315b00>"
      ]
     },
     "metadata": {},
     "output_type": "display_data"
    }
   ],
   "source": [
    "cols =  ['Accident_Index', 'Longitude', 'Latitude', 'Accident_Severity',\n",
    "       'Number_of_Vehicles', 'Number_of_Casualties', 'Date', 'Day_of_Week',\n",
    "       'Time', 'Local_Authority_(District)', 'Road_Type', 'Speed_limit',\n",
    "       'Junction_Detail', 'Light_Conditions', 'Weather_Conditions',\n",
    "       'Road_Surface_Conditions', 'Special_Conditions_at_Site',\n",
    "       'Urban_or_Rural_Area', 'Vehicle_Type', 'Vehicle_Manoeuvre',\n",
    "       'Vehicle_Location-Restricted_Lane', 'Journey_Purpose_of_Driver',\n",
    "       'Sex_of_Driver', 'Age_Band_of_Driver', 'Age_of_Vehicle',\n",
    "       'Driver_IMD_Decile', 'Driver_Home_Area_Type']\n",
    "df1516[cols].isnull().sum().plot(kind='barh', figsize=(10,12), title='Number of missing Values')"
   ]
  },
  {
   "cell_type": "markdown",
   "metadata": {
    "collapsed": true
   },
   "source": [
    "## 5.2\n",
    "## Handling null values"
   ]
  },
  {
   "cell_type": "markdown",
   "metadata": {
    "collapsed": true
   },
   "source": [
    "### Question One:\n",
    "\n",
    "### (A) and (B)\n",
    "Directly below are the columns we have decided to use to answer research Q1 parts A and B. We will then make a copy of these columns from the 'df1516' dataset."
   ]
  },
  {
   "cell_type": "code",
   "execution_count": 63,
   "metadata": {
    "collapsed": true
   },
   "outputs": [],
   "source": [
    "cols_Q1AB = ['Accident_Index', 'Accident_Severity',\n",
    "       'Number_of_Vehicles', 'Number_of_Casualties', 'Date', 'Day_of_Week',\n",
    "       'Time', 'Local_Authority_(District)', 'Light_Conditions', 'Weather_Conditions',\n",
    "       'Road_Surface_Conditions', 'Vehicle_Type',\n",
    "       'Sex_of_Driver', 'Age_Band_of_Driver']"
   ]
  },
  {
   "cell_type": "code",
   "execution_count": 64,
   "metadata": {
    "collapsed": true
   },
   "outputs": [],
   "source": [
    "df_1516_Q1AB = df1516[cols_Q1AB].copy()"
   ]
  },
  {
   "cell_type": "markdown",
   "metadata": {},
   "source": [
    "#### Dropping Rows with Missing Values\n",
    "\n",
    "We create a new dataframe by using dropna to drop any rows with missing values in the columns provided. "
   ]
  },
  {
   "cell_type": "code",
   "execution_count": 65,
   "metadata": {},
   "outputs": [
    {
     "data": {
      "text/plain": [
       "Accident_Index                    0\n",
       "Accident_Severity                 0\n",
       "Number_of_Vehicles                0\n",
       "Number_of_Casualties              0\n",
       "Date                              0\n",
       "Day_of_Week                       0\n",
       "Time                             37\n",
       "Local_Authority_(District)        0\n",
       "Light_Conditions                 25\n",
       "Weather_Conditions            10543\n",
       "Road_Surface_Conditions        1739\n",
       "Vehicle_Type                   2985\n",
       "Sex_of_Driver                 32656\n",
       "Age_Band_of_Driver            55995\n",
       "dtype: int64"
      ]
     },
     "execution_count": 65,
     "metadata": {},
     "output_type": "execute_result"
    }
   ],
   "source": [
    "df_1516_Q1AB.isnull().sum()"
   ]
  },
  {
   "cell_type": "code",
   "execution_count": 66,
   "metadata": {},
   "outputs": [
    {
     "data": {
      "text/plain": [
       "(410860, 14)"
      ]
     },
     "execution_count": 66,
     "metadata": {},
     "output_type": "execute_result"
    }
   ],
   "source": [
    "new_1516_Q1AB = df_1516_Q1AB.dropna(subset=['Time', 'Light_Conditions', 'Weather_Conditions', 'Road_Surface_Conditions', \n",
    "                                            'Vehicle_Type', 'Sex_of_Driver', 'Age_Band_of_Driver'])\n",
    "\n",
    "new_1516_Q1AB.shape"
   ]
  },
  {
   "cell_type": "markdown",
   "metadata": {},
   "source": [
    "### (C)\n",
    "\n",
    "Unfortunately for Q1 part C: _\"Are people who drive for work more dangerous than recreational drivers?\"_ our Journey_Purpose_of_Driver columns is essential for answering this question. Therefore, we cannot use this dataset for this question."
   ]
  },
  {
   "cell_type": "markdown",
   "metadata": {},
   "source": [
    "### Question Two:\n",
    "\n",
    "### (A)\n",
    "Directly below are the columns we have decided to use to answer research Q2 part A. We will then make a copy of these columns from the 'df1516' dataset."
   ]
  },
  {
   "cell_type": "code",
   "execution_count": 67,
   "metadata": {
    "collapsed": true
   },
   "outputs": [],
   "source": [
    "cols_Q2A = ['Accident_Index', 'Accident_Severity',\n",
    "       'Number_of_Vehicles', 'Number_of_Casualties', 'Date', 'Day_of_Week',\n",
    "       'Time', 'Local_Authority_(District)', 'Light_Conditions', 'Weather_Conditions',\n",
    "       'Road_Surface_Conditions', 'Special_Conditions_at_Site','Vehicle_Type', 'Vehicle_Manoeuvre',\n",
    "       'Sex_of_Driver', 'Age_of_Vehicle']"
   ]
  },
  {
   "cell_type": "code",
   "execution_count": 68,
   "metadata": {
    "collapsed": true
   },
   "outputs": [],
   "source": [
    "df_1516_Q2A = df1516[cols_Q2A].copy()"
   ]
  },
  {
   "cell_type": "markdown",
   "metadata": {},
   "source": [
    "#### Dropping Rows with Missing Values\n",
    "\n",
    "We create a new dataframe by using dropna to drop any rows with missing values in the columns provided. "
   ]
  },
  {
   "cell_type": "code",
   "execution_count": 69,
   "metadata": {},
   "outputs": [
    {
     "data": {
      "text/plain": [
       "Accident_Index                     0\n",
       "Accident_Severity                  0\n",
       "Number_of_Vehicles                 0\n",
       "Number_of_Casualties               0\n",
       "Date                               0\n",
       "Day_of_Week                        0\n",
       "Time                              37\n",
       "Local_Authority_(District)         0\n",
       "Light_Conditions                  25\n",
       "Weather_Conditions             10543\n",
       "Road_Surface_Conditions         1739\n",
       "Special_Conditions_at_Site      1037\n",
       "Vehicle_Type                    2985\n",
       "Vehicle_Manoeuvre               1081\n",
       "Sex_of_Driver                  32656\n",
       "Age_of_Vehicle                141504\n",
       "dtype: int64"
      ]
     },
     "execution_count": 69,
     "metadata": {},
     "output_type": "execute_result"
    }
   ],
   "source": [
    "df_1516_Q2A.isnull().sum()"
   ]
  },
  {
   "cell_type": "code",
   "execution_count": 70,
   "metadata": {},
   "outputs": [
    {
     "data": {
      "text/plain": [
       "(319026, 16)"
      ]
     },
     "execution_count": 70,
     "metadata": {},
     "output_type": "execute_result"
    }
   ],
   "source": [
    "new_1516_Q2A = df_1516_Q2A.dropna(subset=['Time', 'Light_Conditions', 'Weather_Conditions',\n",
    "       'Road_Surface_Conditions', 'Special_Conditions_at_Site','Vehicle_Type', 'Vehicle_Manoeuvre',\n",
    "       'Sex_of_Driver', 'Age_of_Vehicle'])\n",
    "\n",
    "new_1516_Q2A.shape"
   ]
  },
  {
   "cell_type": "markdown",
   "metadata": {},
   "source": [
    "### (B)\n",
    "Directly below are the columns we have decided to use to answer research Q2 part B. We will then make a copy of these columns from the 'df1516' dataset."
   ]
  },
  {
   "cell_type": "code",
   "execution_count": 71,
   "metadata": {
    "collapsed": true
   },
   "outputs": [],
   "source": [
    "cols_Q2B = ['Accident_Index', 'Accident_Severity',\n",
    "       'Number_of_Vehicles', 'Number_of_Casualties', 'Date', 'Day_of_Week',\n",
    "       'Time', 'Local_Authority_(District)', 'Light_Conditions', 'Weather_Conditions',\n",
    "       'Road_Surface_Conditions', 'Special_Conditions_at_Site','Vehicle_Type', 'Vehicle_Manoeuvre',\n",
    "       'Sex_of_Driver']"
   ]
  },
  {
   "cell_type": "code",
   "execution_count": 72,
   "metadata": {
    "collapsed": true
   },
   "outputs": [],
   "source": [
    "df_1516_Q2B = df1516[cols_Q2B].copy()"
   ]
  },
  {
   "cell_type": "markdown",
   "metadata": {},
   "source": [
    "#### Dropping Rows with Missing Values\n",
    "\n",
    "We create a new dataframe by using dropna to drop any rows with missing values in the columns provided. "
   ]
  },
  {
   "cell_type": "code",
   "execution_count": 73,
   "metadata": {},
   "outputs": [
    {
     "data": {
      "text/plain": [
       "Accident_Index                    0\n",
       "Accident_Severity                 0\n",
       "Number_of_Vehicles                0\n",
       "Number_of_Casualties              0\n",
       "Date                              0\n",
       "Day_of_Week                       0\n",
       "Time                             37\n",
       "Local_Authority_(District)        0\n",
       "Light_Conditions                 25\n",
       "Weather_Conditions            10543\n",
       "Road_Surface_Conditions        1739\n",
       "Special_Conditions_at_Site     1037\n",
       "Vehicle_Type                   2985\n",
       "Vehicle_Manoeuvre              1081\n",
       "Sex_of_Driver                 32656\n",
       "dtype: int64"
      ]
     },
     "execution_count": 73,
     "metadata": {},
     "output_type": "execute_result"
    }
   ],
   "source": [
    "df_1516_Q2B.isnull().sum()"
   ]
  },
  {
   "cell_type": "code",
   "execution_count": 74,
   "metadata": {},
   "outputs": [
    {
     "data": {
      "text/plain": [
       "(434637, 15)"
      ]
     },
     "execution_count": 74,
     "metadata": {},
     "output_type": "execute_result"
    }
   ],
   "source": [
    "new_1516_Q2B = df_1516_Q2B.dropna(subset=['Time', 'Light_Conditions', 'Weather_Conditions',\n",
    "       'Road_Surface_Conditions', 'Special_Conditions_at_Site','Vehicle_Type', 'Vehicle_Manoeuvre',\n",
    "       'Sex_of_Driver'])\n",
    "\n",
    "new_1516_Q2B.shape"
   ]
  },
  {
   "cell_type": "markdown",
   "metadata": {},
   "source": [
    "### Question Three:\n",
    "\n",
    "### (A)\n",
    "Directly below are the columns we have decided to use to answer research Q3 part A. We will then make a copy of these columns from the 'df1516' dataset."
   ]
  },
  {
   "cell_type": "code",
   "execution_count": 75,
   "metadata": {
    "collapsed": true
   },
   "outputs": [],
   "source": [
    "cols_Q3A = ['Accident_Index', 'Longitude', 'Latitude', 'Accident_Severity',\n",
    "       'Number_of_Vehicles', 'Number_of_Casualties', 'Date', 'Day_of_Week',\n",
    "       'Time', 'Local_Authority_(District)', 'Speed_limit',\n",
    "       'Junction_Detail', 'Urban_or_Rural_Area', 'Vehicle_Type', \n",
    "       'Vehicle_Location-Restricted_Lane', 'Sex_of_Driver']"
   ]
  },
  {
   "cell_type": "code",
   "execution_count": 76,
   "metadata": {
    "collapsed": true
   },
   "outputs": [],
   "source": [
    "df_1516_Q3A = df1516[cols_Q3A].copy()"
   ]
  },
  {
   "cell_type": "markdown",
   "metadata": {},
   "source": [
    "#### Dropping Rows with Missing Values\n",
    "\n",
    "We create a new dataframe by using dropna to drop any rows with missing values in the columns provided. "
   ]
  },
  {
   "cell_type": "code",
   "execution_count": 77,
   "metadata": {},
   "outputs": [
    {
     "data": {
      "text/plain": [
       "Accident_Index                          0\n",
       "Longitude                              65\n",
       "Latitude                               65\n",
       "Accident_Severity                       0\n",
       "Number_of_Vehicles                      0\n",
       "Number_of_Casualties                    0\n",
       "Date                                    0\n",
       "Day_of_Week                             0\n",
       "Time                                   37\n",
       "Local_Authority_(District)              0\n",
       "Speed_limit                            65\n",
       "Junction_Detail                       162\n",
       "Urban_or_Rural_Area                    12\n",
       "Vehicle_Type                         2985\n",
       "Vehicle_Location-Restricted_Lane     1093\n",
       "Sex_of_Driver                       32656\n",
       "dtype: int64"
      ]
     },
     "execution_count": 77,
     "metadata": {},
     "output_type": "execute_result"
    }
   ],
   "source": [
    "df_1516_Q3A.isnull().sum()"
   ]
  },
  {
   "cell_type": "code",
   "execution_count": 78,
   "metadata": {},
   "outputs": [
    {
     "data": {
      "text/plain": [
       "(443646, 16)"
      ]
     },
     "execution_count": 78,
     "metadata": {},
     "output_type": "execute_result"
    }
   ],
   "source": [
    "new_1516_Q3A = df_1516_Q3A.dropna(subset=['Longitude', 'Latitude', 'Time', 'Speed_limit', 'Junction_Detail', \n",
    "                                 'Urban_or_Rural_Area', 'Vehicle_Type', 'Vehicle_Location-Restricted_Lane', 'Sex_of_Driver'])\n",
    "\n",
    "new_1516_Q3A.shape"
   ]
  },
  {
   "cell_type": "markdown",
   "metadata": {},
   "source": [
    "### (B)\n",
    "Directly below are the columns we have decided to use to answer research Q3 part B. We will then make a copy of these columns from the 'df1516' dataset."
   ]
  },
  {
   "cell_type": "code",
   "execution_count": 79,
   "metadata": {
    "collapsed": true
   },
   "outputs": [],
   "source": [
    "cols_Q3B = ['Accident_Index', 'Longitude', 'Latitude', 'Number_of_Vehicles', 'Number_of_Casualties', 'Date', \n",
    "            'Day_of_Week', 'Local_Authority_(District)','Special_Conditions_at_Site', 'Urban_or_Rural_Area', 'Vehicle_Type', \n",
    "            'Sex_of_Driver', 'Driver_IMD_Decile'\n",
    "           ]"
   ]
  },
  {
   "cell_type": "code",
   "execution_count": 80,
   "metadata": {
    "collapsed": true
   },
   "outputs": [],
   "source": [
    "df_1516_Q3B = df1516[cols_Q3B].copy()"
   ]
  },
  {
   "cell_type": "markdown",
   "metadata": {},
   "source": [
    "#### Dropping Rows with Missing Values\n",
    "\n",
    "We create a new dataframe by using dropna to drop any rows with missing values in the columns provided. "
   ]
  },
  {
   "cell_type": "code",
   "execution_count": 81,
   "metadata": {},
   "outputs": [
    {
     "data": {
      "text/plain": [
       "Accident_Index                     0\n",
       "Longitude                         65\n",
       "Latitude                          65\n",
       "Number_of_Vehicles                 0\n",
       "Number_of_Casualties               0\n",
       "Date                               0\n",
       "Day_of_Week                        0\n",
       "Local_Authority_(District)         0\n",
       "Special_Conditions_at_Site      1037\n",
       "Urban_or_Rural_Area               12\n",
       "Vehicle_Type                    2985\n",
       "Sex_of_Driver                  32656\n",
       "Driver_IMD_Decile             294613\n",
       "dtype: int64"
      ]
     },
     "execution_count": 81,
     "metadata": {},
     "output_type": "execute_result"
    }
   ],
   "source": [
    "df_1516_Q3B.isnull().sum()"
   ]
  },
  {
   "cell_type": "code",
   "execution_count": 82,
   "metadata": {},
   "outputs": [
    {
     "data": {
      "text/plain": [
       "(183141, 13)"
      ]
     },
     "execution_count": 82,
     "metadata": {},
     "output_type": "execute_result"
    }
   ],
   "source": [
    "new_1516_Q3B = df_1516_Q3B.dropna(subset=['Longitude', 'Latitude', 'Special_Conditions_at_Site', 'Urban_or_Rural_Area', \n",
    "                                          'Vehicle_Type', 'Sex_of_Driver', 'Driver_IMD_Decile'])\n",
    "\n",
    "new_1516_Q3B.shape"
   ]
  },
  {
   "cell_type": "markdown",
   "metadata": {
    "collapsed": true
   },
   "source": [
    "# 6. Saving Data to Pickle Files"
   ]
  },
  {
   "cell_type": "markdown",
   "metadata": {},
   "source": [
    "## 7904c"
   ]
  },
  {
   "cell_type": "code",
   "execution_count": 83,
   "metadata": {},
   "outputs": [
    {
     "name": "stdout",
     "output_type": "stream",
     "text": [
      "15.6 s ± 3.25 s per loop (mean ± std. dev. of 7 runs, 1 loop each)\n"
     ]
    },
    {
     "data": {
      "text/plain": [
       "<TimeitResult : 15.6 s ± 3.25 s per loop (mean ± std. dev. of 7 runs, 1 loop each)>"
      ]
     },
     "execution_count": 83,
     "metadata": {},
     "output_type": "execute_result"
    }
   ],
   "source": [
    "pickle_save_time = %timeit -o new_7904c_Q1AB.to_pickle(\"../../data/processed/600_prep_missing_values_7904c_Q1AB.pkl\")\n",
    "\n",
    "pickle_save_time"
   ]
  },
  {
   "cell_type": "code",
   "execution_count": 84,
   "metadata": {},
   "outputs": [
    {
     "name": "stdout",
     "output_type": "stream",
     "text": [
      "13.8 s ± 2.9 s per loop (mean ± std. dev. of 7 runs, 1 loop each)\n"
     ]
    },
    {
     "data": {
      "text/plain": [
       "<TimeitResult : 13.8 s ± 2.9 s per loop (mean ± std. dev. of 7 runs, 1 loop each)>"
      ]
     },
     "execution_count": 84,
     "metadata": {},
     "output_type": "execute_result"
    }
   ],
   "source": [
    "pickle_save_time = %timeit -o new_7904c_Q2A.to_pickle(\"../../data/processed/600_prep_missing_values_7904c_Q2A.pkl\")\n",
    "\n",
    "pickle_save_time"
   ]
  },
  {
   "cell_type": "code",
   "execution_count": 85,
   "metadata": {},
   "outputs": [
    {
     "name": "stdout",
     "output_type": "stream",
     "text": [
      "20.2 s ± 9.17 s per loop (mean ± std. dev. of 7 runs, 1 loop each)\n"
     ]
    },
    {
     "data": {
      "text/plain": [
       "<TimeitResult : 20.2 s ± 9.17 s per loop (mean ± std. dev. of 7 runs, 1 loop each)>"
      ]
     },
     "execution_count": 85,
     "metadata": {},
     "output_type": "execute_result"
    }
   ],
   "source": [
    "pickle_save_time = %timeit -o new_7904c_Q2B.to_pickle(\"../../data/processed/600_prep_missing_values_7904c_Q2B.pkl\")\n",
    "\n",
    "pickle_save_time"
   ]
  },
  {
   "cell_type": "code",
   "execution_count": 86,
   "metadata": {},
   "outputs": [
    {
     "name": "stdout",
     "output_type": "stream",
     "text": [
      "2.06 s ± 41.7 ms per loop (mean ± std. dev. of 7 runs, 1 loop each)\n"
     ]
    },
    {
     "data": {
      "text/plain": [
       "<TimeitResult : 2.06 s ± 41.7 ms per loop (mean ± std. dev. of 7 runs, 1 loop each)>"
      ]
     },
     "execution_count": 86,
     "metadata": {},
     "output_type": "execute_result"
    }
   ],
   "source": [
    "pickle_save_time = %timeit -o new_7904c_Q3A.to_pickle(\"../../data/processed/600_prep_missing_values_7904c_Q3A.pkl\")\n",
    "\n",
    "pickle_save_time"
   ]
  },
  {
   "cell_type": "code",
   "execution_count": 87,
   "metadata": {},
   "outputs": [
    {
     "name": "stdout",
     "output_type": "stream",
     "text": [
      "798 ms ± 65.4 ms per loop (mean ± std. dev. of 7 runs, 1 loop each)\n"
     ]
    },
    {
     "data": {
      "text/plain": [
       "<TimeitResult : 798 ms ± 65.4 ms per loop (mean ± std. dev. of 7 runs, 1 loop each)>"
      ]
     },
     "execution_count": 87,
     "metadata": {},
     "output_type": "execute_result"
    }
   ],
   "source": [
    "pickle_save_time = %timeit -o new_7904c_Q3B.to_pickle(\"../../data/processed/600_prep_missing_values_7904c_Q3B.pkl\")\n",
    "\n",
    "pickle_save_time"
   ]
  },
  {
   "cell_type": "markdown",
   "metadata": {},
   "source": [
    "## 7904d"
   ]
  },
  {
   "cell_type": "code",
   "execution_count": 88,
   "metadata": {},
   "outputs": [
    {
     "name": "stdout",
     "output_type": "stream",
     "text": [
      "9.61 s ± 1.36 s per loop (mean ± std. dev. of 7 runs, 1 loop each)\n"
     ]
    },
    {
     "data": {
      "text/plain": [
       "<TimeitResult : 9.61 s ± 1.36 s per loop (mean ± std. dev. of 7 runs, 1 loop each)>"
      ]
     },
     "execution_count": 88,
     "metadata": {},
     "output_type": "execute_result"
    }
   ],
   "source": [
    "pickle_save_time = %timeit -o new_7904d_Q1AB.to_pickle(\"../../data/processed/600_prep_missing_values_7904d_Q1AB.pkl\")\n",
    "\n",
    "pickle_save_time"
   ]
  },
  {
   "cell_type": "code",
   "execution_count": 89,
   "metadata": {},
   "outputs": [
    {
     "name": "stdout",
     "output_type": "stream",
     "text": [
      "8.01 s ± 2.68 s per loop (mean ± std. dev. of 7 runs, 1 loop each)\n"
     ]
    },
    {
     "data": {
      "text/plain": [
       "<TimeitResult : 8.01 s ± 2.68 s per loop (mean ± std. dev. of 7 runs, 1 loop each)>"
      ]
     },
     "execution_count": 89,
     "metadata": {},
     "output_type": "execute_result"
    }
   ],
   "source": [
    "pickle_save_time = %timeit -o new_7904d_Q2A.to_pickle(\"../../data/processed/600_prep_missing_values_7904d_Q2A.pkl\")\n",
    "\n",
    "pickle_save_time"
   ]
  },
  {
   "cell_type": "code",
   "execution_count": 90,
   "metadata": {},
   "outputs": [
    {
     "name": "stdout",
     "output_type": "stream",
     "text": [
      "9.77 s ± 675 ms per loop (mean ± std. dev. of 7 runs, 1 loop each)\n"
     ]
    },
    {
     "data": {
      "text/plain": [
       "<TimeitResult : 9.77 s ± 675 ms per loop (mean ± std. dev. of 7 runs, 1 loop each)>"
      ]
     },
     "execution_count": 90,
     "metadata": {},
     "output_type": "execute_result"
    }
   ],
   "source": [
    "pickle_save_time = %timeit -o new_7904d_Q2B.to_pickle(\"../../data/processed/600_prep_missing_values_7904d_Q2B.pkl\")\n",
    "\n",
    "pickle_save_time"
   ]
  },
  {
   "cell_type": "code",
   "execution_count": 91,
   "metadata": {},
   "outputs": [
    {
     "name": "stdout",
     "output_type": "stream",
     "text": [
      "11.5 s ± 422 ms per loop (mean ± std. dev. of 7 runs, 1 loop each)\n"
     ]
    },
    {
     "data": {
      "text/plain": [
       "<TimeitResult : 11.5 s ± 422 ms per loop (mean ± std. dev. of 7 runs, 1 loop each)>"
      ]
     },
     "execution_count": 91,
     "metadata": {},
     "output_type": "execute_result"
    }
   ],
   "source": [
    "pickle_save_time = %timeit -o new_7904d_Q3A.to_pickle(\"../../data/processed/600_prep_missing_values_7904d_Q3A.pkl\")\n",
    "\n",
    "pickle_save_time"
   ]
  },
  {
   "cell_type": "code",
   "execution_count": 92,
   "metadata": {},
   "outputs": [
    {
     "name": "stdout",
     "output_type": "stream",
     "text": [
      "4.27 s ± 104 ms per loop (mean ± std. dev. of 7 runs, 1 loop each)\n"
     ]
    },
    {
     "data": {
      "text/plain": [
       "<TimeitResult : 4.27 s ± 104 ms per loop (mean ± std. dev. of 7 runs, 1 loop each)>"
      ]
     },
     "execution_count": 92,
     "metadata": {},
     "output_type": "execute_result"
    }
   ],
   "source": [
    "pickle_save_time = %timeit -o new_7904d_Q3B.to_pickle(\"../../data/processed/600_prep_missing_values_7904d_Q3B.pkl\")\n",
    "\n",
    "pickle_save_time"
   ]
  },
  {
   "cell_type": "markdown",
   "metadata": {},
   "source": [
    "## 1516"
   ]
  },
  {
   "cell_type": "code",
   "execution_count": 93,
   "metadata": {},
   "outputs": [
    {
     "name": "stdout",
     "output_type": "stream",
     "text": [
      "1.82 s ± 60.7 ms per loop (mean ± std. dev. of 7 runs, 1 loop each)\n"
     ]
    },
    {
     "data": {
      "text/plain": [
       "<TimeitResult : 1.82 s ± 60.7 ms per loop (mean ± std. dev. of 7 runs, 1 loop each)>"
      ]
     },
     "execution_count": 93,
     "metadata": {},
     "output_type": "execute_result"
    }
   ],
   "source": [
    "pickle_save_time = %timeit -o new_1516_Q1AB.to_pickle(\"../../data/processed/600_prep_missing_values_1516_Q1AB.pkl\")\n",
    "\n",
    "pickle_save_time"
   ]
  },
  {
   "cell_type": "code",
   "execution_count": 94,
   "metadata": {},
   "outputs": [
    {
     "name": "stdout",
     "output_type": "stream",
     "text": [
      "1.85 s ± 387 ms per loop (mean ± std. dev. of 7 runs, 1 loop each)\n"
     ]
    },
    {
     "data": {
      "text/plain": [
       "<TimeitResult : 1.85 s ± 387 ms per loop (mean ± std. dev. of 7 runs, 1 loop each)>"
      ]
     },
     "execution_count": 94,
     "metadata": {},
     "output_type": "execute_result"
    }
   ],
   "source": [
    "pickle_save_time = %timeit -o new_1516_Q2A.to_pickle(\"../../data/processed/600_prep_missing_values_1516_Q2A.pkl\")\n",
    "\n",
    "pickle_save_time"
   ]
  },
  {
   "cell_type": "code",
   "execution_count": 95,
   "metadata": {},
   "outputs": [
    {
     "name": "stdout",
     "output_type": "stream",
     "text": [
      "2.94 s ± 562 ms per loop (mean ± std. dev. of 7 runs, 1 loop each)\n"
     ]
    },
    {
     "data": {
      "text/plain": [
       "<TimeitResult : 2.94 s ± 562 ms per loop (mean ± std. dev. of 7 runs, 1 loop each)>"
      ]
     },
     "execution_count": 95,
     "metadata": {},
     "output_type": "execute_result"
    }
   ],
   "source": [
    "pickle_save_time = %timeit -o new_1516_Q2B.to_pickle(\"../../data/processed/600_prep_missing_values_1516_Q2B.pkl\")\n",
    "\n",
    "pickle_save_time"
   ]
  },
  {
   "cell_type": "code",
   "execution_count": 96,
   "metadata": {},
   "outputs": [
    {
     "name": "stdout",
     "output_type": "stream",
     "text": [
      "3.09 s ± 418 ms per loop (mean ± std. dev. of 7 runs, 1 loop each)\n"
     ]
    },
    {
     "data": {
      "text/plain": [
       "<TimeitResult : 3.09 s ± 418 ms per loop (mean ± std. dev. of 7 runs, 1 loop each)>"
      ]
     },
     "execution_count": 96,
     "metadata": {},
     "output_type": "execute_result"
    }
   ],
   "source": [
    "pickle_save_time = %timeit -o new_1516_Q3A.to_pickle(\"../../data/processed/600_prep_missing_values_1516_Q3A.pkl\")\n",
    "\n",
    "pickle_save_time"
   ]
  },
  {
   "cell_type": "code",
   "execution_count": 97,
   "metadata": {},
   "outputs": [
    {
     "name": "stdout",
     "output_type": "stream",
     "text": [
      "590 ms ± 13.2 ms per loop (mean ± std. dev. of 7 runs, 1 loop each)\n"
     ]
    },
    {
     "data": {
      "text/plain": [
       "<TimeitResult : 590 ms ± 13.2 ms per loop (mean ± std. dev. of 7 runs, 1 loop each)>"
      ]
     },
     "execution_count": 97,
     "metadata": {},
     "output_type": "execute_result"
    }
   ],
   "source": [
    "pickle_save_time = %timeit -o new_1516_Q3B.to_pickle(\"../../data/processed/600_prep_missing_values_1516_Q3B.pkl\")\n",
    "\n",
    "pickle_save_time"
   ]
  },
  {
   "cell_type": "markdown",
   "metadata": {},
   "source": [
    "# 7. Creating Data Dictionaries\n",
    "Below we will create a data dictionary for each of the pickle files created above."
   ]
  },
  {
   "cell_type": "markdown",
   "metadata": {},
   "source": [
    "## 7904c"
   ]
  },
  {
   "cell_type": "code",
   "execution_count": 98,
   "metadata": {},
   "outputs": [
    {
     "data": {
      "text/html": [
       "<div>\n",
       "<style scoped>\n",
       "    .dataframe tbody tr th:only-of-type {\n",
       "        vertical-align: middle;\n",
       "    }\n",
       "\n",
       "    .dataframe tbody tr th {\n",
       "        vertical-align: top;\n",
       "    }\n",
       "\n",
       "    .dataframe thead th {\n",
       "        text-align: right;\n",
       "    }\n",
       "</style>\n",
       "<table border=\"1\" class=\"dataframe\">\n",
       "  <thead>\n",
       "    <tr style=\"text-align: right;\">\n",
       "      <th></th>\n",
       "      <th>count</th>\n",
       "      <th>unique</th>\n",
       "      <th>top</th>\n",
       "      <th>freq</th>\n",
       "      <th>mean</th>\n",
       "      <th>std</th>\n",
       "      <th>min</th>\n",
       "      <th>25%</th>\n",
       "      <th>50%</th>\n",
       "      <th>75%</th>\n",
       "      <th>max</th>\n",
       "      <th>Missing</th>\n",
       "      <th>%Missing</th>\n",
       "    </tr>\n",
       "  </thead>\n",
       "  <tbody>\n",
       "    <tr>\n",
       "      <th>Accident_Index</th>\n",
       "      <td>2695080</td>\n",
       "      <td>1580761</td>\n",
       "      <td>199722AX01148</td>\n",
       "      <td>88</td>\n",
       "      <td>NaN</td>\n",
       "      <td>NaN</td>\n",
       "      <td>NaN</td>\n",
       "      <td>NaN</td>\n",
       "      <td>NaN</td>\n",
       "      <td>NaN</td>\n",
       "      <td>NaN</td>\n",
       "      <td>0</td>\n",
       "      <td>0.0</td>\n",
       "    </tr>\n",
       "    <tr>\n",
       "      <th>Accident_Severity</th>\n",
       "      <td>2695080</td>\n",
       "      <td>3</td>\n",
       "      <td>slight</td>\n",
       "      <td>2258037</td>\n",
       "      <td>NaN</td>\n",
       "      <td>NaN</td>\n",
       "      <td>NaN</td>\n",
       "      <td>NaN</td>\n",
       "      <td>NaN</td>\n",
       "      <td>NaN</td>\n",
       "      <td>NaN</td>\n",
       "      <td>0</td>\n",
       "      <td>0.0</td>\n",
       "    </tr>\n",
       "    <tr>\n",
       "      <th>Number_of_Vehicles</th>\n",
       "      <td>2.69508e+06</td>\n",
       "      <td>NaN</td>\n",
       "      <td>NaN</td>\n",
       "      <td>NaN</td>\n",
       "      <td>2.10865</td>\n",
       "      <td>1.23336</td>\n",
       "      <td>1</td>\n",
       "      <td>2</td>\n",
       "      <td>2</td>\n",
       "      <td>2</td>\n",
       "      <td>88</td>\n",
       "      <td>0</td>\n",
       "      <td>0.0</td>\n",
       "    </tr>\n",
       "    <tr>\n",
       "      <th>Number_of_Casualties</th>\n",
       "      <td>2.69508e+06</td>\n",
       "      <td>NaN</td>\n",
       "      <td>NaN</td>\n",
       "      <td>NaN</td>\n",
       "      <td>1.45249</td>\n",
       "      <td>1.12432</td>\n",
       "      <td>1</td>\n",
       "      <td>1</td>\n",
       "      <td>1</td>\n",
       "      <td>2</td>\n",
       "      <td>80</td>\n",
       "      <td>0</td>\n",
       "      <td>0.0</td>\n",
       "    </tr>\n",
       "    <tr>\n",
       "      <th>Date</th>\n",
       "      <td>2695080</td>\n",
       "      <td>2922</td>\n",
       "      <td>25/04/1997</td>\n",
       "      <td>2249</td>\n",
       "      <td>NaN</td>\n",
       "      <td>NaN</td>\n",
       "      <td>NaN</td>\n",
       "      <td>NaN</td>\n",
       "      <td>NaN</td>\n",
       "      <td>NaN</td>\n",
       "      <td>NaN</td>\n",
       "      <td>0</td>\n",
       "      <td>0.0</td>\n",
       "    </tr>\n",
       "  </tbody>\n",
       "</table>\n",
       "</div>"
      ],
      "text/plain": [
       "                            count   unique            top     freq     mean  \\\n",
       "Accident_Index            2695080  1580761  199722AX01148       88      NaN   \n",
       "Accident_Severity         2695080        3         slight  2258037      NaN   \n",
       "Number_of_Vehicles    2.69508e+06      NaN            NaN      NaN  2.10865   \n",
       "Number_of_Casualties  2.69508e+06      NaN            NaN      NaN  1.45249   \n",
       "Date                      2695080     2922     25/04/1997     2249      NaN   \n",
       "\n",
       "                          std  min  25%  50%  75%  max  Missing  %Missing  \n",
       "Accident_Index            NaN  NaN  NaN  NaN  NaN  NaN        0       0.0  \n",
       "Accident_Severity         NaN  NaN  NaN  NaN  NaN  NaN        0       0.0  \n",
       "Number_of_Vehicles    1.23336    1    2    2    2   88        0       0.0  \n",
       "Number_of_Casualties  1.12432    1    1    1    2   80        0       0.0  \n",
       "Date                      NaN  NaN  NaN  NaN  NaN  NaN        0       0.0  "
      ]
     },
     "execution_count": 98,
     "metadata": {},
     "output_type": "execute_result"
    }
   ],
   "source": [
    "data_dictionary.save(\n",
    "    '../../data/processed/600_prep_missing_values_7904c_Q1AB.pkl', \n",
    "\n",
    "\"\"\"\\\n",
    "Aggregate raw data for UK Road Safety data for years 1979 - 2004 (c) Q1AB.\n",
    "\"\"\").head()"
   ]
  },
  {
   "cell_type": "code",
   "execution_count": 99,
   "metadata": {},
   "outputs": [
    {
     "data": {
      "text/html": [
       "<div>\n",
       "<style scoped>\n",
       "    .dataframe tbody tr th:only-of-type {\n",
       "        vertical-align: middle;\n",
       "    }\n",
       "\n",
       "    .dataframe tbody tr th {\n",
       "        vertical-align: top;\n",
       "    }\n",
       "\n",
       "    .dataframe thead th {\n",
       "        text-align: right;\n",
       "    }\n",
       "</style>\n",
       "<table border=\"1\" class=\"dataframe\">\n",
       "  <thead>\n",
       "    <tr style=\"text-align: right;\">\n",
       "      <th></th>\n",
       "      <th>count</th>\n",
       "      <th>unique</th>\n",
       "      <th>top</th>\n",
       "      <th>freq</th>\n",
       "      <th>mean</th>\n",
       "      <th>std</th>\n",
       "      <th>min</th>\n",
       "      <th>25%</th>\n",
       "      <th>50%</th>\n",
       "      <th>75%</th>\n",
       "      <th>max</th>\n",
       "      <th>Missing</th>\n",
       "      <th>%Missing</th>\n",
       "    </tr>\n",
       "  </thead>\n",
       "  <tbody>\n",
       "    <tr>\n",
       "      <th>Accident_Index</th>\n",
       "      <td>2033305</td>\n",
       "      <td>1356471</td>\n",
       "      <td>199722AX01148</td>\n",
       "      <td>71</td>\n",
       "      <td>NaN</td>\n",
       "      <td>NaN</td>\n",
       "      <td>NaN</td>\n",
       "      <td>NaN</td>\n",
       "      <td>NaN</td>\n",
       "      <td>NaN</td>\n",
       "      <td>NaN</td>\n",
       "      <td>0</td>\n",
       "      <td>0.0</td>\n",
       "    </tr>\n",
       "    <tr>\n",
       "      <th>Accident_Severity</th>\n",
       "      <td>2033305</td>\n",
       "      <td>3</td>\n",
       "      <td>slight</td>\n",
       "      <td>1708165</td>\n",
       "      <td>NaN</td>\n",
       "      <td>NaN</td>\n",
       "      <td>NaN</td>\n",
       "      <td>NaN</td>\n",
       "      <td>NaN</td>\n",
       "      <td>NaN</td>\n",
       "      <td>NaN</td>\n",
       "      <td>0</td>\n",
       "      <td>0.0</td>\n",
       "    </tr>\n",
       "    <tr>\n",
       "      <th>Number_of_Vehicles</th>\n",
       "      <td>2.03330e+06</td>\n",
       "      <td>NaN</td>\n",
       "      <td>NaN</td>\n",
       "      <td>NaN</td>\n",
       "      <td>2.11651</td>\n",
       "      <td>1.28066</td>\n",
       "      <td>1</td>\n",
       "      <td>2</td>\n",
       "      <td>2</td>\n",
       "      <td>2</td>\n",
       "      <td>88</td>\n",
       "      <td>0</td>\n",
       "      <td>0.0</td>\n",
       "    </tr>\n",
       "    <tr>\n",
       "      <th>Number_of_Casualties</th>\n",
       "      <td>2.03330e+06</td>\n",
       "      <td>NaN</td>\n",
       "      <td>NaN</td>\n",
       "      <td>NaN</td>\n",
       "      <td>1.48016</td>\n",
       "      <td>1.15529</td>\n",
       "      <td>1</td>\n",
       "      <td>1</td>\n",
       "      <td>1</td>\n",
       "      <td>2</td>\n",
       "      <td>80</td>\n",
       "      <td>0</td>\n",
       "      <td>0.0</td>\n",
       "    </tr>\n",
       "    <tr>\n",
       "      <th>Date</th>\n",
       "      <td>2033305</td>\n",
       "      <td>2922</td>\n",
       "      <td>25/04/1997</td>\n",
       "      <td>1801</td>\n",
       "      <td>NaN</td>\n",
       "      <td>NaN</td>\n",
       "      <td>NaN</td>\n",
       "      <td>NaN</td>\n",
       "      <td>NaN</td>\n",
       "      <td>NaN</td>\n",
       "      <td>NaN</td>\n",
       "      <td>0</td>\n",
       "      <td>0.0</td>\n",
       "    </tr>\n",
       "  </tbody>\n",
       "</table>\n",
       "</div>"
      ],
      "text/plain": [
       "                            count   unique            top     freq     mean  \\\n",
       "Accident_Index            2033305  1356471  199722AX01148       71      NaN   \n",
       "Accident_Severity         2033305        3         slight  1708165      NaN   \n",
       "Number_of_Vehicles    2.03330e+06      NaN            NaN      NaN  2.11651   \n",
       "Number_of_Casualties  2.03330e+06      NaN            NaN      NaN  1.48016   \n",
       "Date                      2033305     2922     25/04/1997     1801      NaN   \n",
       "\n",
       "                          std  min  25%  50%  75%  max  Missing  %Missing  \n",
       "Accident_Index            NaN  NaN  NaN  NaN  NaN  NaN        0       0.0  \n",
       "Accident_Severity         NaN  NaN  NaN  NaN  NaN  NaN        0       0.0  \n",
       "Number_of_Vehicles    1.28066    1    2    2    2   88        0       0.0  \n",
       "Number_of_Casualties  1.15529    1    1    1    2   80        0       0.0  \n",
       "Date                      NaN  NaN  NaN  NaN  NaN  NaN        0       0.0  "
      ]
     },
     "execution_count": 99,
     "metadata": {},
     "output_type": "execute_result"
    }
   ],
   "source": [
    "data_dictionary.save(\n",
    "    '../../data/processed/600_prep_missing_values_7904c_Q2A.pkl', \n",
    "\n",
    "\"\"\"\\\n",
    "Aggregate raw data for UK Road Safety data for years 1979 - 2004 (c) Q2A.\n",
    "\"\"\").head()"
   ]
  },
  {
   "cell_type": "code",
   "execution_count": 100,
   "metadata": {},
   "outputs": [
    {
     "data": {
      "text/html": [
       "<div>\n",
       "<style scoped>\n",
       "    .dataframe tbody tr th:only-of-type {\n",
       "        vertical-align: middle;\n",
       "    }\n",
       "\n",
       "    .dataframe tbody tr th {\n",
       "        vertical-align: top;\n",
       "    }\n",
       "\n",
       "    .dataframe thead th {\n",
       "        text-align: right;\n",
       "    }\n",
       "</style>\n",
       "<table border=\"1\" class=\"dataframe\">\n",
       "  <thead>\n",
       "    <tr style=\"text-align: right;\">\n",
       "      <th></th>\n",
       "      <th>count</th>\n",
       "      <th>unique</th>\n",
       "      <th>top</th>\n",
       "      <th>freq</th>\n",
       "      <th>mean</th>\n",
       "      <th>std</th>\n",
       "      <th>min</th>\n",
       "      <th>25%</th>\n",
       "      <th>50%</th>\n",
       "      <th>75%</th>\n",
       "      <th>max</th>\n",
       "      <th>Missing</th>\n",
       "      <th>%Missing</th>\n",
       "    </tr>\n",
       "  </thead>\n",
       "  <tbody>\n",
       "    <tr>\n",
       "      <th>Accident_Index</th>\n",
       "      <td>2808172</td>\n",
       "      <td>1601244</td>\n",
       "      <td>199722AX01148</td>\n",
       "      <td>88</td>\n",
       "      <td>NaN</td>\n",
       "      <td>NaN</td>\n",
       "      <td>NaN</td>\n",
       "      <td>NaN</td>\n",
       "      <td>NaN</td>\n",
       "      <td>NaN</td>\n",
       "      <td>NaN</td>\n",
       "      <td>0</td>\n",
       "      <td>0.0</td>\n",
       "    </tr>\n",
       "    <tr>\n",
       "      <th>Accident_Severity</th>\n",
       "      <td>2808172</td>\n",
       "      <td>3</td>\n",
       "      <td>slight</td>\n",
       "      <td>2360453</td>\n",
       "      <td>NaN</td>\n",
       "      <td>NaN</td>\n",
       "      <td>NaN</td>\n",
       "      <td>NaN</td>\n",
       "      <td>NaN</td>\n",
       "      <td>NaN</td>\n",
       "      <td>NaN</td>\n",
       "      <td>0</td>\n",
       "      <td>0.0</td>\n",
       "    </tr>\n",
       "    <tr>\n",
       "      <th>Number_of_Vehicles</th>\n",
       "      <td>2.80817e+06</td>\n",
       "      <td>NaN</td>\n",
       "      <td>NaN</td>\n",
       "      <td>NaN</td>\n",
       "      <td>2.11006</td>\n",
       "      <td>1.24005</td>\n",
       "      <td>1</td>\n",
       "      <td>2</td>\n",
       "      <td>2</td>\n",
       "      <td>2</td>\n",
       "      <td>88</td>\n",
       "      <td>0</td>\n",
       "      <td>0.0</td>\n",
       "    </tr>\n",
       "    <tr>\n",
       "      <th>Number_of_Casualties</th>\n",
       "      <td>2.80817e+06</td>\n",
       "      <td>NaN</td>\n",
       "      <td>NaN</td>\n",
       "      <td>NaN</td>\n",
       "      <td>1.44308</td>\n",
       "      <td>1.11435</td>\n",
       "      <td>1</td>\n",
       "      <td>1</td>\n",
       "      <td>1</td>\n",
       "      <td>2</td>\n",
       "      <td>80</td>\n",
       "      <td>0</td>\n",
       "      <td>0.0</td>\n",
       "    </tr>\n",
       "    <tr>\n",
       "      <th>Date</th>\n",
       "      <td>2808172</td>\n",
       "      <td>2922</td>\n",
       "      <td>25/04/1997</td>\n",
       "      <td>2338</td>\n",
       "      <td>NaN</td>\n",
       "      <td>NaN</td>\n",
       "      <td>NaN</td>\n",
       "      <td>NaN</td>\n",
       "      <td>NaN</td>\n",
       "      <td>NaN</td>\n",
       "      <td>NaN</td>\n",
       "      <td>0</td>\n",
       "      <td>0.0</td>\n",
       "    </tr>\n",
       "  </tbody>\n",
       "</table>\n",
       "</div>"
      ],
      "text/plain": [
       "                            count   unique            top     freq     mean  \\\n",
       "Accident_Index            2808172  1601244  199722AX01148       88      NaN   \n",
       "Accident_Severity         2808172        3         slight  2360453      NaN   \n",
       "Number_of_Vehicles    2.80817e+06      NaN            NaN      NaN  2.11006   \n",
       "Number_of_Casualties  2.80817e+06      NaN            NaN      NaN  1.44308   \n",
       "Date                      2808172     2922     25/04/1997     2338      NaN   \n",
       "\n",
       "                          std  min  25%  50%  75%  max  Missing  %Missing  \n",
       "Accident_Index            NaN  NaN  NaN  NaN  NaN  NaN        0       0.0  \n",
       "Accident_Severity         NaN  NaN  NaN  NaN  NaN  NaN        0       0.0  \n",
       "Number_of_Vehicles    1.24005    1    2    2    2   88        0       0.0  \n",
       "Number_of_Casualties  1.11435    1    1    1    2   80        0       0.0  \n",
       "Date                      NaN  NaN  NaN  NaN  NaN  NaN        0       0.0  "
      ]
     },
     "execution_count": 100,
     "metadata": {},
     "output_type": "execute_result"
    }
   ],
   "source": [
    "data_dictionary.save(\n",
    "    '../../data/processed/600_prep_missing_values_7904c_Q2B.pkl', \n",
    "\n",
    "\"\"\"\\\n",
    "Aggregate raw data for UK Road Safety data for years 1979 - 2004 (c) Q2B.\n",
    "\"\"\").head()"
   ]
  },
  {
   "cell_type": "code",
   "execution_count": 101,
   "metadata": {},
   "outputs": [
    {
     "data": {
      "text/html": [
       "<div>\n",
       "<style scoped>\n",
       "    .dataframe tbody tr th:only-of-type {\n",
       "        vertical-align: middle;\n",
       "    }\n",
       "\n",
       "    .dataframe tbody tr th {\n",
       "        vertical-align: top;\n",
       "    }\n",
       "\n",
       "    .dataframe thead th {\n",
       "        text-align: right;\n",
       "    }\n",
       "</style>\n",
       "<table border=\"1\" class=\"dataframe\">\n",
       "  <thead>\n",
       "    <tr style=\"text-align: right;\">\n",
       "      <th></th>\n",
       "      <th>count</th>\n",
       "      <th>unique</th>\n",
       "      <th>top</th>\n",
       "      <th>freq</th>\n",
       "      <th>mean</th>\n",
       "      <th>std</th>\n",
       "      <th>min</th>\n",
       "      <th>25%</th>\n",
       "      <th>50%</th>\n",
       "      <th>75%</th>\n",
       "      <th>max</th>\n",
       "      <th>Missing</th>\n",
       "      <th>%Missing</th>\n",
       "    </tr>\n",
       "  </thead>\n",
       "  <tbody>\n",
       "    <tr>\n",
       "      <th>Accident_Index</th>\n",
       "      <td>448332</td>\n",
       "      <td>255337</td>\n",
       "      <td>199906X003078</td>\n",
       "      <td>24</td>\n",
       "      <td>NaN</td>\n",
       "      <td>NaN</td>\n",
       "      <td>NaN</td>\n",
       "      <td>NaN</td>\n",
       "      <td>NaN</td>\n",
       "      <td>NaN</td>\n",
       "      <td>NaN</td>\n",
       "      <td>0</td>\n",
       "      <td>0.0</td>\n",
       "    </tr>\n",
       "    <tr>\n",
       "      <th>Longitude</th>\n",
       "      <td>448332</td>\n",
       "      <td>NaN</td>\n",
       "      <td>NaN</td>\n",
       "      <td>NaN</td>\n",
       "      <td>-1.30777</td>\n",
       "      <td>1.36244</td>\n",
       "      <td>-7.51329</td>\n",
       "      <td>-2.23282</td>\n",
       "      <td>-1.20568</td>\n",
       "      <td>-0.146515</td>\n",
       "      <td>1.75861</td>\n",
       "      <td>0</td>\n",
       "      <td>0.0</td>\n",
       "    </tr>\n",
       "    <tr>\n",
       "      <th>Latitude</th>\n",
       "      <td>448332</td>\n",
       "      <td>NaN</td>\n",
       "      <td>NaN</td>\n",
       "      <td>NaN</td>\n",
       "      <td>52.4494</td>\n",
       "      <td>1.35974</td>\n",
       "      <td>49.9143</td>\n",
       "      <td>51.49</td>\n",
       "      <td>51.881</td>\n",
       "      <td>53.4007</td>\n",
       "      <td>60.6934</td>\n",
       "      <td>0</td>\n",
       "      <td>0.0</td>\n",
       "    </tr>\n",
       "    <tr>\n",
       "      <th>Accident_Severity</th>\n",
       "      <td>448332</td>\n",
       "      <td>3</td>\n",
       "      <td>slight</td>\n",
       "      <td>383913</td>\n",
       "      <td>NaN</td>\n",
       "      <td>NaN</td>\n",
       "      <td>NaN</td>\n",
       "      <td>NaN</td>\n",
       "      <td>NaN</td>\n",
       "      <td>NaN</td>\n",
       "      <td>NaN</td>\n",
       "      <td>0</td>\n",
       "      <td>0.0</td>\n",
       "    </tr>\n",
       "    <tr>\n",
       "      <th>Number_of_Vehicles</th>\n",
       "      <td>448332</td>\n",
       "      <td>NaN</td>\n",
       "      <td>NaN</td>\n",
       "      <td>NaN</td>\n",
       "      <td>2.09859</td>\n",
       "      <td>0.906971</td>\n",
       "      <td>1</td>\n",
       "      <td>2</td>\n",
       "      <td>2</td>\n",
       "      <td>2</td>\n",
       "      <td>24</td>\n",
       "      <td>0</td>\n",
       "      <td>0.0</td>\n",
       "    </tr>\n",
       "  </tbody>\n",
       "</table>\n",
       "</div>"
      ],
      "text/plain": [
       "                     count  unique            top    freq     mean       std  \\\n",
       "Accident_Index      448332  255337  199906X003078      24      NaN       NaN   \n",
       "Longitude           448332     NaN            NaN     NaN -1.30777   1.36244   \n",
       "Latitude            448332     NaN            NaN     NaN  52.4494   1.35974   \n",
       "Accident_Severity   448332       3         slight  383913      NaN       NaN   \n",
       "Number_of_Vehicles  448332     NaN            NaN     NaN  2.09859  0.906971   \n",
       "\n",
       "                        min      25%      50%       75%      max  Missing  \\\n",
       "Accident_Index          NaN      NaN      NaN       NaN      NaN        0   \n",
       "Longitude          -7.51329 -2.23282 -1.20568 -0.146515  1.75861        0   \n",
       "Latitude            49.9143    51.49   51.881   53.4007  60.6934        0   \n",
       "Accident_Severity       NaN      NaN      NaN       NaN      NaN        0   \n",
       "Number_of_Vehicles        1        2        2         2       24        0   \n",
       "\n",
       "                    %Missing  \n",
       "Accident_Index           0.0  \n",
       "Longitude                0.0  \n",
       "Latitude                 0.0  \n",
       "Accident_Severity        0.0  \n",
       "Number_of_Vehicles       0.0  "
      ]
     },
     "execution_count": 101,
     "metadata": {},
     "output_type": "execute_result"
    }
   ],
   "source": [
    "data_dictionary.save(\n",
    "    '../../data/processed/600_prep_missing_values_7904c_Q3A.pkl', \n",
    "\n",
    "\"\"\"\\\n",
    "Aggregate raw data for UK Road Safety data for years 1979 - 2004 (c) Q3A.\n",
    "\"\"\").head()"
   ]
  },
  {
   "cell_type": "code",
   "execution_count": 102,
   "metadata": {},
   "outputs": [
    {
     "data": {
      "text/html": [
       "<div>\n",
       "<style scoped>\n",
       "    .dataframe tbody tr th:only-of-type {\n",
       "        vertical-align: middle;\n",
       "    }\n",
       "\n",
       "    .dataframe tbody tr th {\n",
       "        vertical-align: top;\n",
       "    }\n",
       "\n",
       "    .dataframe thead th {\n",
       "        text-align: right;\n",
       "    }\n",
       "</style>\n",
       "<table border=\"1\" class=\"dataframe\">\n",
       "  <thead>\n",
       "    <tr style=\"text-align: right;\">\n",
       "      <th></th>\n",
       "      <th>count</th>\n",
       "      <th>unique</th>\n",
       "      <th>top</th>\n",
       "      <th>freq</th>\n",
       "      <th>mean</th>\n",
       "      <th>std</th>\n",
       "      <th>min</th>\n",
       "      <th>25%</th>\n",
       "      <th>50%</th>\n",
       "      <th>75%</th>\n",
       "      <th>max</th>\n",
       "      <th>Missing</th>\n",
       "      <th>%Missing</th>\n",
       "    </tr>\n",
       "  </thead>\n",
       "  <tbody>\n",
       "    <tr>\n",
       "      <th>Accident_Index</th>\n",
       "      <td>199269</td>\n",
       "      <td>135161</td>\n",
       "      <td>199904C114499</td>\n",
       "      <td>17</td>\n",
       "      <td>NaN</td>\n",
       "      <td>NaN</td>\n",
       "      <td>NaN</td>\n",
       "      <td>NaN</td>\n",
       "      <td>NaN</td>\n",
       "      <td>NaN</td>\n",
       "      <td>NaN</td>\n",
       "      <td>0</td>\n",
       "      <td>0.0</td>\n",
       "    </tr>\n",
       "    <tr>\n",
       "      <th>Longitude</th>\n",
       "      <td>199269</td>\n",
       "      <td>NaN</td>\n",
       "      <td>NaN</td>\n",
       "      <td>NaN</td>\n",
       "      <td>-0.95201</td>\n",
       "      <td>1.06636</td>\n",
       "      <td>-6.19752</td>\n",
       "      <td>-1.85632</td>\n",
       "      <td>-0.632886</td>\n",
       "      <td>-0.097659</td>\n",
       "      <td>1.75861</td>\n",
       "      <td>0</td>\n",
       "      <td>0.0</td>\n",
       "    </tr>\n",
       "    <tr>\n",
       "      <th>Latitude</th>\n",
       "      <td>199269</td>\n",
       "      <td>NaN</td>\n",
       "      <td>NaN</td>\n",
       "      <td>NaN</td>\n",
       "      <td>52.253</td>\n",
       "      <td>1.0293</td>\n",
       "      <td>50.5621</td>\n",
       "      <td>51.5052</td>\n",
       "      <td>51.7792</td>\n",
       "      <td>53.0498</td>\n",
       "      <td>58.574</td>\n",
       "      <td>0</td>\n",
       "      <td>0.0</td>\n",
       "    </tr>\n",
       "    <tr>\n",
       "      <th>Number_of_Vehicles</th>\n",
       "      <td>199269</td>\n",
       "      <td>NaN</td>\n",
       "      <td>NaN</td>\n",
       "      <td>NaN</td>\n",
       "      <td>2.09991</td>\n",
       "      <td>0.900493</td>\n",
       "      <td>1</td>\n",
       "      <td>2</td>\n",
       "      <td>2</td>\n",
       "      <td>2</td>\n",
       "      <td>24</td>\n",
       "      <td>0</td>\n",
       "      <td>0.0</td>\n",
       "    </tr>\n",
       "    <tr>\n",
       "      <th>Number_of_Casualties</th>\n",
       "      <td>199269</td>\n",
       "      <td>NaN</td>\n",
       "      <td>NaN</td>\n",
       "      <td>NaN</td>\n",
       "      <td>1.42582</td>\n",
       "      <td>0.898844</td>\n",
       "      <td>1</td>\n",
       "      <td>1</td>\n",
       "      <td>1</td>\n",
       "      <td>2</td>\n",
       "      <td>36</td>\n",
       "      <td>0</td>\n",
       "      <td>0.0</td>\n",
       "    </tr>\n",
       "  </tbody>\n",
       "</table>\n",
       "</div>"
      ],
      "text/plain": [
       "                       count  unique            top freq     mean       std  \\\n",
       "Accident_Index        199269  135161  199904C114499   17      NaN       NaN   \n",
       "Longitude             199269     NaN            NaN  NaN -0.95201   1.06636   \n",
       "Latitude              199269     NaN            NaN  NaN   52.253    1.0293   \n",
       "Number_of_Vehicles    199269     NaN            NaN  NaN  2.09991  0.900493   \n",
       "Number_of_Casualties  199269     NaN            NaN  NaN  1.42582  0.898844   \n",
       "\n",
       "                          min      25%       50%       75%      max  Missing  \\\n",
       "Accident_Index            NaN      NaN       NaN       NaN      NaN        0   \n",
       "Longitude            -6.19752 -1.85632 -0.632886 -0.097659  1.75861        0   \n",
       "Latitude              50.5621  51.5052   51.7792   53.0498   58.574        0   \n",
       "Number_of_Vehicles          1        2         2         2       24        0   \n",
       "Number_of_Casualties        1        1         1         2       36        0   \n",
       "\n",
       "                      %Missing  \n",
       "Accident_Index             0.0  \n",
       "Longitude                  0.0  \n",
       "Latitude                   0.0  \n",
       "Number_of_Vehicles         0.0  \n",
       "Number_of_Casualties       0.0  "
      ]
     },
     "execution_count": 102,
     "metadata": {},
     "output_type": "execute_result"
    }
   ],
   "source": [
    "data_dictionary.save(\n",
    "    '../../data/processed/600_prep_missing_values_7904c_Q3B.pkl', \n",
    "\n",
    "\"\"\"\\\n",
    "Aggregate raw data for UK Road Safety data for years 1979 - 2004 (c) Q3B.\n",
    "\"\"\").head()"
   ]
  },
  {
   "cell_type": "markdown",
   "metadata": {},
   "source": [
    "## 7904d"
   ]
  },
  {
   "cell_type": "code",
   "execution_count": 103,
   "metadata": {},
   "outputs": [
    {
     "data": {
      "text/html": [
       "<div>\n",
       "<style scoped>\n",
       "    .dataframe tbody tr th:only-of-type {\n",
       "        vertical-align: middle;\n",
       "    }\n",
       "\n",
       "    .dataframe tbody tr th {\n",
       "        vertical-align: top;\n",
       "    }\n",
       "\n",
       "    .dataframe thead th {\n",
       "        text-align: right;\n",
       "    }\n",
       "</style>\n",
       "<table border=\"1\" class=\"dataframe\">\n",
       "  <thead>\n",
       "    <tr style=\"text-align: right;\">\n",
       "      <th></th>\n",
       "      <th>count</th>\n",
       "      <th>unique</th>\n",
       "      <th>top</th>\n",
       "      <th>freq</th>\n",
       "      <th>mean</th>\n",
       "      <th>std</th>\n",
       "      <th>min</th>\n",
       "      <th>25%</th>\n",
       "      <th>50%</th>\n",
       "      <th>75%</th>\n",
       "      <th>max</th>\n",
       "      <th>Missing</th>\n",
       "      <th>%Missing</th>\n",
       "    </tr>\n",
       "  </thead>\n",
       "  <tbody>\n",
       "    <tr>\n",
       "      <th>Accident_Index</th>\n",
       "      <td>1725560</td>\n",
       "      <td>1018143</td>\n",
       "      <td>2003070300788</td>\n",
       "      <td>40</td>\n",
       "      <td>NaN</td>\n",
       "      <td>NaN</td>\n",
       "      <td>NaN</td>\n",
       "      <td>NaN</td>\n",
       "      <td>NaN</td>\n",
       "      <td>NaN</td>\n",
       "      <td>NaN</td>\n",
       "      <td>0</td>\n",
       "      <td>0.0</td>\n",
       "    </tr>\n",
       "    <tr>\n",
       "      <th>Accident_Severity</th>\n",
       "      <td>1725560</td>\n",
       "      <td>3</td>\n",
       "      <td>slight</td>\n",
       "      <td>1478128</td>\n",
       "      <td>NaN</td>\n",
       "      <td>NaN</td>\n",
       "      <td>NaN</td>\n",
       "      <td>NaN</td>\n",
       "      <td>NaN</td>\n",
       "      <td>NaN</td>\n",
       "      <td>NaN</td>\n",
       "      <td>0</td>\n",
       "      <td>0.0</td>\n",
       "    </tr>\n",
       "    <tr>\n",
       "      <th>Number_of_Vehicles</th>\n",
       "      <td>1.72556e+06</td>\n",
       "      <td>NaN</td>\n",
       "      <td>NaN</td>\n",
       "      <td>NaN</td>\n",
       "      <td>2.11908</td>\n",
       "      <td>0.948569</td>\n",
       "      <td>1</td>\n",
       "      <td>2</td>\n",
       "      <td>2</td>\n",
       "      <td>2</td>\n",
       "      <td>66</td>\n",
       "      <td>0</td>\n",
       "      <td>0.0</td>\n",
       "    </tr>\n",
       "    <tr>\n",
       "      <th>Number_of_Casualties</th>\n",
       "      <td>1.72556e+06</td>\n",
       "      <td>NaN</td>\n",
       "      <td>NaN</td>\n",
       "      <td>NaN</td>\n",
       "      <td>1.46918</td>\n",
       "      <td>1.00673</td>\n",
       "      <td>1</td>\n",
       "      <td>1</td>\n",
       "      <td>1</td>\n",
       "      <td>2</td>\n",
       "      <td>90</td>\n",
       "      <td>0</td>\n",
       "      <td>0.0</td>\n",
       "    </tr>\n",
       "    <tr>\n",
       "      <th>Date</th>\n",
       "      <td>1725560</td>\n",
       "      <td>1827</td>\n",
       "      <td>25/10/2002</td>\n",
       "      <td>1703</td>\n",
       "      <td>NaN</td>\n",
       "      <td>NaN</td>\n",
       "      <td>NaN</td>\n",
       "      <td>NaN</td>\n",
       "      <td>NaN</td>\n",
       "      <td>NaN</td>\n",
       "      <td>NaN</td>\n",
       "      <td>0</td>\n",
       "      <td>0.0</td>\n",
       "    </tr>\n",
       "  </tbody>\n",
       "</table>\n",
       "</div>"
      ],
      "text/plain": [
       "                            count   unique            top     freq     mean  \\\n",
       "Accident_Index            1725560  1018143  2003070300788       40      NaN   \n",
       "Accident_Severity         1725560        3         slight  1478128      NaN   \n",
       "Number_of_Vehicles    1.72556e+06      NaN            NaN      NaN  2.11908   \n",
       "Number_of_Casualties  1.72556e+06      NaN            NaN      NaN  1.46918   \n",
       "Date                      1725560     1827     25/10/2002     1703      NaN   \n",
       "\n",
       "                           std  min  25%  50%  75%  max  Missing  %Missing  \n",
       "Accident_Index             NaN  NaN  NaN  NaN  NaN  NaN        0       0.0  \n",
       "Accident_Severity          NaN  NaN  NaN  NaN  NaN  NaN        0       0.0  \n",
       "Number_of_Vehicles    0.948569    1    2    2    2   66        0       0.0  \n",
       "Number_of_Casualties   1.00673    1    1    1    2   90        0       0.0  \n",
       "Date                       NaN  NaN  NaN  NaN  NaN  NaN        0       0.0  "
      ]
     },
     "execution_count": 103,
     "metadata": {},
     "output_type": "execute_result"
    }
   ],
   "source": [
    "data_dictionary.save(\n",
    "    '../../data/processed/600_prep_missing_values_7904d_Q1AB.pkl', \n",
    "\n",
    "\"\"\"\\\n",
    "Aggregate raw data for UK Road Safety data for years 1979 - 2004 (d) Q1AB.\n",
    "\"\"\").head()"
   ]
  },
  {
   "cell_type": "code",
   "execution_count": 104,
   "metadata": {},
   "outputs": [
    {
     "data": {
      "text/html": [
       "<div>\n",
       "<style scoped>\n",
       "    .dataframe tbody tr th:only-of-type {\n",
       "        vertical-align: middle;\n",
       "    }\n",
       "\n",
       "    .dataframe tbody tr th {\n",
       "        vertical-align: top;\n",
       "    }\n",
       "\n",
       "    .dataframe thead th {\n",
       "        text-align: right;\n",
       "    }\n",
       "</style>\n",
       "<table border=\"1\" class=\"dataframe\">\n",
       "  <thead>\n",
       "    <tr style=\"text-align: right;\">\n",
       "      <th></th>\n",
       "      <th>count</th>\n",
       "      <th>unique</th>\n",
       "      <th>top</th>\n",
       "      <th>freq</th>\n",
       "      <th>mean</th>\n",
       "      <th>std</th>\n",
       "      <th>min</th>\n",
       "      <th>25%</th>\n",
       "      <th>50%</th>\n",
       "      <th>75%</th>\n",
       "      <th>max</th>\n",
       "      <th>Missing</th>\n",
       "      <th>%Missing</th>\n",
       "    </tr>\n",
       "  </thead>\n",
       "  <tbody>\n",
       "    <tr>\n",
       "      <th>Accident_Index</th>\n",
       "      <td>1242776</td>\n",
       "      <td>835645</td>\n",
       "      <td>2003070300788</td>\n",
       "      <td>28</td>\n",
       "      <td>NaN</td>\n",
       "      <td>NaN</td>\n",
       "      <td>NaN</td>\n",
       "      <td>NaN</td>\n",
       "      <td>NaN</td>\n",
       "      <td>NaN</td>\n",
       "      <td>NaN</td>\n",
       "      <td>0</td>\n",
       "      <td>0.0</td>\n",
       "    </tr>\n",
       "    <tr>\n",
       "      <th>Accident_Severity</th>\n",
       "      <td>1242776</td>\n",
       "      <td>3</td>\n",
       "      <td>slight</td>\n",
       "      <td>1068500</td>\n",
       "      <td>NaN</td>\n",
       "      <td>NaN</td>\n",
       "      <td>NaN</td>\n",
       "      <td>NaN</td>\n",
       "      <td>NaN</td>\n",
       "      <td>NaN</td>\n",
       "      <td>NaN</td>\n",
       "      <td>0</td>\n",
       "      <td>0.0</td>\n",
       "    </tr>\n",
       "    <tr>\n",
       "      <th>Number_of_Vehicles</th>\n",
       "      <td>1.24278e+06</td>\n",
       "      <td>NaN</td>\n",
       "      <td>NaN</td>\n",
       "      <td>NaN</td>\n",
       "      <td>2.13035</td>\n",
       "      <td>0.979638</td>\n",
       "      <td>1</td>\n",
       "      <td>2</td>\n",
       "      <td>2</td>\n",
       "      <td>2</td>\n",
       "      <td>66</td>\n",
       "      <td>0</td>\n",
       "      <td>0.0</td>\n",
       "    </tr>\n",
       "    <tr>\n",
       "      <th>Number_of_Casualties</th>\n",
       "      <td>1.24278e+06</td>\n",
       "      <td>NaN</td>\n",
       "      <td>NaN</td>\n",
       "      <td>NaN</td>\n",
       "      <td>1.49748</td>\n",
       "      <td>1.02673</td>\n",
       "      <td>1</td>\n",
       "      <td>1</td>\n",
       "      <td>1</td>\n",
       "      <td>2</td>\n",
       "      <td>90</td>\n",
       "      <td>0</td>\n",
       "      <td>0.0</td>\n",
       "    </tr>\n",
       "    <tr>\n",
       "      <th>Date</th>\n",
       "      <td>1242776</td>\n",
       "      <td>1827</td>\n",
       "      <td>26/05/2000</td>\n",
       "      <td>1280</td>\n",
       "      <td>NaN</td>\n",
       "      <td>NaN</td>\n",
       "      <td>NaN</td>\n",
       "      <td>NaN</td>\n",
       "      <td>NaN</td>\n",
       "      <td>NaN</td>\n",
       "      <td>NaN</td>\n",
       "      <td>0</td>\n",
       "      <td>0.0</td>\n",
       "    </tr>\n",
       "  </tbody>\n",
       "</table>\n",
       "</div>"
      ],
      "text/plain": [
       "                            count  unique            top     freq     mean  \\\n",
       "Accident_Index            1242776  835645  2003070300788       28      NaN   \n",
       "Accident_Severity         1242776       3         slight  1068500      NaN   \n",
       "Number_of_Vehicles    1.24278e+06     NaN            NaN      NaN  2.13035   \n",
       "Number_of_Casualties  1.24278e+06     NaN            NaN      NaN  1.49748   \n",
       "Date                      1242776    1827     26/05/2000     1280      NaN   \n",
       "\n",
       "                           std  min  25%  50%  75%  max  Missing  %Missing  \n",
       "Accident_Index             NaN  NaN  NaN  NaN  NaN  NaN        0       0.0  \n",
       "Accident_Severity          NaN  NaN  NaN  NaN  NaN  NaN        0       0.0  \n",
       "Number_of_Vehicles    0.979638    1    2    2    2   66        0       0.0  \n",
       "Number_of_Casualties   1.02673    1    1    1    2   90        0       0.0  \n",
       "Date                       NaN  NaN  NaN  NaN  NaN  NaN        0       0.0  "
      ]
     },
     "execution_count": 104,
     "metadata": {},
     "output_type": "execute_result"
    }
   ],
   "source": [
    "data_dictionary.save(\n",
    "    '../../data/processed/600_prep_missing_values_7904d_Q2A.pkl', \n",
    "\n",
    "\"\"\"\\\n",
    "Aggregate raw data for UK Road Safety data for years 1979 - 2004 (d) Q2A.\n",
    "\"\"\").head()"
   ]
  },
  {
   "cell_type": "code",
   "execution_count": 105,
   "metadata": {},
   "outputs": [
    {
     "data": {
      "text/html": [
       "<div>\n",
       "<style scoped>\n",
       "    .dataframe tbody tr th:only-of-type {\n",
       "        vertical-align: middle;\n",
       "    }\n",
       "\n",
       "    .dataframe tbody tr th {\n",
       "        vertical-align: top;\n",
       "    }\n",
       "\n",
       "    .dataframe thead th {\n",
       "        text-align: right;\n",
       "    }\n",
       "</style>\n",
       "<table border=\"1\" class=\"dataframe\">\n",
       "  <thead>\n",
       "    <tr style=\"text-align: right;\">\n",
       "      <th></th>\n",
       "      <th>count</th>\n",
       "      <th>unique</th>\n",
       "      <th>top</th>\n",
       "      <th>freq</th>\n",
       "      <th>mean</th>\n",
       "      <th>std</th>\n",
       "      <th>min</th>\n",
       "      <th>25%</th>\n",
       "      <th>50%</th>\n",
       "      <th>75%</th>\n",
       "      <th>max</th>\n",
       "      <th>Missing</th>\n",
       "      <th>%Missing</th>\n",
       "    </tr>\n",
       "  </thead>\n",
       "  <tbody>\n",
       "    <tr>\n",
       "      <th>Accident_Index</th>\n",
       "      <td>1818065</td>\n",
       "      <td>1033652</td>\n",
       "      <td>2003070300788</td>\n",
       "      <td>40</td>\n",
       "      <td>NaN</td>\n",
       "      <td>NaN</td>\n",
       "      <td>NaN</td>\n",
       "      <td>NaN</td>\n",
       "      <td>NaN</td>\n",
       "      <td>NaN</td>\n",
       "      <td>NaN</td>\n",
       "      <td>0</td>\n",
       "      <td>0.0</td>\n",
       "    </tr>\n",
       "    <tr>\n",
       "      <th>Accident_Severity</th>\n",
       "      <td>1818065</td>\n",
       "      <td>3</td>\n",
       "      <td>slight</td>\n",
       "      <td>1562694</td>\n",
       "      <td>NaN</td>\n",
       "      <td>NaN</td>\n",
       "      <td>NaN</td>\n",
       "      <td>NaN</td>\n",
       "      <td>NaN</td>\n",
       "      <td>NaN</td>\n",
       "      <td>NaN</td>\n",
       "      <td>0</td>\n",
       "      <td>0.0</td>\n",
       "    </tr>\n",
       "    <tr>\n",
       "      <th>Number_of_Vehicles</th>\n",
       "      <td>1.81806e+06</td>\n",
       "      <td>NaN</td>\n",
       "      <td>NaN</td>\n",
       "      <td>NaN</td>\n",
       "      <td>2.121</td>\n",
       "      <td>0.95333</td>\n",
       "      <td>1</td>\n",
       "      <td>2</td>\n",
       "      <td>2</td>\n",
       "      <td>2</td>\n",
       "      <td>66</td>\n",
       "      <td>0</td>\n",
       "      <td>0.0</td>\n",
       "    </tr>\n",
       "    <tr>\n",
       "      <th>Number_of_Casualties</th>\n",
       "      <td>1.81806e+06</td>\n",
       "      <td>NaN</td>\n",
       "      <td>NaN</td>\n",
       "      <td>NaN</td>\n",
       "      <td>1.45772</td>\n",
       "      <td>0.994761</td>\n",
       "      <td>1</td>\n",
       "      <td>1</td>\n",
       "      <td>1</td>\n",
       "      <td>2</td>\n",
       "      <td>90</td>\n",
       "      <td>0</td>\n",
       "      <td>0.0</td>\n",
       "    </tr>\n",
       "    <tr>\n",
       "      <th>Date</th>\n",
       "      <td>1818065</td>\n",
       "      <td>1827</td>\n",
       "      <td>25/10/2002</td>\n",
       "      <td>1801</td>\n",
       "      <td>NaN</td>\n",
       "      <td>NaN</td>\n",
       "      <td>NaN</td>\n",
       "      <td>NaN</td>\n",
       "      <td>NaN</td>\n",
       "      <td>NaN</td>\n",
       "      <td>NaN</td>\n",
       "      <td>0</td>\n",
       "      <td>0.0</td>\n",
       "    </tr>\n",
       "  </tbody>\n",
       "</table>\n",
       "</div>"
      ],
      "text/plain": [
       "                            count   unique            top     freq     mean  \\\n",
       "Accident_Index            1818065  1033652  2003070300788       40      NaN   \n",
       "Accident_Severity         1818065        3         slight  1562694      NaN   \n",
       "Number_of_Vehicles    1.81806e+06      NaN            NaN      NaN    2.121   \n",
       "Number_of_Casualties  1.81806e+06      NaN            NaN      NaN  1.45772   \n",
       "Date                      1818065     1827     25/10/2002     1801      NaN   \n",
       "\n",
       "                           std  min  25%  50%  75%  max  Missing  %Missing  \n",
       "Accident_Index             NaN  NaN  NaN  NaN  NaN  NaN        0       0.0  \n",
       "Accident_Severity          NaN  NaN  NaN  NaN  NaN  NaN        0       0.0  \n",
       "Number_of_Vehicles     0.95333    1    2    2    2   66        0       0.0  \n",
       "Number_of_Casualties  0.994761    1    1    1    2   90        0       0.0  \n",
       "Date                       NaN  NaN  NaN  NaN  NaN  NaN        0       0.0  "
      ]
     },
     "execution_count": 105,
     "metadata": {},
     "output_type": "execute_result"
    }
   ],
   "source": [
    "data_dictionary.save(\n",
    "    '../../data/processed/600_prep_missing_values_7904d_Q2B.pkl', \n",
    "\n",
    "\"\"\"\\\n",
    "Aggregate raw data for UK Road Safety data for years 1979 - 2004 (d) Q2B.\n",
    "\"\"\").head()"
   ]
  },
  {
   "cell_type": "code",
   "execution_count": 106,
   "metadata": {},
   "outputs": [
    {
     "data": {
      "text/html": [
       "<div>\n",
       "<style scoped>\n",
       "    .dataframe tbody tr th:only-of-type {\n",
       "        vertical-align: middle;\n",
       "    }\n",
       "\n",
       "    .dataframe tbody tr th {\n",
       "        vertical-align: top;\n",
       "    }\n",
       "\n",
       "    .dataframe thead th {\n",
       "        text-align: right;\n",
       "    }\n",
       "</style>\n",
       "<table border=\"1\" class=\"dataframe\">\n",
       "  <thead>\n",
       "    <tr style=\"text-align: right;\">\n",
       "      <th></th>\n",
       "      <th>count</th>\n",
       "      <th>unique</th>\n",
       "      <th>top</th>\n",
       "      <th>freq</th>\n",
       "      <th>mean</th>\n",
       "      <th>std</th>\n",
       "      <th>min</th>\n",
       "      <th>25%</th>\n",
       "      <th>50%</th>\n",
       "      <th>75%</th>\n",
       "      <th>max</th>\n",
       "      <th>Missing</th>\n",
       "      <th>%Missing</th>\n",
       "    </tr>\n",
       "  </thead>\n",
       "  <tbody>\n",
       "    <tr>\n",
       "      <th>Accident_Index</th>\n",
       "      <td>1842428</td>\n",
       "      <td>1048572</td>\n",
       "      <td>2003070300788</td>\n",
       "      <td>40</td>\n",
       "      <td>NaN</td>\n",
       "      <td>NaN</td>\n",
       "      <td>NaN</td>\n",
       "      <td>NaN</td>\n",
       "      <td>NaN</td>\n",
       "      <td>NaN</td>\n",
       "      <td>NaN</td>\n",
       "      <td>0</td>\n",
       "      <td>0.0</td>\n",
       "    </tr>\n",
       "    <tr>\n",
       "      <th>Longitude</th>\n",
       "      <td>1.84243e+06</td>\n",
       "      <td>NaN</td>\n",
       "      <td>NaN</td>\n",
       "      <td>NaN</td>\n",
       "      <td>-1.48169</td>\n",
       "      <td>1.37761</td>\n",
       "      <td>-7.53617</td>\n",
       "      <td>-2.38622</td>\n",
       "      <td>-1.47043</td>\n",
       "      <td>-0.291916</td>\n",
       "      <td>1.76059</td>\n",
       "      <td>0</td>\n",
       "      <td>0.0</td>\n",
       "    </tr>\n",
       "    <tr>\n",
       "      <th>Latitude</th>\n",
       "      <td>1.84243e+06</td>\n",
       "      <td>NaN</td>\n",
       "      <td>NaN</td>\n",
       "      <td>NaN</td>\n",
       "      <td>52.6002</td>\n",
       "      <td>1.41651</td>\n",
       "      <td>49.9128</td>\n",
       "      <td>51.502</td>\n",
       "      <td>52.4054</td>\n",
       "      <td>53.4766</td>\n",
       "      <td>60.8017</td>\n",
       "      <td>0</td>\n",
       "      <td>0.0</td>\n",
       "    </tr>\n",
       "    <tr>\n",
       "      <th>Accident_Severity</th>\n",
       "      <td>1842428</td>\n",
       "      <td>3</td>\n",
       "      <td>slight</td>\n",
       "      <td>1584818</td>\n",
       "      <td>NaN</td>\n",
       "      <td>NaN</td>\n",
       "      <td>NaN</td>\n",
       "      <td>NaN</td>\n",
       "      <td>NaN</td>\n",
       "      <td>NaN</td>\n",
       "      <td>NaN</td>\n",
       "      <td>0</td>\n",
       "      <td>0.0</td>\n",
       "    </tr>\n",
       "    <tr>\n",
       "      <th>Number_of_Vehicles</th>\n",
       "      <td>1.84243e+06</td>\n",
       "      <td>NaN</td>\n",
       "      <td>NaN</td>\n",
       "      <td>NaN</td>\n",
       "      <td>2.11902</td>\n",
       "      <td>0.951949</td>\n",
       "      <td>1</td>\n",
       "      <td>2</td>\n",
       "      <td>2</td>\n",
       "      <td>2</td>\n",
       "      <td>66</td>\n",
       "      <td>0</td>\n",
       "      <td>0.0</td>\n",
       "    </tr>\n",
       "  </tbody>\n",
       "</table>\n",
       "</div>"
      ],
      "text/plain": [
       "                          count   unique            top     freq     mean  \\\n",
       "Accident_Index          1842428  1048572  2003070300788       40      NaN   \n",
       "Longitude           1.84243e+06      NaN            NaN      NaN -1.48169   \n",
       "Latitude            1.84243e+06      NaN            NaN      NaN  52.6002   \n",
       "Accident_Severity       1842428        3         slight  1584818      NaN   \n",
       "Number_of_Vehicles  1.84243e+06      NaN            NaN      NaN  2.11902   \n",
       "\n",
       "                         std      min      25%      50%       75%      max  \\\n",
       "Accident_Index           NaN      NaN      NaN      NaN       NaN      NaN   \n",
       "Longitude            1.37761 -7.53617 -2.38622 -1.47043 -0.291916  1.76059   \n",
       "Latitude             1.41651  49.9128   51.502  52.4054   53.4766  60.8017   \n",
       "Accident_Severity        NaN      NaN      NaN      NaN       NaN      NaN   \n",
       "Number_of_Vehicles  0.951949        1        2        2         2       66   \n",
       "\n",
       "                    Missing  %Missing  \n",
       "Accident_Index            0       0.0  \n",
       "Longitude                 0       0.0  \n",
       "Latitude                  0       0.0  \n",
       "Accident_Severity         0       0.0  \n",
       "Number_of_Vehicles        0       0.0  "
      ]
     },
     "execution_count": 106,
     "metadata": {},
     "output_type": "execute_result"
    }
   ],
   "source": [
    "data_dictionary.save(\n",
    "    '../../data/processed/600_prep_missing_values_7904d_Q3A.pkl', \n",
    "\n",
    "\"\"\"\\\n",
    "Aggregate raw data for UK Road Safety data for years 1979 - 2004 (d) Q3A.\n",
    "\"\"\").head()"
   ]
  },
  {
   "cell_type": "code",
   "execution_count": 107,
   "metadata": {},
   "outputs": [
    {
     "data": {
      "text/html": [
       "<div>\n",
       "<style scoped>\n",
       "    .dataframe tbody tr th:only-of-type {\n",
       "        vertical-align: middle;\n",
       "    }\n",
       "\n",
       "    .dataframe tbody tr th {\n",
       "        vertical-align: top;\n",
       "    }\n",
       "\n",
       "    .dataframe thead th {\n",
       "        text-align: right;\n",
       "    }\n",
       "</style>\n",
       "<table border=\"1\" class=\"dataframe\">\n",
       "  <thead>\n",
       "    <tr style=\"text-align: right;\">\n",
       "      <th></th>\n",
       "      <th>count</th>\n",
       "      <th>unique</th>\n",
       "      <th>top</th>\n",
       "      <th>freq</th>\n",
       "      <th>mean</th>\n",
       "      <th>std</th>\n",
       "      <th>min</th>\n",
       "      <th>25%</th>\n",
       "      <th>50%</th>\n",
       "      <th>75%</th>\n",
       "      <th>max</th>\n",
       "      <th>Missing</th>\n",
       "      <th>%Missing</th>\n",
       "    </tr>\n",
       "  </thead>\n",
       "  <tbody>\n",
       "    <tr>\n",
       "      <th>Accident_Index</th>\n",
       "      <td>1047006</td>\n",
       "      <td>685687</td>\n",
       "      <td>2003070300788</td>\n",
       "      <td>29</td>\n",
       "      <td>NaN</td>\n",
       "      <td>NaN</td>\n",
       "      <td>NaN</td>\n",
       "      <td>NaN</td>\n",
       "      <td>NaN</td>\n",
       "      <td>NaN</td>\n",
       "      <td>NaN</td>\n",
       "      <td>0</td>\n",
       "      <td>0.0</td>\n",
       "    </tr>\n",
       "    <tr>\n",
       "      <th>Longitude</th>\n",
       "      <td>1.04701e+06</td>\n",
       "      <td>NaN</td>\n",
       "      <td>NaN</td>\n",
       "      <td>NaN</td>\n",
       "      <td>-1.17298</td>\n",
       "      <td>1.09895</td>\n",
       "      <td>-7.52928</td>\n",
       "      <td>-2.10025</td>\n",
       "      <td>-1.29437</td>\n",
       "      <td>-0.209758</td>\n",
       "      <td>1.7585</td>\n",
       "      <td>0</td>\n",
       "      <td>0.0</td>\n",
       "    </tr>\n",
       "    <tr>\n",
       "      <th>Latitude</th>\n",
       "      <td>1.04701e+06</td>\n",
       "      <td>NaN</td>\n",
       "      <td>NaN</td>\n",
       "      <td>NaN</td>\n",
       "      <td>52.4245</td>\n",
       "      <td>1.07209</td>\n",
       "      <td>50.3271</td>\n",
       "      <td>51.5138</td>\n",
       "      <td>52.3573</td>\n",
       "      <td>53.3988</td>\n",
       "      <td>60.2478</td>\n",
       "      <td>0</td>\n",
       "      <td>0.0</td>\n",
       "    </tr>\n",
       "    <tr>\n",
       "      <th>Number_of_Vehicles</th>\n",
       "      <td>1.04701e+06</td>\n",
       "      <td>NaN</td>\n",
       "      <td>NaN</td>\n",
       "      <td>NaN</td>\n",
       "      <td>2.13589</td>\n",
       "      <td>0.94588</td>\n",
       "      <td>1</td>\n",
       "      <td>2</td>\n",
       "      <td>2</td>\n",
       "      <td>2</td>\n",
       "      <td>40</td>\n",
       "      <td>0</td>\n",
       "      <td>0.0</td>\n",
       "    </tr>\n",
       "    <tr>\n",
       "      <th>Number_of_Casualties</th>\n",
       "      <td>1.04701e+06</td>\n",
       "      <td>NaN</td>\n",
       "      <td>NaN</td>\n",
       "      <td>NaN</td>\n",
       "      <td>1.46967</td>\n",
       "      <td>0.980082</td>\n",
       "      <td>1</td>\n",
       "      <td>1</td>\n",
       "      <td>1</td>\n",
       "      <td>2</td>\n",
       "      <td>67</td>\n",
       "      <td>0</td>\n",
       "      <td>0.0</td>\n",
       "    </tr>\n",
       "  </tbody>\n",
       "</table>\n",
       "</div>"
      ],
      "text/plain": [
       "                            count  unique            top freq     mean  \\\n",
       "Accident_Index            1047006  685687  2003070300788   29      NaN   \n",
       "Longitude             1.04701e+06     NaN            NaN  NaN -1.17298   \n",
       "Latitude              1.04701e+06     NaN            NaN  NaN  52.4245   \n",
       "Number_of_Vehicles    1.04701e+06     NaN            NaN  NaN  2.13589   \n",
       "Number_of_Casualties  1.04701e+06     NaN            NaN  NaN  1.46967   \n",
       "\n",
       "                           std      min      25%      50%       75%      max  \\\n",
       "Accident_Index             NaN      NaN      NaN      NaN       NaN      NaN   \n",
       "Longitude              1.09895 -7.52928 -2.10025 -1.29437 -0.209758   1.7585   \n",
       "Latitude               1.07209  50.3271  51.5138  52.3573   53.3988  60.2478   \n",
       "Number_of_Vehicles     0.94588        1        2        2         2       40   \n",
       "Number_of_Casualties  0.980082        1        1        1         2       67   \n",
       "\n",
       "                      Missing  %Missing  \n",
       "Accident_Index              0       0.0  \n",
       "Longitude                   0       0.0  \n",
       "Latitude                    0       0.0  \n",
       "Number_of_Vehicles          0       0.0  \n",
       "Number_of_Casualties        0       0.0  "
      ]
     },
     "execution_count": 107,
     "metadata": {},
     "output_type": "execute_result"
    }
   ],
   "source": [
    "data_dictionary.save(\n",
    "    '../../data/processed/600_prep_missing_values_7904d_Q3B.pkl', \n",
    "\n",
    "\"\"\"\\\n",
    "Aggregate raw data for UK Road Safety data for years 1979 - 2004 (d) Q3B.\n",
    "\"\"\").head()"
   ]
  },
  {
   "cell_type": "markdown",
   "metadata": {},
   "source": [
    "## 1516"
   ]
  },
  {
   "cell_type": "code",
   "execution_count": 108,
   "metadata": {},
   "outputs": [
    {
     "data": {
      "text/html": [
       "<div>\n",
       "<style scoped>\n",
       "    .dataframe tbody tr th:only-of-type {\n",
       "        vertical-align: middle;\n",
       "    }\n",
       "\n",
       "    .dataframe tbody tr th {\n",
       "        vertical-align: top;\n",
       "    }\n",
       "\n",
       "    .dataframe thead th {\n",
       "        text-align: right;\n",
       "    }\n",
       "</style>\n",
       "<table border=\"1\" class=\"dataframe\">\n",
       "  <thead>\n",
       "    <tr style=\"text-align: right;\">\n",
       "      <th></th>\n",
       "      <th>count</th>\n",
       "      <th>unique</th>\n",
       "      <th>top</th>\n",
       "      <th>freq</th>\n",
       "      <th>mean</th>\n",
       "      <th>std</th>\n",
       "      <th>min</th>\n",
       "      <th>25%</th>\n",
       "      <th>50%</th>\n",
       "      <th>75%</th>\n",
       "      <th>max</th>\n",
       "      <th>Missing</th>\n",
       "      <th>%Missing</th>\n",
       "    </tr>\n",
       "  </thead>\n",
       "  <tbody>\n",
       "    <tr>\n",
       "      <th>Accident_Index</th>\n",
       "      <td>410860</td>\n",
       "      <td>242835</td>\n",
       "      <td>201543P296025</td>\n",
       "      <td>37</td>\n",
       "      <td>NaN</td>\n",
       "      <td>NaN</td>\n",
       "      <td>NaN</td>\n",
       "      <td>NaN</td>\n",
       "      <td>NaN</td>\n",
       "      <td>NaN</td>\n",
       "      <td>NaN</td>\n",
       "      <td>0</td>\n",
       "      <td>0.0</td>\n",
       "    </tr>\n",
       "    <tr>\n",
       "      <th>Accident_Severity</th>\n",
       "      <td>410860</td>\n",
       "      <td>3</td>\n",
       "      <td>slight</td>\n",
       "      <td>346146</td>\n",
       "      <td>NaN</td>\n",
       "      <td>NaN</td>\n",
       "      <td>NaN</td>\n",
       "      <td>NaN</td>\n",
       "      <td>NaN</td>\n",
       "      <td>NaN</td>\n",
       "      <td>NaN</td>\n",
       "      <td>0</td>\n",
       "      <td>0.0</td>\n",
       "    </tr>\n",
       "    <tr>\n",
       "      <th>Number_of_Vehicles</th>\n",
       "      <td>410860</td>\n",
       "      <td>NaN</td>\n",
       "      <td>NaN</td>\n",
       "      <td>NaN</td>\n",
       "      <td>2.11064</td>\n",
       "      <td>0.890711</td>\n",
       "      <td>1</td>\n",
       "      <td>2</td>\n",
       "      <td>2</td>\n",
       "      <td>2</td>\n",
       "      <td>37</td>\n",
       "      <td>0</td>\n",
       "      <td>0.0</td>\n",
       "    </tr>\n",
       "    <tr>\n",
       "      <th>Number_of_Casualties</th>\n",
       "      <td>410860</td>\n",
       "      <td>NaN</td>\n",
       "      <td>NaN</td>\n",
       "      <td>NaN</td>\n",
       "      <td>1.43521</td>\n",
       "      <td>0.976626</td>\n",
       "      <td>1</td>\n",
       "      <td>1</td>\n",
       "      <td>1</td>\n",
       "      <td>2</td>\n",
       "      <td>58</td>\n",
       "      <td>0</td>\n",
       "      <td>0.0</td>\n",
       "    </tr>\n",
       "    <tr>\n",
       "      <th>Date</th>\n",
       "      <td>410860</td>\n",
       "      <td>731</td>\n",
       "      <td>25/11/2016</td>\n",
       "      <td>877</td>\n",
       "      <td>NaN</td>\n",
       "      <td>NaN</td>\n",
       "      <td>NaN</td>\n",
       "      <td>NaN</td>\n",
       "      <td>NaN</td>\n",
       "      <td>NaN</td>\n",
       "      <td>NaN</td>\n",
       "      <td>0</td>\n",
       "      <td>0.0</td>\n",
       "    </tr>\n",
       "  </tbody>\n",
       "</table>\n",
       "</div>"
      ],
      "text/plain": [
       "                       count  unique            top    freq     mean  \\\n",
       "Accident_Index        410860  242835  201543P296025      37      NaN   \n",
       "Accident_Severity     410860       3         slight  346146      NaN   \n",
       "Number_of_Vehicles    410860     NaN            NaN     NaN  2.11064   \n",
       "Number_of_Casualties  410860     NaN            NaN     NaN  1.43521   \n",
       "Date                  410860     731     25/11/2016     877      NaN   \n",
       "\n",
       "                           std  min  25%  50%  75%  max  Missing  %Missing  \n",
       "Accident_Index             NaN  NaN  NaN  NaN  NaN  NaN        0       0.0  \n",
       "Accident_Severity          NaN  NaN  NaN  NaN  NaN  NaN        0       0.0  \n",
       "Number_of_Vehicles    0.890711    1    2    2    2   37        0       0.0  \n",
       "Number_of_Casualties  0.976626    1    1    1    2   58        0       0.0  \n",
       "Date                       NaN  NaN  NaN  NaN  NaN  NaN        0       0.0  "
      ]
     },
     "execution_count": 108,
     "metadata": {},
     "output_type": "execute_result"
    }
   ],
   "source": [
    "data_dictionary.save(\n",
    "    '../../data/processed/600_prep_missing_values_1516_Q1AB.pkl', \n",
    "\n",
    "\"\"\"\\\n",
    "Aggregate raw data for UK Road Safety data for years 2015 - 2016 Q1AB.\n",
    "\"\"\").head()"
   ]
  },
  {
   "cell_type": "code",
   "execution_count": 109,
   "metadata": {},
   "outputs": [
    {
     "data": {
      "text/html": [
       "<div>\n",
       "<style scoped>\n",
       "    .dataframe tbody tr th:only-of-type {\n",
       "        vertical-align: middle;\n",
       "    }\n",
       "\n",
       "    .dataframe tbody tr th {\n",
       "        vertical-align: top;\n",
       "    }\n",
       "\n",
       "    .dataframe thead th {\n",
       "        text-align: right;\n",
       "    }\n",
       "</style>\n",
       "<table border=\"1\" class=\"dataframe\">\n",
       "  <thead>\n",
       "    <tr style=\"text-align: right;\">\n",
       "      <th></th>\n",
       "      <th>count</th>\n",
       "      <th>unique</th>\n",
       "      <th>top</th>\n",
       "      <th>freq</th>\n",
       "      <th>mean</th>\n",
       "      <th>std</th>\n",
       "      <th>min</th>\n",
       "      <th>25%</th>\n",
       "      <th>50%</th>\n",
       "      <th>75%</th>\n",
       "      <th>max</th>\n",
       "      <th>Missing</th>\n",
       "      <th>%Missing</th>\n",
       "    </tr>\n",
       "  </thead>\n",
       "  <tbody>\n",
       "    <tr>\n",
       "      <th>Accident_Index</th>\n",
       "      <td>319026</td>\n",
       "      <td>210195</td>\n",
       "      <td>201543P296025</td>\n",
       "      <td>31</td>\n",
       "      <td>NaN</td>\n",
       "      <td>NaN</td>\n",
       "      <td>NaN</td>\n",
       "      <td>NaN</td>\n",
       "      <td>NaN</td>\n",
       "      <td>NaN</td>\n",
       "      <td>NaN</td>\n",
       "      <td>0</td>\n",
       "      <td>0.0</td>\n",
       "    </tr>\n",
       "    <tr>\n",
       "      <th>Accident_Severity</th>\n",
       "      <td>319026</td>\n",
       "      <td>3</td>\n",
       "      <td>slight</td>\n",
       "      <td>271034</td>\n",
       "      <td>NaN</td>\n",
       "      <td>NaN</td>\n",
       "      <td>NaN</td>\n",
       "      <td>NaN</td>\n",
       "      <td>NaN</td>\n",
       "      <td>NaN</td>\n",
       "      <td>NaN</td>\n",
       "      <td>0</td>\n",
       "      <td>0.0</td>\n",
       "    </tr>\n",
       "    <tr>\n",
       "      <th>Number_of_Vehicles</th>\n",
       "      <td>319026</td>\n",
       "      <td>NaN</td>\n",
       "      <td>NaN</td>\n",
       "      <td>NaN</td>\n",
       "      <td>2.12061</td>\n",
       "      <td>0.919788</td>\n",
       "      <td>1</td>\n",
       "      <td>2</td>\n",
       "      <td>2</td>\n",
       "      <td>2</td>\n",
       "      <td>37</td>\n",
       "      <td>0</td>\n",
       "      <td>0.0</td>\n",
       "    </tr>\n",
       "    <tr>\n",
       "      <th>Number_of_Casualties</th>\n",
       "      <td>319026</td>\n",
       "      <td>NaN</td>\n",
       "      <td>NaN</td>\n",
       "      <td>NaN</td>\n",
       "      <td>1.46472</td>\n",
       "      <td>0.998059</td>\n",
       "      <td>1</td>\n",
       "      <td>1</td>\n",
       "      <td>1</td>\n",
       "      <td>2</td>\n",
       "      <td>58</td>\n",
       "      <td>0</td>\n",
       "      <td>0.0</td>\n",
       "    </tr>\n",
       "    <tr>\n",
       "      <th>Date</th>\n",
       "      <td>319026</td>\n",
       "      <td>731</td>\n",
       "      <td>15/01/2016</td>\n",
       "      <td>708</td>\n",
       "      <td>NaN</td>\n",
       "      <td>NaN</td>\n",
       "      <td>NaN</td>\n",
       "      <td>NaN</td>\n",
       "      <td>NaN</td>\n",
       "      <td>NaN</td>\n",
       "      <td>NaN</td>\n",
       "      <td>0</td>\n",
       "      <td>0.0</td>\n",
       "    </tr>\n",
       "  </tbody>\n",
       "</table>\n",
       "</div>"
      ],
      "text/plain": [
       "                       count  unique            top    freq     mean  \\\n",
       "Accident_Index        319026  210195  201543P296025      31      NaN   \n",
       "Accident_Severity     319026       3         slight  271034      NaN   \n",
       "Number_of_Vehicles    319026     NaN            NaN     NaN  2.12061   \n",
       "Number_of_Casualties  319026     NaN            NaN     NaN  1.46472   \n",
       "Date                  319026     731     15/01/2016     708      NaN   \n",
       "\n",
       "                           std  min  25%  50%  75%  max  Missing  %Missing  \n",
       "Accident_Index             NaN  NaN  NaN  NaN  NaN  NaN        0       0.0  \n",
       "Accident_Severity          NaN  NaN  NaN  NaN  NaN  NaN        0       0.0  \n",
       "Number_of_Vehicles    0.919788    1    2    2    2   37        0       0.0  \n",
       "Number_of_Casualties  0.998059    1    1    1    2   58        0       0.0  \n",
       "Date                       NaN  NaN  NaN  NaN  NaN  NaN        0       0.0  "
      ]
     },
     "execution_count": 109,
     "metadata": {},
     "output_type": "execute_result"
    }
   ],
   "source": [
    "data_dictionary.save(\n",
    "    '../../data/processed/600_prep_missing_values_1516_Q2A.pkl', \n",
    "\n",
    "\"\"\"\\\n",
    "Aggregate raw data for UK Road Safety data for years 2015 - 2016 Q2A.\n",
    "\"\"\").head()"
   ]
  },
  {
   "cell_type": "code",
   "execution_count": 110,
   "metadata": {},
   "outputs": [
    {
     "data": {
      "text/html": [
       "<div>\n",
       "<style scoped>\n",
       "    .dataframe tbody tr th:only-of-type {\n",
       "        vertical-align: middle;\n",
       "    }\n",
       "\n",
       "    .dataframe tbody tr th {\n",
       "        vertical-align: top;\n",
       "    }\n",
       "\n",
       "    .dataframe thead th {\n",
       "        text-align: right;\n",
       "    }\n",
       "</style>\n",
       "<table border=\"1\" class=\"dataframe\">\n",
       "  <thead>\n",
       "    <tr style=\"text-align: right;\">\n",
       "      <th></th>\n",
       "      <th>count</th>\n",
       "      <th>unique</th>\n",
       "      <th>top</th>\n",
       "      <th>freq</th>\n",
       "      <th>mean</th>\n",
       "      <th>std</th>\n",
       "      <th>min</th>\n",
       "      <th>25%</th>\n",
       "      <th>50%</th>\n",
       "      <th>75%</th>\n",
       "      <th>max</th>\n",
       "      <th>Missing</th>\n",
       "      <th>%Missing</th>\n",
       "    </tr>\n",
       "  </thead>\n",
       "  <tbody>\n",
       "    <tr>\n",
       "      <th>Accident_Index</th>\n",
       "      <td>434637</td>\n",
       "      <td>247212</td>\n",
       "      <td>201543P296025</td>\n",
       "      <td>37</td>\n",
       "      <td>NaN</td>\n",
       "      <td>NaN</td>\n",
       "      <td>NaN</td>\n",
       "      <td>NaN</td>\n",
       "      <td>NaN</td>\n",
       "      <td>NaN</td>\n",
       "      <td>NaN</td>\n",
       "      <td>0</td>\n",
       "      <td>0.0</td>\n",
       "    </tr>\n",
       "    <tr>\n",
       "      <th>Accident_Severity</th>\n",
       "      <td>434637</td>\n",
       "      <td>3</td>\n",
       "      <td>slight</td>\n",
       "      <td>367926</td>\n",
       "      <td>NaN</td>\n",
       "      <td>NaN</td>\n",
       "      <td>NaN</td>\n",
       "      <td>NaN</td>\n",
       "      <td>NaN</td>\n",
       "      <td>NaN</td>\n",
       "      <td>NaN</td>\n",
       "      <td>0</td>\n",
       "      <td>0.0</td>\n",
       "    </tr>\n",
       "    <tr>\n",
       "      <th>Number_of_Vehicles</th>\n",
       "      <td>434637</td>\n",
       "      <td>NaN</td>\n",
       "      <td>NaN</td>\n",
       "      <td>NaN</td>\n",
       "      <td>2.10887</td>\n",
       "      <td>0.885776</td>\n",
       "      <td>1</td>\n",
       "      <td>2</td>\n",
       "      <td>2</td>\n",
       "      <td>2</td>\n",
       "      <td>37</td>\n",
       "      <td>0</td>\n",
       "      <td>0.0</td>\n",
       "    </tr>\n",
       "    <tr>\n",
       "      <th>Number_of_Casualties</th>\n",
       "      <td>434637</td>\n",
       "      <td>NaN</td>\n",
       "      <td>NaN</td>\n",
       "      <td>NaN</td>\n",
       "      <td>1.42344</td>\n",
       "      <td>0.960998</td>\n",
       "      <td>1</td>\n",
       "      <td>1</td>\n",
       "      <td>1</td>\n",
       "      <td>2</td>\n",
       "      <td>58</td>\n",
       "      <td>0</td>\n",
       "      <td>0.0</td>\n",
       "    </tr>\n",
       "    <tr>\n",
       "      <th>Date</th>\n",
       "      <td>434637</td>\n",
       "      <td>731</td>\n",
       "      <td>25/11/2016</td>\n",
       "      <td>899</td>\n",
       "      <td>NaN</td>\n",
       "      <td>NaN</td>\n",
       "      <td>NaN</td>\n",
       "      <td>NaN</td>\n",
       "      <td>NaN</td>\n",
       "      <td>NaN</td>\n",
       "      <td>NaN</td>\n",
       "      <td>0</td>\n",
       "      <td>0.0</td>\n",
       "    </tr>\n",
       "  </tbody>\n",
       "</table>\n",
       "</div>"
      ],
      "text/plain": [
       "                       count  unique            top    freq     mean  \\\n",
       "Accident_Index        434637  247212  201543P296025      37      NaN   \n",
       "Accident_Severity     434637       3         slight  367926      NaN   \n",
       "Number_of_Vehicles    434637     NaN            NaN     NaN  2.10887   \n",
       "Number_of_Casualties  434637     NaN            NaN     NaN  1.42344   \n",
       "Date                  434637     731     25/11/2016     899      NaN   \n",
       "\n",
       "                           std  min  25%  50%  75%  max  Missing  %Missing  \n",
       "Accident_Index             NaN  NaN  NaN  NaN  NaN  NaN        0       0.0  \n",
       "Accident_Severity          NaN  NaN  NaN  NaN  NaN  NaN        0       0.0  \n",
       "Number_of_Vehicles    0.885776    1    2    2    2   37        0       0.0  \n",
       "Number_of_Casualties  0.960998    1    1    1    2   58        0       0.0  \n",
       "Date                       NaN  NaN  NaN  NaN  NaN  NaN        0       0.0  "
      ]
     },
     "execution_count": 110,
     "metadata": {},
     "output_type": "execute_result"
    }
   ],
   "source": [
    "data_dictionary.save(\n",
    "    '../../data/processed/600_prep_missing_values_1516_Q2B.pkl', \n",
    "\n",
    "\"\"\"\\\n",
    "Aggregate raw data for UK Road Safety data for years 2015 - 2016 Q2B.\n",
    "\"\"\").head()"
   ]
  },
  {
   "cell_type": "code",
   "execution_count": 111,
   "metadata": {},
   "outputs": [
    {
     "data": {
      "text/html": [
       "<div>\n",
       "<style scoped>\n",
       "    .dataframe tbody tr th:only-of-type {\n",
       "        vertical-align: middle;\n",
       "    }\n",
       "\n",
       "    .dataframe tbody tr th {\n",
       "        vertical-align: top;\n",
       "    }\n",
       "\n",
       "    .dataframe thead th {\n",
       "        text-align: right;\n",
       "    }\n",
       "</style>\n",
       "<table border=\"1\" class=\"dataframe\">\n",
       "  <thead>\n",
       "    <tr style=\"text-align: right;\">\n",
       "      <th></th>\n",
       "      <th>count</th>\n",
       "      <th>unique</th>\n",
       "      <th>top</th>\n",
       "      <th>freq</th>\n",
       "      <th>mean</th>\n",
       "      <th>std</th>\n",
       "      <th>min</th>\n",
       "      <th>25%</th>\n",
       "      <th>50%</th>\n",
       "      <th>75%</th>\n",
       "      <th>max</th>\n",
       "      <th>Missing</th>\n",
       "      <th>%Missing</th>\n",
       "    </tr>\n",
       "  </thead>\n",
       "  <tbody>\n",
       "    <tr>\n",
       "      <th>Accident_Index</th>\n",
       "      <td>443646</td>\n",
       "      <td>252737</td>\n",
       "      <td>201543P296025</td>\n",
       "      <td>37</td>\n",
       "      <td>NaN</td>\n",
       "      <td>NaN</td>\n",
       "      <td>NaN</td>\n",
       "      <td>NaN</td>\n",
       "      <td>NaN</td>\n",
       "      <td>NaN</td>\n",
       "      <td>NaN</td>\n",
       "      <td>0</td>\n",
       "      <td>0.0</td>\n",
       "    </tr>\n",
       "    <tr>\n",
       "      <th>Longitude</th>\n",
       "      <td>443646</td>\n",
       "      <td>NaN</td>\n",
       "      <td>NaN</td>\n",
       "      <td>NaN</td>\n",
       "      <td>-1.38275</td>\n",
       "      <td>1.39311</td>\n",
       "      <td>-7.42291</td>\n",
       "      <td>-2.26736</td>\n",
       "      <td>-1.31449</td>\n",
       "      <td>-0.192573</td>\n",
       "      <td>1.75844</td>\n",
       "      <td>0</td>\n",
       "      <td>0.0</td>\n",
       "    </tr>\n",
       "    <tr>\n",
       "      <th>Latitude</th>\n",
       "      <td>443646</td>\n",
       "      <td>NaN</td>\n",
       "      <td>NaN</td>\n",
       "      <td>NaN</td>\n",
       "      <td>52.5637</td>\n",
       "      <td>1.40423</td>\n",
       "      <td>49.9156</td>\n",
       "      <td>51.5098</td>\n",
       "      <td>52.2383</td>\n",
       "      <td>53.4405</td>\n",
       "      <td>60.6611</td>\n",
       "      <td>0</td>\n",
       "      <td>0.0</td>\n",
       "    </tr>\n",
       "    <tr>\n",
       "      <th>Accident_Severity</th>\n",
       "      <td>443646</td>\n",
       "      <td>3</td>\n",
       "      <td>slight</td>\n",
       "      <td>375927</td>\n",
       "      <td>NaN</td>\n",
       "      <td>NaN</td>\n",
       "      <td>NaN</td>\n",
       "      <td>NaN</td>\n",
       "      <td>NaN</td>\n",
       "      <td>NaN</td>\n",
       "      <td>NaN</td>\n",
       "      <td>0</td>\n",
       "      <td>0.0</td>\n",
       "    </tr>\n",
       "    <tr>\n",
       "      <th>Number_of_Vehicles</th>\n",
       "      <td>443646</td>\n",
       "      <td>NaN</td>\n",
       "      <td>NaN</td>\n",
       "      <td>NaN</td>\n",
       "      <td>2.10691</td>\n",
       "      <td>0.882811</td>\n",
       "      <td>1</td>\n",
       "      <td>2</td>\n",
       "      <td>2</td>\n",
       "      <td>2</td>\n",
       "      <td>37</td>\n",
       "      <td>0</td>\n",
       "      <td>0.0</td>\n",
       "    </tr>\n",
       "  </tbody>\n",
       "</table>\n",
       "</div>"
      ],
      "text/plain": [
       "                     count  unique            top    freq     mean       std  \\\n",
       "Accident_Index      443646  252737  201543P296025      37      NaN       NaN   \n",
       "Longitude           443646     NaN            NaN     NaN -1.38275   1.39311   \n",
       "Latitude            443646     NaN            NaN     NaN  52.5637   1.40423   \n",
       "Accident_Severity   443646       3         slight  375927      NaN       NaN   \n",
       "Number_of_Vehicles  443646     NaN            NaN     NaN  2.10691  0.882811   \n",
       "\n",
       "                        min      25%      50%       75%      max  Missing  \\\n",
       "Accident_Index          NaN      NaN      NaN       NaN      NaN        0   \n",
       "Longitude          -7.42291 -2.26736 -1.31449 -0.192573  1.75844        0   \n",
       "Latitude            49.9156  51.5098  52.2383   53.4405  60.6611        0   \n",
       "Accident_Severity       NaN      NaN      NaN       NaN      NaN        0   \n",
       "Number_of_Vehicles        1        2        2         2       37        0   \n",
       "\n",
       "                    %Missing  \n",
       "Accident_Index           0.0  \n",
       "Longitude                0.0  \n",
       "Latitude                 0.0  \n",
       "Accident_Severity        0.0  \n",
       "Number_of_Vehicles       0.0  "
      ]
     },
     "execution_count": 111,
     "metadata": {},
     "output_type": "execute_result"
    }
   ],
   "source": [
    "data_dictionary.save(\n",
    "    '../../data/processed/600_prep_missing_values_1516_Q3A.pkl', \n",
    "\n",
    "\"\"\"\\\n",
    "Aggregate raw data for UK Road Safety data for years 2015 - 2016 Q3A.\n",
    "\"\"\").head()"
   ]
  },
  {
   "cell_type": "code",
   "execution_count": 112,
   "metadata": {},
   "outputs": [
    {
     "data": {
      "text/html": [
       "<div>\n",
       "<style scoped>\n",
       "    .dataframe tbody tr th:only-of-type {\n",
       "        vertical-align: middle;\n",
       "    }\n",
       "\n",
       "    .dataframe tbody tr th {\n",
       "        vertical-align: top;\n",
       "    }\n",
       "\n",
       "    .dataframe thead th {\n",
       "        text-align: right;\n",
       "    }\n",
       "</style>\n",
       "<table border=\"1\" class=\"dataframe\">\n",
       "  <thead>\n",
       "    <tr style=\"text-align: right;\">\n",
       "      <th></th>\n",
       "      <th>count</th>\n",
       "      <th>unique</th>\n",
       "      <th>top</th>\n",
       "      <th>freq</th>\n",
       "      <th>mean</th>\n",
       "      <th>std</th>\n",
       "      <th>min</th>\n",
       "      <th>25%</th>\n",
       "      <th>50%</th>\n",
       "      <th>75%</th>\n",
       "      <th>max</th>\n",
       "      <th>Missing</th>\n",
       "      <th>%Missing</th>\n",
       "    </tr>\n",
       "  </thead>\n",
       "  <tbody>\n",
       "    <tr>\n",
       "      <th>Accident_Index</th>\n",
       "      <td>183141</td>\n",
       "      <td>112492</td>\n",
       "      <td>2016460044087</td>\n",
       "      <td>11</td>\n",
       "      <td>NaN</td>\n",
       "      <td>NaN</td>\n",
       "      <td>NaN</td>\n",
       "      <td>NaN</td>\n",
       "      <td>NaN</td>\n",
       "      <td>NaN</td>\n",
       "      <td>NaN</td>\n",
       "      <td>0</td>\n",
       "      <td>0.0</td>\n",
       "    </tr>\n",
       "    <tr>\n",
       "      <th>Longitude</th>\n",
       "      <td>183141</td>\n",
       "      <td>NaN</td>\n",
       "      <td>NaN</td>\n",
       "      <td>NaN</td>\n",
       "      <td>-1.06717</td>\n",
       "      <td>1.22646</td>\n",
       "      <td>-6.4774</td>\n",
       "      <td>-1.9034</td>\n",
       "      <td>-1.04605</td>\n",
       "      <td>-0.130762</td>\n",
       "      <td>1.75786</td>\n",
       "      <td>0</td>\n",
       "      <td>0.0</td>\n",
       "    </tr>\n",
       "    <tr>\n",
       "      <th>Latitude</th>\n",
       "      <td>183141</td>\n",
       "      <td>NaN</td>\n",
       "      <td>NaN</td>\n",
       "      <td>NaN</td>\n",
       "      <td>52.2453</td>\n",
       "      <td>1.11751</td>\n",
       "      <td>49.9197</td>\n",
       "      <td>51.4398</td>\n",
       "      <td>51.8625</td>\n",
       "      <td>53.1587</td>\n",
       "      <td>58.5948</td>\n",
       "      <td>0</td>\n",
       "      <td>0.0</td>\n",
       "    </tr>\n",
       "    <tr>\n",
       "      <th>Number_of_Vehicles</th>\n",
       "      <td>183141</td>\n",
       "      <td>NaN</td>\n",
       "      <td>NaN</td>\n",
       "      <td>NaN</td>\n",
       "      <td>2.1179</td>\n",
       "      <td>0.835586</td>\n",
       "      <td>1</td>\n",
       "      <td>2</td>\n",
       "      <td>2</td>\n",
       "      <td>2</td>\n",
       "      <td>16</td>\n",
       "      <td>0</td>\n",
       "      <td>0.0</td>\n",
       "    </tr>\n",
       "    <tr>\n",
       "      <th>Number_of_Casualties</th>\n",
       "      <td>183141</td>\n",
       "      <td>NaN</td>\n",
       "      <td>NaN</td>\n",
       "      <td>NaN</td>\n",
       "      <td>1.42863</td>\n",
       "      <td>0.910948</td>\n",
       "      <td>1</td>\n",
       "      <td>1</td>\n",
       "      <td>1</td>\n",
       "      <td>2</td>\n",
       "      <td>58</td>\n",
       "      <td>0</td>\n",
       "      <td>0.0</td>\n",
       "    </tr>\n",
       "  </tbody>\n",
       "</table>\n",
       "</div>"
      ],
      "text/plain": [
       "                       count  unique            top freq     mean       std  \\\n",
       "Accident_Index        183141  112492  2016460044087   11      NaN       NaN   \n",
       "Longitude             183141     NaN            NaN  NaN -1.06717   1.22646   \n",
       "Latitude              183141     NaN            NaN  NaN  52.2453   1.11751   \n",
       "Number_of_Vehicles    183141     NaN            NaN  NaN   2.1179  0.835586   \n",
       "Number_of_Casualties  183141     NaN            NaN  NaN  1.42863  0.910948   \n",
       "\n",
       "                          min      25%      50%       75%      max  Missing  \\\n",
       "Accident_Index            NaN      NaN      NaN       NaN      NaN        0   \n",
       "Longitude             -6.4774  -1.9034 -1.04605 -0.130762  1.75786        0   \n",
       "Latitude              49.9197  51.4398  51.8625   53.1587  58.5948        0   \n",
       "Number_of_Vehicles          1        2        2         2       16        0   \n",
       "Number_of_Casualties        1        1        1         2       58        0   \n",
       "\n",
       "                      %Missing  \n",
       "Accident_Index             0.0  \n",
       "Longitude                  0.0  \n",
       "Latitude                   0.0  \n",
       "Number_of_Vehicles         0.0  \n",
       "Number_of_Casualties       0.0  "
      ]
     },
     "execution_count": 112,
     "metadata": {},
     "output_type": "execute_result"
    }
   ],
   "source": [
    "data_dictionary.save(\n",
    "    '../../data/processed/600_prep_missing_values_1516_Q3B.pkl', \n",
    "\n",
    "\"\"\"\\\n",
    "Aggregate raw data for UK Road Safety data for years 2015 - 2016 Q3B.\n",
    "\"\"\").head()"
   ]
  },
  {
   "cell_type": "code",
   "execution_count": null,
   "metadata": {
    "collapsed": true
   },
   "outputs": [],
   "source": []
  }
 ],
 "metadata": {
  "kernelspec": {
   "display_name": "Python 3",
   "language": "python",
   "name": "python3"
  },
  "language_info": {
   "codemirror_mode": {
    "name": "ipython",
    "version": 3
   },
   "file_extension": ".py",
   "mimetype": "text/x-python",
   "name": "python",
   "nbconvert_exporter": "python",
   "pygments_lexer": "ipython3",
   "version": "3.6.3"
  }
 },
 "nbformat": 4,
 "nbformat_minor": 2
}
