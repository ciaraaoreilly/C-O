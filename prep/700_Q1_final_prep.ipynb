{
 "cells": [
  {
   "cell_type": "markdown",
   "metadata": {},
   "source": [
    "# 700_Q1_final_prep\n",
    "\n",
    "## Purpose\n",
    "The Purpose of this Notebook is to finalise our preparation of datasets for our first research question. We will focus on our 'Date' column, sorting our data by year and concatenating our datasets to form our final prep pickle files which will enable us to answer research question one: _\" Is There a Safest Time for Travel?\"_\n",
    "\n",
    "\n",
    "### Notebook Contents:\n",
    "\n",
    "* __1:__ Loading our Datasets\n",
    "\n",
    "* __2:__ Question One: (A) and (B)\n",
    "     * __2.1:__ Sort by Year\n",
    "     * __2.2:__ Creating new Datasets\n",
    "     * __2.3:__ Check for Null Values\n",
    "\n",
    "* __3:__ Question One: (C)     \n",
    "     * __3.1:__ Sort by Year\n",
    "     * __3.2:__ Creating new Datasets\n",
    "     * __3.3:__ Check for Null Values\n",
    "\n",
    "* __4:__ Saving Datasets to pickle files\n",
    "\n",
    "\n",
    "* __5:__ Creating Data Dictionaries\n",
    "\n",
    "\n",
    "## Datasets\n",
    "\n",
    "* __Input__: \n",
    "\n",
    "* 500_prep_missing_values_0514_Q1AB.pkl (Recorded UK Road Accident Data 2005 - 2014 for RQ1 (A) and (B), with missing values removed)\n",
    "\n",
    "\n",
    "* 500_prep_missing_values_0514_Q1C.pkl (Recorded UK Road Accident Data 2005 - 2014 for RQ1 (C), with missing values removed)\n",
    "\n",
    "\n",
    "* 500_prep_missing_values_0514_Q2A.pkl (Recorded UK Road Accident Data 2005 - 2014 for RQ2 (A), with missing values removed)\n",
    "\n",
    "\n",
    "* 500_prep_missing_values_0514_Q2B.pkl (Recorded UK Road Accident Data 2005 - 2014 for RQ2 (B), with missing values removed)\n",
    "\n",
    "\n",
    "* 500_prep_missing_values_0514_Q3A.pkl (Recorded UK Road Accident Data 2005 - 2014 for RQ3 (A), with missing values removed)\n",
    "\n",
    "\n",
    "* 500_prep_missing_values_0514_Q3B.pkl (Recorded UK Road Accident Data 2005 - 2014 for RQ3 (B), with missing values removed)\n",
    "\n",
    "\n",
    "* 500_prep_missing_values_7904a_Q1AB.pkl (Recorded UK Road Accident Data 1979 - 2004 (a) for RQ1 (A) and (B), with missing values removed)\n",
    "\n",
    "\n",
    "* 500_prep_missing_values_7904a_Q2B.pkl (Recorded UK Road Accident Data 1979 - 2004 (a) for RQ2 (B), with missing values removed)\n",
    "\n",
    "\n",
    "* 500_prep_missing_values_7904b_Q1AB.pkl (Recorded UK Road Accident Data 1979 - 2004 (b) for RQ1 (A) and (B), with missing values removed)\n",
    "\n",
    "\n",
    "* 500_prep_missing_values_df7904b_Q2B.pkl (Recorded UK Road Accident Data 1979 - 2004 (b) for RQ2 (B), with missing values removed)\n",
    "\n",
    "\n",
    "* __Output__: \n",
    "\n",
    "* 700_Q1AB_final_prep_1.pkl (Fully prepared dataset 1 of UK Road Safety Data from 1979 - 2016, for RQ1(A) and (B))\n",
    "\n",
    "\n",
    "* 700_Q1AB_final_prep_2.pkl (Fully prepared dataset 2 of UK Road Safety Data from 1979 - 2016, for RQ1(A) and (B))\n",
    "\n",
    "\n",
    "* 700_Q1AB_final_prep_3.pkl (Fully prepared dataset 3 of UK Road Safety Data from 1979 - 2016, for RQ1(A) and (B))\n",
    "\n",
    "\n",
    "* 700_Q1AB_final_prep_4.pkl (Fully prepared dataset 4 of UK Road Safety Data from 1979 - 2016, for RQ1(A) and (B))\n",
    "\n",
    "\n",
    "* 700_Q1C_final_prep.pkl (Fully prepared dataset of UK Road Safety Data from 2005 - 2014, for RQ1(C))"
   ]
  },
  {
   "cell_type": "code",
   "execution_count": 1,
   "metadata": {
    "collapsed": true
   },
   "outputs": [],
   "source": [
    "import os\n",
    "import sys\n",
    "\n",
    "import pandas as pd\n",
    "import numpy as np\n",
    "\n",
    "module_path = os.path.abspath(os.path.join('../../data/..'))\n",
    "if module_path not in sys.path:\n",
    "    sys.path.append(module_path)\n",
    "    \n",
    "from src.helpers import data_dictionary\n",
    "\n",
    "%matplotlib inline"
   ]
  },
  {
   "cell_type": "markdown",
   "metadata": {},
   "source": [
    "## 1.\n",
    "## Loading the Datasets\n",
    "\n",
    "Loading our input files using the pd.read_pickle method."
   ]
  },
  {
   "cell_type": "code",
   "execution_count": 2,
   "metadata": {},
   "outputs": [
    {
     "data": {
      "text/plain": [
       "(2411743, 14)"
      ]
     },
     "execution_count": 2,
     "metadata": {},
     "output_type": "execute_result"
    }
   ],
   "source": [
    "df_7904a_Q1AB= pd.read_pickle('../../data/processed/500_prep_missing_values_7904a_Q1AB.pkl')\n",
    "df_7904a_Q1AB.shape"
   ]
  },
  {
   "cell_type": "code",
   "execution_count": 3,
   "metadata": {},
   "outputs": [
    {
     "data": {
      "text/plain": [
       "(2621931, 14)"
      ]
     },
     "execution_count": 3,
     "metadata": {},
     "output_type": "execute_result"
    }
   ],
   "source": [
    "df_7904b_Q1AB= pd.read_pickle('../../data/processed/500_prep_missing_values_7904b_Q1AB.pkl')\n",
    "df_7904b_Q1AB.shape"
   ]
  },
  {
   "cell_type": "code",
   "execution_count": 4,
   "metadata": {},
   "outputs": [
    {
     "data": {
      "text/plain": [
       "(2695080, 14)"
      ]
     },
     "execution_count": 4,
     "metadata": {},
     "output_type": "execute_result"
    }
   ],
   "source": [
    "df_7904c_Q1AB= pd.read_pickle('../../data/processed/600_prep_missing_values_7904c_Q1AB.pkl')\n",
    "df_7904c_Q1AB.shape"
   ]
  },
  {
   "cell_type": "code",
   "execution_count": 5,
   "metadata": {},
   "outputs": [
    {
     "data": {
      "text/plain": [
       "(1725560, 14)"
      ]
     },
     "execution_count": 5,
     "metadata": {},
     "output_type": "execute_result"
    }
   ],
   "source": [
    "df_7904d_Q1AB= pd.read_pickle('../../data/processed/600_prep_missing_values_7904d_Q1AB.pkl')\n",
    "df_7904d_Q1AB.shape"
   ]
  },
  {
   "cell_type": "code",
   "execution_count": 6,
   "metadata": {},
   "outputs": [
    {
     "data": {
      "text/plain": [
       "(2600036, 14)"
      ]
     },
     "execution_count": 6,
     "metadata": {},
     "output_type": "execute_result"
    }
   ],
   "source": [
    "df_0514_Q1AB= pd.read_pickle('../../data/processed/500_prep_missing_values_0514_Q1AB.pkl')\n",
    "df_0514_Q1AB.shape"
   ]
  },
  {
   "cell_type": "code",
   "execution_count": 7,
   "metadata": {},
   "outputs": [
    {
     "data": {
      "text/plain": [
       "(792713, 15)"
      ]
     },
     "execution_count": 7,
     "metadata": {},
     "output_type": "execute_result"
    }
   ],
   "source": [
    "df_0514_Q1C= pd.read_pickle('../../data/processed/500_prep_missing_values_0514_Q1C.pkl')\n",
    "df_0514_Q1C.shape"
   ]
  },
  {
   "cell_type": "code",
   "execution_count": 8,
   "metadata": {},
   "outputs": [
    {
     "data": {
      "text/plain": [
       "(410860, 14)"
      ]
     },
     "execution_count": 8,
     "metadata": {},
     "output_type": "execute_result"
    }
   ],
   "source": [
    "df_1516_Q1AB= pd.read_pickle('../../data/processed/600_prep_missing_values_1516_Q1AB.pkl')\n",
    "df_1516_Q1AB.shape"
   ]
  },
  {
   "cell_type": "markdown",
   "metadata": {},
   "source": [
    "## 2.\n",
    "# Question One: \n",
    "\n",
    "## (A) and (B)\n",
    "\n",
    "First we will begin by adding up the rows of each of our datasets (As seen in section __1.__ above), to see how much data we will be working with for (A) and (B)."
   ]
  },
  {
   "cell_type": "code",
   "execution_count": 9,
   "metadata": {},
   "outputs": [
    {
     "data": {
      "text/plain": [
       "12465210"
      ]
     },
     "execution_count": 9,
     "metadata": {},
     "output_type": "execute_result"
    }
   ],
   "source": [
    "2411743 + 2621931 + 2695080 + 1725560 + 2600036 + 410860"
   ]
  },
  {
   "cell_type": "markdown",
   "metadata": {},
   "source": [
    "From this summation, you can see that each of our datasets for Q1 (A) and (B) adds up to just under 12,500,000 rows.\n",
    "\n",
    "As this is such a large amount of rows, we will continue to use multiple datasets rather than concatenating them for the time being."
   ]
  },
  {
   "cell_type": "markdown",
   "metadata": {},
   "source": [
    "## 2.1\n",
    "## _Sort by Year_\n",
    "\n",
    "In order to ensure that each of our questions are answered using consistent data from the same years, we will sort our 6 datasets by year and check to see whether we are missing some data for certain years.\n",
    "\n",
    "To begin, we must first split our 'Date' column up into three separate columns 'Date_Day', 'Month', 'Year'. This will be done using the str.split method."
   ]
  },
  {
   "cell_type": "code",
   "execution_count": 10,
   "metadata": {
    "collapsed": true
   },
   "outputs": [],
   "source": [
    "df_7904a_Q1AB[['Date_Day', 'Month', 'Year']] = df_7904a_Q1AB['Date'].str.split(pat = '/', n=-1, expand=True)  "
   ]
  },
  {
   "cell_type": "code",
   "execution_count": 11,
   "metadata": {
    "collapsed": true
   },
   "outputs": [],
   "source": [
    "df_7904b_Q1AB[['Date_Day', 'Month', 'Year']] = df_7904b_Q1AB['Date'].str.split(pat = '/', n=-1, expand=True)   "
   ]
  },
  {
   "cell_type": "code",
   "execution_count": 12,
   "metadata": {
    "collapsed": true
   },
   "outputs": [],
   "source": [
    "df_7904c_Q1AB[['Date_Day', 'Month', 'Year']] = df_7904c_Q1AB['Date'].str.split(pat = '/', n=-1, expand=True) "
   ]
  },
  {
   "cell_type": "code",
   "execution_count": 13,
   "metadata": {
    "collapsed": true
   },
   "outputs": [],
   "source": [
    "df_7904d_Q1AB[['Date_Day', 'Month', 'Year']] = df_7904d_Q1AB['Date'].str.split(pat = '/', n=-1, expand=True)  "
   ]
  },
  {
   "cell_type": "code",
   "execution_count": 14,
   "metadata": {
    "collapsed": true
   },
   "outputs": [],
   "source": [
    "df_0514_Q1AB[['Date_Day', 'Month', 'Year']] = df_0514_Q1AB['Date'].str.split(pat = '/', n=-1, expand=True)"
   ]
  },
  {
   "cell_type": "code",
   "execution_count": 15,
   "metadata": {
    "collapsed": true
   },
   "outputs": [],
   "source": [
    "df_1516_Q1AB[['Date_Day', 'Month', 'Year']] = df_1516_Q1AB['Date'].str.split(pat = '/', n=-1, expand=True)"
   ]
  },
  {
   "cell_type": "markdown",
   "metadata": {},
   "source": [
    "We will now sort our 6 datasets in ascending order according to the 'Year' Column."
   ]
  },
  {
   "cell_type": "code",
   "execution_count": 16,
   "metadata": {},
   "outputs": [
    {
     "data": {
      "text/html": [
       "<div>\n",
       "<style scoped>\n",
       "    .dataframe tbody tr th:only-of-type {\n",
       "        vertical-align: middle;\n",
       "    }\n",
       "\n",
       "    .dataframe tbody tr th {\n",
       "        vertical-align: top;\n",
       "    }\n",
       "\n",
       "    .dataframe thead th {\n",
       "        text-align: right;\n",
       "    }\n",
       "</style>\n",
       "<table border=\"1\" class=\"dataframe\">\n",
       "  <thead>\n",
       "    <tr style=\"text-align: right;\">\n",
       "      <th></th>\n",
       "      <th>Accident_Index</th>\n",
       "      <th>Accident_Severity</th>\n",
       "      <th>Number_of_Vehicles</th>\n",
       "      <th>Number_of_Casualties</th>\n",
       "      <th>Date</th>\n",
       "      <th>Day_of_Week</th>\n",
       "      <th>Time</th>\n",
       "      <th>Local_Authority_(District)</th>\n",
       "      <th>Light_Conditions</th>\n",
       "      <th>Weather_Conditions</th>\n",
       "      <th>Road_Surface_Conditions</th>\n",
       "      <th>Vehicle_Type</th>\n",
       "      <th>Sex_of_Driver</th>\n",
       "      <th>Age_Band_of_Driver</th>\n",
       "      <th>Date_Day</th>\n",
       "      <th>Month</th>\n",
       "      <th>Year</th>\n",
       "    </tr>\n",
       "  </thead>\n",
       "  <tbody>\n",
       "    <tr>\n",
       "      <th>85587</th>\n",
       "      <td>197903A102220</td>\n",
       "      <td>serious</td>\n",
       "      <td>2</td>\n",
       "      <td>2</td>\n",
       "      <td>07/04/1979</td>\n",
       "      <td>sunday</td>\n",
       "      <td>12:30</td>\n",
       "      <td>63</td>\n",
       "      <td>daylight</td>\n",
       "      <td>fine no high winds</td>\n",
       "      <td>wet or damp</td>\n",
       "      <td>bus or coach</td>\n",
       "      <td>male</td>\n",
       "      <td>26 - 35</td>\n",
       "      <td>07</td>\n",
       "      <td>04</td>\n",
       "      <td>1979</td>\n",
       "    </tr>\n",
       "    <tr>\n",
       "      <th>85588</th>\n",
       "      <td>197903A102220</td>\n",
       "      <td>serious</td>\n",
       "      <td>2</td>\n",
       "      <td>2</td>\n",
       "      <td>07/04/1979</td>\n",
       "      <td>sunday</td>\n",
       "      <td>12:30</td>\n",
       "      <td>63</td>\n",
       "      <td>daylight</td>\n",
       "      <td>fine no high winds</td>\n",
       "      <td>wet or damp</td>\n",
       "      <td>car</td>\n",
       "      <td>male</td>\n",
       "      <td>46 - 55</td>\n",
       "      <td>07</td>\n",
       "      <td>04</td>\n",
       "      <td>1979</td>\n",
       "    </tr>\n",
       "  </tbody>\n",
       "</table>\n",
       "</div>"
      ],
      "text/plain": [
       "      Accident_Index Accident_Severity  Number_of_Vehicles  \\\n",
       "85587  197903A102220           serious                   2   \n",
       "85588  197903A102220           serious                   2   \n",
       "\n",
       "       Number_of_Casualties        Date Day_of_Week   Time  \\\n",
       "85587                     2  07/04/1979      sunday  12:30   \n",
       "85588                     2  07/04/1979      sunday  12:30   \n",
       "\n",
       "       Local_Authority_(District) Light_Conditions  Weather_Conditions  \\\n",
       "85587                          63         daylight  fine no high winds   \n",
       "85588                          63         daylight  fine no high winds   \n",
       "\n",
       "      Road_Surface_Conditions  Vehicle_Type Sex_of_Driver Age_Band_of_Driver  \\\n",
       "85587             wet or damp  bus or coach          male            26 - 35   \n",
       "85588             wet or damp           car          male            46 - 55   \n",
       "\n",
       "      Date_Day Month  Year  \n",
       "85587       07    04  1979  \n",
       "85588       07    04  1979  "
      ]
     },
     "execution_count": 16,
     "metadata": {},
     "output_type": "execute_result"
    }
   ],
   "source": [
    "df_7904a_Q1AB.sort_values('Year')\n",
    "df_7904a_Q1AB.head(2) #print the first 2 lines of our sorted dataset, to see the first date recorded."
   ]
  },
  {
   "cell_type": "code",
   "execution_count": 17,
   "metadata": {},
   "outputs": [
    {
     "data": {
      "text/html": [
       "<div>\n",
       "<style scoped>\n",
       "    .dataframe tbody tr th:only-of-type {\n",
       "        vertical-align: middle;\n",
       "    }\n",
       "\n",
       "    .dataframe tbody tr th {\n",
       "        vertical-align: top;\n",
       "    }\n",
       "\n",
       "    .dataframe thead th {\n",
       "        text-align: right;\n",
       "    }\n",
       "</style>\n",
       "<table border=\"1\" class=\"dataframe\">\n",
       "  <thead>\n",
       "    <tr style=\"text-align: right;\">\n",
       "      <th></th>\n",
       "      <th>Accident_Index</th>\n",
       "      <th>Accident_Severity</th>\n",
       "      <th>Number_of_Vehicles</th>\n",
       "      <th>Number_of_Casualties</th>\n",
       "      <th>Date</th>\n",
       "      <th>Day_of_Week</th>\n",
       "      <th>Time</th>\n",
       "      <th>Local_Authority_(District)</th>\n",
       "      <th>Light_Conditions</th>\n",
       "      <th>Weather_Conditions</th>\n",
       "      <th>Road_Surface_Conditions</th>\n",
       "      <th>Vehicle_Type</th>\n",
       "      <th>Sex_of_Driver</th>\n",
       "      <th>Age_Band_of_Driver</th>\n",
       "      <th>Date_Day</th>\n",
       "      <th>Month</th>\n",
       "      <th>Year</th>\n",
       "    </tr>\n",
       "  </thead>\n",
       "  <tbody>\n",
       "    <tr>\n",
       "      <th>3000004</th>\n",
       "      <td>198601TD00758</td>\n",
       "      <td>slight</td>\n",
       "      <td>2</td>\n",
       "      <td>1</td>\n",
       "      <td>07/08/1986</td>\n",
       "      <td>friday</td>\n",
       "      <td>13:30</td>\n",
       "      <td>25</td>\n",
       "      <td>daylight</td>\n",
       "      <td>fine no high winds</td>\n",
       "      <td>dry</td>\n",
       "      <td>car</td>\n",
       "      <td>female</td>\n",
       "      <td>16 - 20</td>\n",
       "      <td>07</td>\n",
       "      <td>08</td>\n",
       "      <td>1986</td>\n",
       "    </tr>\n",
       "    <tr>\n",
       "      <th>3000005</th>\n",
       "      <td>198601TD00758</td>\n",
       "      <td>slight</td>\n",
       "      <td>2</td>\n",
       "      <td>1</td>\n",
       "      <td>07/08/1986</td>\n",
       "      <td>friday</td>\n",
       "      <td>13:30</td>\n",
       "      <td>25</td>\n",
       "      <td>daylight</td>\n",
       "      <td>fine no high winds</td>\n",
       "      <td>dry</td>\n",
       "      <td>car</td>\n",
       "      <td>female</td>\n",
       "      <td>26 - 35</td>\n",
       "      <td>07</td>\n",
       "      <td>08</td>\n",
       "      <td>1986</td>\n",
       "    </tr>\n",
       "  </tbody>\n",
       "</table>\n",
       "</div>"
      ],
      "text/plain": [
       "        Accident_Index Accident_Severity  Number_of_Vehicles  \\\n",
       "3000004  198601TD00758            slight                   2   \n",
       "3000005  198601TD00758            slight                   2   \n",
       "\n",
       "         Number_of_Casualties        Date Day_of_Week   Time  \\\n",
       "3000004                     1  07/08/1986      friday  13:30   \n",
       "3000005                     1  07/08/1986      friday  13:30   \n",
       "\n",
       "         Local_Authority_(District) Light_Conditions  Weather_Conditions  \\\n",
       "3000004                          25         daylight  fine no high winds   \n",
       "3000005                          25         daylight  fine no high winds   \n",
       "\n",
       "        Road_Surface_Conditions Vehicle_Type Sex_of_Driver Age_Band_of_Driver  \\\n",
       "3000004                     dry          car        female            16 - 20   \n",
       "3000005                     dry          car        female            26 - 35   \n",
       "\n",
       "        Date_Day Month  Year  \n",
       "3000004       07    08  1986  \n",
       "3000005       07    08  1986  "
      ]
     },
     "execution_count": 17,
     "metadata": {},
     "output_type": "execute_result"
    }
   ],
   "source": [
    "df_7904b_Q1AB.sort_values('Year')\n",
    "df_7904b_Q1AB.head(2)"
   ]
  },
  {
   "cell_type": "code",
   "execution_count": 18,
   "metadata": {},
   "outputs": [
    {
     "data": {
      "text/html": [
       "<div>\n",
       "<style scoped>\n",
       "    .dataframe tbody tr th:only-of-type {\n",
       "        vertical-align: middle;\n",
       "    }\n",
       "\n",
       "    .dataframe tbody tr th {\n",
       "        vertical-align: top;\n",
       "    }\n",
       "\n",
       "    .dataframe thead th {\n",
       "        text-align: right;\n",
       "    }\n",
       "</style>\n",
       "<table border=\"1\" class=\"dataframe\">\n",
       "  <thead>\n",
       "    <tr style=\"text-align: right;\">\n",
       "      <th></th>\n",
       "      <th>Accident_Index</th>\n",
       "      <th>Accident_Severity</th>\n",
       "      <th>Number_of_Vehicles</th>\n",
       "      <th>Number_of_Casualties</th>\n",
       "      <th>Date</th>\n",
       "      <th>Day_of_Week</th>\n",
       "      <th>Time</th>\n",
       "      <th>Local_Authority_(District)</th>\n",
       "      <th>Light_Conditions</th>\n",
       "      <th>Weather_Conditions</th>\n",
       "      <th>Road_Surface_Conditions</th>\n",
       "      <th>Vehicle_Type</th>\n",
       "      <th>Sex_of_Driver</th>\n",
       "      <th>Age_Band_of_Driver</th>\n",
       "      <th>Date_Day</th>\n",
       "      <th>Month</th>\n",
       "      <th>Year</th>\n",
       "    </tr>\n",
       "  </thead>\n",
       "  <tbody>\n",
       "    <tr>\n",
       "      <th>6000001</th>\n",
       "      <td>199301NI00616</td>\n",
       "      <td>slight</td>\n",
       "      <td>2</td>\n",
       "      <td>1</td>\n",
       "      <td>20/10/1993</td>\n",
       "      <td>thursday</td>\n",
       "      <td>11:25</td>\n",
       "      <td>3</td>\n",
       "      <td>daylight</td>\n",
       "      <td>fine no high winds</td>\n",
       "      <td>dry</td>\n",
       "      <td>car</td>\n",
       "      <td>male</td>\n",
       "      <td>26 - 35</td>\n",
       "      <td>20</td>\n",
       "      <td>10</td>\n",
       "      <td>1993</td>\n",
       "    </tr>\n",
       "    <tr>\n",
       "      <th>6000002</th>\n",
       "      <td>199301NI00617</td>\n",
       "      <td>slight</td>\n",
       "      <td>2</td>\n",
       "      <td>1</td>\n",
       "      <td>15/11/1993</td>\n",
       "      <td>tuesday</td>\n",
       "      <td>15:43</td>\n",
       "      <td>3</td>\n",
       "      <td>daylight</td>\n",
       "      <td>fine no high winds</td>\n",
       "      <td>dry</td>\n",
       "      <td>van / goods 3.5 tonnes mgw or under</td>\n",
       "      <td>male</td>\n",
       "      <td>36 - 45</td>\n",
       "      <td>15</td>\n",
       "      <td>11</td>\n",
       "      <td>1993</td>\n",
       "    </tr>\n",
       "  </tbody>\n",
       "</table>\n",
       "</div>"
      ],
      "text/plain": [
       "        Accident_Index Accident_Severity  Number_of_Vehicles  \\\n",
       "6000001  199301NI00616            slight                   2   \n",
       "6000002  199301NI00617            slight                   2   \n",
       "\n",
       "         Number_of_Casualties        Date Day_of_Week   Time  \\\n",
       "6000001                     1  20/10/1993    thursday  11:25   \n",
       "6000002                     1  15/11/1993     tuesday  15:43   \n",
       "\n",
       "         Local_Authority_(District) Light_Conditions  Weather_Conditions  \\\n",
       "6000001                           3         daylight  fine no high winds   \n",
       "6000002                           3         daylight  fine no high winds   \n",
       "\n",
       "        Road_Surface_Conditions                         Vehicle_Type  \\\n",
       "6000001                     dry                                  car   \n",
       "6000002                     dry  van / goods 3.5 tonnes mgw or under   \n",
       "\n",
       "        Sex_of_Driver Age_Band_of_Driver Date_Day Month  Year  \n",
       "6000001          male            26 - 35       20    10  1993  \n",
       "6000002          male            36 - 45       15    11  1993  "
      ]
     },
     "execution_count": 18,
     "metadata": {},
     "output_type": "execute_result"
    }
   ],
   "source": [
    "df_7904c_Q1AB.sort_values('Year')\n",
    "df_7904c_Q1AB.head(2)"
   ]
  },
  {
   "cell_type": "code",
   "execution_count": 19,
   "metadata": {},
   "outputs": [
    {
     "data": {
      "text/html": [
       "<div>\n",
       "<style scoped>\n",
       "    .dataframe tbody tr th:only-of-type {\n",
       "        vertical-align: middle;\n",
       "    }\n",
       "\n",
       "    .dataframe tbody tr th {\n",
       "        vertical-align: top;\n",
       "    }\n",
       "\n",
       "    .dataframe thead th {\n",
       "        text-align: right;\n",
       "    }\n",
       "</style>\n",
       "<table border=\"1\" class=\"dataframe\">\n",
       "  <thead>\n",
       "    <tr style=\"text-align: right;\">\n",
       "      <th></th>\n",
       "      <th>Accident_Index</th>\n",
       "      <th>Accident_Severity</th>\n",
       "      <th>Number_of_Vehicles</th>\n",
       "      <th>Number_of_Casualties</th>\n",
       "      <th>Date</th>\n",
       "      <th>Day_of_Week</th>\n",
       "      <th>Time</th>\n",
       "      <th>Local_Authority_(District)</th>\n",
       "      <th>Light_Conditions</th>\n",
       "      <th>Weather_Conditions</th>\n",
       "      <th>Road_Surface_Conditions</th>\n",
       "      <th>Vehicle_Type</th>\n",
       "      <th>Sex_of_Driver</th>\n",
       "      <th>Age_Band_of_Driver</th>\n",
       "      <th>Date_Day</th>\n",
       "      <th>Month</th>\n",
       "      <th>Year</th>\n",
       "    </tr>\n",
       "  </thead>\n",
       "  <tbody>\n",
       "    <tr>\n",
       "      <th>9000001</th>\n",
       "      <td>200001TX00967</td>\n",
       "      <td>slight</td>\n",
       "      <td>3</td>\n",
       "      <td>2</td>\n",
       "      <td>11/09/2000</td>\n",
       "      <td>tuesday</td>\n",
       "      <td>06:47</td>\n",
       "      <td>25</td>\n",
       "      <td>daylight</td>\n",
       "      <td>fine no high winds</td>\n",
       "      <td>dry</td>\n",
       "      <td>van / goods 3.5 tonnes mgw or under</td>\n",
       "      <td>male</td>\n",
       "      <td>26 - 35</td>\n",
       "      <td>11</td>\n",
       "      <td>09</td>\n",
       "      <td>2000</td>\n",
       "    </tr>\n",
       "    <tr>\n",
       "      <th>9000002</th>\n",
       "      <td>200001TX00967</td>\n",
       "      <td>slight</td>\n",
       "      <td>3</td>\n",
       "      <td>2</td>\n",
       "      <td>11/09/2000</td>\n",
       "      <td>tuesday</td>\n",
       "      <td>06:47</td>\n",
       "      <td>25</td>\n",
       "      <td>daylight</td>\n",
       "      <td>fine no high winds</td>\n",
       "      <td>dry</td>\n",
       "      <td>car</td>\n",
       "      <td>male</td>\n",
       "      <td>26 - 35</td>\n",
       "      <td>11</td>\n",
       "      <td>09</td>\n",
       "      <td>2000</td>\n",
       "    </tr>\n",
       "  </tbody>\n",
       "</table>\n",
       "</div>"
      ],
      "text/plain": [
       "        Accident_Index Accident_Severity  Number_of_Vehicles  \\\n",
       "9000001  200001TX00967            slight                   3   \n",
       "9000002  200001TX00967            slight                   3   \n",
       "\n",
       "         Number_of_Casualties        Date Day_of_Week   Time  \\\n",
       "9000001                     2  11/09/2000     tuesday  06:47   \n",
       "9000002                     2  11/09/2000     tuesday  06:47   \n",
       "\n",
       "         Local_Authority_(District) Light_Conditions  Weather_Conditions  \\\n",
       "9000001                          25         daylight  fine no high winds   \n",
       "9000002                          25         daylight  fine no high winds   \n",
       "\n",
       "        Road_Surface_Conditions                         Vehicle_Type  \\\n",
       "9000001                     dry  van / goods 3.5 tonnes mgw or under   \n",
       "9000002                     dry                                  car   \n",
       "\n",
       "        Sex_of_Driver Age_Band_of_Driver Date_Day Month  Year  \n",
       "9000001          male            26 - 35       11    09  2000  \n",
       "9000002          male            26 - 35       11    09  2000  "
      ]
     },
     "execution_count": 19,
     "metadata": {},
     "output_type": "execute_result"
    }
   ],
   "source": [
    "df_7904d_Q1AB.sort_values('Year')\n",
    "df_7904d_Q1AB.head(2)"
   ]
  },
  {
   "cell_type": "code",
   "execution_count": 20,
   "metadata": {},
   "outputs": [
    {
     "data": {
      "text/html": [
       "<div>\n",
       "<style scoped>\n",
       "    .dataframe tbody tr th:only-of-type {\n",
       "        vertical-align: middle;\n",
       "    }\n",
       "\n",
       "    .dataframe tbody tr th {\n",
       "        vertical-align: top;\n",
       "    }\n",
       "\n",
       "    .dataframe thead th {\n",
       "        text-align: right;\n",
       "    }\n",
       "</style>\n",
       "<table border=\"1\" class=\"dataframe\">\n",
       "  <thead>\n",
       "    <tr style=\"text-align: right;\">\n",
       "      <th></th>\n",
       "      <th>Accident_Index</th>\n",
       "      <th>Accident_Severity</th>\n",
       "      <th>Number_of_Vehicles</th>\n",
       "      <th>Number_of_Casualties</th>\n",
       "      <th>Date</th>\n",
       "      <th>Day_of_Week</th>\n",
       "      <th>Time</th>\n",
       "      <th>Local_Authority_(District)</th>\n",
       "      <th>Light_Conditions</th>\n",
       "      <th>Weather_Conditions</th>\n",
       "      <th>Road_Surface_Conditions</th>\n",
       "      <th>Vehicle_Type</th>\n",
       "      <th>Sex_of_Driver</th>\n",
       "      <th>Age_Band_of_Driver</th>\n",
       "      <th>Date_Day</th>\n",
       "      <th>Month</th>\n",
       "      <th>Year</th>\n",
       "    </tr>\n",
       "  </thead>\n",
       "  <tbody>\n",
       "    <tr>\n",
       "      <th>0</th>\n",
       "      <td>200501BS00001</td>\n",
       "      <td>serious</td>\n",
       "      <td>1</td>\n",
       "      <td>1</td>\n",
       "      <td>04/01/2005</td>\n",
       "      <td>wednesday</td>\n",
       "      <td>17:42</td>\n",
       "      <td>12</td>\n",
       "      <td>daylight</td>\n",
       "      <td>raining no high winds</td>\n",
       "      <td>wet or damp</td>\n",
       "      <td>car</td>\n",
       "      <td>female</td>\n",
       "      <td>66 - 75</td>\n",
       "      <td>04</td>\n",
       "      <td>01</td>\n",
       "      <td>2005</td>\n",
       "    </tr>\n",
       "    <tr>\n",
       "      <th>1</th>\n",
       "      <td>200501BS00002</td>\n",
       "      <td>slight</td>\n",
       "      <td>1</td>\n",
       "      <td>1</td>\n",
       "      <td>05/01/2005</td>\n",
       "      <td>thursday</td>\n",
       "      <td>17:36</td>\n",
       "      <td>12</td>\n",
       "      <td>darkness - lights lit</td>\n",
       "      <td>fine no high winds</td>\n",
       "      <td>dry</td>\n",
       "      <td>bus or coach</td>\n",
       "      <td>male</td>\n",
       "      <td>36 - 45</td>\n",
       "      <td>05</td>\n",
       "      <td>01</td>\n",
       "      <td>2005</td>\n",
       "    </tr>\n",
       "  </tbody>\n",
       "</table>\n",
       "</div>"
      ],
      "text/plain": [
       "  Accident_Index Accident_Severity  Number_of_Vehicles  Number_of_Casualties  \\\n",
       "0  200501BS00001           serious                   1                     1   \n",
       "1  200501BS00002            slight                   1                     1   \n",
       "\n",
       "         Date Day_of_Week   Time  Local_Authority_(District)  \\\n",
       "0  04/01/2005   wednesday  17:42                          12   \n",
       "1  05/01/2005    thursday  17:36                          12   \n",
       "\n",
       "        Light_Conditions     Weather_Conditions Road_Surface_Conditions  \\\n",
       "0               daylight  raining no high winds             wet or damp   \n",
       "1  darkness - lights lit     fine no high winds                     dry   \n",
       "\n",
       "   Vehicle_Type Sex_of_Driver Age_Band_of_Driver Date_Day Month  Year  \n",
       "0           car        female            66 - 75       04    01  2005  \n",
       "1  bus or coach          male            36 - 45       05    01  2005  "
      ]
     },
     "execution_count": 20,
     "metadata": {},
     "output_type": "execute_result"
    }
   ],
   "source": [
    "df_0514_Q1AB.sort_values('Year')\n",
    "df_0514_Q1AB.head(2)"
   ]
  },
  {
   "cell_type": "code",
   "execution_count": 21,
   "metadata": {
    "scrolled": true
   },
   "outputs": [
    {
     "data": {
      "text/html": [
       "<div>\n",
       "<style scoped>\n",
       "    .dataframe tbody tr th:only-of-type {\n",
       "        vertical-align: middle;\n",
       "    }\n",
       "\n",
       "    .dataframe tbody tr th {\n",
       "        vertical-align: top;\n",
       "    }\n",
       "\n",
       "    .dataframe thead th {\n",
       "        text-align: right;\n",
       "    }\n",
       "</style>\n",
       "<table border=\"1\" class=\"dataframe\">\n",
       "  <thead>\n",
       "    <tr style=\"text-align: right;\">\n",
       "      <th></th>\n",
       "      <th>Accident_Index</th>\n",
       "      <th>Accident_Severity</th>\n",
       "      <th>Number_of_Vehicles</th>\n",
       "      <th>Number_of_Casualties</th>\n",
       "      <th>Date</th>\n",
       "      <th>Day_of_Week</th>\n",
       "      <th>Time</th>\n",
       "      <th>Local_Authority_(District)</th>\n",
       "      <th>Light_Conditions</th>\n",
       "      <th>Weather_Conditions</th>\n",
       "      <th>Road_Surface_Conditions</th>\n",
       "      <th>Vehicle_Type</th>\n",
       "      <th>Sex_of_Driver</th>\n",
       "      <th>Age_Band_of_Driver</th>\n",
       "      <th>Date_Day</th>\n",
       "      <th>Month</th>\n",
       "      <th>Year</th>\n",
       "    </tr>\n",
       "  </thead>\n",
       "  <tbody>\n",
       "    <tr>\n",
       "      <th>479546</th>\n",
       "      <td>2016984131316</td>\n",
       "      <td>slight</td>\n",
       "      <td>1</td>\n",
       "      <td>3</td>\n",
       "      <td>29/10/2016</td>\n",
       "      <td>sunday</td>\n",
       "      <td>20:00</td>\n",
       "      <td>917</td>\n",
       "      <td>darkness - lights lit</td>\n",
       "      <td>fine no high winds</td>\n",
       "      <td>dry</td>\n",
       "      <td>car</td>\n",
       "      <td>male</td>\n",
       "      <td>16 - 20</td>\n",
       "      <td>29</td>\n",
       "      <td>10</td>\n",
       "      <td>2016</td>\n",
       "    </tr>\n",
       "    <tr>\n",
       "      <th>479547</th>\n",
       "      <td>2016984133416</td>\n",
       "      <td>slight</td>\n",
       "      <td>1</td>\n",
       "      <td>2</td>\n",
       "      <td>25/12/2016</td>\n",
       "      <td>monday</td>\n",
       "      <td>12:30</td>\n",
       "      <td>917</td>\n",
       "      <td>daylight</td>\n",
       "      <td>raining + high winds</td>\n",
       "      <td>wet or damp</td>\n",
       "      <td>car</td>\n",
       "      <td>male</td>\n",
       "      <td>46 - 55</td>\n",
       "      <td>25</td>\n",
       "      <td>12</td>\n",
       "      <td>2016</td>\n",
       "    </tr>\n",
       "  </tbody>\n",
       "</table>\n",
       "</div>"
      ],
      "text/plain": [
       "       Accident_Index Accident_Severity  Number_of_Vehicles  \\\n",
       "479546  2016984131316            slight                   1   \n",
       "479547  2016984133416            slight                   1   \n",
       "\n",
       "        Number_of_Casualties        Date Day_of_Week   Time  \\\n",
       "479546                     3  29/10/2016      sunday  20:00   \n",
       "479547                     2  25/12/2016      monday  12:30   \n",
       "\n",
       "        Local_Authority_(District)       Light_Conditions  \\\n",
       "479546                         917  darkness - lights lit   \n",
       "479547                         917               daylight   \n",
       "\n",
       "          Weather_Conditions Road_Surface_Conditions Vehicle_Type  \\\n",
       "479546    fine no high winds                     dry          car   \n",
       "479547  raining + high winds             wet or damp          car   \n",
       "\n",
       "       Sex_of_Driver Age_Band_of_Driver Date_Day Month  Year  \n",
       "479546          male            16 - 20       29    10  2016  \n",
       "479547          male            46 - 55       25    12  2016  "
      ]
     },
     "execution_count": 21,
     "metadata": {},
     "output_type": "execute_result"
    }
   ],
   "source": [
    "df_1516_Q1AB.sort_values('Year')\n",
    "df_1516_Q1AB.tail(2) #print the last 2 lines of our sorted dataset, to see the most recent date recorded."
   ]
  },
  {
   "cell_type": "markdown",
   "metadata": {},
   "source": [
    "### _Analysis_\n",
    "\n",
    "From above, we can see that our final datasets for Question One parts (A) and (B) contain data from 1979 to 2016.\n",
    "\n",
    "## 2.2\n",
    "## Creating new Datasets\n",
    "\n",
    "Now that we have our final 6 datasets fully prepared and sorted for question 1 (A) and (B), we will concatenate our 6 datasets so that we can reduce the number of datasets we will need to perform our analysis on to answer our research question one (A) and (B).\n",
    "\n",
    "We will do this by creating five datasets (reduced from eight), each with around 3 million rows (as this sized dataset can be easily managed by our processors). \n",
    "\n",
    "In order to create these datasets, we will first need to break them up into smaller subsets, however we will ensure that the accidents recorded in each final dataset will consist of accidents in ascending years. "
   ]
  },
  {
   "cell_type": "code",
   "execution_count": 22,
   "metadata": {},
   "outputs": [
    {
     "data": {
      "text/plain": [
       "(3011743, 17)"
      ]
     },
     "execution_count": 22,
     "metadata": {},
     "output_type": "execute_result"
    }
   ],
   "source": [
    "a_7904b_Q1AB = df_7904b_Q1AB[:600000] #create a new dataset containing only the first 600000 rows of the original\n",
    "df_7904a_Q1AB = pd.concat([df_7904a_Q1AB,a_7904b_Q1AB]) #concatenate datasets \n",
    "df_7904a_Q1AB.shape"
   ]
  },
  {
   "cell_type": "code",
   "execution_count": 23,
   "metadata": {},
   "outputs": [
    {
     "data": {
      "text/plain": [
       "(3021931, 17)"
      ]
     },
     "execution_count": 23,
     "metadata": {},
     "output_type": "execute_result"
    }
   ],
   "source": [
    "b_7904b_Q1AB = df_7904b_Q1AB[600000:] #create a new dataset consisting of rows from 600000 to the end of the original dataframe\n",
    "a_7904c_Q1AB = df_7904c_Q1AB[:1000000] #create a new dataset consisting of the first 1000000 rows from the original\n",
    "df_7904b_Q1AB = pd.concat([b_7904b_Q1AB,a_7904c_Q1AB]) #concatenate both dataframes\n",
    "df_7904b_Q1AB.shape"
   ]
  },
  {
   "cell_type": "code",
   "execution_count": 24,
   "metadata": {},
   "outputs": [
    {
     "data": {
      "text/plain": [
       "(3420640, 17)"
      ]
     },
     "execution_count": 24,
     "metadata": {},
     "output_type": "execute_result"
    }
   ],
   "source": [
    "b_7904c_Q1AB = df_7904c_Q1AB[1000000:] #create a new dataset containing rows from 1,000,000 upwards from original dataset\n",
    "df_7904c_Q1AB = pd.concat([b_7904c_Q1AB,df_7904d_Q1AB]) #concatenate datasets\n",
    "df_7904c_Q1AB.shape"
   ]
  },
  {
   "cell_type": "code",
   "execution_count": 25,
   "metadata": {},
   "outputs": [
    {
     "data": {
      "text/plain": [
       "(3010896, 17)"
      ]
     },
     "execution_count": 25,
     "metadata": {},
     "output_type": "execute_result"
    }
   ],
   "source": [
    "df_0516_Q1AB = pd.concat([df_0514_Q1AB,df_1516_Q1AB]) #concatenating datasets\n",
    "df_0516_Q1AB.shape"
   ]
  },
  {
   "cell_type": "markdown",
   "metadata": {},
   "source": [
    "## 2.3\n",
    "## Check for Null Values\n",
    "\n",
    "Ensure our Final Datasets do not contain null values"
   ]
  },
  {
   "cell_type": "code",
   "execution_count": 26,
   "metadata": {},
   "outputs": [
    {
     "data": {
      "text/plain": [
       "Accident_Index                0\n",
       "Accident_Severity             0\n",
       "Number_of_Vehicles            0\n",
       "Number_of_Casualties          0\n",
       "Date                          0\n",
       "Day_of_Week                   0\n",
       "Time                          0\n",
       "Local_Authority_(District)    0\n",
       "Light_Conditions              0\n",
       "Weather_Conditions            0\n",
       "Road_Surface_Conditions       0\n",
       "Vehicle_Type                  0\n",
       "Sex_of_Driver                 0\n",
       "Age_Band_of_Driver            0\n",
       "Date_Day                      0\n",
       "Month                         0\n",
       "Year                          0\n",
       "dtype: int64"
      ]
     },
     "execution_count": 26,
     "metadata": {},
     "output_type": "execute_result"
    }
   ],
   "source": [
    "df_7904a_Q1AB.isnull().sum()"
   ]
  },
  {
   "cell_type": "code",
   "execution_count": 27,
   "metadata": {},
   "outputs": [
    {
     "data": {
      "text/plain": [
       "Accident_Index                0\n",
       "Accident_Severity             0\n",
       "Number_of_Vehicles            0\n",
       "Number_of_Casualties          0\n",
       "Date                          0\n",
       "Day_of_Week                   0\n",
       "Time                          0\n",
       "Local_Authority_(District)    0\n",
       "Light_Conditions              0\n",
       "Weather_Conditions            0\n",
       "Road_Surface_Conditions       0\n",
       "Vehicle_Type                  0\n",
       "Sex_of_Driver                 0\n",
       "Age_Band_of_Driver            0\n",
       "Date_Day                      0\n",
       "Month                         0\n",
       "Year                          0\n",
       "dtype: int64"
      ]
     },
     "execution_count": 27,
     "metadata": {},
     "output_type": "execute_result"
    }
   ],
   "source": [
    "df_7904b_Q1AB.isnull().sum()"
   ]
  },
  {
   "cell_type": "code",
   "execution_count": 28,
   "metadata": {},
   "outputs": [
    {
     "data": {
      "text/plain": [
       "Accident_Index                0\n",
       "Accident_Severity             0\n",
       "Number_of_Vehicles            0\n",
       "Number_of_Casualties          0\n",
       "Date                          0\n",
       "Day_of_Week                   0\n",
       "Time                          0\n",
       "Local_Authority_(District)    0\n",
       "Light_Conditions              0\n",
       "Weather_Conditions            0\n",
       "Road_Surface_Conditions       0\n",
       "Vehicle_Type                  0\n",
       "Sex_of_Driver                 0\n",
       "Age_Band_of_Driver            0\n",
       "Date_Day                      0\n",
       "Month                         0\n",
       "Year                          0\n",
       "dtype: int64"
      ]
     },
     "execution_count": 28,
     "metadata": {},
     "output_type": "execute_result"
    }
   ],
   "source": [
    "df_7904c_Q1AB.isnull().sum()"
   ]
  },
  {
   "cell_type": "code",
   "execution_count": 29,
   "metadata": {},
   "outputs": [
    {
     "data": {
      "text/plain": [
       "Accident_Index                0\n",
       "Accident_Severity             0\n",
       "Number_of_Vehicles            0\n",
       "Number_of_Casualties          0\n",
       "Date                          0\n",
       "Day_of_Week                   0\n",
       "Time                          0\n",
       "Local_Authority_(District)    0\n",
       "Light_Conditions              0\n",
       "Weather_Conditions            0\n",
       "Road_Surface_Conditions       0\n",
       "Vehicle_Type                  0\n",
       "Sex_of_Driver                 0\n",
       "Age_Band_of_Driver            0\n",
       "Date_Day                      0\n",
       "Month                         0\n",
       "Year                          0\n",
       "dtype: int64"
      ]
     },
     "execution_count": 29,
     "metadata": {},
     "output_type": "execute_result"
    }
   ],
   "source": [
    "df_0516_Q1AB.isnull().sum()"
   ]
  },
  {
   "cell_type": "markdown",
   "metadata": {},
   "source": [
    "From above, we can see that our final 4 datasets for Question 1 parts (A) and (B) contain no Null Values.\n",
    "\n",
    "## 3.\n",
    "\n",
    "# Question One: (C)\n",
    "\n",
    "\n",
    "## 3.1\n",
    "\n",
    "## _Sort by Year_\n",
    "\n",
    "As we did above, we will split our 'Date' column up into three separate columns so that we can sort our dataset by year, using the str.split method."
   ]
  },
  {
   "cell_type": "code",
   "execution_count": 30,
   "metadata": {
    "collapsed": true
   },
   "outputs": [],
   "source": [
    "df_0514_Q1C[['Date_Day', 'Month', 'Year']] = df_0514_Q1C['Date'].str.split(pat = '/', n=-1, expand=True)"
   ]
  },
  {
   "cell_type": "markdown",
   "metadata": {},
   "source": [
    "We will again sort this dataset by the Year column and take a look at the years which are present in the dataset"
   ]
  },
  {
   "cell_type": "code",
   "execution_count": 31,
   "metadata": {},
   "outputs": [
    {
     "data": {
      "text/html": [
       "<div>\n",
       "<style scoped>\n",
       "    .dataframe tbody tr th:only-of-type {\n",
       "        vertical-align: middle;\n",
       "    }\n",
       "\n",
       "    .dataframe tbody tr th {\n",
       "        vertical-align: top;\n",
       "    }\n",
       "\n",
       "    .dataframe thead th {\n",
       "        text-align: right;\n",
       "    }\n",
       "</style>\n",
       "<table border=\"1\" class=\"dataframe\">\n",
       "  <thead>\n",
       "    <tr style=\"text-align: right;\">\n",
       "      <th></th>\n",
       "      <th>Accident_Index</th>\n",
       "      <th>Accident_Severity</th>\n",
       "      <th>Number_of_Vehicles</th>\n",
       "      <th>Number_of_Casualties</th>\n",
       "      <th>Date</th>\n",
       "      <th>Day_of_Week</th>\n",
       "      <th>Time</th>\n",
       "      <th>Local_Authority_(District)</th>\n",
       "      <th>Light_Conditions</th>\n",
       "      <th>Weather_Conditions</th>\n",
       "      <th>Road_Surface_Conditions</th>\n",
       "      <th>Vehicle_Type</th>\n",
       "      <th>Sex_of_Driver</th>\n",
       "      <th>Age_Band_of_Driver</th>\n",
       "      <th>Journey_Purpose_of_Driver</th>\n",
       "      <th>Date_Day</th>\n",
       "      <th>Month</th>\n",
       "      <th>Year</th>\n",
       "    </tr>\n",
       "  </thead>\n",
       "  <tbody>\n",
       "    <tr>\n",
       "      <th>1</th>\n",
       "      <td>200501BS00002</td>\n",
       "      <td>slight</td>\n",
       "      <td>1</td>\n",
       "      <td>1</td>\n",
       "      <td>05/01/2005</td>\n",
       "      <td>thursday</td>\n",
       "      <td>17:36</td>\n",
       "      <td>12</td>\n",
       "      <td>darkness - lights lit</td>\n",
       "      <td>fine no high winds</td>\n",
       "      <td>dry</td>\n",
       "      <td>bus or coach</td>\n",
       "      <td>male</td>\n",
       "      <td>36 - 45</td>\n",
       "      <td>occupational</td>\n",
       "      <td>05</td>\n",
       "      <td>01</td>\n",
       "      <td>2005</td>\n",
       "    </tr>\n",
       "    <tr>\n",
       "      <th>2</th>\n",
       "      <td>200501BS00003</td>\n",
       "      <td>slight</td>\n",
       "      <td>2</td>\n",
       "      <td>1</td>\n",
       "      <td>06/01/2005</td>\n",
       "      <td>friday</td>\n",
       "      <td>00:15</td>\n",
       "      <td>12</td>\n",
       "      <td>darkness - lights lit</td>\n",
       "      <td>fine no high winds</td>\n",
       "      <td>dry</td>\n",
       "      <td>bus or coach</td>\n",
       "      <td>male</td>\n",
       "      <td>26 - 35</td>\n",
       "      <td>occupational</td>\n",
       "      <td>06</td>\n",
       "      <td>01</td>\n",
       "      <td>2005</td>\n",
       "    </tr>\n",
       "  </tbody>\n",
       "</table>\n",
       "</div>"
      ],
      "text/plain": [
       "  Accident_Index Accident_Severity  Number_of_Vehicles  Number_of_Casualties  \\\n",
       "1  200501BS00002            slight                   1                     1   \n",
       "2  200501BS00003            slight                   2                     1   \n",
       "\n",
       "         Date Day_of_Week   Time  Local_Authority_(District)  \\\n",
       "1  05/01/2005    thursday  17:36                          12   \n",
       "2  06/01/2005      friday  00:15                          12   \n",
       "\n",
       "        Light_Conditions  Weather_Conditions Road_Surface_Conditions  \\\n",
       "1  darkness - lights lit  fine no high winds                     dry   \n",
       "2  darkness - lights lit  fine no high winds                     dry   \n",
       "\n",
       "   Vehicle_Type Sex_of_Driver Age_Band_of_Driver Journey_Purpose_of_Driver  \\\n",
       "1  bus or coach          male            36 - 45              occupational   \n",
       "2  bus or coach          male            26 - 35              occupational   \n",
       "\n",
       "  Date_Day Month  Year  \n",
       "1       05    01  2005  \n",
       "2       06    01  2005  "
      ]
     },
     "execution_count": 31,
     "metadata": {},
     "output_type": "execute_result"
    }
   ],
   "source": [
    "df_0514_Q1C.sort_values('Year')\n",
    "df_0514_Q1C.head(2) #display first years recorded"
   ]
  },
  {
   "cell_type": "code",
   "execution_count": 32,
   "metadata": {},
   "outputs": [
    {
     "data": {
      "text/html": [
       "<div>\n",
       "<style scoped>\n",
       "    .dataframe tbody tr th:only-of-type {\n",
       "        vertical-align: middle;\n",
       "    }\n",
       "\n",
       "    .dataframe tbody tr th {\n",
       "        vertical-align: top;\n",
       "    }\n",
       "\n",
       "    .dataframe thead th {\n",
       "        text-align: right;\n",
       "    }\n",
       "</style>\n",
       "<table border=\"1\" class=\"dataframe\">\n",
       "  <thead>\n",
       "    <tr style=\"text-align: right;\">\n",
       "      <th></th>\n",
       "      <th>Accident_Index</th>\n",
       "      <th>Accident_Severity</th>\n",
       "      <th>Number_of_Vehicles</th>\n",
       "      <th>Number_of_Casualties</th>\n",
       "      <th>Date</th>\n",
       "      <th>Day_of_Week</th>\n",
       "      <th>Time</th>\n",
       "      <th>Local_Authority_(District)</th>\n",
       "      <th>Light_Conditions</th>\n",
       "      <th>Weather_Conditions</th>\n",
       "      <th>Road_Surface_Conditions</th>\n",
       "      <th>Vehicle_Type</th>\n",
       "      <th>Sex_of_Driver</th>\n",
       "      <th>Age_Band_of_Driver</th>\n",
       "      <th>Journey_Purpose_of_Driver</th>\n",
       "      <th>Date_Day</th>\n",
       "      <th>Month</th>\n",
       "      <th>Year</th>\n",
       "    </tr>\n",
       "  </thead>\n",
       "  <tbody>\n",
       "    <tr>\n",
       "      <th>3004421</th>\n",
       "      <td>2014984138414</td>\n",
       "      <td>serious</td>\n",
       "      <td>3</td>\n",
       "      <td>2</td>\n",
       "      <td>17/12/2014</td>\n",
       "      <td>thursday</td>\n",
       "      <td>06:55</td>\n",
       "      <td>917</td>\n",
       "      <td>darkness - no lighting</td>\n",
       "      <td>raining no high winds</td>\n",
       "      <td>wet or damp</td>\n",
       "      <td>van / goods 3.5 tonnes mgw or under</td>\n",
       "      <td>male</td>\n",
       "      <td>36 - 45</td>\n",
       "      <td>commuting to/from work</td>\n",
       "      <td>17</td>\n",
       "      <td>12</td>\n",
       "      <td>2014</td>\n",
       "    </tr>\n",
       "    <tr>\n",
       "      <th>3004423</th>\n",
       "      <td>2014984139614</td>\n",
       "      <td>slight</td>\n",
       "      <td>2</td>\n",
       "      <td>2</td>\n",
       "      <td>24/12/2014</td>\n",
       "      <td>thursday</td>\n",
       "      <td>15:00</td>\n",
       "      <td>917</td>\n",
       "      <td>daylight</td>\n",
       "      <td>fine no high winds</td>\n",
       "      <td>wet or damp</td>\n",
       "      <td>bus or coach</td>\n",
       "      <td>male</td>\n",
       "      <td>36 - 45</td>\n",
       "      <td>occupational</td>\n",
       "      <td>24</td>\n",
       "      <td>12</td>\n",
       "      <td>2014</td>\n",
       "    </tr>\n",
       "  </tbody>\n",
       "</table>\n",
       "</div>"
      ],
      "text/plain": [
       "        Accident_Index Accident_Severity  Number_of_Vehicles  \\\n",
       "3004421  2014984138414           serious                   3   \n",
       "3004423  2014984139614            slight                   2   \n",
       "\n",
       "         Number_of_Casualties        Date Day_of_Week   Time  \\\n",
       "3004421                     2  17/12/2014    thursday  06:55   \n",
       "3004423                     2  24/12/2014    thursday  15:00   \n",
       "\n",
       "         Local_Authority_(District)        Light_Conditions  \\\n",
       "3004421                         917  darkness - no lighting   \n",
       "3004423                         917                daylight   \n",
       "\n",
       "            Weather_Conditions Road_Surface_Conditions  \\\n",
       "3004421  raining no high winds             wet or damp   \n",
       "3004423     fine no high winds             wet or damp   \n",
       "\n",
       "                                Vehicle_Type Sex_of_Driver Age_Band_of_Driver  \\\n",
       "3004421  van / goods 3.5 tonnes mgw or under          male            36 - 45   \n",
       "3004423                         bus or coach          male            36 - 45   \n",
       "\n",
       "        Journey_Purpose_of_Driver Date_Day Month  Year  \n",
       "3004421    commuting to/from work       17    12  2014  \n",
       "3004423              occupational       24    12  2014  "
      ]
     },
     "execution_count": 32,
     "metadata": {},
     "output_type": "execute_result"
    }
   ],
   "source": [
    "df_0514_Q1C.tail(2) #display most recent years recorded."
   ]
  },
  {
   "cell_type": "markdown",
   "metadata": {},
   "source": [
    "### _Analysis_\n",
    "\n",
    "From above, we can see that our dataset for Question One, part (C) contains data for the years 2005 - 2014.\n",
    "\n",
    "As part (C) *does not* rely on parts (A) or (B) of this question, we have decided to perform Queston three on this smaller set of years for the purpose of our research question.\n",
    "\n",
    "## 3.2\n",
    "## Check for Null Values\n",
    "\n",
    "Ensure our Final Datasets do not contain null values"
   ]
  },
  {
   "cell_type": "code",
   "execution_count": 33,
   "metadata": {},
   "outputs": [
    {
     "data": {
      "text/plain": [
       "Accident_Index                0\n",
       "Accident_Severity             0\n",
       "Number_of_Vehicles            0\n",
       "Number_of_Casualties          0\n",
       "Date                          0\n",
       "Day_of_Week                   0\n",
       "Time                          0\n",
       "Local_Authority_(District)    0\n",
       "Light_Conditions              0\n",
       "Weather_Conditions            0\n",
       "Road_Surface_Conditions       0\n",
       "Vehicle_Type                  0\n",
       "Sex_of_Driver                 0\n",
       "Age_Band_of_Driver            0\n",
       "Journey_Purpose_of_Driver     0\n",
       "Date_Day                      0\n",
       "Month                         0\n",
       "Year                          0\n",
       "dtype: int64"
      ]
     },
     "execution_count": 33,
     "metadata": {},
     "output_type": "execute_result"
    }
   ],
   "source": [
    "df_0514_Q1C.isnull().sum()"
   ]
  },
  {
   "cell_type": "markdown",
   "metadata": {},
   "source": [
    "Once we have seen that our final sorted dataset for Q1 part (C) contains no Null Values, we will save all of our prepped datasets into pickle files below.\n",
    "\n",
    "## 4.\n",
    "## Save to Pickle Files\n",
    "\n",
    "### (A) and (B)"
   ]
  },
  {
   "cell_type": "code",
   "execution_count": 45,
   "metadata": {},
   "outputs": [
    {
     "name": "stdout",
     "output_type": "stream",
     "text": [
      "21.7 s ± 1.57 s per loop (mean ± std. dev. of 7 runs, 1 loop each)\n"
     ]
    },
    {
     "data": {
      "text/plain": [
       "<TimeitResult : 21.7 s ± 1.57 s per loop (mean ± std. dev. of 7 runs, 1 loop each)>"
      ]
     },
     "execution_count": 45,
     "metadata": {},
     "output_type": "execute_result"
    }
   ],
   "source": [
    "pickle_save_time = %timeit -o df_7904a_Q1AB.to_pickle(\"../../data/processed/700_Q1AB_final_prep_1.pkl\") #save dataset into a pickle file and print the save time\n",
    "\n",
    "pickle_save_time"
   ]
  },
  {
   "cell_type": "code",
   "execution_count": 46,
   "metadata": {},
   "outputs": [
    {
     "name": "stdout",
     "output_type": "stream",
     "text": [
      "24 s ± 2.25 s per loop (mean ± std. dev. of 7 runs, 1 loop each)\n"
     ]
    },
    {
     "data": {
      "text/plain": [
       "<TimeitResult : 24 s ± 2.25 s per loop (mean ± std. dev. of 7 runs, 1 loop each)>"
      ]
     },
     "execution_count": 46,
     "metadata": {},
     "output_type": "execute_result"
    }
   ],
   "source": [
    "pickle_save_time = %timeit -o df_7904b_Q1AB.to_pickle(\"../../data/processed/700_Q1AB_final_prep_2.pkl\") #save dataset into a pickle file and print the save time\n",
    "\n",
    "pickle_save_time"
   ]
  },
  {
   "cell_type": "code",
   "execution_count": 34,
   "metadata": {},
   "outputs": [
    {
     "name": "stdout",
     "output_type": "stream",
     "text": [
      "29.5 s ± 1.07 s per loop (mean ± std. dev. of 7 runs, 1 loop each)\n"
     ]
    },
    {
     "data": {
      "text/plain": [
       "<TimeitResult : 29.5 s ± 1.07 s per loop (mean ± std. dev. of 7 runs, 1 loop each)>"
      ]
     },
     "execution_count": 34,
     "metadata": {},
     "output_type": "execute_result"
    }
   ],
   "source": [
    "pickle_save_time = %timeit -o df_7904c_Q1AB.to_pickle(\"../../data/processed/700_Q1AB_final_prep_3.pkl\") #save dataset into a pickle file and print the save time\n",
    "\n",
    "pickle_save_time"
   ]
  },
  {
   "cell_type": "code",
   "execution_count": 35,
   "metadata": {},
   "outputs": [
    {
     "name": "stdout",
     "output_type": "stream",
     "text": [
      "21 s ± 172 ms per loop (mean ± std. dev. of 7 runs, 1 loop each)\n"
     ]
    },
    {
     "data": {
      "text/plain": [
       "<TimeitResult : 21 s ± 172 ms per loop (mean ± std. dev. of 7 runs, 1 loop each)>"
      ]
     },
     "execution_count": 35,
     "metadata": {},
     "output_type": "execute_result"
    }
   ],
   "source": [
    "pickle_save_time = %timeit -o df_0516_Q1AB.to_pickle(\"../../data/processed/700_Q1AB_final_prep_4.pkl\") #save dataset into a pickle file and print the save time\n",
    "\n",
    "pickle_save_time"
   ]
  },
  {
   "cell_type": "markdown",
   "metadata": {},
   "source": [
    "### (C)"
   ]
  },
  {
   "cell_type": "code",
   "execution_count": 36,
   "metadata": {},
   "outputs": [
    {
     "name": "stdout",
     "output_type": "stream",
     "text": [
      "6.46 s ± 351 ms per loop (mean ± std. dev. of 7 runs, 1 loop each)\n"
     ]
    },
    {
     "data": {
      "text/plain": [
       "<TimeitResult : 6.46 s ± 351 ms per loop (mean ± std. dev. of 7 runs, 1 loop each)>"
      ]
     },
     "execution_count": 36,
     "metadata": {},
     "output_type": "execute_result"
    }
   ],
   "source": [
    "pickle_save_time = %timeit -o df_0514_Q1C.to_pickle(\"../../data/processed/700_Q1C_final_prep.pkl\") #save dataset into a pickle file and print the save time\n",
    "\n",
    "pickle_save_time"
   ]
  },
  {
   "cell_type": "markdown",
   "metadata": {},
   "source": [
    "## 5.\n",
    "## Create Data Dictionaries\n",
    "\n",
    "Create Data Dictionaries for each of our pickle files, summarising their contents.\n",
    "\n",
    "### (A) and (B)"
   ]
  },
  {
   "cell_type": "code",
   "execution_count": 50,
   "metadata": {},
   "outputs": [
    {
     "data": {
      "text/html": [
       "<div>\n",
       "<style scoped>\n",
       "    .dataframe tbody tr th:only-of-type {\n",
       "        vertical-align: middle;\n",
       "    }\n",
       "\n",
       "    .dataframe tbody tr th {\n",
       "        vertical-align: top;\n",
       "    }\n",
       "\n",
       "    .dataframe thead th {\n",
       "        text-align: right;\n",
       "    }\n",
       "</style>\n",
       "<table border=\"1\" class=\"dataframe\">\n",
       "  <thead>\n",
       "    <tr style=\"text-align: right;\">\n",
       "      <th></th>\n",
       "      <th>count</th>\n",
       "      <th>unique</th>\n",
       "      <th>top</th>\n",
       "      <th>freq</th>\n",
       "      <th>mean</th>\n",
       "      <th>std</th>\n",
       "      <th>min</th>\n",
       "      <th>25%</th>\n",
       "      <th>50%</th>\n",
       "      <th>75%</th>\n",
       "      <th>max</th>\n",
       "      <th>Missing</th>\n",
       "      <th>%Missing</th>\n",
       "    </tr>\n",
       "  </thead>\n",
       "  <tbody>\n",
       "    <tr>\n",
       "      <th>Accident_Index</th>\n",
       "      <td>3011743</td>\n",
       "      <td>1844292</td>\n",
       "      <td>198213Q011682</td>\n",
       "      <td>61</td>\n",
       "      <td>NaN</td>\n",
       "      <td>NaN</td>\n",
       "      <td>NaN</td>\n",
       "      <td>NaN</td>\n",
       "      <td>NaN</td>\n",
       "      <td>NaN</td>\n",
       "      <td>NaN</td>\n",
       "      <td>0</td>\n",
       "      <td>0.0</td>\n",
       "    </tr>\n",
       "    <tr>\n",
       "      <th>Accident_Severity</th>\n",
       "      <td>3011743</td>\n",
       "      <td>3</td>\n",
       "      <td>slight</td>\n",
       "      <td>2182857</td>\n",
       "      <td>NaN</td>\n",
       "      <td>NaN</td>\n",
       "      <td>NaN</td>\n",
       "      <td>NaN</td>\n",
       "      <td>NaN</td>\n",
       "      <td>NaN</td>\n",
       "      <td>NaN</td>\n",
       "      <td>0</td>\n",
       "      <td>0.0</td>\n",
       "    </tr>\n",
       "    <tr>\n",
       "      <th>Number_of_Vehicles</th>\n",
       "      <td>3.01174e+06</td>\n",
       "      <td>NaN</td>\n",
       "      <td>NaN</td>\n",
       "      <td>NaN</td>\n",
       "      <td>1.9929</td>\n",
       "      <td>1.03643</td>\n",
       "      <td>1</td>\n",
       "      <td>2</td>\n",
       "      <td>2</td>\n",
       "      <td>2</td>\n",
       "      <td>61</td>\n",
       "      <td>0</td>\n",
       "      <td>0.0</td>\n",
       "    </tr>\n",
       "    <tr>\n",
       "      <th>Number_of_Casualties</th>\n",
       "      <td>3.01174e+06</td>\n",
       "      <td>NaN</td>\n",
       "      <td>NaN</td>\n",
       "      <td>NaN</td>\n",
       "      <td>1.36819</td>\n",
       "      <td>0.927364</td>\n",
       "      <td>1</td>\n",
       "      <td>1</td>\n",
       "      <td>1</td>\n",
       "      <td>1</td>\n",
       "      <td>70</td>\n",
       "      <td>0</td>\n",
       "      <td>0.0</td>\n",
       "    </tr>\n",
       "    <tr>\n",
       "      <th>Date</th>\n",
       "      <td>3011743</td>\n",
       "      <td>3287</td>\n",
       "      <td>25/11/1983</td>\n",
       "      <td>2019</td>\n",
       "      <td>NaN</td>\n",
       "      <td>NaN</td>\n",
       "      <td>NaN</td>\n",
       "      <td>NaN</td>\n",
       "      <td>NaN</td>\n",
       "      <td>NaN</td>\n",
       "      <td>NaN</td>\n",
       "      <td>0</td>\n",
       "      <td>0.0</td>\n",
       "    </tr>\n",
       "  </tbody>\n",
       "</table>\n",
       "</div>"
      ],
      "text/plain": [
       "                            count   unique            top     freq     mean  \\\n",
       "Accident_Index            3011743  1844292  198213Q011682       61      NaN   \n",
       "Accident_Severity         3011743        3         slight  2182857      NaN   \n",
       "Number_of_Vehicles    3.01174e+06      NaN            NaN      NaN   1.9929   \n",
       "Number_of_Casualties  3.01174e+06      NaN            NaN      NaN  1.36819   \n",
       "Date                      3011743     3287     25/11/1983     2019      NaN   \n",
       "\n",
       "                           std  min  25%  50%  75%  max  Missing  %Missing  \n",
       "Accident_Index             NaN  NaN  NaN  NaN  NaN  NaN        0       0.0  \n",
       "Accident_Severity          NaN  NaN  NaN  NaN  NaN  NaN        0       0.0  \n",
       "Number_of_Vehicles     1.03643    1    2    2    2   61        0       0.0  \n",
       "Number_of_Casualties  0.927364    1    1    1    1   70        0       0.0  \n",
       "Date                       NaN  NaN  NaN  NaN  NaN  NaN        0       0.0  "
      ]
     },
     "execution_count": 50,
     "metadata": {},
     "output_type": "execute_result"
    }
   ],
   "source": [
    "data_dictionary.save(\n",
    "    '../../data/processed/700_Q1AB_final_prep_1.pkl', \n",
    "\n",
    "\"\"\"\\\n",
    "Aggregate raw data for road accidents.\n",
    "\"\"\").head()"
   ]
  },
  {
   "cell_type": "code",
   "execution_count": 51,
   "metadata": {},
   "outputs": [
    {
     "data": {
      "text/html": [
       "<div>\n",
       "<style scoped>\n",
       "    .dataframe tbody tr th:only-of-type {\n",
       "        vertical-align: middle;\n",
       "    }\n",
       "\n",
       "    .dataframe tbody tr th {\n",
       "        vertical-align: top;\n",
       "    }\n",
       "\n",
       "    .dataframe thead th {\n",
       "        text-align: right;\n",
       "    }\n",
       "</style>\n",
       "<table border=\"1\" class=\"dataframe\">\n",
       "  <thead>\n",
       "    <tr style=\"text-align: right;\">\n",
       "      <th></th>\n",
       "      <th>count</th>\n",
       "      <th>unique</th>\n",
       "      <th>top</th>\n",
       "      <th>freq</th>\n",
       "      <th>mean</th>\n",
       "      <th>std</th>\n",
       "      <th>min</th>\n",
       "      <th>25%</th>\n",
       "      <th>50%</th>\n",
       "      <th>75%</th>\n",
       "      <th>max</th>\n",
       "      <th>Missing</th>\n",
       "      <th>%Missing</th>\n",
       "    </tr>\n",
       "  </thead>\n",
       "  <tbody>\n",
       "    <tr>\n",
       "      <th>Accident_Index</th>\n",
       "      <td>3021931</td>\n",
       "      <td>1790862</td>\n",
       "      <td>199213MU34592</td>\n",
       "      <td>192</td>\n",
       "      <td>NaN</td>\n",
       "      <td>NaN</td>\n",
       "      <td>NaN</td>\n",
       "      <td>NaN</td>\n",
       "      <td>NaN</td>\n",
       "      <td>NaN</td>\n",
       "      <td>NaN</td>\n",
       "      <td>0</td>\n",
       "      <td>0.0</td>\n",
       "    </tr>\n",
       "    <tr>\n",
       "      <th>Accident_Severity</th>\n",
       "      <td>3021931</td>\n",
       "      <td>3</td>\n",
       "      <td>slight</td>\n",
       "      <td>2423116</td>\n",
       "      <td>NaN</td>\n",
       "      <td>NaN</td>\n",
       "      <td>NaN</td>\n",
       "      <td>NaN</td>\n",
       "      <td>NaN</td>\n",
       "      <td>NaN</td>\n",
       "      <td>NaN</td>\n",
       "      <td>0</td>\n",
       "      <td>0.0</td>\n",
       "    </tr>\n",
       "    <tr>\n",
       "      <th>Number_of_Vehicles</th>\n",
       "      <td>3.02193e+06</td>\n",
       "      <td>NaN</td>\n",
       "      <td>NaN</td>\n",
       "      <td>NaN</td>\n",
       "      <td>2.10448</td>\n",
       "      <td>2.00019</td>\n",
       "      <td>1</td>\n",
       "      <td>2</td>\n",
       "      <td>2</td>\n",
       "      <td>2</td>\n",
       "      <td>192</td>\n",
       "      <td>0</td>\n",
       "      <td>0.0</td>\n",
       "    </tr>\n",
       "    <tr>\n",
       "      <th>Number_of_Casualties</th>\n",
       "      <td>3.02193e+06</td>\n",
       "      <td>NaN</td>\n",
       "      <td>NaN</td>\n",
       "      <td>NaN</td>\n",
       "      <td>1.41774</td>\n",
       "      <td>1.08154</td>\n",
       "      <td>1</td>\n",
       "      <td>1</td>\n",
       "      <td>1</td>\n",
       "      <td>2</td>\n",
       "      <td>80</td>\n",
       "      <td>0</td>\n",
       "      <td>0.0</td>\n",
       "    </tr>\n",
       "    <tr>\n",
       "      <th>Date</th>\n",
       "      <td>3021931</td>\n",
       "      <td>3287</td>\n",
       "      <td>03/07/1992</td>\n",
       "      <td>2211</td>\n",
       "      <td>NaN</td>\n",
       "      <td>NaN</td>\n",
       "      <td>NaN</td>\n",
       "      <td>NaN</td>\n",
       "      <td>NaN</td>\n",
       "      <td>NaN</td>\n",
       "      <td>NaN</td>\n",
       "      <td>0</td>\n",
       "      <td>0.0</td>\n",
       "    </tr>\n",
       "  </tbody>\n",
       "</table>\n",
       "</div>"
      ],
      "text/plain": [
       "                            count   unique            top     freq     mean  \\\n",
       "Accident_Index            3021931  1790862  199213MU34592      192      NaN   \n",
       "Accident_Severity         3021931        3         slight  2423116      NaN   \n",
       "Number_of_Vehicles    3.02193e+06      NaN            NaN      NaN  2.10448   \n",
       "Number_of_Casualties  3.02193e+06      NaN            NaN      NaN  1.41774   \n",
       "Date                      3021931     3287     03/07/1992     2211      NaN   \n",
       "\n",
       "                          std  min  25%  50%  75%  max  Missing  %Missing  \n",
       "Accident_Index            NaN  NaN  NaN  NaN  NaN  NaN        0       0.0  \n",
       "Accident_Severity         NaN  NaN  NaN  NaN  NaN  NaN        0       0.0  \n",
       "Number_of_Vehicles    2.00019    1    2    2    2  192        0       0.0  \n",
       "Number_of_Casualties  1.08154    1    1    1    2   80        0       0.0  \n",
       "Date                      NaN  NaN  NaN  NaN  NaN  NaN        0       0.0  "
      ]
     },
     "execution_count": 51,
     "metadata": {},
     "output_type": "execute_result"
    }
   ],
   "source": [
    "data_dictionary.save(\n",
    "    '../../data/processed/700_Q1AB_final_prep_2.pkl', \n",
    "\n",
    "\"\"\"\\\n",
    "Aggregate raw data for road accidents.\n",
    "\"\"\").head()"
   ]
  },
  {
   "cell_type": "code",
   "execution_count": 37,
   "metadata": {},
   "outputs": [
    {
     "data": {
      "text/html": [
       "<div>\n",
       "<style scoped>\n",
       "    .dataframe tbody tr th:only-of-type {\n",
       "        vertical-align: middle;\n",
       "    }\n",
       "\n",
       "    .dataframe tbody tr th {\n",
       "        vertical-align: top;\n",
       "    }\n",
       "\n",
       "    .dataframe thead th {\n",
       "        text-align: right;\n",
       "    }\n",
       "</style>\n",
       "<table border=\"1\" class=\"dataframe\">\n",
       "  <thead>\n",
       "    <tr style=\"text-align: right;\">\n",
       "      <th></th>\n",
       "      <th>count</th>\n",
       "      <th>unique</th>\n",
       "      <th>top</th>\n",
       "      <th>freq</th>\n",
       "      <th>mean</th>\n",
       "      <th>std</th>\n",
       "      <th>min</th>\n",
       "      <th>25%</th>\n",
       "      <th>50%</th>\n",
       "      <th>75%</th>\n",
       "      <th>max</th>\n",
       "      <th>Missing</th>\n",
       "      <th>%Missing</th>\n",
       "    </tr>\n",
       "  </thead>\n",
       "  <tbody>\n",
       "    <tr>\n",
       "      <th>Accident_Index</th>\n",
       "      <td>3420640</td>\n",
       "      <td>2009451</td>\n",
       "      <td>199722AX01148</td>\n",
       "      <td>88</td>\n",
       "      <td>NaN</td>\n",
       "      <td>NaN</td>\n",
       "      <td>NaN</td>\n",
       "      <td>NaN</td>\n",
       "      <td>NaN</td>\n",
       "      <td>NaN</td>\n",
       "      <td>NaN</td>\n",
       "      <td>0</td>\n",
       "      <td>0.0</td>\n",
       "    </tr>\n",
       "    <tr>\n",
       "      <th>Accident_Severity</th>\n",
       "      <td>3420640</td>\n",
       "      <td>3</td>\n",
       "      <td>slight</td>\n",
       "      <td>2908269</td>\n",
       "      <td>NaN</td>\n",
       "      <td>NaN</td>\n",
       "      <td>NaN</td>\n",
       "      <td>NaN</td>\n",
       "      <td>NaN</td>\n",
       "      <td>NaN</td>\n",
       "      <td>NaN</td>\n",
       "      <td>0</td>\n",
       "      <td>0.0</td>\n",
       "    </tr>\n",
       "    <tr>\n",
       "      <th>Number_of_Vehicles</th>\n",
       "      <td>3.42064e+06</td>\n",
       "      <td>NaN</td>\n",
       "      <td>NaN</td>\n",
       "      <td>NaN</td>\n",
       "      <td>2.11503</td>\n",
       "      <td>1.0643</td>\n",
       "      <td>1</td>\n",
       "      <td>2</td>\n",
       "      <td>2</td>\n",
       "      <td>2</td>\n",
       "      <td>88</td>\n",
       "      <td>0</td>\n",
       "      <td>0.0</td>\n",
       "    </tr>\n",
       "    <tr>\n",
       "      <th>Number_of_Casualties</th>\n",
       "      <td>3.42064e+06</td>\n",
       "      <td>NaN</td>\n",
       "      <td>NaN</td>\n",
       "      <td>NaN</td>\n",
       "      <td>1.46296</td>\n",
       "      <td>1.02219</td>\n",
       "      <td>1</td>\n",
       "      <td>1</td>\n",
       "      <td>1</td>\n",
       "      <td>2</td>\n",
       "      <td>90</td>\n",
       "      <td>0</td>\n",
       "      <td>0.0</td>\n",
       "    </tr>\n",
       "    <tr>\n",
       "      <th>Date</th>\n",
       "      <td>3420640</td>\n",
       "      <td>3653</td>\n",
       "      <td>25/04/1997</td>\n",
       "      <td>2249</td>\n",
       "      <td>NaN</td>\n",
       "      <td>NaN</td>\n",
       "      <td>NaN</td>\n",
       "      <td>NaN</td>\n",
       "      <td>NaN</td>\n",
       "      <td>NaN</td>\n",
       "      <td>NaN</td>\n",
       "      <td>0</td>\n",
       "      <td>0.0</td>\n",
       "    </tr>\n",
       "  </tbody>\n",
       "</table>\n",
       "</div>"
      ],
      "text/plain": [
       "                            count   unique            top     freq     mean  \\\n",
       "Accident_Index            3420640  2009451  199722AX01148       88      NaN   \n",
       "Accident_Severity         3420640        3         slight  2908269      NaN   \n",
       "Number_of_Vehicles    3.42064e+06      NaN            NaN      NaN  2.11503   \n",
       "Number_of_Casualties  3.42064e+06      NaN            NaN      NaN  1.46296   \n",
       "Date                      3420640     3653     25/04/1997     2249      NaN   \n",
       "\n",
       "                          std  min  25%  50%  75%  max  Missing  %Missing  \n",
       "Accident_Index            NaN  NaN  NaN  NaN  NaN  NaN        0       0.0  \n",
       "Accident_Severity         NaN  NaN  NaN  NaN  NaN  NaN        0       0.0  \n",
       "Number_of_Vehicles     1.0643    1    2    2    2   88        0       0.0  \n",
       "Number_of_Casualties  1.02219    1    1    1    2   90        0       0.0  \n",
       "Date                      NaN  NaN  NaN  NaN  NaN  NaN        0       0.0  "
      ]
     },
     "execution_count": 37,
     "metadata": {},
     "output_type": "execute_result"
    }
   ],
   "source": [
    "data_dictionary.save(\n",
    "    '../../data/processed/700_Q1AB_final_prep_3.pkl', \n",
    "\n",
    "\"\"\"\\\n",
    "Aggregate raw data for road accidents.\n",
    "\"\"\").head()"
   ]
  },
  {
   "cell_type": "code",
   "execution_count": 38,
   "metadata": {},
   "outputs": [
    {
     "data": {
      "text/html": [
       "<div>\n",
       "<style scoped>\n",
       "    .dataframe tbody tr th:only-of-type {\n",
       "        vertical-align: middle;\n",
       "    }\n",
       "\n",
       "    .dataframe tbody tr th {\n",
       "        vertical-align: top;\n",
       "    }\n",
       "\n",
       "    .dataframe thead th {\n",
       "        text-align: right;\n",
       "    }\n",
       "</style>\n",
       "<table border=\"1\" class=\"dataframe\">\n",
       "  <thead>\n",
       "    <tr style=\"text-align: right;\">\n",
       "      <th></th>\n",
       "      <th>count</th>\n",
       "      <th>unique</th>\n",
       "      <th>top</th>\n",
       "      <th>freq</th>\n",
       "      <th>mean</th>\n",
       "      <th>std</th>\n",
       "      <th>min</th>\n",
       "      <th>25%</th>\n",
       "      <th>50%</th>\n",
       "      <th>75%</th>\n",
       "      <th>max</th>\n",
       "      <th>Missing</th>\n",
       "      <th>%Missing</th>\n",
       "    </tr>\n",
       "  </thead>\n",
       "  <tbody>\n",
       "    <tr>\n",
       "      <th>Accident_Index</th>\n",
       "      <td>3010896</td>\n",
       "      <td>1784301</td>\n",
       "      <td>2013460234852</td>\n",
       "      <td>66</td>\n",
       "      <td>NaN</td>\n",
       "      <td>NaN</td>\n",
       "      <td>NaN</td>\n",
       "      <td>NaN</td>\n",
       "      <td>NaN</td>\n",
       "      <td>NaN</td>\n",
       "      <td>NaN</td>\n",
       "      <td>0</td>\n",
       "      <td>0.0</td>\n",
       "    </tr>\n",
       "    <tr>\n",
       "      <th>Accident_Severity</th>\n",
       "      <td>3010896</td>\n",
       "      <td>3</td>\n",
       "      <td>slight</td>\n",
       "      <td>2576810</td>\n",
       "      <td>NaN</td>\n",
       "      <td>NaN</td>\n",
       "      <td>NaN</td>\n",
       "      <td>NaN</td>\n",
       "      <td>NaN</td>\n",
       "      <td>NaN</td>\n",
       "      <td>NaN</td>\n",
       "      <td>0</td>\n",
       "      <td>0.0</td>\n",
       "    </tr>\n",
       "    <tr>\n",
       "      <th>Number_of_Vehicles</th>\n",
       "      <td>3.0109e+06</td>\n",
       "      <td>NaN</td>\n",
       "      <td>NaN</td>\n",
       "      <td>NaN</td>\n",
       "      <td>2.10581</td>\n",
       "      <td>0.924935</td>\n",
       "      <td>1</td>\n",
       "      <td>2</td>\n",
       "      <td>2</td>\n",
       "      <td>2</td>\n",
       "      <td>67</td>\n",
       "      <td>0</td>\n",
       "      <td>0.0</td>\n",
       "    </tr>\n",
       "    <tr>\n",
       "      <th>Number_of_Casualties</th>\n",
       "      <td>3.0109e+06</td>\n",
       "      <td>NaN</td>\n",
       "      <td>NaN</td>\n",
       "      <td>NaN</td>\n",
       "      <td>1.45239</td>\n",
       "      <td>1.014</td>\n",
       "      <td>1</td>\n",
       "      <td>1</td>\n",
       "      <td>1</td>\n",
       "      <td>2</td>\n",
       "      <td>93</td>\n",
       "      <td>0</td>\n",
       "      <td>0.0</td>\n",
       "    </tr>\n",
       "    <tr>\n",
       "      <th>Date</th>\n",
       "      <td>3010896</td>\n",
       "      <td>4383</td>\n",
       "      <td>21/10/2005</td>\n",
       "      <td>1400</td>\n",
       "      <td>NaN</td>\n",
       "      <td>NaN</td>\n",
       "      <td>NaN</td>\n",
       "      <td>NaN</td>\n",
       "      <td>NaN</td>\n",
       "      <td>NaN</td>\n",
       "      <td>NaN</td>\n",
       "      <td>0</td>\n",
       "      <td>0.0</td>\n",
       "    </tr>\n",
       "  </tbody>\n",
       "</table>\n",
       "</div>"
      ],
      "text/plain": [
       "                           count   unique            top     freq     mean  \\\n",
       "Accident_Index           3010896  1784301  2013460234852       66      NaN   \n",
       "Accident_Severity        3010896        3         slight  2576810      NaN   \n",
       "Number_of_Vehicles    3.0109e+06      NaN            NaN      NaN  2.10581   \n",
       "Number_of_Casualties  3.0109e+06      NaN            NaN      NaN  1.45239   \n",
       "Date                     3010896     4383     21/10/2005     1400      NaN   \n",
       "\n",
       "                           std  min  25%  50%  75%  max  Missing  %Missing  \n",
       "Accident_Index             NaN  NaN  NaN  NaN  NaN  NaN        0       0.0  \n",
       "Accident_Severity          NaN  NaN  NaN  NaN  NaN  NaN        0       0.0  \n",
       "Number_of_Vehicles    0.924935    1    2    2    2   67        0       0.0  \n",
       "Number_of_Casualties     1.014    1    1    1    2   93        0       0.0  \n",
       "Date                       NaN  NaN  NaN  NaN  NaN  NaN        0       0.0  "
      ]
     },
     "execution_count": 38,
     "metadata": {},
     "output_type": "execute_result"
    }
   ],
   "source": [
    "data_dictionary.save(\n",
    "    '../../data/processed/700_Q1AB_final_prep_4.pkl', \n",
    "\n",
    "\"\"\"\\\n",
    "Aggregate raw data for road accidents.\n",
    "\"\"\").head()"
   ]
  },
  {
   "cell_type": "markdown",
   "metadata": {},
   "source": [
    "### (C)"
   ]
  },
  {
   "cell_type": "code",
   "execution_count": 39,
   "metadata": {},
   "outputs": [
    {
     "data": {
      "text/html": [
       "<div>\n",
       "<style scoped>\n",
       "    .dataframe tbody tr th:only-of-type {\n",
       "        vertical-align: middle;\n",
       "    }\n",
       "\n",
       "    .dataframe tbody tr th {\n",
       "        vertical-align: top;\n",
       "    }\n",
       "\n",
       "    .dataframe thead th {\n",
       "        text-align: right;\n",
       "    }\n",
       "</style>\n",
       "<table border=\"1\" class=\"dataframe\">\n",
       "  <thead>\n",
       "    <tr style=\"text-align: right;\">\n",
       "      <th></th>\n",
       "      <th>count</th>\n",
       "      <th>unique</th>\n",
       "      <th>top</th>\n",
       "      <th>freq</th>\n",
       "      <th>mean</th>\n",
       "      <th>std</th>\n",
       "      <th>min</th>\n",
       "      <th>25%</th>\n",
       "      <th>50%</th>\n",
       "      <th>75%</th>\n",
       "      <th>max</th>\n",
       "      <th>Missing</th>\n",
       "      <th>%Missing</th>\n",
       "    </tr>\n",
       "  </thead>\n",
       "  <tbody>\n",
       "    <tr>\n",
       "      <th>Accident_Index</th>\n",
       "      <td>792713</td>\n",
       "      <td>591495</td>\n",
       "      <td>200506X039355</td>\n",
       "      <td>18</td>\n",
       "      <td>NaN</td>\n",
       "      <td>NaN</td>\n",
       "      <td>NaN</td>\n",
       "      <td>NaN</td>\n",
       "      <td>NaN</td>\n",
       "      <td>NaN</td>\n",
       "      <td>NaN</td>\n",
       "      <td>0</td>\n",
       "      <td>0.0</td>\n",
       "    </tr>\n",
       "    <tr>\n",
       "      <th>Accident_Severity</th>\n",
       "      <td>792713</td>\n",
       "      <td>3</td>\n",
       "      <td>slight</td>\n",
       "      <td>684785</td>\n",
       "      <td>NaN</td>\n",
       "      <td>NaN</td>\n",
       "      <td>NaN</td>\n",
       "      <td>NaN</td>\n",
       "      <td>NaN</td>\n",
       "      <td>NaN</td>\n",
       "      <td>NaN</td>\n",
       "      <td>0</td>\n",
       "      <td>0.0</td>\n",
       "    </tr>\n",
       "    <tr>\n",
       "      <th>Number_of_Vehicles</th>\n",
       "      <td>792713</td>\n",
       "      <td>NaN</td>\n",
       "      <td>NaN</td>\n",
       "      <td>NaN</td>\n",
       "      <td>2.09972</td>\n",
       "      <td>0.885037</td>\n",
       "      <td>1</td>\n",
       "      <td>2</td>\n",
       "      <td>2</td>\n",
       "      <td>2</td>\n",
       "      <td>67</td>\n",
       "      <td>0</td>\n",
       "      <td>0.0</td>\n",
       "    </tr>\n",
       "    <tr>\n",
       "      <th>Number_of_Casualties</th>\n",
       "      <td>792713</td>\n",
       "      <td>NaN</td>\n",
       "      <td>NaN</td>\n",
       "      <td>NaN</td>\n",
       "      <td>1.39917</td>\n",
       "      <td>0.993247</td>\n",
       "      <td>1</td>\n",
       "      <td>1</td>\n",
       "      <td>1</td>\n",
       "      <td>2</td>\n",
       "      <td>93</td>\n",
       "      <td>0</td>\n",
       "      <td>0.0</td>\n",
       "    </tr>\n",
       "    <tr>\n",
       "      <th>Date</th>\n",
       "      <td>792713</td>\n",
       "      <td>3652</td>\n",
       "      <td>07/12/2005</td>\n",
       "      <td>522</td>\n",
       "      <td>NaN</td>\n",
       "      <td>NaN</td>\n",
       "      <td>NaN</td>\n",
       "      <td>NaN</td>\n",
       "      <td>NaN</td>\n",
       "      <td>NaN</td>\n",
       "      <td>NaN</td>\n",
       "      <td>0</td>\n",
       "      <td>0.0</td>\n",
       "    </tr>\n",
       "  </tbody>\n",
       "</table>\n",
       "</div>"
      ],
      "text/plain": [
       "                       count  unique            top    freq     mean  \\\n",
       "Accident_Index        792713  591495  200506X039355      18      NaN   \n",
       "Accident_Severity     792713       3         slight  684785      NaN   \n",
       "Number_of_Vehicles    792713     NaN            NaN     NaN  2.09972   \n",
       "Number_of_Casualties  792713     NaN            NaN     NaN  1.39917   \n",
       "Date                  792713    3652     07/12/2005     522      NaN   \n",
       "\n",
       "                           std  min  25%  50%  75%  max  Missing  %Missing  \n",
       "Accident_Index             NaN  NaN  NaN  NaN  NaN  NaN        0       0.0  \n",
       "Accident_Severity          NaN  NaN  NaN  NaN  NaN  NaN        0       0.0  \n",
       "Number_of_Vehicles    0.885037    1    2    2    2   67        0       0.0  \n",
       "Number_of_Casualties  0.993247    1    1    1    2   93        0       0.0  \n",
       "Date                       NaN  NaN  NaN  NaN  NaN  NaN        0       0.0  "
      ]
     },
     "execution_count": 39,
     "metadata": {},
     "output_type": "execute_result"
    }
   ],
   "source": [
    "data_dictionary.save(\n",
    "    '../../data/processed/700_Q1C_final_prep.pkl', \n",
    "\n",
    "\"\"\"\\\n",
    "Aggregate raw data for road accidents.\n",
    "\"\"\").head()"
   ]
  },
  {
   "cell_type": "code",
   "execution_count": null,
   "metadata": {
    "collapsed": true
   },
   "outputs": [],
   "source": []
  }
 ],
 "metadata": {
  "kernelspec": {
   "display_name": "Python 3",
   "language": "python",
   "name": "python3"
  },
  "language_info": {
   "codemirror_mode": {
    "name": "ipython",
    "version": 3
   },
   "file_extension": ".py",
   "mimetype": "text/x-python",
   "name": "python",
   "nbconvert_exporter": "python",
   "pygments_lexer": "ipython3",
   "version": "3.6.3"
  }
 },
 "nbformat": 4,
 "nbformat_minor": 2
}
