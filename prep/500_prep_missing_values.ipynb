{
 "cells": [
  {
   "cell_type": "markdown",
   "metadata": {},
   "source": [
    "# 500_prep_missing_values\n",
    "\n",
    "## Purpose\n",
    "In this notebook we will get started on cleaning and validating our data, focusing mainly on dealing with missing values in our datasets. \n",
    "\n",
    "Due to the size of our Datasets (~ 3 million rows each), we will be performing tasks on only three datasets within this notebook.\n",
    "\n",
    "As such, we will process each dataset separately, one after the other.\n",
    "\n",
    "### Notebook Contents:\n",
    "\n",
    "* __1:__ Loading our Datasets\n",
    "\n",
    "* __2:__ Handling Missing Data\n",
    "\n",
    "     * __2.1:__ Dataset 1979 - 2004 (a)\n",
    "        * __2.1.1__ Locating Missing Data\n",
    "        * __2.1.2__ Null Values\n",
    "        * __2.1.3__ Dropping Rows with some Missing Values\n",
    "        * __2.1.4__ Saving Dataset for 1979 - 2004 to pickle files\n",
    "        \n",
    "     * __2.2:__ Dataset 1979 - 2004 (b)\n",
    "        * __2.2.1__ Locating Missing Data\n",
    "        * __2.2.2__ Null Values\n",
    "        * __2.2.3__ Dropping Rows with some Missing Values\n",
    "        * __2.2.4__ Saving Dataset for 1979 - 2004 to pickle files\n",
    "      \n",
    "     * __2.3:__ Dataset 2005 - 2014\n",
    "        * __2.2.1__ Locating Missing Data\n",
    "        * __2.2.2__ Null Values\n",
    "        * __2.2.3__ Question One\n",
    "        * __2.2.4__ Question Two\n",
    "        * __2.2.5__ Question Three\n",
    "        * __2.2.3__ Saving Datasets to pickle files\n",
    "\n",
    "\n",
    "* __3:__ Creating Data Dictionaries\n",
    "\n",
    "## Datasets\n",
    "* __Input__: \n",
    "\n",
    "* 300_mapping_values_0514.pkl (Vehicle and Accident Data for all Recorded UK Road Accidents from 2005 - 2014, with values mapped)\n",
    "\n",
    "\n",
    "* 300_mapping_values_7904a.pkl (First 3 million rows of Vehicle and Accident Data for all Recorded UK Road Accidents from 1979 - 2004 dataset, with values mapped)\n",
    "\n",
    "\n",
    "* 300_mapping_values_7904b.pkl (Second 3 million rows of Vehicle and Accident Data for all Recorded UK Road Accidents from 1979 - 2004 dataset, with values mapped)\n",
    "\n",
    "\n",
    "* __Output__: \n",
    "\n",
    "\n",
    "* 500_prep_missing_values_0514_Q1AB.pkl (Recorded UK Road Accident Data 2005 - 2014 for RQ1 (A) and (B), with missing values removed)\n",
    "\n",
    "\n",
    "* 500_prep_missing_values_0514_Q1C.pkl (Recorded UK Road Accident Data 2005 - 2014 for RQ1 (C), with missing values removed)\n",
    "\n",
    "\n",
    "* 500_prep_missing_values_0514_Q2A.pkl (Recorded UK Road Accident Data 2005 - 2014 for RQ2 (A), with missing values removed)\n",
    "\n",
    "\n",
    "* 500_prep_missing_values_0514_Q2B.pkl (Recorded UK Road Accident Data 2005 - 2014 for RQ2 (B), with missing values removed)\n",
    "\n",
    "\n",
    "* 500_prep_missing_values_0514_Q3A.pkl (Recorded UK Road Accident Data 2005 - 2014 for RQ3 (A), with missing values removed)\n",
    "\n",
    "\n",
    "* 500_prep_missing_values_0514_Q3B.pkl (Recorded UK Road Accident Data 2005 - 2014 for RQ3 (B), with missing values removed)\n",
    "\n",
    "\n",
    "* 500_prep_missing_values_7904a_Q1AB.pkl (Recorded UK Road Accident Data 1979 - 2004 (a) for RQ1 (A) and (B), with missing values removed)\n",
    "\n",
    "\n",
    "* 500_prep_missing_values_7904a_Q2B.pkl (Recorded UK Road Accident Data 1979 - 2004 (a) for RQ2 (B), with missing values removed)\n",
    "\n",
    "\n",
    "* 500_prep_missing_values_7904b_Q1AB.pkl (Recorded UK Road Accident Data 1979 - 2004 (b) for RQ1 (A) and (B), with missing values removed)\n",
    "\n",
    "\n",
    "* 500_prep_missing_values_df7904b_Q2B.pkl (Recorded UK Road Accident Data 1979 - 2004 (b) for RQ2 (B), with missing values removed)"
   ]
  },
  {
   "cell_type": "code",
   "execution_count": 1,
   "metadata": {
    "collapsed": true
   },
   "outputs": [],
   "source": [
    "import os\n",
    "import sys\n",
    "\n",
    "import pandas as pd\n",
    "import numpy as np\n",
    "\n",
    "module_path = os.path.abspath(os.path.join('../../data/..'))\n",
    "if module_path not in sys.path:\n",
    "    sys.path.append(module_path)\n",
    "    \n",
    "from src.helpers import data_dictionary\n",
    "\n",
    "%matplotlib inline"
   ]
  },
  {
   "cell_type": "markdown",
   "metadata": {},
   "source": [
    "# 1. Loading the Datasets\n",
    "\n",
    "Firstly we will read in each of our unput files using the pd.read_pickle method."
   ]
  },
  {
   "cell_type": "code",
   "execution_count": 2,
   "metadata": {},
   "outputs": [
    {
     "data": {
      "text/plain": [
       "(3000000, 27)"
      ]
     },
     "execution_count": 2,
     "metadata": {},
     "output_type": "execute_result"
    }
   ],
   "source": [
    "df7904a= pd.read_pickle('../../data/processed/300_mapping_values_7904a.pkl')\n",
    "df7904a.shape"
   ]
  },
  {
   "cell_type": "code",
   "execution_count": 2,
   "metadata": {},
   "outputs": [
    {
     "data": {
      "text/plain": [
       "(2999999, 27)"
      ]
     },
     "execution_count": 2,
     "metadata": {},
     "output_type": "execute_result"
    }
   ],
   "source": [
    "df7904b= pd.read_pickle('../../data/processed/300_mapping_values_7904b.pkl')\n",
    "df7904b.shape"
   ]
  },
  {
   "cell_type": "code",
   "execution_count": 2,
   "metadata": {},
   "outputs": [
    {
     "data": {
      "text/plain": [
       "(3004425, 27)"
      ]
     },
     "execution_count": 2,
     "metadata": {},
     "output_type": "execute_result"
    }
   ],
   "source": [
    "df0514= pd.read_pickle('../../data/processed/300_mapping_values_0514.pkl')\n",
    "df0514.shape"
   ]
  },
  {
   "cell_type": "markdown",
   "metadata": {},
   "source": [
    "# 2. Handling Missing Data"
   ]
  },
  {
   "cell_type": "markdown",
   "metadata": {},
   "source": [
    "Handling missing data is one of the most important elements of the data cleaning process. Data can be missing for a variety of reasons.\n",
    "\n",
    "\n",
    "For our analysis there are certain key columns for which we need to ensure we have data. These include: Purpose of journey, longitude, latitude, age of vehicle, urban/rural area, IMD decile, driver home area type. \n",
    "\n",
    "Pandas makes it easy for us to remove any rows which have missing data in any of these columns using the dropna method. However, in our datasets we have columns filled with 'unknown', 'other/unknown (2005-10)' and '-1' which indicate a null/missing value. \n",
    "\n",
    "We will therefore need to iterate through NaN, -1, other/unknown(2005-10) and unknown values within our datasets.\n",
    "\n",
    "\n",
    "## 2.1\n",
    "## Dataset 1979 - 2004 (a)\n",
    "\n",
    "## 2.1.1\n",
    "### Locating Missing Data\n",
    "\n",
    "As a result of our datasets containing null values in three separate forms, we will replace each of these values with 'NaN' below so that we can iterate through all NaN values within the dataset all together."
   ]
  },
  {
   "cell_type": "markdown",
   "metadata": {},
   "source": [
    "### '-1' Values\n",
    "\n",
    "For dealing with our '-1' values, we will replace each occurrance of -1 with an NaN value"
   ]
  },
  {
   "cell_type": "code",
   "execution_count": 5,
   "metadata": {
    "collapsed": true
   },
   "outputs": [],
   "source": [
    "df7904a = df7904a.replace(-1,np.NaN)"
   ]
  },
  {
   "cell_type": "markdown",
   "metadata": {},
   "source": [
    "### Unknown Values\n",
    "\n",
    "Likewise for unknown values in our dataset, we will replace all occurrences of unknowns with NaN values."
   ]
  },
  {
   "cell_type": "code",
   "execution_count": 6,
   "metadata": {
    "collapsed": true
   },
   "outputs": [],
   "source": [
    "df7904a = df7904a.replace('unknown',np.NaN)"
   ]
  },
  {
   "cell_type": "markdown",
   "metadata": {},
   "source": [
    "Within our dataset, we also have values labelled 'other/unknown (2005-10)' in our Journey_Purpose_of_Driver column. \n",
    "\n",
    "We need to replace each occurrence of this value with NaN in our datset also."
   ]
  },
  {
   "cell_type": "code",
   "execution_count": 7,
   "metadata": {
    "collapsed": true
   },
   "outputs": [],
   "source": [
    "df7904a = df7904a.replace('other/unknown (2005-10)',np.NaN)"
   ]
  },
  {
   "cell_type": "markdown",
   "metadata": {},
   "source": [
    "## 2.1.2\n",
    "### Null Values\n",
    "\n",
    "Now that we have converted all of our missing values to NaN values, We can begin to study which columns are most impacted by missing data. \n",
    "\n",
    "The easiest way to do this is by using the Pandas _isnull_ method to check whether a cell is missing data. This method generates True (missing) or False (not missing) values accordingingly.\n",
    "\n",
    "We can count the missing values by using the _sum_ method to count the number of 'True' values that the _isnull_ method returns (which are treated as 1's)."
   ]
  },
  {
   "cell_type": "code",
   "execution_count": 8,
   "metadata": {},
   "outputs": [
    {
     "data": {
      "text/plain": [
       "Accident_Index                            0\n",
       "Longitude                           3000000\n",
       "Latitude                            3000000\n",
       "Accident_Severity                         0\n",
       "Number_of_Vehicles                        0\n",
       "Number_of_Casualties                      0\n",
       "Date                                      0\n",
       "Day_of_Week                               0\n",
       "Time                                    196\n",
       "Local_Authority_(District)                0\n",
       "Road_Type                            240568\n",
       "Speed_limit                               0\n",
       "Junction_Detail                         247\n",
       "Light_Conditions                        271\n",
       "Weather_Conditions                    14862\n",
       "Road_Surface_Conditions                 264\n",
       "Special_Conditions_at_Site           278444\n",
       "Urban_or_Rural_Area                 3000000\n",
       "Vehicle_Type                          32068\n",
       "Vehicle_Manoeuvre                      2026\n",
       "Vehicle_Location-Restricted_Lane     324253\n",
       "Journey_Purpose_of_Driver           3000000\n",
       "Sex_of_Driver                        123494\n",
       "Age_Band_of_Driver                   189123\n",
       "Age_of_Vehicle                      3000000\n",
       "Driver_IMD_Decile                   3000000\n",
       "Driver_Home_Area_Type               3000000\n",
       "dtype: int64"
      ]
     },
     "execution_count": 8,
     "metadata": {},
     "output_type": "execute_result"
    }
   ],
   "source": [
    "df7904a.isnull().sum()"
   ]
  },
  {
   "cell_type": "markdown",
   "metadata": {},
   "source": [
    "From the above output, we can see that there are quite a lot of missing values within this dataset.\n",
    "\n",
    "Below we will plot only the columns which have missing values to see which of these columns are most effected."
   ]
  },
  {
   "cell_type": "code",
   "execution_count": 15,
   "metadata": {
    "collapsed": true
   },
   "outputs": [],
   "source": [
    "cols_to_plot = ['Longitude', 'Latitude', \n",
    "       'Time', 'Road_Type',\n",
    "       'Junction_Detail', 'Light_Conditions', 'Weather_Conditions',\n",
    "       'Road_Surface_Conditions', 'Special_Conditions_at_Site',\n",
    "       'Urban_or_Rural_Area', 'Vehicle_Type', 'Vehicle_Manoeuvre',\n",
    "       'Vehicle_Location-Restricted_Lane', 'Journey_Purpose_of_Driver',\n",
    "       'Sex_of_Driver', 'Age_Band_of_Driver', 'Age_of_Vehicle',\n",
    "       'Driver_IMD_Decile', 'Driver_Home_Area_Type'] #define a set of columns to plot"
   ]
  },
  {
   "cell_type": "code",
   "execution_count": 10,
   "metadata": {},
   "outputs": [
    {
     "data": {
      "text/plain": [
       "<matplotlib.axes._subplots.AxesSubplot at 0x1d00f347a58>"
      ]
     },
     "execution_count": 10,
     "metadata": {},
     "output_type": "execute_result"
    },
    {
     "data": {
      "image/png": "[encoded data removed]",
      "text/plain": [
       "<matplotlib.figure.Figure at 0x1d00f3472b0>"
      ]
     },
     "metadata": {},
     "output_type": "display_data"
    }
   ],
   "source": [
    "df7904a[cols_to_plot].isnull().sum().plot(figsize=(12,10), kind='barh', title='Number of missing Values 1979 - 2004 (a)') #plot a bar chart of the sum of missing values per column"
   ]
  },
  {
   "cell_type": "markdown",
   "metadata": {},
   "source": [
    "From the graph above, we can see that unfortunately our 7904a dataset has a large volume of null values, as well as 7 columns which are completely null: \n",
    "\n",
    "Latitude, Longitude, Urban_or_Rural_Area, Journey_Purpose_of_Driver, Age_of_Vehicle, Driver_IMD_Decile and Driver_Home_Area_Type.\n",
    "\n",
    "## 2.1.3\n",
    "### Dropping Rows with Some Missing Values\n",
    "For the remaining rows which are not hugely effected by null values, we will create a new dataframe by using `dropna` to drop any rows with missing values in those columns.\n",
    "\n",
    "If we were to use the 'dropna' method on rows within columns which have all or close to 100% missing values, we would end up with a dataset of 0 rows!\n",
    "\n",
    "Once we have performed the dropna method on the specified rows below, we will use this new dataset to answer subsequent research questions."
   ]
  },
  {
   "cell_type": "code",
   "execution_count": 23,
   "metadata": {},
   "outputs": [
    {
     "data": {
      "text/plain": [
       "(2411743, 27)"
      ]
     },
     "execution_count": 23,
     "metadata": {},
     "output_type": "execute_result"
    }
   ],
   "source": [
    "new_7904a = df7904a.dropna(subset=[ \n",
    "       'Time', 'Road_Type',\n",
    "       'Junction_Detail', 'Light_Conditions', 'Weather_Conditions',\n",
    "       'Road_Surface_Conditions', 'Special_Conditions_at_Site', 'Vehicle_Type',\n",
    "       'Vehicle_Manoeuvre', 'Vehicle_Location-Restricted_Lane',\n",
    "       'Sex_of_Driver', 'Age_Band_of_Driver',\n",
    "])\n",
    "\n",
    "new_7904a.shape"
   ]
  },
  {
   "cell_type": "markdown",
   "metadata": {},
   "source": [
    "## 2.1.4\n",
    "### Saving 1979 - 2004 (a) Dataset to Pickle Files\n",
    "\n",
    "Below we will save our 1979 - 2004 (a) dataset into two  pickle files for each of our research questions. We will specify only certain columns to be saved for each question, as not all are needed or relevant.\n",
    "\n",
    "## Question One:\n",
    "\n",
    "### (A) and (B)"
   ]
  },
  {
   "cell_type": "code",
   "execution_count": 10,
   "metadata": {
    "collapsed": true
   },
   "outputs": [],
   "source": [
    "cols_Q1AB = ['Accident_Index', 'Accident_Severity',\n",
    "       'Number_of_Vehicles', 'Number_of_Casualties', 'Date', 'Day_of_Week',\n",
    "       'Time', 'Local_Authority_(District)', 'Light_Conditions', 'Weather_Conditions',\n",
    "       'Road_Surface_Conditions', 'Vehicle_Type',\n",
    "       'Sex_of_Driver', 'Age_Band_of_Driver'] #specify columns to save for question 1 (A) and (B)"
   ]
  },
  {
   "cell_type": "code",
   "execution_count": 69,
   "metadata": {},
   "outputs": [
    {
     "name": "stdout",
     "output_type": "stream",
     "text": [
      "8.92 s ± 91.5 ms per loop (mean ± std. dev. of 7 runs, 1 loop each)\n"
     ]
    },
    {
     "data": {
      "text/plain": [
       "<TimeitResult : 8.92 s ± 91.5 ms per loop (mean ± std. dev. of 7 runs, 1 loop each)>"
      ]
     },
     "execution_count": 69,
     "metadata": {},
     "output_type": "execute_result"
    }
   ],
   "source": [
    "pickle_save_time = %timeit -o new_7904a[cols_Q1AB].to_pickle(\"../../data/processed/500_prep_missing_values_7904a_Q1AB.pkl\") #save dataset into a pickle file and print the save time\n",
    "\n",
    "pickle_save_time"
   ]
  },
  {
   "cell_type": "markdown",
   "metadata": {},
   "source": [
    "### (C)\n",
    "\n",
    "\n",
    "Unfortunately, for Question one part (C): _\"Are people who drive for work more dangerous than recreational drivers?\"_ our \"'Journey_Purpose_of_Driver\" column is essential for answering our question. As such (since this column is completely null in this dataset), we will be unable to use this dataset for answering research Question 1 (C).\n",
    "\n",
    "\n",
    "## Question Two:\n",
    "\n",
    "### (A)\n",
    "\n",
    "Unfortunately, for Question two part (A): _\"Are newer cars safer than older cars?\"_ our 'Age_of_Vehicle' column is essential for answering our question. As such (since this column is completely null in our dataset), we will be unable to use this dataset for answering Question 2 Part (A)\n",
    "\n",
    "### (B)"
   ]
  },
  {
   "cell_type": "code",
   "execution_count": 13,
   "metadata": {
    "collapsed": true
   },
   "outputs": [],
   "source": [
    "cols_Q2B = ['Accident_Index', 'Accident_Severity',\n",
    "       'Number_of_Vehicles', 'Number_of_Casualties', 'Date', 'Day_of_Week',\n",
    "       'Time', 'Local_Authority_(District)', 'Light_Conditions', 'Weather_Conditions',\n",
    "       'Road_Surface_Conditions', 'Special_Conditions_at_Site',\n",
    "       'Vehicle_Type', 'Vehicle_Manoeuvre',\n",
    "       'Sex_of_Driver'] #specify columns to save for question 2 (B)"
   ]
  },
  {
   "cell_type": "code",
   "execution_count": 37,
   "metadata": {},
   "outputs": [
    {
     "name": "stdout",
     "output_type": "stream",
     "text": [
      "9.63 s ± 267 ms per loop (mean ± std. dev. of 7 runs, 1 loop each)\n"
     ]
    },
    {
     "data": {
      "text/plain": [
       "<TimeitResult : 9.63 s ± 267 ms per loop (mean ± std. dev. of 7 runs, 1 loop each)>"
      ]
     },
     "execution_count": 37,
     "metadata": {},
     "output_type": "execute_result"
    }
   ],
   "source": [
    "pickle_save_time = %timeit -o new_7904a[cols_Q2B].to_pickle(\"../../data/processed/500_prep_missing_values_7904a_Q2B.pkl\") #save dataset into a pickle file and print the save time\n",
    "\n",
    "pickle_save_time"
   ]
  },
  {
   "cell_type": "markdown",
   "metadata": {},
   "source": [
    "## Question Three:\n",
    "\n",
    "### (A) & (B)\n",
    "\n",
    "Unfortunately, for Question Three parts (A) and (B): \n",
    "\n",
    "* (A) _\"Is it safer to drive in the city of London than in rural Surrey?\"_ \n",
    "* (B) _\"Do more deprived areas experience more road accidents than least deprived areas? (Liverpool vs. Wokingham)\"_\n",
    "\n",
    "Our 'Longitude' and 'Latitude' columns are essential for answering these questions. As such (since both columns are completely null in our dataset), we will be unable to use this dataset for answering Question 3."
   ]
  },
  {
   "cell_type": "markdown",
   "metadata": {},
   "source": [
    "## 2.2\n",
    "## Dataset 1979 - 2004 (b)\n",
    "\n",
    "\n",
    "## 2.2.1\n",
    "### Locating Missing Data\n",
    "\n",
    "As we did above, we will sort through our null values, replacing '-1' and 'Unknown' with an NaN value within our 1979 - 2004 (b) dataset.\n",
    "\n",
    "### '-1' Values\n",
    "\n",
    "\n",
    "For dealing with our '-1' values, we will replace each occurrance of -1 with an NaN value"
   ]
  },
  {
   "cell_type": "code",
   "execution_count": 3,
   "metadata": {
    "collapsed": true
   },
   "outputs": [],
   "source": [
    "df7904b = df7904b.replace(-1,np.NaN)"
   ]
  },
  {
   "cell_type": "markdown",
   "metadata": {},
   "source": [
    "### Unknown Values"
   ]
  },
  {
   "cell_type": "markdown",
   "metadata": {},
   "source": [
    "Likewise for unknown values in our dataset, we will replace all occurrences of unknowns with NaN values."
   ]
  },
  {
   "cell_type": "code",
   "execution_count": 4,
   "metadata": {
    "collapsed": true
   },
   "outputs": [],
   "source": [
    "df7904b = df7904b.replace('unknown',np.NaN)"
   ]
  },
  {
   "cell_type": "markdown",
   "metadata": {},
   "source": [
    "Within our dataset, we also have values labelled 'other/unknown (2005-10)' in our Journey_Purpose_of_Driver column. \n",
    "\n",
    "We need to replace each occurrence of this value with Nan in our datset also."
   ]
  },
  {
   "cell_type": "code",
   "execution_count": 5,
   "metadata": {
    "collapsed": true
   },
   "outputs": [],
   "source": [
    "df7904b = df7904b.replace('other/unknown (2005-10)',np.NaN)"
   ]
  },
  {
   "cell_type": "markdown",
   "metadata": {},
   "source": [
    "## 2.2.2\n",
    "### Null Values\n",
    "\n",
    "Now that we have converted all of our missing values to NaN values, We can begin to study which columns are most impacted by missing data. \n",
    "\n",
    "The easiest way to do this is by using the Pandas isnull method to check whether a cell is missing data. This method generates True (missing) or False (not missing) values accordingingly.\n",
    "\n",
    "We can count the missing values by using the _sum_ method to count the number of 'True' values that the _isnull_ method returns (which are treated as 1's)."
   ]
  },
  {
   "cell_type": "code",
   "execution_count": 6,
   "metadata": {},
   "outputs": [
    {
     "data": {
      "text/plain": [
       "Accident_Index                            0\n",
       "Longitude                           2999999\n",
       "Latitude                            2999999\n",
       "Accident_Severity                         0\n",
       "Number_of_Vehicles                        0\n",
       "Number_of_Casualties                      0\n",
       "Date                                     14\n",
       "Day_of_Week                               0\n",
       "Time                                    137\n",
       "Local_Authority_(District)                0\n",
       "Road_Type                             88676\n",
       "Speed_limit                               0\n",
       "Junction_Detail                          37\n",
       "Light_Conditions                       2169\n",
       "Weather_Conditions                    24792\n",
       "Road_Surface_Conditions                4070\n",
       "Special_Conditions_at_Site             1997\n",
       "Urban_or_Rural_Area                 2999999\n",
       "Vehicle_Type                          28182\n",
       "Vehicle_Manoeuvre                      5120\n",
       "Vehicle_Location-Restricted_Lane      43529\n",
       "Journey_Purpose_of_Driver           2999999\n",
       "Sex_of_Driver                        131609\n",
       "Age_Band_of_Driver                   196411\n",
       "Age_of_Vehicle                      1898293\n",
       "Driver_IMD_Decile                   2999999\n",
       "Driver_Home_Area_Type               2999999\n",
       "dtype: int64"
      ]
     },
     "execution_count": 6,
     "metadata": {},
     "output_type": "execute_result"
    }
   ],
   "source": [
    "df7904b.isnull().sum()"
   ]
  },
  {
   "cell_type": "markdown",
   "metadata": {},
   "source": [
    "From the above output, we can see that there are quite a lot of missing values within this dataset, alike the previous one.\n",
    "\n",
    "Below we will plot the columns which have missing values to see which columns are most effected"
   ]
  },
  {
   "cell_type": "code",
   "execution_count": 16,
   "metadata": {},
   "outputs": [
    {
     "data": {
      "text/plain": [
       "<matplotlib.axes._subplots.AxesSubplot at 0x20408edcfd0>"
      ]
     },
     "execution_count": 16,
     "metadata": {},
     "output_type": "execute_result"
    },
    {
     "data": {
      "image/png": "[encoded data removed]",
      "text/plain": [
       "<matplotlib.figure.Figure at 0x20408edcb38>"
      ]
     },
     "metadata": {},
     "output_type": "display_data"
    }
   ],
   "source": [
    "df7904b[cols_to_plot].isnull().sum().plot(figsize=(12,10), kind='barh', title='Number of missing Values')"
   ]
  },
  {
   "cell_type": "markdown",
   "metadata": {},
   "source": [
    "From above, we can see that unfortunately our dataset has a large volume of null values, as well as 7 columns which are completely null: \n",
    "\n",
    "Latitude, Longitude, Urban_or_Rural_Area, Journey_Purpose_of_Driver, Age_of_Vehicle, Driver_IMD_Decile and Driver_Home_Area_Type.\n",
    "\n",
    "## 2.2.3\n",
    "### Dropping Rows with Missing Values\n",
    "\n",
    "For the remaining rows which are not hugely effected by null values, we will create a new dataframe by using `dropna` to drop any rows with missing values in those columns.\n",
    "\n",
    "If we were to use the 'dropna' method on rows within columns which have all or close to 100% missing values, we would end up with a dataset of 0 rows!\n",
    "\n",
    "Once we have performed the dropna method on the specified rows below, we will use this new dataset to answer subsequent research questions"
   ]
  },
  {
   "cell_type": "code",
   "execution_count": 8,
   "metadata": {},
   "outputs": [
    {
     "data": {
      "text/plain": [
       "(2621931, 27)"
      ]
     },
     "execution_count": 8,
     "metadata": {},
     "output_type": "execute_result"
    }
   ],
   "source": [
    "new_7904b = df7904b.dropna(subset=[ \n",
    "       'Time', 'Road_Type',\n",
    "       'Junction_Detail', 'Light_Conditions', 'Weather_Conditions',\n",
    "       'Road_Surface_Conditions', 'Special_Conditions_at_Site', 'Vehicle_Type',\n",
    "       'Vehicle_Manoeuvre', 'Vehicle_Location-Restricted_Lane',\n",
    "       'Sex_of_Driver', 'Age_Band_of_Driver',\n",
    "]) \n",
    "\n",
    "new_7904b.shape"
   ]
  },
  {
   "cell_type": "markdown",
   "metadata": {},
   "source": [
    "## 2.2.4\n",
    "### Saving Dataset to Pickle Files\n",
    "\n",
    "Below we will save our 1979 - 2004 (b) dataset into two  pickle files for each of our research questions. We will specify only certain columns to be saved for each question, as not all are needed or relevant.\n",
    "\n",
    "## Question One:\n",
    "\n",
    "### (A) and (B):"
   ]
  },
  {
   "cell_type": "code",
   "execution_count": 11,
   "metadata": {},
   "outputs": [
    {
     "name": "stdout",
     "output_type": "stream",
     "text": [
      "9.89 s ± 318 ms per loop (mean ± std. dev. of 7 runs, 1 loop each)\n"
     ]
    },
    {
     "data": {
      "text/plain": [
       "<TimeitResult : 9.89 s ± 318 ms per loop (mean ± std. dev. of 7 runs, 1 loop each)>"
      ]
     },
     "execution_count": 11,
     "metadata": {},
     "output_type": "execute_result"
    }
   ],
   "source": [
    "pickle_save_time = %timeit -o new_7904b[cols_Q1AB].to_pickle(\"../../data/processed/500_prep_missing_values_7904b_Q1AB.pkl\") #save dataset into a pickle file and print the save time\n",
    "\n",
    "pickle_save_time"
   ]
  },
  {
   "cell_type": "markdown",
   "metadata": {},
   "source": [
    "## Question Two:\n",
    "\n",
    "### (A)\n",
    "\n",
    "Unfortunately, for Question two part (A): _\"Are newer cars safer than older cars?\"_ our 'Age_of_Vehicle' column is essential for answering our question. As such, we will be unable to use this dataset for answering Question 2 Part (A)\n",
    "\n",
    "### (B)"
   ]
  },
  {
   "cell_type": "code",
   "execution_count": 14,
   "metadata": {},
   "outputs": [
    {
     "name": "stdout",
     "output_type": "stream",
     "text": [
      "10.3 s ± 144 ms per loop (mean ± std. dev. of 7 runs, 1 loop each)\n"
     ]
    },
    {
     "data": {
      "text/plain": [
       "<TimeitResult : 10.3 s ± 144 ms per loop (mean ± std. dev. of 7 runs, 1 loop each)>"
      ]
     },
     "execution_count": 14,
     "metadata": {},
     "output_type": "execute_result"
    }
   ],
   "source": [
    "pickle_save_time = %timeit -o new_7904b[cols_Q2B].to_pickle(\"../../data/processed/500_prep_missing_values_df7904b_Q2B.pkl\") #save dataset into a pickle file and print the save time\n",
    "\n",
    "pickle_save_time"
   ]
  },
  {
   "cell_type": "markdown",
   "metadata": {},
   "source": [
    "## Question Three:\n",
    "\n",
    "\n",
    "### (A) & (B)\n",
    "\n",
    "Unfortunately, for Question Three parts (A) and (B): \n",
    "\n",
    "* (A) _\"Is it safer to drive in the city of London than in rural Surrey?\"_ \n",
    "* (B) _\"Do more deprived areas experience more road accidents than least deprived areas? (Liverpool vs. Wokingham)\"_\n",
    "\n",
    "Our 'Longitude' and 'Latitude' columns are essential for answering these questions. As such (since both columns are completely null in our dataset), we will be unable to use this dataset for answering Question 3."
   ]
  },
  {
   "cell_type": "markdown",
   "metadata": {},
   "source": [
    "## 2.3\n",
    "## Dataset 2005 - 2014\n",
    "\n",
    "## 2.3.1\n",
    "### Locating Missing Values\n",
    "Again, we will replace all '-1' and 'Unknown' values with NaN and remove them below.\n",
    "\n",
    "### '-1' Values\n",
    "\n",
    "For dealing with our '-1' values, we will replace each occurrance of -1 with an NaN value"
   ]
  },
  {
   "cell_type": "code",
   "execution_count": 3,
   "metadata": {
    "collapsed": true
   },
   "outputs": [],
   "source": [
    "df0514 = df0514.replace(-1,np.NaN)"
   ]
  },
  {
   "cell_type": "markdown",
   "metadata": {},
   "source": [
    "### Unknown Values\n",
    "\n",
    "Likewise for unknown values in our dataset, we will replace all occurrences of unknowns with Nan values."
   ]
  },
  {
   "cell_type": "code",
   "execution_count": 4,
   "metadata": {
    "collapsed": true
   },
   "outputs": [],
   "source": [
    "df0514 = df0514.replace('unknown',np.NaN)"
   ]
  },
  {
   "cell_type": "markdown",
   "metadata": {},
   "source": [
    "Within our dataset, we also have values labelled 'other/unknown (2005-10)' in our Journey_Purpose_of_Driver column. \n",
    "\n",
    "We need to replace each occurrence of this value with Nan in our datset also."
   ]
  },
  {
   "cell_type": "code",
   "execution_count": 5,
   "metadata": {
    "collapsed": true
   },
   "outputs": [],
   "source": [
    "df0514 = df0514.replace('other/unknown (2005-10)',np.NaN)"
   ]
  },
  {
   "cell_type": "markdown",
   "metadata": {},
   "source": [
    "## 2.3.2\n",
    "### Null Values"
   ]
  },
  {
   "cell_type": "markdown",
   "metadata": {},
   "source": [
    "Now that we have converted all of our missing values to NaN values, We can begin to study which columns are most impacted by missing data. \n",
    "\n",
    "The easiest way to do this is by using the Pandas isnull method to check whether a cell is missing data. This method generates True (missing) or False (not missing) values accordingingly.\n",
    "\n",
    "We can count the missing values by using the _sum_ method to count the number of 'True' values that the _isnull_ method returns (which are treated as 1's)."
   ]
  },
  {
   "cell_type": "code",
   "execution_count": 6,
   "metadata": {},
   "outputs": [
    {
     "data": {
      "text/plain": [
       "Accident_Index                            0\n",
       "Longitude                               200\n",
       "Latitude                                198\n",
       "Accident_Severity                         0\n",
       "Number_of_Vehicles                        0\n",
       "Number_of_Casualties                      0\n",
       "Date                                      0\n",
       "Day_of_Week                               0\n",
       "Time                                    222\n",
       "Local_Authority_(District)                0\n",
       "Road_Type                             15993\n",
       "Speed_limit                               0\n",
       "Junction_Detail                          33\n",
       "Light_Conditions                          0\n",
       "Weather_Conditions                    56948\n",
       "Road_Surface_Conditions                3806\n",
       "Special_Conditions_at_Site               30\n",
       "Urban_or_Rural_Area                     257\n",
       "Vehicle_Type                          24778\n",
       "Vehicle_Manoeuvre                      1080\n",
       "Vehicle_Location-Restricted_Lane         74\n",
       "Journey_Purpose_of_Driver           2153948\n",
       "Sex_of_Driver                        173756\n",
       "Age_Band_of_Driver                   330608\n",
       "Age_of_Vehicle                       874989\n",
       "Driver_IMD_Decile                    849921\n",
       "Driver_Home_Area_Type                588611\n",
       "dtype: int64"
      ]
     },
     "execution_count": 6,
     "metadata": {},
     "output_type": "execute_result"
    }
   ],
   "source": [
    "df0514.isnull().sum()"
   ]
  },
  {
   "cell_type": "markdown",
   "metadata": {},
   "source": [
    "From the above output, we can see that there are quite a few null values present in this dataset, however not nearly as many as the two previous datasets (df7904a and df7904b).\n",
    "\n",
    "Below we will plot the columns which have missing values to see which columns are most effected:"
   ]
  },
  {
   "cell_type": "code",
   "execution_count": 8,
   "metadata": {
    "collapsed": true
   },
   "outputs": [],
   "source": [
    "null_cols = ['Longitude', 'Latitude',\n",
    "       'Time', 'Road_Type',\n",
    "       'Junction_Detail', 'Weather_Conditions',\n",
    "       'Road_Surface_Conditions', 'Special_Conditions_at_Site',\n",
    "       'Urban_or_Rural_Area', 'Vehicle_Type', 'Vehicle_Manoeuvre',\n",
    "       'Vehicle_Location-Restricted_Lane', 'Journey_Purpose_of_Driver',\n",
    "       'Sex_of_Driver', 'Age_Band_of_Driver', 'Age_of_Vehicle',\n",
    "       'Driver_IMD_Decile', 'Driver_Home_Area_Type']"
   ]
  },
  {
   "cell_type": "code",
   "execution_count": 9,
   "metadata": {},
   "outputs": [
    {
     "data": {
      "text/plain": [
       "<matplotlib.axes._subplots.AxesSubplot at 0x1b3394bb7f0>"
      ]
     },
     "execution_count": 9,
     "metadata": {},
     "output_type": "execute_result"
    },
    {
     "data": {
      "image/png": "[encoded data removed]",
      "text/plain": [
       "<matplotlib.figure.Figure at 0x1b3394b8e48>"
      ]
     },
     "metadata": {},
     "output_type": "display_data"
    }
   ],
   "source": [
    "df0514[null_cols].isnull().sum().plot(figsize=(12,10), kind='barh', title='Number of missing Values')"
   ]
  },
  {
   "cell_type": "markdown",
   "metadata": {},
   "source": [
    "From above, we can see that unfortunately our dataset contains a few null values, with the following rows most effected:\n",
    "\n",
    "Journey_Purpose_of_Driver, Age_of_Vehicle, Driver_IMD_Decile and Driver_Home_Area_Type, Sex_of_Driver, Age_Band_of_Driver\n",
    "\n",
    "Unlike before, we will create new dataframes for each question containing only the columns which are needed to answer those questions. We will then drop NaN rows from these dataframes and save the cleaned datasets to pickle files. We are doing this to ensure that we maximise the amount of data which we will have in our final datasets.\n",
    "\n",
    "## 2.3.3\n",
    "## Question One\n",
    "\n",
    "### (A) & (B)\n"
   ]
  },
  {
   "cell_type": "code",
   "execution_count": 11,
   "metadata": {
    "collapsed": true
   },
   "outputs": [],
   "source": [
    "df_0514_Q1AB = df0514[cols_Q1AB].copy() #create a new dataframe, which is a copy of the original with only specified columns"
   ]
  },
  {
   "cell_type": "code",
   "execution_count": 46,
   "metadata": {},
   "outputs": [
    {
     "data": {
      "text/plain": [
       "Accident_Index                     0\n",
       "Accident_Severity                  0\n",
       "Number_of_Vehicles                 0\n",
       "Number_of_Casualties               0\n",
       "Date                               0\n",
       "Day_of_Week                        0\n",
       "Time                             222\n",
       "Local_Authority_(District)         0\n",
       "Light_Conditions                   0\n",
       "Weather_Conditions             56948\n",
       "Road_Surface_Conditions         3806\n",
       "Vehicle_Type                   24778\n",
       "Sex_of_Driver                 173756\n",
       "Age_Band_of_Driver            330608\n",
       "dtype: int64"
      ]
     },
     "execution_count": 46,
     "metadata": {},
     "output_type": "execute_result"
    }
   ],
   "source": [
    "df_0514_Q1AB.isnull().sum() #sum the number of null values for each column in the dataframe"
   ]
  },
  {
   "cell_type": "markdown",
   "metadata": {
    "collapsed": true
   },
   "source": [
    "\n",
    "## Dropping Rows with Some Missing Values\n",
    "\n",
    "We will now create a new dataframe by using `dropna` to drop any rows with missing values in the columns provided."
   ]
  },
  {
   "cell_type": "code",
   "execution_count": 47,
   "metadata": {},
   "outputs": [
    {
     "data": {
      "text/plain": [
       "(2600036, 14)"
      ]
     },
     "execution_count": 47,
     "metadata": {},
     "output_type": "execute_result"
    }
   ],
   "source": [
    "new_0514_Q1AB = df_0514_Q1AB.dropna(subset=[ \n",
    "       'Time', 'Weather_Conditions',\n",
    "       'Road_Surface_Conditions', 'Vehicle_Type',\n",
    "       'Sex_of_Driver', 'Age_Band_of_Driver',\n",
    "])\n",
    "\n",
    "new_0514_Q1AB.shape"
   ]
  },
  {
   "cell_type": "markdown",
   "metadata": {},
   "source": [
    "### (C)"
   ]
  },
  {
   "cell_type": "code",
   "execution_count": 48,
   "metadata": {
    "collapsed": true
   },
   "outputs": [],
   "source": [
    "cols_Q1C = ['Accident_Index', 'Accident_Severity',\n",
    "       'Number_of_Vehicles', 'Number_of_Casualties', 'Date', 'Day_of_Week',\n",
    "       'Time', 'Local_Authority_(District)', 'Light_Conditions', 'Weather_Conditions',\n",
    "       'Road_Surface_Conditions', 'Vehicle_Type',\n",
    "       'Sex_of_Driver', 'Age_Band_of_Driver', 'Journey_Purpose_of_Driver'] #define the columns to be used for Question 1 (C)"
   ]
  },
  {
   "cell_type": "code",
   "execution_count": 49,
   "metadata": {
    "collapsed": true
   },
   "outputs": [],
   "source": [
    "df_0514_Q1C = df0514[cols_Q1C].copy() #create a new dataframe, which is a copy of the original with only specified columns"
   ]
  },
  {
   "cell_type": "code",
   "execution_count": 51,
   "metadata": {},
   "outputs": [
    {
     "data": {
      "text/plain": [
       "Accident_Index                      0\n",
       "Accident_Severity                   0\n",
       "Number_of_Vehicles                  0\n",
       "Number_of_Casualties                0\n",
       "Date                                0\n",
       "Day_of_Week                         0\n",
       "Time                              222\n",
       "Local_Authority_(District)          0\n",
       "Light_Conditions                    0\n",
       "Weather_Conditions              56948\n",
       "Road_Surface_Conditions          3806\n",
       "Vehicle_Type                    24778\n",
       "Sex_of_Driver                  173756\n",
       "Age_Band_of_Driver             330608\n",
       "Journey_Purpose_of_Driver     2153948\n",
       "dtype: int64"
      ]
     },
     "execution_count": 51,
     "metadata": {},
     "output_type": "execute_result"
    }
   ],
   "source": [
    "df_0514_Q1C.isnull().sum() #sum the number of null values for each column in the dataframe"
   ]
  },
  {
   "cell_type": "markdown",
   "metadata": {},
   "source": [
    "## Dropping Rows with Some Missing Values\n",
    "\n",
    "We will now create a new dataframe by using dropna to drop any rows with missing values in the columns provided"
   ]
  },
  {
   "cell_type": "code",
   "execution_count": 52,
   "metadata": {},
   "outputs": [
    {
     "data": {
      "text/plain": [
       "(792713, 15)"
      ]
     },
     "execution_count": 52,
     "metadata": {},
     "output_type": "execute_result"
    }
   ],
   "source": [
    "new_0514_Q1C = df_0514_Q1C.dropna(subset=[ \n",
    "       'Time', 'Weather_Conditions',\n",
    "       'Road_Surface_Conditions', 'Vehicle_Type',\n",
    "       'Sex_of_Driver', 'Age_Band_of_Driver', 'Journey_Purpose_of_Driver'\n",
    "])\n",
    "\n",
    "new_0514_Q1C.shape"
   ]
  },
  {
   "cell_type": "markdown",
   "metadata": {},
   "source": [
    "## 2.3.4\n",
    "## Question Two\n",
    "\n",
    "### (A)"
   ]
  },
  {
   "cell_type": "code",
   "execution_count": 53,
   "metadata": {
    "collapsed": true
   },
   "outputs": [],
   "source": [
    "cols_Q2A = ['Accident_Index', 'Accident_Severity',\n",
    "       'Number_of_Vehicles', 'Number_of_Casualties', 'Date', 'Day_of_Week',\n",
    "       'Time', 'Local_Authority_(District)', 'Light_Conditions', 'Weather_Conditions',\n",
    "       'Road_Surface_Conditions', 'Special_Conditions_at_Site',\n",
    "       'Vehicle_Type', 'Vehicle_Manoeuvre',\n",
    "       'Sex_of_Driver', 'Age_of_Vehicle'] #define the columns to be used for Question 1 (C)"
   ]
  },
  {
   "cell_type": "code",
   "execution_count": 54,
   "metadata": {
    "collapsed": true
   },
   "outputs": [],
   "source": [
    "df_0514_Q2A = df0514[cols_Q2A].copy() #create a new dataframe, which is a copy of the original with only specified columns"
   ]
  },
  {
   "cell_type": "code",
   "execution_count": 55,
   "metadata": {},
   "outputs": [
    {
     "data": {
      "text/plain": [
       "Accident_Index                     0\n",
       "Accident_Severity                  0\n",
       "Number_of_Vehicles                 0\n",
       "Number_of_Casualties               0\n",
       "Date                               0\n",
       "Day_of_Week                        0\n",
       "Time                             222\n",
       "Local_Authority_(District)         0\n",
       "Light_Conditions                   0\n",
       "Weather_Conditions             56948\n",
       "Road_Surface_Conditions         3806\n",
       "Special_Conditions_at_Site        30\n",
       "Vehicle_Type                   24778\n",
       "Vehicle_Manoeuvre               1080\n",
       "Sex_of_Driver                 173756\n",
       "Age_of_Vehicle                874989\n",
       "dtype: int64"
      ]
     },
     "execution_count": 55,
     "metadata": {},
     "output_type": "execute_result"
    }
   ],
   "source": [
    "df_0514_Q2A.isnull().sum() #sum the number of null values for each column in the dataframe"
   ]
  },
  {
   "cell_type": "markdown",
   "metadata": {},
   "source": [
    "## Dropping Rows with Some Missing Values\n",
    "\n",
    "We will now create a new dataframe by using dropna to drop any rows with missing values in the columns provided"
   ]
  },
  {
   "cell_type": "code",
   "execution_count": 56,
   "metadata": {},
   "outputs": [
    {
     "data": {
      "text/plain": [
       "(2036044, 16)"
      ]
     },
     "execution_count": 56,
     "metadata": {},
     "output_type": "execute_result"
    }
   ],
   "source": [
    "new_0514_Q2A = df_0514_Q2A.dropna(subset=[ \n",
    "       'Time', 'Weather_Conditions',\n",
    "       'Road_Surface_Conditions', 'Special_Conditions_at_Site', 'Vehicle_Type',\n",
    "       'Vehicle_Manoeuvre', 'Sex_of_Driver', 'Age_of_Vehicle',\n",
    "])\n",
    "\n",
    "new_0514_Q2A.shape"
   ]
  },
  {
   "cell_type": "markdown",
   "metadata": {},
   "source": [
    "### (B)"
   ]
  },
  {
   "cell_type": "code",
   "execution_count": 57,
   "metadata": {
    "collapsed": true
   },
   "outputs": [],
   "source": [
    "df_0514_Q2B = df0514[cols_Q2B].copy() #create a new dataframe, which is a copy of the original with only specified columns"
   ]
  },
  {
   "cell_type": "code",
   "execution_count": 58,
   "metadata": {},
   "outputs": [
    {
     "data": {
      "text/plain": [
       "Accident_Index                     0\n",
       "Accident_Severity                  0\n",
       "Number_of_Vehicles                 0\n",
       "Number_of_Casualties               0\n",
       "Date                               0\n",
       "Day_of_Week                        0\n",
       "Time                             222\n",
       "Local_Authority_(District)         0\n",
       "Light_Conditions                   0\n",
       "Weather_Conditions             56948\n",
       "Road_Surface_Conditions         3806\n",
       "Special_Conditions_at_Site        30\n",
       "Vehicle_Type                   24778\n",
       "Vehicle_Manoeuvre               1080\n",
       "Sex_of_Driver                 173756\n",
       "dtype: int64"
      ]
     },
     "execution_count": 58,
     "metadata": {},
     "output_type": "execute_result"
    }
   ],
   "source": [
    "df_0514_Q2B.isnull().sum() #sum the number of null values for each column in the dataframe"
   ]
  },
  {
   "cell_type": "markdown",
   "metadata": {},
   "source": [
    "## Dropping Rows with Some Missing Values\n",
    "\n",
    "We will now create a new dataframe by using dropna to drop any rows with missing values in the columns provided"
   ]
  },
  {
   "cell_type": "code",
   "execution_count": 59,
   "metadata": {},
   "outputs": [
    {
     "data": {
      "text/plain": [
       "(2759693, 15)"
      ]
     },
     "execution_count": 59,
     "metadata": {},
     "output_type": "execute_result"
    }
   ],
   "source": [
    "new_0514_Q2B = df_0514_Q2B.dropna(subset=[ \n",
    "       'Time', 'Weather_Conditions',\n",
    "       'Road_Surface_Conditions', 'Special_Conditions_at_Site', 'Vehicle_Type',\n",
    "       'Vehicle_Manoeuvre', 'Sex_of_Driver'\n",
    "])\n",
    "\n",
    "new_0514_Q2B.shape"
   ]
  },
  {
   "cell_type": "markdown",
   "metadata": {},
   "source": [
    "## 2.3.5\n",
    "## Question Three:\n",
    "\n",
    "### (A)"
   ]
  },
  {
   "cell_type": "code",
   "execution_count": 7,
   "metadata": {
    "collapsed": true
   },
   "outputs": [],
   "source": [
    "cols_Q3A = ['Accident_Index', 'Longitude', 'Latitude', 'Accident_Severity',\n",
    "'Number_of_Vehicles', 'Number_of_Casualties', 'Date', 'Day_of_Week',\n",
    "'Time', 'Local_Authority_(District)',  'Speed_limit',  'Junction_Detail', 'Vehicle_Type', 'Urban_or_Rural_Area', 'Vehicle_Location-Restricted_Lane', 'Sex_of_Driver'\n",
    "] #define columns for use in Question 3 (A)"
   ]
  },
  {
   "cell_type": "code",
   "execution_count": 8,
   "metadata": {
    "collapsed": true
   },
   "outputs": [],
   "source": [
    "df_0514_Q3A = df0514[cols_Q3A].copy() #create a new dataframe, which is a copy of the original with only specified columns"
   ]
  },
  {
   "cell_type": "code",
   "execution_count": 9,
   "metadata": {},
   "outputs": [
    {
     "data": {
      "text/plain": [
       "Accident_Index                           0\n",
       "Longitude                              200\n",
       "Latitude                               198\n",
       "Accident_Severity                        0\n",
       "Number_of_Vehicles                       0\n",
       "Number_of_Casualties                     0\n",
       "Date                                     0\n",
       "Day_of_Week                              0\n",
       "Time                                   222\n",
       "Local_Authority_(District)               0\n",
       "Speed_limit                              0\n",
       "Junction_Detail                         33\n",
       "Vehicle_Type                         24778\n",
       "Urban_or_Rural_Area                    257\n",
       "Vehicle_Location-Restricted_Lane        74\n",
       "Sex_of_Driver                       173756\n",
       "dtype: int64"
      ]
     },
     "execution_count": 9,
     "metadata": {},
     "output_type": "execute_result"
    }
   ],
   "source": [
    "df_0514_Q3A.isnull().sum() #sum the number of null values for each column in the dataframe"
   ]
  },
  {
   "cell_type": "markdown",
   "metadata": {},
   "source": [
    "## Dropping Rows with Some Missing Values\n",
    "\n",
    "We will now create a new dataframe by using dropna to drop any rows with missing values in the columns provided"
   ]
  },
  {
   "cell_type": "code",
   "execution_count": 10,
   "metadata": {},
   "outputs": [
    {
     "data": {
      "text/plain": [
       "(2810328, 16)"
      ]
     },
     "execution_count": 10,
     "metadata": {},
     "output_type": "execute_result"
    }
   ],
   "source": [
    "new_0514_Q3A = df_0514_Q3A.dropna(subset=[\n",
    "    'Longitude', 'Latitude', 'Time', 'Junction_Detail', 'Vehicle_Type', \n",
    "    'Urban_or_Rural_Area', 'Vehicle_Location-Restricted_Lane', 'Sex_of_Driver'])\n",
    "\n",
    "new_0514_Q3A.shape"
   ]
  },
  {
   "cell_type": "markdown",
   "metadata": {},
   "source": [
    "### (B)"
   ]
  },
  {
   "cell_type": "code",
   "execution_count": 15,
   "metadata": {
    "collapsed": true
   },
   "outputs": [],
   "source": [
    "cols_Q3B = ['Accident_Index', 'Longitude', 'Latitude', 'Number_of_Vehicles', 'Number_of_Casualties', 'Date', 'Day_of_Week', 'Local_Authority_(District)',\n",
    " 'Special_Conditions_at_Site', 'Urban_or_Rural_Area', 'Vehicle_Type',\n",
    " 'Sex_of_Driver',  'Driver_IMD_Decile'] # define columns to be used in Question 3 (B)"
   ]
  },
  {
   "cell_type": "code",
   "execution_count": 16,
   "metadata": {
    "collapsed": true
   },
   "outputs": [],
   "source": [
    "df_0514_Q3B = df0514[cols_Q3B].copy() #create a new dataframe, which is a copy of the original with only specified columns"
   ]
  },
  {
   "cell_type": "code",
   "execution_count": 17,
   "metadata": {},
   "outputs": [
    {
     "data": {
      "text/plain": [
       "Accident_Index                     0\n",
       "Longitude                        200\n",
       "Latitude                         198\n",
       "Number_of_Vehicles                 0\n",
       "Number_of_Casualties               0\n",
       "Date                               0\n",
       "Day_of_Week                        0\n",
       "Local_Authority_(District)         0\n",
       "Special_Conditions_at_Site        30\n",
       "Urban_or_Rural_Area              257\n",
       "Vehicle_Type                   24778\n",
       "Sex_of_Driver                 173756\n",
       "Driver_IMD_Decile             849921\n",
       "dtype: int64"
      ]
     },
     "execution_count": 17,
     "metadata": {},
     "output_type": "execute_result"
    }
   ],
   "source": [
    "df_0514_Q3B.isnull().sum() #sum the number of null values for each column in the dataframe"
   ]
  },
  {
   "cell_type": "code",
   "execution_count": 18,
   "metadata": {},
   "outputs": [
    {
     "data": {
      "text/plain": [
       "Index(['Accident_Index', 'Longitude', 'Latitude', 'Number_of_Vehicles',\n",
       "       'Number_of_Casualties', 'Date', 'Day_of_Week',\n",
       "       'Local_Authority_(District)', 'Special_Conditions_at_Site',\n",
       "       'Urban_or_Rural_Area', 'Vehicle_Type', 'Sex_of_Driver',\n",
       "       'Driver_IMD_Decile'],\n",
       "      dtype='object')"
      ]
     },
     "execution_count": 18,
     "metadata": {},
     "output_type": "execute_result"
    }
   ],
   "source": [
    "df_0514_Q3B.columns #display columns in dataframe"
   ]
  },
  {
   "cell_type": "markdown",
   "metadata": {},
   "source": [
    "## Dropping Rows with Some Missing Values\n",
    "\n",
    "We will now create a new dataframe by using dropna to drop any rows with missing values in the columns provided"
   ]
  },
  {
   "cell_type": "code",
   "execution_count": 19,
   "metadata": {},
   "outputs": [
    {
     "data": {
      "text/plain": [
       "(2133735, 13)"
      ]
     },
     "execution_count": 19,
     "metadata": {},
     "output_type": "execute_result"
    }
   ],
   "source": [
    "new_0514_Q3B = df_0514_Q3B.dropna(subset=[ \n",
    "     'Longitude', 'Latitude', 'Number_of_Vehicles',\n",
    "       'Special_Conditions_at_Site',\n",
    "       'Urban_or_Rural_Area', 'Vehicle_Type', 'Sex_of_Driver',\n",
    "       'Driver_IMD_Decile'  \n",
    "])\n",
    "\n",
    "new_0514_Q3B.shape"
   ]
  },
  {
   "cell_type": "markdown",
   "metadata": {},
   "source": [
    "## 2.3.6\n",
    "## Save Datasets to Pickle Files\n",
    "\n",
    "Once all of our Null values have been dropped, and we have created our new dataframes, we will save each dataframe into a pickle file.\n",
    "\n",
    "### Q1. (A) & (B)"
   ]
  },
  {
   "cell_type": "code",
   "execution_count": 68,
   "metadata": {},
   "outputs": [
    {
     "name": "stdout",
     "output_type": "stream",
     "text": [
      "8.77 s ± 88.9 ms per loop (mean ± std. dev. of 7 runs, 1 loop each)\n"
     ]
    },
    {
     "data": {
      "text/plain": [
       "<TimeitResult : 8.77 s ± 88.9 ms per loop (mean ± std. dev. of 7 runs, 1 loop each)>"
      ]
     },
     "execution_count": 68,
     "metadata": {},
     "output_type": "execute_result"
    }
   ],
   "source": [
    "pickle_save_time = %timeit -o new_0514_Q1AB.to_pickle(\"../../data/processed/500_prep_missing_values_0514_Q1AB.pkl\") #save dataset into a pickle file and print the save time\n",
    "\n",
    "pickle_save_time"
   ]
  },
  {
   "cell_type": "markdown",
   "metadata": {},
   "source": [
    "### Q1. (C)"
   ]
  },
  {
   "cell_type": "code",
   "execution_count": 71,
   "metadata": {},
   "outputs": [
    {
     "name": "stdout",
     "output_type": "stream",
     "text": [
      "3.09 s ± 74.7 ms per loop (mean ± std. dev. of 7 runs, 1 loop each)\n"
     ]
    },
    {
     "data": {
      "text/plain": [
       "<TimeitResult : 3.09 s ± 74.7 ms per loop (mean ± std. dev. of 7 runs, 1 loop each)>"
      ]
     },
     "execution_count": 71,
     "metadata": {},
     "output_type": "execute_result"
    }
   ],
   "source": [
    "pickle_save_time = %timeit -o new_0514_Q1C.to_pickle(\"../../data/processed/500_prep_missing_values_0514_Q1C.pkl\") #save dataset into a pickle file and print the save time\n",
    "\n",
    "pickle_save_time"
   ]
  },
  {
   "cell_type": "markdown",
   "metadata": {},
   "source": [
    "### Q2. (A)"
   ]
  },
  {
   "cell_type": "code",
   "execution_count": 72,
   "metadata": {},
   "outputs": [
    {
     "name": "stdout",
     "output_type": "stream",
     "text": [
      "7.9 s ± 203 ms per loop (mean ± std. dev. of 7 runs, 1 loop each)\n"
     ]
    },
    {
     "data": {
      "text/plain": [
       "<TimeitResult : 7.9 s ± 203 ms per loop (mean ± std. dev. of 7 runs, 1 loop each)>"
      ]
     },
     "execution_count": 72,
     "metadata": {},
     "output_type": "execute_result"
    }
   ],
   "source": [
    "pickle_save_time = %timeit -o new_0514_Q2A.to_pickle(\"../../data/processed/500_prep_missing_values_0514_Q2A.pkl\") #save dataset into a pickle file and print the save time\n",
    "\n",
    "pickle_save_time"
   ]
  },
  {
   "cell_type": "markdown",
   "metadata": {},
   "source": [
    "### Q2. (B)"
   ]
  },
  {
   "cell_type": "code",
   "execution_count": 73,
   "metadata": {},
   "outputs": [
    {
     "name": "stdout",
     "output_type": "stream",
     "text": [
      "9.55 s ± 251 ms per loop (mean ± std. dev. of 7 runs, 1 loop each)\n"
     ]
    },
    {
     "data": {
      "text/plain": [
       "<TimeitResult : 9.55 s ± 251 ms per loop (mean ± std. dev. of 7 runs, 1 loop each)>"
      ]
     },
     "execution_count": 73,
     "metadata": {},
     "output_type": "execute_result"
    }
   ],
   "source": [
    "pickle_save_time = %timeit -o new_0514_Q2B.to_pickle(\"../../data/processed/500_prep_missing_values_0514_Q2B.pkl\") #save dataset into a pickle file and print the save time\n",
    "\n",
    "pickle_save_time"
   ]
  },
  {
   "cell_type": "markdown",
   "metadata": {},
   "source": [
    "### Q3. (A)"
   ]
  },
  {
   "cell_type": "code",
   "execution_count": 11,
   "metadata": {},
   "outputs": [
    {
     "name": "stdout",
     "output_type": "stream",
     "text": [
      "9.66 s ± 95.6 ms per loop (mean ± std. dev. of 7 runs, 1 loop each)\n"
     ]
    },
    {
     "data": {
      "text/plain": [
       "<TimeitResult : 9.66 s ± 95.6 ms per loop (mean ± std. dev. of 7 runs, 1 loop each)>"
      ]
     },
     "execution_count": 11,
     "metadata": {},
     "output_type": "execute_result"
    }
   ],
   "source": [
    "pickle_save_time = %timeit -o new_0514_Q3A.to_pickle(\"../../data/processed/500_prep_missing_values_0514_Q3A.pkl\") #save dataset into a pickle file and print the save time\n",
    "\n",
    "pickle_save_time"
   ]
  },
  {
   "cell_type": "markdown",
   "metadata": {},
   "source": [
    "### Q3. (B)"
   ]
  },
  {
   "cell_type": "code",
   "execution_count": 20,
   "metadata": {},
   "outputs": [
    {
     "name": "stdout",
     "output_type": "stream",
     "text": [
      "6.05 s ± 114 ms per loop (mean ± std. dev. of 7 runs, 1 loop each)\n"
     ]
    },
    {
     "data": {
      "text/plain": [
       "<TimeitResult : 6.05 s ± 114 ms per loop (mean ± std. dev. of 7 runs, 1 loop each)>"
      ]
     },
     "execution_count": 20,
     "metadata": {},
     "output_type": "execute_result"
    }
   ],
   "source": [
    "pickle_save_time = %timeit -o new_0514_Q3B.to_pickle(\"../../data/processed/500_prep_missing_values_0514_Q3B.pkl\") #save dataset into a pickle file and print the save time\n",
    "\n",
    "pickle_save_time"
   ]
  },
  {
   "cell_type": "markdown",
   "metadata": {
    "collapsed": true
   },
   "source": [
    "## 3.\n",
    "# Create Data Dictionaries\n",
    "\n",
    "Below we will create data dictionaries for each of our pickle files, to summarise their contents."
   ]
  },
  {
   "cell_type": "code",
   "execution_count": 3,
   "metadata": {},
   "outputs": [
    {
     "data": {
      "text/html": [
       "<div>\n",
       "<style scoped>\n",
       "    .dataframe tbody tr th:only-of-type {\n",
       "        vertical-align: middle;\n",
       "    }\n",
       "\n",
       "    .dataframe tbody tr th {\n",
       "        vertical-align: top;\n",
       "    }\n",
       "\n",
       "    .dataframe thead th {\n",
       "        text-align: right;\n",
       "    }\n",
       "</style>\n",
       "<table border=\"1\" class=\"dataframe\">\n",
       "  <thead>\n",
       "    <tr style=\"text-align: right;\">\n",
       "      <th></th>\n",
       "      <th>count</th>\n",
       "      <th>unique</th>\n",
       "      <th>top</th>\n",
       "      <th>freq</th>\n",
       "      <th>mean</th>\n",
       "      <th>std</th>\n",
       "      <th>min</th>\n",
       "      <th>25%</th>\n",
       "      <th>50%</th>\n",
       "      <th>75%</th>\n",
       "      <th>max</th>\n",
       "      <th>Missing</th>\n",
       "      <th>%Missing</th>\n",
       "    </tr>\n",
       "  </thead>\n",
       "  <tbody>\n",
       "    <tr>\n",
       "      <th>Accident_Index</th>\n",
       "      <td>2600036</td>\n",
       "      <td>1541466</td>\n",
       "      <td>2013460234852</td>\n",
       "      <td>66</td>\n",
       "      <td>NaN</td>\n",
       "      <td>NaN</td>\n",
       "      <td>NaN</td>\n",
       "      <td>NaN</td>\n",
       "      <td>NaN</td>\n",
       "      <td>NaN</td>\n",
       "      <td>NaN</td>\n",
       "      <td>0</td>\n",
       "      <td>0.0</td>\n",
       "    </tr>\n",
       "    <tr>\n",
       "      <th>Accident_Severity</th>\n",
       "      <td>2600036</td>\n",
       "      <td>3</td>\n",
       "      <td>slight</td>\n",
       "      <td>2230664</td>\n",
       "      <td>NaN</td>\n",
       "      <td>NaN</td>\n",
       "      <td>NaN</td>\n",
       "      <td>NaN</td>\n",
       "      <td>NaN</td>\n",
       "      <td>NaN</td>\n",
       "      <td>NaN</td>\n",
       "      <td>0</td>\n",
       "      <td>0.0</td>\n",
       "    </tr>\n",
       "    <tr>\n",
       "      <th>Number_of_Vehicles</th>\n",
       "      <td>2.60004e+06</td>\n",
       "      <td>NaN</td>\n",
       "      <td>NaN</td>\n",
       "      <td>NaN</td>\n",
       "      <td>2.10505</td>\n",
       "      <td>0.930225</td>\n",
       "      <td>1</td>\n",
       "      <td>2</td>\n",
       "      <td>2</td>\n",
       "      <td>2</td>\n",
       "      <td>67</td>\n",
       "      <td>0</td>\n",
       "      <td>0.0</td>\n",
       "    </tr>\n",
       "    <tr>\n",
       "      <th>Number_of_Casualties</th>\n",
       "      <td>2.60004e+06</td>\n",
       "      <td>NaN</td>\n",
       "      <td>NaN</td>\n",
       "      <td>NaN</td>\n",
       "      <td>1.45511</td>\n",
       "      <td>1.01975</td>\n",
       "      <td>1</td>\n",
       "      <td>1</td>\n",
       "      <td>1</td>\n",
       "      <td>2</td>\n",
       "      <td>93</td>\n",
       "      <td>0</td>\n",
       "      <td>0.0</td>\n",
       "    </tr>\n",
       "    <tr>\n",
       "      <th>Date</th>\n",
       "      <td>2600036</td>\n",
       "      <td>3652</td>\n",
       "      <td>21/10/2005</td>\n",
       "      <td>1400</td>\n",
       "      <td>NaN</td>\n",
       "      <td>NaN</td>\n",
       "      <td>NaN</td>\n",
       "      <td>NaN</td>\n",
       "      <td>NaN</td>\n",
       "      <td>NaN</td>\n",
       "      <td>NaN</td>\n",
       "      <td>0</td>\n",
       "      <td>0.0</td>\n",
       "    </tr>\n",
       "  </tbody>\n",
       "</table>\n",
       "</div>"
      ],
      "text/plain": [
       "                            count   unique            top     freq     mean  \\\n",
       "Accident_Index            2600036  1541466  2013460234852       66      NaN   \n",
       "Accident_Severity         2600036        3         slight  2230664      NaN   \n",
       "Number_of_Vehicles    2.60004e+06      NaN            NaN      NaN  2.10505   \n",
       "Number_of_Casualties  2.60004e+06      NaN            NaN      NaN  1.45511   \n",
       "Date                      2600036     3652     21/10/2005     1400      NaN   \n",
       "\n",
       "                           std  min  25%  50%  75%  max  Missing  %Missing  \n",
       "Accident_Index             NaN  NaN  NaN  NaN  NaN  NaN        0       0.0  \n",
       "Accident_Severity          NaN  NaN  NaN  NaN  NaN  NaN        0       0.0  \n",
       "Number_of_Vehicles    0.930225    1    2    2    2   67        0       0.0  \n",
       "Number_of_Casualties   1.01975    1    1    1    2   93        0       0.0  \n",
       "Date                       NaN  NaN  NaN  NaN  NaN  NaN        0       0.0  "
      ]
     },
     "execution_count": 3,
     "metadata": {},
     "output_type": "execute_result"
    }
   ],
   "source": [
    "data_dictionary.save(\n",
    "    '../../data/processed/500_prep_missing_values_0514_Q1AB.pkl', \n",
    "\n",
    "\"\"\"\\\n",
    "Aggregate raw data for road accidents.\n",
    "\"\"\").head()"
   ]
  },
  {
   "cell_type": "code",
   "execution_count": 4,
   "metadata": {},
   "outputs": [
    {
     "data": {
      "text/html": [
       "<div>\n",
       "<style scoped>\n",
       "    .dataframe tbody tr th:only-of-type {\n",
       "        vertical-align: middle;\n",
       "    }\n",
       "\n",
       "    .dataframe tbody tr th {\n",
       "        vertical-align: top;\n",
       "    }\n",
       "\n",
       "    .dataframe thead th {\n",
       "        text-align: right;\n",
       "    }\n",
       "</style>\n",
       "<table border=\"1\" class=\"dataframe\">\n",
       "  <thead>\n",
       "    <tr style=\"text-align: right;\">\n",
       "      <th></th>\n",
       "      <th>count</th>\n",
       "      <th>unique</th>\n",
       "      <th>top</th>\n",
       "      <th>freq</th>\n",
       "      <th>mean</th>\n",
       "      <th>std</th>\n",
       "      <th>min</th>\n",
       "      <th>25%</th>\n",
       "      <th>50%</th>\n",
       "      <th>75%</th>\n",
       "      <th>max</th>\n",
       "      <th>Missing</th>\n",
       "      <th>%Missing</th>\n",
       "    </tr>\n",
       "  </thead>\n",
       "  <tbody>\n",
       "    <tr>\n",
       "      <th>Accident_Index</th>\n",
       "      <td>792713</td>\n",
       "      <td>591495</td>\n",
       "      <td>200506X039355</td>\n",
       "      <td>18</td>\n",
       "      <td>NaN</td>\n",
       "      <td>NaN</td>\n",
       "      <td>NaN</td>\n",
       "      <td>NaN</td>\n",
       "      <td>NaN</td>\n",
       "      <td>NaN</td>\n",
       "      <td>NaN</td>\n",
       "      <td>0</td>\n",
       "      <td>0.0</td>\n",
       "    </tr>\n",
       "    <tr>\n",
       "      <th>Accident_Severity</th>\n",
       "      <td>792713</td>\n",
       "      <td>3</td>\n",
       "      <td>slight</td>\n",
       "      <td>684785</td>\n",
       "      <td>NaN</td>\n",
       "      <td>NaN</td>\n",
       "      <td>NaN</td>\n",
       "      <td>NaN</td>\n",
       "      <td>NaN</td>\n",
       "      <td>NaN</td>\n",
       "      <td>NaN</td>\n",
       "      <td>0</td>\n",
       "      <td>0.0</td>\n",
       "    </tr>\n",
       "    <tr>\n",
       "      <th>Number_of_Vehicles</th>\n",
       "      <td>792713</td>\n",
       "      <td>NaN</td>\n",
       "      <td>NaN</td>\n",
       "      <td>NaN</td>\n",
       "      <td>2.09972</td>\n",
       "      <td>0.885037</td>\n",
       "      <td>1</td>\n",
       "      <td>2</td>\n",
       "      <td>2</td>\n",
       "      <td>2</td>\n",
       "      <td>67</td>\n",
       "      <td>0</td>\n",
       "      <td>0.0</td>\n",
       "    </tr>\n",
       "    <tr>\n",
       "      <th>Number_of_Casualties</th>\n",
       "      <td>792713</td>\n",
       "      <td>NaN</td>\n",
       "      <td>NaN</td>\n",
       "      <td>NaN</td>\n",
       "      <td>1.39917</td>\n",
       "      <td>0.993247</td>\n",
       "      <td>1</td>\n",
       "      <td>1</td>\n",
       "      <td>1</td>\n",
       "      <td>2</td>\n",
       "      <td>93</td>\n",
       "      <td>0</td>\n",
       "      <td>0.0</td>\n",
       "    </tr>\n",
       "    <tr>\n",
       "      <th>Date</th>\n",
       "      <td>792713</td>\n",
       "      <td>3652</td>\n",
       "      <td>07/12/2005</td>\n",
       "      <td>522</td>\n",
       "      <td>NaN</td>\n",
       "      <td>NaN</td>\n",
       "      <td>NaN</td>\n",
       "      <td>NaN</td>\n",
       "      <td>NaN</td>\n",
       "      <td>NaN</td>\n",
       "      <td>NaN</td>\n",
       "      <td>0</td>\n",
       "      <td>0.0</td>\n",
       "    </tr>\n",
       "  </tbody>\n",
       "</table>\n",
       "</div>"
      ],
      "text/plain": [
       "                       count  unique            top    freq     mean  \\\n",
       "Accident_Index        792713  591495  200506X039355      18      NaN   \n",
       "Accident_Severity     792713       3         slight  684785      NaN   \n",
       "Number_of_Vehicles    792713     NaN            NaN     NaN  2.09972   \n",
       "Number_of_Casualties  792713     NaN            NaN     NaN  1.39917   \n",
       "Date                  792713    3652     07/12/2005     522      NaN   \n",
       "\n",
       "                           std  min  25%  50%  75%  max  Missing  %Missing  \n",
       "Accident_Index             NaN  NaN  NaN  NaN  NaN  NaN        0       0.0  \n",
       "Accident_Severity          NaN  NaN  NaN  NaN  NaN  NaN        0       0.0  \n",
       "Number_of_Vehicles    0.885037    1    2    2    2   67        0       0.0  \n",
       "Number_of_Casualties  0.993247    1    1    1    2   93        0       0.0  \n",
       "Date                       NaN  NaN  NaN  NaN  NaN  NaN        0       0.0  "
      ]
     },
     "execution_count": 4,
     "metadata": {},
     "output_type": "execute_result"
    }
   ],
   "source": [
    "data_dictionary.save(\n",
    "    '../../data/processed/500_prep_missing_values_0514_Q1C.pkl', \n",
    "\n",
    "\"\"\"\\\n",
    "Aggregate raw data for road accidents.\n",
    "\"\"\").head()"
   ]
  },
  {
   "cell_type": "code",
   "execution_count": 5,
   "metadata": {},
   "outputs": [
    {
     "data": {
      "text/html": [
       "<div>\n",
       "<style scoped>\n",
       "    .dataframe tbody tr th:only-of-type {\n",
       "        vertical-align: middle;\n",
       "    }\n",
       "\n",
       "    .dataframe tbody tr th {\n",
       "        vertical-align: top;\n",
       "    }\n",
       "\n",
       "    .dataframe thead th {\n",
       "        text-align: right;\n",
       "    }\n",
       "</style>\n",
       "<table border=\"1\" class=\"dataframe\">\n",
       "  <thead>\n",
       "    <tr style=\"text-align: right;\">\n",
       "      <th></th>\n",
       "      <th>count</th>\n",
       "      <th>unique</th>\n",
       "      <th>top</th>\n",
       "      <th>freq</th>\n",
       "      <th>mean</th>\n",
       "      <th>std</th>\n",
       "      <th>min</th>\n",
       "      <th>25%</th>\n",
       "      <th>50%</th>\n",
       "      <th>75%</th>\n",
       "      <th>max</th>\n",
       "      <th>Missing</th>\n",
       "      <th>%Missing</th>\n",
       "    </tr>\n",
       "  </thead>\n",
       "  <tbody>\n",
       "    <tr>\n",
       "      <th>Accident_Index</th>\n",
       "      <td>2036044</td>\n",
       "      <td>1351358</td>\n",
       "      <td>2013460234852</td>\n",
       "      <td>52</td>\n",
       "      <td>NaN</td>\n",
       "      <td>NaN</td>\n",
       "      <td>NaN</td>\n",
       "      <td>NaN</td>\n",
       "      <td>NaN</td>\n",
       "      <td>NaN</td>\n",
       "      <td>NaN</td>\n",
       "      <td>0</td>\n",
       "      <td>0.0</td>\n",
       "    </tr>\n",
       "    <tr>\n",
       "      <th>Accident_Severity</th>\n",
       "      <td>2036044</td>\n",
       "      <td>3</td>\n",
       "      <td>slight</td>\n",
       "      <td>1757834</td>\n",
       "      <td>NaN</td>\n",
       "      <td>NaN</td>\n",
       "      <td>NaN</td>\n",
       "      <td>NaN</td>\n",
       "      <td>NaN</td>\n",
       "      <td>NaN</td>\n",
       "      <td>NaN</td>\n",
       "      <td>0</td>\n",
       "      <td>0.0</td>\n",
       "    </tr>\n",
       "    <tr>\n",
       "      <th>Number_of_Vehicles</th>\n",
       "      <td>2.03604e+06</td>\n",
       "      <td>NaN</td>\n",
       "      <td>NaN</td>\n",
       "      <td>NaN</td>\n",
       "      <td>2.11302</td>\n",
       "      <td>0.951588</td>\n",
       "      <td>1</td>\n",
       "      <td>2</td>\n",
       "      <td>2</td>\n",
       "      <td>2</td>\n",
       "      <td>67</td>\n",
       "      <td>0</td>\n",
       "      <td>0.0</td>\n",
       "    </tr>\n",
       "    <tr>\n",
       "      <th>Number_of_Casualties</th>\n",
       "      <td>2.03604e+06</td>\n",
       "      <td>NaN</td>\n",
       "      <td>NaN</td>\n",
       "      <td>NaN</td>\n",
       "      <td>1.478</td>\n",
       "      <td>1.03744</td>\n",
       "      <td>1</td>\n",
       "      <td>1</td>\n",
       "      <td>1</td>\n",
       "      <td>2</td>\n",
       "      <td>93</td>\n",
       "      <td>0</td>\n",
       "      <td>0.0</td>\n",
       "    </tr>\n",
       "    <tr>\n",
       "      <th>Date</th>\n",
       "      <td>2036044</td>\n",
       "      <td>3652</td>\n",
       "      <td>21/10/2005</td>\n",
       "      <td>1011</td>\n",
       "      <td>NaN</td>\n",
       "      <td>NaN</td>\n",
       "      <td>NaN</td>\n",
       "      <td>NaN</td>\n",
       "      <td>NaN</td>\n",
       "      <td>NaN</td>\n",
       "      <td>NaN</td>\n",
       "      <td>0</td>\n",
       "      <td>0.0</td>\n",
       "    </tr>\n",
       "  </tbody>\n",
       "</table>\n",
       "</div>"
      ],
      "text/plain": [
       "                            count   unique            top     freq     mean  \\\n",
       "Accident_Index            2036044  1351358  2013460234852       52      NaN   \n",
       "Accident_Severity         2036044        3         slight  1757834      NaN   \n",
       "Number_of_Vehicles    2.03604e+06      NaN            NaN      NaN  2.11302   \n",
       "Number_of_Casualties  2.03604e+06      NaN            NaN      NaN    1.478   \n",
       "Date                      2036044     3652     21/10/2005     1011      NaN   \n",
       "\n",
       "                           std  min  25%  50%  75%  max  Missing  %Missing  \n",
       "Accident_Index             NaN  NaN  NaN  NaN  NaN  NaN        0       0.0  \n",
       "Accident_Severity          NaN  NaN  NaN  NaN  NaN  NaN        0       0.0  \n",
       "Number_of_Vehicles    0.951588    1    2    2    2   67        0       0.0  \n",
       "Number_of_Casualties   1.03744    1    1    1    2   93        0       0.0  \n",
       "Date                       NaN  NaN  NaN  NaN  NaN  NaN        0       0.0  "
      ]
     },
     "execution_count": 5,
     "metadata": {},
     "output_type": "execute_result"
    }
   ],
   "source": [
    "data_dictionary.save(\n",
    "    '../../data/processed/500_prep_missing_values_0514_Q2A.pkl', \n",
    "\n",
    "\"\"\"\\\n",
    "Aggregate raw data for road accidents.\n",
    "\"\"\").head()"
   ]
  },
  {
   "cell_type": "code",
   "execution_count": 6,
   "metadata": {},
   "outputs": [
    {
     "data": {
      "text/html": [
       "<div>\n",
       "<style scoped>\n",
       "    .dataframe tbody tr th:only-of-type {\n",
       "        vertical-align: middle;\n",
       "    }\n",
       "\n",
       "    .dataframe tbody tr th {\n",
       "        vertical-align: top;\n",
       "    }\n",
       "\n",
       "    .dataframe thead th {\n",
       "        text-align: right;\n",
       "    }\n",
       "</style>\n",
       "<table border=\"1\" class=\"dataframe\">\n",
       "  <thead>\n",
       "    <tr style=\"text-align: right;\">\n",
       "      <th></th>\n",
       "      <th>count</th>\n",
       "      <th>unique</th>\n",
       "      <th>top</th>\n",
       "      <th>freq</th>\n",
       "      <th>mean</th>\n",
       "      <th>std</th>\n",
       "      <th>min</th>\n",
       "      <th>25%</th>\n",
       "      <th>50%</th>\n",
       "      <th>75%</th>\n",
       "      <th>max</th>\n",
       "      <th>Missing</th>\n",
       "      <th>%Missing</th>\n",
       "    </tr>\n",
       "  </thead>\n",
       "  <tbody>\n",
       "    <tr>\n",
       "      <th>Accident_Index</th>\n",
       "      <td>2759693</td>\n",
       "      <td>1571095</td>\n",
       "      <td>2013460234852</td>\n",
       "      <td>67</td>\n",
       "      <td>NaN</td>\n",
       "      <td>NaN</td>\n",
       "      <td>NaN</td>\n",
       "      <td>NaN</td>\n",
       "      <td>NaN</td>\n",
       "      <td>NaN</td>\n",
       "      <td>NaN</td>\n",
       "      <td>0</td>\n",
       "      <td>0.0</td>\n",
       "    </tr>\n",
       "    <tr>\n",
       "      <th>Accident_Severity</th>\n",
       "      <td>2759693</td>\n",
       "      <td>3</td>\n",
       "      <td>slight</td>\n",
       "      <td>2377366</td>\n",
       "      <td>NaN</td>\n",
       "      <td>NaN</td>\n",
       "      <td>NaN</td>\n",
       "      <td>NaN</td>\n",
       "      <td>NaN</td>\n",
       "      <td>NaN</td>\n",
       "      <td>NaN</td>\n",
       "      <td>0</td>\n",
       "      <td>0.0</td>\n",
       "    </tr>\n",
       "    <tr>\n",
       "      <th>Number_of_Vehicles</th>\n",
       "      <td>2.75969e+06</td>\n",
       "      <td>NaN</td>\n",
       "      <td>NaN</td>\n",
       "      <td>NaN</td>\n",
       "      <td>2.10598</td>\n",
       "      <td>0.9269</td>\n",
       "      <td>1</td>\n",
       "      <td>2</td>\n",
       "      <td>2</td>\n",
       "      <td>2</td>\n",
       "      <td>67</td>\n",
       "      <td>0</td>\n",
       "      <td>0.0</td>\n",
       "    </tr>\n",
       "    <tr>\n",
       "      <th>Number_of_Casualties</th>\n",
       "      <td>2.75969e+06</td>\n",
       "      <td>NaN</td>\n",
       "      <td>NaN</td>\n",
       "      <td>NaN</td>\n",
       "      <td>1.44225</td>\n",
       "      <td>1.00451</td>\n",
       "      <td>1</td>\n",
       "      <td>1</td>\n",
       "      <td>1</td>\n",
       "      <td>2</td>\n",
       "      <td>93</td>\n",
       "      <td>0</td>\n",
       "      <td>0.0</td>\n",
       "    </tr>\n",
       "    <tr>\n",
       "      <th>Date</th>\n",
       "      <td>2759693</td>\n",
       "      <td>3652</td>\n",
       "      <td>21/10/2005</td>\n",
       "      <td>1471</td>\n",
       "      <td>NaN</td>\n",
       "      <td>NaN</td>\n",
       "      <td>NaN</td>\n",
       "      <td>NaN</td>\n",
       "      <td>NaN</td>\n",
       "      <td>NaN</td>\n",
       "      <td>NaN</td>\n",
       "      <td>0</td>\n",
       "      <td>0.0</td>\n",
       "    </tr>\n",
       "  </tbody>\n",
       "</table>\n",
       "</div>"
      ],
      "text/plain": [
       "                            count   unique            top     freq     mean  \\\n",
       "Accident_Index            2759693  1571095  2013460234852       67      NaN   \n",
       "Accident_Severity         2759693        3         slight  2377366      NaN   \n",
       "Number_of_Vehicles    2.75969e+06      NaN            NaN      NaN  2.10598   \n",
       "Number_of_Casualties  2.75969e+06      NaN            NaN      NaN  1.44225   \n",
       "Date                      2759693     3652     21/10/2005     1471      NaN   \n",
       "\n",
       "                          std  min  25%  50%  75%  max  Missing  %Missing  \n",
       "Accident_Index            NaN  NaN  NaN  NaN  NaN  NaN        0       0.0  \n",
       "Accident_Severity         NaN  NaN  NaN  NaN  NaN  NaN        0       0.0  \n",
       "Number_of_Vehicles     0.9269    1    2    2    2   67        0       0.0  \n",
       "Number_of_Casualties  1.00451    1    1    1    2   93        0       0.0  \n",
       "Date                      NaN  NaN  NaN  NaN  NaN  NaN        0       0.0  "
      ]
     },
     "execution_count": 6,
     "metadata": {},
     "output_type": "execute_result"
    }
   ],
   "source": [
    "data_dictionary.save(\n",
    "    '../../data/processed/500_prep_missing_values_0514_Q2B.pkl', \n",
    "\n",
    "\"\"\"\\\n",
    "Aggregate raw data for road accidents.\n",
    "\"\"\").head()"
   ]
  },
  {
   "cell_type": "code",
   "execution_count": 12,
   "metadata": {},
   "outputs": [
    {
     "data": {
      "text/html": [
       "<div>\n",
       "<style scoped>\n",
       "    .dataframe tbody tr th:only-of-type {\n",
       "        vertical-align: middle;\n",
       "    }\n",
       "\n",
       "    .dataframe tbody tr th {\n",
       "        vertical-align: top;\n",
       "    }\n",
       "\n",
       "    .dataframe thead th {\n",
       "        text-align: right;\n",
       "    }\n",
       "</style>\n",
       "<table border=\"1\" class=\"dataframe\">\n",
       "  <thead>\n",
       "    <tr style=\"text-align: right;\">\n",
       "      <th></th>\n",
       "      <th>count</th>\n",
       "      <th>unique</th>\n",
       "      <th>top</th>\n",
       "      <th>freq</th>\n",
       "      <th>mean</th>\n",
       "      <th>std</th>\n",
       "      <th>min</th>\n",
       "      <th>25%</th>\n",
       "      <th>50%</th>\n",
       "      <th>75%</th>\n",
       "      <th>max</th>\n",
       "      <th>Missing</th>\n",
       "      <th>%Missing</th>\n",
       "    </tr>\n",
       "  </thead>\n",
       "  <tbody>\n",
       "    <tr>\n",
       "      <th>Accident_Index</th>\n",
       "      <td>2810328</td>\n",
       "      <td>1601362</td>\n",
       "      <td>2013460234852</td>\n",
       "      <td>67</td>\n",
       "      <td>NaN</td>\n",
       "      <td>NaN</td>\n",
       "      <td>NaN</td>\n",
       "      <td>NaN</td>\n",
       "      <td>NaN</td>\n",
       "      <td>NaN</td>\n",
       "      <td>NaN</td>\n",
       "      <td>0</td>\n",
       "      <td>0.0</td>\n",
       "    </tr>\n",
       "    <tr>\n",
       "      <th>Longitude</th>\n",
       "      <td>2.81033e+06</td>\n",
       "      <td>NaN</td>\n",
       "      <td>NaN</td>\n",
       "      <td>NaN</td>\n",
       "      <td>-1.42802</td>\n",
       "      <td>1.39369</td>\n",
       "      <td>-7.51623</td>\n",
       "      <td>-2.34529</td>\n",
       "      <td>-1.39056</td>\n",
       "      <td>-0.228997</td>\n",
       "      <td>1.76201</td>\n",
       "      <td>0</td>\n",
       "      <td>0.0</td>\n",
       "    </tr>\n",
       "    <tr>\n",
       "      <th>Latitude</th>\n",
       "      <td>2.81033e+06</td>\n",
       "      <td>NaN</td>\n",
       "      <td>NaN</td>\n",
       "      <td>NaN</td>\n",
       "      <td>52.558</td>\n",
       "      <td>1.42906</td>\n",
       "      <td>49.9129</td>\n",
       "      <td>51.487</td>\n",
       "      <td>52.2685</td>\n",
       "      <td>53.4516</td>\n",
       "      <td>60.7575</td>\n",
       "      <td>0</td>\n",
       "      <td>0.0</td>\n",
       "    </tr>\n",
       "    <tr>\n",
       "      <th>Accident_Severity</th>\n",
       "      <td>2810328</td>\n",
       "      <td>3</td>\n",
       "      <td>slight</td>\n",
       "      <td>2423471</td>\n",
       "      <td>NaN</td>\n",
       "      <td>NaN</td>\n",
       "      <td>NaN</td>\n",
       "      <td>NaN</td>\n",
       "      <td>NaN</td>\n",
       "      <td>NaN</td>\n",
       "      <td>NaN</td>\n",
       "      <td>0</td>\n",
       "      <td>0.0</td>\n",
       "    </tr>\n",
       "    <tr>\n",
       "      <th>Number_of_Vehicles</th>\n",
       "      <td>2.81033e+06</td>\n",
       "      <td>NaN</td>\n",
       "      <td>NaN</td>\n",
       "      <td>NaN</td>\n",
       "      <td>2.10489</td>\n",
       "      <td>0.930107</td>\n",
       "      <td>1</td>\n",
       "      <td>2</td>\n",
       "      <td>2</td>\n",
       "      <td>2</td>\n",
       "      <td>67</td>\n",
       "      <td>0</td>\n",
       "      <td>0.0</td>\n",
       "    </tr>\n",
       "  </tbody>\n",
       "</table>\n",
       "</div>"
      ],
      "text/plain": [
       "                          count   unique            top     freq     mean  \\\n",
       "Accident_Index          2810328  1601362  2013460234852       67      NaN   \n",
       "Longitude           2.81033e+06      NaN            NaN      NaN -1.42802   \n",
       "Latitude            2.81033e+06      NaN            NaN      NaN   52.558   \n",
       "Accident_Severity       2810328        3         slight  2423471      NaN   \n",
       "Number_of_Vehicles  2.81033e+06      NaN            NaN      NaN  2.10489   \n",
       "\n",
       "                         std      min      25%      50%       75%      max  \\\n",
       "Accident_Index           NaN      NaN      NaN      NaN       NaN      NaN   \n",
       "Longitude            1.39369 -7.51623 -2.34529 -1.39056 -0.228997  1.76201   \n",
       "Latitude             1.42906  49.9129   51.487  52.2685   53.4516  60.7575   \n",
       "Accident_Severity        NaN      NaN      NaN      NaN       NaN      NaN   \n",
       "Number_of_Vehicles  0.930107        1        2        2         2       67   \n",
       "\n",
       "                    Missing  %Missing  \n",
       "Accident_Index            0       0.0  \n",
       "Longitude                 0       0.0  \n",
       "Latitude                  0       0.0  \n",
       "Accident_Severity         0       0.0  \n",
       "Number_of_Vehicles        0       0.0  "
      ]
     },
     "execution_count": 12,
     "metadata": {},
     "output_type": "execute_result"
    }
   ],
   "source": [
    "data_dictionary.save(\n",
    "    '../../data/processed/500_prep_missing_values_0514_Q3A.pkl', \n",
    "\n",
    "\"\"\"\\\n",
    "Aggregate raw data for road accidents.\n",
    "\"\"\").head()"
   ]
  },
  {
   "cell_type": "code",
   "execution_count": 21,
   "metadata": {},
   "outputs": [
    {
     "data": {
      "text/html": [
       "<div>\n",
       "<style scoped>\n",
       "    .dataframe tbody tr th:only-of-type {\n",
       "        vertical-align: middle;\n",
       "    }\n",
       "\n",
       "    .dataframe tbody tr th {\n",
       "        vertical-align: top;\n",
       "    }\n",
       "\n",
       "    .dataframe thead th {\n",
       "        text-align: right;\n",
       "    }\n",
       "</style>\n",
       "<table border=\"1\" class=\"dataframe\">\n",
       "  <thead>\n",
       "    <tr style=\"text-align: right;\">\n",
       "      <th></th>\n",
       "      <th>count</th>\n",
       "      <th>unique</th>\n",
       "      <th>top</th>\n",
       "      <th>freq</th>\n",
       "      <th>mean</th>\n",
       "      <th>std</th>\n",
       "      <th>min</th>\n",
       "      <th>25%</th>\n",
       "      <th>50%</th>\n",
       "      <th>75%</th>\n",
       "      <th>max</th>\n",
       "      <th>Missing</th>\n",
       "      <th>%Missing</th>\n",
       "    </tr>\n",
       "  </thead>\n",
       "  <tbody>\n",
       "    <tr>\n",
       "      <th>Accident_Index</th>\n",
       "      <td>2133735</td>\n",
       "      <td>1325488</td>\n",
       "      <td>2013460234852</td>\n",
       "      <td>52</td>\n",
       "      <td>NaN</td>\n",
       "      <td>NaN</td>\n",
       "      <td>NaN</td>\n",
       "      <td>NaN</td>\n",
       "      <td>NaN</td>\n",
       "      <td>NaN</td>\n",
       "      <td>NaN</td>\n",
       "      <td>0</td>\n",
       "      <td>0.0</td>\n",
       "    </tr>\n",
       "    <tr>\n",
       "      <th>Longitude</th>\n",
       "      <td>2.13374e+06</td>\n",
       "      <td>NaN</td>\n",
       "      <td>NaN</td>\n",
       "      <td>NaN</td>\n",
       "      <td>-1.19098</td>\n",
       "      <td>1.22116</td>\n",
       "      <td>-7.50412</td>\n",
       "      <td>-2.06828</td>\n",
       "      <td>-1.22207</td>\n",
       "      <td>-0.190866</td>\n",
       "      <td>1.76201</td>\n",
       "      <td>0</td>\n",
       "      <td>0.0</td>\n",
       "    </tr>\n",
       "    <tr>\n",
       "      <th>Latitude</th>\n",
       "      <td>2.13374e+06</td>\n",
       "      <td>NaN</td>\n",
       "      <td>NaN</td>\n",
       "      <td>NaN</td>\n",
       "      <td>52.3433</td>\n",
       "      <td>1.15</td>\n",
       "      <td>49.9129</td>\n",
       "      <td>51.4563</td>\n",
       "      <td>52.1328</td>\n",
       "      <td>53.3776</td>\n",
       "      <td>60.311</td>\n",
       "      <td>0</td>\n",
       "      <td>0.0</td>\n",
       "    </tr>\n",
       "    <tr>\n",
       "      <th>Number_of_Vehicles</th>\n",
       "      <td>2.13374e+06</td>\n",
       "      <td>NaN</td>\n",
       "      <td>NaN</td>\n",
       "      <td>NaN</td>\n",
       "      <td>2.11117</td>\n",
       "      <td>0.921435</td>\n",
       "      <td>1</td>\n",
       "      <td>2</td>\n",
       "      <td>2</td>\n",
       "      <td>2</td>\n",
       "      <td>67</td>\n",
       "      <td>0</td>\n",
       "      <td>0.0</td>\n",
       "    </tr>\n",
       "    <tr>\n",
       "      <th>Number_of_Casualties</th>\n",
       "      <td>2.13374e+06</td>\n",
       "      <td>NaN</td>\n",
       "      <td>NaN</td>\n",
       "      <td>NaN</td>\n",
       "      <td>1.45142</td>\n",
       "      <td>1.00674</td>\n",
       "      <td>1</td>\n",
       "      <td>1</td>\n",
       "      <td>1</td>\n",
       "      <td>2</td>\n",
       "      <td>93</td>\n",
       "      <td>0</td>\n",
       "      <td>0.0</td>\n",
       "    </tr>\n",
       "  </tbody>\n",
       "</table>\n",
       "</div>"
      ],
      "text/plain": [
       "                            count   unique            top freq     mean  \\\n",
       "Accident_Index            2133735  1325488  2013460234852   52      NaN   \n",
       "Longitude             2.13374e+06      NaN            NaN  NaN -1.19098   \n",
       "Latitude              2.13374e+06      NaN            NaN  NaN  52.3433   \n",
       "Number_of_Vehicles    2.13374e+06      NaN            NaN  NaN  2.11117   \n",
       "Number_of_Casualties  2.13374e+06      NaN            NaN  NaN  1.45142   \n",
       "\n",
       "                           std      min      25%      50%       75%      max  \\\n",
       "Accident_Index             NaN      NaN      NaN      NaN       NaN      NaN   \n",
       "Longitude              1.22116 -7.50412 -2.06828 -1.22207 -0.190866  1.76201   \n",
       "Latitude                  1.15  49.9129  51.4563  52.1328   53.3776   60.311   \n",
       "Number_of_Vehicles    0.921435        1        2        2         2       67   \n",
       "Number_of_Casualties   1.00674        1        1        1         2       93   \n",
       "\n",
       "                      Missing  %Missing  \n",
       "Accident_Index              0       0.0  \n",
       "Longitude                   0       0.0  \n",
       "Latitude                    0       0.0  \n",
       "Number_of_Vehicles          0       0.0  \n",
       "Number_of_Casualties        0       0.0  "
      ]
     },
     "execution_count": 21,
     "metadata": {},
     "output_type": "execute_result"
    }
   ],
   "source": [
    "data_dictionary.save(\n",
    "    '../../data/processed/500_prep_missing_values_0514_Q3B.pkl', \n",
    "\n",
    "\"\"\"\\\n",
    "Aggregate raw data for road accidents.\n",
    "\"\"\").head()"
   ]
  },
  {
   "cell_type": "code",
   "execution_count": 9,
   "metadata": {},
   "outputs": [
    {
     "data": {
      "text/html": [
       "<div>\n",
       "<style scoped>\n",
       "    .dataframe tbody tr th:only-of-type {\n",
       "        vertical-align: middle;\n",
       "    }\n",
       "\n",
       "    .dataframe tbody tr th {\n",
       "        vertical-align: top;\n",
       "    }\n",
       "\n",
       "    .dataframe thead th {\n",
       "        text-align: right;\n",
       "    }\n",
       "</style>\n",
       "<table border=\"1\" class=\"dataframe\">\n",
       "  <thead>\n",
       "    <tr style=\"text-align: right;\">\n",
       "      <th></th>\n",
       "      <th>count</th>\n",
       "      <th>unique</th>\n",
       "      <th>top</th>\n",
       "      <th>freq</th>\n",
       "      <th>mean</th>\n",
       "      <th>std</th>\n",
       "      <th>min</th>\n",
       "      <th>25%</th>\n",
       "      <th>50%</th>\n",
       "      <th>75%</th>\n",
       "      <th>max</th>\n",
       "      <th>Missing</th>\n",
       "      <th>%Missing</th>\n",
       "    </tr>\n",
       "  </thead>\n",
       "  <tbody>\n",
       "    <tr>\n",
       "      <th>Accident_Index</th>\n",
       "      <td>2411743</td>\n",
       "      <td>1483732</td>\n",
       "      <td>198213Q011682</td>\n",
       "      <td>61</td>\n",
       "      <td>NaN</td>\n",
       "      <td>NaN</td>\n",
       "      <td>NaN</td>\n",
       "      <td>NaN</td>\n",
       "      <td>NaN</td>\n",
       "      <td>NaN</td>\n",
       "      <td>NaN</td>\n",
       "      <td>0</td>\n",
       "      <td>0.0</td>\n",
       "    </tr>\n",
       "    <tr>\n",
       "      <th>Accident_Severity</th>\n",
       "      <td>2411743</td>\n",
       "      <td>3</td>\n",
       "      <td>slight</td>\n",
       "      <td>1730154</td>\n",
       "      <td>NaN</td>\n",
       "      <td>NaN</td>\n",
       "      <td>NaN</td>\n",
       "      <td>NaN</td>\n",
       "      <td>NaN</td>\n",
       "      <td>NaN</td>\n",
       "      <td>NaN</td>\n",
       "      <td>0</td>\n",
       "      <td>0.0</td>\n",
       "    </tr>\n",
       "    <tr>\n",
       "      <th>Number_of_Vehicles</th>\n",
       "      <td>2.41174e+06</td>\n",
       "      <td>NaN</td>\n",
       "      <td>NaN</td>\n",
       "      <td>NaN</td>\n",
       "      <td>1.97715</td>\n",
       "      <td>0.965106</td>\n",
       "      <td>1</td>\n",
       "      <td>2</td>\n",
       "      <td>2</td>\n",
       "      <td>2</td>\n",
       "      <td>61</td>\n",
       "      <td>0</td>\n",
       "      <td>0.0</td>\n",
       "    </tr>\n",
       "    <tr>\n",
       "      <th>Number_of_Casualties</th>\n",
       "      <td>2.41174e+06</td>\n",
       "      <td>NaN</td>\n",
       "      <td>NaN</td>\n",
       "      <td>NaN</td>\n",
       "      <td>1.36533</td>\n",
       "      <td>0.918827</td>\n",
       "      <td>1</td>\n",
       "      <td>1</td>\n",
       "      <td>1</td>\n",
       "      <td>1</td>\n",
       "      <td>62</td>\n",
       "      <td>0</td>\n",
       "      <td>0.0</td>\n",
       "    </tr>\n",
       "    <tr>\n",
       "      <th>Date</th>\n",
       "      <td>2411743</td>\n",
       "      <td>2922</td>\n",
       "      <td>25/11/1983</td>\n",
       "      <td>2019</td>\n",
       "      <td>NaN</td>\n",
       "      <td>NaN</td>\n",
       "      <td>NaN</td>\n",
       "      <td>NaN</td>\n",
       "      <td>NaN</td>\n",
       "      <td>NaN</td>\n",
       "      <td>NaN</td>\n",
       "      <td>0</td>\n",
       "      <td>0.0</td>\n",
       "    </tr>\n",
       "  </tbody>\n",
       "</table>\n",
       "</div>"
      ],
      "text/plain": [
       "                            count   unique            top     freq     mean  \\\n",
       "Accident_Index            2411743  1483732  198213Q011682       61      NaN   \n",
       "Accident_Severity         2411743        3         slight  1730154      NaN   \n",
       "Number_of_Vehicles    2.41174e+06      NaN            NaN      NaN  1.97715   \n",
       "Number_of_Casualties  2.41174e+06      NaN            NaN      NaN  1.36533   \n",
       "Date                      2411743     2922     25/11/1983     2019      NaN   \n",
       "\n",
       "                           std  min  25%  50%  75%  max  Missing  %Missing  \n",
       "Accident_Index             NaN  NaN  NaN  NaN  NaN  NaN        0       0.0  \n",
       "Accident_Severity          NaN  NaN  NaN  NaN  NaN  NaN        0       0.0  \n",
       "Number_of_Vehicles    0.965106    1    2    2    2   61        0       0.0  \n",
       "Number_of_Casualties  0.918827    1    1    1    1   62        0       0.0  \n",
       "Date                       NaN  NaN  NaN  NaN  NaN  NaN        0       0.0  "
      ]
     },
     "execution_count": 9,
     "metadata": {},
     "output_type": "execute_result"
    }
   ],
   "source": [
    "data_dictionary.save(\n",
    "    '../../data/processed/500_prep_missing_values_7904a_Q1AB.pkl', \n",
    "\n",
    "\"\"\"\\\n",
    "Aggregate raw data for road accidents.\n",
    "\"\"\").head()"
   ]
  },
  {
   "cell_type": "code",
   "execution_count": 10,
   "metadata": {},
   "outputs": [
    {
     "data": {
      "text/html": [
       "<div>\n",
       "<style scoped>\n",
       "    .dataframe tbody tr th:only-of-type {\n",
       "        vertical-align: middle;\n",
       "    }\n",
       "\n",
       "    .dataframe tbody tr th {\n",
       "        vertical-align: top;\n",
       "    }\n",
       "\n",
       "    .dataframe thead th {\n",
       "        text-align: right;\n",
       "    }\n",
       "</style>\n",
       "<table border=\"1\" class=\"dataframe\">\n",
       "  <thead>\n",
       "    <tr style=\"text-align: right;\">\n",
       "      <th></th>\n",
       "      <th>count</th>\n",
       "      <th>unique</th>\n",
       "      <th>top</th>\n",
       "      <th>freq</th>\n",
       "      <th>mean</th>\n",
       "      <th>std</th>\n",
       "      <th>min</th>\n",
       "      <th>25%</th>\n",
       "      <th>50%</th>\n",
       "      <th>75%</th>\n",
       "      <th>max</th>\n",
       "      <th>Missing</th>\n",
       "      <th>%Missing</th>\n",
       "    </tr>\n",
       "  </thead>\n",
       "  <tbody>\n",
       "    <tr>\n",
       "      <th>Accident_Index</th>\n",
       "      <td>2411743</td>\n",
       "      <td>1483732</td>\n",
       "      <td>198213Q011682</td>\n",
       "      <td>61</td>\n",
       "      <td>NaN</td>\n",
       "      <td>NaN</td>\n",
       "      <td>NaN</td>\n",
       "      <td>NaN</td>\n",
       "      <td>NaN</td>\n",
       "      <td>NaN</td>\n",
       "      <td>NaN</td>\n",
       "      <td>0</td>\n",
       "      <td>0.0</td>\n",
       "    </tr>\n",
       "    <tr>\n",
       "      <th>Accident_Severity</th>\n",
       "      <td>2411743</td>\n",
       "      <td>3</td>\n",
       "      <td>slight</td>\n",
       "      <td>1730154</td>\n",
       "      <td>NaN</td>\n",
       "      <td>NaN</td>\n",
       "      <td>NaN</td>\n",
       "      <td>NaN</td>\n",
       "      <td>NaN</td>\n",
       "      <td>NaN</td>\n",
       "      <td>NaN</td>\n",
       "      <td>0</td>\n",
       "      <td>0.0</td>\n",
       "    </tr>\n",
       "    <tr>\n",
       "      <th>Number_of_Vehicles</th>\n",
       "      <td>2.41174e+06</td>\n",
       "      <td>NaN</td>\n",
       "      <td>NaN</td>\n",
       "      <td>NaN</td>\n",
       "      <td>1.97715</td>\n",
       "      <td>0.965106</td>\n",
       "      <td>1</td>\n",
       "      <td>2</td>\n",
       "      <td>2</td>\n",
       "      <td>2</td>\n",
       "      <td>61</td>\n",
       "      <td>0</td>\n",
       "      <td>0.0</td>\n",
       "    </tr>\n",
       "    <tr>\n",
       "      <th>Number_of_Casualties</th>\n",
       "      <td>2.41174e+06</td>\n",
       "      <td>NaN</td>\n",
       "      <td>NaN</td>\n",
       "      <td>NaN</td>\n",
       "      <td>1.36533</td>\n",
       "      <td>0.918827</td>\n",
       "      <td>1</td>\n",
       "      <td>1</td>\n",
       "      <td>1</td>\n",
       "      <td>1</td>\n",
       "      <td>62</td>\n",
       "      <td>0</td>\n",
       "      <td>0.0</td>\n",
       "    </tr>\n",
       "    <tr>\n",
       "      <th>Date</th>\n",
       "      <td>2411743</td>\n",
       "      <td>2922</td>\n",
       "      <td>25/11/1983</td>\n",
       "      <td>2019</td>\n",
       "      <td>NaN</td>\n",
       "      <td>NaN</td>\n",
       "      <td>NaN</td>\n",
       "      <td>NaN</td>\n",
       "      <td>NaN</td>\n",
       "      <td>NaN</td>\n",
       "      <td>NaN</td>\n",
       "      <td>0</td>\n",
       "      <td>0.0</td>\n",
       "    </tr>\n",
       "  </tbody>\n",
       "</table>\n",
       "</div>"
      ],
      "text/plain": [
       "                            count   unique            top     freq     mean  \\\n",
       "Accident_Index            2411743  1483732  198213Q011682       61      NaN   \n",
       "Accident_Severity         2411743        3         slight  1730154      NaN   \n",
       "Number_of_Vehicles    2.41174e+06      NaN            NaN      NaN  1.97715   \n",
       "Number_of_Casualties  2.41174e+06      NaN            NaN      NaN  1.36533   \n",
       "Date                      2411743     2922     25/11/1983     2019      NaN   \n",
       "\n",
       "                           std  min  25%  50%  75%  max  Missing  %Missing  \n",
       "Accident_Index             NaN  NaN  NaN  NaN  NaN  NaN        0       0.0  \n",
       "Accident_Severity          NaN  NaN  NaN  NaN  NaN  NaN        0       0.0  \n",
       "Number_of_Vehicles    0.965106    1    2    2    2   61        0       0.0  \n",
       "Number_of_Casualties  0.918827    1    1    1    1   62        0       0.0  \n",
       "Date                       NaN  NaN  NaN  NaN  NaN  NaN        0       0.0  "
      ]
     },
     "execution_count": 10,
     "metadata": {},
     "output_type": "execute_result"
    }
   ],
   "source": [
    "data_dictionary.save(\n",
    "    '../../data/processed/500_prep_missing_values_7904a_Q2B.pkl', \n",
    "\n",
    "\"\"\"\\\n",
    "Aggregate raw data for road accidents.\n",
    "\"\"\").head()"
   ]
  },
  {
   "cell_type": "code",
   "execution_count": 11,
   "metadata": {},
   "outputs": [
    {
     "data": {
      "text/html": [
       "<div>\n",
       "<style scoped>\n",
       "    .dataframe tbody tr th:only-of-type {\n",
       "        vertical-align: middle;\n",
       "    }\n",
       "\n",
       "    .dataframe tbody tr th {\n",
       "        vertical-align: top;\n",
       "    }\n",
       "\n",
       "    .dataframe thead th {\n",
       "        text-align: right;\n",
       "    }\n",
       "</style>\n",
       "<table border=\"1\" class=\"dataframe\">\n",
       "  <thead>\n",
       "    <tr style=\"text-align: right;\">\n",
       "      <th></th>\n",
       "      <th>count</th>\n",
       "      <th>unique</th>\n",
       "      <th>top</th>\n",
       "      <th>freq</th>\n",
       "      <th>mean</th>\n",
       "      <th>std</th>\n",
       "      <th>min</th>\n",
       "      <th>25%</th>\n",
       "      <th>50%</th>\n",
       "      <th>75%</th>\n",
       "      <th>max</th>\n",
       "      <th>Missing</th>\n",
       "      <th>%Missing</th>\n",
       "    </tr>\n",
       "  </thead>\n",
       "  <tbody>\n",
       "    <tr>\n",
       "      <th>Accident_Index</th>\n",
       "      <td>2621931</td>\n",
       "      <td>1561968</td>\n",
       "      <td>199213MU34592</td>\n",
       "      <td>192</td>\n",
       "      <td>NaN</td>\n",
       "      <td>NaN</td>\n",
       "      <td>NaN</td>\n",
       "      <td>NaN</td>\n",
       "      <td>NaN</td>\n",
       "      <td>NaN</td>\n",
       "      <td>NaN</td>\n",
       "      <td>0</td>\n",
       "      <td>0.0</td>\n",
       "    </tr>\n",
       "    <tr>\n",
       "      <th>Accident_Severity</th>\n",
       "      <td>2621931</td>\n",
       "      <td>3</td>\n",
       "      <td>slight</td>\n",
       "      <td>2047923</td>\n",
       "      <td>NaN</td>\n",
       "      <td>NaN</td>\n",
       "      <td>NaN</td>\n",
       "      <td>NaN</td>\n",
       "      <td>NaN</td>\n",
       "      <td>NaN</td>\n",
       "      <td>NaN</td>\n",
       "      <td>0</td>\n",
       "      <td>0.0</td>\n",
       "    </tr>\n",
       "    <tr>\n",
       "      <th>Number_of_Vehicles</th>\n",
       "      <td>2.62193e+06</td>\n",
       "      <td>NaN</td>\n",
       "      <td>NaN</td>\n",
       "      <td>NaN</td>\n",
       "      <td>2.09329</td>\n",
       "      <td>2.07594</td>\n",
       "      <td>1</td>\n",
       "      <td>2</td>\n",
       "      <td>2</td>\n",
       "      <td>2</td>\n",
       "      <td>192</td>\n",
       "      <td>0</td>\n",
       "      <td>0.0</td>\n",
       "    </tr>\n",
       "    <tr>\n",
       "      <th>Number_of_Casualties</th>\n",
       "      <td>2.62193e+06</td>\n",
       "      <td>NaN</td>\n",
       "      <td>NaN</td>\n",
       "      <td>NaN</td>\n",
       "      <td>1.39845</td>\n",
       "      <td>0.977695</td>\n",
       "      <td>1</td>\n",
       "      <td>1</td>\n",
       "      <td>1</td>\n",
       "      <td>1</td>\n",
       "      <td>70</td>\n",
       "      <td>0</td>\n",
       "      <td>0.0</td>\n",
       "    </tr>\n",
       "    <tr>\n",
       "      <th>Date</th>\n",
       "      <td>2621931</td>\n",
       "      <td>2922</td>\n",
       "      <td>03/07/1992</td>\n",
       "      <td>2211</td>\n",
       "      <td>NaN</td>\n",
       "      <td>NaN</td>\n",
       "      <td>NaN</td>\n",
       "      <td>NaN</td>\n",
       "      <td>NaN</td>\n",
       "      <td>NaN</td>\n",
       "      <td>NaN</td>\n",
       "      <td>0</td>\n",
       "      <td>0.0</td>\n",
       "    </tr>\n",
       "  </tbody>\n",
       "</table>\n",
       "</div>"
      ],
      "text/plain": [
       "                            count   unique            top     freq     mean  \\\n",
       "Accident_Index            2621931  1561968  199213MU34592      192      NaN   \n",
       "Accident_Severity         2621931        3         slight  2047923      NaN   \n",
       "Number_of_Vehicles    2.62193e+06      NaN            NaN      NaN  2.09329   \n",
       "Number_of_Casualties  2.62193e+06      NaN            NaN      NaN  1.39845   \n",
       "Date                      2621931     2922     03/07/1992     2211      NaN   \n",
       "\n",
       "                           std  min  25%  50%  75%  max  Missing  %Missing  \n",
       "Accident_Index             NaN  NaN  NaN  NaN  NaN  NaN        0       0.0  \n",
       "Accident_Severity          NaN  NaN  NaN  NaN  NaN  NaN        0       0.0  \n",
       "Number_of_Vehicles     2.07594    1    2    2    2  192        0       0.0  \n",
       "Number_of_Casualties  0.977695    1    1    1    1   70        0       0.0  \n",
       "Date                       NaN  NaN  NaN  NaN  NaN  NaN        0       0.0  "
      ]
     },
     "execution_count": 11,
     "metadata": {},
     "output_type": "execute_result"
    }
   ],
   "source": [
    "data_dictionary.save(\n",
    "    '../../data/processed/500_prep_missing_values_7904b_Q1AB.pkl', \n",
    "\n",
    "\"\"\"\\\n",
    "Aggregate raw data for road accidents.\n",
    "\"\"\").head()"
   ]
  },
  {
   "cell_type": "code",
   "execution_count": 12,
   "metadata": {},
   "outputs": [
    {
     "data": {
      "text/html": [
       "<div>\n",
       "<style scoped>\n",
       "    .dataframe tbody tr th:only-of-type {\n",
       "        vertical-align: middle;\n",
       "    }\n",
       "\n",
       "    .dataframe tbody tr th {\n",
       "        vertical-align: top;\n",
       "    }\n",
       "\n",
       "    .dataframe thead th {\n",
       "        text-align: right;\n",
       "    }\n",
       "</style>\n",
       "<table border=\"1\" class=\"dataframe\">\n",
       "  <thead>\n",
       "    <tr style=\"text-align: right;\">\n",
       "      <th></th>\n",
       "      <th>count</th>\n",
       "      <th>unique</th>\n",
       "      <th>top</th>\n",
       "      <th>freq</th>\n",
       "      <th>mean</th>\n",
       "      <th>std</th>\n",
       "      <th>min</th>\n",
       "      <th>25%</th>\n",
       "      <th>50%</th>\n",
       "      <th>75%</th>\n",
       "      <th>max</th>\n",
       "      <th>Missing</th>\n",
       "      <th>%Missing</th>\n",
       "    </tr>\n",
       "  </thead>\n",
       "  <tbody>\n",
       "    <tr>\n",
       "      <th>Accident_Index</th>\n",
       "      <td>2621931</td>\n",
       "      <td>1561968</td>\n",
       "      <td>199213MU34592</td>\n",
       "      <td>192</td>\n",
       "      <td>NaN</td>\n",
       "      <td>NaN</td>\n",
       "      <td>NaN</td>\n",
       "      <td>NaN</td>\n",
       "      <td>NaN</td>\n",
       "      <td>NaN</td>\n",
       "      <td>NaN</td>\n",
       "      <td>0</td>\n",
       "      <td>0.0</td>\n",
       "    </tr>\n",
       "    <tr>\n",
       "      <th>Accident_Severity</th>\n",
       "      <td>2621931</td>\n",
       "      <td>3</td>\n",
       "      <td>slight</td>\n",
       "      <td>2047923</td>\n",
       "      <td>NaN</td>\n",
       "      <td>NaN</td>\n",
       "      <td>NaN</td>\n",
       "      <td>NaN</td>\n",
       "      <td>NaN</td>\n",
       "      <td>NaN</td>\n",
       "      <td>NaN</td>\n",
       "      <td>0</td>\n",
       "      <td>0.0</td>\n",
       "    </tr>\n",
       "    <tr>\n",
       "      <th>Number_of_Vehicles</th>\n",
       "      <td>2.62193e+06</td>\n",
       "      <td>NaN</td>\n",
       "      <td>NaN</td>\n",
       "      <td>NaN</td>\n",
       "      <td>2.09329</td>\n",
       "      <td>2.07594</td>\n",
       "      <td>1</td>\n",
       "      <td>2</td>\n",
       "      <td>2</td>\n",
       "      <td>2</td>\n",
       "      <td>192</td>\n",
       "      <td>0</td>\n",
       "      <td>0.0</td>\n",
       "    </tr>\n",
       "    <tr>\n",
       "      <th>Number_of_Casualties</th>\n",
       "      <td>2.62193e+06</td>\n",
       "      <td>NaN</td>\n",
       "      <td>NaN</td>\n",
       "      <td>NaN</td>\n",
       "      <td>1.39845</td>\n",
       "      <td>0.977695</td>\n",
       "      <td>1</td>\n",
       "      <td>1</td>\n",
       "      <td>1</td>\n",
       "      <td>1</td>\n",
       "      <td>70</td>\n",
       "      <td>0</td>\n",
       "      <td>0.0</td>\n",
       "    </tr>\n",
       "    <tr>\n",
       "      <th>Date</th>\n",
       "      <td>2621931</td>\n",
       "      <td>2922</td>\n",
       "      <td>03/07/1992</td>\n",
       "      <td>2211</td>\n",
       "      <td>NaN</td>\n",
       "      <td>NaN</td>\n",
       "      <td>NaN</td>\n",
       "      <td>NaN</td>\n",
       "      <td>NaN</td>\n",
       "      <td>NaN</td>\n",
       "      <td>NaN</td>\n",
       "      <td>0</td>\n",
       "      <td>0.0</td>\n",
       "    </tr>\n",
       "  </tbody>\n",
       "</table>\n",
       "</div>"
      ],
      "text/plain": [
       "                            count   unique            top     freq     mean  \\\n",
       "Accident_Index            2621931  1561968  199213MU34592      192      NaN   \n",
       "Accident_Severity         2621931        3         slight  2047923      NaN   \n",
       "Number_of_Vehicles    2.62193e+06      NaN            NaN      NaN  2.09329   \n",
       "Number_of_Casualties  2.62193e+06      NaN            NaN      NaN  1.39845   \n",
       "Date                      2621931     2922     03/07/1992     2211      NaN   \n",
       "\n",
       "                           std  min  25%  50%  75%  max  Missing  %Missing  \n",
       "Accident_Index             NaN  NaN  NaN  NaN  NaN  NaN        0       0.0  \n",
       "Accident_Severity          NaN  NaN  NaN  NaN  NaN  NaN        0       0.0  \n",
       "Number_of_Vehicles     2.07594    1    2    2    2  192        0       0.0  \n",
       "Number_of_Casualties  0.977695    1    1    1    1   70        0       0.0  \n",
       "Date                       NaN  NaN  NaN  NaN  NaN  NaN        0       0.0  "
      ]
     },
     "execution_count": 12,
     "metadata": {},
     "output_type": "execute_result"
    }
   ],
   "source": [
    "data_dictionary.save(\n",
    "    '../../data/processed/500_prep_missing_values_df7904b_Q2B.pkl', \n",
    "\n",
    "\"\"\"\\\n",
    "Aggregate raw data for road accidents.\n",
    "\"\"\").head()"
   ]
  },
  {
   "cell_type": "code",
   "execution_count": null,
   "metadata": {
    "collapsed": true
   },
   "outputs": [],
   "source": []
  }
 ],
 "metadata": {
  "kernelspec": {
   "display_name": "Python 3",
   "language": "python",
   "name": "python3"
  },
  "language_info": {
   "codemirror_mode": {
    "name": "ipython",
    "version": 3
   },
   "file_extension": ".py",
   "mimetype": "text/x-python",
   "name": "python",
   "nbconvert_exporter": "python",
   "pygments_lexer": "ipython3",
   "version": "3.6.3"
  }
 },
 "nbformat": 4,
 "nbformat_minor": 2
}
