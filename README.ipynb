{
 "cells": [
  {
   "cell_type": "markdown",
   "metadata": {},
   "source": [
    "# UK Road Safety Data (1979- 2016)\n",
    "This collection of notebooks represents a data analysis of UK Road Safety Data from 1979 to 2016, prepared as part of a research project 'Will you Survive the Drive?' for a module called _Data Science in Practice_ for third-year computer science students (Data Science stream).\n",
    "\n",
    "This case-study is designed to analyse features of road accidents, to identify whether and how some aspects of these accidents affect road safety. \n",
    "\n",
    "The case-study is divided into three main sections:\n",
    "1. The preparation and cleaning of the raw data;\n",
    "2. The initial exploratory analysis;\n",
    "3. The research conclusions and final results presentations.\n",
    "\n",
    "Each section includes a series of notebooks focusing on different aspects of the task at hand.\n"
   ]
  },
  {
   "cell_type": "markdown",
   "metadata": {},
   "source": [
    "## Table of Contents"
   ]
  },
  {
   "cell_type": "markdown",
   "metadata": {},
   "source": [
    "### Research Questions\n",
    "The following are the key research questions that we will seek to explore and answer.\n",
    "\n",
    "* **_RQ1_: Is There a Safest Time for Travel?**\n",
    "   * **(A)**:\tIs it Safer to Drive in the Summer than in the Winter?\n",
    "   * **(B)**:\tIs it Safer to Drive During the Day-time than Night-time?\n",
    "   * **(C)**:\tAre Occupational Drivers more Dangerous than Non-Occupational Drivers?\n",
    "\n",
    "\n",
    "* **_RQ2_: What Vehicles are Involved in Most Road Accidents?**\n",
    "   * **(A)**:\tAre Newer Vehicles Safer than Older Vehicles?\n",
    "   * **(B)**:\tIs it Safer to Travel by Car than by Motorcycle?\n",
    "   \n",
    "   \n",
    "* **_RQ3_: Does Location Impact Road Safety?**\n",
    "   * **(A)**:\tIs it Safer to Drive in Urban or Rural Areas?\n",
    "   * **(B)**:\tAre Drivers from 'most Deprived' IMD Decile Regions Involved in the Most Road Accidents?"
   ]
  },
  {
   "cell_type": "markdown",
   "metadata": {},
   "source": [
    "### Datasets\n",
    "The datasets for this study were collected from the UK Government Website during March 2018. Datasets for the years 1979-2016, inclusive, were available and downloadable in CSV/ZIP format. The raw datasets are stored [here](https://data.gov.uk/dataset/road-accidents-safety-data%402013-11-16T15%3A35%3A08.302584)."
   ]
  },
  {
   "cell_type": "markdown",
   "metadata": {},
   "source": [
    "See below a list of our notebooks and their contents. Notebooks should be run in the below order.\n",
    "\n",
    "### Data Preparation and Cleaning\n",
    "A selection of notebooks dealing with the initial pre-analysis data preparation. This includes various data mapping -- such as mapping integer values to strings -- and a variety of valdidations to check for missing data, invalid data, and empty column.\n",
    "\n",
    "#### [Loading and Separating Road Accident Datasets 1979 - 2014](http://localhost:8888/notebooks/Documents/1College/3rd%20year/Semester%20Two/Data%20Science%20in%20Practice/ciara_orlaith_project/willyou_survivethedrive/notebooks/prep/100_load_roadsafety_datasets_1979-2014.ipynb)\n",
    "Deals with the loading and dividing of the individual raw datasets to produce five smaller datasets of ~3 million rows.\n",
    "\n",
    "#### [Loading and Combining Road Accident Datasets 2015 - 2016](http://localhost:8888/notebooks/Documents/1College/3rd%20year/Semester%20Two/Data%20Science%20in%20Practice/ciara_orlaith_project/willyou_survivethedrive/notebooks/prep/200_load_roadsafety_datasets_2015-2016.ipynb)\n",
    "Deals with the loading aggregation of the individual raw datasets to produce one dataset.\n",
    "\n",
    "#### [Mapping Values 1](http://localhost:8888/notebooks/Documents/1College/3rd%20year/Semester%20Two/Data%20Science%20in%20Practice/ciara_orlaith_project/willyou_survivethedrive/notebooks/prep/300_mapping_values.ipynb) , [Mapping Values 2](http://localhost:8888/notebooks/Documents/1College/3rd%20year/Semester%20Two/Data%20Science%20in%20Practice/ciara_orlaith_project/willyou_survivethedrive/notebooks/prep/400_mapping_values.ipynb)\n",
    "Replacing our numeric values with their respective string values from our dataset [Guide](http://localhost:8888/view/Documents/1College/3rd%20year/Semester%20Two/Data%20Science%20in%20Practice/ciara_orlaith_project/willyou_survivethedrive/data/raw/Road-Accident-Safety-Data-Guide.xls)\n",
    "\n",
    "#### [Dealing with Missing Values 1](http://localhost:8888/notebooks/Documents/1College/3rd%20year/Semester%20Two/Data%20Science%20in%20Practice/ciara_orlaith_project/willyou_survivethedrive/notebooks/prep/500_prep_missing_values.ipynb), [Dealing with Missing Values 2](http://localhost:8888/notebooks/Documents/1College/3rd%20year/Semester%20Two/Data%20Science%20in%20Practice/ciara_orlaith_project/willyou_survivethedrive/notebooks/prep/600_prep_missing_values.ipynb)\n",
    "Identifying and handling missing values and dropping rows with missing key values. Using masks to filter data.\n",
    "\n",
    "\n",
    "#### [Sorting Data and Finalising Question One Dataset](http://localhost:8888/notebooks/Documents/1College/3rd%20year/Semester%20Two/Data%20Science%20in%20Practice/ciara_orlaith_project/willyou_survivethedrive/notebooks/prep/700_Q1_final_prep.ipynb)\n",
    "Sorting our data by year and concatenating our datasets to form our final prep datasets which will enable us to answer research question one.\n",
    "\n",
    "\n",
    "#### [Sorting Data and Finalising Question Two Dataset](http://localhost:8888/notebooks/Documents/1College/3rd%20year/Semester%20Two/Data%20Science%20in%20Practice/ciara_orlaith_project/willyou_survivethedrive/notebooks/prep/800_Q2_final_prep.ipynb)\n",
    "Sorting our data by year and concatenating our datasets to form our final prep datasets which will enable us to answer research question two.\n",
    "\n",
    "\n",
    "#### [Sorting Data and Finalising Question Three Dataset](http://localhost:8888/notebooks/Documents/1College/3rd%20year/Semester%20Two/Data%20Science%20in%20Practice/ciara_orlaith_project/willyou_survivethedrive/notebooks/prep/900_Q3_final_prep.ipynb)\n",
    "Sorting our data by year and concatenating our datasets to form our final prep datasets which will enable us to answer research question three."
   ]
  },
  {
   "cell_type": "markdown",
   "metadata": {},
   "source": [
    "### Data Analysis\n",
    "\n",
    "#### [Analysing Seasons](http://localhost:8888/notebooks/Documents/1College/3rd%20year/Semester%20Two/Data%20Science%20in%20Practice/ciara_orlaith_project/willyou_survivethedrive/notebooks/analysis/100_Analysis_Q1A.ipynb)\n",
    "Analysis for Question One (A) - In this notebook we compare total number of road accidents and road accident severity for each season. \n",
    "\n",
    "#### [Analysing Time](http://localhost:8888/notebooks/Documents/1College/3rd%20year/Semester%20Two/Data%20Science%20in%20Practice/ciara_orlaith_project/willyou_survivethedrive/notebooks/analysis/200_Analysis_Q1B.ipynb)\n",
    "Analysis for Question One (A) - In this notebook we examine the relationship between the time of an accident - specifically Day/Night time, and the total number of road accidents, as well as accident severity.\n",
    "\n",
    "#### [Analysing Journey Purpose of Drivers](http://localhost:8888/notebooks/Documents/1College/3rd%20year/Semester%20Two/Data%20Science%20in%20Practice/ciara_orlaith_project/willyou_survivethedrive/notebooks/analysis/300_Analysis_Q1C.ipynb)\n",
    "Analysis for Question One (C) - Here we will analyse whether people who drive as part of work (eg. delivery driver) are involved in more accidents than people who do not drive for work (ie. non-occupationally). \n",
    "\n",
    "#### [Analysing Vehicle Age](http://localhost:8888/notebooks/Documents/1College/3rd%20year/Semester%20Two/Data%20Science%20in%20Practice/ciara_orlaith_project/willyou_survivethedrive/notebooks/analysis/400_Analysis_Q2A.ipynb)\n",
    "Analysis for Question Two (A) - In this notebook we look at types of vehicles are involved in the most road accidents. In particular, we will analyse the age of vehicles and determine whether or not newer vehicles are safer than older vehicles.\n",
    "\n",
    "#### [Analysing Vehicle Type](http://localhost:8888/notebooks/Documents/1College/3rd%20year/Semester%20Two/Data%20Science%20in%20Practice/ciara_orlaith_project/willyou_survivethedrive/notebooks/analysis/500_Analysis_Q2B.ipynb)\n",
    "Analysis for Question Two (B) - In this notebook we look at types of vehicles are involved in the most road accidents. In particular,  we will analyse the type of vehicle and determine which is the safest.\n",
    "\n",
    "\n",
    "#### [Analysing Location: Urban/Rural](http://localhost:8888/notebooks/Documents/1College/3rd%20year/Semester%20Two/Data%20Science%20in%20Practice/ciara_orlaith_project/willyou_survivethedrive/notebooks/analysis/600_Analysis_Q3A.ipynb)\n",
    "Analysis for Question Three (A) - In this notebook we will explore whether or not location impacts road safety. In particular, we will compare accidents in rural and urban areas and see if one is safer than the other.\n",
    "\n",
    "\n",
    "#### [Analysing Location: IMD Decile](http://localhost:8888/notebooks/Documents/1College/3rd%20year/Semester%20Two/Data%20Science%20in%20Practice/ciara_orlaith_project/willyou_survivethedrive/notebooks/analysis/700_Analysis_Q3B.ipynb)\n",
    "Analysis for Question Three (B) - In this notebook we will explore whether the IMD Decile of an area of drivers impacts road accident likelihood. In particular, we will analyse whether drivers from 'most' deprived areas are involved in more accidents than drivers from 'least' deprived areas."
   ]
  },
  {
   "cell_type": "markdown",
   "metadata": {},
   "source": [
    "### Conclusions and Results Presentation\n",
    "#### [RQ1 (A) Results -  Whether and how seasons, weather and road surface conditions impact road safety.](http://localhost:8888/notebooks/Documents/1College/3rd%20year/Semester%20Two/Data%20Science%20in%20Practice/ciara_orlaith_project/willyou_survivethedrive/notebooks/results/100_RQ1A.ipynb)\n",
    "\n",
    "#### [RQ1 (B) Results – Whether and how time and day of accidents impact road safety.](http://localhost:8888/notebooks/Documents/1College/3rd%20year/Semester%20Two/Data%20Science%20in%20Practice/ciara_orlaith_project/willyou_survivethedrive/notebooks/results/200_RQ1B.ipynb)\n",
    "\n",
    "#### [RQ1 (C) Results – Whether and how journey purpose of driver impacts road safety.](http://localhost:8888/notebooks/Documents/1College/3rd%20year/Semester%20Two/Data%20Science%20in%20Practice/ciara_orlaith_project/willyou_survivethedrive/notebooks/results/300_RQ1C.ipynb)\n",
    "\n",
    "#### [RQ2 (A) Results –  Whether and how age of vehicle impacts road safety](http://localhost:8888/notebooks/Documents/1College/3rd%20year/Semester%20Two/Data%20Science%20in%20Practice/ciara_orlaith_project/willyou_survivethedrive/notebooks/results/400_RQ2A.ipynb)\n",
    "\n",
    "#### [RQ2 (B) Results – Whether and how type of vehicle impacts road safety](http://localhost:8888/notebooks/Documents/1College/3rd%20year/Semester%20Two/Data%20Science%20in%20Practice/ciara_orlaith_project/willyou_survivethedrive/notebooks/results/500_RQ2B.ipynb)\n",
    "\n",
    "#### [RQ3 (A) Results – Whether and how urban and rural areas impact road safety](http://localhost:8888/notebooks/Documents/1College/3rd%20year/Semester%20Two/Data%20Science%20in%20Practice/ciara_orlaith_project/willyou_survivethedrive/notebooks/results/600_RQ3A.ipynb)\n",
    "\n",
    "#### [RQ3 (B) Results – Whether and how IMD Decile of drivers involved in road accidents impacts road safety ](http://localhost:8888/notebooks/Documents/1College/3rd%20year/Semester%20Two/Data%20Science%20in%20Practice/ciara_orlaith_project/willyou_survivethedrive/notebooks/results/700_RQ3B.ipynb)"
   ]
  },
  {
   "cell_type": "code",
   "execution_count": null,
   "metadata": {
    "collapsed": true
   },
   "outputs": [],
   "source": []
  }
 ],
 "metadata": {
  "kernelspec": {
   "display_name": "Python 3",
   "language": "python",
   "name": "python3"
  },
  "language_info": {
   "codemirror_mode": {
    "name": "ipython",
    "version": 3
   },
   "file_extension": ".py",
   "mimetype": "text/x-python",
   "name": "python",
   "nbconvert_exporter": "python",
   "pygments_lexer": "ipython3",
   "version": "3.6.3"
  }
 },
 "nbformat": 4,
 "nbformat_minor": 2
}
